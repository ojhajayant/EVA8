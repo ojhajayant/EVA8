{
  "cells": [
    {
      "cell_type": "markdown",
      "source": [
        "#Implementation for a neural network that can:\n",
        "\n",
        "\n",
        "1.   take 2 inputs :\n",
        "> an image from the MNIST dataset (say 5), and a random number between 0 and 9, (say 7)\n",
        "\n",
        "\n",
        "2.  and gives two outputs(as in example below) :\n",
        "> for example: the \"number\" that was represented by the MNIST image (predict 5), and the \"sum\" of this number with the random number and the input image to the network (predict 5 + 7 = 12)\n",
        "\n",
        "\n",
        "\n",
        "\n",
        "\n",
        "\n"
      ],
      "metadata": {
        "id": "-fmXf1ft9GKU"
      }
    },
    {
      "cell_type": "markdown",
      "source": [
        "#### import satements for all required Python packages."
      ],
      "metadata": {
        "id": "xGMZbnjR89wT"
      }
    },
    {
      "cell_type": "code",
      "execution_count": 1,
      "metadata": {
        "id": "r49mFAZCvZez"
      },
      "outputs": [],
      "source": [
        "from __future__ import print_function\n",
        "\n",
        "''''from  __future__ import' statements can be used on *top-of* one's Python \n",
        "2.x code to enable new language features, that are not available in the older \n",
        "versions of Python. Esp. 'from __future__ import print_function' is a \n",
        "statement that one can use at the *top-of* the Python 2.x code to enable the \n",
        "print *function* from Python 3.x. In Python 2.x, the print *statement* is \n",
        "used to print to the standard output stream, whereas in Python 3.x, the print \n",
        "*function* is used. By using from __future__ import print_function, one can \n",
        "use the print *function* in the Python 2.x code, which can make it easier to \n",
        "port the code to Python 3.x in the future. '''\n",
        "import torch\n",
        "\n",
        "'''imports the torch module. This module provides functions for working with \n",
        "PyTorch, a popular open-source machine learning library for Python that is \n",
        "based on the Torch library used primarily for natural language processing and \n",
        "computer vision tasks. PyTorch provides a high-level interface for working \n",
        "with neural networks and allows users to perform complex operations on \n",
        "tensors with strong acceleration on many-core GPUs. '''\n",
        "import torch.nn as nn\n",
        "\n",
        "'''imports the torch.nn module (into the namespace nn by convention) from the \n",
        "torch package. This module provides a set of classes and functions that are \n",
        "commonly used to build and train neural networks in PyTorch. It contains \n",
        "classes for defining various types of layers in a neural network, as well as \n",
        "methods for forward propagation, backward propagation, and optimization. '''\n",
        "import torch.nn.functional as F\n",
        "\n",
        "'''imports torch.nn.functional module into the namespace F by convention. \n",
        "This module contains all the functions in the torch.nn library (whereas other \n",
        "parts of the library contain classes) and a wide range of loss and activation \n",
        "functions, one also finds here, some convenient functions for creating neural \n",
        "nets, such as pooling functions. '''\n",
        "import torch.optim as optim\n",
        "\n",
        "'''imports the torch.optim module from the torch package into the namespace \n",
        "optim. This module provides a set of classes and functions for \n",
        "*optimizing-the-parameters* of a neural network in PyTorch. It contains \n",
        "implementations of various optimization algorithms, such as stochastic \n",
        "gradient descent (SGD), Adam, and RMSprop. By importing the optim module and \n",
        "using the classes and functions it provides, one can *train-a-neural-network* \n",
        "in PyTorch by specifying the optimization algorithm and the network's \n",
        "parameters to optimize. '''\n",
        "\n",
        "'''imports the datasets & transforms  modules from the torchvision package. \n",
        "The torchvision package is a popular library for working with image data in \n",
        "PyTorch. It contains a collection of functions and classes for loading, \n",
        "transforming, and analyzing image data. The *datasets module* provides \n",
        "classes for loading and organizing image data into datasets that can be \n",
        "easily used to train a neural network. The transforms module provides a set \n",
        "of common image transformations that can be applied to images in a dataset. \n",
        "These transformations include operations such as resizing, cropping, \n",
        "and normalizing the images. '''\n",
        "from torchvision import datasets, transforms\n",
        "import numpy as np\n",
        "from torch.utils.data import Dataset\n",
        "import matplotlib.pyplot as plt\n",
        "from torchsummary import summary\n",
        "'''module is a progress bar library that is used to provide a visual indication\n",
        "of the progress of a long-running operation in a Python script.'''\n",
        "from tqdm import tqdm"
      ]
    },
    {
      "cell_type": "markdown",
      "source": [
        "####Some globals defined here"
      ],
      "metadata": {
        "id": "QUyIIXf4dMBP"
      }
    },
    {
      "cell_type": "code",
      "execution_count": 2,
      "metadata": {
        "id": "s3kmDg87qV5E"
      },
      "outputs": [],
      "source": [
        "batch_size = 128\n",
        "epochs = 10\n",
        "train_losses_in1 = []\n",
        "train_losses_in2 = []\n",
        "test_losses_in1 = []\n",
        "test_losses_in2 = []\n",
        "train_acc_in1 = []\n",
        "train_acc_in2 = []\n",
        "test_acc_in1 = []\n",
        "test_acc_in2 = []\n",
        "class_names = [\"zero\",  # index 0\n",
        "               \"one\",  # index 1\n",
        "               \"two\",  # index 2\n",
        "               \"three\",  # index 3\n",
        "               \"four\",  # index 4\n",
        "               \"five\",  # index 5\n",
        "               \"six\",  # index 6\n",
        "               \"seven\",  # index 7\n",
        "               \"eight\",  # index 8\n",
        "               \"nine\"]  # index 9"
      ]
    },
    {
      "cell_type": "markdown",
      "source": [
        "### Custom dataset-class required here:\n",
        "The constructor takes in following params:\n",
        ">train_data (dict): \n",
        "A dictionary having two columns(/keys):-1. \"mnist_input\" {ndarry: (60000,28,28)} (representing the numpy-format MNIST training data, and named as \"train_mnist_set_array\", this is kept in numpy format, so as to be able to use the \"transform\" callable, provided as argument (\"transform_in1\") for this custom-dataset class, so as to convert to the required Tensor format, with all required posible list of transforms applied to it.\n",
        " &  2. \"rand_num_input\"{Tensor:(60000,10)} (representing the Random-number input from the [0,9] in one-hot-encoded form, named as \"train_rand_num_set_array_one_hot\", this does not require any transform, hence though there is a 2nd transform-interface provided for the 2nd input of this overall neural network (provided as argument \"transform_in2\"), butinterface not used.\n",
        "\n",
        "> test_data (dict): A dictionary having two columns(/keys):-1. \"mnist_input\" {ndarry: (10000,28,28)} (representing the numpy-format MNIST test data, and named as \"test_mnist_set_array\", this is kept in numpy format, so as to be able to use the \"transform\" callable, provided as argument (\"transform_in1\") for this custom-dataset class, so as to convert to the required Tensor format, with all required posible list of transforms applied to it.\n",
        " &  2. \"rand_num_input\"{Tensor:(60000,10)} (representing the Random-number input from the [0,9] in one-hot-encoded form, named as \"test_rand_num_set_array_one_hot\", this does not require any transform, hence though, there is a 2nd transform-interface provided for the 2nd input of this overall neural network (provided as argument \"transform_in2\"), but interface not used.\n",
        "\n",
        ">train_target (dict): A dictionary having two columns(/keys):-1. \"mnist_output\"{Tensor: (60000,)} (representing the Tensor-format MNIST train-labels/targets, and named as \"train_mnist_set_array_targets\".\n",
        " &  2. \"sum_of_mnist_rand_num_output\"{Tensor:(60000,19)} (representing the sum output expected to be from the [0,18] in one-hot-encoded form, named as \"train_sum_of_mnist_rand_num_set_array_one_hot\".\n",
        "\n",
        ">test_target (dict): A dictionary having two columns(/keys):-1. \"mnist_output\"{Tensor: (10000,)} (representing the Tensor-format MNIST test-labels/targets, and named as \"test_mnist_set_array_targets\".\n",
        " &  2. \"sum_of_mnist_rand_num_output\"{Tensor:(60000,19)} (representing the sum output expected to be from the [0,18] in one-hot-encoded form, named as \"test_sum_of_mnist_rand_num_set_array_one_hot\".\n",
        "\n",
        ">train: True if the dataset will be used in train mode(by default kept True)\n",
        "\n",
        ">test: True if the dataset will be used in test mode(by default kept False).Assert if both train & test flag true simultaneously.)\n",
        "\n",
        ">transform_in1: a \"callable\" data-transform inteface provided for the part# 1 of the neural network (made up of the CNN layers & catering to the mnist image input) By default kept as None.\n",
        "\n",
        ">transform_in2: a \"callable\" data-transform inteface provided for the part# 2 of the neural network (made up of the FC-layers & catering to the random number input) By default kept as None.\n",
        "\n",
        "\n",
        "\n",
        "\n",
        "\n",
        "            "
      ],
      "metadata": {
        "id": "1H3WSqmuAa8J"
      }
    },
    {
      "cell_type": "code",
      "execution_count": 3,
      "metadata": {
        "id": "ITeT1FOsqYEH"
      },
      "outputs": [],
      "source": [
        "class MNIST_RAND_IN_Dataset(Dataset):\n",
        "    \"\"\"Dataset For MNIST train/test & Rand-Num-In & Summation target \"\"\"\n",
        "\n",
        "    def __init__(self, train_data, test_data, train_target, test_target,\n",
        "                 train=True, test=False, transform_in1=None,\n",
        "                 transform_in2=None):\n",
        "        \"\"\"\n",
        "        Args:\n",
        "            train_data (dict): contains tensor-format train-data for both:\n",
        "            \"mnist_input\"{Tensor: (60000,28,28)} & \"rand_num_input\"{Tensor:\n",
        "            (60000,10)}\n",
        "            test_data (dict): contains tensor-format test-data for both:\n",
        "            \"mnist_input\"{Tensor: (10000,28,28)} & \"rand_num_input\"{Tensor:\n",
        "            (10000,10)}\n",
        "            train_target (dict): contains tensor-format train-targets for both:\n",
        "            \"mnist_output\"{Tensor: (60000,10)} & \"sum_of_mnist_rand_num_output\"\n",
        "            {Tensor: (60000,19)}\n",
        "            test_target (dict): contains tensor-format test-targets for both:\n",
        "            \"mnist_output\"{Tensor: (10000,10)} & \"sum_of_mnist_rand_num_output\"\n",
        "            {Tensor: (10000,19)}\n",
        "            train: True if the dataset will be used in train mode\n",
        "            test: True if the dataset will be used in test mode (assert if both\n",
        "                  train & test flag true simultaneously.\n",
        "            transform_in1: a \"callable\" data-transform inteface for mnist image\n",
        "            transform_in2: a \"callable\" data-transform inteface for rand-num in\n",
        "        \"\"\"\n",
        "        #Below class-variables receive the data from\n",
        "        #various dict described above (and implmented under \n",
        "        #a function named: \"source_data()\")\n",
        "\n",
        "        #the numpy-format MNIST training data\n",
        "        self.x_train_mnist = train_data[\"mnist_input\"]\n",
        "        #the Random-number input from the [0,9] in \n",
        "        #one-hot-encoded form\n",
        "        self.x_train_rand_num = train_data[\"rand_num_input\"]\n",
        "        #the numpy-format MNIST test data\n",
        "        self.x_test_mnist = test_data[\"mnist_input\"]\n",
        "        #the Random-number input from the [0,9] in \n",
        "        #one-hot-encoded form\n",
        "        self.x_test_rand_num = test_data[\"rand_num_input\"]\n",
        "        #the Tensor-format MNIST train-labels/targets\n",
        "        self.y_train_mnist = train_target[\"mnist_output\"]\n",
        "        #the sum output expected to be from the [0,18] \n",
        "        #in one-hot-encoded form\n",
        "        self.y_train_sum_of_mnist_rand_num = \\\n",
        "            train_target[\"sum_of_mnist_rand_num_output\"]\n",
        "        #the Tensor-format MNIST train-labels/targets\n",
        "        self.y_test_mnist = test_target[\"mnist_output\"]\n",
        "        #the sum output expected to be from the [0,18] \n",
        "        #in one-hot-encoded form\n",
        "        self.y_test_sum_of_mnist_rand_num = \\\n",
        "            test_target[\"sum_of_mnist_rand_num_output\"]\n",
        "        #train cfg-flag\n",
        "        self.train = train\n",
        "        #test cfg-flag\n",
        "        self.test = test\n",
        "        #assert if the user tried creating test & train\n",
        "        #dataset with both train & test flags same at \n",
        "        #the same time.\n",
        "        assert self.train != self.test\n",
        "        #Transform interface for Input1(mnist image)\n",
        "        #of the NN (being used for ToTensor & Normalize)\n",
        "        self.transform_in1 = transform_in1\n",
        "        #Transform interface for Input2(mrand-num)\n",
        "        #of the NN (not used curently)\n",
        "        self.transform_in2 = transform_in2\n",
        "\n",
        "    def __len__(self):\n",
        "        if self.train:\n",
        "            assert len(self.x_train_mnist) == len(self.x_train_rand_num)\n",
        "            return len(self.x_train_mnist)\n",
        "        else:\n",
        "            assert len(self.x_test_mnist) == len(self.x_test_rand_num)\n",
        "            return len(self.x_test_mnist)\n",
        "\n",
        "    def __getitem__(self, idx):\n",
        "        if torch.is_tensor(idx):\n",
        "            idx = idx.tolist()\n",
        "        if self.train:\n",
        "            #create an input tuple for 2 inputs\n",
        "            (mnist_image, rand_num_in) = (self.x_train_mnist[idx],\n",
        "                                          self.x_train_rand_num[idx])\n",
        "            #create an target tuple for 2 outputs\n",
        "            (mnist_target, sum_of_mnist_rand_num_target) = \\\n",
        "                (self.y_train_mnist[idx],\n",
        "                 self.y_train_sum_of_mnist_rand_num[idx])\n",
        "            # print(\"Before transform, values:\")\n",
        "            # plt.imshow(mnist_image)\n",
        "            # plt.show()\n",
        "        else:\n",
        "            (mnist_image, rand_num_in) = (self.x_test_mnist[idx],\n",
        "                                          self.x_test_rand_num[idx])\n",
        "            (mnist_target, sum_of_mnist_rand_num_target) = \\\n",
        "                (self.y_test_mnist[idx], self.y_test_sum_of_mnist_rand_num[idx])\n",
        "        if self.transform_in1:\n",
        "            # if torch.is_tensor(mnist_image):\n",
        "            #     mnist_image = mnist_image.numpy()\n",
        "            mnist_image = self.transform_in1(mnist_image)\n",
        "            # print(\"self.transform_in1: \", self.transform_in1)\n",
        "            # print(\"After transform, values:\")\n",
        "            # plt.imshow(mnist_image.numpy().squeeze())\n",
        "            # plt.show()\n",
        "        if self.transform_in2:\n",
        "            # if torch.is_tensor(mnist_image):\n",
        "            #     mnist_image = mnist_image.numpy()\n",
        "            rand_num_in = self.transform_in2(rand_num_in)\n",
        "\n",
        "        return (mnist_image, rand_num_in), (mnist_target,\n",
        "                                            sum_of_mnist_rand_num_target)\n",
        "\n",
        "\n"
      ]
    },
    {
      "cell_type": "markdown",
      "source": [
        "##### Helper function to provide one-hot-encoded tensor of given width from an input tensor(this one is used by another function, named \"source_data\" which in turn is used to create various required dicts for the custom-dataset class)\n",
        "The method takes in 2 args & returns one as follows:\n",
        ">input_tensor : an input tensor to be encoded\n",
        "\n",
        ">width : width of the one-hot-encoded result.\n",
        "\n",
        ">one_hot: one-hot-encoded tensor output"
      ],
      "metadata": {
        "id": "ak-q6LYkWoef"
      }
    },
    {
      "cell_type": "code",
      "source": [
        "def one_hot_custom(input_tensor, width):\n",
        "    # Convert the data type of the input tensor to long\n",
        "    input_tensor = input_tensor.long()\n",
        "    # Create an identity matrix with the desired one-hot encoded width\n",
        "    one_hot_tensor = torch.eye(width, dtype=torch.float)\n",
        "\n",
        "    # Use the input tensor as an index tensor to index into the one-hot tensor\n",
        "    one_hot = one_hot_tensor[input_tensor]\n",
        "    return one_hot"
      ],
      "metadata": {
        "id": "V2BoZ98lWnPl"
      },
      "execution_count": 4,
      "outputs": []
    },
    {
      "cell_type": "markdown",
      "source": [
        "### Function to provide various data/target dicts and feed into the  custom-dataset class descibed earlier:\n",
        "The method takes in no args but returns following:\n",
        ">train_data (dict): same as described in earlier comments under class-dataset description\n",
        "\n",
        ">test_data (dict): same as described in earlier comments under class-dataset description\n",
        "\n",
        ">train_target: same as described in earlier comments under class-dataset description\n",
        "\n",
        ">test_target: same as described in earlier comments under class-dataset description"
      ],
      "metadata": {
        "id": "lZ7R9ksjT5WP"
      }
    },
    {
      "cell_type": "code",
      "source": [
        "def source_data():\n",
        "    # 1. convert the Torchvision MNIST train and test datasets into NumPy\n",
        "    # arrays & take some already tensor format data it provides:\n",
        "    train_mnist_set = datasets.MNIST('./data', train=True, download=True)\n",
        "    test_mnist_set = datasets.MNIST('./data', train=False, download=True)\n",
        "    train_mnist_set_array = train_mnist_set.data.numpy()  # Later transforms\n",
        "    # require them to be numpy array\n",
        "    train_mnist_set_array_targets = train_mnist_set.targets  # a Tensor format\n",
        "    # already.\n",
        "    test_mnist_set_array = test_mnist_set.data.numpy()  # Later transforms\n",
        "    # require them to be numpy array\n",
        "    test_mnist_set_array_targets = test_mnist_set.targets  # a Tensor format\n",
        "    # already.\n",
        "    mnist_train_set_length = len(train_mnist_set)\n",
        "    mnist_test_set_length = len(test_mnist_set)\n",
        "\n",
        "    # 2.  Create a tensor of mnist_train_set_length (60000) random\n",
        "    # numbers from [0-9] in a shape (60000,) & mnist_test_set_length (10000)\n",
        "    # random numbers from [0-9] in a shape (10000,)\n",
        "\n",
        "    # First set the random seed for reproducibility\n",
        "    np.random.seed(0)\n",
        "    # Generate mnist_train_set_length (60000) number of, random integers\n",
        "    # between 0 and 9.Following creates tensor with 60000 elements\n",
        "    # filled with random integers from the range [0, 10).The upper\n",
        "    # bound is not included, so the generated integers will range from 0 to 9\n",
        "    train_rand_num_set_array = torch.randint(low=0, high=10,\n",
        "                                             size=(mnist_train_set_length,),\n",
        "                                             dtype=torch.int)\n",
        "    # similar for test here:\n",
        "    test_rand_num_set_array = torch.randint(low=0, high=10,\n",
        "                                            size=(mnist_test_set_length,),\n",
        "                                            dtype=torch.int)\n",
        "\n",
        "    # 3.    Given two tensors (train_mnist_set_array_targets &\n",
        "    # train_rand_num_set_array) of shape(60000,) with random numbers,\n",
        "    # following creates a tensor with same shape i.e.( 60000,)the sum of\n",
        "    # the elements.The resulting array will have the same shape as the input\n",
        "    # arrays, and will contain the sums of the corresponding elements.\n",
        "    train_sum_of_mnist_rand_num_set_array = \\\n",
        "        torch.add(train_mnist_set_array_targets,\n",
        "                  train_rand_num_set_array)\n",
        "\n",
        "    # Following will generate two tensors with of shape(10000,)\n",
        "    #and calculate the sum of the elements from the same rows of the\n",
        "    # arrays. The resulting tensor will have the same shape as the input\n",
        "    # arrays, and will contain the sums of the corresponding elements.\n",
        "    test_sum_of_mnist_rand_num_set_array = \\\n",
        "        torch.add(test_mnist_set_array_targets,\n",
        "                  test_rand_num_set_array)\n",
        "\n",
        "    # 4.Now encode train & test tensors for inputs & targets for rand_in\n",
        "    # and Sum_out  only.\n",
        "    train_rand_num_set_array_one_hot = one_hot_custom(train_rand_num_set_array,\n",
        "                                                      width=10)\n",
        "    test_rand_num_set_array_one_hot = one_hot_custom(test_rand_num_set_array,\n",
        "                                                     width=10)\n",
        "    train_sum_of_mnist_rand_num_set_array_one_hot = \\\n",
        "        one_hot_custom(train_sum_of_mnist_rand_num_set_array,\n",
        "                       width=19)\n",
        "    test_sum_of_mnist_rand_num_set_array_one_hot = \\\n",
        "        one_hot_custom(test_sum_of_mnist_rand_num_set_array,\n",
        "                       width=19)\n",
        "\n",
        "    train_data = {\n",
        "        # The provision to transform the  \"mnist_input\" part below, into the\n",
        "        # required [0,1) distribution Tensor has already been made under the\n",
        "        # custom Dataset class (with a class constructor-argument named:\n",
        "        # \"transform_in1\", where *_in1 represents the transformation required\n",
        "        # for the input to the part # 1 of this neural network.Similar other\n",
        "        # class constructor-argument named: \"transform_in2\" has also been\n",
        "        # provided to potentially cater to the input to the part #2 of this\n",
        "        # neural network.But currently kept as None.\n",
        "        \"mnist_input\": train_mnist_set_array,\n",
        "        # Below part of the data input: \"rand_num_input\" don't undergo\n",
        "        # transformation through the custom-Dataset inbuilt transform.\n",
        "        #Its already kept in form of a one-hot-encoded tensor.\n",
        "        \"rand_num_input\": train_rand_num_set_array_one_hot\n",
        "    }\n",
        "    train_target = {\n",
        "        # the Tensor-format MNIST train-labels/targets\n",
        "        \"mnist_output\": train_mnist_set_array_targets,\n",
        "        \n",
        "        # the sum output expected to be from the [0,18] in \n",
        "        #one-hot-encoded form\n",
        "        \"sum_of_mnist_rand_num_output\":\n",
        "            train_sum_of_mnist_rand_num_set_array_one_hot\n",
        "    }\n",
        "\n",
        "    test_data = {\n",
        "        # The provision to transform the  \"mnist_input\" part below, into the\n",
        "        # required [0,1) distribution Tensor has already been made under the\n",
        "        # custom Dataset class (with a class constructor-argument named:\n",
        "        # \"transform_in1\", where *_in1 represents the transformation required\n",
        "        # for the input to the part # 1 of this neural network.Similar other\n",
        "        # class constructor-argument named: \"transform_in2\" has also been\n",
        "        # provided to potentially cater to the input to the part #2 of this\n",
        "        # neural network.But currently kept as None.\n",
        "        \"mnist_input\": test_mnist_set_array,\n",
        "        # Below part of the data input: \"rand_num_input\" don't undergo\n",
        "        # transformation through the custom-Dataset inbuilt transform.\n",
        "        #Its already kept in form of a one-hot-encoded tensor.\n",
        "        \"rand_num_input\": test_rand_num_set_array_one_hot\n",
        "    }\n",
        "\n",
        "    test_target = {\n",
        "        # the Tensor-format MNIST train-labels/targets\n",
        "        \"mnist_output\": test_mnist_set_array_targets,\n",
        "        # the sum output expected to be from the [0,18] in \n",
        "        #one-hot-encoded form\n",
        "        \"sum_of_mnist_rand_num_output\":\n",
        "            test_sum_of_mnist_rand_num_set_array_one_hot\n",
        "    }\n",
        "    return train_data, test_data, train_target, test_target"
      ],
      "metadata": {
        "id": "ZwFbIpA8Tvlk"
      },
      "execution_count": 5,
      "outputs": []
    },
    {
      "cell_type": "markdown",
      "source": [
        "#####helper function, to display some of the mnist image data along with rand-in, & sum out, obtained from the above dataset (using dataloader given much below in this code-page.)\n",
        "The method takes in 2 args & returns nothing as follows:\n",
        ">data_ldr : an input dataloader (a usage much below in this page)\n",
        "\n",
        ">num_times : display the sample how many times(default 5)\n",
        "\n"
      ],
      "metadata": {
        "id": "hIM2oBhuddij"
      }
    },
    {
      "cell_type": "code",
      "source": [
        "def display_few_batch_samples(data_ldr, num_times=5):\n",
        "    for i in range(num_times):\n",
        "        dataiter = next(iter(data_ldr))\n",
        "        (mnist_image, rand_num_in), (mnist_target,\n",
        "                                     sum_of_mnist_rand_num_target) = dataiter\n",
        "\n",
        "        print(\"mnist_image.shape: \", mnist_image.shape)\n",
        "        print(\"rand_num_in.shape: \", rand_num_in.shape)\n",
        "        print(\"mnist_target.shape: \", mnist_target.shape)\n",
        "        print(\"sum_of_mnist_rand_num_target.shape: \",\n",
        "              sum_of_mnist_rand_num_target.shape)\n",
        "        img_number = np.random.randint(mnist_image.shape[0])\n",
        "        print(\"rand_num_in[{}]=  {}\".format(img_number,\n",
        "                                            rand_num_in[img_number].argmax()))\n",
        "        print(\"mnist_target[{}]=  {}\".format(img_number,\n",
        "                                             mnist_target[img_number].argmax()))\n",
        "        print(\"sum_of_mnist_rand_num_target[{}]=  {}\".format(\n",
        "            img_number,\n",
        "            sum_of_mnist_rand_num_target[img_number].argmax()))\n",
        "        plt.figure().suptitle('{} '.format(\n",
        "            class_names[mnist_target[img_number].argmax()]),\n",
        "            fontsize=20)\n",
        "        _ = plt.imshow(mnist_image.squeeze().numpy()[img_number, ::],\n",
        "                       interpolation='nearest')\n",
        "        plt.show()"
      ],
      "metadata": {
        "id": "dlvOKQ_qTlyn"
      },
      "execution_count": 6,
      "outputs": []
    },
    {
      "cell_type": "markdown",
      "source": [
        "#####For the neural network(NN), the mnsit image goes thru the given layering below, which, with an input image size of 28x28x1.This forms the first \"part\" of the NN.Actually here, this layering is leveraged off the earlier session assignment, but now merged to cater to the  additional rand-num input and sum_of_mnist_rand_rum output too.The additional set of inputs and outputs are taken thru a layering of fully connected layers.\n",
        "\n",
        ">Please note that for the FC-part a provision is made to potentially go for 2 inputs as well (though currently only one input rand_num goes thru), In case in future experiment an additional input is required that can also be concatenated along (in all one-hot-enoded formats)\n",
        "\n",
        "The Net class construct hence provides these args:\n",
        ">num_inputs_for_fc_part=1 (provision for concatenated 2 outputs, currently only one)\n",
        "\n",
        ">sum_out_features=19 (width 19 one hot encoded sum_out related FC has these out features)\n",
        "\n",
        ">num_hidden_fc_features=100 (a hidden in between FC layer requires these, by default 100)\n"
      ],
      "metadata": {
        "id": "Y8aNGO_2gLp4"
      }
    },
    {
      "cell_type": "markdown",
      "source": [
        "Input Channels/Image  |  Conv2d/Transform      | Output Channels | RF\n",
        "---------------------|--------------|----------------------|------\n",
        "**28x28x1**              | **(3x3x1)x32**   |      **28x28x32**(padding=1) |      **3x3**\n",
        "             |          `ReLU`  | \n",
        "**28x28x32**             | **(3x3x32)x64**  |      **28x28x64**(padding=1) |      **5x5**  \n",
        "             |          `ReLU`  | \n",
        "**28x28x64**             | *MP(2x2)*  |      **14x14x64** |      **10x10**  \n",
        "**14x14x64**             | **(3x3x64)x128** | **14x14x128**(padding=1)  |  **12x12**\n",
        "             |          `ReLU`  | \n",
        "**14x14x128**            | **(3x3x128)x256**| **14x14x256** (padding=1)|   **14x14** \n",
        "             |          `ReLU`  |\n",
        "**14x14x256**            | *MP(2x2)*  |      **7x7x256** |      **28x28**\n",
        "**7x7x256**              | **(3x3x256)x512**  |**5x5x512** (no padding)|      **30x30**\n",
        "             |          `ReLU`  |   \n",
        "**5x5x512**              | **(3x3x512)x1024**  | **3x3x1024** (no padding)  |  **32x32** \n",
        "             |          `ReLU`  | \n",
        "**3x3x1024**             | **(3x3x1024)x10**  | **1x1x10** (no padding)  |  **34x34**"
      ],
      "metadata": {
        "id": "xsgNsf-Cf78H"
      }
    },
    {
      "cell_type": "code",
      "execution_count": 7,
      "metadata": {
        "id": "SK2vjKwyd7tu"
      },
      "outputs": [],
      "source": [
        "class Net(nn.Module):\n",
        "    \"\"\"\n",
        "    defines a new class called Net, that inherits from the nn.Module class.\n",
        "    This class is used to define a *custom neural network* in PyTorch. With\n",
        "    the  creation a new Net class, one can define the structure of the\n",
        "    network by adding layers and defining the forward propagation method.\n",
        "    \"\"\"\n",
        "\n",
        "    def __init__(self, num_inputs_for_fc_part=1, sum_out_features=19,\n",
        "                 num_hidden_fc_features=100):\n",
        "        super(Net, self).__init__()\n",
        "        # Logical-grouping of the \"Part 1\" of Neural Network, which (in parallel\n",
        "        # with an independent 2nd part of Neural Network), handles the MNIST\n",
        "        # Image label and predicts an MNIST Label out).This part is\n",
        "        # \"structurally\" (i.e. storable parameters/weights wise) composed of\n",
        "        # convolutional layers (with required functional associations to various\n",
        "        # \"functional\"  max-pool, activation etc. layers provided under upcoming\n",
        "        # \"forward propagation\" method named as \"forward\".\n",
        "        # input:28x28x1, kernel_size=3x3,  output:28x28x32, RF:3x3\n",
        "        self.conv1 = nn.Conv2d(in_channels=1, out_channels=32,\n",
        "                               kernel_size=(3, 3), padding=1, bias=False)\n",
        "        # input:28x28x32, kernel_size=3x3, output:28x28x64, RF:5x5\n",
        "        self.conv2 = nn.Conv2d(in_channels=32, out_channels=64,\n",
        "                               kernel_size=(3, 3), padding=1, bias=False)\n",
        "        # MaxPool2d(2, 2):  # input:28x28x64, output:14x14x64, RF:10x10\n",
        "        # input:14x14x64,  kernel_size=3x3,  output:14x14x128, RF:12x12\n",
        "        self.conv3 = nn.Conv2d(in_channels=64, out_channels=128,\n",
        "                               kernel_size=(3, 3), padding=1, bias=False)\n",
        "        # input:14x14x128, kernel_size=3x3,  output:14x14x256, RF:14x14\n",
        "        self.conv4 = nn.Conv2d(in_channels=128, out_channels=256,\n",
        "                               kernel_size=(3, 3), padding=1, bias=False)\n",
        "        # MaxPool2d(2, 2)  # input:14x14x256, output:7x7x256, RF:28x28\n",
        "        # input:7x7x256, kernel_size=3x3,  output:5x5x512(no padding), RF:30x30\n",
        "        self.conv5 = nn.Conv2d(in_channels=256, out_channels=512,\n",
        "                               kernel_size=(3, 3), bias=False)\n",
        "        # input:5x5x512, kernel_size=3x3, output:3x3x1024 (no padding), RF:32x32\n",
        "        self.conv6 = nn.Conv2d(in_channels=512, out_channels=1024,\n",
        "                               kernel_size=(3, 3), bias=False)\n",
        "        # input:3x3x1024,  kernel_size=3x3, output:1x1x10(no padding), RF:34x34\n",
        "        self.mnist_out_conv = nn.Conv2d(in_channels=1024, out_channels=10,\n",
        "                                        kernel_size=(3, 3), bias=False)\n",
        "\n",
        "        # Logical-grouping of the \"Part 2\" of Neural Network, which (in\n",
        "        # parallel with an \"independent\" (with implementation as shown in the\n",
        "        # forward method below) 1st part of Neural Network, handles\n",
        "        # the Random Number input (and also optionally with the current MNIST\n",
        "        # label as a separate future experiment) and predicts Sum of this \n",
        "        # random-num with the MNIST label out).This part is \"structurally\"\n",
        "        # (i.e. storable parameters/weights wise) being composed of \n",
        "        # fully-connected layers here (with other required functional \n",
        "        # associations etc provided under (the same as earlier) upcoming \n",
        "        # \"forward propagation\" method named \"forward\".\n",
        "        self.num_inputs_for_fc_part = num_inputs_for_fc_part  # 1 or 2\n",
        "        self.num_hidden_fc_features = num_hidden_fc_features  # 100\n",
        "        self.sum_out_features = sum_out_features  # 19\n",
        "        # in_features=20 is [10 from MNIST-label, 10 from rand_num in]\n",
        "        assert self.num_inputs_for_fc_part in (1, 2), \\\n",
        "            \"num_inputs_for_fc_part must be 1 or 2\"\n",
        "        self.fc1 = nn.Linear(in_features=10 * self.num_inputs_for_fc_part,\n",
        "                             out_features=self.num_hidden_fc_features,\n",
        "                             bias=False)  #\n",
        "        # self.num_hidden_fc_features (default value 100 here) is the\n",
        "        # capacity boost (an intermediate hidden-layer expansion) to this 2nd\n",
        "        # part of this Neural network, which is made up of all fully connected\n",
        "        # layers and which caters to the random num input (with/without the\n",
        "        # current MNIST label) and generates a 19 wide one-hot-encoded\n",
        "        # sum-output\n",
        "        self.fc2 = nn.Linear(in_features=self.num_hidden_fc_features,\n",
        "                             out_features=self.num_hidden_fc_features,\n",
        "                             bias=False)\n",
        "        self.sum_out_fc = nn.Linear(in_features=self.num_hidden_fc_features,\n",
        "                                    out_features=self.sum_out_features,\n",
        "                                    bias=False)\n",
        "\n",
        "    def forward(self, t1, t2, t3=None):  #\n",
        "        # t3 or mnist_label_in (for a future experiment, is by default None.\n",
        "        #(and by default we cater to just 2 inputs: 1. t1: mnist-image and \n",
        "        # 2.t2:rand-number (10-wide one-hot-encoded number)) But as our \n",
        "        # expectation with such 2 \"random\" inputs with no correlation (along \n",
        "        # with an equally un-correlated Output sum-label) is that they won't \n",
        "        # let this neural network learn(for the 2nd part), hence as a future\n",
        "        # experiment a provision is made to input a 3rd input: t3 too, in form \n",
        "        # of: \"current-mnist-label\" too.With this experiment of using an\n",
        "        # additional mnist-label input along with the random number input is\n",
        "        # that there are chances for neural network to learn now?? (with \n",
        "        # pre-stored randon num input values, for each mnist data along with\n",
        "        # the calculated pre-stored sum of mnist labels and random numbers)\n",
        "\n",
        "        ##### START OF--Functional-grouping of the \"Part 1\" of Neural Network\n",
        "        # Input Layer for Part #1\n",
        "        mnist_image_conv = t1\n",
        "\n",
        "        # 1st Conv2d layer for Part #1:\n",
        "        mnist_image_conv = self.conv1(mnist_image_conv)\n",
        "        mnist_image_conv = F.relu(mnist_image_conv)\n",
        "\n",
        "        # 2nd Conv2d layer for Part #1::\n",
        "        mnist_image_conv = self.conv2(mnist_image_conv)\n",
        "        mnist_image_conv = F.relu(mnist_image_conv)\n",
        "        mnist_image_conv = F.max_pool2d(mnist_image_conv, kernel_size=(2, 2),\n",
        "                                        stride=2)\n",
        "\n",
        "        # 3rd Conv2d layer for Part #1::\n",
        "        mnist_image_conv = self.conv3(mnist_image_conv)\n",
        "        mnist_image_conv = F.relu(mnist_image_conv)\n",
        "\n",
        "        # 4th Conv2d layer for Part #1::\n",
        "        mnist_image_conv = self.conv4(mnist_image_conv)\n",
        "        mnist_image_conv = F.relu(mnist_image_conv)\n",
        "        mnist_image_conv = F.max_pool2d(mnist_image_conv, kernel_size=(2, 2),\n",
        "                                        stride=2)\n",
        "\n",
        "        # 5th Conv2d layer for Part #1::\n",
        "        mnist_image_conv = self.conv5(mnist_image_conv)\n",
        "        mnist_image_conv = F.relu(mnist_image_conv)\n",
        "\n",
        "        # 6th Conv2d layer for Part #1::\n",
        "        mnist_image_conv = self.conv6(mnist_image_conv)\n",
        "        mnist_image_conv = F.relu(mnist_image_conv)\n",
        "\n",
        "        # Final Conv-layer for part1 SHOULD be WITHOUT ReLU!\n",
        "        mnist_image_conv = self.mnist_out_conv(\n",
        "            mnist_image_conv)  # Final conv2d layer for part 1\n",
        "        mnist_image_conv = mnist_image_conv.view(-1, 10)\n",
        "        #Below log_softmax is being removed as F.cross_entropy will be used \n",
        "        #for the two independent set of inputs, and cross-entropy combines\n",
        "        #softmax+nll-loss together.\n",
        "        # mnist_image = F.log_softmax(mnist_image, dim=1)\n",
        "        #####  END OF--Functional-grouping of the \"Part 1\" of Neural Network\n",
        "\n",
        "        #####  START OF--Functional-grouping of the \"Part 2\" of Neural Network\n",
        "        # First we decide here to send either the single one-hot-encoded randum\n",
        "        # num input, or the concat of the one-hot-encoded randum num input with\n",
        "        # current one-hot-encoded mnist label\n",
        "        if t3 is not None:  # i.e. If we want to experiment with a 3rd\n",
        "            # input t3 (representing the current MNIST-label: mnist_label)\n",
        "            # Concatenate t2 (representing rand_num input) and t3 (representing\n",
        "            # mnist_label input) along the second dimension & get that as the\n",
        "            # input to the part #2 of this neural-network.\n",
        "            t_nn_part2_fc = torch.cat((t2, t3), dim=1)\n",
        "        else:\n",
        "            # If mnist_label input is not provided, just get rand_num input\n",
        "            # as the input to the part #2 of this neural-network.\n",
        "            t_nn_part2_fc = t2\n",
        "\n",
        "            # Input Layer for Part #2\n",
        "        sum_output_fc = t_nn_part2_fc\n",
        "        sum_output_fc = sum_output_fc.reshape(-1,\n",
        "                                              self.num_inputs_for_fc_part * 10)\n",
        "\n",
        "        # 1st fully-connected layer fc1 for Part #2:\n",
        "        sum_output_fc = self.fc1(sum_output_fc)\n",
        "        sum_output_fc = F.relu(sum_output_fc)\n",
        "        sum_output_fc = self.fc2(sum_output_fc)\n",
        "        sum_output_fc = F.relu(sum_output_fc)\n",
        "\n",
        "        # 2nd fully-connected layer self.sum_out (last of this Part2 of this\n",
        "        # NN--no ReLU)\n",
        "        sum_output_fc = self.sum_out_fc(sum_output_fc)\n",
        "        #Below log_softmax is being removed as F.cross_entropy will be used \n",
        "        #for the two independent set of inputs, and cross-entropy combines\n",
        "        # sum_output = F.log_softmax(sum_output, dim=1)\n",
        "\n",
        "        #####  END OF--Functional-grouping of the \"Part 2\" of Neural Network\n",
        "\n",
        "        return mnist_image_conv, sum_output_fc\n"
      ]
    },
    {
      "cell_type": "code",
      "execution_count": 8,
      "metadata": {
        "id": "IMVYXQO6eaG9"
      },
      "outputs": [],
      "source": [
        "def get_correct_pred_count(preds, labels):\n",
        "    \"\"\"\n",
        "    Args:\n",
        "        preds (Tensor-2D): contains a 2-rank tensor of predictions\n",
        "        labels (Tensor-2D): contains a 2-rank tensor of ground-truth labels\n",
        "    \"\"\"\n",
        "    return preds.argmax(dim=1).eq(labels.argmax(dim=1)).sum().item()\n",
        "\n",
        "\n",
        "def train_model(model, device, train_loader, optimizer_in1, optimizer_in2):\n",
        "    \"\"\"\n",
        "    A train function for a neural network is a function that is used to train\n",
        "    the network on a dataset. The function typically performs the following\n",
        "    steps:\n",
        "    1. Iterate over the training dataset in mini-batches using a loop.\n",
        "    2. For each mini-batch, pass the data through the network to make\n",
        "    predictions.\n",
        "    3. Calculate the loss (error) of the predictions using a loss\n",
        "    function.\n",
        "    4. Use the optimizer to update the network's weights and biases\n",
        "    based on the loss.\n",
        "    5. Repeat the above steps for a specified number of epochs (iterations over\n",
        "    the entire dataset).\n",
        "    \"\"\"\n",
        "    model.train()\n",
        "    '''model.train() sets the model to train mode. This is typically done \n",
        "    because some models have different behaviors in training and evaluation \n",
        "    modes. For example, the model may use dropout regularization when in \n",
        "    training mode but not in evaluation mode. '''\n",
        "    pbar = tqdm(train_loader)\n",
        "    correct_in1 = 0\n",
        "    correct_in2 = 0\n",
        "    processed_in1 = 0\n",
        "    processed_in2 = 0\n",
        "    '''above creates a progress bar using the tqdm library. The progress bar \n",
        "    will be used to show the progress of the training loop. '''\n",
        "    for batch_idx, (batch_in1, batch_in2) in enumerate(pbar):\n",
        "        '''starts a for loop that will iterate over the training dataset in \n",
        "        mini-batches. The enumerate function is used to add a counter to the \n",
        "        loop so that the current mini-batch index can be tracked. The \n",
        "        progress bar pbar is passed as the argument to the enumerate function \n",
        "        so that it can be updated on each iteration of the loop. '''\n",
        "        (mnist_image_batch, rand_num_in_batch) = batch_in1\n",
        "        (mnist_target_batch, sum_of_mnist_rand_num_target_batch) = \\\n",
        "            batch_in2\n",
        "        data_in1, target_in1 = \\\n",
        "            mnist_image_batch.to(device), mnist_target_batch.to(device)\n",
        "        data_in2, target_in2 = \\\n",
        "            rand_num_in_batch.to(device), \\\n",
        "            sum_of_mnist_rand_num_target_batch.to(device)\n",
        "        '''above moves the mini-batch data and targets to the specified \n",
        "        device (e.g. CPU or GPU). '''\n",
        "        optimizer_in1.zero_grad()\n",
        "        optimizer_in2.zero_grad()\n",
        "        '''In PyTorch, for every mini-batch during the training phase, \n",
        "        we typically want to explicitly set the gradients to zero before \n",
        "        starting to do backpropagation (i.e., updating the Weights) because \n",
        "        PyTorch accumulates the gradients on subsequent backward \n",
        "        passes.i.e.the default action is set to accumulate (i.e. sum) the \n",
        "        gradients on every loss.backward() call. Because of this, when one \n",
        "        starts training loop, should zero out the gradients so that the \n",
        "        parameter update correctly. Otherwise, the gradient would be a \n",
        "        combination of the old gradient, which has already been used to \n",
        "        update model parameters, and the newly-computed gradient. '''\n",
        "        output_in1, output_in2 = model(data_in1, data_in2)\n",
        "        '''above passes the mini-batch data through the model to make \n",
        "        predictions. '''\n",
        "        loss_in1 = F.cross_entropy(output_in1, target_in1)\n",
        "        train_losses_in1.append(loss_in1.item())\n",
        "        loss_in2 = F.cross_entropy(output_in2, target_in2)\n",
        "        train_losses_in2.append(loss_in2.item())\n",
        "\n",
        "        loss_in1.backward()\n",
        "        loss_in2.backward()\n",
        "        '''above calculates the gradients of the loss with respect to the \n",
        "        model's parameters. This is done using backpropagation. '''\n",
        "        optimizer_in1.step()\n",
        "        optimizer_in2.step()\n",
        "        '''above updates the model's parameters using the gradients and the \n",
        "        optimizer's update rule. '''\n",
        "        pred_in1 = output_in1.argmax(dim=1,\n",
        "                                     keepdim=True)  # get the index of the max\n",
        "        # log-probability\n",
        "        pred_in2 = output_in2.argmax(dim=1,\n",
        "                                     keepdim=True)  # get the index of the max\n",
        "        # log-probability\n",
        "        correct_in1 += pred_in1.eq(target_in1.view_as(pred_in1)).sum().item()\n",
        "        correct_in2 += get_correct_pred_count(pred_in2, target_in2)\n",
        "        processed_in1 += len(data_in1)\n",
        "        processed_in2 += len(data_in2)\n",
        "        '''updates the progress bar with the current loss and batch index. \n",
        "        This allows the user to see the progress of the training loop and the \n",
        "        current loss. '''\n",
        "        pbar.set_description(desc=f'loss_in1={loss_in1.item()}  '\n",
        "                                  f'loss_in2={loss_in2.item()} '\n",
        "                                  f'Accuracy_in1= '\n",
        "                                  f'{correct_in1}/{len(train_loader.dataset)} '\n",
        "                                  f'({100 * correct_in1 / processed_in1:0.2f})%'\n",
        "                                  f'Accuracy_in2= '\n",
        "                                  f'{correct_in2}/{len(train_loader.dataset)} '\n",
        "                                  f'({100 * correct_in2 / processed_in2:0.2f})%'\n",
        "                                  f'batch_id={batch_idx}')\n",
        "\n",
        "\n",
        "def test_model(model, device, test_loader):\n",
        "    model.eval()\n",
        "    '''model.eval() sets the model to test mode. This is typically done \n",
        "    because some models have different behaviors in training and evaluation \n",
        "    modes. '''\n",
        "    test_loss_in1 = 0\n",
        "    test_loss_in2 = 0\n",
        "    correct_in1 = 0\n",
        "    correct_in2 = 0\n",
        "    with torch.no_grad():\n",
        "        '''When testing a model, don't want to compute gradients since we are \n",
        "        not training the model. Disabling gradients can save memory and can \n",
        "        make the computations faster. This is why it is common to see a \n",
        "        torch.no_grad() context manager used inside a test function. It \n",
        "        prevents the computations inside the block from tracking gradients, \n",
        "        which can save memory and improve performance. '''\n",
        "        for (batch_in1, batch_in2) in test_loader:\n",
        "            (mnist_image_batch, rand_num_in_batch) = batch_in1\n",
        "            (mnist_target_batch, sum_of_mnist_rand_num_target_batch) = \\\n",
        "                batch_in2\n",
        "            data_in1, target_in1 = \\\n",
        "                mnist_image_batch.to(device), mnist_target_batch.to(device)\n",
        "            data_in2, target_in2 = \\\n",
        "                rand_num_in_batch.to(device), \\\n",
        "                sum_of_mnist_rand_num_target_batch.to(device)\n",
        "            output_in1, output_in2 = model(data_in1, data_in2)\n",
        "            test_loss_in1 += \\\n",
        "                F.cross_entropy(output_in1, target_in1,\n",
        "                                reduction='sum').item()  # sum\n",
        "            test_loss_in2 += \\\n",
        "                F.cross_entropy(output_in2, target_in2,\n",
        "                                reduction='sum').item()  # sum\n",
        "            # up batch loss\n",
        "            pred_in1 = output_in1.argmax(dim=1, keepdim=True)  # get the\n",
        "            # index of the max log-probability\n",
        "            pred_in2 = output_in1.argmax(dim=1, keepdim=True)  # get the\n",
        "            # index of the max log-probability\n",
        "            correct_in1 += pred_in1.eq(\n",
        "                target_in1.view_as(pred_in1)).sum().item()\n",
        "            correct_in2 += get_correct_pred_count(pred_in2, target_in2)\n",
        "\n",
        "            '''Here, pred and target are tensors that represent the model's \n",
        "            predictions and the true targets, respectively. The .eq() method \n",
        "            is used to compare the two tensors element-wise, and returns a \n",
        "            tensor of the same shape with binary values (0 or 1) indicating \n",
        "            whether the corresponding elements in pred and target are equal. \n",
        "            The .sum() method is used to sum all the elements in the tensor, \n",
        "            and the .item() method is used to convert the resulting scalar \n",
        "            tensor to a Python scalar. So the overall effect of this code is \n",
        "            to compute the number of correct predictions made by the model \n",
        "            and add it to the correct variable. '''\n",
        "\n",
        "    '''below test_loss is a variable that represents the average loss across \n",
        "    all the test examples, and test_loader.dataset is a dataset object that \n",
        "    contains all the test examples. The len() function is used to compute the \n",
        "    number of examples in the dataset, and this value is used to divide the \n",
        "    test_loss by the number of examples. The result is the average loss per \n",
        "    example, which is a more useful metric for evaluating the model's \n",
        "    performance. '''\n",
        "    test_loss_in1 /= len(test_loader.dataset)\n",
        "    test_loss_in2 /= len(test_loader.dataset)\n",
        "\n",
        "    print(\n",
        "        '\\nTest set: Average loss_in1: {:.4f}, '\n",
        "        'Accuracy_in1: {}/{} ({:.0f}%)\\n'.format(test_loss_in1,\n",
        "                                                 correct_in1,\n",
        "                                                 len(test_loader.dataset),\n",
        "                                                 100. * correct_in1 /\n",
        "                                                 len(test_loader.dataset)))\n",
        "\n",
        "    print(\n",
        "        '\\nTest set: Average loss_in2: {:.4f}, '\n",
        "        'Accuracy_in2: {}/{} ({:.0f}%)\\n'.format(test_loss_in2,\n",
        "                                                 correct_in2,\n",
        "                                                 len(test_loader.dataset),\n",
        "                                                 100. * correct_in2 /\n",
        "                                                 len(test_loader.dataset)))"
      ]
    },
    {
      "cell_type": "code",
      "execution_count": 9,
      "metadata": {
        "id": "fGXGEnQve07-",
        "colab": {
          "base_uri": "https://localhost:8080/",
          "height": 1000
        },
        "outputId": "9b4777cd-a11a-4236-95b7-568a0b92654d"
      },
      "outputs": [
        {
          "output_type": "stream",
          "name": "stdout",
          "text": [
            "CUDA Available? True\n",
            "device:  cuda\n",
            "\n",
            "\t***Display some of the data thus generated:\n",
            "\n",
            "mnist_image.shape:  torch.Size([128, 1, 28, 28])\n",
            "rand_num_in.shape:  torch.Size([128, 10])\n",
            "mnist_target.shape:  torch.Size([128])\n",
            "sum_of_mnist_rand_num_target.shape:  torch.Size([128, 19])\n",
            "rand_num_in[44]=  0\n",
            "mnist_target[44]=  0\n",
            "sum_of_mnist_rand_num_target[44]=  6\n"
          ]
        },
        {
          "output_type": "display_data",
          "data": {
            "text/plain": [
              "<Figure size 432x288 with 1 Axes>"
            ],
            "image/png": "[encoded data removed]"
          },
          "metadata": {
            "needs_background": "light"
          }
        },
        {
          "output_type": "stream",
          "name": "stdout",
          "text": [
            "mnist_image.shape:  torch.Size([128, 1, 28, 28])\n",
            "rand_num_in.shape:  torch.Size([128, 10])\n",
            "mnist_target.shape:  torch.Size([128])\n",
            "sum_of_mnist_rand_num_target.shape:  torch.Size([128, 19])\n",
            "rand_num_in[47]=  2\n",
            "mnist_target[47]=  0\n",
            "sum_of_mnist_rand_num_target[47]=  6\n"
          ]
        },
        {
          "output_type": "display_data",
          "data": {
            "text/plain": [
              "<Figure size 432x288 with 1 Axes>"
            ],
            "image/png": "[encoded data removed]"
          },
          "metadata": {
            "needs_background": "light"
          }
        },
        {
          "output_type": "stream",
          "name": "stdout",
          "text": [
            "mnist_image.shape:  torch.Size([128, 1, 28, 28])\n",
            "rand_num_in.shape:  torch.Size([128, 10])\n",
            "mnist_target.shape:  torch.Size([128])\n",
            "sum_of_mnist_rand_num_target.shape:  torch.Size([128, 19])\n",
            "rand_num_in[117]=  7\n",
            "mnist_target[117]=  0\n",
            "sum_of_mnist_rand_num_target[117]=  16\n"
          ]
        },
        {
          "output_type": "display_data",
          "data": {
            "text/plain": [
              "<Figure size 432x288 with 1 Axes>"
            ],
            "image/png": "[encoded data removed]"
          },
          "metadata": {
            "needs_background": "light"
          }
        },
        {
          "output_type": "stream",
          "name": "stdout",
          "text": [
            "mnist_image.shape:  torch.Size([128, 1, 28, 28])\n",
            "rand_num_in.shape:  torch.Size([128, 10])\n",
            "mnist_target.shape:  torch.Size([128])\n",
            "sum_of_mnist_rand_num_target.shape:  torch.Size([128, 19])\n",
            "rand_num_in[64]=  2\n",
            "mnist_target[64]=  0\n",
            "sum_of_mnist_rand_num_target[64]=  5\n"
          ]
        },
        {
          "output_type": "display_data",
          "data": {
            "text/plain": [
              "<Figure size 432x288 with 1 Axes>"
            ],
            "image/png": "[encoded data removed]"
          },
          "metadata": {
            "needs_background": "light"
          }
        },
        {
          "output_type": "stream",
          "name": "stdout",
          "text": [
            "mnist_image.shape:  torch.Size([128, 1, 28, 28])\n",
            "rand_num_in.shape:  torch.Size([128, 10])\n",
            "mnist_target.shape:  torch.Size([128])\n",
            "sum_of_mnist_rand_num_target.shape:  torch.Size([128, 19])\n",
            "rand_num_in[67]=  7\n",
            "mnist_target[67]=  0\n",
            "sum_of_mnist_rand_num_target[67]=  11\n"
          ]
        },
        {
          "output_type": "display_data",
          "data": {
            "text/plain": [
              "<Figure size 432x288 with 1 Axes>"
            ],
            "image/png": "[encoded data removed]"
          },
          "metadata": {
            "needs_background": "light"
          }
        }
      ],
      "source": [
        "SEED = 1\n",
        "cuda = torch.cuda.is_available()\n",
        "print(\"CUDA Available?\", cuda)\n",
        "device = torch.device(\"cuda\" if cuda else \"cpu\")\n",
        "print(\"device: \", device)\n",
        "\n",
        "# For reproducibility\n",
        "torch.manual_seed(SEED)\n",
        "if cuda:\n",
        "    torch.cuda.manual_seed(SEED)\n",
        "# Create a consolidated Dataset:\n",
        "train_data, test_data, train_target, test_target = source_data()\n",
        "train_data_set = MNIST_RAND_IN_Dataset(train_data, test_data, train_target,\n",
        "                                       test_target,\n",
        "                                       train=True, test=False,\n",
        "                                       # Required transforms for In1(for\n",
        "                                       # part 1 of the NN)\n",
        "                                       transform_in1=transforms.Compose(\n",
        "                                           [  # for input 1 mnist image only\n",
        "                                               transforms.ToTensor(),\n",
        "                                               transforms.Normalize(\n",
        "                                                   (0.1307,),\n",
        "                                                   (0.3081,))\n",
        "                                           ])\n",
        "                                       # Not Required transforms for In2(for\n",
        "                                       # part 2 of the NN)\n",
        "                                       )\n",
        "test_data_set = MNIST_RAND_IN_Dataset(train_data, test_data, train_target,\n",
        "                                      test_target,\n",
        "                                      train=False, test=True,\n",
        "                                      # Required transforms for In1(for\n",
        "                                      # part 1 of the NN)\n",
        "                                      transform_in1=transforms.Compose(\n",
        "                                          [  # for input 1 mnist image only\n",
        "                                              transforms.ToTensor(),\n",
        "                                              transforms.Normalize(\n",
        "                                                  (0.1307,),\n",
        "                                                  (0.3081,))\n",
        "                                          ])\n",
        "                                      # Not Required transforms for In2(for\n",
        "                                      # part 2 of the NN)\n",
        "                                      )\n",
        "train_dataloader_args = dict(shuffle=True, batch_size=batch_size,\n",
        "                             num_workers=2,\n",
        "                             pin_memory=True) if cuda else \\\n",
        "    dict(shuffle=False, batch_size=batch_size)\n",
        "test_dataloader_args = dict(shuffle=True, batch_size=batch_size,\n",
        "                            num_workers=2, pin_memory=True) if cuda else \\\n",
        "    dict(shuffle=True, batch_size=batch_size)\n",
        "# train dataloader\n",
        "train_loader = torch.utils.data.DataLoader(train_data_set,\n",
        "                                           **train_dataloader_args)\n",
        "# test dataloader\n",
        "test_loader = torch.utils.data.DataLoader(test_data_set,\n",
        "                                          **test_dataloader_args)\n",
        "print(\"\\n\\t***Display some of the data thus generated:\\n\")\n",
        "display_few_batch_samples(train_loader)"
      ]
    },
    {
      "cell_type": "markdown",
      "source": [
        "###Finally train and test the neural network (there were many in-between debug steps, like starting out with single sampl, going on to batch sample & testing backpropagation and gradient updates & loss and accuracy checks, that were performed at my own end, and are not displayed here)Here The final test and train function are used to display the final set of results.At this point, the progress bars and the messages show the improvements in the results for the MNSIT predictions but a dismal 1% for the sum_out prediction (which was kind of expected as the input and output spaces are from a random distribution and hence network is not supposed to learn for the 2nd part)"
      ],
      "metadata": {
        "id": "iDPmXR7Lsj0B"
      }
    },
    {
      "cell_type": "code",
      "source": [
        "model = Net(1).to(device)\n",
        "'''above creates an instance of a PyTorch neural network model, and then \n",
        "moves the model to the specified device (CPU or GPU). In this case, \n",
        "Net() creates an instance of a neural network class called Net, and the to(\n",
        "device) method moves the model to the device specified by the device \n",
        "variable. This line of code is typically used in conjunction with the device \n",
        "variable being set to a torch.device object that represents the device (CPU \n",
        "or GPU) on which the model should be allocated '''\n",
        "\n",
        "'''below optim.SGD() function is used to create the optimizer objectss, and it \n",
        "takes several arguments. The first argument is the model.parameters(), \n",
        "which tells the optimizer which parameters of the model to update during \n",
        "training. The lr argument specifies the learning rate, which determines the \n",
        "size of the step that the optimizer takes in the direction of the gradient. \n",
        "The momentum argument specifies the momentum, which is a technique that can \n",
        "improve the performance of the optimizer and can help the model converge \n",
        "faster. In this case, the optimizer is configured to use a learning rate of \n",
        "0.01 and a momentum of 0.9. '''\n",
        "optimizer_in1 = optim.SGD(params=[param for name, param in\n",
        "                                  model.named_parameters() if\n",
        "                                  'conv' in name], lr=0.01, momentum=0.9)\n",
        "optimizer_in2 = optim.SGD(params=[param for name, param in\n",
        "                                  model.named_parameters() if\n",
        "                                  'fc' in name], lr=0.01, momentum=0.9)\n",
        "\n",
        "'''This following code trains a model for one epoch and then tests the model \n",
        "on the test set.  '''\n",
        "for epoch in range(0, 10):\n",
        "    print(\"EPOCH:\", epoch + 1)\n",
        "    train_model(model, device, train_loader, optimizer_in1, optimizer_in2)\n",
        "    test_model(model, device, test_loader)"
      ],
      "metadata": {
        "colab": {
          "base_uri": "https://localhost:8080/"
        },
        "id": "za8OUCfhqsqB",
        "outputId": "c220ba10-0e57-453c-bcb9-c2a97f8eab28"
      },
      "execution_count": 10,
      "outputs": [
        {
          "output_type": "stream",
          "name": "stdout",
          "text": [
            "EPOCH: 1\n"
          ]
        },
        {
          "output_type": "stream",
          "name": "stderr",
          "text": [
            "loss_in1=0.16461284458637238  loss_in2=2.5868406295776367 Accuracy_in1= 52431/60000 (87.39)%Accuracy_in2= 593/60000 (0.99)%batch_id=468: 100%|██████████| 469/469 [00:18<00:00, 24.69it/s]\n"
          ]
        },
        {
          "output_type": "stream",
          "name": "stdout",
          "text": [
            "\n",
            "Test set: Average loss_in1: 0.0612, Accuracy_in1: 9798/10000 (98%)\n",
            "\n",
            "\n",
            "Test set: Average loss_in2: 2.5501, Accuracy_in2: 104/10000 (1%)\n",
            "\n",
            "EPOCH: 2\n"
          ]
        },
        {
          "output_type": "stream",
          "name": "stderr",
          "text": [
            "loss_in1=0.02296634577214718  loss_in2=2.411694049835205 Accuracy_in1= 58965/60000 (98.28)%Accuracy_in2= 593/60000 (0.99)%batch_id=468: 100%|██████████| 469/469 [00:17<00:00, 27.17it/s]\n"
          ]
        },
        {
          "output_type": "stream",
          "name": "stdout",
          "text": [
            "\n",
            "Test set: Average loss_in1: 0.0378, Accuracy_in1: 9871/10000 (99%)\n",
            "\n",
            "\n",
            "Test set: Average loss_in2: 2.3789, Accuracy_in2: 104/10000 (1%)\n",
            "\n",
            "EPOCH: 3\n"
          ]
        },
        {
          "output_type": "stream",
          "name": "stderr",
          "text": [
            "loss_in1=0.06819497793912888  loss_in2=2.325798511505127 Accuracy_in1= 59313/60000 (98.86)%Accuracy_in2= 593/60000 (0.99)%batch_id=468: 100%|██████████| 469/469 [00:19<00:00, 23.61it/s]\n"
          ]
        },
        {
          "output_type": "stream",
          "name": "stdout",
          "text": [
            "\n",
            "Test set: Average loss_in1: 0.0342, Accuracy_in1: 9898/10000 (99%)\n",
            "\n",
            "\n",
            "Test set: Average loss_in2: 2.3362, Accuracy_in2: 104/10000 (1%)\n",
            "\n",
            "EPOCH: 4\n"
          ]
        },
        {
          "output_type": "stream",
          "name": "stderr",
          "text": [
            "loss_in1=0.038997381925582886  loss_in2=2.325326919555664 Accuracy_in1= 59533/60000 (99.22)%Accuracy_in2= 593/60000 (0.99)%batch_id=468: 100%|██████████| 469/469 [00:20<00:00, 22.71it/s]\n"
          ]
        },
        {
          "output_type": "stream",
          "name": "stdout",
          "text": [
            "\n",
            "Test set: Average loss_in1: 0.0265, Accuracy_in1: 9909/10000 (99%)\n",
            "\n",
            "\n",
            "Test set: Average loss_in2: 2.3230, Accuracy_in2: 104/10000 (1%)\n",
            "\n",
            "EPOCH: 5\n"
          ]
        },
        {
          "output_type": "stream",
          "name": "stderr",
          "text": [
            "loss_in1=0.023021982982754707  loss_in2=2.311291456222534 Accuracy_in1= 59664/60000 (99.44)%Accuracy_in2= 593/60000 (0.99)%batch_id=468: 100%|██████████| 469/469 [00:19<00:00, 24.26it/s]\n"
          ]
        },
        {
          "output_type": "stream",
          "name": "stdout",
          "text": [
            "\n",
            "Test set: Average loss_in1: 0.0247, Accuracy_in1: 9917/10000 (99%)\n",
            "\n",
            "\n",
            "Test set: Average loss_in2: 2.3163, Accuracy_in2: 104/10000 (1%)\n",
            "\n",
            "EPOCH: 6\n"
          ]
        },
        {
          "output_type": "stream",
          "name": "stderr",
          "text": [
            "loss_in1=0.004348824732005596  loss_in2=2.3146703243255615 Accuracy_in1= 59728/60000 (99.55)%Accuracy_in2= 593/60000 (0.99)%batch_id=468: 100%|██████████| 469/469 [00:18<00:00, 25.39it/s]\n"
          ]
        },
        {
          "output_type": "stream",
          "name": "stdout",
          "text": [
            "\n",
            "Test set: Average loss_in1: 0.0333, Accuracy_in1: 9893/10000 (99%)\n",
            "\n",
            "\n",
            "Test set: Average loss_in2: 2.3130, Accuracy_in2: 104/10000 (1%)\n",
            "\n",
            "EPOCH: 7\n"
          ]
        },
        {
          "output_type": "stream",
          "name": "stderr",
          "text": [
            "loss_in1=0.0016020615585148335  loss_in2=2.3381497859954834 Accuracy_in1= 59749/60000 (99.58)%Accuracy_in2= 593/60000 (0.99)%batch_id=468: 100%|██████████| 469/469 [00:19<00:00, 24.31it/s]\n"
          ]
        },
        {
          "output_type": "stream",
          "name": "stdout",
          "text": [
            "\n",
            "Test set: Average loss_in1: 0.0253, Accuracy_in1: 9923/10000 (99%)\n",
            "\n",
            "\n",
            "Test set: Average loss_in2: 2.3081, Accuracy_in2: 104/10000 (1%)\n",
            "\n",
            "EPOCH: 8\n"
          ]
        },
        {
          "output_type": "stream",
          "name": "stderr",
          "text": [
            "loss_in1=0.017069902271032333  loss_in2=2.319537401199341 Accuracy_in1= 59847/60000 (99.75)%Accuracy_in2= 593/60000 (0.99)%batch_id=468: 100%|██████████| 469/469 [00:19<00:00, 23.71it/s]\n"
          ]
        },
        {
          "output_type": "stream",
          "name": "stdout",
          "text": [
            "\n",
            "Test set: Average loss_in1: 0.0270, Accuracy_in1: 9917/10000 (99%)\n",
            "\n",
            "\n",
            "Test set: Average loss_in2: 2.3129, Accuracy_in2: 104/10000 (1%)\n",
            "\n",
            "EPOCH: 9\n"
          ]
        },
        {
          "output_type": "stream",
          "name": "stderr",
          "text": [
            "loss_in1=0.0015650457935407758  loss_in2=2.324920654296875 Accuracy_in1= 59848/60000 (99.75)%Accuracy_in2= 593/60000 (0.99)%batch_id=468: 100%|██████████| 469/469 [00:19<00:00, 24.68it/s]\n"
          ]
        },
        {
          "output_type": "stream",
          "name": "stdout",
          "text": [
            "\n",
            "Test set: Average loss_in1: 0.0261, Accuracy_in1: 9926/10000 (99%)\n",
            "\n",
            "\n",
            "Test set: Average loss_in2: 2.3122, Accuracy_in2: 104/10000 (1%)\n",
            "\n",
            "EPOCH: 10\n"
          ]
        },
        {
          "output_type": "stream",
          "name": "stderr",
          "text": [
            "loss_in1=0.0033914356026798487  loss_in2=2.316932439804077 Accuracy_in1= 59881/60000 (99.80)%Accuracy_in2= 593/60000 (0.99)%batch_id=468: 100%|██████████| 469/469 [00:19<00:00, 23.85it/s]\n"
          ]
        },
        {
          "output_type": "stream",
          "name": "stdout",
          "text": [
            "\n",
            "Test set: Average loss_in1: 0.0282, Accuracy_in1: 9910/10000 (99%)\n",
            "\n",
            "\n",
            "Test set: Average loss_in2: 2.3111, Accuracy_in2: 104/10000 (1%)\n",
            "\n"
          ]
        }
      ]
    },
    {
      "cell_type": "code",
      "source": [],
      "metadata": {
        "id": "xxBiAv4Brven"
      },
      "execution_count": 10,
      "outputs": []
    }
  ],
  "metadata": {
    "colab": {
      "provenance": []
    },
    "gpuClass": "standard",
    "kernelspec": {
      "display_name": "Python 3",
      "name": "python3"
    },
    "language_info": {
      "name": "python"
    },
    "accelerator": "GPU"
  },
  "nbformat": 4,
  "nbformat_minor": 0
}