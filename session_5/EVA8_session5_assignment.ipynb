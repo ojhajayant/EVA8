{
  "cells": [
    {
      "cell_type": "markdown",
      "source": [
        "# Make 3 versions of 4th Session assignment's best model :\n",
        "> 1. Network with Group Normalization\n",
        "\n",
        "> 2. Network with Layer Normalization\n",
        "\n",
        "> 3. Network with L1 + BN\n",
        "\n",
        "\n",
        "> Write a single model.py file that includes GN/LN/BN and takes an argument to decide which normalization to include.\n",
        "\n",
        "> Write a single notebook file to run all the 3 models above for 20 epochs each\n",
        "\n",
        "> Create these graphs:\n",
        "> 1. Graph 1: Test/Validation Loss for all 3 models together\n",
        "> 2. Graph 2: Test/Validation Accuracy for 3 models together\n",
        "\n",
        "> graphs must have proper annotation\n",
        "\n",
        "> Find 10 misclassified images for each of the 3 models, and show them as a 5x2 image matrix in 3 separately annotated images. "
      ],
      "metadata": {
        "id": "duSXQKSVdxay"
      }
    },
    {
      "cell_type": "code",
      "source": [
        "gpu_info = !nvidia-smi\n",
        "gpu_info = '\\n'.join(gpu_info)\n",
        "if gpu_info.find('failed') >= 0:\n",
        "  print('Not connected to a GPU')\n",
        "else:\n",
        "  print(gpu_info)"
      ],
      "metadata": {
        "colab": {
          "base_uri": "https://localhost:8080/"
        },
        "id": "xRpKy9GQgd5p",
        "outputId": "8acdb6e2-544f-43d7-8e0a-9cf7da2786f1"
      },
      "execution_count": 1,
      "outputs": [
        {
          "output_type": "stream",
          "name": "stdout",
          "text": [
            "Thu Jan 26 21:38:25 2023       \n",
            "+-----------------------------------------------------------------------------+\n",
            "| NVIDIA-SMI 510.47.03    Driver Version: 510.47.03    CUDA Version: 11.6     |\n",
            "|-------------------------------+----------------------+----------------------+\n",
            "| GPU  Name        Persistence-M| Bus-Id        Disp.A | Volatile Uncorr. ECC |\n",
            "| Fan  Temp  Perf  Pwr:Usage/Cap|         Memory-Usage | GPU-Util  Compute M. |\n",
            "|                               |                      |               MIG M. |\n",
            "|===============================+======================+======================|\n",
            "|   0  Tesla T4            Off  | 00000000:00:04.0 Off |                    0 |\n",
            "| N/A   50C    P0    29W /  70W |      0MiB / 15360MiB |      0%      Default |\n",
            "|                               |                      |                  N/A |\n",
            "+-------------------------------+----------------------+----------------------+\n",
            "                                                                               \n",
            "+-----------------------------------------------------------------------------+\n",
            "| Processes:                                                                  |\n",
            "|  GPU   GI   CI        PID   Type   Process name                  GPU Memory |\n",
            "|        ID   ID                                                   Usage      |\n",
            "|=============================================================================|\n",
            "|  No running processes found                                                 |\n",
            "+-----------------------------------------------------------------------------+\n"
          ]
        }
      ]
    },
    {
      "cell_type": "markdown",
      "source": [
        "#### For Importing the single model file named \"model.py\" under which model class named \"EVA8_session4_assignment_model\" is defined, with capabilities to have either of Batch/Layer/Group normalization, we have to put it as a package-element at the github (so that we can do a pip-install as below and can import it as a package element later on)"
      ],
      "metadata": {
        "id": "kciR6tzdpa9V"
      }
    },
    {
      "cell_type": "code",
      "source": [
        "!pip install git+https://git@github.com/ojhajayant/EVA8.git --upgrade "
      ],
      "metadata": {
        "colab": {
          "base_uri": "https://localhost:8080/"
        },
        "id": "-cTtJp-om-xs",
        "outputId": "6a00ed38-d414-4bc6-f6fd-9c8ca70fc398"
      },
      "execution_count": 2,
      "outputs": [
        {
          "output_type": "stream",
          "name": "stdout",
          "text": [
            "Looking in indexes: https://pypi.org/simple, https://us-python.pkg.dev/colab-wheels/public/simple/\n",
            "Collecting git+https://****@github.com/ojhajayant/EVA8.git\n",
            "  Cloning https://****@github.com/ojhajayant/EVA8.git to /tmp/pip-req-build-9e_c6pov\n",
            "  Running command git clone --filter=blob:none --quiet 'https://****@github.com/ojhajayant/EVA8.git' /tmp/pip-req-build-9e_c6pov\n",
            "  Resolved https://****@github.com/ojhajayant/EVA8.git to commit 581c0979a5f4b296aeac68c9aa35e8e4166df4fb\n",
            "  Preparing metadata (setup.py) ... \u001b[?25l\u001b[?25hdone\n",
            "Building wheels for collected packages: eva8\n",
            "  Building wheel for eva8 (setup.py) ... \u001b[?25l\u001b[?25hdone\n",
            "  Created wheel for eva8: filename=eva8-0.0.0-py3-none-any.whl size=3211 sha256=69260808f0596e19d00dafb66e755e034ffbb5a83be441c0b1132600df0fd766\n",
            "  Stored in directory: /tmp/pip-ephem-wheel-cache-uv71ckg2/wheels/91/2b/81/6528ca90c705fbe7f126306baa4c34cd2cbf0ea8fcb5a3dd90\n",
            "Successfully built eva8\n",
            "Installing collected packages: eva8\n",
            "Successfully installed eva8-0.0.0\n"
          ]
        }
      ]
    },
    {
      "cell_type": "markdown",
      "metadata": {
        "id": "aO-7t1Y7-hV4"
      },
      "source": [
        "# Import Libraries"
      ]
    },
    {
      "cell_type": "code",
      "execution_count": 3,
      "metadata": {
        "id": "8kH16rnZ7wt_"
      },
      "outputs": [],
      "source": [
        "from __future__ import print_function\n",
        "import os\n",
        "import shutil\n",
        "import numpy as np\n",
        "import torch\n",
        "import torch.nn as nn\n",
        "import torch.nn.functional as F\n",
        "import torch.optim as optim\n",
        "from torchvision import datasets, transforms\n",
        "from tqdm import tqdm\n",
        "# Let's visualize some of the images\n",
        "%matplotlib inline\n",
        "import matplotlib.pyplot as plt\n",
        "from torchsummary import summary\n",
        "from torch.optim.lr_scheduler import StepLR"
      ]
    },
    {
      "cell_type": "markdown",
      "source": [
        "### Now also import the single model file named \"EVA8_session4_assignment_model\" which has the best version of the 3 attempts made during the session 4 & on which we need to experiment with 3 combinations of Regularizations:\n",
        "\n",
        "> 1. Network with Group Normalization\n",
        "> 2. Network with Layer Normalization\n",
        "> 3. Network with L1 + BN"
      ],
      "metadata": {
        "id": "NTiXmqe4orcM"
      }
    },
    {
      "cell_type": "code",
      "source": [
        "from session_5.modular.models import model"
      ],
      "metadata": {
        "id": "SMRSsub_nNri"
      },
      "execution_count": 4,
      "outputs": []
    },
    {
      "cell_type": "code",
      "execution_count": 5,
      "metadata": {
        "id": "nrtHvUEXbAAf"
      },
      "outputs": [],
      "source": [
        "best_acc1 = 0\n",
        "tmp_best_acc1 = 0"
      ]
    },
    {
      "cell_type": "markdown",
      "metadata": {
        "id": "F16IhLIZbAAf"
      },
      "source": [
        "### Optimum values found for L1-penalty-weight.\n",
        "    - The appropriate values for l1  weights were found after coarsely sweeping thru values from 0.1, 0.01, 0.001, 0.0001, 0.00001, 0.000001 first.\n",
        "    - For l1-weight, with l1-alone enabled, the 0.00001 region was found with better values for the validation accuracy vis-a-vis training accuracies.\n",
        "    - Much finer sweeping in the 0.00001 region, led to the value: 0.000025, which seems to be having best accuracy values."
      ]
    },
    {
      "cell_type": "code",
      "execution_count": 6,
      "metadata": {
        "id": "2eJ7OW50bAAg"
      },
      "outputs": [],
      "source": [
        "l1_weight = 0.000025 ##Appears to be the best with the reference NW we have used here"
      ]
    },
    {
      "cell_type": "code",
      "execution_count": 7,
      "metadata": {
        "id": "H6Gj1t66bAAg"
      },
      "outputs": [],
      "source": [
        "class_names  = [ \"zero\",  # index 0\n",
        "                 \"one\",   # index 1\n",
        "                 \"two\",   # index 2 \n",
        "                 \"three\", # index 3 \n",
        "                 \"four\",  # index 4\n",
        "                 \"five\",  # index 5\n",
        "                 \"six\",   # index 6 \n",
        "                 \"seven\", # index 7 \n",
        "                 \"eight\", # index 8 \n",
        "                 \"nine\"]  # index 9"
      ]
    },
    {
      "cell_type": "markdown",
      "metadata": {
        "id": "ky3f_Odl-7um"
      },
      "source": [
        "## Data Transformations\n",
        "\n",
        "We first start with defining our data transformations. We need to think what our data is and how can we augment it to correct represent images which it might not see otherwise. \n"
      ]
    },
    {
      "cell_type": "code",
      "execution_count": 8,
      "metadata": {
        "id": "YtssFUKb-jqx"
      },
      "outputs": [],
      "source": [
        "# Train Phase transformations\n",
        "train_transforms = transforms.Compose([\n",
        "                                      #  transforms.Resize((28, 28)),\n",
        "                                      #  transforms.ColorJitter(brightness=0.10, contrast=0.1, saturation=0.10, hue=0.1),\n",
        "                                       #transforms.RandomRotation((-10.0, 10.0), fill=(1,)),\n",
        "                                       transforms.ToTensor(),\n",
        "                                       transforms.RandomRotation(degrees=7),\n",
        "                                       transforms.Normalize((0.1307,), (0.3081,)) # The mean and std have to be sequences (e.g., tuples), therefore you should add a comma after the values. \n",
        "                                       # Note the difference between (0.1307) and (0.1307,)\n",
        "                                       ])\n",
        "\n",
        "# Test Phase transformations\n",
        "test_transforms = transforms.Compose([\n",
        "                                      #  transforms.Resize((28, 28)),\n",
        "                                      #  transforms.ColorJitter(brightness=0.10, contrast=0.1, saturation=0.10, hue=0.1),\n",
        "                                       transforms.ToTensor(),\n",
        "                                       transforms.Normalize((0.1307,), (0.3081,))\n",
        "                                       ])\n"
      ]
    },
    {
      "cell_type": "markdown",
      "metadata": {
        "id": "oQciFYo2B1mO"
      },
      "source": [
        "# Dataset and Creating Train/Test Split"
      ]
    },
    {
      "cell_type": "code",
      "execution_count": 9,
      "metadata": {
        "id": "_4A84rlfDA23",
        "colab": {
          "base_uri": "https://localhost:8080/",
          "height": 422,
          "referenced_widgets": [
            "5bdef1d0f38b4044b516da178a75b91e",
            "ddd927ab8b2c40db87c226aedaa33cd3",
            "9865eadc9f6e45b1a20b65ef643e4e97",
            "13a18d564b6e488cbd2b1e278b4e54a4",
            "f6ca486fd2ad4711a689957d2781b4f4",
            "93bff87beca042eb84a4bce1635833bc",
            "c2569e35fbc6419baa4c50f954251886",
            "abbb046b58314dceb78a7964d3ba4ea6",
            "dfa4d898fa7c422b8374f386a3bf1c1d",
            "e60627747c3b489b8c8e78622a39ef16",
            "309d6bc7f7b04caf8d1f9dc18dcbe868",
            "7e0885547e0545b68657c1eb7b9c7a55",
            "8cf36909a8044eac86a3abfa4062f41c",
            "e1fc25569b2244e4b98acef0e6c562fd",
            "2afa1f0026464f7a90bd9558e018fe03",
            "0cdcf7ebb2af40089e44fc067a8111d4",
            "7023c3b29ea84fbf8584c257b4967cfb",
            "18fdcd42aab649ab8cc4bd002ce9ccb2",
            "2213bd9f7eaf4138b0fd204a386ed132",
            "ea24ca8a9b5f496d8d4d4e4e53114f0b",
            "29a7a6dc5f314961a8dfaefc74337703",
            "7e0c4478412d455da4f87d277734219c",
            "f9fc3e5a766c450bb46dfe771c29d02d",
            "ae94e4513dfc4fd090489d63deaafd5a",
            "94a46b79283b4df2a6541c9cfa47791a",
            "b9ce099930bc47afacc57dd40f83f8ae",
            "e19edae5b8964e928db87f5817d9550d",
            "0c6df943af424833a31598c3f982d45c",
            "43bea99b9dc248ce9364ac566ed92518",
            "d431464f7bf24add83386fbb55aeede4",
            "c17fb45048be48d789aa48df2f8bba94",
            "b0625fc31b8147c0acbfe80c3276dd00",
            "570e24ca0340436bb99cb24739c0fc3c",
            "217e03505d6a4a86a004888e57092731",
            "e8b9346efcb146c4afa73eccfe697665",
            "33813e811d324ff5a4ec3666de64407b",
            "60ecdd66138c4d178f938e313d7abaec",
            "8fd0ac4d089c4daca0c8fa7acacca35a",
            "f8a487bb86b7429686d4b88de994f20f",
            "a800a78f833a4d0c8b9e732803e9f064",
            "66fb9ba4beaf4fdebf28e54e024dab29",
            "89c1ae7ebb4444b78dcf358de38e0616",
            "2495a3e81b45445db45ef1c7159825e7",
            "aa466eed211546939de1f7b063caa148"
          ]
        },
        "outputId": "42eb84fb-3bbb-404c-f9af-1b2374c9c9e6"
      },
      "outputs": [
        {
          "output_type": "stream",
          "name": "stdout",
          "text": [
            "Downloading http://yann.lecun.com/exdb/mnist/train-images-idx3-ubyte.gz\n",
            "Downloading http://yann.lecun.com/exdb/mnist/train-images-idx3-ubyte.gz to ./data/MNIST/raw/train-images-idx3-ubyte.gz\n"
          ]
        },
        {
          "output_type": "display_data",
          "data": {
            "text/plain": [
              "  0%|          | 0/9912422 [00:00<?, ?it/s]"
            ],
            "application/vnd.jupyter.widget-view+json": {
              "version_major": 2,
              "version_minor": 0,
              "model_id": "5bdef1d0f38b4044b516da178a75b91e"
            }
          },
          "metadata": {}
        },
        {
          "output_type": "stream",
          "name": "stdout",
          "text": [
            "Extracting ./data/MNIST/raw/train-images-idx3-ubyte.gz to ./data/MNIST/raw\n",
            "\n",
            "Downloading http://yann.lecun.com/exdb/mnist/train-labels-idx1-ubyte.gz\n",
            "Downloading http://yann.lecun.com/exdb/mnist/train-labels-idx1-ubyte.gz to ./data/MNIST/raw/train-labels-idx1-ubyte.gz\n"
          ]
        },
        {
          "output_type": "display_data",
          "data": {
            "text/plain": [
              "  0%|          | 0/28881 [00:00<?, ?it/s]"
            ],
            "application/vnd.jupyter.widget-view+json": {
              "version_major": 2,
              "version_minor": 0,
              "model_id": "7e0885547e0545b68657c1eb7b9c7a55"
            }
          },
          "metadata": {}
        },
        {
          "output_type": "stream",
          "name": "stdout",
          "text": [
            "Extracting ./data/MNIST/raw/train-labels-idx1-ubyte.gz to ./data/MNIST/raw\n",
            "\n",
            "Downloading http://yann.lecun.com/exdb/mnist/t10k-images-idx3-ubyte.gz\n",
            "Downloading http://yann.lecun.com/exdb/mnist/t10k-images-idx3-ubyte.gz to ./data/MNIST/raw/t10k-images-idx3-ubyte.gz\n"
          ]
        },
        {
          "output_type": "display_data",
          "data": {
            "text/plain": [
              "  0%|          | 0/1648877 [00:00<?, ?it/s]"
            ],
            "application/vnd.jupyter.widget-view+json": {
              "version_major": 2,
              "version_minor": 0,
              "model_id": "f9fc3e5a766c450bb46dfe771c29d02d"
            }
          },
          "metadata": {}
        },
        {
          "output_type": "stream",
          "name": "stdout",
          "text": [
            "Extracting ./data/MNIST/raw/t10k-images-idx3-ubyte.gz to ./data/MNIST/raw\n",
            "\n",
            "Downloading http://yann.lecun.com/exdb/mnist/t10k-labels-idx1-ubyte.gz\n",
            "Downloading http://yann.lecun.com/exdb/mnist/t10k-labels-idx1-ubyte.gz to ./data/MNIST/raw/t10k-labels-idx1-ubyte.gz\n"
          ]
        },
        {
          "output_type": "display_data",
          "data": {
            "text/plain": [
              "  0%|          | 0/4542 [00:00<?, ?it/s]"
            ],
            "application/vnd.jupyter.widget-view+json": {
              "version_major": 2,
              "version_minor": 0,
              "model_id": "217e03505d6a4a86a004888e57092731"
            }
          },
          "metadata": {}
        },
        {
          "output_type": "stream",
          "name": "stdout",
          "text": [
            "Extracting ./data/MNIST/raw/t10k-labels-idx1-ubyte.gz to ./data/MNIST/raw\n",
            "\n"
          ]
        }
      ],
      "source": [
        "train_mnist = datasets.MNIST('./data', train=True, download=True, transform=train_transforms)\n",
        "test_mnist = datasets.MNIST('./data', train=False, download=True, transform=test_transforms)"
      ]
    },
    {
      "cell_type": "markdown",
      "metadata": {
        "id": "qgldp_3-Dn0c"
      },
      "source": [
        "# Dataloader Arguments & Test/Train Dataloaders\n"
      ]
    },
    {
      "cell_type": "code",
      "execution_count": 10,
      "metadata": {
        "colab": {
          "base_uri": "https://localhost:8080/"
        },
        "id": "C8OLDR79DrHG",
        "outputId": "fe49a3e3-24b0-4806-f7c7-8ebb903fa048"
      },
      "outputs": [
        {
          "output_type": "stream",
          "name": "stdout",
          "text": [
            "CUDA Available? True\n"
          ]
        }
      ],
      "source": [
        "SEED = 1\n",
        "\n",
        "# CUDA?\n",
        "cuda = torch.cuda.is_available()\n",
        "print(\"CUDA Available?\", cuda)\n",
        "\n",
        "# For reproducibility\n",
        "torch.manual_seed(SEED)\n",
        "\n",
        "if cuda:\n",
        "    torch.cuda.manual_seed(SEED)\n",
        "\n",
        "# dataloader arguments - something you'll fetch these from cmdprmt\n",
        "dataloader_args = dict(shuffle=True, batch_size=128, num_workers=2, pin_memory=True) if cuda else dict(shuffle=True, batch_size=64)\n",
        "\n",
        "# train dataloader\n",
        "train_loader = torch.utils.data.DataLoader(train_mnist, **dataloader_args)\n",
        "\n",
        "# test dataloader\n",
        "test_loader = torch.utils.data.DataLoader(test_mnist, **dataloader_args)"
      ]
    },
    {
      "cell_type": "markdown",
      "metadata": {
        "id": "-TFjoFekE_va"
      },
      "source": [
        "# Data Statistics\n",
        "\n",
        "It is important to know your data very well. Let's check some of the statistics around our data and how it actually looks like"
      ]
    },
    {
      "cell_type": "code",
      "execution_count": 11,
      "metadata": {
        "colab": {
          "base_uri": "https://localhost:8080/",
          "height": 490
        },
        "id": "hWZPPo3yEHDW",
        "outputId": "7a837bc0-838c-4d8d-c383-60c094fb2338"
      },
      "outputs": [
        {
          "output_type": "stream",
          "name": "stdout",
          "text": [
            "  [Train]\n",
            "  Numpy-Shape: (60000, 28, 28)\n",
            "  Tensor-Size: torch.Size([60000, 28, 28])\n",
            "  min original raw tensor format data: tensor(0, dtype=torch.uint8)\n",
            "  max original raw tensor format data: tensor(255, dtype=torch.uint8)\n",
            "  min post-transforms(ToTensor + Normalize) tensor format data: tensor(-0.4242)\n",
            "  max post-transforms (ToTensor + Normalize)  tensor format data: tensor(2.8215)\n",
            "  mean post-transforms(ToTensor + Normalize) tensor format data: tensor(-0.4213)\n",
            "  std post-transforms (ToTensor + Normalize)  tensor format data: tensor(0.0889)\n",
            "  var post-transforms (ToTensor + Normalize)  tensor format data: tensor(0.0079)\n",
            " Image shape from the batch: torch.Size([128, 1, 28, 28])\n",
            " Label shape from the batch: torch.Size([128])\n"
          ]
        },
        {
          "output_type": "execute_result",
          "data": {
            "text/plain": [
              "<matplotlib.image.AxesImage at 0x7ff67bc3bfd0>"
            ]
          },
          "metadata": {},
          "execution_count": 11
        },
        {
          "output_type": "display_data",
          "data": {
            "text/plain": [
              "<Figure size 432x288 with 1 Axes>"
            ],
            "image/png": "[encoded data removed]"
          },
          "metadata": {
            "needs_background": "light"
          }
        }
      ],
      "source": [
        "train_data = train_mnist.transform(train_mnist.data.numpy())  # for applying\n",
        "# transforms like transforms.ToTensor(), the format should be\n",
        "# numpy-ndarray or PIL image.\n",
        "print('  [Train]')\n",
        "print('  Numpy-Shape:', train_mnist.data.cpu().numpy().shape)\n",
        "print('  Tensor-Size:', train_mnist.data.size())\n",
        "print('  min original raw tensor format data:', torch.min(train_mnist.data))\n",
        "print('  max original raw tensor format data:', torch.max(train_mnist.data))\n",
        "print('  min post-transforms(ToTensor + Normalize) tensor format data:',\n",
        "      torch.min(train_data))\n",
        "print('  max post-transforms (ToTensor + Normalize)  tensor format data:',\n",
        "      torch.max(train_data))\n",
        "print('  mean post-transforms(ToTensor + Normalize) tensor format data:',\n",
        "      torch.mean(train_data))\n",
        "print('  std post-transforms (ToTensor + Normalize)  tensor format data:',\n",
        "      torch.std(train_data))\n",
        "print('  var post-transforms (ToTensor + Normalize)  tensor format data:',\n",
        "      torch.var(train_data))\n",
        "dataiter = iter(train_loader)\n",
        "images, labels = next(dataiter)\n",
        "print(' Image shape from the batch:', images.shape)\n",
        "print(' Label shape from the batch:', labels.shape)\n",
        "plt.imshow(images[0].numpy().squeeze(), cmap='gray_r')"
      ]
    },
    {
      "cell_type": "markdown",
      "metadata": {
        "id": "7l9lNaWYKuik"
      },
      "source": [
        "## MORE\n",
        "\n",
        "It is important that we view as many images as possible. This is required to get some idea on image augmentation later on"
      ]
    },
    {
      "cell_type": "code",
      "execution_count": 12,
      "metadata": {
        "colab": {
          "base_uri": "https://localhost:8080/",
          "height": 246
        },
        "id": "hXXAg8hbK16u",
        "outputId": "22be0f5d-bbe2-490a-eef5-bddb0e3814f2"
      },
      "outputs": [
        {
          "output_type": "display_data",
          "data": {
            "text/plain": [
              "<Figure size 432x288 with 60 Axes>"
            ],
            "image/png": "[encoded data removed]"
          },
          "metadata": {
            "needs_background": "light"
          }
        }
      ],
      "source": [
        "figure = plt.figure()\n",
        "num_of_images = 60\n",
        "for index in range(1, num_of_images + 1):\n",
        "    plt.subplot(6, 10, index)\n",
        "    plt.axis('off')\n",
        "    plt.imshow(images[index].numpy().squeeze(), cmap='gray_r')"
      ]
    },
    {
      "cell_type": "markdown",
      "metadata": {
        "id": "MLYmIr2abAAk"
      },
      "source": [
        "# Training and Testing related routines\n",
        "\n",
        "Looking at logs can be boring, so we'll introduce **tqdm** progressbar to get cooler logs. \n",
        "\n",
        "Let's write train and test functions"
      ]
    },
    {
      "cell_type": "code",
      "execution_count": 13,
      "metadata": {
        "id": "WinLurufbAAk"
      },
      "outputs": [],
      "source": [
        "def l1_penalty(x):\n",
        "    #L1 regularization adds an L1 penalty equal\n",
        "    #to the absolute value of the magnitude of coefficients\n",
        "    return torch.abs(x).sum()\n",
        "\n",
        "def save_checkpoint(state, is_best, filename='checkpoint.pth.tar'):\n",
        "    torch.save(state, filename)\n",
        "    if is_best:\n",
        "        shutil.copyfile(filename, 'model_best.pth.tar')\n",
        "\n",
        "\n",
        "def train(model, device, train_loader, optimizer, epoch, L1=False):\n",
        "    model.train()\n",
        "    pbar = tqdm(train_loader)\n",
        "    correct = 0\n",
        "    processed = 0\n",
        "    for batch_idx, (data, target) in enumerate(pbar):\n",
        "        \n",
        "        # get samples\n",
        "        data, target = data.to(device), target.to(device)\n",
        "\n",
        "        # Init\n",
        "        optimizer.zero_grad()\n",
        "        # In PyTorch, we need to set the gradients to zero before starting to do backpropragation because PyTorch accumulates the gradients on subsequent backward passes. \n",
        "        # Because of this, when you start your training loop, ideally you should zero out the gradients so that you do the parameter update correctly.\n",
        "\n",
        "        # Predict\n",
        "        y_pred = model(data)\n",
        "        if L1:\n",
        "            to_reg = []\n",
        "            for param in model.parameters():\n",
        "                to_reg.append(param.view(-1))\n",
        "            l1 = l1_weight*l1_penalty(torch.cat(to_reg))\n",
        "        else:\n",
        "            l1 = 0\n",
        "        # Calculate loss\n",
        "        #L1 regularization adds an L1 penalty equal to the \n",
        "        #absolute value of the magnitude of coefficients\n",
        "        loss = F.nll_loss(y_pred, target) + l1     \n",
        "        train_losses.append(loss)\n",
        "\n",
        "        # Backpropagation\n",
        "        loss.backward()\n",
        "        optimizer.step()\n",
        "\n",
        "        # Update pbar-tqdm\n",
        "\n",
        "        pred = y_pred.argmax(dim=1, keepdim=True)  # get the index of the max log-probability\n",
        "        correct += pred.eq(target.view_as(pred)).sum().item()\n",
        "        processed += len(data)\n",
        "\n",
        "        pbar.set_description(desc= f'Loss={loss.item()} Batch_id={batch_idx} Accuracy={100*correct/processed:0.2f}')\n",
        "        train_acc.append(100*correct/processed)\n",
        "\n",
        "def test(model, device, test_loader, epoch, optimizer, Norm='batch', L1=False):\n",
        "    global best_acc1, tmp_best_acc1\n",
        "    model.eval()\n",
        "    test_loss = 0\n",
        "    correct = 0\n",
        "    acc1 = 0\n",
        "    with torch.no_grad():\n",
        "        for data, target in test_loader:\n",
        "            data, target = data.to(device), target.to(device)\n",
        "            output = model(data)\n",
        "            test_loss += F.nll_loss(output, target, reduction='sum').item()  # sum up batch loss\n",
        "            pred = output.argmax(dim=1, keepdim=True)  # get the index of the max log-probability\n",
        "            correct += pred.eq(target.view_as(pred)).sum().item()\n",
        "\n",
        "    test_loss /= len(test_loader.dataset)\n",
        "    test_losses.append(test_loss)\n",
        "\n",
        "    print('\\nTest set: Average loss: {:.4f}, Accuracy: {}/{} ({:.2f}%)\\n'.format(\n",
        "        test_loss, correct, len(test_loader.dataset),\n",
        "        100. * correct / len(test_loader.dataset)))\n",
        "    acc1 = 100. * correct / len(test_loader.dataset)\n",
        "    is_best = acc1 > best_acc1\n",
        "    tmp_best_acc1 = best_acc1\n",
        "    best_acc1 = max(acc1, best_acc1)\n",
        "    model_name = ''\n",
        "    # Prepare model model saving directory.\n",
        "    if is_best:\n",
        "        save_dir = os.path.join(os.getcwd(), 'saved_models')\n",
        "        model_name = 'MNIST_model_epoch-{}_L1-{}_{}-Norm_val_acc-{:.2f}.h5'.format(epoch+1, int(L1), Norm, acc1) \n",
        "        if not os.path.isdir(save_dir):\n",
        "            os.makedirs(save_dir)\n",
        "        filepath = os.path.join(save_dir, model_name)\n",
        "        print(\"validation-accuracy improved from {:.2f} to {:.2f}, saving model to {}\".format(tmp_best_acc1, best_acc1, filepath))\n",
        "        save_checkpoint({\n",
        "            'epoch': epoch + 1,\n",
        "            'state_dict': model.state_dict(),\n",
        "            'best_acc1': best_acc1,\n",
        "            'optimizer' : optimizer.state_dict(),\n",
        "        }, is_best, filename=filepath)\n",
        "    test_acc.append(100. * correct / len(test_loader.dataset))\n",
        "    \n",
        "    return model_name"
      ]
    },
    {
      "cell_type": "markdown",
      "metadata": {
        "id": "b0uDEi9HbAAl"
      },
      "source": [
        "### model-prediction & mislabelled image display related routines\n"
      ]
    },
    {
      "cell_type": "code",
      "execution_count": 14,
      "metadata": {
        "id": "Uav5GGmBbAAm"
      },
      "outputs": [],
      "source": [
        "def model_pred(model, device, y_test, batchsize=test_mnist.data.cpu().numpy().shape[0]):\n",
        "    from sklearn.metrics import confusion_matrix, classification_report\n",
        "    model.eval()\n",
        "    dataldr_args = dict(shuffle=False, batch_size=batchsize, num_workers=2, pin_memory=True) if cuda else dict(shuffle=True, batch_size=10000)\n",
        "    test_ldr = torch.utils.data.DataLoader(test_mnist, **dataldr_args)\n",
        "    with torch.no_grad():\n",
        "        for data, target in test_ldr:\n",
        "            data, target = data.to(device), target.to(device)\n",
        "            output = model(data)\n",
        "            y_pred = output.argmax(dim=1, keepdim=True)  # get the index of the max log-probability\n",
        "        y_pred = y_pred.cpu().numpy()\n",
        "    print(confusion_matrix(y_test, y_pred.reshape(-1)))\n",
        "    print('\\n')\n",
        "    print(classification_report(y_test, y_pred.reshape(-1), target_names=class_names))\n",
        "    return y_pred\n",
        "\n",
        "\n",
        "def display_mislabelled(model, device, x_test, y_test, y_pred, title_str):\n",
        "    fig = plt.figure(figsize=(30,9))\n",
        "    fig.suptitle(title_str, fontsize=24)\n",
        "    idx1 = np.where(y_test[:] != y_pred)[0]\n",
        "    for j in range(3):\n",
        "        for i in range(len(class_names)):\n",
        "            ax = fig.add_subplot(3, 10, j*10+i+1, xticks=[], yticks=[])\n",
        "            idx = np.where(y_test[:] == i)[0]\n",
        "            intsct = np.intersect1d(idx1, idx)\n",
        "            features_idx = x_test[intsct, ::]\n",
        "            img_num = np.random.randint(features_idx.shape[0])\n",
        "            im = features_idx[img_num]\n",
        "            ax.set_title('Act:{} '.format(i) + ' Pred:{} '.format(y_pred[intsct[img_num]][0]), fontsize=20)\n",
        "            plt.imshow(im)\n",
        "    plt.show()"
      ]
    },
    {
      "cell_type": "markdown",
      "metadata": {
        "id": "33ZASQD4bAAn"
      },
      "source": [
        "### routine to load any model from saved file"
      ]
    },
    {
      "cell_type": "code",
      "execution_count": 15,
      "metadata": {
        "id": "9wwlSlvpbAAn"
      },
      "outputs": [],
      "source": [
        "def load_model(describe_model_nn, model_name):\n",
        "    save_dir = os.path.join(os.getcwd(), 'saved_models')\n",
        "    if not os.path.isdir(save_dir):\n",
        "        os.makedirs(save_dir)\n",
        "    filepath = os.path.join(save_dir, model_name)\n",
        "    model = describe_model_nn #describe_model_nn is for example: Net1()\n",
        "    checkpoint = torch.load(filepath)\n",
        "    model.load_state_dict(checkpoint['state_dict'])\n",
        "    model.to(device)\n",
        "    return  model"
      ]
    },
    {
      "cell_type": "markdown",
      "metadata": {
        "id": "u_RrKPwlbAAn"
      },
      "source": [
        "### routine to save & load the validation-accuracy & validation-loss data  for any model"
      ]
    },
    {
      "cell_type": "code",
      "execution_count": 16,
      "metadata": {
        "id": "LdofMR4NbAAn"
      },
      "outputs": [],
      "source": [
        "def save_acc_loss(test_losses, test_acc, test_loss_file_name,  test_acc_file_name):\n",
        "    import os\n",
        "    import numpy as np\n",
        "    # Prepare model model saving directory.\n",
        "    save_dir = os.path.join(os.getcwd(), 'saved_data')\n",
        "    if not os.path.isdir(save_dir):\n",
        "        os.makedirs(save_dir)\n",
        "    filepath_test_loss  = os.path.join(save_dir, test_loss_file_name)\n",
        "    filepath_test_acc  = os.path.join(save_dir, test_acc_file_name)\n",
        "    print(\"\\nsaving test_loss related numpy file to {}\".format(filepath_test_loss))\n",
        "    np.save(filepath_test_loss,test_losses)\n",
        "    print(\"\\nsaving test_acc related numpy file to {}\".format(filepath_test_acc))\n",
        "    np.save(filepath_test_acc,test_acc)\n",
        "    \n",
        "\n",
        "def load_acc_loss(test_loss_file_name,  test_acc_file_name):\n",
        "    # Prepare model model saving directory.\n",
        "    save_dir = os.path.join(os.getcwd(), 'saved_data')\n",
        "    if not os.path.isdir(save_dir):\n",
        "        os.makedirs(save_dir)\n",
        "    filepath_test_loss  = os.path.join(save_dir, test_loss_file_name)\n",
        "    filepath_test_acc  = os.path.join(save_dir, test_acc_file_name)\n",
        "    print(\"\\nloading test_loss related numpy file from {}\".format(filepath_test_loss))\n",
        "    loaded_test_losses = np.load(filepath_test_loss).tolist()\n",
        "    print(\"\\nloading test_acc related numpy file from {}\".format(filepath_test_acc))\n",
        "    loaded_test_acc = np.load(filepath_test_acc).tolist()\n",
        "    return loaded_test_losses, loaded_test_acc"
      ]
    },
    {
      "cell_type": "markdown",
      "metadata": {
        "id": "_ZMmMvqqbAAo"
      },
      "source": [
        "### routine to plot 3 accuracies and 3 losses in 2 separate plots (for:\n",
        "> 1. Network with Group Normalization\n",
        "> 2. Network with Layer Normalization\n",
        "> 3. Network with L1 + BN\n",
        "\n",
        ")"
      ]
    },
    {
      "cell_type": "code",
      "execution_count": 17,
      "metadata": {
        "id": "nOaTMeVJbAAo"
      },
      "outputs": [],
      "source": [
        "def plot_curves(first_acc, second_acc, third_acc,\n",
        "                first_loss, second_loss, third_loss):\n",
        "    fig, axs = plt.subplots(1,2,figsize=(20,10))\n",
        "    _= axs[0].plot(first_acc)\n",
        "    _= axs[0].plot(second_acc)\n",
        "    _= axs[0].plot(third_acc)\n",
        "    _= axs[0].set_title('model test accuracies', fontsize=22)\n",
        "    _= axs[0].set_ylabel('test-accuracy', fontsize=18)\n",
        "    _= axs[0].set_xlabel('epoch', fontsize=18)\n",
        "    _= axs[0].legend(['Network with Group Normalization', 'Network with Layer Normalization', 'Network with L1 + BN'], loc='upper left')\n",
        "    _= axs[1].plot(first_loss)\n",
        "    _= axs[1].plot(second_loss)\n",
        "    _= axs[1].plot(third_loss)\n",
        "    _= axs[1].set_title('model test losses', fontsize=22)\n",
        "    _= axs[1].set_ylabel('test-loss', fontsize=18)\n",
        "    _= axs[1].set_xlabel('epoch', fontsize=18)\n",
        "    _= axs[1].legend(['Network with Group Normalization', 'Network with Layer Normalization', 'Network with L1 + BN'], loc='upper right')"
      ]
    },
    {
      "cell_type": "markdown",
      "metadata": {
        "id": "ubQL3H6RJL3h"
      },
      "source": [
        "# The model\n",
        "Let's start with the model we first saw, the base-line/reference model being used here is as shown in the table below:\n",
        "Taken from 3rd attempt from session_4, the network structure /architecture hasn't changed.except, the capability to introduce either of Batch/Layer/Group normalization optionally (obviously in a mutually exclusive way)\n",
        "Hence, an architecture as shown in the table below is still chosen as a \"baseline\" one.Same description as given under that session_4 attempt is extended here too.\n",
        "As while solving the earlier session assignment (and also as covered thoroughly in the last \"coding-drill-down\" session) two architectural components: BatchNorm & DropOut came out to be two important components to be applied on any Conv2d-layer (except the last one), hence for this session assignment, with very limited number of attempts to go thru (i.e. exactly 3 steps), starting out with inclusion of both these components under this 1st \"baseline\" neural network architecture (as mentioned before, the excercises on effects of gradual inclusion of both components on neural-net performance, was already undertaken while solving the earlier assignment, hence feel fair enough to start out the first attempt architecture, with both of them included under this new \"baseline\")\n",
        "\n",
        "Here is the layering, which is being used to achieve the receptive-field and parameter targets.\n",
        "\n",
        "Input Channels/Image  |  Conv2d/Transform      | Output Channels | RF\n",
        "---------------------|--------------|----------------------|----------------------\n",
        "`28x28x1`              | `(3x3x1)x10`   |      `26x26x10`  |      `3x3`  **INPUT BLOCK** [actually just one conv2d 3x3 layer(image-conv2d layer)]    \n",
        "` `              | `BN(10)`   |      ` `  |      ` `\n",
        "` `              | `Dropout(2.9%)`   |      ` `  |      ` `\n",
        "` `              | `ReLU`   |      ` `  |      ` ` \n",
        "`26x26x10`             | `(3x3x10)x10`  |      `24x24x10` |      `5x5`     **CONVOLUTION BLOCK 1** [1st conv2d 3x3 layer for this block ]\n",
        "` `              | `BN(10)`   |      ` `  |      ` `\n",
        "` `              | `Dropout(2.9%)`   |      ` `  |      ` `\n",
        "` `              | `ReLU`   |      ` `  |      ` ` \n",
        "`24x24x10`             | `(3x3x10)x15`  |      `22x22x15` |      `7x7`     **CONVOLUTION BLOCK 1** [2nd conv2d 3x3 layer for this block ]\n",
        "` `              | `BN(15)`   |      ` `  |      ` `\n",
        "` `              | `Dropout(2.9%)`   |      ` `  |      ` `\n",
        "` `              | `ReLU`   |      ` `  |      ` ` \n",
        "**22x22x15**             |   **MP(2x2)**    |     **11x11x15**   |     **8x8**  **TRANSITION BLOCK 1**  [1st maxpool(2,2) layer for this block]                     \n",
        "**11x11x15**             | **(1x1x15)x10**  |     **11x11x10**   |      **8x8**  **TRANSITION BLOCK 1**  [2nd 1 conv2d 1x1 layer for this block]  \n",
        "** **             | **BN(10)**   |     ** **  |     ** **                    \n",
        "** **             | **Dropout(2.9%)**   |     ** **  |     ** **\n",
        "** **             | **ReLU**   |     ** **  |     ** **      \n",
        "*11x11x10*             | *(3x3x10)x10*  |      *9x9x10* |      *12x12*  **CONVOLUTION BLOCK 2** [1st conv2d 3x3 layer for this block]\n",
        "** **            | *BN(10)*   |     * *   |     * * \n",
        "** **             | *Dropout(2.9%)*   |     * *   |     * * \n",
        "** **             | *ReLU*   |     ** **  |    ** **                       \n",
        "*9x9x10*             | *(3x3x10)x10*  |      *7x7x10* |      *16x16*  **CONVOLUTION BLOCK 2** [2nd conv2d 3x3 layer for this block] \n",
        "** **            | *BN(16)*   |     * *   |     * * \n",
        "** **             | *Dropout(2.9%)*   |     * *   |     * * \n",
        "** **             | *ReLU*   |     ** **  |    ** **    \n",
        "*7x7x10*               | *(3x3x10)x32*  |      *5x5x32*  |      *20x20*  **CONVOLUTION BLOCK 2** [3rd conv2d 3x3 layer for this block, this 32 number of output channels at this stage provides a CAPACITY BOOST for the overall network as explained ahead]  \n",
        "** **            | *BN(32)*   |     * *   |     * * \n",
        "** **             | *Dropout(2.9%)*   |     * *   |     * * \n",
        "** **             | *ReLU*   |     ** **  |    ** **   \n",
        "5x5x32               | GAP  LAYER (kernel_size=(5,5)   |      1x1x32          | `28x28` (20 + (5-1)x2 = 28) **OUTPUT BLOCK** [GAP layer]\n",
        "`1x1x32`               | `(1x1x32)x10`  |      `1x1x10`    |      `28x28` (28 + (1-1)x10 = 28) **OUTPUT BLOCK** [1 conv2d 1x1 layer]\n",
        "` `             | `log_SoftMax`   |     ` `  |     ` ` \n",
        "\n",
        " above has 4 \"components\":\n",
        " \n",
        " 1. **INPUT BLOCK:** One initial, \"Input Block\" at the begining, to convolve over the \"original image\"  channel(s), due to the opposing constraints of meeting an accuracy number with lesser parameters possible,\n",
        "    choosing  10 number of kernels for this 'separate' layer (which feeds in to the next \"CONVOLUTION BLOCK 1\",\n",
        "    explained below).This 1 initial layer & two following layers (under \"CONVOLUTION BLOCK 1\") provide receptive\n",
        "    field of 7x7 pixels(3->5->7) sufficient for the MNIST dataset's edges & gradient generation.No padding used.    \n",
        "\t\n",
        " 2. **CONVOLUTION BLOCK 1:** placed after the first \"Input Block\" layer, 2 layers of 3x3 conv2d operators, with 10 & 15 o/p channels at   each layer position respectively.Thus providing 15 channels at the output.No padding used.\n",
        "    \n",
        " 3. **TRANSITION BLOCK 1:** max-pool(k=2,s=2) and a-1x1-feature-merger kernel, following the 'CONVOLUTION BLOCK 1'.Provides 10 o/p channels.No padding used.\n",
        "    \n",
        " 4. **CONVOLUTION BLOCK 2:** These are 3 layers of 3x3 conv2d operators, with 10, 10, 32 o/p channels at  each layer position respectively.Here point to be noted, is the use of a \"capacity boosting\" number of o/p channels at the end. (reason explained in the next point below)\n",
        "  \n",
        " 5. **OUTPUT BLOCK:**: GAP layer followed by a 1x1 operator (which actually resembles a fully-connected(FC) layer in this case. A noteworthy point (which relates to the \"capacity\" element of the overall netowrk (NW)) is that the FC (the 1x1 conv2d behaviour here) will work better, in generating the final 10 \"class-features\" to be used by the log_softmax.If the inputs to it, have more \"features points\", i.e. for example if we do a 16->10 conversion, vs a 32->10 conversion, we can expect the 10 class-features (for softmax to decide)      generated by a 32->10 conversion will be more \"robust\" (as compared to say a 16->10 conversion)\n",
        "     Forunately, with an already \"frugal\" choice of numbers like 10, 15 etc, made for earlier layer (and also \"frugality\" in the total number of layers, which still provide an overall RF as 28, i.e. at least just equal to the original image/object size in this case), we can go ahead with choosing 32 here.\n",
        "\n",
        "Given below is the number of parameters thus obtained, which is well under 8k.\n",
        "\n",
        "#####======================= \n",
        "\n",
        "> Total params: 7,684\n",
        "\n",
        "> Trainable params: 7,684\n",
        "\n",
        "> Non-trainable params: 0\n",
        "#####--------------------------------------------------\n",
        "\n",
        "Also please note that out of all the other tested % ranges for dropout, it was found for this NW that 2.9% dropout worked best.\n"
      ]
    },
    {
      "cell_type": "markdown",
      "metadata": {
        "id": "oUR3gYhSbAAp"
      },
      "source": [
        "### Now Run 3 required iterations"
      ]
    },
    {
      "cell_type": "code",
      "source": [
        "run_combinations_dict = { # this dictionary values are used as :\n",
        "                          # for Norm, L1 in run_combinations_dict.items(): \n",
        "                          # so as to get respective \"flag\" value during\n",
        "                          # each iteration (during 3 such iterations)\n",
        "    'group': False,\n",
        "    'layer': False,\n",
        "    'batch': True\n",
        "}"
      ],
      "metadata": {
        "id": "6IFmFkJY8iPL"
      },
      "execution_count": 18,
      "outputs": []
    },
    {
      "cell_type": "code",
      "source": [
        "def perform_iteration_tasks(device, mdl, Norm, L1):\n",
        "  # Step 1: Instantiate a model (option-based)  & load to the device.\n",
        "  print(\"Train & Test Neural Network With {}-Norm-Type & With L1-Regularization As: {}\".format(Norm, L1))\n",
        "  model = mdl.EVA8_session4_assignment_model(Norm)\n",
        "  model = model.to(device)\n",
        "\n",
        "  # Step 2: Get the model-summary for instantiated model from Step 1(option-based)\n",
        "  print(\"\\nModel Summary For Model With {}-Norm-Type & With L1-Regularization As: {}\".format(Norm, L1))\n",
        "  summary(model, input_size=(1, 28, 28))\n",
        "\n",
        "  # Step 3: Setup the LR (based on the last session best model)\n",
        "  EPOCHS = 20\n",
        "  init_learning_rate = 0.07\n",
        "  gamma= (init_learning_rate - (0.1/EPOCHS))/init_learning_rate\n",
        "  optimizer = optim.SGD(model.parameters(), lr=init_learning_rate, momentum=0.9)\n",
        "  scheduler = StepLR(optimizer, step_size=1, gamma=gamma)\n",
        "\n",
        "  # Step 4: Train & Test the model for 20 epochs also get the best-model name \n",
        "  # for those 20 epochs\n",
        "  last_best = ''\n",
        "  for epoch in range(EPOCHS):\n",
        "      print(\"\\nEPOCH:\", epoch+1)\n",
        "      train(model, device, train_loader, optimizer, epoch, L1=L1)\n",
        "      # Print Learning Rate\n",
        "      print(' LR:', scheduler.get_last_lr())\n",
        "      scheduler.step()\n",
        "      model_name = test(model, device, test_loader, epoch, optimizer, Norm=Norm, L1=L1)\n",
        "      last_best = last_best if (model_name == '') else model_name\n",
        "\n",
        "  # Step 5: Save the validation-accuracy & validation-loss data for the model\n",
        "  # in *npy format (to be used to draw 2 final consolidated loss and accuracy\n",
        "  # plots for all 3 iterations thru 3 model types)\n",
        "  save_acc_loss(test_losses, \n",
        "              test_acc, \n",
        "              test_loss_file_name='test_loss_l1_{}_{}-Norm.npy'.format(int(L1), Norm),\n",
        "              test_acc_file_name='test_acc_l1_{}_{}-Norm.npy'.format(int(L1), Norm)\n",
        "             )\n",
        "  \n",
        "  # Step 6: Now load the best model from this iteration\n",
        "  print('With {}-Norm-Type & With L1-Regularization As: {}, BEST MODEL IS: {}, '.format(Norm, L1, last_best))\n",
        "  model = load_model(model, model_name=last_best)\n",
        "\n",
        "  # Step 7: Get Confusion Matrix & Classification-Report for this model's prdections\n",
        "  print(\"\\nConfusion matrix & Classification Report For Model With {}-Norm-Type & With L1-Regularization As: {}\\n\".format(Norm, L1))\n",
        "  y_test = test_mnist.targets.cpu().numpy()\n",
        "  y_pred = model_pred(model, device, y_test)\n",
        "\n",
        "  \n",
        "  # Step 8: Draw the individual loss/accuracy plots for that 20 epochs \n",
        "  print(\"\\nIndvidual Loss/Accuracy Plot For Model With {}-Norm-Type & With L1-Regularization As: {}\\n\".format(Norm, L1))\n",
        "  fig, axs = plt.subplots(2,2,figsize=(15,10))\n",
        "  trn_loss= [t.cpu().item() for t in train_losses]\n",
        "  axs[0, 0].plot(trn_loss)\n",
        "  axs[0, 0].set_title(\"Training Loss\")\n",
        "  axs[1, 0].plot(train_acc[4000:])\n",
        "  axs[1, 0].set_title(\"Training Accuracy\")\n",
        "  axs[0, 1].plot(test_losses)\n",
        "  axs[0, 1].set_title(\"Test Loss\")\n",
        "  axs[1, 1].plot(test_acc)\n",
        "  axs[1, 1].set_title(\"Test Accuracy\")\n",
        "\n",
        "  # Step 9: Get few mislabelled images from the model\n",
        "  x_test = test_mnist.data.cpu().numpy()\n",
        "  display_mislabelled(model, device,  x_test, y_test.reshape(-1,1), y_pred, title_str='Predicted Vs Actual, For Model With {}-Norm-Type & With L1-Regularization As: {}'.format(Norm, L1) )\n"
      ],
      "metadata": {
        "id": "DV0deoS9g10b"
      },
      "execution_count": 19,
      "outputs": []
    },
    {
      "cell_type": "code",
      "source": [
        "device = torch.device(\"cuda\" if cuda else \"cpu\")\n",
        "mdl = model # The one which was imported: from session_5.modular.models import model\n",
        "for i, (Norm, L1) in enumerate(run_combinations_dict.items()):\n",
        "  print(f\"\\n\\t\\t\\tITERATION NO: {i+1}: Norm={Norm}, L1={L1}\") \n",
        "  print('\\n', device)\n",
        "  train_losses = []\n",
        "  test_losses = []\n",
        "  train_acc = []\n",
        "  test_acc = []\n",
        "  best_acc1 = 0\n",
        "  tmp_best_acc1 = 0\n",
        "  perform_iteration_tasks(device, mdl, Norm, L1)"
      ],
      "metadata": {
        "id": "0FbLRXMU_cUQ",
        "colab": {
          "base_uri": "https://localhost:8080/",
          "height": 1000
        },
        "outputId": "b0ca9d39-fac3-4a0a-b388-0ecc3933f40e"
      },
      "execution_count": 20,
      "outputs": [
        {
          "output_type": "stream",
          "name": "stdout",
          "text": [
            "\n",
            "\t\t\tITERATION NO: 1: Norm=group, L1=False\n",
            "\n",
            " cuda\n",
            "Train & Test Neural Network With group-Norm-Type & With L1-Regularization As: False\n",
            "\n",
            "Model Summary For Model With group-Norm-Type & With L1-Regularization As: False\n",
            "----------------------------------------------------------------\n",
            "        Layer (type)               Output Shape         Param #\n",
            "================================================================\n",
            "            Conv2d-1           [-1, 10, 26, 26]              90\n",
            "         GroupNorm-2           [-1, 10, 26, 26]              20\n",
            "           Dropout-3           [-1, 10, 26, 26]               0\n",
            "              ReLU-4           [-1, 10, 26, 26]               0\n",
            "            Conv2d-5           [-1, 10, 24, 24]             900\n",
            "         GroupNorm-6           [-1, 10, 24, 24]              20\n",
            "           Dropout-7           [-1, 10, 24, 24]               0\n",
            "              ReLU-8           [-1, 10, 24, 24]               0\n",
            "            Conv2d-9           [-1, 15, 22, 22]           1,350\n",
            "        GroupNorm-10           [-1, 15, 22, 22]              30\n",
            "          Dropout-11           [-1, 15, 22, 22]               0\n",
            "             ReLU-12           [-1, 15, 22, 22]               0\n",
            "        MaxPool2d-13           [-1, 15, 11, 11]               0\n",
            "           Conv2d-14           [-1, 10, 11, 11]             150\n",
            "        GroupNorm-15           [-1, 10, 11, 11]              20\n",
            "          Dropout-16           [-1, 10, 11, 11]               0\n",
            "             ReLU-17           [-1, 10, 11, 11]               0\n",
            "           Conv2d-18             [-1, 10, 9, 9]             900\n",
            "        GroupNorm-19             [-1, 10, 9, 9]              20\n",
            "          Dropout-20             [-1, 10, 9, 9]               0\n",
            "             ReLU-21             [-1, 10, 9, 9]               0\n",
            "           Conv2d-22             [-1, 10, 7, 7]             900\n",
            "        GroupNorm-23             [-1, 10, 7, 7]              20\n",
            "          Dropout-24             [-1, 10, 7, 7]               0\n",
            "             ReLU-25             [-1, 10, 7, 7]               0\n",
            "           Conv2d-26             [-1, 32, 5, 5]           2,880\n",
            "        GroupNorm-27             [-1, 32, 5, 5]              64\n",
            "          Dropout-28             [-1, 32, 5, 5]               0\n",
            "             ReLU-29             [-1, 32, 5, 5]               0\n",
            "        AvgPool2d-30             [-1, 32, 1, 1]               0\n",
            "           Conv2d-31             [-1, 10, 1, 1]             320\n",
            "================================================================\n",
            "Total params: 7,684\n",
            "Trainable params: 7,684\n",
            "Non-trainable params: 0\n",
            "----------------------------------------------------------------\n",
            "Input size (MB): 0.00\n",
            "Forward/backward pass size (MB): 0.72\n",
            "Params size (MB): 0.03\n",
            "Estimated Total Size (MB): 0.75\n",
            "----------------------------------------------------------------\n",
            "\n",
            "EPOCH: 1\n"
          ]
        },
        {
          "output_type": "stream",
          "name": "stderr",
          "text": [
            "Loss=0.11822891980409622 Batch_id=468 Accuracy=87.11: 100%|██████████| 469/469 [00:20<00:00, 22.99it/s]"
          ]
        },
        {
          "output_type": "stream",
          "name": "stdout",
          "text": [
            " LR: [0.07]\n"
          ]
        },
        {
          "output_type": "stream",
          "name": "stderr",
          "text": [
            "\n"
          ]
        },
        {
          "output_type": "stream",
          "name": "stdout",
          "text": [
            "\n",
            "Test set: Average loss: 0.0759, Accuracy: 9784/10000 (97.84%)\n",
            "\n",
            "validation-accuracy improved from 0.00 to 97.84, saving model to /content/saved_models/MNIST_model_epoch-1_L1-0_group-Norm_val_acc-97.84.h5\n",
            "\n",
            "EPOCH: 2\n"
          ]
        },
        {
          "output_type": "stream",
          "name": "stderr",
          "text": [
            "Loss=0.12798760831356049 Batch_id=468 Accuracy=97.15: 100%|██████████| 469/469 [00:20<00:00, 22.41it/s]"
          ]
        },
        {
          "output_type": "stream",
          "name": "stdout",
          "text": [
            " LR: [0.065]\n"
          ]
        },
        {
          "output_type": "stream",
          "name": "stderr",
          "text": [
            "\n"
          ]
        },
        {
          "output_type": "stream",
          "name": "stdout",
          "text": [
            "\n",
            "Test set: Average loss: 0.0550, Accuracy: 9839/10000 (98.39%)\n",
            "\n",
            "validation-accuracy improved from 97.84 to 98.39, saving model to /content/saved_models/MNIST_model_epoch-2_L1-0_group-Norm_val_acc-98.39.h5\n",
            "\n",
            "EPOCH: 3\n"
          ]
        },
        {
          "output_type": "stream",
          "name": "stderr",
          "text": [
            "Loss=0.06911571323871613 Batch_id=468 Accuracy=97.93: 100%|██████████| 469/469 [00:20<00:00, 22.75it/s]"
          ]
        },
        {
          "output_type": "stream",
          "name": "stdout",
          "text": [
            " LR: [0.06035714285714285]\n"
          ]
        },
        {
          "output_type": "stream",
          "name": "stderr",
          "text": [
            "\n"
          ]
        },
        {
          "output_type": "stream",
          "name": "stdout",
          "text": [
            "\n",
            "Test set: Average loss: 0.0461, Accuracy: 9847/10000 (98.47%)\n",
            "\n",
            "validation-accuracy improved from 98.39 to 98.47, saving model to /content/saved_models/MNIST_model_epoch-3_L1-0_group-Norm_val_acc-98.47.h5\n",
            "\n",
            "EPOCH: 4\n"
          ]
        },
        {
          "output_type": "stream",
          "name": "stderr",
          "text": [
            "Loss=0.10220912098884583 Batch_id=468 Accuracy=97.97: 100%|██████████| 469/469 [00:20<00:00, 23.16it/s]"
          ]
        },
        {
          "output_type": "stream",
          "name": "stdout",
          "text": [
            " LR: [0.05604591836734693]\n"
          ]
        },
        {
          "output_type": "stream",
          "name": "stderr",
          "text": [
            "\n"
          ]
        },
        {
          "output_type": "stream",
          "name": "stdout",
          "text": [
            "\n",
            "Test set: Average loss: 0.0348, Accuracy: 9899/10000 (98.99%)\n",
            "\n",
            "validation-accuracy improved from 98.47 to 98.99, saving model to /content/saved_models/MNIST_model_epoch-4_L1-0_group-Norm_val_acc-98.99.h5\n",
            "\n",
            "EPOCH: 5\n"
          ]
        },
        {
          "output_type": "stream",
          "name": "stderr",
          "text": [
            "Loss=0.024037927389144897 Batch_id=468 Accuracy=98.32: 100%|██████████| 469/469 [00:20<00:00, 22.76it/s]"
          ]
        },
        {
          "output_type": "stream",
          "name": "stdout",
          "text": [
            " LR: [0.052042638483965]\n"
          ]
        },
        {
          "output_type": "stream",
          "name": "stderr",
          "text": [
            "\n"
          ]
        },
        {
          "output_type": "stream",
          "name": "stdout",
          "text": [
            "\n",
            "Test set: Average loss: 0.0333, Accuracy: 9900/10000 (99.00%)\n",
            "\n",
            "validation-accuracy improved from 98.99 to 99.00, saving model to /content/saved_models/MNIST_model_epoch-5_L1-0_group-Norm_val_acc-99.00.h5\n",
            "\n",
            "EPOCH: 6\n"
          ]
        },
        {
          "output_type": "stream",
          "name": "stderr",
          "text": [
            "Loss=0.05707244202494621 Batch_id=468 Accuracy=98.46: 100%|██████████| 469/469 [00:20<00:00, 22.65it/s]"
          ]
        },
        {
          "output_type": "stream",
          "name": "stdout",
          "text": [
            " LR: [0.04832530716368178]\n"
          ]
        },
        {
          "output_type": "stream",
          "name": "stderr",
          "text": [
            "\n"
          ]
        },
        {
          "output_type": "stream",
          "name": "stdout",
          "text": [
            "\n",
            "Test set: Average loss: 0.0297, Accuracy: 9908/10000 (99.08%)\n",
            "\n",
            "validation-accuracy improved from 99.00 to 99.08, saving model to /content/saved_models/MNIST_model_epoch-6_L1-0_group-Norm_val_acc-99.08.h5\n",
            "\n",
            "EPOCH: 7\n"
          ]
        },
        {
          "output_type": "stream",
          "name": "stderr",
          "text": [
            "Loss=0.03847074881196022 Batch_id=468 Accuracy=98.48: 100%|██████████| 469/469 [00:20<00:00, 22.46it/s]"
          ]
        },
        {
          "output_type": "stream",
          "name": "stdout",
          "text": [
            " LR: [0.04487349950913308]\n"
          ]
        },
        {
          "output_type": "stream",
          "name": "stderr",
          "text": [
            "\n"
          ]
        },
        {
          "output_type": "stream",
          "name": "stdout",
          "text": [
            "\n",
            "Test set: Average loss: 0.0267, Accuracy: 9916/10000 (99.16%)\n",
            "\n",
            "validation-accuracy improved from 99.08 to 99.16, saving model to /content/saved_models/MNIST_model_epoch-7_L1-0_group-Norm_val_acc-99.16.h5\n",
            "\n",
            "EPOCH: 8\n"
          ]
        },
        {
          "output_type": "stream",
          "name": "stderr",
          "text": [
            "Loss=0.06489526480436325 Batch_id=468 Accuracy=98.56: 100%|██████████| 469/469 [00:20<00:00, 22.99it/s]"
          ]
        },
        {
          "output_type": "stream",
          "name": "stdout",
          "text": [
            " LR: [0.041668249544195]\n"
          ]
        },
        {
          "output_type": "stream",
          "name": "stderr",
          "text": [
            "\n"
          ]
        },
        {
          "output_type": "stream",
          "name": "stdout",
          "text": [
            "\n",
            "Test set: Average loss: 0.0260, Accuracy: 9926/10000 (99.26%)\n",
            "\n",
            "validation-accuracy improved from 99.16 to 99.26, saving model to /content/saved_models/MNIST_model_epoch-8_L1-0_group-Norm_val_acc-99.26.h5\n",
            "\n",
            "EPOCH: 9\n"
          ]
        },
        {
          "output_type": "stream",
          "name": "stderr",
          "text": [
            "Loss=0.004382107872515917 Batch_id=468 Accuracy=98.67: 100%|██████████| 469/469 [00:20<00:00, 22.90it/s]"
          ]
        },
        {
          "output_type": "stream",
          "name": "stdout",
          "text": [
            " LR: [0.03869194600532393]\n"
          ]
        },
        {
          "output_type": "stream",
          "name": "stderr",
          "text": [
            "\n"
          ]
        },
        {
          "output_type": "stream",
          "name": "stdout",
          "text": [
            "\n",
            "Test set: Average loss: 0.0246, Accuracy: 9923/10000 (99.23%)\n",
            "\n",
            "\n",
            "EPOCH: 10\n"
          ]
        },
        {
          "output_type": "stream",
          "name": "stderr",
          "text": [
            "Loss=0.03757364675402641 Batch_id=468 Accuracy=98.75: 100%|██████████| 469/469 [00:20<00:00, 22.94it/s]"
          ]
        },
        {
          "output_type": "stream",
          "name": "stdout",
          "text": [
            " LR: [0.03592823557637222]\n"
          ]
        },
        {
          "output_type": "stream",
          "name": "stderr",
          "text": [
            "\n"
          ]
        },
        {
          "output_type": "stream",
          "name": "stdout",
          "text": [
            "\n",
            "Test set: Average loss: 0.0251, Accuracy: 9917/10000 (99.17%)\n",
            "\n",
            "\n",
            "EPOCH: 11\n"
          ]
        },
        {
          "output_type": "stream",
          "name": "stderr",
          "text": [
            "Loss=0.009781732223927975 Batch_id=468 Accuracy=98.78: 100%|██████████| 469/469 [00:20<00:00, 22.81it/s]"
          ]
        },
        {
          "output_type": "stream",
          "name": "stdout",
          "text": [
            " LR: [0.03336193303520277]\n"
          ]
        },
        {
          "output_type": "stream",
          "name": "stderr",
          "text": [
            "\n"
          ]
        },
        {
          "output_type": "stream",
          "name": "stdout",
          "text": [
            "\n",
            "Test set: Average loss: 0.0252, Accuracy: 9931/10000 (99.31%)\n",
            "\n",
            "validation-accuracy improved from 99.26 to 99.31, saving model to /content/saved_models/MNIST_model_epoch-11_L1-0_group-Norm_val_acc-99.31.h5\n",
            "\n",
            "EPOCH: 12\n"
          ]
        },
        {
          "output_type": "stream",
          "name": "stderr",
          "text": [
            "Loss=0.05590980127453804 Batch_id=468 Accuracy=98.90: 100%|██████████| 469/469 [00:20<00:00, 23.09it/s]"
          ]
        },
        {
          "output_type": "stream",
          "name": "stdout",
          "text": [
            " LR: [0.030978937818402566]\n"
          ]
        },
        {
          "output_type": "stream",
          "name": "stderr",
          "text": [
            "\n"
          ]
        },
        {
          "output_type": "stream",
          "name": "stdout",
          "text": [
            "\n",
            "Test set: Average loss: 0.0251, Accuracy: 9921/10000 (99.21%)\n",
            "\n",
            "\n",
            "EPOCH: 13\n"
          ]
        },
        {
          "output_type": "stream",
          "name": "stderr",
          "text": [
            "Loss=0.04318683221936226 Batch_id=468 Accuracy=98.88: 100%|██████████| 469/469 [00:20<00:00, 22.54it/s]"
          ]
        },
        {
          "output_type": "stream",
          "name": "stdout",
          "text": [
            " LR: [0.028766156545659522]\n"
          ]
        },
        {
          "output_type": "stream",
          "name": "stderr",
          "text": [
            "\n"
          ]
        },
        {
          "output_type": "stream",
          "name": "stdout",
          "text": [
            "\n",
            "Test set: Average loss: 0.0216, Accuracy: 9930/10000 (99.30%)\n",
            "\n",
            "\n",
            "EPOCH: 14\n"
          ]
        },
        {
          "output_type": "stream",
          "name": "stderr",
          "text": [
            "Loss=0.05582301318645477 Batch_id=468 Accuracy=98.98: 100%|██████████| 469/469 [00:20<00:00, 22.73it/s]"
          ]
        },
        {
          "output_type": "stream",
          "name": "stdout",
          "text": [
            " LR: [0.02671143107811241]\n"
          ]
        },
        {
          "output_type": "stream",
          "name": "stderr",
          "text": [
            "\n"
          ]
        },
        {
          "output_type": "stream",
          "name": "stdout",
          "text": [
            "\n",
            "Test set: Average loss: 0.0246, Accuracy: 9917/10000 (99.17%)\n",
            "\n",
            "\n",
            "EPOCH: 15\n"
          ]
        },
        {
          "output_type": "stream",
          "name": "stderr",
          "text": [
            "Loss=0.011843103915452957 Batch_id=468 Accuracy=98.94: 100%|██████████| 469/469 [00:20<00:00, 22.46it/s]"
          ]
        },
        {
          "output_type": "stream",
          "name": "stdout",
          "text": [
            " LR: [0.02480347171539009]\n"
          ]
        },
        {
          "output_type": "stream",
          "name": "stderr",
          "text": [
            "\n"
          ]
        },
        {
          "output_type": "stream",
          "name": "stdout",
          "text": [
            "\n",
            "Test set: Average loss: 0.0213, Accuracy: 9938/10000 (99.38%)\n",
            "\n",
            "validation-accuracy improved from 99.31 to 99.38, saving model to /content/saved_models/MNIST_model_epoch-15_L1-0_group-Norm_val_acc-99.38.h5\n",
            "\n",
            "EPOCH: 16\n"
          ]
        },
        {
          "output_type": "stream",
          "name": "stderr",
          "text": [
            "Loss=0.04277181997895241 Batch_id=468 Accuracy=98.99: 100%|██████████| 469/469 [00:20<00:00, 22.82it/s]"
          ]
        },
        {
          "output_type": "stream",
          "name": "stdout",
          "text": [
            " LR: [0.023031795164290797]\n"
          ]
        },
        {
          "output_type": "stream",
          "name": "stderr",
          "text": [
            "\n"
          ]
        },
        {
          "output_type": "stream",
          "name": "stdout",
          "text": [
            "\n",
            "Test set: Average loss: 0.0219, Accuracy: 9928/10000 (99.28%)\n",
            "\n",
            "\n",
            "EPOCH: 17\n"
          ]
        },
        {
          "output_type": "stream",
          "name": "stderr",
          "text": [
            "Loss=0.014408636838197708 Batch_id=468 Accuracy=99.00: 100%|██████████| 469/469 [00:20<00:00, 22.88it/s]"
          ]
        },
        {
          "output_type": "stream",
          "name": "stdout",
          "text": [
            " LR: [0.021386666938270023]\n"
          ]
        },
        {
          "output_type": "stream",
          "name": "stderr",
          "text": [
            "\n"
          ]
        },
        {
          "output_type": "stream",
          "name": "stdout",
          "text": [
            "\n",
            "Test set: Average loss: 0.0211, Accuracy: 9936/10000 (99.36%)\n",
            "\n",
            "\n",
            "EPOCH: 18\n"
          ]
        },
        {
          "output_type": "stream",
          "name": "stderr",
          "text": [
            "Loss=0.0054785446263849735 Batch_id=468 Accuracy=99.02: 100%|██████████| 469/469 [00:20<00:00, 23.13it/s]\n"
          ]
        },
        {
          "output_type": "stream",
          "name": "stdout",
          "text": [
            " LR: [0.019859047871250732]\n",
            "\n",
            "Test set: Average loss: 0.0216, Accuracy: 9934/10000 (99.34%)\n",
            "\n",
            "\n",
            "EPOCH: 19\n"
          ]
        },
        {
          "output_type": "stream",
          "name": "stderr",
          "text": [
            "Loss=0.07762015610933304 Batch_id=468 Accuracy=99.06: 100%|██████████| 469/469 [00:20<00:00, 22.87it/s]"
          ]
        },
        {
          "output_type": "stream",
          "name": "stdout",
          "text": [
            " LR: [0.01844054445187568]\n"
          ]
        },
        {
          "output_type": "stream",
          "name": "stderr",
          "text": [
            "\n"
          ]
        },
        {
          "output_type": "stream",
          "name": "stdout",
          "text": [
            "\n",
            "Test set: Average loss: 0.0225, Accuracy: 9935/10000 (99.35%)\n",
            "\n",
            "\n",
            "EPOCH: 20\n"
          ]
        },
        {
          "output_type": "stream",
          "name": "stderr",
          "text": [
            "Loss=0.007924552075564861 Batch_id=468 Accuracy=99.03: 100%|██████████| 469/469 [00:20<00:00, 22.79it/s]"
          ]
        },
        {
          "output_type": "stream",
          "name": "stdout",
          "text": [
            " LR: [0.01712336270531313]\n"
          ]
        },
        {
          "output_type": "stream",
          "name": "stderr",
          "text": [
            "\n"
          ]
        },
        {
          "output_type": "stream",
          "name": "stdout",
          "text": [
            "\n",
            "Test set: Average loss: 0.0196, Accuracy: 9941/10000 (99.41%)\n",
            "\n",
            "validation-accuracy improved from 99.38 to 99.41, saving model to /content/saved_models/MNIST_model_epoch-20_L1-0_group-Norm_val_acc-99.41.h5\n",
            "\n",
            "saving test_loss related numpy file to /content/saved_data/test_loss_l1_0_group-Norm.npy\n",
            "\n",
            "saving test_acc related numpy file to /content/saved_data/test_acc_l1_0_group-Norm.npy\n",
            "With group-Norm-Type & With L1-Regularization As: False, BEST MODEL IS: MNIST_model_epoch-20_L1-0_group-Norm_val_acc-99.41.h5, \n",
            "\n",
            "Confusion matrix & Classification Report For Model With group-Norm-Type & With L1-Regularization As: False\n",
            "\n",
            "[[ 976    0    1    0    0    0    2    1    0    0]\n",
            " [   0 1131    0    1    0    1    2    0    0    0]\n",
            " [   1    1 1027    1    0    0    0    2    0    0]\n",
            " [   0    0    1 1004    0    3    0    2    0    0]\n",
            " [   0    0    0    0  979    0    0    1    0    2]\n",
            " [   0    0    0    4    0  884    3    1    0    0]\n",
            " [   4    0    0    1    2    1  949    0    1    0]\n",
            " [   0    2    4    0    0    0    0 1020    1    1]\n",
            " [   1    0    1    0    0    1    0    1  969    1]\n",
            " [   0    0    0    0    5    1    0    1    0 1002]]\n",
            "\n",
            "\n",
            "              precision    recall  f1-score   support\n",
            "\n",
            "        zero       0.99      1.00      0.99       980\n",
            "         one       1.00      1.00      1.00      1135\n",
            "         two       0.99      1.00      0.99      1032\n",
            "       three       0.99      0.99      0.99      1010\n",
            "        four       0.99      1.00      0.99       982\n",
            "        five       0.99      0.99      0.99       892\n",
            "         six       0.99      0.99      0.99       958\n",
            "       seven       0.99      0.99      0.99      1028\n",
            "       eight       1.00      0.99      1.00       974\n",
            "        nine       1.00      0.99      0.99      1009\n",
            "\n",
            "    accuracy                           0.99     10000\n",
            "   macro avg       0.99      0.99      0.99     10000\n",
            "weighted avg       0.99      0.99      0.99     10000\n",
            "\n",
            "\n",
            "Indvidual Loss/Accuracy Plot For Model With group-Norm-Type & With L1-Regularization As: False\n",
            "\n"
          ]
        },
        {
          "output_type": "display_data",
          "data": {
            "text/plain": [
              "<Figure size 1080x720 with 4 Axes>"
            ],
            "image/png": "[encoded data removed]"
          },
          "metadata": {
            "needs_background": "light"
          }
        },
        {
          "output_type": "display_data",
          "data": {
            "text/plain": [
              "<Figure size 2160x648 with 30 Axes>"
            ],
            "image/png": "[encoded data removed]"
          },
          "metadata": {}
        },
        {
          "output_type": "stream",
          "name": "stdout",
          "text": [
            "\n",
            "\t\t\tITERATION NO: 2: Norm=layer, L1=False\n",
            "\n",
            " cuda\n",
            "Train & Test Neural Network With layer-Norm-Type & With L1-Regularization As: False\n",
            "\n",
            "Model Summary For Model With layer-Norm-Type & With L1-Regularization As: False\n",
            "----------------------------------------------------------------\n",
            "        Layer (type)               Output Shape         Param #\n",
            "================================================================\n",
            "            Conv2d-1           [-1, 10, 26, 26]              90\n",
            "         LayerNorm-2           [-1, 10, 26, 26]          13,520\n",
            "           Dropout-3           [-1, 10, 26, 26]               0\n",
            "              ReLU-4           [-1, 10, 26, 26]               0\n",
            "            Conv2d-5           [-1, 10, 24, 24]             900\n",
            "         LayerNorm-6           [-1, 10, 24, 24]          11,520\n",
            "           Dropout-7           [-1, 10, 24, 24]               0\n",
            "              ReLU-8           [-1, 10, 24, 24]               0\n",
            "            Conv2d-9           [-1, 15, 22, 22]           1,350\n",
            "        LayerNorm-10           [-1, 15, 22, 22]          14,520\n",
            "          Dropout-11           [-1, 15, 22, 22]               0\n",
            "             ReLU-12           [-1, 15, 22, 22]               0\n",
            "        MaxPool2d-13           [-1, 15, 11, 11]               0\n",
            "           Conv2d-14           [-1, 10, 11, 11]             150\n",
            "        LayerNorm-15           [-1, 10, 11, 11]           2,420\n",
            "          Dropout-16           [-1, 10, 11, 11]               0\n",
            "             ReLU-17           [-1, 10, 11, 11]               0\n",
            "           Conv2d-18             [-1, 10, 9, 9]             900\n",
            "        LayerNorm-19             [-1, 10, 9, 9]           1,620\n",
            "          Dropout-20             [-1, 10, 9, 9]               0\n",
            "             ReLU-21             [-1, 10, 9, 9]               0\n",
            "           Conv2d-22             [-1, 10, 7, 7]             900\n",
            "        LayerNorm-23             [-1, 10, 7, 7]             980\n",
            "          Dropout-24             [-1, 10, 7, 7]               0\n",
            "             ReLU-25             [-1, 10, 7, 7]               0\n",
            "           Conv2d-26             [-1, 32, 5, 5]           2,880\n",
            "        LayerNorm-27             [-1, 32, 5, 5]           1,600\n",
            "          Dropout-28             [-1, 32, 5, 5]               0\n",
            "             ReLU-29             [-1, 32, 5, 5]               0\n",
            "        AvgPool2d-30             [-1, 32, 1, 1]               0\n",
            "           Conv2d-31             [-1, 10, 1, 1]             320\n",
            "================================================================\n",
            "Total params: 53,670\n",
            "Trainable params: 53,670\n",
            "Non-trainable params: 0\n",
            "----------------------------------------------------------------\n",
            "Input size (MB): 0.00\n",
            "Forward/backward pass size (MB): 0.72\n",
            "Params size (MB): 0.20\n",
            "Estimated Total Size (MB): 0.93\n",
            "----------------------------------------------------------------\n",
            "\n",
            "EPOCH: 1\n"
          ]
        },
        {
          "output_type": "stream",
          "name": "stderr",
          "text": [
            "Loss=0.24521629512310028 Batch_id=468 Accuracy=85.09: 100%|██████████| 469/469 [00:20<00:00, 22.73it/s]\n"
          ]
        },
        {
          "output_type": "stream",
          "name": "stdout",
          "text": [
            " LR: [0.07]\n",
            "\n",
            "Test set: Average loss: 0.1096, Accuracy: 9694/10000 (96.94%)\n",
            "\n",
            "validation-accuracy improved from 0.00 to 96.94, saving model to /content/saved_models/MNIST_model_epoch-1_L1-0_layer-Norm_val_acc-96.94.h5\n",
            "\n",
            "EPOCH: 2\n"
          ]
        },
        {
          "output_type": "stream",
          "name": "stderr",
          "text": [
            "Loss=0.07888155430555344 Batch_id=468 Accuracy=96.74: 100%|██████████| 469/469 [00:21<00:00, 21.73it/s]"
          ]
        },
        {
          "output_type": "stream",
          "name": "stdout",
          "text": [
            " LR: [0.065]\n"
          ]
        },
        {
          "output_type": "stream",
          "name": "stderr",
          "text": [
            "\n"
          ]
        },
        {
          "output_type": "stream",
          "name": "stdout",
          "text": [
            "\n",
            "Test set: Average loss: 0.0773, Accuracy: 9765/10000 (97.65%)\n",
            "\n",
            "validation-accuracy improved from 96.94 to 97.65, saving model to /content/saved_models/MNIST_model_epoch-2_L1-0_layer-Norm_val_acc-97.65.h5\n",
            "\n",
            "EPOCH: 3\n"
          ]
        },
        {
          "output_type": "stream",
          "name": "stderr",
          "text": [
            "Loss=0.059327419847249985 Batch_id=468 Accuracy=97.51: 100%|██████████| 469/469 [00:20<00:00, 22.51it/s]"
          ]
        },
        {
          "output_type": "stream",
          "name": "stdout",
          "text": [
            " LR: [0.06035714285714285]\n"
          ]
        },
        {
          "output_type": "stream",
          "name": "stderr",
          "text": [
            "\n"
          ]
        },
        {
          "output_type": "stream",
          "name": "stdout",
          "text": [
            "\n",
            "Test set: Average loss: 0.0608, Accuracy: 9807/10000 (98.07%)\n",
            "\n",
            "validation-accuracy improved from 97.65 to 98.07, saving model to /content/saved_models/MNIST_model_epoch-3_L1-0_layer-Norm_val_acc-98.07.h5\n",
            "\n",
            "EPOCH: 4\n"
          ]
        },
        {
          "output_type": "stream",
          "name": "stderr",
          "text": [
            "Loss=0.06962857395410538 Batch_id=468 Accuracy=97.91: 100%|██████████| 469/469 [00:21<00:00, 22.33it/s]"
          ]
        },
        {
          "output_type": "stream",
          "name": "stdout",
          "text": [
            " LR: [0.05604591836734693]\n"
          ]
        },
        {
          "output_type": "stream",
          "name": "stderr",
          "text": [
            "\n"
          ]
        },
        {
          "output_type": "stream",
          "name": "stdout",
          "text": [
            "\n",
            "Test set: Average loss: 0.0463, Accuracy: 9866/10000 (98.66%)\n",
            "\n",
            "validation-accuracy improved from 98.07 to 98.66, saving model to /content/saved_models/MNIST_model_epoch-4_L1-0_layer-Norm_val_acc-98.66.h5\n",
            "\n",
            "EPOCH: 5\n"
          ]
        },
        {
          "output_type": "stream",
          "name": "stderr",
          "text": [
            "Loss=0.07317053526639938 Batch_id=468 Accuracy=98.07: 100%|██████████| 469/469 [00:21<00:00, 22.12it/s]\n"
          ]
        },
        {
          "output_type": "stream",
          "name": "stdout",
          "text": [
            " LR: [0.052042638483965]\n",
            "\n",
            "Test set: Average loss: 0.0367, Accuracy: 9878/10000 (98.78%)\n",
            "\n",
            "validation-accuracy improved from 98.66 to 98.78, saving model to /content/saved_models/MNIST_model_epoch-5_L1-0_layer-Norm_val_acc-98.78.h5\n",
            "\n",
            "EPOCH: 6\n"
          ]
        },
        {
          "output_type": "stream",
          "name": "stderr",
          "text": [
            "Loss=0.05504376068711281 Batch_id=468 Accuracy=98.36: 100%|██████████| 469/469 [00:20<00:00, 22.44it/s]"
          ]
        },
        {
          "output_type": "stream",
          "name": "stdout",
          "text": [
            " LR: [0.04832530716368178]\n"
          ]
        },
        {
          "output_type": "stream",
          "name": "stderr",
          "text": [
            "\n"
          ]
        },
        {
          "output_type": "stream",
          "name": "stdout",
          "text": [
            "\n",
            "Test set: Average loss: 0.0351, Accuracy: 9882/10000 (98.82%)\n",
            "\n",
            "validation-accuracy improved from 98.78 to 98.82, saving model to /content/saved_models/MNIST_model_epoch-6_L1-0_layer-Norm_val_acc-98.82.h5\n",
            "\n",
            "EPOCH: 7\n"
          ]
        },
        {
          "output_type": "stream",
          "name": "stderr",
          "text": [
            "Loss=0.011495853774249554 Batch_id=468 Accuracy=98.45: 100%|██████████| 469/469 [00:20<00:00, 22.45it/s]"
          ]
        },
        {
          "output_type": "stream",
          "name": "stdout",
          "text": [
            " LR: [0.04487349950913308]\n"
          ]
        },
        {
          "output_type": "stream",
          "name": "stderr",
          "text": [
            "\n"
          ]
        },
        {
          "output_type": "stream",
          "name": "stdout",
          "text": [
            "\n",
            "Test set: Average loss: 0.0402, Accuracy: 9867/10000 (98.67%)\n",
            "\n",
            "\n",
            "EPOCH: 8\n"
          ]
        },
        {
          "output_type": "stream",
          "name": "stderr",
          "text": [
            "Loss=0.05164717137813568 Batch_id=468 Accuracy=98.51: 100%|██████████| 469/469 [00:20<00:00, 22.43it/s]"
          ]
        },
        {
          "output_type": "stream",
          "name": "stdout",
          "text": [
            " LR: [0.041668249544195]\n"
          ]
        },
        {
          "output_type": "stream",
          "name": "stderr",
          "text": [
            "\n"
          ]
        },
        {
          "output_type": "stream",
          "name": "stdout",
          "text": [
            "\n",
            "Test set: Average loss: 0.0311, Accuracy: 9906/10000 (99.06%)\n",
            "\n",
            "validation-accuracy improved from 98.82 to 99.06, saving model to /content/saved_models/MNIST_model_epoch-8_L1-0_layer-Norm_val_acc-99.06.h5\n",
            "\n",
            "EPOCH: 9\n"
          ]
        },
        {
          "output_type": "stream",
          "name": "stderr",
          "text": [
            "Loss=0.04206462576985359 Batch_id=468 Accuracy=98.63: 100%|██████████| 469/469 [00:21<00:00, 22.28it/s]"
          ]
        },
        {
          "output_type": "stream",
          "name": "stdout",
          "text": [
            " LR: [0.03869194600532393]\n"
          ]
        },
        {
          "output_type": "stream",
          "name": "stderr",
          "text": [
            "\n"
          ]
        },
        {
          "output_type": "stream",
          "name": "stdout",
          "text": [
            "\n",
            "Test set: Average loss: 0.0296, Accuracy: 9906/10000 (99.06%)\n",
            "\n",
            "\n",
            "EPOCH: 10\n"
          ]
        },
        {
          "output_type": "stream",
          "name": "stderr",
          "text": [
            "Loss=0.061240628361701965 Batch_id=468 Accuracy=98.71: 100%|██████████| 469/469 [00:21<00:00, 22.08it/s]"
          ]
        },
        {
          "output_type": "stream",
          "name": "stdout",
          "text": [
            " LR: [0.03592823557637222]\n"
          ]
        },
        {
          "output_type": "stream",
          "name": "stderr",
          "text": [
            "\n"
          ]
        },
        {
          "output_type": "stream",
          "name": "stdout",
          "text": [
            "\n",
            "Test set: Average loss: 0.0264, Accuracy: 9924/10000 (99.24%)\n",
            "\n",
            "validation-accuracy improved from 99.06 to 99.24, saving model to /content/saved_models/MNIST_model_epoch-10_L1-0_layer-Norm_val_acc-99.24.h5\n",
            "\n",
            "EPOCH: 11\n"
          ]
        },
        {
          "output_type": "stream",
          "name": "stderr",
          "text": [
            "Loss=0.05256262794137001 Batch_id=468 Accuracy=98.82: 100%|██████████| 469/469 [00:20<00:00, 22.61it/s]"
          ]
        },
        {
          "output_type": "stream",
          "name": "stdout",
          "text": [
            " LR: [0.03336193303520277]\n"
          ]
        },
        {
          "output_type": "stream",
          "name": "stderr",
          "text": [
            "\n"
          ]
        },
        {
          "output_type": "stream",
          "name": "stdout",
          "text": [
            "\n",
            "Test set: Average loss: 0.0295, Accuracy: 9896/10000 (98.96%)\n",
            "\n",
            "\n",
            "EPOCH: 12\n"
          ]
        },
        {
          "output_type": "stream",
          "name": "stderr",
          "text": [
            "Loss=0.005434907972812653 Batch_id=468 Accuracy=98.78: 100%|██████████| 469/469 [00:20<00:00, 22.44it/s]"
          ]
        },
        {
          "output_type": "stream",
          "name": "stdout",
          "text": [
            " LR: [0.030978937818402566]\n"
          ]
        },
        {
          "output_type": "stream",
          "name": "stderr",
          "text": [
            "\n"
          ]
        },
        {
          "output_type": "stream",
          "name": "stdout",
          "text": [
            "\n",
            "Test set: Average loss: 0.0283, Accuracy: 9912/10000 (99.12%)\n",
            "\n",
            "\n",
            "EPOCH: 13\n"
          ]
        },
        {
          "output_type": "stream",
          "name": "stderr",
          "text": [
            "Loss=0.014539758674800396 Batch_id=468 Accuracy=98.85: 100%|██████████| 469/469 [00:21<00:00, 22.28it/s]"
          ]
        },
        {
          "output_type": "stream",
          "name": "stdout",
          "text": [
            " LR: [0.028766156545659522]\n"
          ]
        },
        {
          "output_type": "stream",
          "name": "stderr",
          "text": [
            "\n"
          ]
        },
        {
          "output_type": "stream",
          "name": "stdout",
          "text": [
            "\n",
            "Test set: Average loss: 0.0258, Accuracy: 9914/10000 (99.14%)\n",
            "\n",
            "\n",
            "EPOCH: 14\n"
          ]
        },
        {
          "output_type": "stream",
          "name": "stderr",
          "text": [
            "Loss=0.05399778485298157 Batch_id=468 Accuracy=98.94: 100%|██████████| 469/469 [00:20<00:00, 22.73it/s]"
          ]
        },
        {
          "output_type": "stream",
          "name": "stdout",
          "text": [
            " LR: [0.02671143107811241]\n"
          ]
        },
        {
          "output_type": "stream",
          "name": "stderr",
          "text": [
            "\n"
          ]
        },
        {
          "output_type": "stream",
          "name": "stdout",
          "text": [
            "\n",
            "Test set: Average loss: 0.0225, Accuracy: 9932/10000 (99.32%)\n",
            "\n",
            "validation-accuracy improved from 99.24 to 99.32, saving model to /content/saved_models/MNIST_model_epoch-14_L1-0_layer-Norm_val_acc-99.32.h5\n",
            "\n",
            "EPOCH: 15\n"
          ]
        },
        {
          "output_type": "stream",
          "name": "stderr",
          "text": [
            "Loss=0.06944869458675385 Batch_id=468 Accuracy=98.97: 100%|██████████| 469/469 [00:20<00:00, 22.49it/s]"
          ]
        },
        {
          "output_type": "stream",
          "name": "stdout",
          "text": [
            " LR: [0.02480347171539009]\n"
          ]
        },
        {
          "output_type": "stream",
          "name": "stderr",
          "text": [
            "\n"
          ]
        },
        {
          "output_type": "stream",
          "name": "stdout",
          "text": [
            "\n",
            "Test set: Average loss: 0.0285, Accuracy: 9907/10000 (99.07%)\n",
            "\n",
            "\n",
            "EPOCH: 16\n"
          ]
        },
        {
          "output_type": "stream",
          "name": "stderr",
          "text": [
            "Loss=0.01675938069820404 Batch_id=468 Accuracy=98.98: 100%|██████████| 469/469 [00:20<00:00, 22.62it/s]"
          ]
        },
        {
          "output_type": "stream",
          "name": "stdout",
          "text": [
            " LR: [0.023031795164290797]\n"
          ]
        },
        {
          "output_type": "stream",
          "name": "stderr",
          "text": [
            "\n"
          ]
        },
        {
          "output_type": "stream",
          "name": "stdout",
          "text": [
            "\n",
            "Test set: Average loss: 0.0232, Accuracy: 9929/10000 (99.29%)\n",
            "\n",
            "\n",
            "EPOCH: 17\n"
          ]
        },
        {
          "output_type": "stream",
          "name": "stderr",
          "text": [
            "Loss=0.026589274406433105 Batch_id=468 Accuracy=99.02: 100%|██████████| 469/469 [00:20<00:00, 22.66it/s]"
          ]
        },
        {
          "output_type": "stream",
          "name": "stdout",
          "text": [
            " LR: [0.021386666938270023]\n"
          ]
        },
        {
          "output_type": "stream",
          "name": "stderr",
          "text": [
            "\n"
          ]
        },
        {
          "output_type": "stream",
          "name": "stdout",
          "text": [
            "\n",
            "Test set: Average loss: 0.0220, Accuracy: 9933/10000 (99.33%)\n",
            "\n",
            "validation-accuracy improved from 99.32 to 99.33, saving model to /content/saved_models/MNIST_model_epoch-17_L1-0_layer-Norm_val_acc-99.33.h5\n",
            "\n",
            "EPOCH: 18\n"
          ]
        },
        {
          "output_type": "stream",
          "name": "stderr",
          "text": [
            "Loss=0.04990652576088905 Batch_id=468 Accuracy=99.07: 100%|██████████| 469/469 [00:21<00:00, 21.99it/s]"
          ]
        },
        {
          "output_type": "stream",
          "name": "stdout",
          "text": [
            " LR: [0.019859047871250732]\n"
          ]
        },
        {
          "output_type": "stream",
          "name": "stderr",
          "text": [
            "\n"
          ]
        },
        {
          "output_type": "stream",
          "name": "stdout",
          "text": [
            "\n",
            "Test set: Average loss: 0.0219, Accuracy: 9937/10000 (99.37%)\n",
            "\n",
            "validation-accuracy improved from 99.33 to 99.37, saving model to /content/saved_models/MNIST_model_epoch-18_L1-0_layer-Norm_val_acc-99.37.h5\n",
            "\n",
            "EPOCH: 19\n"
          ]
        },
        {
          "output_type": "stream",
          "name": "stderr",
          "text": [
            "Loss=0.061068013310432434 Batch_id=468 Accuracy=99.03: 100%|██████████| 469/469 [00:20<00:00, 22.59it/s]"
          ]
        },
        {
          "output_type": "stream",
          "name": "stdout",
          "text": [
            " LR: [0.01844054445187568]\n"
          ]
        },
        {
          "output_type": "stream",
          "name": "stderr",
          "text": [
            "\n"
          ]
        },
        {
          "output_type": "stream",
          "name": "stdout",
          "text": [
            "\n",
            "Test set: Average loss: 0.0250, Accuracy: 9921/10000 (99.21%)\n",
            "\n",
            "\n",
            "EPOCH: 20\n"
          ]
        },
        {
          "output_type": "stream",
          "name": "stderr",
          "text": [
            "Loss=0.007035830989480019 Batch_id=468 Accuracy=99.12: 100%|██████████| 469/469 [00:20<00:00, 22.65it/s]\n"
          ]
        },
        {
          "output_type": "stream",
          "name": "stdout",
          "text": [
            " LR: [0.01712336270531313]\n",
            "\n",
            "Test set: Average loss: 0.0217, Accuracy: 9935/10000 (99.35%)\n",
            "\n",
            "\n",
            "saving test_loss related numpy file to /content/saved_data/test_loss_l1_0_layer-Norm.npy\n",
            "\n",
            "saving test_acc related numpy file to /content/saved_data/test_acc_l1_0_layer-Norm.npy\n",
            "With layer-Norm-Type & With L1-Regularization As: False, BEST MODEL IS: MNIST_model_epoch-18_L1-0_layer-Norm_val_acc-99.37.h5, \n",
            "\n",
            "Confusion matrix & Classification Report For Model With layer-Norm-Type & With L1-Regularization As: False\n",
            "\n",
            "[[ 977    0    0    0    0    0    2    1    0    0]\n",
            " [   0 1132    1    0    0    0    1    1    0    0]\n",
            " [   1    2 1025    0    1    0    1    2    0    0]\n",
            " [   0    0    2 1004    0    2    0    1    1    0]\n",
            " [   0    0    0    0  978    0    0    0    0    4]\n",
            " [   1    0    0    5    0  885    1    0    0    0]\n",
            " [   5    2    0    0    2    1  947    0    0    1]\n",
            " [   0    3    5    0    0    0    0 1018    0    2]\n",
            " [   1    0    1    0    0    0    1    0  968    3]\n",
            " [   1    0    0    0    4    0    0    0    1 1003]]\n",
            "\n",
            "\n",
            "              precision    recall  f1-score   support\n",
            "\n",
            "        zero       0.99      1.00      0.99       980\n",
            "         one       0.99      1.00      1.00      1135\n",
            "         two       0.99      0.99      0.99      1032\n",
            "       three       1.00      0.99      0.99      1010\n",
            "        four       0.99      1.00      0.99       982\n",
            "        five       1.00      0.99      0.99       892\n",
            "         six       0.99      0.99      0.99       958\n",
            "       seven       1.00      0.99      0.99      1028\n",
            "       eight       1.00      0.99      1.00       974\n",
            "        nine       0.99      0.99      0.99      1009\n",
            "\n",
            "    accuracy                           0.99     10000\n",
            "   macro avg       0.99      0.99      0.99     10000\n",
            "weighted avg       0.99      0.99      0.99     10000\n",
            "\n",
            "\n",
            "Indvidual Loss/Accuracy Plot For Model With layer-Norm-Type & With L1-Regularization As: False\n",
            "\n"
          ]
        },
        {
          "output_type": "display_data",
          "data": {
            "text/plain": [
              "<Figure size 1080x720 with 4 Axes>"
            ],
            "image/png": "[encoded data removed]"
          },
          "metadata": {
            "needs_background": "light"
          }
        },
        {
          "output_type": "display_data",
          "data": {
            "text/plain": [
              "<Figure size 2160x648 with 30 Axes>"
            ],
            "image/png": "[encoded data removed]"
          },
          "metadata": {}
        },
        {
          "output_type": "stream",
          "name": "stdout",
          "text": [
            "\n",
            "\t\t\tITERATION NO: 3: Norm=batch, L1=True\n",
            "\n",
            " cuda\n",
            "Train & Test Neural Network With batch-Norm-Type & With L1-Regularization As: True\n",
            "\n",
            "Model Summary For Model With batch-Norm-Type & With L1-Regularization As: True\n",
            "----------------------------------------------------------------\n",
            "        Layer (type)               Output Shape         Param #\n",
            "================================================================\n",
            "            Conv2d-1           [-1, 10, 26, 26]              90\n",
            "       BatchNorm2d-2           [-1, 10, 26, 26]              20\n",
            "           Dropout-3           [-1, 10, 26, 26]               0\n",
            "              ReLU-4           [-1, 10, 26, 26]               0\n",
            "            Conv2d-5           [-1, 10, 24, 24]             900\n",
            "       BatchNorm2d-6           [-1, 10, 24, 24]              20\n",
            "           Dropout-7           [-1, 10, 24, 24]               0\n",
            "              ReLU-8           [-1, 10, 24, 24]               0\n",
            "            Conv2d-9           [-1, 15, 22, 22]           1,350\n",
            "      BatchNorm2d-10           [-1, 15, 22, 22]              30\n",
            "          Dropout-11           [-1, 15, 22, 22]               0\n",
            "             ReLU-12           [-1, 15, 22, 22]               0\n",
            "        MaxPool2d-13           [-1, 15, 11, 11]               0\n",
            "           Conv2d-14           [-1, 10, 11, 11]             150\n",
            "      BatchNorm2d-15           [-1, 10, 11, 11]              20\n",
            "          Dropout-16           [-1, 10, 11, 11]               0\n",
            "             ReLU-17           [-1, 10, 11, 11]               0\n",
            "           Conv2d-18             [-1, 10, 9, 9]             900\n",
            "      BatchNorm2d-19             [-1, 10, 9, 9]              20\n",
            "          Dropout-20             [-1, 10, 9, 9]               0\n",
            "             ReLU-21             [-1, 10, 9, 9]               0\n",
            "           Conv2d-22             [-1, 10, 7, 7]             900\n",
            "      BatchNorm2d-23             [-1, 10, 7, 7]              20\n",
            "          Dropout-24             [-1, 10, 7, 7]               0\n",
            "             ReLU-25             [-1, 10, 7, 7]               0\n",
            "           Conv2d-26             [-1, 32, 5, 5]           2,880\n",
            "      BatchNorm2d-27             [-1, 32, 5, 5]              64\n",
            "          Dropout-28             [-1, 32, 5, 5]               0\n",
            "             ReLU-29             [-1, 32, 5, 5]               0\n",
            "        AvgPool2d-30             [-1, 32, 1, 1]               0\n",
            "           Conv2d-31             [-1, 10, 1, 1]             320\n",
            "================================================================\n",
            "Total params: 7,684\n",
            "Trainable params: 7,684\n",
            "Non-trainable params: 0\n",
            "----------------------------------------------------------------\n",
            "Input size (MB): 0.00\n",
            "Forward/backward pass size (MB): 0.72\n",
            "Params size (MB): 0.03\n",
            "Estimated Total Size (MB): 0.75\n",
            "----------------------------------------------------------------\n",
            "\n",
            "EPOCH: 1\n"
          ]
        },
        {
          "output_type": "stream",
          "name": "stderr",
          "text": [
            "Loss=0.14280913770198822 Batch_id=468 Accuracy=92.17: 100%|██████████| 469/469 [00:21<00:00, 22.14it/s]"
          ]
        },
        {
          "output_type": "stream",
          "name": "stdout",
          "text": [
            " LR: [0.07]\n"
          ]
        },
        {
          "output_type": "stream",
          "name": "stderr",
          "text": [
            "\n"
          ]
        },
        {
          "output_type": "stream",
          "name": "stdout",
          "text": [
            "\n",
            "Test set: Average loss: 0.0476, Accuracy: 9858/10000 (98.58%)\n",
            "\n",
            "validation-accuracy improved from 0.00 to 98.58, saving model to /content/saved_models/MNIST_model_epoch-1_L1-1_batch-Norm_val_acc-98.58.h5\n",
            "\n",
            "EPOCH: 2\n"
          ]
        },
        {
          "output_type": "stream",
          "name": "stderr",
          "text": [
            "Loss=0.08872541785240173 Batch_id=468 Accuracy=97.95: 100%|██████████| 469/469 [00:20<00:00, 22.53it/s]"
          ]
        },
        {
          "output_type": "stream",
          "name": "stdout",
          "text": [
            " LR: [0.065]\n"
          ]
        },
        {
          "output_type": "stream",
          "name": "stderr",
          "text": [
            "\n"
          ]
        },
        {
          "output_type": "stream",
          "name": "stdout",
          "text": [
            "\n",
            "Test set: Average loss: 0.0366, Accuracy: 9887/10000 (98.87%)\n",
            "\n",
            "validation-accuracy improved from 98.58 to 98.87, saving model to /content/saved_models/MNIST_model_epoch-2_L1-1_batch-Norm_val_acc-98.87.h5\n",
            "\n",
            "EPOCH: 3\n"
          ]
        },
        {
          "output_type": "stream",
          "name": "stderr",
          "text": [
            "Loss=0.040764935314655304 Batch_id=468 Accuracy=98.33: 100%|██████████| 469/469 [00:21<00:00, 21.92it/s]"
          ]
        },
        {
          "output_type": "stream",
          "name": "stdout",
          "text": [
            " LR: [0.06035714285714285]\n"
          ]
        },
        {
          "output_type": "stream",
          "name": "stderr",
          "text": [
            "\n"
          ]
        },
        {
          "output_type": "stream",
          "name": "stdout",
          "text": [
            "\n",
            "Test set: Average loss: 0.0394, Accuracy: 9878/10000 (98.78%)\n",
            "\n",
            "\n",
            "EPOCH: 4\n"
          ]
        },
        {
          "output_type": "stream",
          "name": "stderr",
          "text": [
            "Loss=0.11885388195514679 Batch_id=468 Accuracy=98.47: 100%|██████████| 469/469 [00:21<00:00, 22.03it/s]"
          ]
        },
        {
          "output_type": "stream",
          "name": "stdout",
          "text": [
            " LR: [0.05604591836734693]\n"
          ]
        },
        {
          "output_type": "stream",
          "name": "stderr",
          "text": [
            "\n"
          ]
        },
        {
          "output_type": "stream",
          "name": "stdout",
          "text": [
            "\n",
            "Test set: Average loss: 0.0287, Accuracy: 9907/10000 (99.07%)\n",
            "\n",
            "validation-accuracy improved from 98.87 to 99.07, saving model to /content/saved_models/MNIST_model_epoch-4_L1-1_batch-Norm_val_acc-99.07.h5\n",
            "\n",
            "EPOCH: 5\n"
          ]
        },
        {
          "output_type": "stream",
          "name": "stderr",
          "text": [
            "Loss=0.03561149165034294 Batch_id=468 Accuracy=98.64: 100%|██████████| 469/469 [00:20<00:00, 22.37it/s]"
          ]
        },
        {
          "output_type": "stream",
          "name": "stdout",
          "text": [
            " LR: [0.052042638483965]\n"
          ]
        },
        {
          "output_type": "stream",
          "name": "stderr",
          "text": [
            "\n"
          ]
        },
        {
          "output_type": "stream",
          "name": "stdout",
          "text": [
            "\n",
            "Test set: Average loss: 0.0250, Accuracy: 9927/10000 (99.27%)\n",
            "\n",
            "validation-accuracy improved from 99.07 to 99.27, saving model to /content/saved_models/MNIST_model_epoch-5_L1-1_batch-Norm_val_acc-99.27.h5\n",
            "\n",
            "EPOCH: 6\n"
          ]
        },
        {
          "output_type": "stream",
          "name": "stderr",
          "text": [
            "Loss=0.032528046518564224 Batch_id=468 Accuracy=98.73: 100%|██████████| 469/469 [00:21<00:00, 21.64it/s]\n"
          ]
        },
        {
          "output_type": "stream",
          "name": "stdout",
          "text": [
            " LR: [0.04832530716368178]\n",
            "\n",
            "Test set: Average loss: 0.0254, Accuracy: 9931/10000 (99.31%)\n",
            "\n",
            "validation-accuracy improved from 99.27 to 99.31, saving model to /content/saved_models/MNIST_model_epoch-6_L1-1_batch-Norm_val_acc-99.31.h5\n",
            "\n",
            "EPOCH: 7\n"
          ]
        },
        {
          "output_type": "stream",
          "name": "stderr",
          "text": [
            "Loss=0.048823386430740356 Batch_id=468 Accuracy=98.81: 100%|██████████| 469/469 [00:21<00:00, 22.17it/s]"
          ]
        },
        {
          "output_type": "stream",
          "name": "stdout",
          "text": [
            " LR: [0.04487349950913308]\n"
          ]
        },
        {
          "output_type": "stream",
          "name": "stderr",
          "text": [
            "\n"
          ]
        },
        {
          "output_type": "stream",
          "name": "stdout",
          "text": [
            "\n",
            "Test set: Average loss: 0.0255, Accuracy: 9917/10000 (99.17%)\n",
            "\n",
            "\n",
            "EPOCH: 8\n"
          ]
        },
        {
          "output_type": "stream",
          "name": "stderr",
          "text": [
            "Loss=0.12775075435638428 Batch_id=468 Accuracy=98.83: 100%|██████████| 469/469 [00:21<00:00, 22.01it/s]"
          ]
        },
        {
          "output_type": "stream",
          "name": "stdout",
          "text": [
            " LR: [0.041668249544195]\n"
          ]
        },
        {
          "output_type": "stream",
          "name": "stderr",
          "text": [
            "\n"
          ]
        },
        {
          "output_type": "stream",
          "name": "stdout",
          "text": [
            "\n",
            "Test set: Average loss: 0.0230, Accuracy: 9929/10000 (99.29%)\n",
            "\n",
            "\n",
            "EPOCH: 9\n"
          ]
        },
        {
          "output_type": "stream",
          "name": "stderr",
          "text": [
            "Loss=0.13558989763259888 Batch_id=468 Accuracy=98.95: 100%|██████████| 469/469 [00:21<00:00, 22.21it/s]"
          ]
        },
        {
          "output_type": "stream",
          "name": "stdout",
          "text": [
            " LR: [0.03869194600532393]\n"
          ]
        },
        {
          "output_type": "stream",
          "name": "stderr",
          "text": [
            "\n"
          ]
        },
        {
          "output_type": "stream",
          "name": "stdout",
          "text": [
            "\n",
            "Test set: Average loss: 0.0227, Accuracy: 9933/10000 (99.33%)\n",
            "\n",
            "validation-accuracy improved from 99.31 to 99.33, saving model to /content/saved_models/MNIST_model_epoch-9_L1-1_batch-Norm_val_acc-99.33.h5\n",
            "\n",
            "EPOCH: 10\n"
          ]
        },
        {
          "output_type": "stream",
          "name": "stderr",
          "text": [
            "Loss=0.04315738379955292 Batch_id=468 Accuracy=98.98: 100%|██████████| 469/469 [00:21<00:00, 22.29it/s]"
          ]
        },
        {
          "output_type": "stream",
          "name": "stdout",
          "text": [
            " LR: [0.03592823557637222]\n"
          ]
        },
        {
          "output_type": "stream",
          "name": "stderr",
          "text": [
            "\n"
          ]
        },
        {
          "output_type": "stream",
          "name": "stdout",
          "text": [
            "\n",
            "Test set: Average loss: 0.0211, Accuracy: 9929/10000 (99.29%)\n",
            "\n",
            "\n",
            "EPOCH: 11\n"
          ]
        },
        {
          "output_type": "stream",
          "name": "stderr",
          "text": [
            "Loss=0.03486444428563118 Batch_id=468 Accuracy=99.04: 100%|██████████| 469/469 [00:21<00:00, 22.07it/s]\n"
          ]
        },
        {
          "output_type": "stream",
          "name": "stdout",
          "text": [
            " LR: [0.03336193303520277]\n",
            "\n",
            "Test set: Average loss: 0.0209, Accuracy: 9941/10000 (99.41%)\n",
            "\n",
            "validation-accuracy improved from 99.33 to 99.41, saving model to /content/saved_models/MNIST_model_epoch-11_L1-1_batch-Norm_val_acc-99.41.h5\n",
            "\n",
            "EPOCH: 12\n"
          ]
        },
        {
          "output_type": "stream",
          "name": "stderr",
          "text": [
            "Loss=0.07029236853122711 Batch_id=468 Accuracy=99.00: 100%|██████████| 469/469 [00:21<00:00, 22.32it/s]"
          ]
        },
        {
          "output_type": "stream",
          "name": "stdout",
          "text": [
            " LR: [0.030978937818402566]\n"
          ]
        },
        {
          "output_type": "stream",
          "name": "stderr",
          "text": [
            "\n"
          ]
        },
        {
          "output_type": "stream",
          "name": "stdout",
          "text": [
            "\n",
            "Test set: Average loss: 0.0204, Accuracy: 9936/10000 (99.36%)\n",
            "\n",
            "\n",
            "EPOCH: 13\n"
          ]
        },
        {
          "output_type": "stream",
          "name": "stderr",
          "text": [
            "Loss=0.0273443516343832 Batch_id=468 Accuracy=99.04: 100%|██████████| 469/469 [00:21<00:00, 21.94it/s]"
          ]
        },
        {
          "output_type": "stream",
          "name": "stdout",
          "text": [
            " LR: [0.028766156545659522]\n"
          ]
        },
        {
          "output_type": "stream",
          "name": "stderr",
          "text": [
            "\n"
          ]
        },
        {
          "output_type": "stream",
          "name": "stdout",
          "text": [
            "\n",
            "Test set: Average loss: 0.0189, Accuracy: 9942/10000 (99.42%)\n",
            "\n",
            "validation-accuracy improved from 99.41 to 99.42, saving model to /content/saved_models/MNIST_model_epoch-13_L1-1_batch-Norm_val_acc-99.42.h5\n",
            "\n",
            "EPOCH: 14\n"
          ]
        },
        {
          "output_type": "stream",
          "name": "stderr",
          "text": [
            "Loss=0.026785165071487427 Batch_id=468 Accuracy=99.16: 100%|██████████| 469/469 [00:21<00:00, 21.93it/s]"
          ]
        },
        {
          "output_type": "stream",
          "name": "stdout",
          "text": [
            " LR: [0.02671143107811241]\n"
          ]
        },
        {
          "output_type": "stream",
          "name": "stderr",
          "text": [
            "\n"
          ]
        },
        {
          "output_type": "stream",
          "name": "stdout",
          "text": [
            "\n",
            "Test set: Average loss: 0.0195, Accuracy: 9937/10000 (99.37%)\n",
            "\n",
            "\n",
            "EPOCH: 15\n"
          ]
        },
        {
          "output_type": "stream",
          "name": "stderr",
          "text": [
            "Loss=0.09266801178455353 Batch_id=468 Accuracy=99.10: 100%|██████████| 469/469 [00:21<00:00, 22.08it/s]"
          ]
        },
        {
          "output_type": "stream",
          "name": "stdout",
          "text": [
            " LR: [0.02480347171539009]\n"
          ]
        },
        {
          "output_type": "stream",
          "name": "stderr",
          "text": [
            "\n"
          ]
        },
        {
          "output_type": "stream",
          "name": "stdout",
          "text": [
            "\n",
            "Test set: Average loss: 0.0224, Accuracy: 9923/10000 (99.23%)\n",
            "\n",
            "\n",
            "EPOCH: 16\n"
          ]
        },
        {
          "output_type": "stream",
          "name": "stderr",
          "text": [
            "Loss=0.029575707390904427 Batch_id=468 Accuracy=99.13: 100%|██████████| 469/469 [00:21<00:00, 22.31it/s]"
          ]
        },
        {
          "output_type": "stream",
          "name": "stdout",
          "text": [
            " LR: [0.023031795164290797]\n"
          ]
        },
        {
          "output_type": "stream",
          "name": "stderr",
          "text": [
            "\n"
          ]
        },
        {
          "output_type": "stream",
          "name": "stdout",
          "text": [
            "\n",
            "Test set: Average loss: 0.0197, Accuracy: 9936/10000 (99.36%)\n",
            "\n",
            "\n",
            "EPOCH: 17\n"
          ]
        },
        {
          "output_type": "stream",
          "name": "stderr",
          "text": [
            "Loss=0.11099619418382645 Batch_id=468 Accuracy=99.16: 100%|██████████| 469/469 [00:21<00:00, 21.98it/s]"
          ]
        },
        {
          "output_type": "stream",
          "name": "stdout",
          "text": [
            " LR: [0.021386666938270023]\n"
          ]
        },
        {
          "output_type": "stream",
          "name": "stderr",
          "text": [
            "\n"
          ]
        },
        {
          "output_type": "stream",
          "name": "stdout",
          "text": [
            "\n",
            "Test set: Average loss: 0.0189, Accuracy: 9940/10000 (99.40%)\n",
            "\n",
            "\n",
            "EPOCH: 18\n"
          ]
        },
        {
          "output_type": "stream",
          "name": "stderr",
          "text": [
            "Loss=0.039049938321113586 Batch_id=468 Accuracy=99.18: 100%|██████████| 469/469 [00:21<00:00, 21.97it/s]"
          ]
        },
        {
          "output_type": "stream",
          "name": "stdout",
          "text": [
            " LR: [0.019859047871250732]\n"
          ]
        },
        {
          "output_type": "stream",
          "name": "stderr",
          "text": [
            "\n"
          ]
        },
        {
          "output_type": "stream",
          "name": "stdout",
          "text": [
            "\n",
            "Test set: Average loss: 0.0172, Accuracy: 9943/10000 (99.43%)\n",
            "\n",
            "validation-accuracy improved from 99.42 to 99.43, saving model to /content/saved_models/MNIST_model_epoch-18_L1-1_batch-Norm_val_acc-99.43.h5\n",
            "\n",
            "EPOCH: 19\n"
          ]
        },
        {
          "output_type": "stream",
          "name": "stderr",
          "text": [
            "Loss=0.054264988750219345 Batch_id=468 Accuracy=99.16: 100%|██████████| 469/469 [00:21<00:00, 22.18it/s]"
          ]
        },
        {
          "output_type": "stream",
          "name": "stdout",
          "text": [
            " LR: [0.01844054445187568]\n"
          ]
        },
        {
          "output_type": "stream",
          "name": "stderr",
          "text": [
            "\n"
          ]
        },
        {
          "output_type": "stream",
          "name": "stdout",
          "text": [
            "\n",
            "Test set: Average loss: 0.0178, Accuracy: 9947/10000 (99.47%)\n",
            "\n",
            "validation-accuracy improved from 99.43 to 99.47, saving model to /content/saved_models/MNIST_model_epoch-19_L1-1_batch-Norm_val_acc-99.47.h5\n",
            "\n",
            "EPOCH: 20\n"
          ]
        },
        {
          "output_type": "stream",
          "name": "stderr",
          "text": [
            "Loss=0.06437744945287704 Batch_id=468 Accuracy=99.23: 100%|██████████| 469/469 [00:21<00:00, 22.09it/s]\n"
          ]
        },
        {
          "output_type": "stream",
          "name": "stdout",
          "text": [
            " LR: [0.01712336270531313]\n",
            "\n",
            "Test set: Average loss: 0.0200, Accuracy: 9936/10000 (99.36%)\n",
            "\n",
            "\n",
            "saving test_loss related numpy file to /content/saved_data/test_loss_l1_1_batch-Norm.npy\n",
            "\n",
            "saving test_acc related numpy file to /content/saved_data/test_acc_l1_1_batch-Norm.npy\n",
            "With batch-Norm-Type & With L1-Regularization As: True, BEST MODEL IS: MNIST_model_epoch-19_L1-1_batch-Norm_val_acc-99.47.h5, \n",
            "\n",
            "Confusion matrix & Classification Report For Model With batch-Norm-Type & With L1-Regularization As: True\n",
            "\n",
            "[[ 978    0    0    0    0    0    2    0    0    0]\n",
            " [   0 1133    0    0    0    0    2    0    0    0]\n",
            " [   2    0 1024    1    0    0    0    5    0    0]\n",
            " [   0    0    1 1006    0    2    0    0    1    0]\n",
            " [   0    0    0    0  979    0    0    0    0    3]\n",
            " [   1    0    0    2    0  885    1    0    0    3]\n",
            " [   2    1    1    0    2    1  950    0    1    0]\n",
            " [   0    5    3    0    0    0    0 1020    0    0]\n",
            " [   0    0    2    0    0    1    0    0  970    1]\n",
            " [   0    0    0    0    4    0    0    2    1 1002]]\n",
            "\n",
            "\n",
            "              precision    recall  f1-score   support\n",
            "\n",
            "        zero       0.99      1.00      1.00       980\n",
            "         one       0.99      1.00      1.00      1135\n",
            "         two       0.99      0.99      0.99      1032\n",
            "       three       1.00      1.00      1.00      1010\n",
            "        four       0.99      1.00      1.00       982\n",
            "        five       1.00      0.99      0.99       892\n",
            "         six       0.99      0.99      0.99       958\n",
            "       seven       0.99      0.99      0.99      1028\n",
            "       eight       1.00      1.00      1.00       974\n",
            "        nine       0.99      0.99      0.99      1009\n",
            "\n",
            "    accuracy                           0.99     10000\n",
            "   macro avg       0.99      0.99      0.99     10000\n",
            "weighted avg       0.99      0.99      0.99     10000\n",
            "\n",
            "\n",
            "Indvidual Loss/Accuracy Plot For Model With batch-Norm-Type & With L1-Regularization As: True\n",
            "\n"
          ]
        },
        {
          "output_type": "display_data",
          "data": {
            "text/plain": [
              "<Figure size 1080x720 with 4 Axes>"
            ],
            "image/png": "[encoded data removed]"
          },
          "metadata": {
            "needs_background": "light"
          }
        },
        {
          "output_type": "display_data",
          "data": {
            "text/plain": [
              "<Figure size 2160x648 with 30 Axes>"
            ],
            "image/png": "[encoded data removed]"
          },
          "metadata": {}
        }
      ]
    },
    {
      "cell_type": "markdown",
      "source": [
        "### Plot 2 consolidated curves: one with test accuracies & another with test-loss for all above 3 cases."
      ],
      "metadata": {
        "id": "AN6OXibc6a-2"
      }
    },
    {
      "cell_type": "code",
      "source": [
        "test_loss = []\n",
        "test_acc = []\n",
        "for L1 in [False, True]:\n",
        "    for Norm in ['group', 'layer', 'batch']:\n",
        "        if ((L1==False)&(Norm=='batch'))or((L1==True)&(Norm=='group'))or((L1==True)&(Norm=='layer')):\n",
        "          continue\n",
        "        test_loss_l1_Norm, test_acc_l1_Norm = load_acc_loss(\n",
        "                                                         test_loss_file_name='test_loss_l1_{}_{}-Norm.npy'.format(int(L1), Norm),\n",
        "                                                         test_acc_file_name='test_acc_l1_{}_{}-Norm.npy'.format(int(L1), Norm)\n",
        "                                                         )\n",
        "        test_loss.append(test_loss_l1_Norm)\n",
        "        test_acc.append(test_acc_l1_Norm)\n",
        "\n",
        "plot_curves(test_acc[0], test_acc[1], test_acc[2], test_loss[0], test_loss[1], test_loss[2])"
      ],
      "metadata": {
        "id": "cKlC_HWw8hxv",
        "colab": {
          "base_uri": "https://localhost:8080/",
          "height": 844
        },
        "outputId": "1cad2d77-f069-4104-e104-9cac1bdb9d37"
      },
      "execution_count": 21,
      "outputs": [
        {
          "output_type": "stream",
          "name": "stdout",
          "text": [
            "\n",
            "loading test_loss related numpy file from /content/saved_data/test_loss_l1_0_group-Norm.npy\n",
            "\n",
            "loading test_acc related numpy file from /content/saved_data/test_acc_l1_0_group-Norm.npy\n",
            "\n",
            "loading test_loss related numpy file from /content/saved_data/test_loss_l1_0_layer-Norm.npy\n",
            "\n",
            "loading test_acc related numpy file from /content/saved_data/test_acc_l1_0_layer-Norm.npy\n",
            "\n",
            "loading test_loss related numpy file from /content/saved_data/test_loss_l1_1_batch-Norm.npy\n",
            "\n",
            "loading test_acc related numpy file from /content/saved_data/test_acc_l1_1_batch-Norm.npy\n"
          ]
        },
        {
          "output_type": "display_data",
          "data": {
            "text/plain": [
              "<Figure size 1440x720 with 2 Axes>"
            ],
            "image/png": "[encoded data removed]"
          },
          "metadata": {
            "needs_background": "light"
          }
        }
      ]
    },
    {
      "cell_type": "code",
      "source": [],
      "metadata": {
        "id": "l3p4rZx7Pr3N"
      },
      "execution_count": 21,
      "outputs": []
    },
    {
      "cell_type": "code",
      "execution_count": 21,
      "metadata": {
        "id": "Cbb4oCpebAA_"
      },
      "outputs": [],
      "source": []
    }
  ],
  "metadata": {
    "accelerator": "GPU",
    "colab": {
      "provenance": [],
      "machine_shape": "hm"
    },
    "kernelspec": {
      "display_name": "Python 3",
      "language": "python",
      "name": "python3"
    },
    "language_info": {
      "codemirror_mode": {
        "name": "ipython",
        "version": 3
      },
      "file_extension": ".py",
      "mimetype": "text/x-python",
      "name": "python",
      "nbconvert_exporter": "python",
      "pygments_lexer": "ipython3",
      "version": "3.6.7"
    },
    "widgets": {
      "application/vnd.jupyter.widget-state+json": {
        "5bdef1d0f38b4044b516da178a75b91e": {
          "model_module": "@jupyter-widgets/controls",
          "model_name": "HBoxModel",
          "model_module_version": "1.5.0",
          "state": {
            "_dom_classes": [],
            "_model_module": "@jupyter-widgets/controls",
            "_model_module_version": "1.5.0",
            "_model_name": "HBoxModel",
            "_view_count": null,
            "_view_module": "@jupyter-widgets/controls",
            "_view_module_version": "1.5.0",
            "_view_name": "HBoxView",
            "box_style": "",
            "children": [
              "IPY_MODEL_ddd927ab8b2c40db87c226aedaa33cd3",
              "IPY_MODEL_9865eadc9f6e45b1a20b65ef643e4e97",
              "IPY_MODEL_13a18d564b6e488cbd2b1e278b4e54a4"
            ],
            "layout": "IPY_MODEL_f6ca486fd2ad4711a689957d2781b4f4"
          }
        },
        "ddd927ab8b2c40db87c226aedaa33cd3": {
          "model_module": "@jupyter-widgets/controls",
          "model_name": "HTMLModel",
          "model_module_version": "1.5.0",
          "state": {
            "_dom_classes": [],
            "_model_module": "@jupyter-widgets/controls",
            "_model_module_version": "1.5.0",
            "_model_name": "HTMLModel",
            "_view_count": null,
            "_view_module": "@jupyter-widgets/controls",
            "_view_module_version": "1.5.0",
            "_view_name": "HTMLView",
            "description": "",
            "description_tooltip": null,
            "layout": "IPY_MODEL_93bff87beca042eb84a4bce1635833bc",
            "placeholder": "​",
            "style": "IPY_MODEL_c2569e35fbc6419baa4c50f954251886",
            "value": "100%"
          }
        },
        "9865eadc9f6e45b1a20b65ef643e4e97": {
          "model_module": "@jupyter-widgets/controls",
          "model_name": "FloatProgressModel",
          "model_module_version": "1.5.0",
          "state": {
            "_dom_classes": [],
            "_model_module": "@jupyter-widgets/controls",
            "_model_module_version": "1.5.0",
            "_model_name": "FloatProgressModel",
            "_view_count": null,
            "_view_module": "@jupyter-widgets/controls",
            "_view_module_version": "1.5.0",
            "_view_name": "ProgressView",
            "bar_style": "success",
            "description": "",
            "description_tooltip": null,
            "layout": "IPY_MODEL_abbb046b58314dceb78a7964d3ba4ea6",
            "max": 9912422,
            "min": 0,
            "orientation": "horizontal",
            "style": "IPY_MODEL_dfa4d898fa7c422b8374f386a3bf1c1d",
            "value": 9912422
          }
        },
        "13a18d564b6e488cbd2b1e278b4e54a4": {
          "model_module": "@jupyter-widgets/controls",
          "model_name": "HTMLModel",
          "model_module_version": "1.5.0",
          "state": {
            "_dom_classes": [],
            "_model_module": "@jupyter-widgets/controls",
            "_model_module_version": "1.5.0",
            "_model_name": "HTMLModel",
            "_view_count": null,
            "_view_module": "@jupyter-widgets/controls",
            "_view_module_version": "1.5.0",
            "_view_name": "HTMLView",
            "description": "",
            "description_tooltip": null,
            "layout": "IPY_MODEL_e60627747c3b489b8c8e78622a39ef16",
            "placeholder": "​",
            "style": "IPY_MODEL_309d6bc7f7b04caf8d1f9dc18dcbe868",
            "value": " 9912422/9912422 [00:00&lt;00:00, 132748741.96it/s]"
          }
        },
        "f6ca486fd2ad4711a689957d2781b4f4": {
          "model_module": "@jupyter-widgets/base",
          "model_name": "LayoutModel",
          "model_module_version": "1.2.0",
          "state": {
            "_model_module": "@jupyter-widgets/base",
            "_model_module_version": "1.2.0",
            "_model_name": "LayoutModel",
            "_view_count": null,
            "_view_module": "@jupyter-widgets/base",
            "_view_module_version": "1.2.0",
            "_view_name": "LayoutView",
            "align_content": null,
            "align_items": null,
            "align_self": null,
            "border": null,
            "bottom": null,
            "display": null,
            "flex": null,
            "flex_flow": null,
            "grid_area": null,
            "grid_auto_columns": null,
            "grid_auto_flow": null,
            "grid_auto_rows": null,
            "grid_column": null,
            "grid_gap": null,
            "grid_row": null,
            "grid_template_areas": null,
            "grid_template_columns": null,
            "grid_template_rows": null,
            "height": null,
            "justify_content": null,
            "justify_items": null,
            "left": null,
            "margin": null,
            "max_height": null,
            "max_width": null,
            "min_height": null,
            "min_width": null,
            "object_fit": null,
            "object_position": null,
            "order": null,
            "overflow": null,
            "overflow_x": null,
            "overflow_y": null,
            "padding": null,
            "right": null,
            "top": null,
            "visibility": null,
            "width": null
          }
        },
        "93bff87beca042eb84a4bce1635833bc": {
          "model_module": "@jupyter-widgets/base",
          "model_name": "LayoutModel",
          "model_module_version": "1.2.0",
          "state": {
            "_model_module": "@jupyter-widgets/base",
            "_model_module_version": "1.2.0",
            "_model_name": "LayoutModel",
            "_view_count": null,
            "_view_module": "@jupyter-widgets/base",
            "_view_module_version": "1.2.0",
            "_view_name": "LayoutView",
            "align_content": null,
            "align_items": null,
            "align_self": null,
            "border": null,
            "bottom": null,
            "display": null,
            "flex": null,
            "flex_flow": null,
            "grid_area": null,
            "grid_auto_columns": null,
            "grid_auto_flow": null,
            "grid_auto_rows": null,
            "grid_column": null,
            "grid_gap": null,
            "grid_row": null,
            "grid_template_areas": null,
            "grid_template_columns": null,
            "grid_template_rows": null,
            "height": null,
            "justify_content": null,
            "justify_items": null,
            "left": null,
            "margin": null,
            "max_height": null,
            "max_width": null,
            "min_height": null,
            "min_width": null,
            "object_fit": null,
            "object_position": null,
            "order": null,
            "overflow": null,
            "overflow_x": null,
            "overflow_y": null,
            "padding": null,
            "right": null,
            "top": null,
            "visibility": null,
            "width": null
          }
        },
        "c2569e35fbc6419baa4c50f954251886": {
          "model_module": "@jupyter-widgets/controls",
          "model_name": "DescriptionStyleModel",
          "model_module_version": "1.5.0",
          "state": {
            "_model_module": "@jupyter-widgets/controls",
            "_model_module_version": "1.5.0",
            "_model_name": "DescriptionStyleModel",
            "_view_count": null,
            "_view_module": "@jupyter-widgets/base",
            "_view_module_version": "1.2.0",
            "_view_name": "StyleView",
            "description_width": ""
          }
        },
        "abbb046b58314dceb78a7964d3ba4ea6": {
          "model_module": "@jupyter-widgets/base",
          "model_name": "LayoutModel",
          "model_module_version": "1.2.0",
          "state": {
            "_model_module": "@jupyter-widgets/base",
            "_model_module_version": "1.2.0",
            "_model_name": "LayoutModel",
            "_view_count": null,
            "_view_module": "@jupyter-widgets/base",
            "_view_module_version": "1.2.0",
            "_view_name": "LayoutView",
            "align_content": null,
            "align_items": null,
            "align_self": null,
            "border": null,
            "bottom": null,
            "display": null,
            "flex": null,
            "flex_flow": null,
            "grid_area": null,
            "grid_auto_columns": null,
            "grid_auto_flow": null,
            "grid_auto_rows": null,
            "grid_column": null,
            "grid_gap": null,
            "grid_row": null,
            "grid_template_areas": null,
            "grid_template_columns": null,
            "grid_template_rows": null,
            "height": null,
            "justify_content": null,
            "justify_items": null,
            "left": null,
            "margin": null,
            "max_height": null,
            "max_width": null,
            "min_height": null,
            "min_width": null,
            "object_fit": null,
            "object_position": null,
            "order": null,
            "overflow": null,
            "overflow_x": null,
            "overflow_y": null,
            "padding": null,
            "right": null,
            "top": null,
            "visibility": null,
            "width": null
          }
        },
        "dfa4d898fa7c422b8374f386a3bf1c1d": {
          "model_module": "@jupyter-widgets/controls",
          "model_name": "ProgressStyleModel",
          "model_module_version": "1.5.0",
          "state": {
            "_model_module": "@jupyter-widgets/controls",
            "_model_module_version": "1.5.0",
            "_model_name": "ProgressStyleModel",
            "_view_count": null,
            "_view_module": "@jupyter-widgets/base",
            "_view_module_version": "1.2.0",
            "_view_name": "StyleView",
            "bar_color": null,
            "description_width": ""
          }
        },
        "e60627747c3b489b8c8e78622a39ef16": {
          "model_module": "@jupyter-widgets/base",
          "model_name": "LayoutModel",
          "model_module_version": "1.2.0",
          "state": {
            "_model_module": "@jupyter-widgets/base",
            "_model_module_version": "1.2.0",
            "_model_name": "LayoutModel",
            "_view_count": null,
            "_view_module": "@jupyter-widgets/base",
            "_view_module_version": "1.2.0",
            "_view_name": "LayoutView",
            "align_content": null,
            "align_items": null,
            "align_self": null,
            "border": null,
            "bottom": null,
            "display": null,
            "flex": null,
            "flex_flow": null,
            "grid_area": null,
            "grid_auto_columns": null,
            "grid_auto_flow": null,
            "grid_auto_rows": null,
            "grid_column": null,
            "grid_gap": null,
            "grid_row": null,
            "grid_template_areas": null,
            "grid_template_columns": null,
            "grid_template_rows": null,
            "height": null,
            "justify_content": null,
            "justify_items": null,
            "left": null,
            "margin": null,
            "max_height": null,
            "max_width": null,
            "min_height": null,
            "min_width": null,
            "object_fit": null,
            "object_position": null,
            "order": null,
            "overflow": null,
            "overflow_x": null,
            "overflow_y": null,
            "padding": null,
            "right": null,
            "top": null,
            "visibility": null,
            "width": null
          }
        },
        "309d6bc7f7b04caf8d1f9dc18dcbe868": {
          "model_module": "@jupyter-widgets/controls",
          "model_name": "DescriptionStyleModel",
          "model_module_version": "1.5.0",
          "state": {
            "_model_module": "@jupyter-widgets/controls",
            "_model_module_version": "1.5.0",
            "_model_name": "DescriptionStyleModel",
            "_view_count": null,
            "_view_module": "@jupyter-widgets/base",
            "_view_module_version": "1.2.0",
            "_view_name": "StyleView",
            "description_width": ""
          }
        },
        "7e0885547e0545b68657c1eb7b9c7a55": {
          "model_module": "@jupyter-widgets/controls",
          "model_name": "HBoxModel",
          "model_module_version": "1.5.0",
          "state": {
            "_dom_classes": [],
            "_model_module": "@jupyter-widgets/controls",
            "_model_module_version": "1.5.0",
            "_model_name": "HBoxModel",
            "_view_count": null,
            "_view_module": "@jupyter-widgets/controls",
            "_view_module_version": "1.5.0",
            "_view_name": "HBoxView",
            "box_style": "",
            "children": [
              "IPY_MODEL_8cf36909a8044eac86a3abfa4062f41c",
              "IPY_MODEL_e1fc25569b2244e4b98acef0e6c562fd",
              "IPY_MODEL_2afa1f0026464f7a90bd9558e018fe03"
            ],
            "layout": "IPY_MODEL_0cdcf7ebb2af40089e44fc067a8111d4"
          }
        },
        "8cf36909a8044eac86a3abfa4062f41c": {
          "model_module": "@jupyter-widgets/controls",
          "model_name": "HTMLModel",
          "model_module_version": "1.5.0",
          "state": {
            "_dom_classes": [],
            "_model_module": "@jupyter-widgets/controls",
            "_model_module_version": "1.5.0",
            "_model_name": "HTMLModel",
            "_view_count": null,
            "_view_module": "@jupyter-widgets/controls",
            "_view_module_version": "1.5.0",
            "_view_name": "HTMLView",
            "description": "",
            "description_tooltip": null,
            "layout": "IPY_MODEL_7023c3b29ea84fbf8584c257b4967cfb",
            "placeholder": "​",
            "style": "IPY_MODEL_18fdcd42aab649ab8cc4bd002ce9ccb2",
            "value": "100%"
          }
        },
        "e1fc25569b2244e4b98acef0e6c562fd": {
          "model_module": "@jupyter-widgets/controls",
          "model_name": "FloatProgressModel",
          "model_module_version": "1.5.0",
          "state": {
            "_dom_classes": [],
            "_model_module": "@jupyter-widgets/controls",
            "_model_module_version": "1.5.0",
            "_model_name": "FloatProgressModel",
            "_view_count": null,
            "_view_module": "@jupyter-widgets/controls",
            "_view_module_version": "1.5.0",
            "_view_name": "ProgressView",
            "bar_style": "success",
            "description": "",
            "description_tooltip": null,
            "layout": "IPY_MODEL_2213bd9f7eaf4138b0fd204a386ed132",
            "max": 28881,
            "min": 0,
            "orientation": "horizontal",
            "style": "IPY_MODEL_ea24ca8a9b5f496d8d4d4e4e53114f0b",
            "value": 28881
          }
        },
        "2afa1f0026464f7a90bd9558e018fe03": {
          "model_module": "@jupyter-widgets/controls",
          "model_name": "HTMLModel",
          "model_module_version": "1.5.0",
          "state": {
            "_dom_classes": [],
            "_model_module": "@jupyter-widgets/controls",
            "_model_module_version": "1.5.0",
            "_model_name": "HTMLModel",
            "_view_count": null,
            "_view_module": "@jupyter-widgets/controls",
            "_view_module_version": "1.5.0",
            "_view_name": "HTMLView",
            "description": "",
            "description_tooltip": null,
            "layout": "IPY_MODEL_29a7a6dc5f314961a8dfaefc74337703",
            "placeholder": "​",
            "style": "IPY_MODEL_7e0c4478412d455da4f87d277734219c",
            "value": " 28881/28881 [00:00&lt;00:00, 2397255.03it/s]"
          }
        },
        "0cdcf7ebb2af40089e44fc067a8111d4": {
          "model_module": "@jupyter-widgets/base",
          "model_name": "LayoutModel",
          "model_module_version": "1.2.0",
          "state": {
            "_model_module": "@jupyter-widgets/base",
            "_model_module_version": "1.2.0",
            "_model_name": "LayoutModel",
            "_view_count": null,
            "_view_module": "@jupyter-widgets/base",
            "_view_module_version": "1.2.0",
            "_view_name": "LayoutView",
            "align_content": null,
            "align_items": null,
            "align_self": null,
            "border": null,
            "bottom": null,
            "display": null,
            "flex": null,
            "flex_flow": null,
            "grid_area": null,
            "grid_auto_columns": null,
            "grid_auto_flow": null,
            "grid_auto_rows": null,
            "grid_column": null,
            "grid_gap": null,
            "grid_row": null,
            "grid_template_areas": null,
            "grid_template_columns": null,
            "grid_template_rows": null,
            "height": null,
            "justify_content": null,
            "justify_items": null,
            "left": null,
            "margin": null,
            "max_height": null,
            "max_width": null,
            "min_height": null,
            "min_width": null,
            "object_fit": null,
            "object_position": null,
            "order": null,
            "overflow": null,
            "overflow_x": null,
            "overflow_y": null,
            "padding": null,
            "right": null,
            "top": null,
            "visibility": null,
            "width": null
          }
        },
        "7023c3b29ea84fbf8584c257b4967cfb": {
          "model_module": "@jupyter-widgets/base",
          "model_name": "LayoutModel",
          "model_module_version": "1.2.0",
          "state": {
            "_model_module": "@jupyter-widgets/base",
            "_model_module_version": "1.2.0",
            "_model_name": "LayoutModel",
            "_view_count": null,
            "_view_module": "@jupyter-widgets/base",
            "_view_module_version": "1.2.0",
            "_view_name": "LayoutView",
            "align_content": null,
            "align_items": null,
            "align_self": null,
            "border": null,
            "bottom": null,
            "display": null,
            "flex": null,
            "flex_flow": null,
            "grid_area": null,
            "grid_auto_columns": null,
            "grid_auto_flow": null,
            "grid_auto_rows": null,
            "grid_column": null,
            "grid_gap": null,
            "grid_row": null,
            "grid_template_areas": null,
            "grid_template_columns": null,
            "grid_template_rows": null,
            "height": null,
            "justify_content": null,
            "justify_items": null,
            "left": null,
            "margin": null,
            "max_height": null,
            "max_width": null,
            "min_height": null,
            "min_width": null,
            "object_fit": null,
            "object_position": null,
            "order": null,
            "overflow": null,
            "overflow_x": null,
            "overflow_y": null,
            "padding": null,
            "right": null,
            "top": null,
            "visibility": null,
            "width": null
          }
        },
        "18fdcd42aab649ab8cc4bd002ce9ccb2": {
          "model_module": "@jupyter-widgets/controls",
          "model_name": "DescriptionStyleModel",
          "model_module_version": "1.5.0",
          "state": {
            "_model_module": "@jupyter-widgets/controls",
            "_model_module_version": "1.5.0",
            "_model_name": "DescriptionStyleModel",
            "_view_count": null,
            "_view_module": "@jupyter-widgets/base",
            "_view_module_version": "1.2.0",
            "_view_name": "StyleView",
            "description_width": ""
          }
        },
        "2213bd9f7eaf4138b0fd204a386ed132": {
          "model_module": "@jupyter-widgets/base",
          "model_name": "LayoutModel",
          "model_module_version": "1.2.0",
          "state": {
            "_model_module": "@jupyter-widgets/base",
            "_model_module_version": "1.2.0",
            "_model_name": "LayoutModel",
            "_view_count": null,
            "_view_module": "@jupyter-widgets/base",
            "_view_module_version": "1.2.0",
            "_view_name": "LayoutView",
            "align_content": null,
            "align_items": null,
            "align_self": null,
            "border": null,
            "bottom": null,
            "display": null,
            "flex": null,
            "flex_flow": null,
            "grid_area": null,
            "grid_auto_columns": null,
            "grid_auto_flow": null,
            "grid_auto_rows": null,
            "grid_column": null,
            "grid_gap": null,
            "grid_row": null,
            "grid_template_areas": null,
            "grid_template_columns": null,
            "grid_template_rows": null,
            "height": null,
            "justify_content": null,
            "justify_items": null,
            "left": null,
            "margin": null,
            "max_height": null,
            "max_width": null,
            "min_height": null,
            "min_width": null,
            "object_fit": null,
            "object_position": null,
            "order": null,
            "overflow": null,
            "overflow_x": null,
            "overflow_y": null,
            "padding": null,
            "right": null,
            "top": null,
            "visibility": null,
            "width": null
          }
        },
        "ea24ca8a9b5f496d8d4d4e4e53114f0b": {
          "model_module": "@jupyter-widgets/controls",
          "model_name": "ProgressStyleModel",
          "model_module_version": "1.5.0",
          "state": {
            "_model_module": "@jupyter-widgets/controls",
            "_model_module_version": "1.5.0",
            "_model_name": "ProgressStyleModel",
            "_view_count": null,
            "_view_module": "@jupyter-widgets/base",
            "_view_module_version": "1.2.0",
            "_view_name": "StyleView",
            "bar_color": null,
            "description_width": ""
          }
        },
        "29a7a6dc5f314961a8dfaefc74337703": {
          "model_module": "@jupyter-widgets/base",
          "model_name": "LayoutModel",
          "model_module_version": "1.2.0",
          "state": {
            "_model_module": "@jupyter-widgets/base",
            "_model_module_version": "1.2.0",
            "_model_name": "LayoutModel",
            "_view_count": null,
            "_view_module": "@jupyter-widgets/base",
            "_view_module_version": "1.2.0",
            "_view_name": "LayoutView",
            "align_content": null,
            "align_items": null,
            "align_self": null,
            "border": null,
            "bottom": null,
            "display": null,
            "flex": null,
            "flex_flow": null,
            "grid_area": null,
            "grid_auto_columns": null,
            "grid_auto_flow": null,
            "grid_auto_rows": null,
            "grid_column": null,
            "grid_gap": null,
            "grid_row": null,
            "grid_template_areas": null,
            "grid_template_columns": null,
            "grid_template_rows": null,
            "height": null,
            "justify_content": null,
            "justify_items": null,
            "left": null,
            "margin": null,
            "max_height": null,
            "max_width": null,
            "min_height": null,
            "min_width": null,
            "object_fit": null,
            "object_position": null,
            "order": null,
            "overflow": null,
            "overflow_x": null,
            "overflow_y": null,
            "padding": null,
            "right": null,
            "top": null,
            "visibility": null,
            "width": null
          }
        },
        "7e0c4478412d455da4f87d277734219c": {
          "model_module": "@jupyter-widgets/controls",
          "model_name": "DescriptionStyleModel",
          "model_module_version": "1.5.0",
          "state": {
            "_model_module": "@jupyter-widgets/controls",
            "_model_module_version": "1.5.0",
            "_model_name": "DescriptionStyleModel",
            "_view_count": null,
            "_view_module": "@jupyter-widgets/base",
            "_view_module_version": "1.2.0",
            "_view_name": "StyleView",
            "description_width": ""
          }
        },
        "f9fc3e5a766c450bb46dfe771c29d02d": {
          "model_module": "@jupyter-widgets/controls",
          "model_name": "HBoxModel",
          "model_module_version": "1.5.0",
          "state": {
            "_dom_classes": [],
            "_model_module": "@jupyter-widgets/controls",
            "_model_module_version": "1.5.0",
            "_model_name": "HBoxModel",
            "_view_count": null,
            "_view_module": "@jupyter-widgets/controls",
            "_view_module_version": "1.5.0",
            "_view_name": "HBoxView",
            "box_style": "",
            "children": [
              "IPY_MODEL_ae94e4513dfc4fd090489d63deaafd5a",
              "IPY_MODEL_94a46b79283b4df2a6541c9cfa47791a",
              "IPY_MODEL_b9ce099930bc47afacc57dd40f83f8ae"
            ],
            "layout": "IPY_MODEL_e19edae5b8964e928db87f5817d9550d"
          }
        },
        "ae94e4513dfc4fd090489d63deaafd5a": {
          "model_module": "@jupyter-widgets/controls",
          "model_name": "HTMLModel",
          "model_module_version": "1.5.0",
          "state": {
            "_dom_classes": [],
            "_model_module": "@jupyter-widgets/controls",
            "_model_module_version": "1.5.0",
            "_model_name": "HTMLModel",
            "_view_count": null,
            "_view_module": "@jupyter-widgets/controls",
            "_view_module_version": "1.5.0",
            "_view_name": "HTMLView",
            "description": "",
            "description_tooltip": null,
            "layout": "IPY_MODEL_0c6df943af424833a31598c3f982d45c",
            "placeholder": "​",
            "style": "IPY_MODEL_43bea99b9dc248ce9364ac566ed92518",
            "value": "100%"
          }
        },
        "94a46b79283b4df2a6541c9cfa47791a": {
          "model_module": "@jupyter-widgets/controls",
          "model_name": "FloatProgressModel",
          "model_module_version": "1.5.0",
          "state": {
            "_dom_classes": [],
            "_model_module": "@jupyter-widgets/controls",
            "_model_module_version": "1.5.0",
            "_model_name": "FloatProgressModel",
            "_view_count": null,
            "_view_module": "@jupyter-widgets/controls",
            "_view_module_version": "1.5.0",
            "_view_name": "ProgressView",
            "bar_style": "success",
            "description": "",
            "description_tooltip": null,
            "layout": "IPY_MODEL_d431464f7bf24add83386fbb55aeede4",
            "max": 1648877,
            "min": 0,
            "orientation": "horizontal",
            "style": "IPY_MODEL_c17fb45048be48d789aa48df2f8bba94",
            "value": 1648877
          }
        },
        "b9ce099930bc47afacc57dd40f83f8ae": {
          "model_module": "@jupyter-widgets/controls",
          "model_name": "HTMLModel",
          "model_module_version": "1.5.0",
          "state": {
            "_dom_classes": [],
            "_model_module": "@jupyter-widgets/controls",
            "_model_module_version": "1.5.0",
            "_model_name": "HTMLModel",
            "_view_count": null,
            "_view_module": "@jupyter-widgets/controls",
            "_view_module_version": "1.5.0",
            "_view_name": "HTMLView",
            "description": "",
            "description_tooltip": null,
            "layout": "IPY_MODEL_b0625fc31b8147c0acbfe80c3276dd00",
            "placeholder": "​",
            "style": "IPY_MODEL_570e24ca0340436bb99cb24739c0fc3c",
            "value": " 1648877/1648877 [00:00&lt;00:00, 42881271.06it/s]"
          }
        },
        "e19edae5b8964e928db87f5817d9550d": {
          "model_module": "@jupyter-widgets/base",
          "model_name": "LayoutModel",
          "model_module_version": "1.2.0",
          "state": {
            "_model_module": "@jupyter-widgets/base",
            "_model_module_version": "1.2.0",
            "_model_name": "LayoutModel",
            "_view_count": null,
            "_view_module": "@jupyter-widgets/base",
            "_view_module_version": "1.2.0",
            "_view_name": "LayoutView",
            "align_content": null,
            "align_items": null,
            "align_self": null,
            "border": null,
            "bottom": null,
            "display": null,
            "flex": null,
            "flex_flow": null,
            "grid_area": null,
            "grid_auto_columns": null,
            "grid_auto_flow": null,
            "grid_auto_rows": null,
            "grid_column": null,
            "grid_gap": null,
            "grid_row": null,
            "grid_template_areas": null,
            "grid_template_columns": null,
            "grid_template_rows": null,
            "height": null,
            "justify_content": null,
            "justify_items": null,
            "left": null,
            "margin": null,
            "max_height": null,
            "max_width": null,
            "min_height": null,
            "min_width": null,
            "object_fit": null,
            "object_position": null,
            "order": null,
            "overflow": null,
            "overflow_x": null,
            "overflow_y": null,
            "padding": null,
            "right": null,
            "top": null,
            "visibility": null,
            "width": null
          }
        },
        "0c6df943af424833a31598c3f982d45c": {
          "model_module": "@jupyter-widgets/base",
          "model_name": "LayoutModel",
          "model_module_version": "1.2.0",
          "state": {
            "_model_module": "@jupyter-widgets/base",
            "_model_module_version": "1.2.0",
            "_model_name": "LayoutModel",
            "_view_count": null,
            "_view_module": "@jupyter-widgets/base",
            "_view_module_version": "1.2.0",
            "_view_name": "LayoutView",
            "align_content": null,
            "align_items": null,
            "align_self": null,
            "border": null,
            "bottom": null,
            "display": null,
            "flex": null,
            "flex_flow": null,
            "grid_area": null,
            "grid_auto_columns": null,
            "grid_auto_flow": null,
            "grid_auto_rows": null,
            "grid_column": null,
            "grid_gap": null,
            "grid_row": null,
            "grid_template_areas": null,
            "grid_template_columns": null,
            "grid_template_rows": null,
            "height": null,
            "justify_content": null,
            "justify_items": null,
            "left": null,
            "margin": null,
            "max_height": null,
            "max_width": null,
            "min_height": null,
            "min_width": null,
            "object_fit": null,
            "object_position": null,
            "order": null,
            "overflow": null,
            "overflow_x": null,
            "overflow_y": null,
            "padding": null,
            "right": null,
            "top": null,
            "visibility": null,
            "width": null
          }
        },
        "43bea99b9dc248ce9364ac566ed92518": {
          "model_module": "@jupyter-widgets/controls",
          "model_name": "DescriptionStyleModel",
          "model_module_version": "1.5.0",
          "state": {
            "_model_module": "@jupyter-widgets/controls",
            "_model_module_version": "1.5.0",
            "_model_name": "DescriptionStyleModel",
            "_view_count": null,
            "_view_module": "@jupyter-widgets/base",
            "_view_module_version": "1.2.0",
            "_view_name": "StyleView",
            "description_width": ""
          }
        },
        "d431464f7bf24add83386fbb55aeede4": {
          "model_module": "@jupyter-widgets/base",
          "model_name": "LayoutModel",
          "model_module_version": "1.2.0",
          "state": {
            "_model_module": "@jupyter-widgets/base",
            "_model_module_version": "1.2.0",
            "_model_name": "LayoutModel",
            "_view_count": null,
            "_view_module": "@jupyter-widgets/base",
            "_view_module_version": "1.2.0",
            "_view_name": "LayoutView",
            "align_content": null,
            "align_items": null,
            "align_self": null,
            "border": null,
            "bottom": null,
            "display": null,
            "flex": null,
            "flex_flow": null,
            "grid_area": null,
            "grid_auto_columns": null,
            "grid_auto_flow": null,
            "grid_auto_rows": null,
            "grid_column": null,
            "grid_gap": null,
            "grid_row": null,
            "grid_template_areas": null,
            "grid_template_columns": null,
            "grid_template_rows": null,
            "height": null,
            "justify_content": null,
            "justify_items": null,
            "left": null,
            "margin": null,
            "max_height": null,
            "max_width": null,
            "min_height": null,
            "min_width": null,
            "object_fit": null,
            "object_position": null,
            "order": null,
            "overflow": null,
            "overflow_x": null,
            "overflow_y": null,
            "padding": null,
            "right": null,
            "top": null,
            "visibility": null,
            "width": null
          }
        },
        "c17fb45048be48d789aa48df2f8bba94": {
          "model_module": "@jupyter-widgets/controls",
          "model_name": "ProgressStyleModel",
          "model_module_version": "1.5.0",
          "state": {
            "_model_module": "@jupyter-widgets/controls",
            "_model_module_version": "1.5.0",
            "_model_name": "ProgressStyleModel",
            "_view_count": null,
            "_view_module": "@jupyter-widgets/base",
            "_view_module_version": "1.2.0",
            "_view_name": "StyleView",
            "bar_color": null,
            "description_width": ""
          }
        },
        "b0625fc31b8147c0acbfe80c3276dd00": {
          "model_module": "@jupyter-widgets/base",
          "model_name": "LayoutModel",
          "model_module_version": "1.2.0",
          "state": {
            "_model_module": "@jupyter-widgets/base",
            "_model_module_version": "1.2.0",
            "_model_name": "LayoutModel",
            "_view_count": null,
            "_view_module": "@jupyter-widgets/base",
            "_view_module_version": "1.2.0",
            "_view_name": "LayoutView",
            "align_content": null,
            "align_items": null,
            "align_self": null,
            "border": null,
            "bottom": null,
            "display": null,
            "flex": null,
            "flex_flow": null,
            "grid_area": null,
            "grid_auto_columns": null,
            "grid_auto_flow": null,
            "grid_auto_rows": null,
            "grid_column": null,
            "grid_gap": null,
            "grid_row": null,
            "grid_template_areas": null,
            "grid_template_columns": null,
            "grid_template_rows": null,
            "height": null,
            "justify_content": null,
            "justify_items": null,
            "left": null,
            "margin": null,
            "max_height": null,
            "max_width": null,
            "min_height": null,
            "min_width": null,
            "object_fit": null,
            "object_position": null,
            "order": null,
            "overflow": null,
            "overflow_x": null,
            "overflow_y": null,
            "padding": null,
            "right": null,
            "top": null,
            "visibility": null,
            "width": null
          }
        },
        "570e24ca0340436bb99cb24739c0fc3c": {
          "model_module": "@jupyter-widgets/controls",
          "model_name": "DescriptionStyleModel",
          "model_module_version": "1.5.0",
          "state": {
            "_model_module": "@jupyter-widgets/controls",
            "_model_module_version": "1.5.0",
            "_model_name": "DescriptionStyleModel",
            "_view_count": null,
            "_view_module": "@jupyter-widgets/base",
            "_view_module_version": "1.2.0",
            "_view_name": "StyleView",
            "description_width": ""
          }
        },
        "217e03505d6a4a86a004888e57092731": {
          "model_module": "@jupyter-widgets/controls",
          "model_name": "HBoxModel",
          "model_module_version": "1.5.0",
          "state": {
            "_dom_classes": [],
            "_model_module": "@jupyter-widgets/controls",
            "_model_module_version": "1.5.0",
            "_model_name": "HBoxModel",
            "_view_count": null,
            "_view_module": "@jupyter-widgets/controls",
            "_view_module_version": "1.5.0",
            "_view_name": "HBoxView",
            "box_style": "",
            "children": [
              "IPY_MODEL_e8b9346efcb146c4afa73eccfe697665",
              "IPY_MODEL_33813e811d324ff5a4ec3666de64407b",
              "IPY_MODEL_60ecdd66138c4d178f938e313d7abaec"
            ],
            "layout": "IPY_MODEL_8fd0ac4d089c4daca0c8fa7acacca35a"
          }
        },
        "e8b9346efcb146c4afa73eccfe697665": {
          "model_module": "@jupyter-widgets/controls",
          "model_name": "HTMLModel",
          "model_module_version": "1.5.0",
          "state": {
            "_dom_classes": [],
            "_model_module": "@jupyter-widgets/controls",
            "_model_module_version": "1.5.0",
            "_model_name": "HTMLModel",
            "_view_count": null,
            "_view_module": "@jupyter-widgets/controls",
            "_view_module_version": "1.5.0",
            "_view_name": "HTMLView",
            "description": "",
            "description_tooltip": null,
            "layout": "IPY_MODEL_f8a487bb86b7429686d4b88de994f20f",
            "placeholder": "​",
            "style": "IPY_MODEL_a800a78f833a4d0c8b9e732803e9f064",
            "value": "100%"
          }
        },
        "33813e811d324ff5a4ec3666de64407b": {
          "model_module": "@jupyter-widgets/controls",
          "model_name": "FloatProgressModel",
          "model_module_version": "1.5.0",
          "state": {
            "_dom_classes": [],
            "_model_module": "@jupyter-widgets/controls",
            "_model_module_version": "1.5.0",
            "_model_name": "FloatProgressModel",
            "_view_count": null,
            "_view_module": "@jupyter-widgets/controls",
            "_view_module_version": "1.5.0",
            "_view_name": "ProgressView",
            "bar_style": "success",
            "description": "",
            "description_tooltip": null,
            "layout": "IPY_MODEL_66fb9ba4beaf4fdebf28e54e024dab29",
            "max": 4542,
            "min": 0,
            "orientation": "horizontal",
            "style": "IPY_MODEL_89c1ae7ebb4444b78dcf358de38e0616",
            "value": 4542
          }
        },
        "60ecdd66138c4d178f938e313d7abaec": {
          "model_module": "@jupyter-widgets/controls",
          "model_name": "HTMLModel",
          "model_module_version": "1.5.0",
          "state": {
            "_dom_classes": [],
            "_model_module": "@jupyter-widgets/controls",
            "_model_module_version": "1.5.0",
            "_model_name": "HTMLModel",
            "_view_count": null,
            "_view_module": "@jupyter-widgets/controls",
            "_view_module_version": "1.5.0",
            "_view_name": "HTMLView",
            "description": "",
            "description_tooltip": null,
            "layout": "IPY_MODEL_2495a3e81b45445db45ef1c7159825e7",
            "placeholder": "​",
            "style": "IPY_MODEL_aa466eed211546939de1f7b063caa148",
            "value": " 4542/4542 [00:00&lt;00:00, 332070.09it/s]"
          }
        },
        "8fd0ac4d089c4daca0c8fa7acacca35a": {
          "model_module": "@jupyter-widgets/base",
          "model_name": "LayoutModel",
          "model_module_version": "1.2.0",
          "state": {
            "_model_module": "@jupyter-widgets/base",
            "_model_module_version": "1.2.0",
            "_model_name": "LayoutModel",
            "_view_count": null,
            "_view_module": "@jupyter-widgets/base",
            "_view_module_version": "1.2.0",
            "_view_name": "LayoutView",
            "align_content": null,
            "align_items": null,
            "align_self": null,
            "border": null,
            "bottom": null,
            "display": null,
            "flex": null,
            "flex_flow": null,
            "grid_area": null,
            "grid_auto_columns": null,
            "grid_auto_flow": null,
            "grid_auto_rows": null,
            "grid_column": null,
            "grid_gap": null,
            "grid_row": null,
            "grid_template_areas": null,
            "grid_template_columns": null,
            "grid_template_rows": null,
            "height": null,
            "justify_content": null,
            "justify_items": null,
            "left": null,
            "margin": null,
            "max_height": null,
            "max_width": null,
            "min_height": null,
            "min_width": null,
            "object_fit": null,
            "object_position": null,
            "order": null,
            "overflow": null,
            "overflow_x": null,
            "overflow_y": null,
            "padding": null,
            "right": null,
            "top": null,
            "visibility": null,
            "width": null
          }
        },
        "f8a487bb86b7429686d4b88de994f20f": {
          "model_module": "@jupyter-widgets/base",
          "model_name": "LayoutModel",
          "model_module_version": "1.2.0",
          "state": {
            "_model_module": "@jupyter-widgets/base",
            "_model_module_version": "1.2.0",
            "_model_name": "LayoutModel",
            "_view_count": null,
            "_view_module": "@jupyter-widgets/base",
            "_view_module_version": "1.2.0",
            "_view_name": "LayoutView",
            "align_content": null,
            "align_items": null,
            "align_self": null,
            "border": null,
            "bottom": null,
            "display": null,
            "flex": null,
            "flex_flow": null,
            "grid_area": null,
            "grid_auto_columns": null,
            "grid_auto_flow": null,
            "grid_auto_rows": null,
            "grid_column": null,
            "grid_gap": null,
            "grid_row": null,
            "grid_template_areas": null,
            "grid_template_columns": null,
            "grid_template_rows": null,
            "height": null,
            "justify_content": null,
            "justify_items": null,
            "left": null,
            "margin": null,
            "max_height": null,
            "max_width": null,
            "min_height": null,
            "min_width": null,
            "object_fit": null,
            "object_position": null,
            "order": null,
            "overflow": null,
            "overflow_x": null,
            "overflow_y": null,
            "padding": null,
            "right": null,
            "top": null,
            "visibility": null,
            "width": null
          }
        },
        "a800a78f833a4d0c8b9e732803e9f064": {
          "model_module": "@jupyter-widgets/controls",
          "model_name": "DescriptionStyleModel",
          "model_module_version": "1.5.0",
          "state": {
            "_model_module": "@jupyter-widgets/controls",
            "_model_module_version": "1.5.0",
            "_model_name": "DescriptionStyleModel",
            "_view_count": null,
            "_view_module": "@jupyter-widgets/base",
            "_view_module_version": "1.2.0",
            "_view_name": "StyleView",
            "description_width": ""
          }
        },
        "66fb9ba4beaf4fdebf28e54e024dab29": {
          "model_module": "@jupyter-widgets/base",
          "model_name": "LayoutModel",
          "model_module_version": "1.2.0",
          "state": {
            "_model_module": "@jupyter-widgets/base",
            "_model_module_version": "1.2.0",
            "_model_name": "LayoutModel",
            "_view_count": null,
            "_view_module": "@jupyter-widgets/base",
            "_view_module_version": "1.2.0",
            "_view_name": "LayoutView",
            "align_content": null,
            "align_items": null,
            "align_self": null,
            "border": null,
            "bottom": null,
            "display": null,
            "flex": null,
            "flex_flow": null,
            "grid_area": null,
            "grid_auto_columns": null,
            "grid_auto_flow": null,
            "grid_auto_rows": null,
            "grid_column": null,
            "grid_gap": null,
            "grid_row": null,
            "grid_template_areas": null,
            "grid_template_columns": null,
            "grid_template_rows": null,
            "height": null,
            "justify_content": null,
            "justify_items": null,
            "left": null,
            "margin": null,
            "max_height": null,
            "max_width": null,
            "min_height": null,
            "min_width": null,
            "object_fit": null,
            "object_position": null,
            "order": null,
            "overflow": null,
            "overflow_x": null,
            "overflow_y": null,
            "padding": null,
            "right": null,
            "top": null,
            "visibility": null,
            "width": null
          }
        },
        "89c1ae7ebb4444b78dcf358de38e0616": {
          "model_module": "@jupyter-widgets/controls",
          "model_name": "ProgressStyleModel",
          "model_module_version": "1.5.0",
          "state": {
            "_model_module": "@jupyter-widgets/controls",
            "_model_module_version": "1.5.0",
            "_model_name": "ProgressStyleModel",
            "_view_count": null,
            "_view_module": "@jupyter-widgets/base",
            "_view_module_version": "1.2.0",
            "_view_name": "StyleView",
            "bar_color": null,
            "description_width": ""
          }
        },
        "2495a3e81b45445db45ef1c7159825e7": {
          "model_module": "@jupyter-widgets/base",
          "model_name": "LayoutModel",
          "model_module_version": "1.2.0",
          "state": {
            "_model_module": "@jupyter-widgets/base",
            "_model_module_version": "1.2.0",
            "_model_name": "LayoutModel",
            "_view_count": null,
            "_view_module": "@jupyter-widgets/base",
            "_view_module_version": "1.2.0",
            "_view_name": "LayoutView",
            "align_content": null,
            "align_items": null,
            "align_self": null,
            "border": null,
            "bottom": null,
            "display": null,
            "flex": null,
            "flex_flow": null,
            "grid_area": null,
            "grid_auto_columns": null,
            "grid_auto_flow": null,
            "grid_auto_rows": null,
            "grid_column": null,
            "grid_gap": null,
            "grid_row": null,
            "grid_template_areas": null,
            "grid_template_columns": null,
            "grid_template_rows": null,
            "height": null,
            "justify_content": null,
            "justify_items": null,
            "left": null,
            "margin": null,
            "max_height": null,
            "max_width": null,
            "min_height": null,
            "min_width": null,
            "object_fit": null,
            "object_position": null,
            "order": null,
            "overflow": null,
            "overflow_x": null,
            "overflow_y": null,
            "padding": null,
            "right": null,
            "top": null,
            "visibility": null,
            "width": null
          }
        },
        "aa466eed211546939de1f7b063caa148": {
          "model_module": "@jupyter-widgets/controls",
          "model_name": "DescriptionStyleModel",
          "model_module_version": "1.5.0",
          "state": {
            "_model_module": "@jupyter-widgets/controls",
            "_model_module_version": "1.5.0",
            "_model_name": "DescriptionStyleModel",
            "_view_count": null,
            "_view_module": "@jupyter-widgets/base",
            "_view_module_version": "1.2.0",
            "_view_name": "StyleView",
            "description_width": ""
          }
        }
      }
    },
    "gpuClass": "standard"
  },
  "nbformat": 4,
  "nbformat_minor": 0
}