{
  "cells": [
    {
      "cell_type": "markdown",
      "source": [
        "# Make 3 versions of 4th Session assignment's best model :\n",
        "> 1. Network with Group Normalization\n",
        "\n",
        "> 2. Network with Layer Normalization\n",
        "\n",
        "> 3. Network with L1 + BN\n",
        "\n",
        "\n",
        "> Write a single model.py file that includes GN/LN/BN and takes an argument to decide which normalization to include.\n",
        "\n",
        "> Write a single notebook file to run all the 3 models above for 20 epochs each\n",
        "\n",
        "> Create these graphs:\n",
        "> 1. Graph 1: Test/Validation Loss for all 3 models together\n",
        "> 2. Graph 2: Test/Validation Accuracy for 3 models together\n",
        "\n",
        "> graphs must have proper annotation\n",
        "\n",
        "> Find 10 misclassified images for each of the 3 models, and show them as a 5x2 image matrix in 3 separately annotated images. "
      ],
      "metadata": {
        "id": "duSXQKSVdxay"
      }
    },
    {
      "cell_type": "code",
      "source": [
        "gpu_info = !nvidia-smi\n",
        "gpu_info = '\\n'.join(gpu_info)\n",
        "if gpu_info.find('failed') >= 0:\n",
        "  print('Not connected to a GPU')\n",
        "else:\n",
        "  print(gpu_info)"
      ],
      "metadata": {
        "colab": {
          "base_uri": "https://localhost:8080/"
        },
        "id": "xRpKy9GQgd5p",
        "outputId": "77e33b15-3e45-4787-a561-e4e71853cd92"
      },
      "execution_count": null,
      "outputs": [
        {
          "output_type": "stream",
          "name": "stdout",
          "text": [
            "Wed Jan 25 19:13:28 2023       \n",
            "+-----------------------------------------------------------------------------+\n",
            "| NVIDIA-SMI 510.47.03    Driver Version: 510.47.03    CUDA Version: 11.6     |\n",
            "|-------------------------------+----------------------+----------------------+\n",
            "| GPU  Name        Persistence-M| Bus-Id        Disp.A | Volatile Uncorr. ECC |\n",
            "| Fan  Temp  Perf  Pwr:Usage/Cap|         Memory-Usage | GPU-Util  Compute M. |\n",
            "|                               |                      |               MIG M. |\n",
            "|===============================+======================+======================|\n",
            "|   0  Tesla T4            Off  | 00000000:00:04.0 Off |                    0 |\n",
            "| N/A   62C    P0    29W /  70W |      0MiB / 15360MiB |      0%      Default |\n",
            "|                               |                      |                  N/A |\n",
            "+-------------------------------+----------------------+----------------------+\n",
            "                                                                               \n",
            "+-----------------------------------------------------------------------------+\n",
            "| Processes:                                                                  |\n",
            "|  GPU   GI   CI        PID   Type   Process name                  GPU Memory |\n",
            "|        ID   ID                                                   Usage      |\n",
            "|=============================================================================|\n",
            "|  No running processes found                                                 |\n",
            "+-----------------------------------------------------------------------------+\n"
          ]
        }
      ]
    },
    {
      "cell_type": "markdown",
      "source": [
        "#### For Importing the single model file named \"model.py\" under which model class named \"EVA8_session4_assignment_model\" is defined, with capabilities to have either of Batch/Layer/Group normalization, we have to put it as a package-element at the github (so that we can do a pip-install as below and can import it as a package element later on)"
      ],
      "metadata": {
        "id": "kciR6tzdpa9V"
      }
    },
    {
      "cell_type": "code",
      "source": [
        "!pip install git+https://git@github.com/ojhajayant/EVA8.git --upgrade "
      ],
      "metadata": {
        "colab": {
          "base_uri": "https://localhost:8080/"
        },
        "id": "-cTtJp-om-xs",
        "outputId": "f943a833-d9f0-4e76-90c1-47327c149cc2"
      },
      "execution_count": null,
      "outputs": [
        {
          "output_type": "stream",
          "name": "stdout",
          "text": [
            "Looking in indexes: https://pypi.org/simple, https://us-python.pkg.dev/colab-wheels/public/simple/\n",
            "Collecting git+https://****@github.com/ojhajayant/EVA8.git\n",
            "  Cloning https://****@github.com/ojhajayant/EVA8.git to /tmp/pip-req-build-_vv0i96a\n",
            "  Running command git clone --filter=blob:none --quiet 'https://****@github.com/ojhajayant/EVA8.git' /tmp/pip-req-build-_vv0i96a\n",
            "  Resolved https://****@github.com/ojhajayant/EVA8.git to commit a3a82086f39e93297bfbee2bd32774126ad203a3\n",
            "  Preparing metadata (setup.py) ... \u001b[?25l\u001b[?25hdone\n",
            "Building wheels for collected packages: eva8\n",
            "  Building wheel for eva8 (setup.py) ... \u001b[?25l\u001b[?25hdone\n",
            "  Created wheel for eva8: filename=eva8-0.0.0-py3-none-any.whl size=3221 sha256=13c89c20108e24af6e90c535b6c3a81bc9f746f67fa5d314ee2342a78ffe7bb7\n",
            "  Stored in directory: /tmp/pip-ephem-wheel-cache-15pwa9gt/wheels/91/2b/81/6528ca90c705fbe7f126306baa4c34cd2cbf0ea8fcb5a3dd90\n",
            "Successfully built eva8\n",
            "Installing collected packages: eva8\n",
            "Successfully installed eva8-0.0.0\n"
          ]
        }
      ]
    },
    {
      "cell_type": "markdown",
      "metadata": {
        "id": "aO-7t1Y7-hV4"
      },
      "source": [
        "# Import Libraries"
      ]
    },
    {
      "cell_type": "code",
      "execution_count": null,
      "metadata": {
        "id": "8kH16rnZ7wt_"
      },
      "outputs": [],
      "source": [
        "from __future__ import print_function\n",
        "import os\n",
        "import shutil\n",
        "import numpy as np\n",
        "import torch\n",
        "import torch.nn as nn\n",
        "import torch.nn.functional as F\n",
        "import torch.optim as optim\n",
        "from torchvision import datasets, transforms\n",
        "from tqdm import tqdm\n",
        "# Let's visualize some of the images\n",
        "%matplotlib inline\n",
        "import matplotlib.pyplot as plt\n",
        "from torchsummary import summary\n",
        "from torch.optim.lr_scheduler import StepLR"
      ]
    },
    {
      "cell_type": "markdown",
      "source": [
        "### Now also import the single model file named \"EVA8_session4_assignment_model\" which has the best version of the 3 attempts made during the session 4 & on which we need to experiment with 3 combinations of Regularizations:\n",
        "\n",
        "> 1. Network with Group Normalization\n",
        "> 2. Network with Layer Normalization\n",
        "> 3. Network with L1 + BN"
      ],
      "metadata": {
        "id": "NTiXmqe4orcM"
      }
    },
    {
      "cell_type": "code",
      "source": [
        "from session_5.modular.models import model"
      ],
      "metadata": {
        "id": "SMRSsub_nNri"
      },
      "execution_count": null,
      "outputs": []
    },
    {
      "cell_type": "code",
      "execution_count": null,
      "metadata": {
        "id": "nrtHvUEXbAAf"
      },
      "outputs": [],
      "source": [
        "best_acc1 = 0\n",
        "tmp_best_acc1 = 0"
      ]
    },
    {
      "cell_type": "markdown",
      "metadata": {
        "id": "F16IhLIZbAAf"
      },
      "source": [
        "### Optimum values found for L1-penalty-weight.\n",
        "    - The appropriate values for l1  weights were found after coarsely sweeping thru values from 0.1, 0.01, 0.001, 0.0001, 0.00001, 0.000001 first.\n",
        "    - For l1-weight, with l1-alone enabled, the 0.00001 region was found with better values for the validation accuracy vis-a-vis training accuracies.\n",
        "    - Much finer sweeping in the 0.00001 region, led to the value: 0.000025, which seems to be having best accuracy values."
      ]
    },
    {
      "cell_type": "code",
      "execution_count": null,
      "metadata": {
        "id": "2eJ7OW50bAAg"
      },
      "outputs": [],
      "source": [
        "l1_weight = 0.000025 ##Appears to be the best with the reference NW we have used here"
      ]
    },
    {
      "cell_type": "code",
      "execution_count": null,
      "metadata": {
        "id": "H6Gj1t66bAAg"
      },
      "outputs": [],
      "source": [
        "class_names  = [ \"zero\",  # index 0\n",
        "                 \"one\",   # index 1\n",
        "                 \"two\",   # index 2 \n",
        "                 \"three\", # index 3 \n",
        "                 \"four\",  # index 4\n",
        "                 \"five\",  # index 5\n",
        "                 \"six\",   # index 6 \n",
        "                 \"seven\", # index 7 \n",
        "                 \"eight\", # index 8 \n",
        "                 \"nine\"]  # index 9"
      ]
    },
    {
      "cell_type": "markdown",
      "metadata": {
        "id": "ky3f_Odl-7um"
      },
      "source": [
        "## Data Transformations\n",
        "\n",
        "We first start with defining our data transformations. We need to think what our data is and how can we augment it to correct represent images which it might not see otherwise. \n"
      ]
    },
    {
      "cell_type": "code",
      "execution_count": null,
      "metadata": {
        "id": "YtssFUKb-jqx"
      },
      "outputs": [],
      "source": [
        "# Train Phase transformations\n",
        "train_transforms = transforms.Compose([\n",
        "                                      #  transforms.Resize((28, 28)),\n",
        "                                      #  transforms.ColorJitter(brightness=0.10, contrast=0.1, saturation=0.10, hue=0.1),\n",
        "                                       #transforms.RandomRotation((-10.0, 10.0), fill=(1,)),\n",
        "                                       transforms.ToTensor(),\n",
        "                                       transforms.Normalize((0.1307,), (0.3081,)) # The mean and std have to be sequences (e.g., tuples), therefore you should add a comma after the values. \n",
        "                                       # Note the difference between (0.1307) and (0.1307,)\n",
        "                                       ])\n",
        "\n",
        "# Test Phase transformations\n",
        "test_transforms = transforms.Compose([\n",
        "                                      #  transforms.Resize((28, 28)),\n",
        "                                      #  transforms.ColorJitter(brightness=0.10, contrast=0.1, saturation=0.10, hue=0.1),\n",
        "                                       transforms.ToTensor(),\n",
        "                                       transforms.Normalize((0.1307,), (0.3081,))\n",
        "                                       ])\n"
      ]
    },
    {
      "cell_type": "markdown",
      "metadata": {
        "id": "oQciFYo2B1mO"
      },
      "source": [
        "# Dataset and Creating Train/Test Split"
      ]
    },
    {
      "cell_type": "code",
      "execution_count": null,
      "metadata": {
        "id": "_4A84rlfDA23",
        "colab": {
          "base_uri": "https://localhost:8080/",
          "height": 422,
          "referenced_widgets": [
            "6d5c05cec0a740ffbe38c2c8604e4273",
            "5c755d1bf38148169a6cc58f15fa03a1",
            "2a477491b9674fdfa09135b319f769b8",
            "53300973477d40cd97d755aa91c37d6a",
            "3495d88165484d72a6abe88fa48a81b4",
            "d9ce34dd5ba64f3096c1bae44d7aafc3",
            "c8859e2af28a492f819083baf8ad7c25",
            "6f37f4cd4a9741aeacea13a7b493bac0",
            "cff723eab32c473caf613d508a716d5b",
            "ade4c8498005429ab493e93b34e2a279",
            "4c6da6b6dcf546518fdc5190858945dd",
            "5d59e8d6bd434b08b10796e81cce0072",
            "f1ad4a2daa604e5eb6d01919f637dc2f",
            "9d23f7a7f0844244806a857c01098aa5",
            "6151108e9b7f456d91137ca514d79258",
            "f29f2e5ad5b842f28f328a78918c520f",
            "470b4637156443b7bf4064f8c6450255",
            "aa48629b572e4b84b43f45e84dbcceb7",
            "49387d27f390445399f35ef68eef4994",
            "79a5d3c923c9464681707e86d1d9f334",
            "28148d7a07f24655baa18c982e95727a",
            "c861afe81f134f26b8b4dbfc41e340fa",
            "1febd87b43fa4fbaa487a4430159acf7",
            "680f82bf3a9e40e69e4005cd66875fcd",
            "a855975324ca4a4e9ba1d533cf6d4150",
            "747815ab64a54d8aa2c5a2a288defb8f",
            "3ad745206de74f4b85847d48e3117c86",
            "51528d4609714143aceae08970f14bc4",
            "0db3d162c8294320916f515371932f62",
            "9da8e9acb7b3484e836464ee0c408d85",
            "30930ff6d7e343cf9138d9526d095241",
            "f8409217140d416ca15362917a99a4eb",
            "30c06d79282d49c391f7e0eff3b59a4e",
            "06bca06033ef43f3b227316d4f04231a",
            "052ec92431ee4e4aa1846e5fde17bdf7",
            "33c14b3df1b7440e8a9cfce356758c4e",
            "0031b6d3b7fa45f6ad19d3733831b576",
            "275b6d5d8ec24ec68f4937ad1f90f506",
            "ba2c753495e0471291e3c288126b4a81",
            "aad4d45acc98432f8ad9617e94caf7f0",
            "b46d800b778246178bb78af4c36d1c7c",
            "7b1b81f9e2204e71890a451dab012896",
            "2437ba42e27e4bf1beacac573b625b1c",
            "1166762f28b44447ba6f3a7aec83d5e6"
          ]
        },
        "outputId": "35ed0f53-3556-44c1-d03b-e39b90410bdd"
      },
      "outputs": [
        {
          "output_type": "stream",
          "name": "stdout",
          "text": [
            "Downloading http://yann.lecun.com/exdb/mnist/train-images-idx3-ubyte.gz\n",
            "Downloading http://yann.lecun.com/exdb/mnist/train-images-idx3-ubyte.gz to ./data/MNIST/raw/train-images-idx3-ubyte.gz\n"
          ]
        },
        {
          "output_type": "display_data",
          "data": {
            "text/plain": [
              "  0%|          | 0/9912422 [00:00<?, ?it/s]"
            ],
            "application/vnd.jupyter.widget-view+json": {
              "version_major": 2,
              "version_minor": 0,
              "model_id": "6d5c05cec0a740ffbe38c2c8604e4273"
            }
          },
          "metadata": {}
        },
        {
          "output_type": "stream",
          "name": "stdout",
          "text": [
            "Extracting ./data/MNIST/raw/train-images-idx3-ubyte.gz to ./data/MNIST/raw\n",
            "\n",
            "Downloading http://yann.lecun.com/exdb/mnist/train-labels-idx1-ubyte.gz\n",
            "Downloading http://yann.lecun.com/exdb/mnist/train-labels-idx1-ubyte.gz to ./data/MNIST/raw/train-labels-idx1-ubyte.gz\n"
          ]
        },
        {
          "output_type": "display_data",
          "data": {
            "text/plain": [
              "  0%|          | 0/28881 [00:00<?, ?it/s]"
            ],
            "application/vnd.jupyter.widget-view+json": {
              "version_major": 2,
              "version_minor": 0,
              "model_id": "5d59e8d6bd434b08b10796e81cce0072"
            }
          },
          "metadata": {}
        },
        {
          "output_type": "stream",
          "name": "stdout",
          "text": [
            "Extracting ./data/MNIST/raw/train-labels-idx1-ubyte.gz to ./data/MNIST/raw\n",
            "\n",
            "Downloading http://yann.lecun.com/exdb/mnist/t10k-images-idx3-ubyte.gz\n",
            "Downloading http://yann.lecun.com/exdb/mnist/t10k-images-idx3-ubyte.gz to ./data/MNIST/raw/t10k-images-idx3-ubyte.gz\n"
          ]
        },
        {
          "output_type": "display_data",
          "data": {
            "text/plain": [
              "  0%|          | 0/1648877 [00:00<?, ?it/s]"
            ],
            "application/vnd.jupyter.widget-view+json": {
              "version_major": 2,
              "version_minor": 0,
              "model_id": "1febd87b43fa4fbaa487a4430159acf7"
            }
          },
          "metadata": {}
        },
        {
          "output_type": "stream",
          "name": "stdout",
          "text": [
            "Extracting ./data/MNIST/raw/t10k-images-idx3-ubyte.gz to ./data/MNIST/raw\n",
            "\n",
            "Downloading http://yann.lecun.com/exdb/mnist/t10k-labels-idx1-ubyte.gz\n",
            "Downloading http://yann.lecun.com/exdb/mnist/t10k-labels-idx1-ubyte.gz to ./data/MNIST/raw/t10k-labels-idx1-ubyte.gz\n"
          ]
        },
        {
          "output_type": "display_data",
          "data": {
            "text/plain": [
              "  0%|          | 0/4542 [00:00<?, ?it/s]"
            ],
            "application/vnd.jupyter.widget-view+json": {
              "version_major": 2,
              "version_minor": 0,
              "model_id": "06bca06033ef43f3b227316d4f04231a"
            }
          },
          "metadata": {}
        },
        {
          "output_type": "stream",
          "name": "stdout",
          "text": [
            "Extracting ./data/MNIST/raw/t10k-labels-idx1-ubyte.gz to ./data/MNIST/raw\n",
            "\n"
          ]
        }
      ],
      "source": [
        "train_mnist = datasets.MNIST('./data', train=True, download=True, transform=train_transforms)\n",
        "test_mnist = datasets.MNIST('./data', train=False, download=True, transform=test_transforms)"
      ]
    },
    {
      "cell_type": "markdown",
      "metadata": {
        "id": "qgldp_3-Dn0c"
      },
      "source": [
        "# Dataloader Arguments & Test/Train Dataloaders\n"
      ]
    },
    {
      "cell_type": "code",
      "execution_count": null,
      "metadata": {
        "colab": {
          "base_uri": "https://localhost:8080/"
        },
        "id": "C8OLDR79DrHG",
        "outputId": "53975acc-f5c2-4c23-fa7d-beb094ad896e"
      },
      "outputs": [
        {
          "output_type": "stream",
          "name": "stdout",
          "text": [
            "CUDA Available? True\n"
          ]
        }
      ],
      "source": [
        "SEED = 1\n",
        "\n",
        "# CUDA?\n",
        "cuda = torch.cuda.is_available()\n",
        "print(\"CUDA Available?\", cuda)\n",
        "\n",
        "# For reproducibility\n",
        "torch.manual_seed(SEED)\n",
        "\n",
        "if cuda:\n",
        "    torch.cuda.manual_seed(SEED)\n",
        "\n",
        "# dataloader arguments - something you'll fetch these from cmdprmt\n",
        "dataloader_args = dict(shuffle=True, batch_size=64, num_workers=2, pin_memory=True) if cuda else dict(shuffle=True, batch_size=64)\n",
        "\n",
        "# train dataloader\n",
        "train_loader = torch.utils.data.DataLoader(train_mnist, **dataloader_args)\n",
        "\n",
        "# test dataloader\n",
        "test_loader = torch.utils.data.DataLoader(test_mnist, **dataloader_args)"
      ]
    },
    {
      "cell_type": "markdown",
      "metadata": {
        "id": "-TFjoFekE_va"
      },
      "source": [
        "# Data Statistics\n",
        "\n",
        "It is important to know your data very well. Let's check some of the statistics around our data and how it actually looks like"
      ]
    },
    {
      "cell_type": "code",
      "execution_count": null,
      "metadata": {
        "colab": {
          "base_uri": "https://localhost:8080/",
          "height": 490
        },
        "id": "hWZPPo3yEHDW",
        "outputId": "b8ce1cbf-5548-4828-b541-6f1e58dec048"
      },
      "outputs": [
        {
          "output_type": "stream",
          "name": "stderr",
          "text": [
            "/usr/local/lib/python3.8/dist-packages/torchvision/datasets/mnist.py:75: UserWarning: train_data has been renamed data\n",
            "  warnings.warn(\"train_data has been renamed data\")\n"
          ]
        },
        {
          "output_type": "stream",
          "name": "stdout",
          "text": [
            "[Train]\n",
            " - Numpy Shape: (60000, 28, 28)\n",
            " - Tensor Shape: torch.Size([60000, 28, 28])\n",
            " - min: tensor(-0.4242)\n",
            " - max: tensor(2.8215)\n",
            " - mean: tensor(-0.0001)\n",
            " - std: tensor(1.0000)\n",
            " - var: tensor(1.0001)\n",
            "torch.Size([64, 1, 28, 28])\n",
            "torch.Size([64])\n"
          ]
        },
        {
          "output_type": "execute_result",
          "data": {
            "text/plain": [
              "<matplotlib.image.AxesImage at 0x7fde8030de80>"
            ]
          },
          "metadata": {},
          "execution_count": 11
        },
        {
          "output_type": "display_data",
          "data": {
            "text/plain": [
              "<Figure size 432x288 with 1 Axes>"
            ],
            "image/png": "[encoded data removed]"
          },
          "metadata": {
            "needs_background": "light"
          }
        }
      ],
      "source": [
        "# We'd need to convert it into Numpy! Remember above we have converted it into tensors already\n",
        "train_data = train_mnist.train_data\n",
        "train_data = train_mnist.transform(train_data.numpy())\n",
        "#train_data = train.train_data.cpu().numpy()\n",
        "\n",
        "print('[Train]')\n",
        "print(' - Numpy Shape:', train_mnist.train_data.cpu().numpy().shape)\n",
        "print(' - Tensor Shape:', train_mnist.train_data.size())\n",
        "print(' - min:', torch.min(train_data))\n",
        "print(' - max:', torch.max(train_data))\n",
        "print(' - mean:', torch.mean(train_data))\n",
        "print(' - std:', torch.std(train_data))\n",
        "print(' - var:', torch.var(train_data))\n",
        "\n",
        "dataiter = iter(train_loader)\n",
        "images, labels = next(dataiter)\n",
        "\n",
        "print(images.shape)\n",
        "print(labels.shape)\n",
        "\n",
        "\n",
        "plt.imshow(images[0].numpy().squeeze(), cmap='gray_r')\n"
      ]
    },
    {
      "cell_type": "markdown",
      "metadata": {
        "id": "7l9lNaWYKuik"
      },
      "source": [
        "## MORE\n",
        "\n",
        "It is important that we view as many images as possible. This is required to get some idea on image augmentation later on"
      ]
    },
    {
      "cell_type": "code",
      "execution_count": null,
      "metadata": {
        "colab": {
          "base_uri": "https://localhost:8080/",
          "height": 246
        },
        "id": "hXXAg8hbK16u",
        "outputId": "91c1a6a3-a8b4-497d-89e1-cfd68ae5e3ef"
      },
      "outputs": [
        {
          "output_type": "display_data",
          "data": {
            "text/plain": [
              "<Figure size 432x288 with 60 Axes>"
            ],
            "image/png": "[encoded data removed]"
          },
          "metadata": {
            "needs_background": "light"
          }
        }
      ],
      "source": [
        "figure = plt.figure()\n",
        "num_of_images = 60\n",
        "for index in range(1, num_of_images + 1):\n",
        "    plt.subplot(6, 10, index)\n",
        "    plt.axis('off')\n",
        "    plt.imshow(images[index].numpy().squeeze(), cmap='gray_r')"
      ]
    },
    {
      "cell_type": "markdown",
      "metadata": {
        "id": "MLYmIr2abAAk"
      },
      "source": [
        "# Training and Testing related routines\n",
        "\n",
        "Looking at logs can be boring, so we'll introduce **tqdm** progressbar to get cooler logs. \n",
        "\n",
        "Let's write train and test functions"
      ]
    },
    {
      "cell_type": "code",
      "execution_count": null,
      "metadata": {
        "id": "WinLurufbAAk"
      },
      "outputs": [],
      "source": [
        "def l1_penalty(x):\n",
        "    #L1 regularization adds an L1 penalty equal\n",
        "    #to the absolute value of the magnitude of coefficients\n",
        "    return torch.abs(x).sum()\n",
        "\n",
        "def save_checkpoint(state, is_best, filename='checkpoint.pth.tar'):\n",
        "    torch.save(state, filename)\n",
        "    if is_best:\n",
        "        shutil.copyfile(filename, 'model_best.pth.tar')\n",
        "\n",
        "\n",
        "def train(model, device, train_loader, optimizer, epoch, L1=False):\n",
        "    model.train()\n",
        "    pbar = tqdm(train_loader)\n",
        "    correct = 0\n",
        "    processed = 0\n",
        "    for batch_idx, (data, target) in enumerate(pbar):\n",
        "        \n",
        "        # get samples\n",
        "        data, target = data.to(device), target.to(device)\n",
        "\n",
        "        # Init\n",
        "        optimizer.zero_grad()\n",
        "        # In PyTorch, we need to set the gradients to zero before starting to do backpropragation because PyTorch accumulates the gradients on subsequent backward passes. \n",
        "        # Because of this, when you start your training loop, ideally you should zero out the gradients so that you do the parameter update correctly.\n",
        "\n",
        "        # Predict\n",
        "        y_pred = model(data)\n",
        "        if L1:\n",
        "            to_reg = []\n",
        "            for param in model.parameters():\n",
        "                to_reg.append(param.view(-1))\n",
        "            l1 = l1_weight*l1_penalty(torch.cat(to_reg))\n",
        "        else:\n",
        "            l1 = 0\n",
        "        # Calculate loss\n",
        "        #L1 regularization adds an L1 penalty equal to the \n",
        "        #absolute value of the magnitude of coefficients\n",
        "        loss = F.nll_loss(y_pred, target) + l1     \n",
        "        train_losses.append(loss)\n",
        "\n",
        "        # Backpropagation\n",
        "        loss.backward()\n",
        "        optimizer.step()\n",
        "\n",
        "        # Update pbar-tqdm\n",
        "\n",
        "        pred = y_pred.argmax(dim=1, keepdim=True)  # get the index of the max log-probability\n",
        "        correct += pred.eq(target.view_as(pred)).sum().item()\n",
        "        processed += len(data)\n",
        "\n",
        "        pbar.set_description(desc= f'Loss={loss.item()} Batch_id={batch_idx} Accuracy={100*correct/processed:0.2f}')\n",
        "        train_acc.append(100*correct/processed)\n",
        "\n",
        "def test(model, device, test_loader, epoch, optimizer, Norm='batch', L1=False):\n",
        "    global best_acc1, tmp_best_acc1\n",
        "    model.eval()\n",
        "    test_loss = 0\n",
        "    correct = 0\n",
        "    acc1 = 0\n",
        "    with torch.no_grad():\n",
        "        for data, target in test_loader:\n",
        "            data, target = data.to(device), target.to(device)\n",
        "            output = model(data)\n",
        "            test_loss += F.nll_loss(output, target, reduction='sum').item()  # sum up batch loss\n",
        "            pred = output.argmax(dim=1, keepdim=True)  # get the index of the max log-probability\n",
        "            correct += pred.eq(target.view_as(pred)).sum().item()\n",
        "\n",
        "    test_loss /= len(test_loader.dataset)\n",
        "    test_losses.append(test_loss)\n",
        "\n",
        "    print('\\nTest set: Average loss: {:.4f}, Accuracy: {}/{} ({:.2f}%)\\n'.format(\n",
        "        test_loss, correct, len(test_loader.dataset),\n",
        "        100. * correct / len(test_loader.dataset)))\n",
        "    acc1 = 100. * correct / len(test_loader.dataset)\n",
        "    is_best = acc1 > best_acc1\n",
        "    tmp_best_acc1 = best_acc1\n",
        "    best_acc1 = max(acc1, best_acc1)\n",
        "    model_name = ''\n",
        "    # Prepare model model saving directory.\n",
        "    if is_best:\n",
        "        save_dir = os.path.join(os.getcwd(), 'saved_models')\n",
        "        model_name = 'MNIST_model_epoch-{}_L1-{}_{}-Norm_val_acc-{:.2f}.h5'.format(epoch+1, int(L1), Norm, acc1) \n",
        "        if not os.path.isdir(save_dir):\n",
        "            os.makedirs(save_dir)\n",
        "        filepath = os.path.join(save_dir, model_name)\n",
        "        print(\"validation-accuracy improved from {:.2f} to {:.2f}, saving model to {}\".format(tmp_best_acc1, best_acc1, filepath))\n",
        "        save_checkpoint({\n",
        "            'epoch': epoch + 1,\n",
        "            'state_dict': model.state_dict(),\n",
        "            'best_acc1': best_acc1,\n",
        "            'optimizer' : optimizer.state_dict(),\n",
        "        }, is_best, filename=filepath)\n",
        "    test_acc.append(100. * correct / len(test_loader.dataset))\n",
        "    \n",
        "    return model_name"
      ]
    },
    {
      "cell_type": "markdown",
      "metadata": {
        "id": "b0uDEi9HbAAl"
      },
      "source": [
        "### model-prediction & mislabelled image display related routines\n"
      ]
    },
    {
      "cell_type": "code",
      "execution_count": null,
      "metadata": {
        "id": "Uav5GGmBbAAm"
      },
      "outputs": [],
      "source": [
        "def model_pred(model, device, y_test, batchsize=test_mnist.data.cpu().numpy().shape[0]):\n",
        "    from sklearn.metrics import confusion_matrix, classification_report\n",
        "    model.eval()\n",
        "    dataldr_args = dict(shuffle=False, batch_size=batchsize, num_workers=2, pin_memory=True) if cuda else dict(shuffle=True, batch_size=10000)\n",
        "    test_ldr = torch.utils.data.DataLoader(test_mnist, **dataldr_args)\n",
        "    with torch.no_grad():\n",
        "        for data, target in test_ldr:\n",
        "            data, target = data.to(device), target.to(device)\n",
        "            output = model(data)\n",
        "            y_pred = output.argmax(dim=1, keepdim=True)  # get the index of the max log-probability\n",
        "        y_pred = y_pred.cpu().numpy()\n",
        "    print(confusion_matrix(y_test, y_pred.reshape(-1)))\n",
        "    print('\\n')\n",
        "    print(classification_report(y_test, y_pred.reshape(-1), target_names=class_names))\n",
        "    return y_pred\n",
        "\n",
        "\n",
        "def display_mislabelled(model, device, x_test, y_test, y_pred, title_str):\n",
        "    fig = plt.figure(figsize=(30,9))\n",
        "    fig.suptitle(title_str, fontsize=24)\n",
        "    idx1 = np.where(y_test[:] != y_pred)[0]\n",
        "    for j in range(3):\n",
        "        for i in range(len(class_names)):\n",
        "            ax = fig.add_subplot(3, 10, j*10+i+1, xticks=[], yticks=[])\n",
        "            idx = np.where(y_test[:] == i)[0]\n",
        "            intsct = np.intersect1d(idx1, idx)\n",
        "            features_idx = x_test[intsct, ::]\n",
        "            img_num = np.random.randint(features_idx.shape[0])\n",
        "            im = features_idx[img_num]\n",
        "            ax.set_title('Act:{} '.format(i) + ' Pred:{} '.format(y_pred[intsct[img_num]][0]), fontsize=20)\n",
        "            plt.imshow(im)\n",
        "    plt.show()"
      ]
    },
    {
      "cell_type": "markdown",
      "metadata": {
        "id": "33ZASQD4bAAn"
      },
      "source": [
        "### routine to load any model from saved file"
      ]
    },
    {
      "cell_type": "code",
      "execution_count": null,
      "metadata": {
        "id": "9wwlSlvpbAAn"
      },
      "outputs": [],
      "source": [
        "def load_model(describe_model_nn, model_name):\n",
        "    save_dir = os.path.join(os.getcwd(), 'saved_models')\n",
        "    if not os.path.isdir(save_dir):\n",
        "        os.makedirs(save_dir)\n",
        "    filepath = os.path.join(save_dir, model_name)\n",
        "    model = describe_model_nn #describe_model_nn is for example: Net1()\n",
        "    checkpoint = torch.load(filepath)\n",
        "    model.load_state_dict(checkpoint['state_dict'])\n",
        "    model.to(device)\n",
        "    return  model"
      ]
    },
    {
      "cell_type": "markdown",
      "metadata": {
        "id": "u_RrKPwlbAAn"
      },
      "source": [
        "### routine to save & load the validation-accuracy & validation-loss data  for any model"
      ]
    },
    {
      "cell_type": "code",
      "execution_count": null,
      "metadata": {
        "id": "LdofMR4NbAAn"
      },
      "outputs": [],
      "source": [
        "def save_acc_loss(test_losses, test_acc, test_loss_file_name,  test_acc_file_name):\n",
        "    import os\n",
        "    import numpy as np\n",
        "    # Prepare model model saving directory.\n",
        "    save_dir = os.path.join(os.getcwd(), 'saved_data')\n",
        "    if not os.path.isdir(save_dir):\n",
        "        os.makedirs(save_dir)\n",
        "    filepath_test_loss  = os.path.join(save_dir, test_loss_file_name)\n",
        "    filepath_test_acc  = os.path.join(save_dir, test_acc_file_name)\n",
        "    print(\"\\nsaving test_loss related numpy file to {}\".format(filepath_test_loss))\n",
        "    np.save(filepath_test_loss,test_losses)\n",
        "    print(\"\\nsaving test_acc related numpy file to {}\".format(filepath_test_acc))\n",
        "    np.save(filepath_test_acc,test_acc)\n",
        "    \n",
        "\n",
        "def load_acc_loss(test_loss_file_name,  test_acc_file_name):\n",
        "    # Prepare model model saving directory.\n",
        "    save_dir = os.path.join(os.getcwd(), 'saved_data')\n",
        "    if not os.path.isdir(save_dir):\n",
        "        os.makedirs(save_dir)\n",
        "    filepath_test_loss  = os.path.join(save_dir, test_loss_file_name)\n",
        "    filepath_test_acc  = os.path.join(save_dir, test_acc_file_name)\n",
        "    print(\"\\nloading test_loss related numpy file from {}\".format(filepath_test_loss))\n",
        "    loaded_test_losses = np.load(filepath_test_loss).tolist()\n",
        "    print(\"\\nloading test_acc related numpy file from {}\".format(filepath_test_acc))\n",
        "    loaded_test_acc = np.load(filepath_test_acc).tolist()\n",
        "    return loaded_test_losses, loaded_test_acc"
      ]
    },
    {
      "cell_type": "markdown",
      "metadata": {
        "id": "_ZMmMvqqbAAo"
      },
      "source": [
        "### routine to plot 3 accuracies and 3 losses in 2 separate plots (for:\n",
        "> 1. Network with Group Normalization\n",
        "> 2. Network with Layer Normalization\n",
        "> 3. Network with L1 + BN\n",
        "\n",
        ")"
      ]
    },
    {
      "cell_type": "code",
      "execution_count": null,
      "metadata": {
        "id": "nOaTMeVJbAAo"
      },
      "outputs": [],
      "source": [
        "def plot_curves(first_acc, second_acc, third_acc,\n",
        "                first_loss, second_loss, third_loss):\n",
        "    fig, axs = plt.subplots(1,2,figsize=(20,10))\n",
        "    _= axs[0].plot(first_acc)\n",
        "    _= axs[0].plot(second_acc)\n",
        "    _= axs[0].plot(third_acc)\n",
        "    _= axs[0].set_title('model test accuracies', fontsize=22)\n",
        "    _= axs[0].set_ylabel('test-accuracy', fontsize=18)\n",
        "    _= axs[0].set_xlabel('epoch', fontsize=18)\n",
        "    _= axs[0].legend(['Network with Group Normalization', 'Network with Layer Normalization', 'Network with L1 + BN'], loc='upper left')\n",
        "    _= axs[1].plot(first_loss)\n",
        "    _= axs[1].plot(second_loss)\n",
        "    _= axs[1].plot(third_loss)\n",
        "    _= axs[1].set_title('model test losses', fontsize=22)\n",
        "    _= axs[1].set_ylabel('test-loss', fontsize=18)\n",
        "    _= axs[1].set_xlabel('epoch', fontsize=18)\n",
        "    _= axs[1].legend(['Network with Group Normalization', 'Network with Layer Normalization', 'Network with L1 + BN'], loc='upper right')"
      ]
    },
    {
      "cell_type": "markdown",
      "metadata": {
        "id": "ubQL3H6RJL3h"
      },
      "source": [
        "# The model\n",
        "Let's start with the model we first saw, the base-line/reference model being used here is as shown in the table below:\n",
        "Taken from 3rd attempt from session_4, the network structure /architecture hasn't changed.except, the capability to introduce either of Batch/Layer/Group normalization optionally (obviously in a mutually exclusive way)\n",
        "Hence, an architecture as shown in the table below is still chosen as a \"baseline\" one.Same description as given under that session_4 attempt is extended here too.\n",
        "As while solving the earlier session assignment (and also as covered thoroughly in the last \"coding-drill-down\" session) two architectural components: BatchNorm & DropOut came out to be two important components to be applied on any Conv2d-layer (except the last one), hence for this session assignment, with very limited number of attempts to go thru (i.e. exactly 3 steps), starting out with inclusion of both these components under this 1st \"baseline\" neural network architecture (as mentioned before, the excercises on effects of gradual inclusion of both components on neural-net performance, was already undertaken while solving the earlier assignment, hence feel fair enough to start out the first attempt architecture, with both of them included under this new \"baseline\")\n",
        "\n",
        "Here is the layering, which is being used to achieve the receptive-field and parameter targets.\n",
        "\n",
        "Input Channels/Image  |  Conv2d/Transform      | Output Channels | RF\n",
        "---------------------|--------------|----------------------|----------------------\n",
        "`28x28x1`              | `(3x3x1)x10`   |      `26x26x10`  |      `3x3`  **INPUT BLOCK** [actually just one conv2d 3x3 layer(image-conv2d layer)]    \n",
        "` `              | `BN(10)`   |      ` `  |      ` `\n",
        "` `              | `Dropout(2.9%)`   |      ` `  |      ` `\n",
        "` `              | `ReLU`   |      ` `  |      ` ` \n",
        "`26x26x10`             | `(3x3x10)x10`  |      `24x24x10` |      `5x5`     **CONVOLUTION BLOCK 1** [1st conv2d 3x3 layer for this block ]\n",
        "` `              | `BN(10)`   |      ` `  |      ` `\n",
        "` `              | `Dropout(2.9%)`   |      ` `  |      ` `\n",
        "` `              | `ReLU`   |      ` `  |      ` ` \n",
        "`24x24x10`             | `(3x3x10)x15`  |      `22x22x15` |      `7x7`     **CONVOLUTION BLOCK 1** [2nd conv2d 3x3 layer for this block ]\n",
        "` `              | `BN(15)`   |      ` `  |      ` `\n",
        "` `              | `Dropout(2.9%)`   |      ` `  |      ` `\n",
        "` `              | `ReLU`   |      ` `  |      ` ` \n",
        "**22x22x15**             |   **MP(2x2)**    |     **11x11x15**   |     **8x8**  **TRANSITION BLOCK 1**  [1st maxpool(2,2) layer for this block]                     \n",
        "**11x11x15**             | **(1x1x15)x10**  |     **11x11x10**   |      **8x8**  **TRANSITION BLOCK 1**  [2nd 1 conv2d 1x1 layer for this block]  \n",
        "** **             | **BN(10)**   |     ** **  |     ** **                    \n",
        "** **             | **Dropout(2.9%)**   |     ** **  |     ** **\n",
        "** **             | **ReLU**   |     ** **  |     ** **      \n",
        "*11x11x10*             | *(3x3x10)x10*  |      *9x9x10* |      *12x12*  **CONVOLUTION BLOCK 2** [1st conv2d 3x3 layer for this block]\n",
        "** **            | *BN(10)*   |     * *   |     * * \n",
        "** **             | *Dropout(2.9%)*   |     * *   |     * * \n",
        "** **             | *ReLU*   |     ** **  |    ** **                       \n",
        "*9x9x10*             | *(3x3x10)x10*  |      *7x7x10* |      *16x16*  **CONVOLUTION BLOCK 2** [2nd conv2d 3x3 layer for this block] \n",
        "** **            | *BN(16)*   |     * *   |     * * \n",
        "** **             | *Dropout(2.9%)*   |     * *   |     * * \n",
        "** **             | *ReLU*   |     ** **  |    ** **    \n",
        "*7x7x10*               | *(3x3x10)x32*  |      *5x5x32*  |      *20x20*  **CONVOLUTION BLOCK 2** [3rd conv2d 3x3 layer for this block, this 32 number of output channels at this stage provides a CAPACITY BOOST for the overall network as explained ahead]  \n",
        "** **            | *BN(32)*   |     * *   |     * * \n",
        "** **             | *Dropout(2.9%)*   |     * *   |     * * \n",
        "** **             | *ReLU*   |     ** **  |    ** **   \n",
        "5x5x32               | GAP  LAYER (kernel_size=(5,5)   |      1x1x32          | `28x28` (20 + (5-1)x2 = 28) **OUTPUT BLOCK** [GAP layer]\n",
        "`1x1x32`               | `(1x1x32)x10`  |      `1x1x10`    |      `28x28` (28 + (1-1)x10 = 28) **OUTPUT BLOCK** [1 conv2d 1x1 layer]\n",
        "` `             | `log_SoftMax`   |     ` `  |     ` ` \n",
        "\n",
        " above has 4 \"components\":\n",
        " \n",
        " 1. **INPUT BLOCK:** One initial, \"Input Block\" at the begining, to convolve over the \"original image\"  channel(s), due to the opposing constraints of meeting an accuracy number with lesser parameters possible,\n",
        "    choosing  10 number of kernels for this 'separate' layer (which feeds in to the next \"CONVOLUTION BLOCK 1\",\n",
        "    explained below).This 1 initial layer & two following layers (under \"CONVOLUTION BLOCK 1\") provide receptive\n",
        "    field of 7x7 pixels(3->5->7) sufficient for the MNIST dataset's edges & gradient generation.No padding used.    \n",
        "\t\n",
        " 2. **CONVOLUTION BLOCK 1:** placed after the first \"Input Block\" layer, 2 layers of 3x3 conv2d operators, with 10 & 15 o/p channels at   each layer position respectively.Thus providing 15 channels at the output.No padding used.\n",
        "    \n",
        " 3. **TRANSITION BLOCK 1:** max-pool(k=2,s=2) and a-1x1-feature-merger kernel, following the 'CONVOLUTION BLOCK 1'.Provides 10 o/p channels.No padding used.\n",
        "    \n",
        " 4. **CONVOLUTION BLOCK 2:** These are 3 layers of 3x3 conv2d operators, with 10, 10, 32 o/p channels at  each layer position respectively.Here point to be noted, is the use of a \"capacity boosting\" number of o/p channels at the end. (reason explained in the next point below)\n",
        "  \n",
        " 5. **OUTPUT BLOCK:**: GAP layer followed by a 1x1 operator (which actually resembles a fully-connected(FC) layer in this case. A noteworthy point (which relates to the \"capacity\" element of the overall netowrk (NW)) is that the FC (the 1x1 conv2d behaviour here) will work better, in generating the final 10 \"class-features\" to be used by the log_softmax.If the inputs to it, have more \"features points\", i.e. for example if we do a 16->10 conversion, vs a 32->10 conversion, we can expect the 10 class-features (for softmax to decide)      generated by a 32->10 conversion will be more \"robust\" (as compared to say a 16->10 conversion)\n",
        "     Forunately, with an already \"frugal\" choice of numbers like 10, 15 etc, made for earlier layer (and also \"frugality\" in the total number of layers, which still provide an overall RF as 28, i.e. at least just equal to the original image/object size in this case), we can go ahead with choosing 32 here.\n",
        "\n",
        "Given below is the number of parameters thus obtained, which is well under 8k.\n",
        "\n",
        "#####======================= \n",
        "\n",
        "> Total params: 7,684\n",
        "\n",
        "> Trainable params: 7,684\n",
        "\n",
        "> Non-trainable params: 0\n",
        "#####--------------------------------------------------\n",
        "\n",
        "Also please note that out of all the other tested % ranges for dropout, it was found for this NW that 2.9% dropout worked best.\n"
      ]
    },
    {
      "cell_type": "markdown",
      "metadata": {
        "id": "oUR3gYhSbAAp"
      },
      "source": [
        "### Now Run 3 required iterations"
      ]
    },
    {
      "cell_type": "code",
      "source": [
        "run_combinations_dict = { # this dictionary values are used as :\n",
        "                          # for Norm, L1 in run_combinations_dict.items(): \n",
        "                          # so as to get respective \"flag\" value during\n",
        "                          # each iteration (during 3 such iterations)\n",
        "    'group': False,\n",
        "    'layer': False,\n",
        "    'batch': True\n",
        "}"
      ],
      "metadata": {
        "id": "6IFmFkJY8iPL"
      },
      "execution_count": null,
      "outputs": []
    },
    {
      "cell_type": "code",
      "source": [
        "def perform_iteration_tasks(device, mdl, Norm, L1):\n",
        "  # Step 1: Instantiate a model (option-based)  & load to the device.\n",
        "  print(\"Train & Test Neural Network With {}-Norm-Type & With L1-Regularization As: {}\".format(Norm, L1))\n",
        "  model = mdl.EVA8_session4_assignment_model(Norm)\n",
        "  model = model.to(device)\n",
        "\n",
        "  # Step 2: Get the model-summary for instantiated model from Step 1(option-based)\n",
        "  print(\"\\nModel Summary For Model With {}-Norm-Type & With L1-Regularization As: {}\".format(Norm, L1))\n",
        "  summary(model, input_size=(1, 28, 28))\n",
        "\n",
        "  # Step 3: Setup the LR (based on the last session best model)\n",
        "  EPOCHS = 20\n",
        "  init_learning_rate = 0.07\n",
        "  gamma= (init_learning_rate - (0.1/EPOCHS))/init_learning_rate\n",
        "  optimizer = optim.SGD(model.parameters(), lr=init_learning_rate, momentum=0.9)\n",
        "  scheduler = StepLR(optimizer, step_size=1, gamma=gamma)\n",
        "\n",
        "  # Step 4: Train & Test the model for 20 epochs also get the best-model name \n",
        "  # for those 20 epochs\n",
        "  last_best = ''\n",
        "  for epoch in range(EPOCHS):\n",
        "      print(\"\\nEPOCH:\", epoch+1)\n",
        "      train(model, device, train_loader, optimizer, epoch, L1=L1)\n",
        "      # Print Learning Rate\n",
        "      print(' LR:', scheduler.get_last_lr())\n",
        "      scheduler.step()\n",
        "      model_name = test(model, device, test_loader, epoch, optimizer, Norm=Norm, L1=L1)\n",
        "      last_best = last_best if (model_name == '') else model_name\n",
        "\n",
        "  # Step 5: Save the validation-accuracy & validation-loss data for the model\n",
        "  # in *npy format (to be used to draw 2 final consolidated loss and accuracy\n",
        "  # plots for all 3 iterations thru 3 model types)\n",
        "  save_acc_loss(test_losses, \n",
        "              test_acc, \n",
        "              test_loss_file_name='test_loss_l1_{}_{}-Norm.npy'.format(int(L1), Norm),\n",
        "              test_acc_file_name='test_acc_l1_{}_{}-Norm.npy'.format(int(L1), Norm)\n",
        "             )\n",
        "  \n",
        "  # Step 6: Now load the best model from this iteration\n",
        "  print('With {}-Norm-Type & With L1-Regularization As: {}, BEST MODEL IS: {}, '.format(Norm, L1, last_best))\n",
        "  model = load_model(model, model_name=last_best)\n",
        "\n",
        "  # Step 7: Get Confusion Matrix & Classification-Report for this model's prdections\n",
        "  print(\"\\nConfusion matrix & Classification Report For Model With {}-Norm-Type & With L1-Regularization As: {}\\n\".format(Norm, L1))\n",
        "  y_test = test_mnist.targets.cpu().numpy()\n",
        "  y_pred = model_pred(model, device, y_test)\n",
        "\n",
        "  \n",
        "  # Step 8: Draw the individual loss/accuracy plots for that 20 epochs \n",
        "  print(\"\\nIndvidual Loss/Accuracy Plot For Model With {}-Norm-Type & With L1-Regularization As: {}\\n\".format(Norm, L1))\n",
        "  fig, axs = plt.subplots(2,2,figsize=(15,10))\n",
        "  trn_loss= [t.cpu().item() for t in train_losses]\n",
        "  axs[0, 0].plot(trn_loss)\n",
        "  axs[0, 0].set_title(\"Training Loss\")\n",
        "  axs[1, 0].plot(train_acc[4000:])\n",
        "  axs[1, 0].set_title(\"Training Accuracy\")\n",
        "  axs[0, 1].plot(test_losses)\n",
        "  axs[0, 1].set_title(\"Test Loss\")\n",
        "  axs[1, 1].plot(test_acc)\n",
        "  axs[1, 1].set_title(\"Test Accuracy\")\n",
        "\n",
        "  # Step 9: Get few mislabelled images from the model\n",
        "  x_test = test_mnist.data.cpu().numpy()\n",
        "  display_mislabelled(model, device,  x_test, y_test.reshape(-1,1), y_pred, title_str='Predicted Vs Actual, For Model With {}-Norm-Type & With L1-Regularization As: {}'.format(Norm, L1) )\n"
      ],
      "metadata": {
        "id": "DV0deoS9g10b"
      },
      "execution_count": null,
      "outputs": []
    },
    {
      "cell_type": "code",
      "source": [
        "device = torch.device(\"cuda\" if cuda else \"cpu\")\n",
        "mdl = model # The one which was imported: from session_5.modular.models import model\n",
        "for i, (Norm, L1) in enumerate(run_combinations_dict.items()):\n",
        "  print(f\"\\n\\t\\t\\tITERATION NO: {i+1}: Norm={Norm}, L1={L1}\") \n",
        "  print('\\n', device)\n",
        "  train_losses = []\n",
        "  test_losses = []\n",
        "  train_acc = []\n",
        "  test_acc = []\n",
        "  best_acc1 = 0\n",
        "  tmp_best_acc1 = 0\n",
        "  perform_iteration_tasks(device, mdl, Norm, L1)"
      ],
      "metadata": {
        "id": "0FbLRXMU_cUQ",
        "colab": {
          "base_uri": "https://localhost:8080/",
          "height": 1000
        },
        "outputId": "8294bd15-ae64-4c57-dd40-b35fb5b93db3"
      },
      "execution_count": null,
      "outputs": [
        {
          "output_type": "stream",
          "name": "stdout",
          "text": [
            "\n",
            "\t\t\tITERATION NO: 1: Norm=group, L1=False\n",
            "\n",
            " cuda\n",
            "Train & Test Neural Network With group-Norm-Type & With L1-Regularization As: False\n",
            "\n",
            "Model Summary For Model With group-Norm-Type & With L1-Regularization As: False\n",
            "----------------------------------------------------------------\n",
            "        Layer (type)               Output Shape         Param #\n",
            "================================================================\n",
            "            Conv2d-1           [-1, 10, 26, 26]              90\n",
            "         GroupNorm-2           [-1, 10, 26, 26]              20\n",
            "           Dropout-3           [-1, 10, 26, 26]               0\n",
            "              ReLU-4           [-1, 10, 26, 26]               0\n",
            "            Conv2d-5           [-1, 10, 24, 24]             900\n",
            "         GroupNorm-6           [-1, 10, 24, 24]              20\n",
            "           Dropout-7           [-1, 10, 24, 24]               0\n",
            "              ReLU-8           [-1, 10, 24, 24]               0\n",
            "            Conv2d-9           [-1, 15, 22, 22]           1,350\n",
            "        GroupNorm-10           [-1, 15, 22, 22]              30\n",
            "          Dropout-11           [-1, 15, 22, 22]               0\n",
            "             ReLU-12           [-1, 15, 22, 22]               0\n",
            "        MaxPool2d-13           [-1, 15, 11, 11]               0\n",
            "           Conv2d-14           [-1, 10, 11, 11]             150\n",
            "        GroupNorm-15           [-1, 10, 11, 11]              20\n",
            "          Dropout-16           [-1, 10, 11, 11]               0\n",
            "             ReLU-17           [-1, 10, 11, 11]               0\n",
            "           Conv2d-18             [-1, 10, 9, 9]             900\n",
            "        GroupNorm-19             [-1, 10, 9, 9]              20\n",
            "          Dropout-20             [-1, 10, 9, 9]               0\n",
            "             ReLU-21             [-1, 10, 9, 9]               0\n",
            "           Conv2d-22             [-1, 10, 7, 7]             900\n",
            "        GroupNorm-23             [-1, 10, 7, 7]              20\n",
            "          Dropout-24             [-1, 10, 7, 7]               0\n",
            "             ReLU-25             [-1, 10, 7, 7]               0\n",
            "           Conv2d-26             [-1, 32, 5, 5]           2,880\n",
            "        GroupNorm-27             [-1, 32, 5, 5]              64\n",
            "          Dropout-28             [-1, 32, 5, 5]               0\n",
            "             ReLU-29             [-1, 32, 5, 5]               0\n",
            "        AvgPool2d-30             [-1, 32, 1, 1]               0\n",
            "           Conv2d-31             [-1, 10, 1, 1]             320\n",
            "================================================================\n",
            "Total params: 7,684\n",
            "Trainable params: 7,684\n",
            "Non-trainable params: 0\n",
            "----------------------------------------------------------------\n",
            "Input size (MB): 0.00\n",
            "Forward/backward pass size (MB): 0.72\n",
            "Params size (MB): 0.03\n",
            "Estimated Total Size (MB): 0.75\n",
            "----------------------------------------------------------------\n",
            "\n",
            "EPOCH: 1\n"
          ]
        },
        {
          "output_type": "stream",
          "name": "stderr",
          "text": [
            "Loss=0.0684753805398941 Batch_id=937 Accuracy=90.77: 100%|██████████| 938/938 [00:20<00:00, 46.36it/s]"
          ]
        },
        {
          "output_type": "stream",
          "name": "stdout",
          "text": [
            " LR: [0.07]\n"
          ]
        },
        {
          "output_type": "stream",
          "name": "stderr",
          "text": [
            "\n"
          ]
        },
        {
          "output_type": "stream",
          "name": "stdout",
          "text": [
            "\n",
            "Test set: Average loss: 0.0801, Accuracy: 9744/10000 (97.44%)\n",
            "\n",
            "validation-accuracy improved from 0.00 to 97.44, saving model to /content/saved_models/MNIST_model_epoch-1_L1-0_group-Norm_val_acc-97.44.h5\n",
            "\n",
            "EPOCH: 2\n"
          ]
        },
        {
          "output_type": "stream",
          "name": "stderr",
          "text": [
            "Loss=0.1831999570131302 Batch_id=937 Accuracy=97.25: 100%|██████████| 938/938 [00:20<00:00, 46.48it/s]"
          ]
        },
        {
          "output_type": "stream",
          "name": "stdout",
          "text": [
            " LR: [0.065]\n"
          ]
        },
        {
          "output_type": "stream",
          "name": "stderr",
          "text": [
            "\n"
          ]
        },
        {
          "output_type": "stream",
          "name": "stdout",
          "text": [
            "\n",
            "Test set: Average loss: 0.0488, Accuracy: 9857/10000 (98.57%)\n",
            "\n",
            "validation-accuracy improved from 97.44 to 98.57, saving model to /content/saved_models/MNIST_model_epoch-2_L1-0_group-Norm_val_acc-98.57.h5\n",
            "\n",
            "EPOCH: 3\n"
          ]
        },
        {
          "output_type": "stream",
          "name": "stderr",
          "text": [
            "Loss=0.018023721873760223 Batch_id=937 Accuracy=97.98: 100%|██████████| 938/938 [00:19<00:00, 48.14it/s]"
          ]
        },
        {
          "output_type": "stream",
          "name": "stdout",
          "text": [
            " LR: [0.06035714285714285]\n"
          ]
        },
        {
          "output_type": "stream",
          "name": "stderr",
          "text": [
            "\n"
          ]
        },
        {
          "output_type": "stream",
          "name": "stdout",
          "text": [
            "\n",
            "Test set: Average loss: 0.0343, Accuracy: 9896/10000 (98.96%)\n",
            "\n",
            "validation-accuracy improved from 98.57 to 98.96, saving model to /content/saved_models/MNIST_model_epoch-3_L1-0_group-Norm_val_acc-98.96.h5\n",
            "\n",
            "EPOCH: 4\n"
          ]
        },
        {
          "output_type": "stream",
          "name": "stderr",
          "text": [
            "Loss=0.028863724321126938 Batch_id=937 Accuracy=98.25: 100%|██████████| 938/938 [00:21<00:00, 43.80it/s]\n"
          ]
        },
        {
          "output_type": "stream",
          "name": "stdout",
          "text": [
            " LR: [0.05604591836734693]\n",
            "\n",
            "Test set: Average loss: 0.0404, Accuracy: 9868/10000 (98.68%)\n",
            "\n",
            "\n",
            "EPOCH: 5\n"
          ]
        },
        {
          "output_type": "stream",
          "name": "stderr",
          "text": [
            "Loss=0.011618787422776222 Batch_id=937 Accuracy=98.54: 100%|██████████| 938/938 [00:19<00:00, 47.37it/s]"
          ]
        },
        {
          "output_type": "stream",
          "name": "stdout",
          "text": [
            " LR: [0.052042638483965]\n"
          ]
        },
        {
          "output_type": "stream",
          "name": "stderr",
          "text": [
            "\n"
          ]
        },
        {
          "output_type": "stream",
          "name": "stdout",
          "text": [
            "\n",
            "Test set: Average loss: 0.0352, Accuracy: 9888/10000 (98.88%)\n",
            "\n",
            "\n",
            "EPOCH: 6\n"
          ]
        },
        {
          "output_type": "stream",
          "name": "stderr",
          "text": [
            "Loss=0.0009318799711763859 Batch_id=937 Accuracy=98.62: 100%|██████████| 938/938 [00:19<00:00, 48.35it/s]"
          ]
        },
        {
          "output_type": "stream",
          "name": "stdout",
          "text": [
            " LR: [0.04832530716368178]\n"
          ]
        },
        {
          "output_type": "stream",
          "name": "stderr",
          "text": [
            "\n"
          ]
        },
        {
          "output_type": "stream",
          "name": "stdout",
          "text": [
            "\n",
            "Test set: Average loss: 0.0315, Accuracy: 9897/10000 (98.97%)\n",
            "\n",
            "validation-accuracy improved from 98.96 to 98.97, saving model to /content/saved_models/MNIST_model_epoch-6_L1-0_group-Norm_val_acc-98.97.h5\n",
            "\n",
            "EPOCH: 7\n"
          ]
        },
        {
          "output_type": "stream",
          "name": "stderr",
          "text": [
            "Loss=0.007305670529603958 Batch_id=937 Accuracy=98.73: 100%|██████████| 938/938 [00:19<00:00, 48.29it/s]"
          ]
        },
        {
          "output_type": "stream",
          "name": "stdout",
          "text": [
            " LR: [0.04487349950913308]\n"
          ]
        },
        {
          "output_type": "stream",
          "name": "stderr",
          "text": [
            "\n"
          ]
        },
        {
          "output_type": "stream",
          "name": "stdout",
          "text": [
            "\n",
            "Test set: Average loss: 0.0314, Accuracy: 9888/10000 (98.88%)\n",
            "\n",
            "\n",
            "EPOCH: 8\n"
          ]
        },
        {
          "output_type": "stream",
          "name": "stderr",
          "text": [
            "Loss=0.1258775293827057 Batch_id=937 Accuracy=98.84: 100%|██████████| 938/938 [00:19<00:00, 48.32it/s]"
          ]
        },
        {
          "output_type": "stream",
          "name": "stdout",
          "text": [
            " LR: [0.041668249544195]\n"
          ]
        },
        {
          "output_type": "stream",
          "name": "stderr",
          "text": [
            "\n"
          ]
        },
        {
          "output_type": "stream",
          "name": "stdout",
          "text": [
            "\n",
            "Test set: Average loss: 0.0302, Accuracy: 9912/10000 (99.12%)\n",
            "\n",
            "validation-accuracy improved from 98.97 to 99.12, saving model to /content/saved_models/MNIST_model_epoch-8_L1-0_group-Norm_val_acc-99.12.h5\n",
            "\n",
            "EPOCH: 9\n"
          ]
        },
        {
          "output_type": "stream",
          "name": "stderr",
          "text": [
            "Loss=0.020813941955566406 Batch_id=937 Accuracy=98.92: 100%|██████████| 938/938 [00:19<00:00, 48.66it/s]"
          ]
        },
        {
          "output_type": "stream",
          "name": "stdout",
          "text": [
            " LR: [0.03869194600532393]\n"
          ]
        },
        {
          "output_type": "stream",
          "name": "stderr",
          "text": [
            "\n"
          ]
        },
        {
          "output_type": "stream",
          "name": "stdout",
          "text": [
            "\n",
            "Test set: Average loss: 0.0316, Accuracy: 9898/10000 (98.98%)\n",
            "\n",
            "\n",
            "EPOCH: 10\n"
          ]
        },
        {
          "output_type": "stream",
          "name": "stderr",
          "text": [
            "Loss=0.0015026637120172381 Batch_id=937 Accuracy=98.94: 100%|██████████| 938/938 [00:22<00:00, 41.86it/s]"
          ]
        },
        {
          "output_type": "stream",
          "name": "stdout",
          "text": [
            " LR: [0.03592823557637222]\n"
          ]
        },
        {
          "output_type": "stream",
          "name": "stderr",
          "text": [
            "\n"
          ]
        },
        {
          "output_type": "stream",
          "name": "stdout",
          "text": [
            "\n",
            "Test set: Average loss: 0.0275, Accuracy: 9914/10000 (99.14%)\n",
            "\n",
            "validation-accuracy improved from 99.12 to 99.14, saving model to /content/saved_models/MNIST_model_epoch-10_L1-0_group-Norm_val_acc-99.14.h5\n",
            "\n",
            "EPOCH: 11\n"
          ]
        },
        {
          "output_type": "stream",
          "name": "stderr",
          "text": [
            "Loss=0.0021108088549226522 Batch_id=937 Accuracy=99.03: 100%|██████████| 938/938 [00:19<00:00, 47.12it/s]"
          ]
        },
        {
          "output_type": "stream",
          "name": "stdout",
          "text": [
            " LR: [0.03336193303520277]\n"
          ]
        },
        {
          "output_type": "stream",
          "name": "stderr",
          "text": [
            "\n"
          ]
        },
        {
          "output_type": "stream",
          "name": "stdout",
          "text": [
            "\n",
            "Test set: Average loss: 0.0263, Accuracy: 9921/10000 (99.21%)\n",
            "\n",
            "validation-accuracy improved from 99.14 to 99.21, saving model to /content/saved_models/MNIST_model_epoch-11_L1-0_group-Norm_val_acc-99.21.h5\n",
            "\n",
            "EPOCH: 12\n"
          ]
        },
        {
          "output_type": "stream",
          "name": "stderr",
          "text": [
            "Loss=0.011342494748532772 Batch_id=937 Accuracy=99.09: 100%|██████████| 938/938 [00:20<00:00, 45.51it/s]"
          ]
        },
        {
          "output_type": "stream",
          "name": "stdout",
          "text": [
            " LR: [0.030978937818402566]\n"
          ]
        },
        {
          "output_type": "stream",
          "name": "stderr",
          "text": [
            "\n"
          ]
        },
        {
          "output_type": "stream",
          "name": "stdout",
          "text": [
            "\n",
            "Test set: Average loss: 0.0233, Accuracy: 9928/10000 (99.28%)\n",
            "\n",
            "validation-accuracy improved from 99.21 to 99.28, saving model to /content/saved_models/MNIST_model_epoch-12_L1-0_group-Norm_val_acc-99.28.h5\n",
            "\n",
            "EPOCH: 13\n"
          ]
        },
        {
          "output_type": "stream",
          "name": "stderr",
          "text": [
            "Loss=0.0015586433000862598 Batch_id=937 Accuracy=99.11: 100%|██████████| 938/938 [00:19<00:00, 48.97it/s]"
          ]
        },
        {
          "output_type": "stream",
          "name": "stdout",
          "text": [
            " LR: [0.028766156545659522]\n"
          ]
        },
        {
          "output_type": "stream",
          "name": "stderr",
          "text": [
            "\n"
          ]
        },
        {
          "output_type": "stream",
          "name": "stdout",
          "text": [
            "\n",
            "Test set: Average loss: 0.0242, Accuracy: 9918/10000 (99.18%)\n",
            "\n",
            "\n",
            "EPOCH: 14\n"
          ]
        },
        {
          "output_type": "stream",
          "name": "stderr",
          "text": [
            "Loss=0.005094034597277641 Batch_id=937 Accuracy=99.17: 100%|██████████| 938/938 [00:19<00:00, 47.80it/s]"
          ]
        },
        {
          "output_type": "stream",
          "name": "stdout",
          "text": [
            " LR: [0.02671143107811241]\n"
          ]
        },
        {
          "output_type": "stream",
          "name": "stderr",
          "text": [
            "\n"
          ]
        },
        {
          "output_type": "stream",
          "name": "stdout",
          "text": [
            "\n",
            "Test set: Average loss: 0.0236, Accuracy: 9931/10000 (99.31%)\n",
            "\n",
            "validation-accuracy improved from 99.28 to 99.31, saving model to /content/saved_models/MNIST_model_epoch-14_L1-0_group-Norm_val_acc-99.31.h5\n",
            "\n",
            "EPOCH: 15\n"
          ]
        },
        {
          "output_type": "stream",
          "name": "stderr",
          "text": [
            "Loss=0.0014597784029319882 Batch_id=937 Accuracy=99.21: 100%|██████████| 938/938 [00:19<00:00, 48.34it/s]"
          ]
        },
        {
          "output_type": "stream",
          "name": "stdout",
          "text": [
            " LR: [0.02480347171539009]\n"
          ]
        },
        {
          "output_type": "stream",
          "name": "stderr",
          "text": [
            "\n"
          ]
        },
        {
          "output_type": "stream",
          "name": "stdout",
          "text": [
            "\n",
            "Test set: Average loss: 0.0266, Accuracy: 9918/10000 (99.18%)\n",
            "\n",
            "\n",
            "EPOCH: 16\n"
          ]
        },
        {
          "output_type": "stream",
          "name": "stderr",
          "text": [
            "Loss=0.013520956039428711 Batch_id=937 Accuracy=99.25: 100%|██████████| 938/938 [00:19<00:00, 48.33it/s]\n"
          ]
        },
        {
          "output_type": "stream",
          "name": "stdout",
          "text": [
            " LR: [0.023031795164290797]\n",
            "\n",
            "Test set: Average loss: 0.0258, Accuracy: 9926/10000 (99.26%)\n",
            "\n",
            "\n",
            "EPOCH: 17\n"
          ]
        },
        {
          "output_type": "stream",
          "name": "stderr",
          "text": [
            "Loss=0.0034973372239619493 Batch_id=937 Accuracy=99.30: 100%|██████████| 938/938 [00:19<00:00, 47.11it/s]"
          ]
        },
        {
          "output_type": "stream",
          "name": "stdout",
          "text": [
            " LR: [0.021386666938270023]\n"
          ]
        },
        {
          "output_type": "stream",
          "name": "stderr",
          "text": [
            "\n"
          ]
        },
        {
          "output_type": "stream",
          "name": "stdout",
          "text": [
            "\n",
            "Test set: Average loss: 0.0251, Accuracy: 9922/10000 (99.22%)\n",
            "\n",
            "\n",
            "EPOCH: 18\n"
          ]
        },
        {
          "output_type": "stream",
          "name": "stderr",
          "text": [
            "Loss=0.012720396742224693 Batch_id=937 Accuracy=99.28: 100%|██████████| 938/938 [00:19<00:00, 48.52it/s]"
          ]
        },
        {
          "output_type": "stream",
          "name": "stdout",
          "text": [
            " LR: [0.019859047871250732]\n"
          ]
        },
        {
          "output_type": "stream",
          "name": "stderr",
          "text": [
            "\n"
          ]
        },
        {
          "output_type": "stream",
          "name": "stdout",
          "text": [
            "\n",
            "Test set: Average loss: 0.0220, Accuracy: 9930/10000 (99.30%)\n",
            "\n",
            "\n",
            "EPOCH: 19\n"
          ]
        },
        {
          "output_type": "stream",
          "name": "stderr",
          "text": [
            "Loss=0.04799576476216316 Batch_id=937 Accuracy=99.34: 100%|██████████| 938/938 [00:20<00:00, 46.12it/s]"
          ]
        },
        {
          "output_type": "stream",
          "name": "stdout",
          "text": [
            " LR: [0.01844054445187568]\n"
          ]
        },
        {
          "output_type": "stream",
          "name": "stderr",
          "text": [
            "\n"
          ]
        },
        {
          "output_type": "stream",
          "name": "stdout",
          "text": [
            "\n",
            "Test set: Average loss: 0.0217, Accuracy: 9927/10000 (99.27%)\n",
            "\n",
            "\n",
            "EPOCH: 20\n"
          ]
        },
        {
          "output_type": "stream",
          "name": "stderr",
          "text": [
            "Loss=0.0030279275961220264 Batch_id=937 Accuracy=99.33: 100%|██████████| 938/938 [00:19<00:00, 47.94it/s]"
          ]
        },
        {
          "output_type": "stream",
          "name": "stdout",
          "text": [
            " LR: [0.01712336270531313]\n"
          ]
        },
        {
          "output_type": "stream",
          "name": "stderr",
          "text": [
            "\n"
          ]
        },
        {
          "output_type": "stream",
          "name": "stdout",
          "text": [
            "\n",
            "Test set: Average loss: 0.0250, Accuracy: 9916/10000 (99.16%)\n",
            "\n",
            "\n",
            "saving test_loss related numpy file to /content/saved_data/test_loss_l1_0_group-Norm.npy\n",
            "\n",
            "saving test_acc related numpy file to /content/saved_data/test_acc_l1_0_group-Norm.npy\n",
            "With group-Norm-Type & With L1-Regularization As: False, BEST MODEL IS: MNIST_model_epoch-14_L1-0_group-Norm_val_acc-99.31.h5, \n",
            "\n",
            "Confusion matrix & Classification Report For Model With group-Norm-Type & With L1-Regularization As: False\n",
            "\n",
            "[[ 974    0    0    0    0    0    4    1    0    1]\n",
            " [   0 1128    1    0    0    2    3    0    1    0]\n",
            " [   1    0 1027    0    0    0    1    3    0    0]\n",
            " [   0    0    1 1005    0    4    0    0    0    0]\n",
            " [   0    0    0    0  973    0    1    1    1    6]\n",
            " [   1    0    0    5    0  884    1    1    0    0]\n",
            " [   1    1    1    0    1    1  952    0    1    0]\n",
            " [   0    3    2    1    0    0    0 1021    0    1]\n",
            " [   0    0    2    0    1    2    0    0  968    1]\n",
            " [   1    0    1    1    2    0    1    3    1  999]]\n",
            "\n",
            "\n",
            "              precision    recall  f1-score   support\n",
            "\n",
            "        zero       1.00      0.99      0.99       980\n",
            "         one       1.00      0.99      1.00      1135\n",
            "         two       0.99      1.00      0.99      1032\n",
            "       three       0.99      1.00      0.99      1010\n",
            "        four       1.00      0.99      0.99       982\n",
            "        five       0.99      0.99      0.99       892\n",
            "         six       0.99      0.99      0.99       958\n",
            "       seven       0.99      0.99      0.99      1028\n",
            "       eight       1.00      0.99      0.99       974\n",
            "        nine       0.99      0.99      0.99      1009\n",
            "\n",
            "    accuracy                           0.99     10000\n",
            "   macro avg       0.99      0.99      0.99     10000\n",
            "weighted avg       0.99      0.99      0.99     10000\n",
            "\n",
            "\n",
            "Indvidual Loss/Accuracy Plot For Model With group-Norm-Type & With L1-Regularization As: False\n",
            "\n"
          ]
        },
        {
          "output_type": "display_data",
          "data": {
            "text/plain": [
              "<Figure size 1080x720 with 4 Axes>"
            ],
            "image/png": "[encoded data removed]"
          },
          "metadata": {
            "needs_background": "light"
          }
        },
        {
          "output_type": "display_data",
          "data": {
            "text/plain": [
              "<Figure size 2160x648 with 30 Axes>"
            ],
            "image/png": "[encoded data removed]"
          },
          "metadata": {}
        },
        {
          "output_type": "stream",
          "name": "stdout",
          "text": [
            "\n",
            "\t\t\tITERATION NO: 2: Norm=layer, L1=False\n",
            "\n",
            " cuda\n",
            "Train & Test Neural Network With layer-Norm-Type & With L1-Regularization As: False\n",
            "\n",
            "Model Summary For Model With layer-Norm-Type & With L1-Regularization As: False\n",
            "----------------------------------------------------------------\n",
            "        Layer (type)               Output Shape         Param #\n",
            "================================================================\n",
            "            Conv2d-1           [-1, 10, 26, 26]              90\n",
            "         LayerNorm-2           [-1, 10, 26, 26]          13,520\n",
            "           Dropout-3           [-1, 10, 26, 26]               0\n",
            "              ReLU-4           [-1, 10, 26, 26]               0\n",
            "            Conv2d-5           [-1, 10, 24, 24]             900\n",
            "         LayerNorm-6           [-1, 10, 24, 24]          11,520\n",
            "           Dropout-7           [-1, 10, 24, 24]               0\n",
            "              ReLU-8           [-1, 10, 24, 24]               0\n",
            "            Conv2d-9           [-1, 15, 22, 22]           1,350\n",
            "        LayerNorm-10           [-1, 15, 22, 22]          14,520\n",
            "          Dropout-11           [-1, 15, 22, 22]               0\n",
            "             ReLU-12           [-1, 15, 22, 22]               0\n",
            "        MaxPool2d-13           [-1, 15, 11, 11]               0\n",
            "           Conv2d-14           [-1, 10, 11, 11]             150\n",
            "        LayerNorm-15           [-1, 10, 11, 11]           2,420\n",
            "          Dropout-16           [-1, 10, 11, 11]               0\n",
            "             ReLU-17           [-1, 10, 11, 11]               0\n",
            "           Conv2d-18             [-1, 10, 9, 9]             900\n",
            "        LayerNorm-19             [-1, 10, 9, 9]           1,620\n",
            "          Dropout-20             [-1, 10, 9, 9]               0\n",
            "             ReLU-21             [-1, 10, 9, 9]               0\n",
            "           Conv2d-22             [-1, 10, 7, 7]             900\n",
            "        LayerNorm-23             [-1, 10, 7, 7]             980\n",
            "          Dropout-24             [-1, 10, 7, 7]               0\n",
            "             ReLU-25             [-1, 10, 7, 7]               0\n",
            "           Conv2d-26             [-1, 32, 5, 5]           2,880\n",
            "        LayerNorm-27             [-1, 32, 5, 5]           1,600\n",
            "          Dropout-28             [-1, 32, 5, 5]               0\n",
            "             ReLU-29             [-1, 32, 5, 5]               0\n",
            "        AvgPool2d-30             [-1, 32, 1, 1]               0\n",
            "           Conv2d-31             [-1, 10, 1, 1]             320\n",
            "================================================================\n",
            "Total params: 53,670\n",
            "Trainable params: 53,670\n",
            "Non-trainable params: 0\n",
            "----------------------------------------------------------------\n",
            "Input size (MB): 0.00\n",
            "Forward/backward pass size (MB): 0.72\n",
            "Params size (MB): 0.20\n",
            "Estimated Total Size (MB): 0.93\n",
            "----------------------------------------------------------------\n",
            "\n",
            "EPOCH: 1\n"
          ]
        },
        {
          "output_type": "stream",
          "name": "stderr",
          "text": [
            "Loss=0.1123424768447876 Batch_id=937 Accuracy=88.60: 100%|██████████| 938/938 [00:22<00:00, 42.46it/s]"
          ]
        },
        {
          "output_type": "stream",
          "name": "stdout",
          "text": [
            " LR: [0.07]\n"
          ]
        },
        {
          "output_type": "stream",
          "name": "stderr",
          "text": [
            "\n"
          ]
        },
        {
          "output_type": "stream",
          "name": "stdout",
          "text": [
            "\n",
            "Test set: Average loss: 0.0902, Accuracy: 9739/10000 (97.39%)\n",
            "\n",
            "validation-accuracy improved from 0.00 to 97.39, saving model to /content/saved_models/MNIST_model_epoch-1_L1-0_layer-Norm_val_acc-97.39.h5\n",
            "\n",
            "EPOCH: 2\n"
          ]
        },
        {
          "output_type": "stream",
          "name": "stderr",
          "text": [
            "Loss=0.039060138165950775 Batch_id=937 Accuracy=96.98: 100%|██████████| 938/938 [00:20<00:00, 45.01it/s]"
          ]
        },
        {
          "output_type": "stream",
          "name": "stdout",
          "text": [
            " LR: [0.065]\n"
          ]
        },
        {
          "output_type": "stream",
          "name": "stderr",
          "text": [
            "\n"
          ]
        },
        {
          "output_type": "stream",
          "name": "stdout",
          "text": [
            "\n",
            "Test set: Average loss: 0.0588, Accuracy: 9808/10000 (98.08%)\n",
            "\n",
            "validation-accuracy improved from 97.39 to 98.08, saving model to /content/saved_models/MNIST_model_epoch-2_L1-0_layer-Norm_val_acc-98.08.h5\n",
            "\n",
            "EPOCH: 3\n"
          ]
        },
        {
          "output_type": "stream",
          "name": "stderr",
          "text": [
            "Loss=0.047605231404304504 Batch_id=937 Accuracy=97.79: 100%|██████████| 938/938 [00:20<00:00, 45.19it/s]"
          ]
        },
        {
          "output_type": "stream",
          "name": "stdout",
          "text": [
            " LR: [0.06035714285714285]\n"
          ]
        },
        {
          "output_type": "stream",
          "name": "stderr",
          "text": [
            "\n"
          ]
        },
        {
          "output_type": "stream",
          "name": "stdout",
          "text": [
            "\n",
            "Test set: Average loss: 0.0535, Accuracy: 9835/10000 (98.35%)\n",
            "\n",
            "validation-accuracy improved from 98.08 to 98.35, saving model to /content/saved_models/MNIST_model_epoch-3_L1-0_layer-Norm_val_acc-98.35.h5\n",
            "\n",
            "EPOCH: 4\n"
          ]
        },
        {
          "output_type": "stream",
          "name": "stderr",
          "text": [
            "Loss=0.033153317868709564 Batch_id=937 Accuracy=98.17: 100%|██████████| 938/938 [00:20<00:00, 44.69it/s]\n"
          ]
        },
        {
          "output_type": "stream",
          "name": "stdout",
          "text": [
            " LR: [0.05604591836734693]\n",
            "\n",
            "Test set: Average loss: 0.0444, Accuracy: 9853/10000 (98.53%)\n",
            "\n",
            "validation-accuracy improved from 98.35 to 98.53, saving model to /content/saved_models/MNIST_model_epoch-4_L1-0_layer-Norm_val_acc-98.53.h5\n",
            "\n",
            "EPOCH: 5\n"
          ]
        },
        {
          "output_type": "stream",
          "name": "stderr",
          "text": [
            "Loss=0.018955236300826073 Batch_id=937 Accuracy=98.44: 100%|██████████| 938/938 [00:20<00:00, 45.23it/s]"
          ]
        },
        {
          "output_type": "stream",
          "name": "stdout",
          "text": [
            " LR: [0.052042638483965]\n"
          ]
        },
        {
          "output_type": "stream",
          "name": "stderr",
          "text": [
            "\n"
          ]
        },
        {
          "output_type": "stream",
          "name": "stdout",
          "text": [
            "\n",
            "Test set: Average loss: 0.0389, Accuracy: 9875/10000 (98.75%)\n",
            "\n",
            "validation-accuracy improved from 98.53 to 98.75, saving model to /content/saved_models/MNIST_model_epoch-5_L1-0_layer-Norm_val_acc-98.75.h5\n",
            "\n",
            "EPOCH: 6\n"
          ]
        },
        {
          "output_type": "stream",
          "name": "stderr",
          "text": [
            "Loss=0.20833784341812134 Batch_id=937 Accuracy=98.56: 100%|██████████| 938/938 [00:21<00:00, 44.51it/s]"
          ]
        },
        {
          "output_type": "stream",
          "name": "stdout",
          "text": [
            " LR: [0.04832530716368178]\n"
          ]
        },
        {
          "output_type": "stream",
          "name": "stderr",
          "text": [
            "\n"
          ]
        },
        {
          "output_type": "stream",
          "name": "stdout",
          "text": [
            "\n",
            "Test set: Average loss: 0.0366, Accuracy: 9882/10000 (98.82%)\n",
            "\n",
            "validation-accuracy improved from 98.75 to 98.82, saving model to /content/saved_models/MNIST_model_epoch-6_L1-0_layer-Norm_val_acc-98.82.h5\n",
            "\n",
            "EPOCH: 7\n"
          ]
        },
        {
          "output_type": "stream",
          "name": "stderr",
          "text": [
            "Loss=0.014212483540177345 Batch_id=937 Accuracy=98.79: 100%|██████████| 938/938 [00:20<00:00, 44.99it/s]\n"
          ]
        },
        {
          "output_type": "stream",
          "name": "stdout",
          "text": [
            " LR: [0.04487349950913308]\n",
            "\n",
            "Test set: Average loss: 0.0319, Accuracy: 9900/10000 (99.00%)\n",
            "\n",
            "validation-accuracy improved from 98.82 to 99.00, saving model to /content/saved_models/MNIST_model_epoch-7_L1-0_layer-Norm_val_acc-99.00.h5\n",
            "\n",
            "EPOCH: 8\n"
          ]
        },
        {
          "output_type": "stream",
          "name": "stderr",
          "text": [
            "Loss=0.001295437105000019 Batch_id=937 Accuracy=98.85: 100%|██████████| 938/938 [00:21<00:00, 43.04it/s]"
          ]
        },
        {
          "output_type": "stream",
          "name": "stdout",
          "text": [
            " LR: [0.041668249544195]\n"
          ]
        },
        {
          "output_type": "stream",
          "name": "stderr",
          "text": [
            "\n"
          ]
        },
        {
          "output_type": "stream",
          "name": "stdout",
          "text": [
            "\n",
            "Test set: Average loss: 0.0290, Accuracy: 9902/10000 (99.02%)\n",
            "\n",
            "validation-accuracy improved from 99.00 to 99.02, saving model to /content/saved_models/MNIST_model_epoch-8_L1-0_layer-Norm_val_acc-99.02.h5\n",
            "\n",
            "EPOCH: 9\n"
          ]
        },
        {
          "output_type": "stream",
          "name": "stderr",
          "text": [
            "Loss=0.014306539669632912 Batch_id=937 Accuracy=98.94: 100%|██████████| 938/938 [00:21<00:00, 42.89it/s]\n"
          ]
        },
        {
          "output_type": "stream",
          "name": "stdout",
          "text": [
            " LR: [0.03869194600532393]\n",
            "\n",
            "Test set: Average loss: 0.0284, Accuracy: 9914/10000 (99.14%)\n",
            "\n",
            "validation-accuracy improved from 99.02 to 99.14, saving model to /content/saved_models/MNIST_model_epoch-9_L1-0_layer-Norm_val_acc-99.14.h5\n",
            "\n",
            "EPOCH: 10\n"
          ]
        },
        {
          "output_type": "stream",
          "name": "stderr",
          "text": [
            "Loss=0.006826265249401331 Batch_id=937 Accuracy=99.03: 100%|██████████| 938/938 [00:21<00:00, 44.34it/s]"
          ]
        },
        {
          "output_type": "stream",
          "name": "stdout",
          "text": [
            " LR: [0.03592823557637222]\n"
          ]
        },
        {
          "output_type": "stream",
          "name": "stderr",
          "text": [
            "\n"
          ]
        },
        {
          "output_type": "stream",
          "name": "stdout",
          "text": [
            "\n",
            "Test set: Average loss: 0.0271, Accuracy: 9912/10000 (99.12%)\n",
            "\n",
            "\n",
            "EPOCH: 11\n"
          ]
        },
        {
          "output_type": "stream",
          "name": "stderr",
          "text": [
            "Loss=0.006336608901619911 Batch_id=937 Accuracy=99.11: 100%|██████████| 938/938 [00:21<00:00, 44.21it/s]\n"
          ]
        },
        {
          "output_type": "stream",
          "name": "stdout",
          "text": [
            " LR: [0.03336193303520277]\n",
            "\n",
            "Test set: Average loss: 0.0269, Accuracy: 9913/10000 (99.13%)\n",
            "\n",
            "\n",
            "EPOCH: 12\n"
          ]
        },
        {
          "output_type": "stream",
          "name": "stderr",
          "text": [
            "Loss=0.007795603480190039 Batch_id=937 Accuracy=99.16: 100%|██████████| 938/938 [00:21<00:00, 44.42it/s]"
          ]
        },
        {
          "output_type": "stream",
          "name": "stdout",
          "text": [
            " LR: [0.030978937818402566]\n"
          ]
        },
        {
          "output_type": "stream",
          "name": "stderr",
          "text": [
            "\n"
          ]
        },
        {
          "output_type": "stream",
          "name": "stdout",
          "text": [
            "\n",
            "Test set: Average loss: 0.0258, Accuracy: 9914/10000 (99.14%)\n",
            "\n",
            "\n",
            "EPOCH: 13\n"
          ]
        },
        {
          "output_type": "stream",
          "name": "stderr",
          "text": [
            "Loss=0.07446274906396866 Batch_id=937 Accuracy=99.21: 100%|██████████| 938/938 [00:21<00:00, 44.49it/s]"
          ]
        },
        {
          "output_type": "stream",
          "name": "stdout",
          "text": [
            " LR: [0.028766156545659522]\n"
          ]
        },
        {
          "output_type": "stream",
          "name": "stderr",
          "text": [
            "\n"
          ]
        },
        {
          "output_type": "stream",
          "name": "stdout",
          "text": [
            "\n",
            "Test set: Average loss: 0.0236, Accuracy: 9925/10000 (99.25%)\n",
            "\n",
            "validation-accuracy improved from 99.14 to 99.25, saving model to /content/saved_models/MNIST_model_epoch-13_L1-0_layer-Norm_val_acc-99.25.h5\n",
            "\n",
            "EPOCH: 14\n"
          ]
        },
        {
          "output_type": "stream",
          "name": "stderr",
          "text": [
            "Loss=0.012167995795607567 Batch_id=937 Accuracy=99.26: 100%|██████████| 938/938 [00:21<00:00, 44.54it/s]"
          ]
        },
        {
          "output_type": "stream",
          "name": "stdout",
          "text": [
            " LR: [0.02671143107811241]\n"
          ]
        },
        {
          "output_type": "stream",
          "name": "stderr",
          "text": [
            "\n"
          ]
        },
        {
          "output_type": "stream",
          "name": "stdout",
          "text": [
            "\n",
            "Test set: Average loss: 0.0225, Accuracy: 9927/10000 (99.27%)\n",
            "\n",
            "validation-accuracy improved from 99.25 to 99.27, saving model to /content/saved_models/MNIST_model_epoch-14_L1-0_layer-Norm_val_acc-99.27.h5\n",
            "\n",
            "EPOCH: 15\n"
          ]
        },
        {
          "output_type": "stream",
          "name": "stderr",
          "text": [
            "Loss=0.02219056896865368 Batch_id=937 Accuracy=99.27: 100%|██████████| 938/938 [00:21<00:00, 44.04it/s]"
          ]
        },
        {
          "output_type": "stream",
          "name": "stdout",
          "text": [
            " LR: [0.02480347171539009]\n"
          ]
        },
        {
          "output_type": "stream",
          "name": "stderr",
          "text": [
            "\n"
          ]
        },
        {
          "output_type": "stream",
          "name": "stdout",
          "text": [
            "\n",
            "Test set: Average loss: 0.0225, Accuracy: 9918/10000 (99.18%)\n",
            "\n",
            "\n",
            "EPOCH: 16\n"
          ]
        },
        {
          "output_type": "stream",
          "name": "stderr",
          "text": [
            "Loss=0.001537117874249816 Batch_id=937 Accuracy=99.31: 100%|██████████| 938/938 [00:22<00:00, 42.36it/s]"
          ]
        },
        {
          "output_type": "stream",
          "name": "stdout",
          "text": [
            " LR: [0.023031795164290797]\n"
          ]
        },
        {
          "output_type": "stream",
          "name": "stderr",
          "text": [
            "\n"
          ]
        },
        {
          "output_type": "stream",
          "name": "stdout",
          "text": [
            "\n",
            "Test set: Average loss: 0.0270, Accuracy: 9917/10000 (99.17%)\n",
            "\n",
            "\n",
            "EPOCH: 17\n"
          ]
        },
        {
          "output_type": "stream",
          "name": "stderr",
          "text": [
            "Loss=0.003338542999699712 Batch_id=937 Accuracy=99.34: 100%|██████████| 938/938 [00:21<00:00, 42.93it/s]"
          ]
        },
        {
          "output_type": "stream",
          "name": "stdout",
          "text": [
            " LR: [0.021386666938270023]\n"
          ]
        },
        {
          "output_type": "stream",
          "name": "stderr",
          "text": [
            "\n"
          ]
        },
        {
          "output_type": "stream",
          "name": "stdout",
          "text": [
            "\n",
            "Test set: Average loss: 0.0218, Accuracy: 9927/10000 (99.27%)\n",
            "\n",
            "\n",
            "EPOCH: 18\n"
          ]
        },
        {
          "output_type": "stream",
          "name": "stderr",
          "text": [
            "Loss=0.013434764929115772 Batch_id=937 Accuracy=99.38: 100%|██████████| 938/938 [00:21<00:00, 44.58it/s]\n"
          ]
        },
        {
          "output_type": "stream",
          "name": "stdout",
          "text": [
            " LR: [0.019859047871250732]\n",
            "\n",
            "Test set: Average loss: 0.0210, Accuracy: 9932/10000 (99.32%)\n",
            "\n",
            "validation-accuracy improved from 99.27 to 99.32, saving model to /content/saved_models/MNIST_model_epoch-18_L1-0_layer-Norm_val_acc-99.32.h5\n",
            "\n",
            "EPOCH: 19\n"
          ]
        },
        {
          "output_type": "stream",
          "name": "stderr",
          "text": [
            "Loss=0.0007214942597784102 Batch_id=937 Accuracy=99.39: 100%|██████████| 938/938 [00:20<00:00, 44.72it/s]"
          ]
        },
        {
          "output_type": "stream",
          "name": "stdout",
          "text": [
            " LR: [0.01844054445187568]\n"
          ]
        },
        {
          "output_type": "stream",
          "name": "stderr",
          "text": [
            "\n"
          ]
        },
        {
          "output_type": "stream",
          "name": "stdout",
          "text": [
            "\n",
            "Test set: Average loss: 0.0212, Accuracy: 9931/10000 (99.31%)\n",
            "\n",
            "\n",
            "EPOCH: 20\n"
          ]
        },
        {
          "output_type": "stream",
          "name": "stderr",
          "text": [
            "Loss=0.0006112228729762137 Batch_id=937 Accuracy=99.41: 100%|██████████| 938/938 [00:20<00:00, 45.03it/s]"
          ]
        },
        {
          "output_type": "stream",
          "name": "stdout",
          "text": [
            " LR: [0.01712336270531313]\n"
          ]
        },
        {
          "output_type": "stream",
          "name": "stderr",
          "text": [
            "\n"
          ]
        },
        {
          "output_type": "stream",
          "name": "stdout",
          "text": [
            "\n",
            "Test set: Average loss: 0.0197, Accuracy: 9933/10000 (99.33%)\n",
            "\n",
            "validation-accuracy improved from 99.32 to 99.33, saving model to /content/saved_models/MNIST_model_epoch-20_L1-0_layer-Norm_val_acc-99.33.h5\n",
            "\n",
            "saving test_loss related numpy file to /content/saved_data/test_loss_l1_0_layer-Norm.npy\n",
            "\n",
            "saving test_acc related numpy file to /content/saved_data/test_acc_l1_0_layer-Norm.npy\n",
            "With layer-Norm-Type & With L1-Regularization As: False, BEST MODEL IS: MNIST_model_epoch-20_L1-0_layer-Norm_val_acc-99.33.h5, \n",
            "\n",
            "Confusion matrix & Classification Report For Model With layer-Norm-Type & With L1-Regularization As: False\n",
            "\n",
            "[[ 975    0    1    0    0    0    2    1    1    0]\n",
            " [   0 1132    1    0    0    1    0    1    0    0]\n",
            " [   1    1 1026    1    0    0    1    1    0    1]\n",
            " [   0    0    1 1004    0    3    0    1    1    0]\n",
            " [   0    0    0    0  975    0    1    0    0    6]\n",
            " [   1    0    0    3    0  887    1    0    0    0]\n",
            " [   5    3    0    0    0    3  947    0    0    0]\n",
            " [   0    3    2    0    0    0    0 1020    1    2]\n",
            " [   1    0    2    0    1    0    0    1  967    2]\n",
            " [   1    0    0    1    5    0    0    1    1 1000]]\n",
            "\n",
            "\n",
            "              precision    recall  f1-score   support\n",
            "\n",
            "        zero       0.99      0.99      0.99       980\n",
            "         one       0.99      1.00      1.00      1135\n",
            "         two       0.99      0.99      0.99      1032\n",
            "       three       1.00      0.99      0.99      1010\n",
            "        four       0.99      0.99      0.99       982\n",
            "        five       0.99      0.99      0.99       892\n",
            "         six       0.99      0.99      0.99       958\n",
            "       seven       0.99      0.99      0.99      1028\n",
            "       eight       1.00      0.99      0.99       974\n",
            "        nine       0.99      0.99      0.99      1009\n",
            "\n",
            "    accuracy                           0.99     10000\n",
            "   macro avg       0.99      0.99      0.99     10000\n",
            "weighted avg       0.99      0.99      0.99     10000\n",
            "\n",
            "\n",
            "Indvidual Loss/Accuracy Plot For Model With layer-Norm-Type & With L1-Regularization As: False\n",
            "\n"
          ]
        },
        {
          "output_type": "display_data",
          "data": {
            "text/plain": [
              "<Figure size 1080x720 with 4 Axes>"
            ],
            "image/png": "[encoded data removed]"
          },
          "metadata": {
            "needs_background": "light"
          }
        },
        {
          "output_type": "display_data",
          "data": {
            "text/plain": [
              "<Figure size 2160x648 with 30 Axes>"
            ],
            "image/png": "[encoded data removed]"
          },
          "metadata": {}
        },
        {
          "output_type": "stream",
          "name": "stdout",
          "text": [
            "\n",
            "\t\t\tITERATION NO: 3: Norm=batch, L1=True\n",
            "\n",
            " cuda\n",
            "Train & Test Neural Network With batch-Norm-Type & With L1-Regularization As: True\n",
            "\n",
            "Model Summary For Model With batch-Norm-Type & With L1-Regularization As: True\n",
            "----------------------------------------------------------------\n",
            "        Layer (type)               Output Shape         Param #\n",
            "================================================================\n",
            "            Conv2d-1           [-1, 10, 26, 26]              90\n",
            "       BatchNorm2d-2           [-1, 10, 26, 26]              20\n",
            "           Dropout-3           [-1, 10, 26, 26]               0\n",
            "              ReLU-4           [-1, 10, 26, 26]               0\n",
            "            Conv2d-5           [-1, 10, 24, 24]             900\n",
            "       BatchNorm2d-6           [-1, 10, 24, 24]              20\n",
            "           Dropout-7           [-1, 10, 24, 24]               0\n",
            "              ReLU-8           [-1, 10, 24, 24]               0\n",
            "            Conv2d-9           [-1, 15, 22, 22]           1,350\n",
            "      BatchNorm2d-10           [-1, 15, 22, 22]              30\n",
            "          Dropout-11           [-1, 15, 22, 22]               0\n",
            "             ReLU-12           [-1, 15, 22, 22]               0\n",
            "        MaxPool2d-13           [-1, 15, 11, 11]               0\n",
            "           Conv2d-14           [-1, 10, 11, 11]             150\n",
            "      BatchNorm2d-15           [-1, 10, 11, 11]              20\n",
            "          Dropout-16           [-1, 10, 11, 11]               0\n",
            "             ReLU-17           [-1, 10, 11, 11]               0\n",
            "           Conv2d-18             [-1, 10, 9, 9]             900\n",
            "      BatchNorm2d-19             [-1, 10, 9, 9]              20\n",
            "          Dropout-20             [-1, 10, 9, 9]               0\n",
            "             ReLU-21             [-1, 10, 9, 9]               0\n",
            "           Conv2d-22             [-1, 10, 7, 7]             900\n",
            "      BatchNorm2d-23             [-1, 10, 7, 7]              20\n",
            "          Dropout-24             [-1, 10, 7, 7]               0\n",
            "             ReLU-25             [-1, 10, 7, 7]               0\n",
            "           Conv2d-26             [-1, 32, 5, 5]           2,880\n",
            "      BatchNorm2d-27             [-1, 32, 5, 5]              64\n",
            "          Dropout-28             [-1, 32, 5, 5]               0\n",
            "             ReLU-29             [-1, 32, 5, 5]               0\n",
            "        AvgPool2d-30             [-1, 32, 1, 1]               0\n",
            "           Conv2d-31             [-1, 10, 1, 1]             320\n",
            "================================================================\n",
            "Total params: 7,684\n",
            "Trainable params: 7,684\n",
            "Non-trainable params: 0\n",
            "----------------------------------------------------------------\n",
            "Input size (MB): 0.00\n",
            "Forward/backward pass size (MB): 0.72\n",
            "Params size (MB): 0.03\n",
            "Estimated Total Size (MB): 0.75\n",
            "----------------------------------------------------------------\n",
            "\n",
            "EPOCH: 1\n"
          ]
        },
        {
          "output_type": "stream",
          "name": "stderr",
          "text": [
            "Loss=0.16603927314281464 Batch_id=937 Accuracy=94.02: 100%|██████████| 938/938 [00:23<00:00, 40.26it/s]"
          ]
        },
        {
          "output_type": "stream",
          "name": "stdout",
          "text": [
            " LR: [0.07]\n"
          ]
        },
        {
          "output_type": "stream",
          "name": "stderr",
          "text": [
            "\n"
          ]
        },
        {
          "output_type": "stream",
          "name": "stdout",
          "text": [
            "\n",
            "Test set: Average loss: 0.0458, Accuracy: 9849/10000 (98.49%)\n",
            "\n",
            "validation-accuracy improved from 0.00 to 98.49, saving model to /content/saved_models/MNIST_model_epoch-1_L1-1_batch-Norm_val_acc-98.49.h5\n",
            "\n",
            "EPOCH: 2\n"
          ]
        },
        {
          "output_type": "stream",
          "name": "stderr",
          "text": [
            "Loss=0.12440342456102371 Batch_id=937 Accuracy=97.98: 100%|██████████| 938/938 [00:23<00:00, 40.39it/s]"
          ]
        },
        {
          "output_type": "stream",
          "name": "stdout",
          "text": [
            " LR: [0.065]\n"
          ]
        },
        {
          "output_type": "stream",
          "name": "stderr",
          "text": [
            "\n"
          ]
        },
        {
          "output_type": "stream",
          "name": "stdout",
          "text": [
            "\n",
            "Test set: Average loss: 0.0476, Accuracy: 9847/10000 (98.47%)\n",
            "\n",
            "\n",
            "EPOCH: 3\n"
          ]
        },
        {
          "output_type": "stream",
          "name": "stderr",
          "text": [
            "Loss=0.06403782218694687 Batch_id=937 Accuracy=98.34: 100%|██████████| 938/938 [00:22<00:00, 40.82it/s]\n"
          ]
        },
        {
          "output_type": "stream",
          "name": "stdout",
          "text": [
            " LR: [0.06035714285714285]\n",
            "\n",
            "Test set: Average loss: 0.0439, Accuracy: 9865/10000 (98.65%)\n",
            "\n",
            "validation-accuracy improved from 98.49 to 98.65, saving model to /content/saved_models/MNIST_model_epoch-3_L1-1_batch-Norm_val_acc-98.65.h5\n",
            "\n",
            "EPOCH: 4\n"
          ]
        },
        {
          "output_type": "stream",
          "name": "stderr",
          "text": [
            "Loss=0.038724254816770554 Batch_id=937 Accuracy=98.53: 100%|██████████| 938/938 [00:23<00:00, 39.32it/s]"
          ]
        },
        {
          "output_type": "stream",
          "name": "stdout",
          "text": [
            " LR: [0.05604591836734693]\n"
          ]
        },
        {
          "output_type": "stream",
          "name": "stderr",
          "text": [
            "\n"
          ]
        },
        {
          "output_type": "stream",
          "name": "stdout",
          "text": [
            "\n",
            "Test set: Average loss: 0.0336, Accuracy: 9892/10000 (98.92%)\n",
            "\n",
            "validation-accuracy improved from 98.65 to 98.92, saving model to /content/saved_models/MNIST_model_epoch-4_L1-1_batch-Norm_val_acc-98.92.h5\n",
            "\n",
            "EPOCH: 5\n"
          ]
        },
        {
          "output_type": "stream",
          "name": "stderr",
          "text": [
            "Loss=0.06038961559534073 Batch_id=937 Accuracy=98.73: 100%|██████████| 938/938 [00:24<00:00, 38.87it/s]"
          ]
        },
        {
          "output_type": "stream",
          "name": "stdout",
          "text": [
            " LR: [0.052042638483965]\n"
          ]
        },
        {
          "output_type": "stream",
          "name": "stderr",
          "text": [
            "\n"
          ]
        },
        {
          "output_type": "stream",
          "name": "stdout",
          "text": [
            "\n",
            "Test set: Average loss: 0.0280, Accuracy: 9916/10000 (99.16%)\n",
            "\n",
            "validation-accuracy improved from 98.92 to 99.16, saving model to /content/saved_models/MNIST_model_epoch-5_L1-1_batch-Norm_val_acc-99.16.h5\n",
            "\n",
            "EPOCH: 6\n"
          ]
        },
        {
          "output_type": "stream",
          "name": "stderr",
          "text": [
            "Loss=0.07568852603435516 Batch_id=937 Accuracy=98.79: 100%|██████████| 938/938 [00:22<00:00, 40.94it/s]"
          ]
        },
        {
          "output_type": "stream",
          "name": "stdout",
          "text": [
            " LR: [0.04832530716368178]\n"
          ]
        },
        {
          "output_type": "stream",
          "name": "stderr",
          "text": [
            "\n"
          ]
        },
        {
          "output_type": "stream",
          "name": "stdout",
          "text": [
            "\n",
            "Test set: Average loss: 0.0342, Accuracy: 9895/10000 (98.95%)\n",
            "\n",
            "\n",
            "EPOCH: 7\n"
          ]
        },
        {
          "output_type": "stream",
          "name": "stderr",
          "text": [
            "Loss=0.0751146450638771 Batch_id=937 Accuracy=98.90: 100%|██████████| 938/938 [00:23<00:00, 40.21it/s]"
          ]
        },
        {
          "output_type": "stream",
          "name": "stdout",
          "text": [
            " LR: [0.04487349950913308]\n"
          ]
        },
        {
          "output_type": "stream",
          "name": "stderr",
          "text": [
            "\n"
          ]
        },
        {
          "output_type": "stream",
          "name": "stdout",
          "text": [
            "\n",
            "Test set: Average loss: 0.0283, Accuracy: 9917/10000 (99.17%)\n",
            "\n",
            "validation-accuracy improved from 99.16 to 99.17, saving model to /content/saved_models/MNIST_model_epoch-7_L1-1_batch-Norm_val_acc-99.17.h5\n",
            "\n",
            "EPOCH: 8\n"
          ]
        },
        {
          "output_type": "stream",
          "name": "stderr",
          "text": [
            "Loss=0.04326019436120987 Batch_id=937 Accuracy=98.94: 100%|██████████| 938/938 [00:23<00:00, 40.61it/s]"
          ]
        },
        {
          "output_type": "stream",
          "name": "stdout",
          "text": [
            " LR: [0.041668249544195]\n"
          ]
        },
        {
          "output_type": "stream",
          "name": "stderr",
          "text": [
            "\n"
          ]
        },
        {
          "output_type": "stream",
          "name": "stdout",
          "text": [
            "\n",
            "Test set: Average loss: 0.0246, Accuracy: 9922/10000 (99.22%)\n",
            "\n",
            "validation-accuracy improved from 99.17 to 99.22, saving model to /content/saved_models/MNIST_model_epoch-8_L1-1_batch-Norm_val_acc-99.22.h5\n",
            "\n",
            "EPOCH: 9\n"
          ]
        },
        {
          "output_type": "stream",
          "name": "stderr",
          "text": [
            "Loss=0.08657825738191605 Batch_id=937 Accuracy=99.02: 100%|██████████| 938/938 [00:23<00:00, 40.26it/s]"
          ]
        },
        {
          "output_type": "stream",
          "name": "stdout",
          "text": [
            " LR: [0.03869194600532393]\n"
          ]
        },
        {
          "output_type": "stream",
          "name": "stderr",
          "text": [
            "\n"
          ]
        },
        {
          "output_type": "stream",
          "name": "stdout",
          "text": [
            "\n",
            "Test set: Average loss: 0.0235, Accuracy: 9921/10000 (99.21%)\n",
            "\n",
            "\n",
            "EPOCH: 10\n"
          ]
        },
        {
          "output_type": "stream",
          "name": "stderr",
          "text": [
            "Loss=0.08472044765949249 Batch_id=937 Accuracy=99.06: 100%|██████████| 938/938 [00:23<00:00, 40.76it/s]"
          ]
        },
        {
          "output_type": "stream",
          "name": "stdout",
          "text": [
            " LR: [0.03592823557637222]\n"
          ]
        },
        {
          "output_type": "stream",
          "name": "stderr",
          "text": [
            "\n"
          ]
        },
        {
          "output_type": "stream",
          "name": "stdout",
          "text": [
            "\n",
            "Test set: Average loss: 0.0249, Accuracy: 9925/10000 (99.25%)\n",
            "\n",
            "validation-accuracy improved from 99.22 to 99.25, saving model to /content/saved_models/MNIST_model_epoch-10_L1-1_batch-Norm_val_acc-99.25.h5\n",
            "\n",
            "EPOCH: 11\n"
          ]
        },
        {
          "output_type": "stream",
          "name": "stderr",
          "text": [
            "Loss=0.053004950284957886 Batch_id=937 Accuracy=99.05: 100%|██████████| 938/938 [00:24<00:00, 38.58it/s]"
          ]
        },
        {
          "output_type": "stream",
          "name": "stdout",
          "text": [
            " LR: [0.03336193303520277]\n"
          ]
        },
        {
          "output_type": "stream",
          "name": "stderr",
          "text": [
            "\n"
          ]
        },
        {
          "output_type": "stream",
          "name": "stdout",
          "text": [
            "\n",
            "Test set: Average loss: 0.0258, Accuracy: 9921/10000 (99.21%)\n",
            "\n",
            "\n",
            "EPOCH: 12\n"
          ]
        },
        {
          "output_type": "stream",
          "name": "stderr",
          "text": [
            "Loss=0.1141866147518158 Batch_id=937 Accuracy=99.06: 100%|██████████| 938/938 [00:23<00:00, 39.95it/s]"
          ]
        },
        {
          "output_type": "stream",
          "name": "stdout",
          "text": [
            " LR: [0.030978937818402566]\n"
          ]
        },
        {
          "output_type": "stream",
          "name": "stderr",
          "text": [
            "\n"
          ]
        },
        {
          "output_type": "stream",
          "name": "stdout",
          "text": [
            "\n",
            "Test set: Average loss: 0.0225, Accuracy: 9926/10000 (99.26%)\n",
            "\n",
            "validation-accuracy improved from 99.25 to 99.26, saving model to /content/saved_models/MNIST_model_epoch-12_L1-1_batch-Norm_val_acc-99.26.h5\n",
            "\n",
            "EPOCH: 13\n"
          ]
        },
        {
          "output_type": "stream",
          "name": "stderr",
          "text": [
            "Loss=0.03130034729838371 Batch_id=937 Accuracy=99.19: 100%|██████████| 938/938 [00:23<00:00, 40.73it/s]"
          ]
        },
        {
          "output_type": "stream",
          "name": "stdout",
          "text": [
            " LR: [0.028766156545659522]\n"
          ]
        },
        {
          "output_type": "stream",
          "name": "stderr",
          "text": [
            "\n"
          ]
        },
        {
          "output_type": "stream",
          "name": "stdout",
          "text": [
            "\n",
            "Test set: Average loss: 0.0238, Accuracy: 9926/10000 (99.26%)\n",
            "\n",
            "\n",
            "EPOCH: 14\n"
          ]
        },
        {
          "output_type": "stream",
          "name": "stderr",
          "text": [
            "Loss=0.037007808685302734 Batch_id=937 Accuracy=99.20: 100%|██████████| 938/938 [00:23<00:00, 40.57it/s]"
          ]
        },
        {
          "output_type": "stream",
          "name": "stdout",
          "text": [
            " LR: [0.02671143107811241]\n"
          ]
        },
        {
          "output_type": "stream",
          "name": "stderr",
          "text": [
            "\n"
          ]
        },
        {
          "output_type": "stream",
          "name": "stdout",
          "text": [
            "\n",
            "Test set: Average loss: 0.0198, Accuracy: 9936/10000 (99.36%)\n",
            "\n",
            "validation-accuracy improved from 99.26 to 99.36, saving model to /content/saved_models/MNIST_model_epoch-14_L1-1_batch-Norm_val_acc-99.36.h5\n",
            "\n",
            "EPOCH: 15\n"
          ]
        },
        {
          "output_type": "stream",
          "name": "stderr",
          "text": [
            "Loss=0.09517841041088104 Batch_id=937 Accuracy=99.22: 100%|██████████| 938/938 [00:22<00:00, 41.00it/s]"
          ]
        },
        {
          "output_type": "stream",
          "name": "stdout",
          "text": [
            " LR: [0.02480347171539009]\n"
          ]
        },
        {
          "output_type": "stream",
          "name": "stderr",
          "text": [
            "\n"
          ]
        },
        {
          "output_type": "stream",
          "name": "stdout",
          "text": [
            "\n",
            "Test set: Average loss: 0.0198, Accuracy: 9940/10000 (99.40%)\n",
            "\n",
            "validation-accuracy improved from 99.36 to 99.40, saving model to /content/saved_models/MNIST_model_epoch-15_L1-1_batch-Norm_val_acc-99.40.h5\n",
            "\n",
            "EPOCH: 16\n"
          ]
        },
        {
          "output_type": "stream",
          "name": "stderr",
          "text": [
            "Loss=0.04209126904606819 Batch_id=937 Accuracy=99.21: 100%|██████████| 938/938 [00:22<00:00, 40.93it/s]"
          ]
        },
        {
          "output_type": "stream",
          "name": "stdout",
          "text": [
            " LR: [0.023031795164290797]\n"
          ]
        },
        {
          "output_type": "stream",
          "name": "stderr",
          "text": [
            "\n"
          ]
        },
        {
          "output_type": "stream",
          "name": "stdout",
          "text": [
            "\n",
            "Test set: Average loss: 0.0188, Accuracy: 9937/10000 (99.37%)\n",
            "\n",
            "\n",
            "EPOCH: 17\n"
          ]
        },
        {
          "output_type": "stream",
          "name": "stderr",
          "text": [
            "Loss=0.036559097468853 Batch_id=937 Accuracy=99.31: 100%|██████████| 938/938 [00:22<00:00, 41.22it/s]"
          ]
        },
        {
          "output_type": "stream",
          "name": "stdout",
          "text": [
            " LR: [0.021386666938270023]\n"
          ]
        },
        {
          "output_type": "stream",
          "name": "stderr",
          "text": [
            "\n"
          ]
        },
        {
          "output_type": "stream",
          "name": "stdout",
          "text": [
            "\n",
            "Test set: Average loss: 0.0229, Accuracy: 9931/10000 (99.31%)\n",
            "\n",
            "\n",
            "EPOCH: 18\n"
          ]
        },
        {
          "output_type": "stream",
          "name": "stderr",
          "text": [
            "Loss=0.16361160576343536 Batch_id=937 Accuracy=99.25: 100%|██████████| 938/938 [00:23<00:00, 40.52it/s]"
          ]
        },
        {
          "output_type": "stream",
          "name": "stdout",
          "text": [
            " LR: [0.019859047871250732]\n"
          ]
        },
        {
          "output_type": "stream",
          "name": "stderr",
          "text": [
            "\n"
          ]
        },
        {
          "output_type": "stream",
          "name": "stdout",
          "text": [
            "\n",
            "Test set: Average loss: 0.0222, Accuracy: 9932/10000 (99.32%)\n",
            "\n",
            "\n",
            "EPOCH: 19\n"
          ]
        },
        {
          "output_type": "stream",
          "name": "stderr",
          "text": [
            "Loss=0.02863350696861744 Batch_id=937 Accuracy=99.28: 100%|██████████| 938/938 [00:23<00:00, 40.68it/s]"
          ]
        },
        {
          "output_type": "stream",
          "name": "stdout",
          "text": [
            " LR: [0.01844054445187568]\n"
          ]
        },
        {
          "output_type": "stream",
          "name": "stderr",
          "text": [
            "\n"
          ]
        },
        {
          "output_type": "stream",
          "name": "stdout",
          "text": [
            "\n",
            "Test set: Average loss: 0.0230, Accuracy: 9934/10000 (99.34%)\n",
            "\n",
            "\n",
            "EPOCH: 20\n"
          ]
        },
        {
          "output_type": "stream",
          "name": "stderr",
          "text": [
            "Loss=0.02988969162106514 Batch_id=937 Accuracy=99.31: 100%|██████████| 938/938 [00:23<00:00, 39.13it/s]"
          ]
        },
        {
          "output_type": "stream",
          "name": "stdout",
          "text": [
            " LR: [0.01712336270531313]\n"
          ]
        },
        {
          "output_type": "stream",
          "name": "stderr",
          "text": [
            "\n"
          ]
        },
        {
          "output_type": "stream",
          "name": "stdout",
          "text": [
            "\n",
            "Test set: Average loss: 0.0207, Accuracy: 9926/10000 (99.26%)\n",
            "\n",
            "\n",
            "saving test_loss related numpy file to /content/saved_data/test_loss_l1_1_batch-Norm.npy\n",
            "\n",
            "saving test_acc related numpy file to /content/saved_data/test_acc_l1_1_batch-Norm.npy\n",
            "With batch-Norm-Type & With L1-Regularization As: True, BEST MODEL IS: MNIST_model_epoch-15_L1-1_batch-Norm_val_acc-99.40.h5, \n",
            "\n",
            "Confusion matrix & Classification Report For Model With batch-Norm-Type & With L1-Regularization As: True\n",
            "\n",
            "[[ 977    0    1    0    0    0    1    1    0    0]\n",
            " [   0 1133    1    0    0    0    1    0    0    0]\n",
            " [   0    1 1024    1    0    0    1    4    1    0]\n",
            " [   0    0    2 1003    0    4    0    1    0    0]\n",
            " [   0    0    0    0  979    0    0    0    0    3]\n",
            " [   0    0    0    2    0  888    1    1    0    0]\n",
            " [   3    2    0    0    0    1  952    0    0    0]\n",
            " [   0    3    3    0    0    0    0 1022    0    0]\n",
            " [   0    0    2    0    0    1    0    1  969    1]\n",
            " [   1    0    0    0    4    2    0    3    6  993]]\n",
            "\n",
            "\n",
            "              precision    recall  f1-score   support\n",
            "\n",
            "        zero       1.00      1.00      1.00       980\n",
            "         one       0.99      1.00      1.00      1135\n",
            "         two       0.99      0.99      0.99      1032\n",
            "       three       1.00      0.99      1.00      1010\n",
            "        four       1.00      1.00      1.00       982\n",
            "        five       0.99      1.00      0.99       892\n",
            "         six       1.00      0.99      0.99       958\n",
            "       seven       0.99      0.99      0.99      1028\n",
            "       eight       0.99      0.99      0.99       974\n",
            "        nine       1.00      0.98      0.99      1009\n",
            "\n",
            "    accuracy                           0.99     10000\n",
            "   macro avg       0.99      0.99      0.99     10000\n",
            "weighted avg       0.99      0.99      0.99     10000\n",
            "\n",
            "\n",
            "Indvidual Loss/Accuracy Plot For Model With batch-Norm-Type & With L1-Regularization As: True\n",
            "\n"
          ]
        },
        {
          "output_type": "display_data",
          "data": {
            "text/plain": [
              "<Figure size 1080x720 with 4 Axes>"
            ],
            "image/png": "[encoded data removed]"
          },
          "metadata": {
            "needs_background": "light"
          }
        },
        {
          "output_type": "display_data",
          "data": {
            "text/plain": [
              "<Figure size 2160x648 with 30 Axes>"
            ],
            "image/png": "[encoded data removed]"
          },
          "metadata": {}
        }
      ]
    },
    {
      "cell_type": "markdown",
      "source": [
        "### Plot 2 consolidated curves: one with test accuracies & another with test-loss for all above 3 cases."
      ],
      "metadata": {
        "id": "AN6OXibc6a-2"
      }
    },
    {
      "cell_type": "code",
      "source": [
        "test_loss = []\n",
        "test_acc = []\n",
        "for L1 in [False, True]:\n",
        "    for Norm in ['group', 'layer', 'batch']:\n",
        "        if ((L1==False)&(Norm=='batch'))or((L1==True)&(Norm=='group'))or((L1==True)&(Norm=='layer')):\n",
        "          continue\n",
        "        test_loss_l1_Norm, test_acc_l1_Norm = load_acc_loss(\n",
        "                                                         test_loss_file_name='test_loss_l1_{}_{}-Norm.npy'.format(int(L1), Norm),\n",
        "                                                         test_acc_file_name='test_acc_l1_{}_{}-Norm.npy'.format(int(L1), Norm)\n",
        "                                                         )\n",
        "        test_loss.append(test_loss_l1_Norm)\n",
        "        test_acc.append(test_acc_l1_Norm)\n",
        "\n",
        "plot_curves(test_acc[0], test_acc[1], test_acc[2], test_loss[0], test_loss[1], test_loss[2])"
      ],
      "metadata": {
        "id": "cKlC_HWw8hxv",
        "colab": {
          "base_uri": "https://localhost:8080/",
          "height": 844
        },
        "outputId": "1f44523f-1f83-4ff2-99da-d961a799c969"
      },
      "execution_count": null,
      "outputs": [
        {
          "output_type": "stream",
          "name": "stdout",
          "text": [
            "\n",
            "loading test_loss related numpy file from /content/saved_data/test_loss_l1_0_group-Norm.npy\n",
            "\n",
            "loading test_acc related numpy file from /content/saved_data/test_acc_l1_0_group-Norm.npy\n",
            "\n",
            "loading test_loss related numpy file from /content/saved_data/test_loss_l1_0_layer-Norm.npy\n",
            "\n",
            "loading test_acc related numpy file from /content/saved_data/test_acc_l1_0_layer-Norm.npy\n",
            "\n",
            "loading test_loss related numpy file from /content/saved_data/test_loss_l1_1_batch-Norm.npy\n",
            "\n",
            "loading test_acc related numpy file from /content/saved_data/test_acc_l1_1_batch-Norm.npy\n"
          ]
        },
        {
          "output_type": "display_data",
          "data": {
            "text/plain": [
              "<Figure size 1440x720 with 2 Axes>"
            ],
            "image/png": "[encoded data removed]"
          },
          "metadata": {
            "needs_background": "light"
          }
        }
      ]
    },
    {
      "cell_type": "code",
      "source": [],
      "metadata": {
        "id": "l3p4rZx7Pr3N"
      },
      "execution_count": null,
      "outputs": []
    },
    {
      "cell_type": "code",
      "execution_count": null,
      "metadata": {
        "id": "Cbb4oCpebAA_"
      },
      "outputs": [],
      "source": []
    }
  ],
  "metadata": {
    "accelerator": "GPU",
    "colab": {
      "provenance": []
    },
    "kernelspec": {
      "display_name": "Python 3",
      "language": "python",
      "name": "python3"
    },
    "language_info": {
      "codemirror_mode": {
        "name": "ipython",
        "version": 3
      },
      "file_extension": ".py",
      "mimetype": "text/x-python",
      "name": "python",
      "nbconvert_exporter": "python",
      "pygments_lexer": "ipython3",
      "version": "3.6.7"
    },
    "widgets": {
      "application/vnd.jupyter.widget-state+json": {
        "6d5c05cec0a740ffbe38c2c8604e4273": {
          "model_module": "@jupyter-widgets/controls",
          "model_name": "HBoxModel",
          "model_module_version": "1.5.0",
          "state": {
            "_dom_classes": [],
            "_model_module": "@jupyter-widgets/controls",
            "_model_module_version": "1.5.0",
            "_model_name": "HBoxModel",
            "_view_count": null,
            "_view_module": "@jupyter-widgets/controls",
            "_view_module_version": "1.5.0",
            "_view_name": "HBoxView",
            "box_style": "",
            "children": [
              "IPY_MODEL_5c755d1bf38148169a6cc58f15fa03a1",
              "IPY_MODEL_2a477491b9674fdfa09135b319f769b8",
              "IPY_MODEL_53300973477d40cd97d755aa91c37d6a"
            ],
            "layout": "IPY_MODEL_3495d88165484d72a6abe88fa48a81b4"
          }
        },
        "5c755d1bf38148169a6cc58f15fa03a1": {
          "model_module": "@jupyter-widgets/controls",
          "model_name": "HTMLModel",
          "model_module_version": "1.5.0",
          "state": {
            "_dom_classes": [],
            "_model_module": "@jupyter-widgets/controls",
            "_model_module_version": "1.5.0",
            "_model_name": "HTMLModel",
            "_view_count": null,
            "_view_module": "@jupyter-widgets/controls",
            "_view_module_version": "1.5.0",
            "_view_name": "HTMLView",
            "description": "",
            "description_tooltip": null,
            "layout": "IPY_MODEL_d9ce34dd5ba64f3096c1bae44d7aafc3",
            "placeholder": "​",
            "style": "IPY_MODEL_c8859e2af28a492f819083baf8ad7c25",
            "value": "100%"
          }
        },
        "2a477491b9674fdfa09135b319f769b8": {
          "model_module": "@jupyter-widgets/controls",
          "model_name": "FloatProgressModel",
          "model_module_version": "1.5.0",
          "state": {
            "_dom_classes": [],
            "_model_module": "@jupyter-widgets/controls",
            "_model_module_version": "1.5.0",
            "_model_name": "FloatProgressModel",
            "_view_count": null,
            "_view_module": "@jupyter-widgets/controls",
            "_view_module_version": "1.5.0",
            "_view_name": "ProgressView",
            "bar_style": "success",
            "description": "",
            "description_tooltip": null,
            "layout": "IPY_MODEL_6f37f4cd4a9741aeacea13a7b493bac0",
            "max": 9912422,
            "min": 0,
            "orientation": "horizontal",
            "style": "IPY_MODEL_cff723eab32c473caf613d508a716d5b",
            "value": 9912422
          }
        },
        "53300973477d40cd97d755aa91c37d6a": {
          "model_module": "@jupyter-widgets/controls",
          "model_name": "HTMLModel",
          "model_module_version": "1.5.0",
          "state": {
            "_dom_classes": [],
            "_model_module": "@jupyter-widgets/controls",
            "_model_module_version": "1.5.0",
            "_model_name": "HTMLModel",
            "_view_count": null,
            "_view_module": "@jupyter-widgets/controls",
            "_view_module_version": "1.5.0",
            "_view_name": "HTMLView",
            "description": "",
            "description_tooltip": null,
            "layout": "IPY_MODEL_ade4c8498005429ab493e93b34e2a279",
            "placeholder": "​",
            "style": "IPY_MODEL_4c6da6b6dcf546518fdc5190858945dd",
            "value": " 9912422/9912422 [00:00&lt;00:00, 22556324.38it/s]"
          }
        },
        "3495d88165484d72a6abe88fa48a81b4": {
          "model_module": "@jupyter-widgets/base",
          "model_name": "LayoutModel",
          "model_module_version": "1.2.0",
          "state": {
            "_model_module": "@jupyter-widgets/base",
            "_model_module_version": "1.2.0",
            "_model_name": "LayoutModel",
            "_view_count": null,
            "_view_module": "@jupyter-widgets/base",
            "_view_module_version": "1.2.0",
            "_view_name": "LayoutView",
            "align_content": null,
            "align_items": null,
            "align_self": null,
            "border": null,
            "bottom": null,
            "display": null,
            "flex": null,
            "flex_flow": null,
            "grid_area": null,
            "grid_auto_columns": null,
            "grid_auto_flow": null,
            "grid_auto_rows": null,
            "grid_column": null,
            "grid_gap": null,
            "grid_row": null,
            "grid_template_areas": null,
            "grid_template_columns": null,
            "grid_template_rows": null,
            "height": null,
            "justify_content": null,
            "justify_items": null,
            "left": null,
            "margin": null,
            "max_height": null,
            "max_width": null,
            "min_height": null,
            "min_width": null,
            "object_fit": null,
            "object_position": null,
            "order": null,
            "overflow": null,
            "overflow_x": null,
            "overflow_y": null,
            "padding": null,
            "right": null,
            "top": null,
            "visibility": null,
            "width": null
          }
        },
        "d9ce34dd5ba64f3096c1bae44d7aafc3": {
          "model_module": "@jupyter-widgets/base",
          "model_name": "LayoutModel",
          "model_module_version": "1.2.0",
          "state": {
            "_model_module": "@jupyter-widgets/base",
            "_model_module_version": "1.2.0",
            "_model_name": "LayoutModel",
            "_view_count": null,
            "_view_module": "@jupyter-widgets/base",
            "_view_module_version": "1.2.0",
            "_view_name": "LayoutView",
            "align_content": null,
            "align_items": null,
            "align_self": null,
            "border": null,
            "bottom": null,
            "display": null,
            "flex": null,
            "flex_flow": null,
            "grid_area": null,
            "grid_auto_columns": null,
            "grid_auto_flow": null,
            "grid_auto_rows": null,
            "grid_column": null,
            "grid_gap": null,
            "grid_row": null,
            "grid_template_areas": null,
            "grid_template_columns": null,
            "grid_template_rows": null,
            "height": null,
            "justify_content": null,
            "justify_items": null,
            "left": null,
            "margin": null,
            "max_height": null,
            "max_width": null,
            "min_height": null,
            "min_width": null,
            "object_fit": null,
            "object_position": null,
            "order": null,
            "overflow": null,
            "overflow_x": null,
            "overflow_y": null,
            "padding": null,
            "right": null,
            "top": null,
            "visibility": null,
            "width": null
          }
        },
        "c8859e2af28a492f819083baf8ad7c25": {
          "model_module": "@jupyter-widgets/controls",
          "model_name": "DescriptionStyleModel",
          "model_module_version": "1.5.0",
          "state": {
            "_model_module": "@jupyter-widgets/controls",
            "_model_module_version": "1.5.0",
            "_model_name": "DescriptionStyleModel",
            "_view_count": null,
            "_view_module": "@jupyter-widgets/base",
            "_view_module_version": "1.2.0",
            "_view_name": "StyleView",
            "description_width": ""
          }
        },
        "6f37f4cd4a9741aeacea13a7b493bac0": {
          "model_module": "@jupyter-widgets/base",
          "model_name": "LayoutModel",
          "model_module_version": "1.2.0",
          "state": {
            "_model_module": "@jupyter-widgets/base",
            "_model_module_version": "1.2.0",
            "_model_name": "LayoutModel",
            "_view_count": null,
            "_view_module": "@jupyter-widgets/base",
            "_view_module_version": "1.2.0",
            "_view_name": "LayoutView",
            "align_content": null,
            "align_items": null,
            "align_self": null,
            "border": null,
            "bottom": null,
            "display": null,
            "flex": null,
            "flex_flow": null,
            "grid_area": null,
            "grid_auto_columns": null,
            "grid_auto_flow": null,
            "grid_auto_rows": null,
            "grid_column": null,
            "grid_gap": null,
            "grid_row": null,
            "grid_template_areas": null,
            "grid_template_columns": null,
            "grid_template_rows": null,
            "height": null,
            "justify_content": null,
            "justify_items": null,
            "left": null,
            "margin": null,
            "max_height": null,
            "max_width": null,
            "min_height": null,
            "min_width": null,
            "object_fit": null,
            "object_position": null,
            "order": null,
            "overflow": null,
            "overflow_x": null,
            "overflow_y": null,
            "padding": null,
            "right": null,
            "top": null,
            "visibility": null,
            "width": null
          }
        },
        "cff723eab32c473caf613d508a716d5b": {
          "model_module": "@jupyter-widgets/controls",
          "model_name": "ProgressStyleModel",
          "model_module_version": "1.5.0",
          "state": {
            "_model_module": "@jupyter-widgets/controls",
            "_model_module_version": "1.5.0",
            "_model_name": "ProgressStyleModel",
            "_view_count": null,
            "_view_module": "@jupyter-widgets/base",
            "_view_module_version": "1.2.0",
            "_view_name": "StyleView",
            "bar_color": null,
            "description_width": ""
          }
        },
        "ade4c8498005429ab493e93b34e2a279": {
          "model_module": "@jupyter-widgets/base",
          "model_name": "LayoutModel",
          "model_module_version": "1.2.0",
          "state": {
            "_model_module": "@jupyter-widgets/base",
            "_model_module_version": "1.2.0",
            "_model_name": "LayoutModel",
            "_view_count": null,
            "_view_module": "@jupyter-widgets/base",
            "_view_module_version": "1.2.0",
            "_view_name": "LayoutView",
            "align_content": null,
            "align_items": null,
            "align_self": null,
            "border": null,
            "bottom": null,
            "display": null,
            "flex": null,
            "flex_flow": null,
            "grid_area": null,
            "grid_auto_columns": null,
            "grid_auto_flow": null,
            "grid_auto_rows": null,
            "grid_column": null,
            "grid_gap": null,
            "grid_row": null,
            "grid_template_areas": null,
            "grid_template_columns": null,
            "grid_template_rows": null,
            "height": null,
            "justify_content": null,
            "justify_items": null,
            "left": null,
            "margin": null,
            "max_height": null,
            "max_width": null,
            "min_height": null,
            "min_width": null,
            "object_fit": null,
            "object_position": null,
            "order": null,
            "overflow": null,
            "overflow_x": null,
            "overflow_y": null,
            "padding": null,
            "right": null,
            "top": null,
            "visibility": null,
            "width": null
          }
        },
        "4c6da6b6dcf546518fdc5190858945dd": {
          "model_module": "@jupyter-widgets/controls",
          "model_name": "DescriptionStyleModel",
          "model_module_version": "1.5.0",
          "state": {
            "_model_module": "@jupyter-widgets/controls",
            "_model_module_version": "1.5.0",
            "_model_name": "DescriptionStyleModel",
            "_view_count": null,
            "_view_module": "@jupyter-widgets/base",
            "_view_module_version": "1.2.0",
            "_view_name": "StyleView",
            "description_width": ""
          }
        },
        "5d59e8d6bd434b08b10796e81cce0072": {
          "model_module": "@jupyter-widgets/controls",
          "model_name": "HBoxModel",
          "model_module_version": "1.5.0",
          "state": {
            "_dom_classes": [],
            "_model_module": "@jupyter-widgets/controls",
            "_model_module_version": "1.5.0",
            "_model_name": "HBoxModel",
            "_view_count": null,
            "_view_module": "@jupyter-widgets/controls",
            "_view_module_version": "1.5.0",
            "_view_name": "HBoxView",
            "box_style": "",
            "children": [
              "IPY_MODEL_f1ad4a2daa604e5eb6d01919f637dc2f",
              "IPY_MODEL_9d23f7a7f0844244806a857c01098aa5",
              "IPY_MODEL_6151108e9b7f456d91137ca514d79258"
            ],
            "layout": "IPY_MODEL_f29f2e5ad5b842f28f328a78918c520f"
          }
        },
        "f1ad4a2daa604e5eb6d01919f637dc2f": {
          "model_module": "@jupyter-widgets/controls",
          "model_name": "HTMLModel",
          "model_module_version": "1.5.0",
          "state": {
            "_dom_classes": [],
            "_model_module": "@jupyter-widgets/controls",
            "_model_module_version": "1.5.0",
            "_model_name": "HTMLModel",
            "_view_count": null,
            "_view_module": "@jupyter-widgets/controls",
            "_view_module_version": "1.5.0",
            "_view_name": "HTMLView",
            "description": "",
            "description_tooltip": null,
            "layout": "IPY_MODEL_470b4637156443b7bf4064f8c6450255",
            "placeholder": "​",
            "style": "IPY_MODEL_aa48629b572e4b84b43f45e84dbcceb7",
            "value": "100%"
          }
        },
        "9d23f7a7f0844244806a857c01098aa5": {
          "model_module": "@jupyter-widgets/controls",
          "model_name": "FloatProgressModel",
          "model_module_version": "1.5.0",
          "state": {
            "_dom_classes": [],
            "_model_module": "@jupyter-widgets/controls",
            "_model_module_version": "1.5.0",
            "_model_name": "FloatProgressModel",
            "_view_count": null,
            "_view_module": "@jupyter-widgets/controls",
            "_view_module_version": "1.5.0",
            "_view_name": "ProgressView",
            "bar_style": "success",
            "description": "",
            "description_tooltip": null,
            "layout": "IPY_MODEL_49387d27f390445399f35ef68eef4994",
            "max": 28881,
            "min": 0,
            "orientation": "horizontal",
            "style": "IPY_MODEL_79a5d3c923c9464681707e86d1d9f334",
            "value": 28881
          }
        },
        "6151108e9b7f456d91137ca514d79258": {
          "model_module": "@jupyter-widgets/controls",
          "model_name": "HTMLModel",
          "model_module_version": "1.5.0",
          "state": {
            "_dom_classes": [],
            "_model_module": "@jupyter-widgets/controls",
            "_model_module_version": "1.5.0",
            "_model_name": "HTMLModel",
            "_view_count": null,
            "_view_module": "@jupyter-widgets/controls",
            "_view_module_version": "1.5.0",
            "_view_name": "HTMLView",
            "description": "",
            "description_tooltip": null,
            "layout": "IPY_MODEL_28148d7a07f24655baa18c982e95727a",
            "placeholder": "​",
            "style": "IPY_MODEL_c861afe81f134f26b8b4dbfc41e340fa",
            "value": " 28881/28881 [00:00&lt;00:00, 1208492.81it/s]"
          }
        },
        "f29f2e5ad5b842f28f328a78918c520f": {
          "model_module": "@jupyter-widgets/base",
          "model_name": "LayoutModel",
          "model_module_version": "1.2.0",
          "state": {
            "_model_module": "@jupyter-widgets/base",
            "_model_module_version": "1.2.0",
            "_model_name": "LayoutModel",
            "_view_count": null,
            "_view_module": "@jupyter-widgets/base",
            "_view_module_version": "1.2.0",
            "_view_name": "LayoutView",
            "align_content": null,
            "align_items": null,
            "align_self": null,
            "border": null,
            "bottom": null,
            "display": null,
            "flex": null,
            "flex_flow": null,
            "grid_area": null,
            "grid_auto_columns": null,
            "grid_auto_flow": null,
            "grid_auto_rows": null,
            "grid_column": null,
            "grid_gap": null,
            "grid_row": null,
            "grid_template_areas": null,
            "grid_template_columns": null,
            "grid_template_rows": null,
            "height": null,
            "justify_content": null,
            "justify_items": null,
            "left": null,
            "margin": null,
            "max_height": null,
            "max_width": null,
            "min_height": null,
            "min_width": null,
            "object_fit": null,
            "object_position": null,
            "order": null,
            "overflow": null,
            "overflow_x": null,
            "overflow_y": null,
            "padding": null,
            "right": null,
            "top": null,
            "visibility": null,
            "width": null
          }
        },
        "470b4637156443b7bf4064f8c6450255": {
          "model_module": "@jupyter-widgets/base",
          "model_name": "LayoutModel",
          "model_module_version": "1.2.0",
          "state": {
            "_model_module": "@jupyter-widgets/base",
            "_model_module_version": "1.2.0",
            "_model_name": "LayoutModel",
            "_view_count": null,
            "_view_module": "@jupyter-widgets/base",
            "_view_module_version": "1.2.0",
            "_view_name": "LayoutView",
            "align_content": null,
            "align_items": null,
            "align_self": null,
            "border": null,
            "bottom": null,
            "display": null,
            "flex": null,
            "flex_flow": null,
            "grid_area": null,
            "grid_auto_columns": null,
            "grid_auto_flow": null,
            "grid_auto_rows": null,
            "grid_column": null,
            "grid_gap": null,
            "grid_row": null,
            "grid_template_areas": null,
            "grid_template_columns": null,
            "grid_template_rows": null,
            "height": null,
            "justify_content": null,
            "justify_items": null,
            "left": null,
            "margin": null,
            "max_height": null,
            "max_width": null,
            "min_height": null,
            "min_width": null,
            "object_fit": null,
            "object_position": null,
            "order": null,
            "overflow": null,
            "overflow_x": null,
            "overflow_y": null,
            "padding": null,
            "right": null,
            "top": null,
            "visibility": null,
            "width": null
          }
        },
        "aa48629b572e4b84b43f45e84dbcceb7": {
          "model_module": "@jupyter-widgets/controls",
          "model_name": "DescriptionStyleModel",
          "model_module_version": "1.5.0",
          "state": {
            "_model_module": "@jupyter-widgets/controls",
            "_model_module_version": "1.5.0",
            "_model_name": "DescriptionStyleModel",
            "_view_count": null,
            "_view_module": "@jupyter-widgets/base",
            "_view_module_version": "1.2.0",
            "_view_name": "StyleView",
            "description_width": ""
          }
        },
        "49387d27f390445399f35ef68eef4994": {
          "model_module": "@jupyter-widgets/base",
          "model_name": "LayoutModel",
          "model_module_version": "1.2.0",
          "state": {
            "_model_module": "@jupyter-widgets/base",
            "_model_module_version": "1.2.0",
            "_model_name": "LayoutModel",
            "_view_count": null,
            "_view_module": "@jupyter-widgets/base",
            "_view_module_version": "1.2.0",
            "_view_name": "LayoutView",
            "align_content": null,
            "align_items": null,
            "align_self": null,
            "border": null,
            "bottom": null,
            "display": null,
            "flex": null,
            "flex_flow": null,
            "grid_area": null,
            "grid_auto_columns": null,
            "grid_auto_flow": null,
            "grid_auto_rows": null,
            "grid_column": null,
            "grid_gap": null,
            "grid_row": null,
            "grid_template_areas": null,
            "grid_template_columns": null,
            "grid_template_rows": null,
            "height": null,
            "justify_content": null,
            "justify_items": null,
            "left": null,
            "margin": null,
            "max_height": null,
            "max_width": null,
            "min_height": null,
            "min_width": null,
            "object_fit": null,
            "object_position": null,
            "order": null,
            "overflow": null,
            "overflow_x": null,
            "overflow_y": null,
            "padding": null,
            "right": null,
            "top": null,
            "visibility": null,
            "width": null
          }
        },
        "79a5d3c923c9464681707e86d1d9f334": {
          "model_module": "@jupyter-widgets/controls",
          "model_name": "ProgressStyleModel",
          "model_module_version": "1.5.0",
          "state": {
            "_model_module": "@jupyter-widgets/controls",
            "_model_module_version": "1.5.0",
            "_model_name": "ProgressStyleModel",
            "_view_count": null,
            "_view_module": "@jupyter-widgets/base",
            "_view_module_version": "1.2.0",
            "_view_name": "StyleView",
            "bar_color": null,
            "description_width": ""
          }
        },
        "28148d7a07f24655baa18c982e95727a": {
          "model_module": "@jupyter-widgets/base",
          "model_name": "LayoutModel",
          "model_module_version": "1.2.0",
          "state": {
            "_model_module": "@jupyter-widgets/base",
            "_model_module_version": "1.2.0",
            "_model_name": "LayoutModel",
            "_view_count": null,
            "_view_module": "@jupyter-widgets/base",
            "_view_module_version": "1.2.0",
            "_view_name": "LayoutView",
            "align_content": null,
            "align_items": null,
            "align_self": null,
            "border": null,
            "bottom": null,
            "display": null,
            "flex": null,
            "flex_flow": null,
            "grid_area": null,
            "grid_auto_columns": null,
            "grid_auto_flow": null,
            "grid_auto_rows": null,
            "grid_column": null,
            "grid_gap": null,
            "grid_row": null,
            "grid_template_areas": null,
            "grid_template_columns": null,
            "grid_template_rows": null,
            "height": null,
            "justify_content": null,
            "justify_items": null,
            "left": null,
            "margin": null,
            "max_height": null,
            "max_width": null,
            "min_height": null,
            "min_width": null,
            "object_fit": null,
            "object_position": null,
            "order": null,
            "overflow": null,
            "overflow_x": null,
            "overflow_y": null,
            "padding": null,
            "right": null,
            "top": null,
            "visibility": null,
            "width": null
          }
        },
        "c861afe81f134f26b8b4dbfc41e340fa": {
          "model_module": "@jupyter-widgets/controls",
          "model_name": "DescriptionStyleModel",
          "model_module_version": "1.5.0",
          "state": {
            "_model_module": "@jupyter-widgets/controls",
            "_model_module_version": "1.5.0",
            "_model_name": "DescriptionStyleModel",
            "_view_count": null,
            "_view_module": "@jupyter-widgets/base",
            "_view_module_version": "1.2.0",
            "_view_name": "StyleView",
            "description_width": ""
          }
        },
        "1febd87b43fa4fbaa487a4430159acf7": {
          "model_module": "@jupyter-widgets/controls",
          "model_name": "HBoxModel",
          "model_module_version": "1.5.0",
          "state": {
            "_dom_classes": [],
            "_model_module": "@jupyter-widgets/controls",
            "_model_module_version": "1.5.0",
            "_model_name": "HBoxModel",
            "_view_count": null,
            "_view_module": "@jupyter-widgets/controls",
            "_view_module_version": "1.5.0",
            "_view_name": "HBoxView",
            "box_style": "",
            "children": [
              "IPY_MODEL_680f82bf3a9e40e69e4005cd66875fcd",
              "IPY_MODEL_a855975324ca4a4e9ba1d533cf6d4150",
              "IPY_MODEL_747815ab64a54d8aa2c5a2a288defb8f"
            ],
            "layout": "IPY_MODEL_3ad745206de74f4b85847d48e3117c86"
          }
        },
        "680f82bf3a9e40e69e4005cd66875fcd": {
          "model_module": "@jupyter-widgets/controls",
          "model_name": "HTMLModel",
          "model_module_version": "1.5.0",
          "state": {
            "_dom_classes": [],
            "_model_module": "@jupyter-widgets/controls",
            "_model_module_version": "1.5.0",
            "_model_name": "HTMLModel",
            "_view_count": null,
            "_view_module": "@jupyter-widgets/controls",
            "_view_module_version": "1.5.0",
            "_view_name": "HTMLView",
            "description": "",
            "description_tooltip": null,
            "layout": "IPY_MODEL_51528d4609714143aceae08970f14bc4",
            "placeholder": "​",
            "style": "IPY_MODEL_0db3d162c8294320916f515371932f62",
            "value": "100%"
          }
        },
        "a855975324ca4a4e9ba1d533cf6d4150": {
          "model_module": "@jupyter-widgets/controls",
          "model_name": "FloatProgressModel",
          "model_module_version": "1.5.0",
          "state": {
            "_dom_classes": [],
            "_model_module": "@jupyter-widgets/controls",
            "_model_module_version": "1.5.0",
            "_model_name": "FloatProgressModel",
            "_view_count": null,
            "_view_module": "@jupyter-widgets/controls",
            "_view_module_version": "1.5.0",
            "_view_name": "ProgressView",
            "bar_style": "success",
            "description": "",
            "description_tooltip": null,
            "layout": "IPY_MODEL_9da8e9acb7b3484e836464ee0c408d85",
            "max": 1648877,
            "min": 0,
            "orientation": "horizontal",
            "style": "IPY_MODEL_30930ff6d7e343cf9138d9526d095241",
            "value": 1648877
          }
        },
        "747815ab64a54d8aa2c5a2a288defb8f": {
          "model_module": "@jupyter-widgets/controls",
          "model_name": "HTMLModel",
          "model_module_version": "1.5.0",
          "state": {
            "_dom_classes": [],
            "_model_module": "@jupyter-widgets/controls",
            "_model_module_version": "1.5.0",
            "_model_name": "HTMLModel",
            "_view_count": null,
            "_view_module": "@jupyter-widgets/controls",
            "_view_module_version": "1.5.0",
            "_view_name": "HTMLView",
            "description": "",
            "description_tooltip": null,
            "layout": "IPY_MODEL_f8409217140d416ca15362917a99a4eb",
            "placeholder": "​",
            "style": "IPY_MODEL_30c06d79282d49c391f7e0eff3b59a4e",
            "value": " 1648877/1648877 [00:00&lt;00:00, 26473324.90it/s]"
          }
        },
        "3ad745206de74f4b85847d48e3117c86": {
          "model_module": "@jupyter-widgets/base",
          "model_name": "LayoutModel",
          "model_module_version": "1.2.0",
          "state": {
            "_model_module": "@jupyter-widgets/base",
            "_model_module_version": "1.2.0",
            "_model_name": "LayoutModel",
            "_view_count": null,
            "_view_module": "@jupyter-widgets/base",
            "_view_module_version": "1.2.0",
            "_view_name": "LayoutView",
            "align_content": null,
            "align_items": null,
            "align_self": null,
            "border": null,
            "bottom": null,
            "display": null,
            "flex": null,
            "flex_flow": null,
            "grid_area": null,
            "grid_auto_columns": null,
            "grid_auto_flow": null,
            "grid_auto_rows": null,
            "grid_column": null,
            "grid_gap": null,
            "grid_row": null,
            "grid_template_areas": null,
            "grid_template_columns": null,
            "grid_template_rows": null,
            "height": null,
            "justify_content": null,
            "justify_items": null,
            "left": null,
            "margin": null,
            "max_height": null,
            "max_width": null,
            "min_height": null,
            "min_width": null,
            "object_fit": null,
            "object_position": null,
            "order": null,
            "overflow": null,
            "overflow_x": null,
            "overflow_y": null,
            "padding": null,
            "right": null,
            "top": null,
            "visibility": null,
            "width": null
          }
        },
        "51528d4609714143aceae08970f14bc4": {
          "model_module": "@jupyter-widgets/base",
          "model_name": "LayoutModel",
          "model_module_version": "1.2.0",
          "state": {
            "_model_module": "@jupyter-widgets/base",
            "_model_module_version": "1.2.0",
            "_model_name": "LayoutModel",
            "_view_count": null,
            "_view_module": "@jupyter-widgets/base",
            "_view_module_version": "1.2.0",
            "_view_name": "LayoutView",
            "align_content": null,
            "align_items": null,
            "align_self": null,
            "border": null,
            "bottom": null,
            "display": null,
            "flex": null,
            "flex_flow": null,
            "grid_area": null,
            "grid_auto_columns": null,
            "grid_auto_flow": null,
            "grid_auto_rows": null,
            "grid_column": null,
            "grid_gap": null,
            "grid_row": null,
            "grid_template_areas": null,
            "grid_template_columns": null,
            "grid_template_rows": null,
            "height": null,
            "justify_content": null,
            "justify_items": null,
            "left": null,
            "margin": null,
            "max_height": null,
            "max_width": null,
            "min_height": null,
            "min_width": null,
            "object_fit": null,
            "object_position": null,
            "order": null,
            "overflow": null,
            "overflow_x": null,
            "overflow_y": null,
            "padding": null,
            "right": null,
            "top": null,
            "visibility": null,
            "width": null
          }
        },
        "0db3d162c8294320916f515371932f62": {
          "model_module": "@jupyter-widgets/controls",
          "model_name": "DescriptionStyleModel",
          "model_module_version": "1.5.0",
          "state": {
            "_model_module": "@jupyter-widgets/controls",
            "_model_module_version": "1.5.0",
            "_model_name": "DescriptionStyleModel",
            "_view_count": null,
            "_view_module": "@jupyter-widgets/base",
            "_view_module_version": "1.2.0",
            "_view_name": "StyleView",
            "description_width": ""
          }
        },
        "9da8e9acb7b3484e836464ee0c408d85": {
          "model_module": "@jupyter-widgets/base",
          "model_name": "LayoutModel",
          "model_module_version": "1.2.0",
          "state": {
            "_model_module": "@jupyter-widgets/base",
            "_model_module_version": "1.2.0",
            "_model_name": "LayoutModel",
            "_view_count": null,
            "_view_module": "@jupyter-widgets/base",
            "_view_module_version": "1.2.0",
            "_view_name": "LayoutView",
            "align_content": null,
            "align_items": null,
            "align_self": null,
            "border": null,
            "bottom": null,
            "display": null,
            "flex": null,
            "flex_flow": null,
            "grid_area": null,
            "grid_auto_columns": null,
            "grid_auto_flow": null,
            "grid_auto_rows": null,
            "grid_column": null,
            "grid_gap": null,
            "grid_row": null,
            "grid_template_areas": null,
            "grid_template_columns": null,
            "grid_template_rows": null,
            "height": null,
            "justify_content": null,
            "justify_items": null,
            "left": null,
            "margin": null,
            "max_height": null,
            "max_width": null,
            "min_height": null,
            "min_width": null,
            "object_fit": null,
            "object_position": null,
            "order": null,
            "overflow": null,
            "overflow_x": null,
            "overflow_y": null,
            "padding": null,
            "right": null,
            "top": null,
            "visibility": null,
            "width": null
          }
        },
        "30930ff6d7e343cf9138d9526d095241": {
          "model_module": "@jupyter-widgets/controls",
          "model_name": "ProgressStyleModel",
          "model_module_version": "1.5.0",
          "state": {
            "_model_module": "@jupyter-widgets/controls",
            "_model_module_version": "1.5.0",
            "_model_name": "ProgressStyleModel",
            "_view_count": null,
            "_view_module": "@jupyter-widgets/base",
            "_view_module_version": "1.2.0",
            "_view_name": "StyleView",
            "bar_color": null,
            "description_width": ""
          }
        },
        "f8409217140d416ca15362917a99a4eb": {
          "model_module": "@jupyter-widgets/base",
          "model_name": "LayoutModel",
          "model_module_version": "1.2.0",
          "state": {
            "_model_module": "@jupyter-widgets/base",
            "_model_module_version": "1.2.0",
            "_model_name": "LayoutModel",
            "_view_count": null,
            "_view_module": "@jupyter-widgets/base",
            "_view_module_version": "1.2.0",
            "_view_name": "LayoutView",
            "align_content": null,
            "align_items": null,
            "align_self": null,
            "border": null,
            "bottom": null,
            "display": null,
            "flex": null,
            "flex_flow": null,
            "grid_area": null,
            "grid_auto_columns": null,
            "grid_auto_flow": null,
            "grid_auto_rows": null,
            "grid_column": null,
            "grid_gap": null,
            "grid_row": null,
            "grid_template_areas": null,
            "grid_template_columns": null,
            "grid_template_rows": null,
            "height": null,
            "justify_content": null,
            "justify_items": null,
            "left": null,
            "margin": null,
            "max_height": null,
            "max_width": null,
            "min_height": null,
            "min_width": null,
            "object_fit": null,
            "object_position": null,
            "order": null,
            "overflow": null,
            "overflow_x": null,
            "overflow_y": null,
            "padding": null,
            "right": null,
            "top": null,
            "visibility": null,
            "width": null
          }
        },
        "30c06d79282d49c391f7e0eff3b59a4e": {
          "model_module": "@jupyter-widgets/controls",
          "model_name": "DescriptionStyleModel",
          "model_module_version": "1.5.0",
          "state": {
            "_model_module": "@jupyter-widgets/controls",
            "_model_module_version": "1.5.0",
            "_model_name": "DescriptionStyleModel",
            "_view_count": null,
            "_view_module": "@jupyter-widgets/base",
            "_view_module_version": "1.2.0",
            "_view_name": "StyleView",
            "description_width": ""
          }
        },
        "06bca06033ef43f3b227316d4f04231a": {
          "model_module": "@jupyter-widgets/controls",
          "model_name": "HBoxModel",
          "model_module_version": "1.5.0",
          "state": {
            "_dom_classes": [],
            "_model_module": "@jupyter-widgets/controls",
            "_model_module_version": "1.5.0",
            "_model_name": "HBoxModel",
            "_view_count": null,
            "_view_module": "@jupyter-widgets/controls",
            "_view_module_version": "1.5.0",
            "_view_name": "HBoxView",
            "box_style": "",
            "children": [
              "IPY_MODEL_052ec92431ee4e4aa1846e5fde17bdf7",
              "IPY_MODEL_33c14b3df1b7440e8a9cfce356758c4e",
              "IPY_MODEL_0031b6d3b7fa45f6ad19d3733831b576"
            ],
            "layout": "IPY_MODEL_275b6d5d8ec24ec68f4937ad1f90f506"
          }
        },
        "052ec92431ee4e4aa1846e5fde17bdf7": {
          "model_module": "@jupyter-widgets/controls",
          "model_name": "HTMLModel",
          "model_module_version": "1.5.0",
          "state": {
            "_dom_classes": [],
            "_model_module": "@jupyter-widgets/controls",
            "_model_module_version": "1.5.0",
            "_model_name": "HTMLModel",
            "_view_count": null,
            "_view_module": "@jupyter-widgets/controls",
            "_view_module_version": "1.5.0",
            "_view_name": "HTMLView",
            "description": "",
            "description_tooltip": null,
            "layout": "IPY_MODEL_ba2c753495e0471291e3c288126b4a81",
            "placeholder": "​",
            "style": "IPY_MODEL_aad4d45acc98432f8ad9617e94caf7f0",
            "value": "100%"
          }
        },
        "33c14b3df1b7440e8a9cfce356758c4e": {
          "model_module": "@jupyter-widgets/controls",
          "model_name": "FloatProgressModel",
          "model_module_version": "1.5.0",
          "state": {
            "_dom_classes": [],
            "_model_module": "@jupyter-widgets/controls",
            "_model_module_version": "1.5.0",
            "_model_name": "FloatProgressModel",
            "_view_count": null,
            "_view_module": "@jupyter-widgets/controls",
            "_view_module_version": "1.5.0",
            "_view_name": "ProgressView",
            "bar_style": "success",
            "description": "",
            "description_tooltip": null,
            "layout": "IPY_MODEL_b46d800b778246178bb78af4c36d1c7c",
            "max": 4542,
            "min": 0,
            "orientation": "horizontal",
            "style": "IPY_MODEL_7b1b81f9e2204e71890a451dab012896",
            "value": 4542
          }
        },
        "0031b6d3b7fa45f6ad19d3733831b576": {
          "model_module": "@jupyter-widgets/controls",
          "model_name": "HTMLModel",
          "model_module_version": "1.5.0",
          "state": {
            "_dom_classes": [],
            "_model_module": "@jupyter-widgets/controls",
            "_model_module_version": "1.5.0",
            "_model_name": "HTMLModel",
            "_view_count": null,
            "_view_module": "@jupyter-widgets/controls",
            "_view_module_version": "1.5.0",
            "_view_name": "HTMLView",
            "description": "",
            "description_tooltip": null,
            "layout": "IPY_MODEL_2437ba42e27e4bf1beacac573b625b1c",
            "placeholder": "​",
            "style": "IPY_MODEL_1166762f28b44447ba6f3a7aec83d5e6",
            "value": " 4542/4542 [00:00&lt;00:00, 245943.39it/s]"
          }
        },
        "275b6d5d8ec24ec68f4937ad1f90f506": {
          "model_module": "@jupyter-widgets/base",
          "model_name": "LayoutModel",
          "model_module_version": "1.2.0",
          "state": {
            "_model_module": "@jupyter-widgets/base",
            "_model_module_version": "1.2.0",
            "_model_name": "LayoutModel",
            "_view_count": null,
            "_view_module": "@jupyter-widgets/base",
            "_view_module_version": "1.2.0",
            "_view_name": "LayoutView",
            "align_content": null,
            "align_items": null,
            "align_self": null,
            "border": null,
            "bottom": null,
            "display": null,
            "flex": null,
            "flex_flow": null,
            "grid_area": null,
            "grid_auto_columns": null,
            "grid_auto_flow": null,
            "grid_auto_rows": null,
            "grid_column": null,
            "grid_gap": null,
            "grid_row": null,
            "grid_template_areas": null,
            "grid_template_columns": null,
            "grid_template_rows": null,
            "height": null,
            "justify_content": null,
            "justify_items": null,
            "left": null,
            "margin": null,
            "max_height": null,
            "max_width": null,
            "min_height": null,
            "min_width": null,
            "object_fit": null,
            "object_position": null,
            "order": null,
            "overflow": null,
            "overflow_x": null,
            "overflow_y": null,
            "padding": null,
            "right": null,
            "top": null,
            "visibility": null,
            "width": null
          }
        },
        "ba2c753495e0471291e3c288126b4a81": {
          "model_module": "@jupyter-widgets/base",
          "model_name": "LayoutModel",
          "model_module_version": "1.2.0",
          "state": {
            "_model_module": "@jupyter-widgets/base",
            "_model_module_version": "1.2.0",
            "_model_name": "LayoutModel",
            "_view_count": null,
            "_view_module": "@jupyter-widgets/base",
            "_view_module_version": "1.2.0",
            "_view_name": "LayoutView",
            "align_content": null,
            "align_items": null,
            "align_self": null,
            "border": null,
            "bottom": null,
            "display": null,
            "flex": null,
            "flex_flow": null,
            "grid_area": null,
            "grid_auto_columns": null,
            "grid_auto_flow": null,
            "grid_auto_rows": null,
            "grid_column": null,
            "grid_gap": null,
            "grid_row": null,
            "grid_template_areas": null,
            "grid_template_columns": null,
            "grid_template_rows": null,
            "height": null,
            "justify_content": null,
            "justify_items": null,
            "left": null,
            "margin": null,
            "max_height": null,
            "max_width": null,
            "min_height": null,
            "min_width": null,
            "object_fit": null,
            "object_position": null,
            "order": null,
            "overflow": null,
            "overflow_x": null,
            "overflow_y": null,
            "padding": null,
            "right": null,
            "top": null,
            "visibility": null,
            "width": null
          }
        },
        "aad4d45acc98432f8ad9617e94caf7f0": {
          "model_module": "@jupyter-widgets/controls",
          "model_name": "DescriptionStyleModel",
          "model_module_version": "1.5.0",
          "state": {
            "_model_module": "@jupyter-widgets/controls",
            "_model_module_version": "1.5.0",
            "_model_name": "DescriptionStyleModel",
            "_view_count": null,
            "_view_module": "@jupyter-widgets/base",
            "_view_module_version": "1.2.0",
            "_view_name": "StyleView",
            "description_width": ""
          }
        },
        "b46d800b778246178bb78af4c36d1c7c": {
          "model_module": "@jupyter-widgets/base",
          "model_name": "LayoutModel",
          "model_module_version": "1.2.0",
          "state": {
            "_model_module": "@jupyter-widgets/base",
            "_model_module_version": "1.2.0",
            "_model_name": "LayoutModel",
            "_view_count": null,
            "_view_module": "@jupyter-widgets/base",
            "_view_module_version": "1.2.0",
            "_view_name": "LayoutView",
            "align_content": null,
            "align_items": null,
            "align_self": null,
            "border": null,
            "bottom": null,
            "display": null,
            "flex": null,
            "flex_flow": null,
            "grid_area": null,
            "grid_auto_columns": null,
            "grid_auto_flow": null,
            "grid_auto_rows": null,
            "grid_column": null,
            "grid_gap": null,
            "grid_row": null,
            "grid_template_areas": null,
            "grid_template_columns": null,
            "grid_template_rows": null,
            "height": null,
            "justify_content": null,
            "justify_items": null,
            "left": null,
            "margin": null,
            "max_height": null,
            "max_width": null,
            "min_height": null,
            "min_width": null,
            "object_fit": null,
            "object_position": null,
            "order": null,
            "overflow": null,
            "overflow_x": null,
            "overflow_y": null,
            "padding": null,
            "right": null,
            "top": null,
            "visibility": null,
            "width": null
          }
        },
        "7b1b81f9e2204e71890a451dab012896": {
          "model_module": "@jupyter-widgets/controls",
          "model_name": "ProgressStyleModel",
          "model_module_version": "1.5.0",
          "state": {
            "_model_module": "@jupyter-widgets/controls",
            "_model_module_version": "1.5.0",
            "_model_name": "ProgressStyleModel",
            "_view_count": null,
            "_view_module": "@jupyter-widgets/base",
            "_view_module_version": "1.2.0",
            "_view_name": "StyleView",
            "bar_color": null,
            "description_width": ""
          }
        },
        "2437ba42e27e4bf1beacac573b625b1c": {
          "model_module": "@jupyter-widgets/base",
          "model_name": "LayoutModel",
          "model_module_version": "1.2.0",
          "state": {
            "_model_module": "@jupyter-widgets/base",
            "_model_module_version": "1.2.0",
            "_model_name": "LayoutModel",
            "_view_count": null,
            "_view_module": "@jupyter-widgets/base",
            "_view_module_version": "1.2.0",
            "_view_name": "LayoutView",
            "align_content": null,
            "align_items": null,
            "align_self": null,
            "border": null,
            "bottom": null,
            "display": null,
            "flex": null,
            "flex_flow": null,
            "grid_area": null,
            "grid_auto_columns": null,
            "grid_auto_flow": null,
            "grid_auto_rows": null,
            "grid_column": null,
            "grid_gap": null,
            "grid_row": null,
            "grid_template_areas": null,
            "grid_template_columns": null,
            "grid_template_rows": null,
            "height": null,
            "justify_content": null,
            "justify_items": null,
            "left": null,
            "margin": null,
            "max_height": null,
            "max_width": null,
            "min_height": null,
            "min_width": null,
            "object_fit": null,
            "object_position": null,
            "order": null,
            "overflow": null,
            "overflow_x": null,
            "overflow_y": null,
            "padding": null,
            "right": null,
            "top": null,
            "visibility": null,
            "width": null
          }
        },
        "1166762f28b44447ba6f3a7aec83d5e6": {
          "model_module": "@jupyter-widgets/controls",
          "model_name": "DescriptionStyleModel",
          "model_module_version": "1.5.0",
          "state": {
            "_model_module": "@jupyter-widgets/controls",
            "_model_module_version": "1.5.0",
            "_model_name": "DescriptionStyleModel",
            "_view_count": null,
            "_view_module": "@jupyter-widgets/base",
            "_view_module_version": "1.2.0",
            "_view_name": "StyleView",
            "description_width": ""
          }
        }
      }
    }
  },
  "nbformat": 4,
  "nbformat_minor": 0
}