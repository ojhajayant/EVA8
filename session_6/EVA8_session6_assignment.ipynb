{
  "cells": [
    {
      "cell_type": "markdown",
      "source": [
        "> Run this network: https://colab.research.google.com/drive/1qlewMtxcAJT6fIJdmMh8pSf2e-dh51Rw\n",
        "\n",
        "> Fix the network above:\n",
        "\n",
        "*   change the code such that it uses GPU and\n",
        "*   change the architecture to C1C2C3C40 (No MaxPooling, but 3 3x3 layers with stride of 2 instead) (If you can figure out how to use Dilated kernels here instead of MP or strided convolution, extra credits!)\n",
        "*   total RF must be more than 44\n",
        "*   one of the layers must use Depthwise Separable Convolution\n",
        "*   one of the layers must use Dilated Convolution\n",
        "*   use GAP (compulsory):- add FC after GAP to target #of classes (optional)\n",
        "*   use albumentation library and apply:\n",
        "\n",
        "   > horizontal flip\n",
        "\n",
        "   > shiftScaleRotate\n",
        "\n",
        "    > coarseDropout (max_holes = 1, max_height=16px, max_width=1, min_holes = 1, min_height=16px, min_width=16px, fill_value=(mean of your dataset), mask_fill_value = None)\n",
        "*   achieve 85% accuracy, as many epochs as you want. Total Params to be less than 200k."
      ],
      "metadata": {
        "id": "jJbeMc1NNE57"
      }
    },
    {
      "cell_type": "code",
      "source": [
        "gpu_info = !nvidia-smi\n",
        "gpu_info = '\\n'.join(gpu_info)\n",
        "if gpu_info.find('failed') >= 0:\n",
        "  print('Not connected to a GPU')\n",
        "else:\n",
        "  print(gpu_info)"
      ],
      "metadata": {
        "colab": {
          "base_uri": "https://localhost:8080/"
        },
        "id": "HC1Aec8cNV_e",
        "outputId": "7a5dbed9-8221-43f6-9a10-990605b2a2a6"
      },
      "execution_count": 1,
      "outputs": [
        {
          "output_type": "stream",
          "name": "stdout",
          "text": [
            "Thu Feb  2 13:21:52 2023       \n",
            "+-----------------------------------------------------------------------------+\n",
            "| NVIDIA-SMI 510.47.03    Driver Version: 510.47.03    CUDA Version: 11.6     |\n",
            "|-------------------------------+----------------------+----------------------+\n",
            "| GPU  Name        Persistence-M| Bus-Id        Disp.A | Volatile Uncorr. ECC |\n",
            "| Fan  Temp  Perf  Pwr:Usage/Cap|         Memory-Usage | GPU-Util  Compute M. |\n",
            "|                               |                      |               MIG M. |\n",
            "|===============================+======================+======================|\n",
            "|   0  NVIDIA A100-SXM...  Off  | 00000000:00:04.0 Off |                    0 |\n",
            "| N/A   30C    P0    48W / 400W |      0MiB / 40960MiB |      0%      Default |\n",
            "|                               |                      |             Disabled |\n",
            "+-------------------------------+----------------------+----------------------+\n",
            "                                                                               \n",
            "+-----------------------------------------------------------------------------+\n",
            "| Processes:                                                                  |\n",
            "|  GPU   GI   CI        PID   Type   Process name                  GPU Memory |\n",
            "|        ID   ID                                                   Usage      |\n",
            "|=============================================================================|\n",
            "|  No running processes found                                                 |\n",
            "+-----------------------------------------------------------------------------+\n"
          ]
        }
      ]
    },
    {
      "cell_type": "markdown",
      "metadata": {
        "id": "rX4zCVu1aBI5"
      },
      "source": [
        "##  Install the EVA8 packages, hosted @ github"
      ]
    },
    {
      "cell_type": "code",
      "execution_count": 2,
      "metadata": {
        "colab": {
          "base_uri": "https://localhost:8080/"
        },
        "id": "vXR25WbocwV6",
        "outputId": "2487966f-837a-4780-dc75-b7cf24771773"
      },
      "outputs": [
        {
          "output_type": "stream",
          "name": "stdout",
          "text": [
            "Looking in indexes: https://pypi.org/simple, https://us-python.pkg.dev/colab-wheels/public/simple/\n",
            "Collecting git+https://****@github.com/ojhajayant/EVA8.git\n",
            "  Cloning https://****@github.com/ojhajayant/EVA8.git to /tmp/pip-req-build-_qfd7otz\n",
            "  Running command git clone --filter=blob:none --quiet 'https://****@github.com/ojhajayant/EVA8.git' /tmp/pip-req-build-_qfd7otz\n",
            "  Resolved https://****@github.com/ojhajayant/EVA8.git to commit 46f52015e1e9128a2d0c070be90b57d5e4d0f7a0\n",
            "  Preparing metadata (setup.py) ... \u001b[?25l\u001b[?25hdone\n",
            "Building wheels for collected packages: eva8\n",
            "  Building wheel for eva8 (setup.py) ... \u001b[?25l\u001b[?25hdone\n",
            "  Created wheel for eva8: filename=eva8-0.0.0-py3-none-any.whl size=17727 sha256=765cceb8cbd243c03daa79b495d5c3ed20d649d1c759ba6e5c6f51c2d86916bf\n",
            "  Stored in directory: /tmp/pip-ephem-wheel-cache-2ktyjweq/wheels/91/2b/81/6528ca90c705fbe7f126306baa4c34cd2cbf0ea8fcb5a3dd90\n",
            "Successfully built eva8\n",
            "Installing collected packages: eva8\n",
            "Successfully installed eva8-0.0.0\n"
          ]
        }
      ],
      "source": [
        "!pip install git+https://git@github.com/ojhajayant/EVA8.git --upgrade "
      ]
    },
    {
      "cell_type": "code",
      "execution_count": 3,
      "metadata": {
        "colab": {
          "base_uri": "https://localhost:8080/"
        },
        "id": "Ug0k48F5Abi1",
        "outputId": "dbfa82b3-f0c5-49ad-aa4c-113ee22a5a8f"
      },
      "outputs": [
        {
          "output_type": "stream",
          "name": "stdout",
          "text": [
            "Looking in indexes: https://pypi.org/simple, https://us-python.pkg.dev/colab-wheels/public/simple/\n",
            "Collecting opencv-python-headless==4.1.2.30\n",
            "  Downloading opencv_python_headless-4.1.2.30-cp38-cp38-manylinux1_x86_64.whl (21.8 MB)\n",
            "\u001b[2K     \u001b[90m━━━━━━━━━━━━━━━━━━━━━━━━━━━━━━━━━━━━━━━━\u001b[0m \u001b[32m21.8/21.8 MB\u001b[0m \u001b[31m65.3 MB/s\u001b[0m eta \u001b[36m0:00:00\u001b[0m\n",
            "\u001b[?25hRequirement already satisfied: numpy>=1.17.3 in /usr/local/lib/python3.8/dist-packages (from opencv-python-headless==4.1.2.30) (1.21.6)\n",
            "Installing collected packages: opencv-python-headless\n",
            "  Attempting uninstall: opencv-python-headless\n",
            "    Found existing installation: opencv-python-headless 4.7.0.68\n",
            "    Uninstalling opencv-python-headless-4.7.0.68:\n",
            "      Successfully uninstalled opencv-python-headless-4.7.0.68\n",
            "Successfully installed opencv-python-headless-4.1.2.30\n"
          ]
        }
      ],
      "source": [
        "!pip install opencv-python-headless==4.1.2.30"
      ]
    },
    {
      "cell_type": "code",
      "execution_count": 4,
      "metadata": {
        "colab": {
          "base_uri": "https://localhost:8080/"
        },
        "id": "0q4Vp91WiU5C",
        "outputId": "4c7996de-9c14-4477-86fd-772428d657d2"
      },
      "outputs": [
        {
          "output_type": "stream",
          "name": "stdout",
          "text": [
            "Looking in indexes: https://pypi.org/simple, https://us-python.pkg.dev/colab-wheels/public/simple/\n",
            "Requirement already satisfied: albumentations in /usr/local/lib/python3.8/dist-packages (1.2.1)\n",
            "Collecting albumentations\n",
            "  Downloading albumentations-1.3.0-py3-none-any.whl (123 kB)\n",
            "\u001b[?25l     \u001b[90m━━━━━━━━━━━━━━━━━━━━━━━━━━━━━━━━━━━━━━━━\u001b[0m \u001b[32m0.0/123.5 KB\u001b[0m \u001b[31m?\u001b[0m eta \u001b[36m-:--:--\u001b[0m\r\u001b[2K     \u001b[90m━━━━━━━━━━━━━━━━━━━━━━━━━━━━━━━━━━━━━━━\u001b[0m \u001b[32m123.5/123.5 KB\u001b[0m \u001b[31m4.2 MB/s\u001b[0m eta \u001b[36m0:00:00\u001b[0m\n",
            "\u001b[?25hRequirement already satisfied: scikit-image>=0.16.1 in /usr/local/lib/python3.8/dist-packages (from albumentations) (0.18.3)\n",
            "Requirement already satisfied: scipy in /usr/local/lib/python3.8/dist-packages (from albumentations) (1.7.3)\n",
            "Requirement already satisfied: PyYAML in /usr/local/lib/python3.8/dist-packages (from albumentations) (6.0)\n",
            "Requirement already satisfied: numpy>=1.11.1 in /usr/local/lib/python3.8/dist-packages (from albumentations) (1.21.6)\n",
            "Requirement already satisfied: qudida>=0.0.4 in /usr/local/lib/python3.8/dist-packages (from albumentations) (0.0.4)\n",
            "Requirement already satisfied: opencv-python-headless>=4.1.1 in /usr/local/lib/python3.8/dist-packages (from albumentations) (4.1.2.30)\n",
            "Requirement already satisfied: typing-extensions in /usr/local/lib/python3.8/dist-packages (from qudida>=0.0.4->albumentations) (4.4.0)\n",
            "Requirement already satisfied: scikit-learn>=0.19.1 in /usr/local/lib/python3.8/dist-packages (from qudida>=0.0.4->albumentations) (1.0.2)\n",
            "Requirement already satisfied: matplotlib!=3.0.0,>=2.0.0 in /usr/local/lib/python3.8/dist-packages (from scikit-image>=0.16.1->albumentations) (3.2.2)\n",
            "Requirement already satisfied: networkx>=2.0 in /usr/local/lib/python3.8/dist-packages (from scikit-image>=0.16.1->albumentations) (3.0)\n",
            "Requirement already satisfied: tifffile>=2019.7.26 in /usr/local/lib/python3.8/dist-packages (from scikit-image>=0.16.1->albumentations) (2022.10.10)\n",
            "Requirement already satisfied: imageio>=2.3.0 in /usr/local/lib/python3.8/dist-packages (from scikit-image>=0.16.1->albumentations) (2.9.0)\n",
            "Requirement already satisfied: PyWavelets>=1.1.1 in /usr/local/lib/python3.8/dist-packages (from scikit-image>=0.16.1->albumentations) (1.4.1)\n",
            "Requirement already satisfied: pillow!=7.1.0,!=7.1.1,>=4.3.0 in /usr/local/lib/python3.8/dist-packages (from scikit-image>=0.16.1->albumentations) (7.1.2)\n",
            "Requirement already satisfied: python-dateutil>=2.1 in /usr/local/lib/python3.8/dist-packages (from matplotlib!=3.0.0,>=2.0.0->scikit-image>=0.16.1->albumentations) (2.8.2)\n",
            "Requirement already satisfied: kiwisolver>=1.0.1 in /usr/local/lib/python3.8/dist-packages (from matplotlib!=3.0.0,>=2.0.0->scikit-image>=0.16.1->albumentations) (1.4.4)\n",
            "Requirement already satisfied: cycler>=0.10 in /usr/local/lib/python3.8/dist-packages (from matplotlib!=3.0.0,>=2.0.0->scikit-image>=0.16.1->albumentations) (0.11.0)\n",
            "Requirement already satisfied: pyparsing!=2.0.4,!=2.1.2,!=2.1.6,>=2.0.1 in /usr/local/lib/python3.8/dist-packages (from matplotlib!=3.0.0,>=2.0.0->scikit-image>=0.16.1->albumentations) (3.0.9)\n",
            "Requirement already satisfied: joblib>=0.11 in /usr/local/lib/python3.8/dist-packages (from scikit-learn>=0.19.1->qudida>=0.0.4->albumentations) (1.2.0)\n",
            "Requirement already satisfied: threadpoolctl>=2.0.0 in /usr/local/lib/python3.8/dist-packages (from scikit-learn>=0.19.1->qudida>=0.0.4->albumentations) (3.1.0)\n",
            "Requirement already satisfied: six>=1.5 in /usr/local/lib/python3.8/dist-packages (from python-dateutil>=2.1->matplotlib!=3.0.0,>=2.0.0->scikit-image>=0.16.1->albumentations) (1.15.0)\n",
            "Installing collected packages: albumentations\n",
            "  Attempting uninstall: albumentations\n",
            "    Found existing installation: albumentations 1.2.1\n",
            "    Uninstalling albumentations-1.2.1:\n",
            "      Successfully uninstalled albumentations-1.2.1\n",
            "Successfully installed albumentations-1.3.0\n"
          ]
        }
      ],
      "source": [
        "!pip install albumentations --upgrade"
      ]
    },
    {
      "cell_type": "markdown",
      "metadata": {
        "id": "aO-7t1Y7-hV4"
      },
      "source": [
        "# Import Libraries"
      ]
    },
    {
      "cell_type": "code",
      "execution_count": 5,
      "metadata": {
        "id": "8kH16rnZ7wt_"
      },
      "outputs": [],
      "source": [
        "from __future__ import print_function\n",
        "\n",
        "import os\n",
        "import sys\n",
        "import warnings\n",
        "import cv2\n",
        "\n",
        "import numpy as np\n",
        "import torch\n",
        "import torch.optim as optim\n",
        "import torch.nn as nn\n",
        "from torchsummary import summary\n",
        "\n",
        "from session_6.modular import cfg\n",
        "from session_6.modular import preprocess\n",
        "from session_6.modular import preprocess_albumentations\n",
        "from session_6.modular import test\n",
        "from session_6.modular import train\n",
        "from session_6.modular import utils\n",
        "from session_6.modular.models import model\n",
        "from torch.optim.lr_scheduler import StepLR\n",
        "\n",
        "sys.path.append('./')\n",
        "global args\n",
        "args = cfg.args\n",
        "args.IPYNB_ENV = True\n",
        "#Use albumentations lib for image-augmentation\n",
        "#if below flag is false, usual torchvision \n",
        "#transforms are applied.\n",
        "args.use_albumentations = True\n",
        "img_size = (32,32)"
      ]
    },
    {
      "cell_type": "markdown",
      "metadata": {
        "id": "ecOo3N-UaBJc"
      },
      "source": [
        "### Save the config file, with all default/provided/required configuration"
      ]
    },
    {
      "cell_type": "code",
      "execution_count": 6,
      "metadata": {
        "id": "XuT2s1QoaBJo"
      },
      "outputs": [],
      "source": [
        "#print(\"The config used for this run are being saved @ {}\".format(os.path.join(args.prefix, 'config_params.txt')))\n",
        "#utils.write(vars(args), os.path.join(args.prefix, 'config_params.txt'))"
      ]
    },
    {
      "cell_type": "markdown",
      "metadata": {
        "id": "RLaUe1iWaBKG"
      },
      "source": [
        "### Calculate mean & std for Normalization"
      ]
    },
    {
      "cell_type": "code",
      "execution_count": 7,
      "metadata": {
        "colab": {
          "base_uri": "https://localhost:8080/",
          "height": 101,
          "referenced_widgets": [
            "0bfda304a1014df2bc445ba42b763827",
            "8744eb12101746f2af38d94b1e3718a9",
            "e9940331c95c4aafaab5c34bc8809be1",
            "bda8d0c17c9e4bd8a0396bee845a0a22",
            "cc44d8c8faf243fcb0b12395b9a6cba4",
            "361c3da8ecff4065b4e2f1a07acfaa7c",
            "ae6d3abac68a46c097588e0f87dfd682",
            "de9cbb92b4dc4a70b7d0ff0392c59332",
            "0aec69e22d494f53933b5662fc5e922d",
            "7885a0b7438842c78cbbdfc0960e30f0",
            "67cf78fbaac842f783ee805dc974cbc9"
          ]
        },
        "id": "GtiKk1HUaBKH",
        "outputId": "cacb01f1-549d-4cd7-fe70-5113c280fba4"
      },
      "outputs": [
        {
          "output_type": "stream",
          "name": "stdout",
          "text": [
            "Downloading https://www.cs.toronto.edu/~kriz/cifar-10-python.tar.gz to ./data/cifar-10-python.tar.gz\n"
          ]
        },
        {
          "output_type": "display_data",
          "data": {
            "text/plain": [
              "  0%|          | 0/170498071 [00:00<?, ?it/s]"
            ],
            "application/vnd.jupyter.widget-view+json": {
              "version_major": 2,
              "version_minor": 0,
              "model_id": "0bfda304a1014df2bc445ba42b763827"
            }
          },
          "metadata": {}
        },
        {
          "output_type": "stream",
          "name": "stdout",
          "text": [
            "Extracting ./data/cifar-10-python.tar.gz to ./data\n",
            "[0.49139968 0.48215841 0.44653091] [0.24703223 0.24348513 0.26158784]\n"
          ]
        }
      ],
      "source": [
        "args.dataset = 'CIFAR10'\n",
        "mean, std = preprocess.get_dataset_mean_std()\n",
        "mean_tuple = (mean[0], mean[1], mean[2])\n",
        "std_tuple = (std[0], std[1], std[2])"
      ]
    },
    {
      "cell_type": "markdown",
      "metadata": {
        "id": "nO7PP90SaBKJ"
      },
      "source": [
        "###  Dataloader Arguments & Test/Train Dataloaders"
      ]
    },
    {
      "cell_type": "code",
      "execution_count": 8,
      "metadata": {
        "colab": {
          "base_uri": "https://localhost:8080/"
        },
        "id": "Lv0bm47kaBKK",
        "outputId": "6d123593-87bb-4cf8-f022-81c4c06f6a99"
      },
      "outputs": [
        {
          "output_type": "stream",
          "name": "stdout",
          "text": [
            "Using albumentation lib for image-augmentation & other transforms\n",
            "************\n",
            "Files already downloaded and verified\n",
            "Files already downloaded and verified\n",
            "CUDA Available? True\n"
          ]
        }
      ],
      "source": [
        "if np.ndim(mean) ==0:\n",
        "    if args.use_albumentations:\n",
        "        train_dataset, test_dataset, train_loader, test_loader = preprocess.preprocess_data((mean,), (std,))\n",
        "    else:\n",
        "        train_dataset, test_dataset, train_loader, test_loader = preprocess.preprocess_data_albumentations((mean,), (std,), img_size)    \n",
        "else:\n",
        "    if args.use_albumentations:\n",
        "        print(\"Using albumentation lib for image-augmentation & other transforms\")\n",
        "        train_dataset, test_dataset, train_loader, test_loader = \\\n",
        "            preprocess_albumentations.preprocess_data_albumentations(mean_tuple, std_tuple, img_size)\n",
        "    else:\n",
        "        print(\"Using torchvison for image-augmentation & other transforms\")\n",
        "        train_dataset, test_dataset, train_loader, test_loader = preprocess.preprocess_data(mean_tuple, std_tuple)"
      ]
    },
    {
      "cell_type": "markdown",
      "metadata": {
        "id": "qZMXYhc-aBKU"
      },
      "source": [
        "### Data Statistics\n",
        "\n",
        "It is important to know your data very well. Let's check some of the statistics around our data and how it actually looks like"
      ]
    },
    {
      "cell_type": "code",
      "execution_count": 9,
      "metadata": {
        "colab": {
          "base_uri": "https://localhost:8080/",
          "height": 537
        },
        "id": "yiO82sX-aBKn",
        "outputId": "45ed2736-a70e-41d8-8480-e363df3fec1f"
      },
      "outputs": [
        {
          "output_type": "stream",
          "name": "stdout",
          "text": [
            "[Stats from Train Data]\n",
            " - Numpy Shape: (50000, 32, 32, 3)\n",
            " - Tensor Shape: torch.Size([50000, 32, 32, 3])\n",
            " - min: tensor(0, dtype=torch.uint8)\n",
            " - max: tensor(255, dtype=torch.uint8)\n",
            "[Stats from Test Data]\n",
            " - Numpy Shape: (10000, 32, 32, 3)\n",
            " - Tensor Shape: torch.Size([10000, 32, 32, 3])\n",
            " - min: tensor(0, dtype=torch.uint8)\n",
            " - max: tensor(255, dtype=torch.uint8)\n"
          ]
        },
        {
          "output_type": "stream",
          "name": "stderr",
          "text": [
            "WARNING:matplotlib.image:Clipping input data to the valid range for imshow with RGB data ([0..1] for floats or [0..255] for integers).\n"
          ]
        },
        {
          "output_type": "stream",
          "name": "stdout",
          "text": [
            "torch.Size([64, 3, 32, 32])\n",
            "torch.Size([64])\n",
            "Saving plot for a sample to ascertain RF required for edges & gradient /content/./data/data_stats.png\n"
          ]
        },
        {
          "output_type": "display_data",
          "data": {
            "text/plain": [
              "<Figure size 432x288 with 1 Axes>"
            ],
            "image/png": "[encoded data removed]"
          },
          "metadata": {
            "needs_background": "light"
          }
        }
      ],
      "source": [
        "preprocess.get_data_stats(train_dataset, test_dataset, train_loader)"
      ]
    },
    {
      "cell_type": "code",
      "execution_count": 10,
      "metadata": {
        "colab": {
          "base_uri": "https://localhost:8080/",
          "height": 213
        },
        "id": "veD501KHaBKp",
        "outputId": "f1dfc882-3415-40c2-dea5-5dd111491105"
      },
      "outputs": [
        {
          "output_type": "display_data",
          "data": {
            "text/plain": [
              "<Figure size 576x216 with 10 Axes>"
            ],
            "image/png": "[encoded data removed]"
          },
          "metadata": {}
        }
      ],
      "source": [
        "utils.plot_train_samples(train_loader)"
      ]
    },
    {
      "cell_type": "markdown",
      "metadata": {
        "id": "xU84U22eaBKp"
      },
      "source": [
        "### Using L1-regularization here \n",
        "(l1_weight = 0.000025, started out reusing some older assignment values, but works OK here too)"
      ]
    },
    {
      "cell_type": "code",
      "execution_count": 11,
      "metadata": {
        "colab": {
          "base_uri": "https://localhost:8080/"
        },
        "id": "Fr8BDUr3aBKq",
        "outputId": "33a254dd-ba7d-4100-9a26-196c8331990a"
      },
      "outputs": [
        {
          "output_type": "stream",
          "name": "stdout",
          "text": [
            "L1: True\n",
            "L2: False\n"
          ]
        }
      ],
      "source": [
        "L1 = args.L1   \n",
        "print(\"L1:\", L1)\n",
        "L2 = args.L2   \n",
        "print(\"L2:\", L2)"
      ]
    },
    {
      "cell_type": "markdown",
      "metadata": {
        "id": "pqzixfM7aBKq"
      },
      "source": [
        "### detect the device being run on"
      ]
    },
    {
      "cell_type": "code",
      "execution_count": 12,
      "metadata": {
        "colab": {
          "base_uri": "https://localhost:8080/"
        },
        "id": "3v0NPympaBK0",
        "outputId": "eb15c78d-3836-46c6-f7f5-765862ec41ee"
      },
      "outputs": [
        {
          "output_type": "stream",
          "name": "stdout",
          "text": [
            "cuda\n"
          ]
        }
      ],
      "source": [
        "device = torch.device(\"cuda\" if args.cuda else \"cpu\")\n",
        "print(device)"
      ]
    },
    {
      "cell_type": "markdown",
      "metadata": {
        "id": "zcQzsx2LaBK2"
      },
      "source": [
        "### Get the model loaded with summary"
      ]
    },
    {
      "cell_type": "code",
      "execution_count": 13,
      "metadata": {
        "colab": {
          "base_uri": "https://localhost:8080/"
        },
        "id": "X_NJI4M7aBLA",
        "outputId": "96135aef-4b5c-497f-a552-aaba68252a42"
      },
      "outputs": [
        {
          "output_type": "stream",
          "name": "stdout",
          "text": [
            "----------------------------------------------------------------\n",
            "        Layer (type)               Output Shape         Param #\n",
            "================================================================\n",
            "            Conv2d-1            [-1, 3, 32, 32]              27\n",
            "            Conv2d-2           [-1, 64, 32, 32]             192\n",
            "   SeparableConv2d-3           [-1, 64, 32, 32]               0\n",
            "       BatchNorm2d-4           [-1, 64, 32, 32]             128\n",
            "           Dropout-5           [-1, 64, 32, 32]               0\n",
            "              ReLU-6           [-1, 64, 32, 32]               0\n",
            "            Conv2d-7           [-1, 64, 16, 16]             576\n",
            "            Conv2d-8          [-1, 128, 16, 16]           8,192\n",
            "   SeparableConv2d-9          [-1, 128, 16, 16]               0\n",
            "      BatchNorm2d-10          [-1, 128, 16, 16]             256\n",
            "          Dropout-11          [-1, 128, 16, 16]               0\n",
            "             ReLU-12          [-1, 128, 16, 16]               0\n",
            "           Conv2d-13          [-1, 128, 16, 16]             128\n",
            "           Conv2d-14           [-1, 64, 16, 16]           8,192\n",
            "  SeparableConv2d-15           [-1, 64, 16, 16]               0\n",
            "      BatchNorm2d-16           [-1, 64, 16, 16]             128\n",
            "          Dropout-17           [-1, 64, 16, 16]               0\n",
            "             ReLU-18           [-1, 64, 16, 16]               0\n",
            "           Conv2d-19           [-1, 64, 16, 16]             576\n",
            "           Conv2d-20          [-1, 128, 16, 16]           8,192\n",
            "  SeparableConv2d-21          [-1, 128, 16, 16]               0\n",
            "      BatchNorm2d-22          [-1, 128, 16, 16]             256\n",
            "          Dropout-23          [-1, 128, 16, 16]               0\n",
            "             ReLU-24          [-1, 128, 16, 16]               0\n",
            "           Conv2d-25            [-1, 128, 8, 8]           1,152\n",
            "           Conv2d-26            [-1, 128, 8, 8]          16,384\n",
            "  SeparableConv2d-27            [-1, 128, 8, 8]               0\n",
            "      BatchNorm2d-28            [-1, 128, 8, 8]             256\n",
            "          Dropout-29            [-1, 128, 8, 8]               0\n",
            "             ReLU-30            [-1, 128, 8, 8]               0\n",
            "           Conv2d-31            [-1, 128, 8, 8]             128\n",
            "           Conv2d-32             [-1, 64, 8, 8]           8,192\n",
            "  SeparableConv2d-33             [-1, 64, 8, 8]               0\n",
            "      BatchNorm2d-34             [-1, 64, 8, 8]             128\n",
            "          Dropout-35             [-1, 64, 8, 8]               0\n",
            "             ReLU-36             [-1, 64, 8, 8]               0\n",
            "           Conv2d-37             [-1, 64, 8, 8]             576\n",
            "           Conv2d-38            [-1, 128, 8, 8]           8,192\n",
            "  SeparableConv2d-39            [-1, 128, 8, 8]               0\n",
            "      BatchNorm2d-40            [-1, 128, 8, 8]             256\n",
            "          Dropout-41            [-1, 128, 8, 8]               0\n",
            "             ReLU-42            [-1, 128, 8, 8]               0\n",
            "           Conv2d-43            [-1, 128, 6, 6]           1,152\n",
            "           Conv2d-44            [-1, 128, 6, 6]          16,384\n",
            "  SeparableConv2d-45            [-1, 128, 6, 6]               0\n",
            "      BatchNorm2d-46            [-1, 128, 6, 6]             256\n",
            "          Dropout-47            [-1, 128, 6, 6]               0\n",
            "             ReLU-48            [-1, 128, 6, 6]               0\n",
            "           Conv2d-49            [-1, 128, 6, 6]             128\n",
            "           Conv2d-50             [-1, 64, 6, 6]           8,192\n",
            "  SeparableConv2d-51             [-1, 64, 6, 6]               0\n",
            "      BatchNorm2d-52             [-1, 64, 6, 6]             128\n",
            "          Dropout-53             [-1, 64, 6, 6]               0\n",
            "             ReLU-54             [-1, 64, 6, 6]               0\n",
            "           Conv2d-55             [-1, 64, 6, 6]             576\n",
            "           Conv2d-56            [-1, 128, 6, 6]           8,192\n",
            "  SeparableConv2d-57            [-1, 128, 6, 6]               0\n",
            "      BatchNorm2d-58            [-1, 128, 6, 6]             256\n",
            "          Dropout-59            [-1, 128, 6, 6]               0\n",
            "             ReLU-60            [-1, 128, 6, 6]               0\n",
            "        AvgPool2d-61            [-1, 128, 1, 1]               0\n",
            "           Conv2d-62            [-1, 128, 1, 1]             128\n",
            "           Conv2d-63             [-1, 10, 1, 1]           1,280\n",
            "  SeparableConv2d-64             [-1, 10, 1, 1]               0\n",
            "================================================================\n",
            "Total params: 98,779\n",
            "Trainable params: 98,779\n",
            "Non-trainable params: 0\n",
            "----------------------------------------------------------------\n",
            "Input size (MB): 0.01\n",
            "Forward/backward pass size (MB): 7.62\n",
            "Params size (MB): 0.38\n",
            "Estimated Total Size (MB): 8.00\n",
            "----------------------------------------------------------------\n"
          ]
        }
      ],
      "source": [
        "# from session_6.modular.models import EVA8_session6_assignment_model EVA8_session6_assignment_model\n",
        "from session_6.modular.models.model import EVA8_session6_assignment_model\n",
        "model = EVA8_session6_assignment_model()\n",
        "model = model.to(device)\n",
        "if args.dataset == 'CIFAR10':\n",
        "    summary(model, input_size=(3, 32, 32))\n",
        "elif args.dataset == 'MNIST':\n",
        "    summary(model, input_size=(1, 28, 28))"
      ]
    },
    {
      "cell_type": "markdown",
      "metadata": {
        "id": "Uh9uUvbzaBLH"
      },
      "source": [
        "## Training and Testing"
      ]
    },
    {
      "cell_type": "code",
      "execution_count": 14,
      "metadata": {
        "colab": {
          "base_uri": "https://localhost:8080/",
          "height": 1000
        },
        "id": "pfUw5R7taBLH",
        "scrolled": false,
        "outputId": "c3a51121-adf5-4f24-e87a-5274eaf05c1b"
      },
      "outputs": [
        {
          "output_type": "stream",
          "name": "stdout",
          "text": [
            "Model training starts on CIFAR10 dataset\n",
            "EPOCH: 1\n",
            "LR: 0.07\n"
          ]
        },
        {
          "output_type": "stream",
          "name": "stderr",
          "text": [
            "Loss=1.8026986122131348 Batch_id=781 Accuracy=35.19: 100%|██████████| 782/782 [00:10<00:00, 74.36it/s]\n"
          ]
        },
        {
          "output_type": "stream",
          "name": "stdout",
          "text": [
            "\n",
            "Test set: Average loss: 1.4972, Accuracy: 4607/10000 (46.07%)\n",
            "\n",
            "validation-accuracy improved from 0 to 46.07, saving model to /content/./saved_models/CIFAR10_model_epoch-1_L1-1_L2-0_val_acc-46.07.h5\n",
            "EPOCH: 2\n",
            "LR: 0.06875\n"
          ]
        },
        {
          "output_type": "stream",
          "name": "stderr",
          "text": [
            "Loss=1.38417649269104 Batch_id=781 Accuracy=48.13: 100%|██████████| 782/782 [00:09<00:00, 79.34it/s]\n"
          ]
        },
        {
          "output_type": "stream",
          "name": "stdout",
          "text": [
            "\n",
            "Test set: Average loss: 1.1724, Accuracy: 5791/10000 (57.91%)\n",
            "\n",
            "validation-accuracy improved from 46.07 to 57.91, saving model to /content/./saved_models/CIFAR10_model_epoch-2_L1-1_L2-0_val_acc-57.91.h5\n",
            "EPOCH: 3\n",
            "LR: 0.06752232142857142\n"
          ]
        },
        {
          "output_type": "stream",
          "name": "stderr",
          "text": [
            "Loss=1.4178071022033691 Batch_id=781 Accuracy=53.88: 100%|██████████| 782/782 [00:09<00:00, 79.55it/s]\n"
          ]
        },
        {
          "output_type": "stream",
          "name": "stdout",
          "text": [
            "\n",
            "Test set: Average loss: 1.0993, Accuracy: 6048/10000 (60.48%)\n",
            "\n",
            "validation-accuracy improved from 57.91 to 60.48, saving model to /content/./saved_models/CIFAR10_model_epoch-3_L1-1_L2-0_val_acc-60.48.h5\n",
            "EPOCH: 4\n",
            "LR: 0.0663165656887755\n"
          ]
        },
        {
          "output_type": "stream",
          "name": "stderr",
          "text": [
            "Loss=1.1230255365371704 Batch_id=781 Accuracy=57.81: 100%|██████████| 782/782 [00:09<00:00, 78.42it/s]\n"
          ]
        },
        {
          "output_type": "stream",
          "name": "stdout",
          "text": [
            "\n",
            "Test set: Average loss: 1.0121, Accuracy: 6344/10000 (63.44%)\n",
            "\n",
            "validation-accuracy improved from 60.48 to 63.44, saving model to /content/./saved_models/CIFAR10_model_epoch-4_L1-1_L2-0_val_acc-63.44.h5\n",
            "EPOCH: 5\n",
            "LR: 0.06513234130147594\n"
          ]
        },
        {
          "output_type": "stream",
          "name": "stderr",
          "text": [
            "Loss=1.1846450567245483 Batch_id=781 Accuracy=60.66: 100%|██████████| 782/782 [00:10<00:00, 77.89it/s]\n"
          ]
        },
        {
          "output_type": "stream",
          "name": "stdout",
          "text": [
            "\n",
            "Test set: Average loss: 0.8838, Accuracy: 6935/10000 (69.35%)\n",
            "\n",
            "validation-accuracy improved from 63.44 to 69.35, saving model to /content/./saved_models/CIFAR10_model_epoch-5_L1-1_L2-0_val_acc-69.35.h5\n",
            "EPOCH: 6\n",
            "LR: 0.0639692637782353\n"
          ]
        },
        {
          "output_type": "stream",
          "name": "stderr",
          "text": [
            "Loss=1.0759468078613281 Batch_id=781 Accuracy=62.71: 100%|██████████| 782/782 [00:10<00:00, 77.58it/s]\n"
          ]
        },
        {
          "output_type": "stream",
          "name": "stdout",
          "text": [
            "\n",
            "Test set: Average loss: 0.8093, Accuracy: 7169/10000 (71.69%)\n",
            "\n",
            "validation-accuracy improved from 69.35 to 71.69, saving model to /content/./saved_models/CIFAR10_model_epoch-6_L1-1_L2-0_val_acc-71.69.h5\n",
            "EPOCH: 7\n",
            "LR: 0.0628269554964811\n"
          ]
        },
        {
          "output_type": "stream",
          "name": "stderr",
          "text": [
            "Loss=0.8482896089553833 Batch_id=781 Accuracy=64.54: 100%|██████████| 782/782 [00:09<00:00, 80.01it/s]\n"
          ]
        },
        {
          "output_type": "stream",
          "name": "stdout",
          "text": [
            "\n",
            "Test set: Average loss: 0.8128, Accuracy: 7164/10000 (71.64%)\n",
            "\n",
            "EPOCH: 8\n",
            "LR: 0.061705045576901076\n"
          ]
        },
        {
          "output_type": "stream",
          "name": "stderr",
          "text": [
            "Loss=1.1482986211776733 Batch_id=781 Accuracy=66.30: 100%|██████████| 782/782 [00:10<00:00, 75.58it/s]\n"
          ]
        },
        {
          "output_type": "stream",
          "name": "stdout",
          "text": [
            "\n",
            "Test set: Average loss: 0.7569, Accuracy: 7393/10000 (73.93%)\n",
            "\n",
            "validation-accuracy improved from 71.69 to 73.93, saving model to /content/./saved_models/CIFAR10_model_epoch-8_L1-1_L2-0_val_acc-73.93.h5\n",
            "EPOCH: 9\n",
            "LR: 0.06060316976302784\n"
          ]
        },
        {
          "output_type": "stream",
          "name": "stderr",
          "text": [
            "Loss=1.4681767225265503 Batch_id=781 Accuracy=66.83: 100%|██████████| 782/782 [00:10<00:00, 75.05it/s]\n"
          ]
        },
        {
          "output_type": "stream",
          "name": "stdout",
          "text": [
            "\n",
            "Test set: Average loss: 0.7814, Accuracy: 7317/10000 (73.17%)\n",
            "\n",
            "EPOCH: 10\n",
            "LR: 0.05952097030297377\n"
          ]
        },
        {
          "output_type": "stream",
          "name": "stderr",
          "text": [
            "Loss=1.6267794370651245 Batch_id=781 Accuracy=67.99: 100%|██████████| 782/782 [00:09<00:00, 78.95it/s]\n"
          ]
        },
        {
          "output_type": "stream",
          "name": "stdout",
          "text": [
            "\n",
            "Test set: Average loss: 0.6847, Accuracy: 7582/10000 (75.82%)\n",
            "\n",
            "validation-accuracy improved from 73.93 to 75.82, saving model to /content/./saved_models/CIFAR10_model_epoch-10_L1-1_L2-0_val_acc-75.82.h5\n",
            "EPOCH: 11\n",
            "LR: 0.05845809583327781\n"
          ]
        },
        {
          "output_type": "stream",
          "name": "stderr",
          "text": [
            "Loss=1.1043760776519775 Batch_id=781 Accuracy=68.96: 100%|██████████| 782/782 [00:10<00:00, 77.55it/s]\n"
          ]
        },
        {
          "output_type": "stream",
          "name": "stdout",
          "text": [
            "\n",
            "Test set: Average loss: 0.6763, Accuracy: 7606/10000 (76.06%)\n",
            "\n",
            "validation-accuracy improved from 75.82 to 76.06, saving model to /content/./saved_models/CIFAR10_model_epoch-11_L1-1_L2-0_val_acc-76.06.h5\n",
            "EPOCH: 12\n",
            "LR: 0.057414201264826416\n"
          ]
        },
        {
          "output_type": "stream",
          "name": "stderr",
          "text": [
            "Loss=1.2418785095214844 Batch_id=781 Accuracy=69.56: 100%|██████████| 782/782 [00:10<00:00, 77.79it/s]\n"
          ]
        },
        {
          "output_type": "stream",
          "name": "stdout",
          "text": [
            "\n",
            "Test set: Average loss: 0.6534, Accuracy: 7738/10000 (77.38%)\n",
            "\n",
            "validation-accuracy improved from 76.06 to 77.38, saving model to /content/./saved_models/CIFAR10_model_epoch-12_L1-1_L2-0_val_acc-77.38.h5\n",
            "EPOCH: 13\n",
            "LR: 0.05638894767081166\n"
          ]
        },
        {
          "output_type": "stream",
          "name": "stderr",
          "text": [
            "Loss=1.1116430759429932 Batch_id=781 Accuracy=70.25: 100%|██████████| 782/782 [00:10<00:00, 75.87it/s]\n"
          ]
        },
        {
          "output_type": "stream",
          "name": "stdout",
          "text": [
            "\n",
            "Test set: Average loss: 0.6290, Accuracy: 7829/10000 (78.29%)\n",
            "\n",
            "validation-accuracy improved from 77.38 to 78.29, saving model to /content/./saved_models/CIFAR10_model_epoch-13_L1-1_L2-0_val_acc-78.29.h5\n",
            "EPOCH: 14\n",
            "LR: 0.055382002176690016\n"
          ]
        },
        {
          "output_type": "stream",
          "name": "stderr",
          "text": [
            "Loss=0.5699455738067627 Batch_id=781 Accuracy=70.88: 100%|██████████| 782/782 [00:09<00:00, 78.71it/s]\n"
          ]
        },
        {
          "output_type": "stream",
          "name": "stdout",
          "text": [
            "\n",
            "Test set: Average loss: 0.6261, Accuracy: 7850/10000 (78.50%)\n",
            "\n",
            "validation-accuracy improved from 78.29 to 78.5, saving model to /content/./saved_models/CIFAR10_model_epoch-14_L1-1_L2-0_val_acc-78.5.h5\n",
            "EPOCH: 15\n",
            "LR: 0.054393037852106266\n"
          ]
        },
        {
          "output_type": "stream",
          "name": "stderr",
          "text": [
            "Loss=1.213613748550415 Batch_id=781 Accuracy=71.18: 100%|██████████| 782/782 [00:09<00:00, 79.04it/s]\n"
          ]
        },
        {
          "output_type": "stream",
          "name": "stdout",
          "text": [
            "\n",
            "Test set: Average loss: 0.6311, Accuracy: 7854/10000 (78.54%)\n",
            "\n",
            "validation-accuracy improved from 78.5 to 78.54, saving model to /content/./saved_models/CIFAR10_model_epoch-15_L1-1_L2-0_val_acc-78.54.h5\n",
            "EPOCH: 16\n",
            "LR: 0.053421733604747224\n"
          ]
        },
        {
          "output_type": "stream",
          "name": "stderr",
          "text": [
            "Loss=0.9226532578468323 Batch_id=781 Accuracy=71.84: 100%|██████████| 782/782 [00:09<00:00, 79.76it/s]\n"
          ]
        },
        {
          "output_type": "stream",
          "name": "stdout",
          "text": [
            "\n",
            "Test set: Average loss: 0.5991, Accuracy: 7916/10000 (79.16%)\n",
            "\n",
            "validation-accuracy improved from 78.54 to 79.16, saving model to /content/./saved_models/CIFAR10_model_epoch-16_L1-1_L2-0_val_acc-79.16.h5\n",
            "EPOCH: 17\n",
            "LR: 0.05246777407609102\n"
          ]
        },
        {
          "output_type": "stream",
          "name": "stderr",
          "text": [
            "Loss=1.2119325399398804 Batch_id=781 Accuracy=71.94: 100%|██████████| 782/782 [00:10<00:00, 78.18it/s]\n"
          ]
        },
        {
          "output_type": "stream",
          "name": "stdout",
          "text": [
            "\n",
            "Test set: Average loss: 0.6463, Accuracy: 7780/10000 (77.80%)\n",
            "\n",
            "EPOCH: 18\n",
            "LR: 0.05153084953901796\n"
          ]
        },
        {
          "output_type": "stream",
          "name": "stderr",
          "text": [
            "Loss=1.0064668655395508 Batch_id=781 Accuracy=72.55: 100%|██████████| 782/782 [00:10<00:00, 77.40it/s]\n"
          ]
        },
        {
          "output_type": "stream",
          "name": "stdout",
          "text": [
            "\n",
            "Test set: Average loss: 0.5854, Accuracy: 7953/10000 (79.53%)\n",
            "\n",
            "validation-accuracy improved from 79.16 to 79.53, saving model to /content/./saved_models/CIFAR10_model_epoch-18_L1-1_L2-0_val_acc-79.53.h5\n",
            "EPOCH: 19\n",
            "LR: 0.05061065579724978\n"
          ]
        },
        {
          "output_type": "stream",
          "name": "stderr",
          "text": [
            "Loss=1.033732295036316 Batch_id=781 Accuracy=73.08: 100%|██████████| 782/782 [00:09<00:00, 78.91it/s]\n"
          ]
        },
        {
          "output_type": "stream",
          "name": "stdout",
          "text": [
            "\n",
            "Test set: Average loss: 0.5984, Accuracy: 7928/10000 (79.28%)\n",
            "\n",
            "EPOCH: 20\n",
            "LR: 0.0497068940865846\n"
          ]
        },
        {
          "output_type": "stream",
          "name": "stderr",
          "text": [
            "Loss=0.7709851264953613 Batch_id=781 Accuracy=73.06: 100%|██████████| 782/782 [00:09<00:00, 78.70it/s]\n"
          ]
        },
        {
          "output_type": "stream",
          "name": "stdout",
          "text": [
            "\n",
            "Test set: Average loss: 0.5658, Accuracy: 8058/10000 (80.58%)\n",
            "\n",
            "validation-accuracy improved from 79.53 to 80.58, saving model to /content/./saved_models/CIFAR10_model_epoch-20_L1-1_L2-0_val_acc-80.58.h5\n",
            "EPOCH: 21\n",
            "LR: 0.04881927097789559\n"
          ]
        },
        {
          "output_type": "stream",
          "name": "stderr",
          "text": [
            "Loss=0.7774319648742676 Batch_id=781 Accuracy=73.53: 100%|██████████| 782/782 [00:09<00:00, 79.01it/s]\n"
          ]
        },
        {
          "output_type": "stream",
          "name": "stdout",
          "text": [
            "\n",
            "Test set: Average loss: 0.5577, Accuracy: 8059/10000 (80.59%)\n",
            "\n",
            "validation-accuracy improved from 80.58 to 80.59, saving model to /content/./saved_models/CIFAR10_model_epoch-21_L1-1_L2-0_val_acc-80.59.h5\n",
            "EPOCH: 22\n",
            "LR: 0.04794749828186173\n"
          ]
        },
        {
          "output_type": "stream",
          "name": "stderr",
          "text": [
            "Loss=0.8005102872848511 Batch_id=781 Accuracy=74.04: 100%|██████████| 782/782 [00:09<00:00, 78.79it/s]\n"
          ]
        },
        {
          "output_type": "stream",
          "name": "stdout",
          "text": [
            "\n",
            "Test set: Average loss: 0.5452, Accuracy: 8035/10000 (80.35%)\n",
            "\n",
            "EPOCH: 23\n",
            "LR: 0.04709129295539991\n"
          ]
        },
        {
          "output_type": "stream",
          "name": "stderr",
          "text": [
            "Loss=0.8750649094581604 Batch_id=781 Accuracy=74.14: 100%|██████████| 782/782 [00:09<00:00, 78.98it/s]\n"
          ]
        },
        {
          "output_type": "stream",
          "name": "stdout",
          "text": [
            "\n",
            "Test set: Average loss: 0.5507, Accuracy: 8097/10000 (80.97%)\n",
            "\n",
            "validation-accuracy improved from 80.59 to 80.97, saving model to /content/./saved_models/CIFAR10_model_epoch-23_L1-1_L2-0_val_acc-80.97.h5\n",
            "EPOCH: 24\n",
            "LR: 0.046250377009767765\n"
          ]
        },
        {
          "output_type": "stream",
          "name": "stderr",
          "text": [
            "Loss=1.1007106304168701 Batch_id=781 Accuracy=74.37: 100%|██████████| 782/782 [00:10<00:00, 78.06it/s]\n"
          ]
        },
        {
          "output_type": "stream",
          "name": "stdout",
          "text": [
            "\n",
            "Test set: Average loss: 0.5376, Accuracy: 8158/10000 (81.58%)\n",
            "\n",
            "validation-accuracy improved from 80.97 to 81.58, saving model to /content/./saved_models/CIFAR10_model_epoch-24_L1-1_L2-0_val_acc-81.58.h5\n",
            "EPOCH: 25\n",
            "LR: 0.04542447742030763\n"
          ]
        },
        {
          "output_type": "stream",
          "name": "stderr",
          "text": [
            "Loss=0.884267270565033 Batch_id=781 Accuracy=74.54: 100%|██████████| 782/782 [00:09<00:00, 79.45it/s]\n"
          ]
        },
        {
          "output_type": "stream",
          "name": "stdout",
          "text": [
            "\n",
            "Test set: Average loss: 0.5935, Accuracy: 7981/10000 (79.81%)\n",
            "\n",
            "EPOCH: 26\n",
            "LR: 0.04461332603780213\n"
          ]
        },
        {
          "output_type": "stream",
          "name": "stderr",
          "text": [
            "Loss=0.4847167432308197 Batch_id=781 Accuracy=74.97: 100%|██████████| 782/782 [00:10<00:00, 76.12it/s]\n"
          ]
        },
        {
          "output_type": "stream",
          "name": "stdout",
          "text": [
            "\n",
            "Test set: Average loss: 0.5473, Accuracy: 8139/10000 (81.39%)\n",
            "\n",
            "EPOCH: 27\n",
            "LR: 0.04381665950141281\n"
          ]
        },
        {
          "output_type": "stream",
          "name": "stderr",
          "text": [
            "Loss=0.8832544684410095 Batch_id=781 Accuracy=75.10: 100%|██████████| 782/782 [00:10<00:00, 78.02it/s]\n"
          ]
        },
        {
          "output_type": "stream",
          "name": "stdout",
          "text": [
            "\n",
            "Test set: Average loss: 0.5199, Accuracy: 8184/10000 (81.84%)\n",
            "\n",
            "validation-accuracy improved from 81.58 to 81.84, saving model to /content/./saved_models/CIFAR10_model_epoch-27_L1-1_L2-0_val_acc-81.84.h5\n",
            "EPOCH: 28\n",
            "LR: 0.04303421915317329\n"
          ]
        },
        {
          "output_type": "stream",
          "name": "stderr",
          "text": [
            "Loss=0.646289587020874 Batch_id=781 Accuracy=75.47: 100%|██████████| 782/782 [00:09<00:00, 78.36it/s]\n"
          ]
        },
        {
          "output_type": "stream",
          "name": "stdout",
          "text": [
            "\n",
            "Test set: Average loss: 0.5205, Accuracy: 8205/10000 (82.05%)\n",
            "\n",
            "validation-accuracy improved from 81.84 to 82.05, saving model to /content/./saved_models/CIFAR10_model_epoch-28_L1-1_L2-0_val_acc-82.05.h5\n",
            "EPOCH: 29\n",
            "LR: 0.04226575095400948\n"
          ]
        },
        {
          "output_type": "stream",
          "name": "stderr",
          "text": [
            "Loss=0.6783645749092102 Batch_id=781 Accuracy=75.49: 100%|██████████| 782/782 [00:10<00:00, 77.56it/s]\n"
          ]
        },
        {
          "output_type": "stream",
          "name": "stdout",
          "text": [
            "\n",
            "Test set: Average loss: 0.5184, Accuracy: 8204/10000 (82.04%)\n",
            "\n",
            "EPOCH: 30\n",
            "LR: 0.04151100540125931\n"
          ]
        },
        {
          "output_type": "stream",
          "name": "stderr",
          "text": [
            "Loss=0.7089438438415527 Batch_id=781 Accuracy=75.71: 100%|██████████| 782/782 [00:10<00:00, 76.46it/s]\n"
          ]
        },
        {
          "output_type": "stream",
          "name": "stdout",
          "text": [
            "\n",
            "Test set: Average loss: 0.5336, Accuracy: 8142/10000 (81.42%)\n",
            "\n",
            "EPOCH: 31\n",
            "LR: 0.04076973744766539\n"
          ]
        },
        {
          "output_type": "stream",
          "name": "stderr",
          "text": [
            "Loss=1.3927870988845825 Batch_id=781 Accuracy=75.90: 100%|██████████| 782/782 [00:10<00:00, 77.68it/s]\n"
          ]
        },
        {
          "output_type": "stream",
          "name": "stdout",
          "text": [
            "\n",
            "Test set: Average loss: 0.5112, Accuracy: 8219/10000 (82.19%)\n",
            "\n",
            "validation-accuracy improved from 82.05 to 82.19, saving model to /content/./saved_models/CIFAR10_model_epoch-31_L1-1_L2-0_val_acc-82.19.h5\n",
            "EPOCH: 32\n",
            "LR: 0.04004170642181422\n"
          ]
        },
        {
          "output_type": "stream",
          "name": "stderr",
          "text": [
            "Loss=1.2701869010925293 Batch_id=781 Accuracy=75.98: 100%|██████████| 782/782 [00:09<00:00, 78.65it/s]\n"
          ]
        },
        {
          "output_type": "stream",
          "name": "stdout",
          "text": [
            "\n",
            "Test set: Average loss: 0.5107, Accuracy: 8285/10000 (82.85%)\n",
            "\n",
            "validation-accuracy improved from 82.19 to 82.85, saving model to /content/./saved_models/CIFAR10_model_epoch-32_L1-1_L2-0_val_acc-82.85.h5\n",
            "EPOCH: 33\n",
            "LR: 0.03932667594999611\n"
          ]
        },
        {
          "output_type": "stream",
          "name": "stderr",
          "text": [
            "Loss=0.6270047426223755 Batch_id=781 Accuracy=76.38: 100%|██████████| 782/782 [00:09<00:00, 78.55it/s]\n"
          ]
        },
        {
          "output_type": "stream",
          "name": "stdout",
          "text": [
            "\n",
            "Test set: Average loss: 0.5191, Accuracy: 8236/10000 (82.36%)\n",
            "\n",
            "EPOCH: 34\n",
            "LR: 0.03862441387946046\n"
          ]
        },
        {
          "output_type": "stream",
          "name": "stderr",
          "text": [
            "Loss=0.784419059753418 Batch_id=781 Accuracy=76.35: 100%|██████████| 782/782 [00:09<00:00, 78.52it/s]\n"
          ]
        },
        {
          "output_type": "stream",
          "name": "stdout",
          "text": [
            "\n",
            "Test set: Average loss: 0.5040, Accuracy: 8260/10000 (82.60%)\n",
            "\n",
            "EPOCH: 35\n",
            "LR: 0.03793469220304152\n"
          ]
        },
        {
          "output_type": "stream",
          "name": "stderr",
          "text": [
            "Loss=0.37007394433021545 Batch_id=781 Accuracy=76.41: 100%|██████████| 782/782 [00:09<00:00, 78.45it/s]\n"
          ]
        },
        {
          "output_type": "stream",
          "name": "stdout",
          "text": [
            "\n",
            "Test set: Average loss: 0.4957, Accuracy: 8297/10000 (82.97%)\n",
            "\n",
            "validation-accuracy improved from 82.85 to 82.97, saving model to /content/./saved_models/CIFAR10_model_epoch-35_L1-1_L2-0_val_acc-82.97.h5\n",
            "EPOCH: 36\n",
            "LR: 0.03725728698513006\n"
          ]
        },
        {
          "output_type": "stream",
          "name": "stderr",
          "text": [
            "Loss=0.5447084307670593 Batch_id=781 Accuracy=76.63: 100%|██████████| 782/782 [00:09<00:00, 79.17it/s]\n"
          ]
        },
        {
          "output_type": "stream",
          "name": "stdout",
          "text": [
            "\n",
            "Test set: Average loss: 0.4957, Accuracy: 8278/10000 (82.78%)\n",
            "\n",
            "EPOCH: 37\n",
            "LR: 0.03659197828896702\n"
          ]
        },
        {
          "output_type": "stream",
          "name": "stderr",
          "text": [
            "Loss=0.9271879196166992 Batch_id=781 Accuracy=76.96: 100%|██████████| 782/782 [00:10<00:00, 77.11it/s]\n"
          ]
        },
        {
          "output_type": "stream",
          "name": "stdout",
          "text": [
            "\n",
            "Test set: Average loss: 0.5011, Accuracy: 8224/10000 (82.24%)\n",
            "\n",
            "EPOCH: 38\n",
            "LR: 0.035938550105235466\n"
          ]
        },
        {
          "output_type": "stream",
          "name": "stderr",
          "text": [
            "Loss=0.9885998368263245 Batch_id=781 Accuracy=77.16: 100%|██████████| 782/782 [00:10<00:00, 77.98it/s]\n"
          ]
        },
        {
          "output_type": "stream",
          "name": "stdout",
          "text": [
            "\n",
            "Test set: Average loss: 0.4818, Accuracy: 8330/10000 (83.30%)\n",
            "\n",
            "validation-accuracy improved from 82.97 to 83.3, saving model to /content/./saved_models/CIFAR10_model_epoch-38_L1-1_L2-0_val_acc-83.3.h5\n",
            "EPOCH: 39\n",
            "LR: 0.03529679028192769\n"
          ]
        },
        {
          "output_type": "stream",
          "name": "stderr",
          "text": [
            "Loss=0.8854047060012817 Batch_id=781 Accuracy=77.15: 100%|██████████| 782/782 [00:10<00:00, 78.09it/s]\n"
          ]
        },
        {
          "output_type": "stream",
          "name": "stdout",
          "text": [
            "\n",
            "Test set: Average loss: 0.4804, Accuracy: 8372/10000 (83.72%)\n",
            "\n",
            "validation-accuracy improved from 83.3 to 83.72, saving model to /content/./saved_models/CIFAR10_model_epoch-39_L1-1_L2-0_val_acc-83.72.h5\n",
            "EPOCH: 40\n",
            "LR: 0.034666490455464695\n"
          ]
        },
        {
          "output_type": "stream",
          "name": "stderr",
          "text": [
            "Loss=0.4807526767253876 Batch_id=781 Accuracy=77.39: 100%|██████████| 782/782 [00:10<00:00, 76.22it/s]\n"
          ]
        },
        {
          "output_type": "stream",
          "name": "stdout",
          "text": [
            "\n",
            "Test set: Average loss: 0.4785, Accuracy: 8327/10000 (83.27%)\n",
            "\n",
            "EPOCH: 41\n",
            "LR: 0.03404744598304568\n"
          ]
        },
        {
          "output_type": "stream",
          "name": "stderr",
          "text": [
            "Loss=0.8308233022689819 Batch_id=781 Accuracy=77.35: 100%|██████████| 782/782 [00:09<00:00, 78.26it/s]\n"
          ]
        },
        {
          "output_type": "stream",
          "name": "stdout",
          "text": [
            "\n",
            "Test set: Average loss: 0.4822, Accuracy: 8310/10000 (83.10%)\n",
            "\n",
            "EPOCH: 42\n",
            "LR: 0.03343945587620558\n"
          ]
        },
        {
          "output_type": "stream",
          "name": "stderr",
          "text": [
            "Loss=0.6176031827926636 Batch_id=781 Accuracy=77.49: 100%|██████████| 782/782 [00:10<00:00, 77.78it/s]\n"
          ]
        },
        {
          "output_type": "stream",
          "name": "stdout",
          "text": [
            "\n",
            "Test set: Average loss: 0.4748, Accuracy: 8367/10000 (83.67%)\n",
            "\n",
            "EPOCH: 43\n",
            "LR: 0.03284232273555905\n"
          ]
        },
        {
          "output_type": "stream",
          "name": "stderr",
          "text": [
            "Loss=0.7720434069633484 Batch_id=781 Accuracy=77.79: 100%|██████████| 782/782 [00:10<00:00, 76.58it/s]\n"
          ]
        },
        {
          "output_type": "stream",
          "name": "stdout",
          "text": [
            "\n",
            "Test set: Average loss: 0.4765, Accuracy: 8356/10000 (83.56%)\n",
            "\n",
            "EPOCH: 44\n",
            "LR: 0.03225585268670978\n"
          ]
        },
        {
          "output_type": "stream",
          "name": "stderr",
          "text": [
            "Loss=0.9203888773918152 Batch_id=781 Accuracy=77.78: 100%|██████████| 782/782 [00:09<00:00, 78.41it/s]\n"
          ]
        },
        {
          "output_type": "stream",
          "name": "stdout",
          "text": [
            "\n",
            "Test set: Average loss: 0.4778, Accuracy: 8353/10000 (83.53%)\n",
            "\n",
            "EPOCH: 45\n",
            "LR: 0.031679855317304245\n"
          ]
        },
        {
          "output_type": "stream",
          "name": "stderr",
          "text": [
            "Loss=0.46674153208732605 Batch_id=781 Accuracy=78.11: 100%|██████████| 782/782 [00:10<00:00, 77.61it/s]\n"
          ]
        },
        {
          "output_type": "stream",
          "name": "stdout",
          "text": [
            "\n",
            "Test set: Average loss: 0.4698, Accuracy: 8351/10000 (83.51%)\n",
            "\n",
            "EPOCH: 46\n",
            "LR: 0.031114143615209526\n"
          ]
        },
        {
          "output_type": "stream",
          "name": "stderr",
          "text": [
            "Loss=0.7740684151649475 Batch_id=781 Accuracy=77.88: 100%|██████████| 782/782 [00:10<00:00, 77.71it/s]\n"
          ]
        },
        {
          "output_type": "stream",
          "name": "stdout",
          "text": [
            "\n",
            "Test set: Average loss: 0.4707, Accuracy: 8381/10000 (83.81%)\n",
            "\n",
            "validation-accuracy improved from 83.72 to 83.81, saving model to /content/./saved_models/CIFAR10_model_epoch-46_L1-1_L2-0_val_acc-83.81.h5\n",
            "EPOCH: 47\n",
            "LR: 0.030558533907795067\n"
          ]
        },
        {
          "output_type": "stream",
          "name": "stderr",
          "text": [
            "Loss=0.7905864715576172 Batch_id=781 Accuracy=78.32: 100%|██████████| 782/782 [00:10<00:00, 77.38it/s]\n"
          ]
        },
        {
          "output_type": "stream",
          "name": "stdout",
          "text": [
            "\n",
            "Test set: Average loss: 0.4731, Accuracy: 8375/10000 (83.75%)\n",
            "\n",
            "EPOCH: 48\n",
            "LR: 0.030012845802298724\n"
          ]
        },
        {
          "output_type": "stream",
          "name": "stderr",
          "text": [
            "Loss=0.7841664552688599 Batch_id=781 Accuracy=78.16: 100%|██████████| 782/782 [00:10<00:00, 76.82it/s]\n"
          ]
        },
        {
          "output_type": "stream",
          "name": "stdout",
          "text": [
            "\n",
            "Test set: Average loss: 0.4615, Accuracy: 8402/10000 (84.02%)\n",
            "\n",
            "validation-accuracy improved from 83.81 to 84.02, saving model to /content/./saved_models/CIFAR10_model_epoch-48_L1-1_L2-0_val_acc-84.02.h5\n",
            "EPOCH: 49\n",
            "LR: 0.029476902127257672\n"
          ]
        },
        {
          "output_type": "stream",
          "name": "stderr",
          "text": [
            "Loss=0.8117987513542175 Batch_id=781 Accuracy=78.31: 100%|██████████| 782/782 [00:10<00:00, 76.99it/s]\n"
          ]
        },
        {
          "output_type": "stream",
          "name": "stdout",
          "text": [
            "\n",
            "Test set: Average loss: 0.4850, Accuracy: 8314/10000 (83.14%)\n",
            "\n",
            "EPOCH: 50\n",
            "LR: 0.028950528874985212\n"
          ]
        },
        {
          "output_type": "stream",
          "name": "stderr",
          "text": [
            "Loss=1.2198469638824463 Batch_id=781 Accuracy=78.49: 100%|██████████| 782/782 [00:10<00:00, 75.27it/s]\n"
          ]
        },
        {
          "output_type": "stream",
          "name": "stdout",
          "text": [
            "\n",
            "Test set: Average loss: 0.4695, Accuracy: 8395/10000 (83.95%)\n",
            "\n",
            "EPOCH: 51\n",
            "LR: 0.02843355514507476\n"
          ]
        },
        {
          "output_type": "stream",
          "name": "stderr",
          "text": [
            "Loss=0.4316241145133972 Batch_id=781 Accuracy=78.57: 100%|██████████| 782/782 [00:10<00:00, 75.94it/s]\n"
          ]
        },
        {
          "output_type": "stream",
          "name": "stdout",
          "text": [
            "\n",
            "Test set: Average loss: 0.4626, Accuracy: 8426/10000 (84.26%)\n",
            "\n",
            "validation-accuracy improved from 84.02 to 84.26, saving model to /content/./saved_models/CIFAR10_model_epoch-51_L1-1_L2-0_val_acc-84.26.h5\n",
            "EPOCH: 52\n",
            "LR: 0.02792581308891271\n"
          ]
        },
        {
          "output_type": "stream",
          "name": "stderr",
          "text": [
            "Loss=0.8880016803741455 Batch_id=781 Accuracy=78.59: 100%|██████████| 782/782 [00:10<00:00, 76.37it/s]\n"
          ]
        },
        {
          "output_type": "stream",
          "name": "stdout",
          "text": [
            "\n",
            "Test set: Average loss: 0.4615, Accuracy: 8390/10000 (83.90%)\n",
            "\n",
            "EPOCH: 53\n",
            "LR: 0.027427137855182127\n"
          ]
        },
        {
          "output_type": "stream",
          "name": "stderr",
          "text": [
            "Loss=0.8894508481025696 Batch_id=781 Accuracy=78.74: 100%|██████████| 782/782 [00:10<00:00, 74.71it/s]\n"
          ]
        },
        {
          "output_type": "stream",
          "name": "stdout",
          "text": [
            "\n",
            "Test set: Average loss: 0.4582, Accuracy: 8379/10000 (83.79%)\n",
            "\n",
            "EPOCH: 54\n",
            "LR: 0.026937367536339588\n"
          ]
        },
        {
          "output_type": "stream",
          "name": "stderr",
          "text": [
            "Loss=0.893859326839447 Batch_id=781 Accuracy=78.70: 100%|██████████| 782/782 [00:10<00:00, 74.95it/s]\n"
          ]
        },
        {
          "output_type": "stream",
          "name": "stdout",
          "text": [
            "\n",
            "Test set: Average loss: 0.4526, Accuracy: 8442/10000 (84.42%)\n",
            "\n",
            "validation-accuracy improved from 84.26 to 84.42, saving model to /content/./saved_models/CIFAR10_model_epoch-54_L1-1_L2-0_val_acc-84.42.h5\n",
            "EPOCH: 55\n",
            "LR: 0.026456343116047807\n"
          ]
        },
        {
          "output_type": "stream",
          "name": "stderr",
          "text": [
            "Loss=1.223914623260498 Batch_id=781 Accuracy=79.18: 100%|██████████| 782/782 [00:10<00:00, 76.62it/s]\n"
          ]
        },
        {
          "output_type": "stream",
          "name": "stdout",
          "text": [
            "\n",
            "Test set: Average loss: 0.4497, Accuracy: 8456/10000 (84.56%)\n",
            "\n",
            "validation-accuracy improved from 84.42 to 84.56, saving model to /content/./saved_models/CIFAR10_model_epoch-55_L1-1_L2-0_val_acc-84.56.h5\n",
            "EPOCH: 56\n",
            "LR: 0.025983908417546952\n"
          ]
        },
        {
          "output_type": "stream",
          "name": "stderr",
          "text": [
            "Loss=0.8867413401603699 Batch_id=781 Accuracy=79.22: 100%|██████████| 782/782 [00:10<00:00, 76.41it/s]\n"
          ]
        },
        {
          "output_type": "stream",
          "name": "stdout",
          "text": [
            "\n",
            "Test set: Average loss: 0.4527, Accuracy: 8427/10000 (84.27%)\n",
            "\n",
            "EPOCH: 57\n",
            "LR: 0.0255199100529479\n"
          ]
        },
        {
          "output_type": "stream",
          "name": "stderr",
          "text": [
            "Loss=0.6923894286155701 Batch_id=781 Accuracy=78.94: 100%|██████████| 782/782 [00:10<00:00, 75.79it/s]\n"
          ]
        },
        {
          "output_type": "stream",
          "name": "stdout",
          "text": [
            "\n",
            "Test set: Average loss: 0.4525, Accuracy: 8477/10000 (84.77%)\n",
            "\n",
            "validation-accuracy improved from 84.56 to 84.77, saving model to /content/./saved_models/CIFAR10_model_epoch-57_L1-1_L2-0_val_acc-84.77.h5\n",
            "EPOCH: 58\n",
            "LR: 0.02506419737343097\n"
          ]
        },
        {
          "output_type": "stream",
          "name": "stderr",
          "text": [
            "Loss=0.5345737934112549 Batch_id=781 Accuracy=79.16: 100%|██████████| 782/782 [00:10<00:00, 73.43it/s]\n"
          ]
        },
        {
          "output_type": "stream",
          "name": "stdout",
          "text": [
            "\n",
            "Test set: Average loss: 0.4483, Accuracy: 8478/10000 (84.78%)\n",
            "\n",
            "validation-accuracy improved from 84.77 to 84.78, saving model to /content/./saved_models/CIFAR10_model_epoch-58_L1-1_L2-0_val_acc-84.78.h5\n",
            "EPOCH: 59\n",
            "LR: 0.024616622420333988\n"
          ]
        },
        {
          "output_type": "stream",
          "name": "stderr",
          "text": [
            "Loss=0.9095189571380615 Batch_id=781 Accuracy=78.94: 100%|██████████| 782/782 [00:10<00:00, 76.37it/s]\n"
          ]
        },
        {
          "output_type": "stream",
          "name": "stdout",
          "text": [
            "\n",
            "Test set: Average loss: 0.4496, Accuracy: 8451/10000 (84.51%)\n",
            "\n",
            "EPOCH: 60\n",
            "LR: 0.024177039877113737\n"
          ]
        },
        {
          "output_type": "stream",
          "name": "stderr",
          "text": [
            "Loss=0.7310800552368164 Batch_id=781 Accuracy=79.33: 100%|██████████| 782/782 [00:10<00:00, 75.12it/s]\n"
          ]
        },
        {
          "output_type": "stream",
          "name": "stdout",
          "text": [
            "\n",
            "Test set: Average loss: 0.4424, Accuracy: 8476/10000 (84.76%)\n",
            "\n",
            "EPOCH: 61\n",
            "LR: 0.023745307022165277\n"
          ]
        },
        {
          "output_type": "stream",
          "name": "stderr",
          "text": [
            "Loss=0.9250738620758057 Batch_id=781 Accuracy=79.08: 100%|██████████| 782/782 [00:10<00:00, 74.97it/s]\n"
          ]
        },
        {
          "output_type": "stream",
          "name": "stdout",
          "text": [
            "\n",
            "Test set: Average loss: 0.4483, Accuracy: 8429/10000 (84.29%)\n",
            "\n",
            "EPOCH: 62\n",
            "LR: 0.023321283682483752\n"
          ]
        },
        {
          "output_type": "stream",
          "name": "stderr",
          "text": [
            "Loss=0.6915355920791626 Batch_id=781 Accuracy=79.52: 100%|██████████| 782/782 [00:10<00:00, 74.89it/s]\n"
          ]
        },
        {
          "output_type": "stream",
          "name": "stdout",
          "text": [
            "\n",
            "Test set: Average loss: 0.4507, Accuracy: 8455/10000 (84.55%)\n",
            "\n",
            "EPOCH: 63\n",
            "LR: 0.022904832188153684\n"
          ]
        },
        {
          "output_type": "stream",
          "name": "stderr",
          "text": [
            "Loss=1.0927854776382446 Batch_id=781 Accuracy=79.75: 100%|██████████| 782/782 [00:10<00:00, 76.27it/s]\n"
          ]
        },
        {
          "output_type": "stream",
          "name": "stdout",
          "text": [
            "\n",
            "Test set: Average loss: 0.4452, Accuracy: 8498/10000 (84.98%)\n",
            "\n",
            "validation-accuracy improved from 84.78 to 84.98, saving model to /content/./saved_models/CIFAR10_model_epoch-63_L1-1_L2-0_val_acc-84.98.h5\n",
            "EPOCH: 64\n",
            "LR: 0.02249581732765094\n"
          ]
        },
        {
          "output_type": "stream",
          "name": "stderr",
          "text": [
            "Loss=0.5814487934112549 Batch_id=781 Accuracy=79.55: 100%|██████████| 782/782 [00:10<00:00, 76.19it/s]\n"
          ]
        },
        {
          "output_type": "stream",
          "name": "stdout",
          "text": [
            "\n",
            "Test set: Average loss: 0.4325, Accuracy: 8500/10000 (85.00%)\n",
            "\n",
            "validation-accuracy improved from 84.98 to 85.0, saving model to /content/./saved_models/CIFAR10_model_epoch-64_L1-1_L2-0_val_acc-85.0.h5\n",
            "EPOCH: 65\n",
            "LR: 0.022094106303942887\n"
          ]
        },
        {
          "output_type": "stream",
          "name": "stderr",
          "text": [
            "Loss=0.6520861387252808 Batch_id=781 Accuracy=79.86: 100%|██████████| 782/782 [00:10<00:00, 75.82it/s]\n"
          ]
        },
        {
          "output_type": "stream",
          "name": "stdout",
          "text": [
            "\n",
            "Test set: Average loss: 0.4452, Accuracy: 8467/10000 (84.67%)\n",
            "\n",
            "EPOCH: 66\n",
            "LR: 0.021699568691372476\n"
          ]
        },
        {
          "output_type": "stream",
          "name": "stderr",
          "text": [
            "Loss=0.605628490447998 Batch_id=781 Accuracy=79.74: 100%|██████████| 782/782 [00:10<00:00, 74.61it/s]\n"
          ]
        },
        {
          "output_type": "stream",
          "name": "stdout",
          "text": [
            "\n",
            "Test set: Average loss: 0.4383, Accuracy: 8515/10000 (85.15%)\n",
            "\n",
            "validation-accuracy improved from 85.0 to 85.15, saving model to /content/./saved_models/CIFAR10_model_epoch-66_L1-1_L2-0_val_acc-85.15.h5\n",
            "EPOCH: 67\n",
            "LR: 0.02131207639331225\n"
          ]
        },
        {
          "output_type": "stream",
          "name": "stderr",
          "text": [
            "Loss=0.2895926237106323 Batch_id=781 Accuracy=79.63: 100%|██████████| 782/782 [00:10<00:00, 75.16it/s]\n"
          ]
        },
        {
          "output_type": "stream",
          "name": "stdout",
          "text": [
            "\n",
            "Test set: Average loss: 0.4323, Accuracy: 8512/10000 (85.12%)\n",
            "\n",
            "EPOCH: 68\n",
            "LR: 0.02093150360057453\n"
          ]
        },
        {
          "output_type": "stream",
          "name": "stderr",
          "text": [
            "Loss=0.9304783940315247 Batch_id=781 Accuracy=79.66: 100%|██████████| 782/782 [00:10<00:00, 74.71it/s]\n"
          ]
        },
        {
          "output_type": "stream",
          "name": "stdout",
          "text": [
            "\n",
            "Test set: Average loss: 0.4451, Accuracy: 8487/10000 (84.87%)\n",
            "\n",
            "EPOCH: 69\n",
            "LR: 0.020557726750564272\n"
          ]
        },
        {
          "output_type": "stream",
          "name": "stderr",
          "text": [
            "Loss=0.6408341526985168 Batch_id=781 Accuracy=79.81: 100%|██████████| 782/782 [00:10<00:00, 75.08it/s]\n"
          ]
        },
        {
          "output_type": "stream",
          "name": "stdout",
          "text": [
            "\n",
            "Test set: Average loss: 0.4352, Accuracy: 8492/10000 (84.92%)\n",
            "\n",
            "EPOCH: 70\n",
            "LR: 0.020190624487161336\n"
          ]
        },
        {
          "output_type": "stream",
          "name": "stderr",
          "text": [
            "Loss=0.4082731604576111 Batch_id=781 Accuracy=79.86: 100%|██████████| 782/782 [00:10<00:00, 75.39it/s]\n"
          ]
        },
        {
          "output_type": "stream",
          "name": "stdout",
          "text": [
            "\n",
            "Test set: Average loss: 0.4320, Accuracy: 8493/10000 (84.93%)\n",
            "\n",
            "EPOCH: 71\n",
            "LR: 0.019830077621319168\n"
          ]
        },
        {
          "output_type": "stream",
          "name": "stderr",
          "text": [
            "Loss=0.4531014561653137 Batch_id=781 Accuracy=80.11: 100%|██████████| 782/782 [00:10<00:00, 74.77it/s]\n"
          ]
        },
        {
          "output_type": "stream",
          "name": "stdout",
          "text": [
            "\n",
            "Test set: Average loss: 0.4393, Accuracy: 8516/10000 (85.16%)\n",
            "\n",
            "validation-accuracy improved from 85.15 to 85.16, saving model to /content/./saved_models/CIFAR10_model_epoch-71_L1-1_L2-0_val_acc-85.16.h5\n",
            "EPOCH: 72\n",
            "LR: 0.01947596909236704\n"
          ]
        },
        {
          "output_type": "stream",
          "name": "stderr",
          "text": [
            "Loss=0.4640735983848572 Batch_id=781 Accuracy=79.95: 100%|██████████| 782/782 [00:10<00:00, 75.48it/s]\n"
          ]
        },
        {
          "output_type": "stream",
          "name": "stdout",
          "text": [
            "\n",
            "Test set: Average loss: 0.4370, Accuracy: 8506/10000 (85.06%)\n",
            "\n",
            "EPOCH: 73\n",
            "LR: 0.01912818393000334\n"
          ]
        },
        {
          "output_type": "stream",
          "name": "stderr",
          "text": [
            "Loss=0.513454258441925 Batch_id=781 Accuracy=80.26: 100%|██████████| 782/782 [00:10<00:00, 76.09it/s]\n"
          ]
        },
        {
          "output_type": "stream",
          "name": "stdout",
          "text": [
            "\n",
            "Test set: Average loss: 0.4388, Accuracy: 8511/10000 (85.11%)\n",
            "\n",
            "EPOCH: 74\n",
            "LR: 0.018786609216967568\n"
          ]
        },
        {
          "output_type": "stream",
          "name": "stderr",
          "text": [
            "Loss=0.33790016174316406 Batch_id=781 Accuracy=80.16: 100%|██████████| 782/782 [00:10<00:00, 74.76it/s]\n"
          ]
        },
        {
          "output_type": "stream",
          "name": "stdout",
          "text": [
            "\n",
            "Test set: Average loss: 0.4394, Accuracy: 8470/10000 (84.70%)\n",
            "\n",
            "EPOCH: 75\n",
            "LR: 0.01845113405237886\n"
          ]
        },
        {
          "output_type": "stream",
          "name": "stderr",
          "text": [
            "Loss=0.8078783750534058 Batch_id=781 Accuracy=80.24: 100%|██████████| 782/782 [00:10<00:00, 75.10it/s]\n"
          ]
        },
        {
          "output_type": "stream",
          "name": "stdout",
          "text": [
            "\n",
            "Test set: Average loss: 0.4303, Accuracy: 8536/10000 (85.36%)\n",
            "\n",
            "validation-accuracy improved from 85.16 to 85.36, saving model to /content/./saved_models/CIFAR10_model_epoch-75_L1-1_L2-0_val_acc-85.36.h5\n",
            "EPOCH: 76\n",
            "LR: 0.018121649515729237\n"
          ]
        },
        {
          "output_type": "stream",
          "name": "stderr",
          "text": [
            "Loss=0.7009832859039307 Batch_id=781 Accuracy=80.43: 100%|██████████| 782/782 [00:10<00:00, 73.20it/s]\n"
          ]
        },
        {
          "output_type": "stream",
          "name": "stdout",
          "text": [
            "\n",
            "Test set: Average loss: 0.4296, Accuracy: 8512/10000 (85.12%)\n",
            "\n",
            "EPOCH: 77\n",
            "LR: 0.017798048631519785\n"
          ]
        },
        {
          "output_type": "stream",
          "name": "stderr",
          "text": [
            "Loss=0.45754149556159973 Batch_id=781 Accuracy=80.23: 100%|██████████| 782/782 [00:10<00:00, 74.67it/s]\n"
          ]
        },
        {
          "output_type": "stream",
          "name": "stdout",
          "text": [
            "\n",
            "Test set: Average loss: 0.4428, Accuracy: 8464/10000 (84.64%)\n",
            "\n",
            "EPOCH: 78\n",
            "LR: 0.017480226334528358\n"
          ]
        },
        {
          "output_type": "stream",
          "name": "stderr",
          "text": [
            "Loss=0.6395518183708191 Batch_id=781 Accuracy=80.39: 100%|██████████| 782/782 [00:10<00:00, 74.93it/s]\n"
          ]
        },
        {
          "output_type": "stream",
          "name": "stdout",
          "text": [
            "\n",
            "Test set: Average loss: 0.4398, Accuracy: 8493/10000 (84.93%)\n",
            "\n",
            "EPOCH: 79\n",
            "LR: 0.017168079435697495\n"
          ]
        },
        {
          "output_type": "stream",
          "name": "stderr",
          "text": [
            "Loss=0.3613686263561249 Batch_id=781 Accuracy=80.76: 100%|██████████| 782/782 [00:10<00:00, 73.11it/s]\n"
          ]
        },
        {
          "output_type": "stream",
          "name": "stdout",
          "text": [
            "\n",
            "Test set: Average loss: 0.4363, Accuracy: 8539/10000 (85.39%)\n",
            "\n",
            "validation-accuracy improved from 85.36 to 85.39, saving model to /content/./saved_models/CIFAR10_model_epoch-79_L1-1_L2-0_val_acc-85.39.h5\n",
            "EPOCH: 80\n",
            "LR: 0.01686150658863147\n"
          ]
        },
        {
          "output_type": "stream",
          "name": "stderr",
          "text": [
            "Loss=0.23929697275161743 Batch_id=781 Accuracy=80.57: 100%|██████████| 782/782 [00:10<00:00, 74.89it/s]\n"
          ]
        },
        {
          "output_type": "stream",
          "name": "stdout",
          "text": [
            "\n",
            "Test set: Average loss: 0.4315, Accuracy: 8500/10000 (85.00%)\n",
            "\n"
          ]
        },
        {
          "output_type": "display_data",
          "data": {
            "text/plain": [
              "<Figure size 432x288 with 1 Axes>"
            ],
            "image/png": "[encoded data removed]"
          },
          "metadata": {
            "needs_background": "light"
          }
        }
      ],
      "source": [
        "args.cmd = 'train'\n",
        "if args.cmd == 'train':\n",
        "    print(\"Model training starts on {} dataset\".format(args.dataset))\n",
        "    if L2:\n",
        "        weight_decay = args.l2_weight_decay\n",
        "    else:\n",
        "        weight_decay = 0\n",
        "\n",
        "    acc = 0\n",
        "    val_acc = 0\n",
        "    test_loss = 0\n",
        "    #EPOCHS = args.epochs\n",
        "    EPOCHS = 80\n",
        "    init_learning_rate = 0.07\n",
        "    gamma= (init_learning_rate - (0.1/EPOCHS))/init_learning_rate\n",
        "    optimizer = optim.SGD(model.parameters(), lr=init_learning_rate, momentum=0.9)\n",
        "    scheduler = StepLR(optimizer, step_size=1, gamma=gamma)\n",
        "    last_best = ''\n",
        "    for epoch in range(EPOCHS):\n",
        "        print(\"EPOCH:\", epoch + 1)\n",
        "        print('LR:', optimizer.param_groups[0]['lr'])\n",
        "        acc = train.train(model, device, train_loader, optimizer, epoch)\n",
        "        val_acc, test_loss, model_name = test.test(model, device, test_loader, optimizer, epoch)\n",
        "        scheduler.step() \n",
        "        last_best = last_best if (model_name == '') else model_name\n",
        "    utils.plot_acc()"
      ]
    },
    {
      "cell_type": "markdown",
      "metadata": {
        "id": "vJkJnMqAaBLH"
      },
      "source": [
        "### model-prediction & mislabelled images"
      ]
    },
    {
      "cell_type": "code",
      "execution_count": 17,
      "metadata": {
        "id": "sTq-dPftaBLI",
        "colab": {
          "base_uri": "https://localhost:8080/",
          "height": 869
        },
        "outputId": "123c7b09-96ef-4572-b83e-3d91ff6e6593"
      },
      "outputs": [
        {
          "output_type": "stream",
          "name": "stdout",
          "text": [
            "Model inference starts on CIFAR10  dataset\n",
            "Loaded the best model: CIFAR10_model_epoch-79_L1-1_L2-0_val_acc-85.39.h5 from last training session\n",
            "The confusion-matrix and classification-report for this model are:\n",
            "[[912  12  19   5   7   1   1   6  25  12]\n",
            " [  9 940   1   3   0   1   1   2  16  27]\n",
            " [ 52   1 789  25  39  27  38  24   1   4]\n",
            " [ 20   4  49 670  40 127  46  27  10   7]\n",
            " [ 15   1  49  17 829  25  26  33   3   2]\n",
            " [  9   2  28  97  27 779  12  40   2   4]\n",
            " [  6   3  21  27  10  13 908   7   3   2]\n",
            " [ 12   2  12  19  18  24   1 907   1   4]\n",
            " [ 45  13   6   3   2   2   1   2 916  10]\n",
            " [ 29  52   4   6   0   2   0   5  13 889]]\n",
            "              precision    recall  f1-score   support\n",
            "\n",
            "    airplane       0.82      0.91      0.86      1000\n",
            "  automobile       0.91      0.94      0.93      1000\n",
            "        bird       0.81      0.79      0.80      1000\n",
            "         cat       0.77      0.67      0.72      1000\n",
            "        deer       0.85      0.83      0.84      1000\n",
            "         dog       0.78      0.78      0.78      1000\n",
            "        frog       0.88      0.91      0.89      1000\n",
            "       horse       0.86      0.91      0.88      1000\n",
            "        ship       0.93      0.92      0.92      1000\n",
            "       truck       0.93      0.89      0.91      1000\n",
            "\n",
            "    accuracy                           0.85     10000\n",
            "   macro avg       0.85      0.85      0.85     10000\n",
            "weighted avg       0.85      0.85      0.85     10000\n",
            "\n"
          ]
        },
        {
          "output_type": "display_data",
          "data": {
            "text/plain": [
              "<Figure size 3960x720 with 30 Axes>"
            ],
            "image/png": "[encoded data removed]"
          },
          "metadata": {}
        }
      ],
      "source": [
        "print(\"Model inference starts on {}  dataset\".format(args.dataset))\n",
        "print(\"Loaded the best model: {} from last training session\".format(last_best))\n",
        "model = utils.load_model(EVA8_session6_assignment_model(), device, model_name=last_best)\n",
        "y_test = np.array(test_dataset.targets)\n",
        "print(\"The confusion-matrix and classification-report for this model are:\")\n",
        "y_pred = utils.model_pred(model, device, y_test, test_dataset)\n",
        "x_test = test_dataset.data\n",
        "utils.display_mislabelled(model, device, x_test, y_test.reshape(-1, 1), y_pred, test_dataset, title_str='Predicted Vs Actual')"
      ]
    }
  ],
  "metadata": {
    "accelerator": "GPU",
    "colab": {
      "machine_shape": "hm",
      "provenance": []
    },
    "gpuClass": "premium",
    "kernelspec": {
      "display_name": "Python 3",
      "language": "python",
      "name": "python3"
    },
    "language_info": {
      "codemirror_mode": {
        "name": "ipython",
        "version": 3
      },
      "file_extension": ".py",
      "mimetype": "text/x-python",
      "name": "python",
      "nbconvert_exporter": "python",
      "pygments_lexer": "ipython3",
      "version": "3.6.9"
    },
    "widgets": {
      "application/vnd.jupyter.widget-state+json": {
        "0bfda304a1014df2bc445ba42b763827": {
          "model_module": "@jupyter-widgets/controls",
          "model_name": "HBoxModel",
          "model_module_version": "1.5.0",
          "state": {
            "_dom_classes": [],
            "_model_module": "@jupyter-widgets/controls",
            "_model_module_version": "1.5.0",
            "_model_name": "HBoxModel",
            "_view_count": null,
            "_view_module": "@jupyter-widgets/controls",
            "_view_module_version": "1.5.0",
            "_view_name": "HBoxView",
            "box_style": "",
            "children": [
              "IPY_MODEL_8744eb12101746f2af38d94b1e3718a9",
              "IPY_MODEL_e9940331c95c4aafaab5c34bc8809be1",
              "IPY_MODEL_bda8d0c17c9e4bd8a0396bee845a0a22"
            ],
            "layout": "IPY_MODEL_cc44d8c8faf243fcb0b12395b9a6cba4"
          }
        },
        "8744eb12101746f2af38d94b1e3718a9": {
          "model_module": "@jupyter-widgets/controls",
          "model_name": "HTMLModel",
          "model_module_version": "1.5.0",
          "state": {
            "_dom_classes": [],
            "_model_module": "@jupyter-widgets/controls",
            "_model_module_version": "1.5.0",
            "_model_name": "HTMLModel",
            "_view_count": null,
            "_view_module": "@jupyter-widgets/controls",
            "_view_module_version": "1.5.0",
            "_view_name": "HTMLView",
            "description": "",
            "description_tooltip": null,
            "layout": "IPY_MODEL_361c3da8ecff4065b4e2f1a07acfaa7c",
            "placeholder": "​",
            "style": "IPY_MODEL_ae6d3abac68a46c097588e0f87dfd682",
            "value": "100%"
          }
        },
        "e9940331c95c4aafaab5c34bc8809be1": {
          "model_module": "@jupyter-widgets/controls",
          "model_name": "FloatProgressModel",
          "model_module_version": "1.5.0",
          "state": {
            "_dom_classes": [],
            "_model_module": "@jupyter-widgets/controls",
            "_model_module_version": "1.5.0",
            "_model_name": "FloatProgressModel",
            "_view_count": null,
            "_view_module": "@jupyter-widgets/controls",
            "_view_module_version": "1.5.0",
            "_view_name": "ProgressView",
            "bar_style": "success",
            "description": "",
            "description_tooltip": null,
            "layout": "IPY_MODEL_de9cbb92b4dc4a70b7d0ff0392c59332",
            "max": 170498071,
            "min": 0,
            "orientation": "horizontal",
            "style": "IPY_MODEL_0aec69e22d494f53933b5662fc5e922d",
            "value": 170498071
          }
        },
        "bda8d0c17c9e4bd8a0396bee845a0a22": {
          "model_module": "@jupyter-widgets/controls",
          "model_name": "HTMLModel",
          "model_module_version": "1.5.0",
          "state": {
            "_dom_classes": [],
            "_model_module": "@jupyter-widgets/controls",
            "_model_module_version": "1.5.0",
            "_model_name": "HTMLModel",
            "_view_count": null,
            "_view_module": "@jupyter-widgets/controls",
            "_view_module_version": "1.5.0",
            "_view_name": "HTMLView",
            "description": "",
            "description_tooltip": null,
            "layout": "IPY_MODEL_7885a0b7438842c78cbbdfc0960e30f0",
            "placeholder": "​",
            "style": "IPY_MODEL_67cf78fbaac842f783ee805dc974cbc9",
            "value": " 170498071/170498071 [00:01&lt;00:00, 116073773.05it/s]"
          }
        },
        "cc44d8c8faf243fcb0b12395b9a6cba4": {
          "model_module": "@jupyter-widgets/base",
          "model_name": "LayoutModel",
          "model_module_version": "1.2.0",
          "state": {
            "_model_module": "@jupyter-widgets/base",
            "_model_module_version": "1.2.0",
            "_model_name": "LayoutModel",
            "_view_count": null,
            "_view_module": "@jupyter-widgets/base",
            "_view_module_version": "1.2.0",
            "_view_name": "LayoutView",
            "align_content": null,
            "align_items": null,
            "align_self": null,
            "border": null,
            "bottom": null,
            "display": null,
            "flex": null,
            "flex_flow": null,
            "grid_area": null,
            "grid_auto_columns": null,
            "grid_auto_flow": null,
            "grid_auto_rows": null,
            "grid_column": null,
            "grid_gap": null,
            "grid_row": null,
            "grid_template_areas": null,
            "grid_template_columns": null,
            "grid_template_rows": null,
            "height": null,
            "justify_content": null,
            "justify_items": null,
            "left": null,
            "margin": null,
            "max_height": null,
            "max_width": null,
            "min_height": null,
            "min_width": null,
            "object_fit": null,
            "object_position": null,
            "order": null,
            "overflow": null,
            "overflow_x": null,
            "overflow_y": null,
            "padding": null,
            "right": null,
            "top": null,
            "visibility": null,
            "width": null
          }
        },
        "361c3da8ecff4065b4e2f1a07acfaa7c": {
          "model_module": "@jupyter-widgets/base",
          "model_name": "LayoutModel",
          "model_module_version": "1.2.0",
          "state": {
            "_model_module": "@jupyter-widgets/base",
            "_model_module_version": "1.2.0",
            "_model_name": "LayoutModel",
            "_view_count": null,
            "_view_module": "@jupyter-widgets/base",
            "_view_module_version": "1.2.0",
            "_view_name": "LayoutView",
            "align_content": null,
            "align_items": null,
            "align_self": null,
            "border": null,
            "bottom": null,
            "display": null,
            "flex": null,
            "flex_flow": null,
            "grid_area": null,
            "grid_auto_columns": null,
            "grid_auto_flow": null,
            "grid_auto_rows": null,
            "grid_column": null,
            "grid_gap": null,
            "grid_row": null,
            "grid_template_areas": null,
            "grid_template_columns": null,
            "grid_template_rows": null,
            "height": null,
            "justify_content": null,
            "justify_items": null,
            "left": null,
            "margin": null,
            "max_height": null,
            "max_width": null,
            "min_height": null,
            "min_width": null,
            "object_fit": null,
            "object_position": null,
            "order": null,
            "overflow": null,
            "overflow_x": null,
            "overflow_y": null,
            "padding": null,
            "right": null,
            "top": null,
            "visibility": null,
            "width": null
          }
        },
        "ae6d3abac68a46c097588e0f87dfd682": {
          "model_module": "@jupyter-widgets/controls",
          "model_name": "DescriptionStyleModel",
          "model_module_version": "1.5.0",
          "state": {
            "_model_module": "@jupyter-widgets/controls",
            "_model_module_version": "1.5.0",
            "_model_name": "DescriptionStyleModel",
            "_view_count": null,
            "_view_module": "@jupyter-widgets/base",
            "_view_module_version": "1.2.0",
            "_view_name": "StyleView",
            "description_width": ""
          }
        },
        "de9cbb92b4dc4a70b7d0ff0392c59332": {
          "model_module": "@jupyter-widgets/base",
          "model_name": "LayoutModel",
          "model_module_version": "1.2.0",
          "state": {
            "_model_module": "@jupyter-widgets/base",
            "_model_module_version": "1.2.0",
            "_model_name": "LayoutModel",
            "_view_count": null,
            "_view_module": "@jupyter-widgets/base",
            "_view_module_version": "1.2.0",
            "_view_name": "LayoutView",
            "align_content": null,
            "align_items": null,
            "align_self": null,
            "border": null,
            "bottom": null,
            "display": null,
            "flex": null,
            "flex_flow": null,
            "grid_area": null,
            "grid_auto_columns": null,
            "grid_auto_flow": null,
            "grid_auto_rows": null,
            "grid_column": null,
            "grid_gap": null,
            "grid_row": null,
            "grid_template_areas": null,
            "grid_template_columns": null,
            "grid_template_rows": null,
            "height": null,
            "justify_content": null,
            "justify_items": null,
            "left": null,
            "margin": null,
            "max_height": null,
            "max_width": null,
            "min_height": null,
            "min_width": null,
            "object_fit": null,
            "object_position": null,
            "order": null,
            "overflow": null,
            "overflow_x": null,
            "overflow_y": null,
            "padding": null,
            "right": null,
            "top": null,
            "visibility": null,
            "width": null
          }
        },
        "0aec69e22d494f53933b5662fc5e922d": {
          "model_module": "@jupyter-widgets/controls",
          "model_name": "ProgressStyleModel",
          "model_module_version": "1.5.0",
          "state": {
            "_model_module": "@jupyter-widgets/controls",
            "_model_module_version": "1.5.0",
            "_model_name": "ProgressStyleModel",
            "_view_count": null,
            "_view_module": "@jupyter-widgets/base",
            "_view_module_version": "1.2.0",
            "_view_name": "StyleView",
            "bar_color": null,
            "description_width": ""
          }
        },
        "7885a0b7438842c78cbbdfc0960e30f0": {
          "model_module": "@jupyter-widgets/base",
          "model_name": "LayoutModel",
          "model_module_version": "1.2.0",
          "state": {
            "_model_module": "@jupyter-widgets/base",
            "_model_module_version": "1.2.0",
            "_model_name": "LayoutModel",
            "_view_count": null,
            "_view_module": "@jupyter-widgets/base",
            "_view_module_version": "1.2.0",
            "_view_name": "LayoutView",
            "align_content": null,
            "align_items": null,
            "align_self": null,
            "border": null,
            "bottom": null,
            "display": null,
            "flex": null,
            "flex_flow": null,
            "grid_area": null,
            "grid_auto_columns": null,
            "grid_auto_flow": null,
            "grid_auto_rows": null,
            "grid_column": null,
            "grid_gap": null,
            "grid_row": null,
            "grid_template_areas": null,
            "grid_template_columns": null,
            "grid_template_rows": null,
            "height": null,
            "justify_content": null,
            "justify_items": null,
            "left": null,
            "margin": null,
            "max_height": null,
            "max_width": null,
            "min_height": null,
            "min_width": null,
            "object_fit": null,
            "object_position": null,
            "order": null,
            "overflow": null,
            "overflow_x": null,
            "overflow_y": null,
            "padding": null,
            "right": null,
            "top": null,
            "visibility": null,
            "width": null
          }
        },
        "67cf78fbaac842f783ee805dc974cbc9": {
          "model_module": "@jupyter-widgets/controls",
          "model_name": "DescriptionStyleModel",
          "model_module_version": "1.5.0",
          "state": {
            "_model_module": "@jupyter-widgets/controls",
            "_model_module_version": "1.5.0",
            "_model_name": "DescriptionStyleModel",
            "_view_count": null,
            "_view_module": "@jupyter-widgets/base",
            "_view_module_version": "1.2.0",
            "_view_name": "StyleView",
            "description_width": ""
          }
        }
      }
    }
  },
  "nbformat": 4,
  "nbformat_minor": 0
}