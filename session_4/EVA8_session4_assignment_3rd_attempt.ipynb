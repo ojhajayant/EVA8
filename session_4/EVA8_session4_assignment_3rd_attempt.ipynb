{
  "cells": [
    {
      "cell_type": "markdown",
      "source": [
        "# Achieve 99.4% (must be consistently shown in last few epochs, and not a one-time achievement) in  less than or equal to 15 Epochs, with less than 10000 Parameters (additional credits for doing this in less than 8000 parameters) and do this in exactly 3 steps!"
      ],
      "metadata": {
        "id": "oT-oPkhWHNOc"
      }
    },
    {
      "cell_type": "markdown",
      "source": [
        "## Third Attempt:"
      ],
      "metadata": {
        "id": "NRyw0M6cHUme"
      }
    },
    {
      "cell_type": "markdown",
      "source": [
        "###### Targets (3rd attempt):\n",
        "- expect the max Validation Accuracy to reach the target: ~99.4% \n",
        "\n",
        "- The total params in all these attempts has to be under 10K.\n",
        "###### Results (3rd attempt):\n",
        "- max Validation Accuracy reached: 99.48% \n",
        "\n",
        "- max Train Accuracy reached: 99.18%\n",
        "\n",
        "- Total params are still : 7,684 (as even with the 3rd attempt, same underlying structure is taken forward)\n",
        "\n",
        "##### Analysis (3rd attempt):\n",
        "- During one experiment the learning rate sweeps, one learning rate region below 0.07 'flashed' a better accuracy number, hence using just the StepLR way with step size 1, with gamma such that every epoch the \n",
        "reduction in learning rate would be 0.1/TOTAL_EPOCHS:\n",
        "```\n",
        "(i.e. \n",
        "with init_learning_rate = 0.07\n",
        "gamma x init_learning_rate = (init_learning_rate - (0.1/TOTAL_EPOCHS)   while step_size = 1)\n",
        "```\n",
        "Guided by such equation on gamma the LR swept thru ranges as: LR: [0.07, 0.06333333333333334, 0.057301587301587305, 0.0518442932728647.....]\n",
        "In this range during last few epochs, and once in betwen, it flashed these 99.4+% accuracies."
      ],
      "metadata": {
        "id": "UU-H7IG3Ho3A"
      }
    },
    {
      "cell_type": "code",
      "execution_count": null,
      "metadata": {
        "colab": {
          "base_uri": "https://localhost:8080/"
        },
        "id": "DIx_osINs8Ie",
        "outputId": "b3da2b91-fca5-4402-fe26-caebb81f9427"
      },
      "outputs": [
        {
          "output_type": "stream",
          "name": "stdout",
          "text": [
            "Wed Jan 18 18:01:43 2023       \n",
            "+-----------------------------------------------------------------------------+\n",
            "| NVIDIA-SMI 460.32.03    Driver Version: 460.32.03    CUDA Version: 11.2     |\n",
            "|-------------------------------+----------------------+----------------------+\n",
            "| GPU  Name        Persistence-M| Bus-Id        Disp.A | Volatile Uncorr. ECC |\n",
            "| Fan  Temp  Perf  Pwr:Usage/Cap|         Memory-Usage | GPU-Util  Compute M. |\n",
            "|                               |                      |               MIG M. |\n",
            "|===============================+======================+======================|\n",
            "|   0  Tesla T4            Off  | 00000000:00:04.0 Off |                    0 |\n",
            "| N/A   73C    P0    32W /  70W |      0MiB / 15109MiB |      0%      Default |\n",
            "|                               |                      |                  N/A |\n",
            "+-------------------------------+----------------------+----------------------+\n",
            "                                                                               \n",
            "+-----------------------------------------------------------------------------+\n",
            "| Processes:                                                                  |\n",
            "|  GPU   GI   CI        PID   Type   Process name                  GPU Memory |\n",
            "|        ID   ID                                                   Usage      |\n",
            "|=============================================================================|\n",
            "|  No running processes found                                                 |\n",
            "+-----------------------------------------------------------------------------+\n"
          ]
        }
      ],
      "source": [
        "gpu_info = !nvidia-smi\n",
        "gpu_info = '\\n'.join(gpu_info)\n",
        "if gpu_info.find('failed') >= 0:\n",
        "  print('Not connected to a GPU')\n",
        "else:\n",
        "  print(gpu_info)"
      ]
    },
    {
      "cell_type": "code",
      "execution_count": null,
      "metadata": {
        "colab": {
          "base_uri": "https://localhost:8080/"
        },
        "id": "K5fbngjRetr2",
        "outputId": "c6609ac1-a10a-44d9-a034-6a3a28067651"
      },
      "outputs": [
        {
          "output_type": "stream",
          "name": "stdout",
          "text": [
            "Drive already mounted at /content/drive; to attempt to forcibly remount, call drive.mount(\"/content/drive\", force_remount=True).\n"
          ]
        }
      ],
      "source": [
        "from google.colab import drive\n",
        "drive.mount('/content/drive')"
      ]
    },
    {
      "cell_type": "markdown",
      "metadata": {
        "id": "ssUYpi_5fce_"
      },
      "source": [
        "#### Import Libraries"
      ]
    },
    {
      "cell_type": "code",
      "execution_count": null,
      "metadata": {
        "id": "3s2u6-Pye8r0"
      },
      "outputs": [],
      "source": [
        "from __future__ import print_function\n",
        "import torch\n",
        "import torch.nn as nn\n",
        "import torch.nn.functional as F\n",
        "import torch.optim as optim\n",
        "from torchvision import datasets, transforms\n",
        "%matplotlib inline\n",
        "import matplotlib.pyplot as plt\n",
        "from torch.optim.lr_scheduler import StepLR"
      ]
    },
    {
      "cell_type": "markdown",
      "metadata": {
        "id": "hK4RAaa0CC96"
      },
      "source": [
        "### Transforms for the dataset"
      ]
    },
    {
      "cell_type": "markdown",
      "metadata": {
        "id": "cHw07ZGrgRV1"
      },
      "source": [
        "##### 1. get the mean and std value for the  train data "
      ]
    },
    {
      "cell_type": "code",
      "execution_count": null,
      "metadata": {
        "colab": {
          "base_uri": "https://localhost:8080/"
        },
        "id": "vbZzV0HVAD9e",
        "outputId": "9fc1c36f-7fcb-4d93-9046-957481e6babc"
      },
      "outputs": [
        {
          "output_type": "stream",
          "name": "stdout",
          "text": [
            " [Train Dataset---mean and std calculations:\n",
            " min for the train-data tensor(0.)\n",
            " max for the train-data tensor(1.)\n",
            " mean for the train-data tensor(0.1307)\n",
            " std for the train-data tensor(0.3081)\n"
          ]
        }
      ],
      "source": [
        "# create a simple transform for the dataset with just the \n",
        "# transforms.ToTensor() part.\n",
        "simple_transforms = transforms.Compose([\n",
        "    transforms.ToTensor()\n",
        "])\n",
        "# Now create a train_data_set object with only ToTensor as transform\n",
        "# interface\n",
        "train_set_for_mean_std = datasets.MNIST('./data', train=True, download=True,\n",
        "                                        transform=simple_transforms)\n",
        "# Get the \"ToTensor()-converted\", Tensor-format data: For the ToTensor()\n",
        "# transformed data (the *.data for this dataset is the raw format [0,255]\n",
        "# range data in Tensor format, but as the ToTensor() transform requires the\n",
        "# input data to be in ndarray or PIL image format, it needs to be converted\n",
        "# to ndarray format first, to get the \"transformed Tensor format data\"\n",
        "# in this case a Tensor format data in range [0,1]\n",
        "train_data_for_mean_std = train_set_for_mean_std.transform(\n",
        "    train_set_for_mean_std.data.numpy())\n",
        "print(' [Train Dataset---mean and std calculations:')\n",
        "print(' min for the train-data', torch.min(train_data_for_mean_std))\n",
        "print(' max for the train-data', torch.max(train_data_for_mean_std))\n",
        "print(' mean for the train-data', torch.mean(train_data_for_mean_std))\n",
        "print(' std for the train-data', torch.std(train_data_for_mean_std))\n",
        "train_mean = torch.mean(train_data_for_mean_std).item()\n",
        "train_std = torch.std(train_data_for_mean_std).item()"
      ]
    },
    {
      "cell_type": "markdown",
      "metadata": {
        "id": "jOsBBauXCH7Q"
      },
      "source": [
        "##### 2. Test/Train transforms\n"
      ]
    },
    {
      "cell_type": "code",
      "execution_count": null,
      "metadata": {
        "id": "RVpGwi_KCYHE"
      },
      "outputs": [],
      "source": [
        "train_transforms = transforms.Compose([\n",
        "    transforms.ToTensor(),\n",
        "    transforms.RandomRotation(degrees=7),\n",
        "    # transforms.RandomErasing(p=0.5, scale=(0.02, 0.08), ratio=(0.3, 0.8), value=0.0),\n",
        "    transforms.Normalize((train_mean,), (train_std,))\n",
        "])\n",
        "test_transforms = transforms.Compose([\n",
        "    transforms.ToTensor(),\n",
        "    transforms.Normalize((train_mean,), (train_std,))\n",
        "])"
      ]
    },
    {
      "cell_type": "markdown",
      "metadata": {
        "id": "uPhWnf2RCrLZ"
      },
      "source": [
        "#### Dataset & creating train/test split"
      ]
    },
    {
      "cell_type": "code",
      "execution_count": null,
      "metadata": {
        "id": "PM22YTY5CzmY"
      },
      "outputs": [],
      "source": [
        "train_set = datasets.MNIST('./data', train=True, download=True,\n",
        "                           transform=train_transforms)\n",
        "test_set = datasets.MNIST('./data', train=False, download=True,\n",
        "                              transform=test_transforms)"
      ]
    },
    {
      "cell_type": "markdown",
      "metadata": {
        "id": "PIX_DNSWC7qm"
      },
      "source": [
        " #### Dataloader arguments and train/test dataloaders"
      ]
    },
    {
      "cell_type": "code",
      "execution_count": null,
      "metadata": {
        "colab": {
          "base_uri": "https://localhost:8080/"
        },
        "id": "5Ba7qTBTDHJZ",
        "outputId": "4310546c-740c-42f0-9530-e9c1ae5ed6fa"
      },
      "outputs": [
        {
          "output_type": "stream",
          "name": "stdout",
          "text": [
            "Cuda is available? True\n"
          ]
        }
      ],
      "source": [
        "# For reproducibility\n",
        "SEED = 1\n",
        "cuda = torch.cuda.is_available()\n",
        "print(\"Cuda is available?\", cuda)\n",
        "torch.manual_seed(SEED)\n",
        "if cuda:\n",
        "    torch.cuda.manual_seed(SEED)\n",
        "# dataloader arguments\n",
        "dataloader_args = dict(shuffle=True, batch_size=128, num_workers=4,\n",
        "                           pin_memory=True) if cuda else dict(shuffle=True,\n",
        "                                                              batch_size=64)\n",
        "# train/test dataloaders\n",
        "train_loader = torch.utils.data.DataLoader(train_set, **dataloader_args)\n",
        "test_loader = torch.utils.data.DataLoader(test_set, **dataloader_args)"
      ]
    },
    {
      "cell_type": "markdown",
      "metadata": {
        "id": "2G9r_RCFDeEl"
      },
      "source": [
        "#### Data statistics (important to know about the data and stats around it)"
      ]
    },
    {
      "cell_type": "code",
      "execution_count": null,
      "metadata": {
        "id": "rWhdIX0BgQW-",
        "colab": {
          "base_uri": "https://localhost:8080/",
          "height": 491
        },
        "outputId": "35a3b586-639e-47d7-f5ce-f4ad2fb03321"
      },
      "outputs": [
        {
          "output_type": "stream",
          "name": "stdout",
          "text": [
            "  [Train]\n",
            "  Numpy-Shape: (60000, 28, 28)\n",
            "  Tensor-Size: torch.Size([60000, 28, 28])\n",
            "  min original raw tensor format data: tensor(0, dtype=torch.uint8)\n",
            "  max original raw tensor format data: tensor(255, dtype=torch.uint8)\n",
            "  min post-transforms(ToTensor + Normalize) tensor format data: tensor(-0.4241)\n",
            "  max post-transforms (ToTensor + Normalize)  tensor format data: tensor(2.8215)\n",
            "  mean post-transforms(ToTensor + Normalize) tensor format data: tensor(-0.4212)\n",
            "  std post-transforms (ToTensor + Normalize)  tensor format data: tensor(0.0889)\n",
            "  var post-transforms (ToTensor + Normalize)  tensor format data: tensor(0.0079)\n",
            " Image shape from the batch: torch.Size([128, 1, 28, 28])\n",
            " Label shape from the batch: torch.Size([128])\n"
          ]
        },
        {
          "output_type": "execute_result",
          "data": {
            "text/plain": [
              "<matplotlib.image.AxesImage at 0x7f62e2f1a8e0>"
            ]
          },
          "metadata": {},
          "execution_count": 8
        },
        {
          "output_type": "display_data",
          "data": {
            "text/plain": [
              "<Figure size 432x288 with 1 Axes>"
            ],
            "image/png": "[encoded data removed]"
          },
          "metadata": {
            "needs_background": "light"
          }
        }
      ],
      "source": [
        "train_data = train_set.transform(train_set.data.numpy())  # for applying\n",
        "# transforms like transforms.ToTensor(), the format should be\n",
        "# numpy-ndarray or PIL image.\n",
        "print('  [Train]')\n",
        "print('  Numpy-Shape:', train_set.data.cpu().numpy().shape)\n",
        "print('  Tensor-Size:', train_set.data.size())\n",
        "print('  min original raw tensor format data:', torch.min(train_set.data))\n",
        "print('  max original raw tensor format data:', torch.max(train_set.data))\n",
        "print('  min post-transforms(ToTensor + Normalize) tensor format data:',\n",
        "      torch.min(train_data))\n",
        "print('  max post-transforms (ToTensor + Normalize)  tensor format data:',\n",
        "      torch.max(train_data))\n",
        "print('  mean post-transforms(ToTensor + Normalize) tensor format data:',\n",
        "      torch.mean(train_data))\n",
        "print('  std post-transforms (ToTensor + Normalize)  tensor format data:',\n",
        "      torch.std(train_data))\n",
        "print('  var post-transforms (ToTensor + Normalize)  tensor format data:',\n",
        "      torch.var(train_data))\n",
        "dataiter = iter(train_loader)\n",
        "images, labels = next(dataiter)\n",
        "print(' Image shape from the batch:', images.shape)\n",
        "print(' Label shape from the batch:', labels.shape)\n",
        "plt.imshow(images[0].numpy().squeeze(), cmap='gray_r')"
      ]
    },
    {
      "cell_type": "markdown",
      "metadata": {
        "id": "RukkF73bDtp3"
      },
      "source": [
        "#### More data visualization (for image augmentation later on)"
      ]
    },
    {
      "cell_type": "code",
      "execution_count": null,
      "metadata": {
        "id": "Did5q1k6DrK2",
        "colab": {
          "base_uri": "https://localhost:8080/",
          "height": 246
        },
        "outputId": "9d1cb204-9ab1-42ba-c685-b19de7de0289"
      },
      "outputs": [
        {
          "output_type": "display_data",
          "data": {
            "text/plain": [
              "<Figure size 432x288 with 60 Axes>"
            ],
            "image/png": "[encoded data removed]"
          },
          "metadata": {
            "needs_background": "light"
          }
        }
      ],
      "source": [
        "figure = plt.figure()\n",
        "num_of_images = 60\n",
        "for index in range(1, num_of_images + 1):\n",
        "    plt.subplot(6, 10, index)\n",
        "    plt.axis('off')\n",
        "    plt.imshow(images[index].numpy().squeeze(), cmap='gray_r')"
      ]
    },
    {
      "cell_type": "markdown",
      "metadata": {
        "id": "FLroV3rHbL4I"
      },
      "source": [
        "#### The Model"
      ]
    },
    {
      "cell_type": "markdown",
      "source": [
        "In this 3rd attempt too, the network structure /architecture hasn't changed.\n",
        "Hence, an architecture as shown in the table below is still chosen as a \"baseline\" one.Same description as given under the 1st attempt is extended here too.\n",
        "As while solving the earlier session assignment (and also as covered thoroughly in the last \"coding-drill-down\" session) two architectural components: BatchNorm & DropOut came out to be two important components to be applied on any Conv2d-layer (except the last one), hence for this session assignment, with very limited number of attempts to go thru (i.e. exactly 3 steps), starting out with inclusion of both these components under this 1st \"baseline\" neural network architecture (as mentioned before, the excercises on effects of gradual inclusion of both components on neural-net performance, was already undertaken while solving the earlier assignment, hence feel fair enough to start out the first attempt architecture, with both of them included under this new \"baseline\")\n",
        "\n",
        "Here is the layering, which is being used to achieve the receptive-field and parameter targets.\n",
        "\n",
        "Input Channels/Image  |  Conv2d/Transform      | Output Channels | RF\n",
        "---------------------|--------------|----------------------|----------------------\n",
        "`28x28x1`              | `(3x3x1)x10`   |      `26x26x10`  |      `3x3`  **INPUT BLOCK** [actually just one conv2d 3x3 layer(image-conv2d layer)]    \n",
        "` `              | `BN(10)`   |      ` `  |      ` `\n",
        "` `              | `Dropout(2.9%)`   |      ` `  |      ` `\n",
        "` `              | `ReLU`   |      ` `  |      ` ` \n",
        "`26x26x10`             | `(3x3x10)x10`  |      `24x24x10` |      `5x5`     **CONVOLUTION BLOCK 1** [1st conv2d 3x3 layer for this block ]\n",
        "` `              | `BN(10)`   |      ` `  |      ` `\n",
        "` `              | `Dropout(2.9%)`   |      ` `  |      ` `\n",
        "` `              | `ReLU`   |      ` `  |      ` ` \n",
        "`24x24x10`             | `(3x3x10)x15`  |      `22x22x15` |      `7x7`     **CONVOLUTION BLOCK 1** [2nd conv2d 3x3 layer for this block ]\n",
        "` `              | `BN(15)`   |      ` `  |      ` `\n",
        "` `              | `Dropout(2.9%)`   |      ` `  |      ` `\n",
        "` `              | `ReLU`   |      ` `  |      ` ` \n",
        "**22x22x15**             |   **MP(2x2)**    |     **11x11x15**   |     **8x8**  **TRANSITION BLOCK 1**  [1st maxpool(2,2) layer for this block]                     \n",
        "**11x11x15**             | **(1x1x15)x10**  |     **11x11x10**   |      **8x8**  **TRANSITION BLOCK 1**  [2nd 1 conv2d 1x1 layer for this block]  \n",
        "** **             | **BN(10)**   |     ** **  |     ** **                    \n",
        "** **             | **Dropout(2.9%)**   |     ** **  |     ** **\n",
        "** **             | **ReLU**   |     ** **  |     ** **      \n",
        "*11x11x10*             | *(3x3x10)x10*  |      *9x9x10* |      *12x12*  **CONVOLUTION BLOCK 2** [1st conv2d 3x3 layer for this block]\n",
        "** **            | *BN(10)*   |     * *   |     * * \n",
        "** **             | *Dropout(2.9%)*   |     * *   |     * * \n",
        "** **             | *ReLU*   |     ** **  |    ** **                       \n",
        "*9x9x10*             | *(3x3x10)x10*  |      *7x7x10* |      *16x16*  **CONVOLUTION BLOCK 2** [2nd conv2d 3x3 layer for this block] \n",
        "** **            | *BN(16)*   |     * *   |     * * \n",
        "** **             | *Dropout(2.9%)*   |     * *   |     * * \n",
        "** **             | *ReLU*   |     ** **  |    ** **    \n",
        "*7x7x10*               | *(3x3x10)x32*  |      *5x5x32*  |      *20x20*  **CONVOLUTION BLOCK 2** [3rd conv2d 3x3 layer for this block, this 32 number of output channels at this stage provides a CAPACITY BOOST for the overall network as explained ahead]  \n",
        "** **            | *BN(32)*   |     * *   |     * * \n",
        "** **             | *Dropout(2.9%)*   |     * *   |     * * \n",
        "** **             | *ReLU*   |     ** **  |    ** **   \n",
        "5x5x32               | GAP  LAYER (kernel_size=(5,5)   |      1x1x32          | `28x28` (20 + (5-1)x2 = 28) **OUTPUT BLOCK** [GAP layer]\n",
        "`1x1x32`               | `(1x1x32)x10`  |      `1x1x10`    |      `28x28` (28 + (1-1)x10 = 28) **OUTPUT BLOCK** [1 conv2d 1x1 layer]\n",
        "` `             | `log_SoftMax`   |     ` `  |     ` ` \n",
        "\n",
        " above has 4 \"components\":\n",
        " \n",
        " 1. **INPUT BLOCK:** One initial, \"Input Block\" at the begining, to convolve over the \"original image\"  channel(s), due to the opposing constraints of meeting an accuracy number with lesser parameters possible,\n",
        "    choosing  10 number of kernels for this 'separate' layer (which feeds in to the next \"CONVOLUTION BLOCK 1\",\n",
        "    explained below).This 1 initial layer & two following layers (under \"CONVOLUTION BLOCK 1\") provide receptive\n",
        "    field of 7x7 pixels(3->5->7) sufficient for the MNIST dataset's edges & gradient generation.No padding used.    \n",
        "\t\n",
        " 2. **CONVOLUTION BLOCK 1:** placed after the first \"Input Block\" layer, 2 layers of 3x3 conv2d operators, with 10 & 15 o/p channels at   each layer position respectively.Thus providing 15 channels at the output.No padding used.\n",
        "    \n",
        " 3. **TRANSITION BLOCK 1:** max-pool(k=2,s=2) and a-1x1-feature-merger kernel, following the 'CONVOLUTION BLOCK 1'.Provides 10 o/p channels.No padding used.\n",
        "    \n",
        " 4. **CONVOLUTION BLOCK 2:** These are 3 layers of 3x3 conv2d operators, with 10, 10, 32 o/p channels at  each layer position respectively.Here point to be noted, is the use of a \"capacity boosting\" number of o/p channels at the end. (reason explained in the next point below)\n",
        "  \n",
        " 5. **OUTPUT BLOCK:**: GAP layer followed by a 1x1 operator (which actually resembles a fully-connected(FC) layer in this case. A noteworthy point (which relates to the \"capacity\" element of the overall netowrk (NW)) is that the FC (the 1x1 conv2d behaviour here) will work better, in generating the final 10 \"class-features\" to be used by the log_softmax.If the inputs to it, have more \"features points\", i.e. for example if we do a 16->10 conversion, vs a 32->10 conversion, we can expect the 10 class-features (for softmax to decide)      generated by a 32->10 conversion will be more \"robust\" (as compared to say a 16->10 conversion)\n",
        "     Forunately, with an already \"frugal\" choice of numbers like 10, 15 etc, made for earlier layer (and also \"frugality\" in the total number of layers, which still provide an overall RF as 28, i.e. at least just equal to the original image/object size in this case), we can go ahead with choosing 32 here.\n",
        "\n",
        "Given below is the number of parameters thus obtained, which is well under 8k.\n",
        "\n",
        "#####======================= \n",
        "\n",
        "> Total params: 7,684\n",
        "\n",
        "> Trainable params: 7,684\n",
        "\n",
        "> Non-trainable params: 0\n",
        "#####--------------------------------------------------\n",
        "\n",
        "Also please note that out of all the other tested % ranges for dropout, it was found for this NW that 2.9% dropout worked best.\n"
      ],
      "metadata": {
        "id": "ruqZYzdczLXI"
      }
    },
    {
      "cell_type": "code",
      "source": [
        "dropout_value = 0.029\n",
        "class Net(nn.Module):\n",
        "    def __init__(self):\n",
        "        super(Net, self).__init__()\n",
        "        # Input Block\n",
        "        self.convblock1 = nn.Sequential(\n",
        "            nn.Conv2d(in_channels=1, out_channels=10, kernel_size=(3, 3), padding=0, bias=False),\n",
        "            nn.BatchNorm2d(10),\n",
        "            nn.Dropout(dropout_value),\n",
        "            nn.ReLU()\n",
        "        ) # input_size = 28 output_size = 26 receptive_field = 3\n",
        "\n",
        "        # CONVOLUTION BLOCK 1\n",
        "        self.convblock2 = nn.Sequential(\n",
        "            nn.Conv2d(in_channels=10, out_channels=10, kernel_size=(3, 3), padding=0, bias=False),\n",
        "            nn.BatchNorm2d(10),\n",
        "            nn.Dropout(dropout_value),\n",
        "            nn.ReLU()\n",
        "        ) # input_size = 26 output_size = 24 receptive_field = 5\n",
        "        self.convblock3 = nn.Sequential(\n",
        "            nn.Conv2d(in_channels=10, out_channels=15, kernel_size=(3, 3), padding=0, bias=False),\n",
        "            nn.BatchNorm2d(15),\n",
        "            nn.Dropout(dropout_value),\n",
        "            nn.ReLU()\n",
        "        ) # input_size = 24 output_size = 22 receptive_field = 7\n",
        "\n",
        "        # TRANSITION BLOCK 1\n",
        "        self.pool1 = nn.MaxPool2d(2, 2) # input_size = 22 output_size = 11 receptive_field = 8\n",
        "        self.convblock4 = nn.Sequential(\n",
        "            nn.Conv2d(in_channels=15, out_channels=10, kernel_size=(1, 1), padding=0, bias=False),\n",
        "            nn.BatchNorm2d(10),\n",
        "            nn.Dropout(dropout_value),\n",
        "            nn.ReLU()\n",
        "        ) # input_size = 11 output_size = 10 receptive_field = 8\n",
        "\n",
        "        # CONVOLUTION BLOCK 2\n",
        "        self.convblock5 = nn.Sequential(\n",
        "            nn.Conv2d(in_channels=10, out_channels=10, kernel_size=(3, 3), padding=0, bias=False),\n",
        "            nn.BatchNorm2d(10),\n",
        "            nn.Dropout(dropout_value),\n",
        "            nn.ReLU()\n",
        "        ) # input_size = 11 output_size = 9 receptive_field = 12\n",
        "        self.convblock6 = nn.Sequential(\n",
        "            nn.Conv2d(in_channels=10, out_channels=10, kernel_size=(3, 3), padding=0, bias=False),\n",
        "            nn.BatchNorm2d(10),\n",
        "            nn.Dropout(dropout_value),\n",
        "            nn.ReLU()\n",
        "        ) # input_size = 9 output_size = 7 receptive_field = 16\n",
        "        self.convblock7 = nn.Sequential(\n",
        "            nn.Conv2d(in_channels=10, out_channels=32, kernel_size=(3, 3), padding=0, bias=False),\n",
        "            nn.BatchNorm2d(32),\n",
        "            nn.Dropout(dropout_value),\n",
        "            nn.ReLU()\n",
        "        ) # input_size = 7 output_size = 5 receptive_field = 20\n",
        "        # OUTPUT BLOCK\n",
        "        self.gap = nn.Sequential(\n",
        "            nn.AvgPool2d(kernel_size=5)\n",
        "        ) # input_size = 5 output_size = 1 receptive_field = 28\n",
        "\n",
        "        self.convblock8 = nn.Sequential(\n",
        "            nn.Conv2d(in_channels=32, out_channels=10, kernel_size=(1, 1), padding=0, bias=False),\n",
        "            # No BatchNorm/DropOut/ReLU\n",
        "        ) # input_size = 1 output_size = 1 receptive_field = 28\n",
        "        \n",
        "\n",
        "    def forward(self, x):\n",
        "        # INPUT BLOCK LAYER\n",
        "        x = self.convblock1(x)\n",
        "        \n",
        "        # CONVOLUTION BLOCK 1\n",
        "        x = self.convblock2(x)\n",
        "        x = self.convblock3(x)\n",
        "\n",
        "        # TRANSITION BLOCK 1\n",
        "        x = self.pool1(x)\n",
        "        x = self.convblock4(x)\n",
        "\n",
        "        # CONVOLUTION BLOCK 2\n",
        "        x = self.convblock5(x)\n",
        "        x = self.convblock6(x)\n",
        "        x = self.convblock7(x)\n",
        "        \n",
        "        # OUTPUT BLOCK\n",
        "        x = self.gap(x)        \n",
        "        x = self.convblock8(x)\n",
        "        \n",
        "        x = x.view(-1, 10)\n",
        "        return F.log_softmax(x, dim=-1)"
      ],
      "metadata": {
        "id": "ds366m6Fghun"
      },
      "execution_count": null,
      "outputs": []
    },
    {
      "cell_type": "markdown",
      "metadata": {
        "id": "YWEKaGyxbTbN"
      },
      "source": [
        "#### Model Params\n",
        "Can't emphasize on how important viewing Model Summary is. \n",
        "Unfortunately, there is no in-built model visualizer, so we have to take external help"
      ]
    },
    {
      "cell_type": "code",
      "execution_count": null,
      "metadata": {
        "id": "vY6JrMkPbUG-",
        "colab": {
          "base_uri": "https://localhost:8080/"
        },
        "outputId": "cf5f7d59-f509-44b7-ebd1-b8344b39e0bf"
      },
      "outputs": [
        {
          "output_type": "stream",
          "name": "stdout",
          "text": [
            "cuda\n",
            "----------------------------------------------------------------\n",
            "        Layer (type)               Output Shape         Param #\n",
            "================================================================\n",
            "            Conv2d-1           [-1, 10, 26, 26]              90\n",
            "       BatchNorm2d-2           [-1, 10, 26, 26]              20\n",
            "           Dropout-3           [-1, 10, 26, 26]               0\n",
            "              ReLU-4           [-1, 10, 26, 26]               0\n",
            "            Conv2d-5           [-1, 10, 24, 24]             900\n",
            "       BatchNorm2d-6           [-1, 10, 24, 24]              20\n",
            "           Dropout-7           [-1, 10, 24, 24]               0\n",
            "              ReLU-8           [-1, 10, 24, 24]               0\n",
            "            Conv2d-9           [-1, 15, 22, 22]           1,350\n",
            "      BatchNorm2d-10           [-1, 15, 22, 22]              30\n",
            "          Dropout-11           [-1, 15, 22, 22]               0\n",
            "             ReLU-12           [-1, 15, 22, 22]               0\n",
            "        MaxPool2d-13           [-1, 15, 11, 11]               0\n",
            "           Conv2d-14           [-1, 10, 11, 11]             150\n",
            "      BatchNorm2d-15           [-1, 10, 11, 11]              20\n",
            "          Dropout-16           [-1, 10, 11, 11]               0\n",
            "             ReLU-17           [-1, 10, 11, 11]               0\n",
            "           Conv2d-18             [-1, 10, 9, 9]             900\n",
            "      BatchNorm2d-19             [-1, 10, 9, 9]              20\n",
            "          Dropout-20             [-1, 10, 9, 9]               0\n",
            "             ReLU-21             [-1, 10, 9, 9]               0\n",
            "           Conv2d-22             [-1, 10, 7, 7]             900\n",
            "      BatchNorm2d-23             [-1, 10, 7, 7]              20\n",
            "          Dropout-24             [-1, 10, 7, 7]               0\n",
            "             ReLU-25             [-1, 10, 7, 7]               0\n",
            "           Conv2d-26             [-1, 32, 5, 5]           2,880\n",
            "      BatchNorm2d-27             [-1, 32, 5, 5]              64\n",
            "          Dropout-28             [-1, 32, 5, 5]               0\n",
            "             ReLU-29             [-1, 32, 5, 5]               0\n",
            "        AvgPool2d-30             [-1, 32, 1, 1]               0\n",
            "           Conv2d-31             [-1, 10, 1, 1]             320\n",
            "================================================================\n",
            "Total params: 7,684\n",
            "Trainable params: 7,684\n",
            "Non-trainable params: 0\n",
            "----------------------------------------------------------------\n",
            "Input size (MB): 0.00\n",
            "Forward/backward pass size (MB): 0.72\n",
            "Params size (MB): 0.03\n",
            "Estimated Total Size (MB): 0.75\n",
            "----------------------------------------------------------------\n"
          ]
        }
      ],
      "source": [
        "#!pip install torchsummary\n",
        "from torchsummary import summary\n",
        "use_cuda = torch.cuda.is_available()\n",
        "device = torch.device(\"cuda\" if use_cuda else \"cpu\")\n",
        "print(device)\n",
        "model = Net().to(device)\n",
        "summary(model, input_size=(1, 28, 28))"
      ]
    },
    {
      "cell_type": "markdown",
      "metadata": {
        "id": "WCqqZ0qnba7_"
      },
      "source": [
        "#### Training and Testing\n",
        "\n",
        "Looking at logs can be boring, so we'll introduce **tqdm** progressbar to get cooler logs. \n",
        "\n",
        "Let's write train and test functions"
      ]
    },
    {
      "cell_type": "code",
      "execution_count": null,
      "metadata": {
        "id": "BAVA52AcbbjG"
      },
      "outputs": [],
      "source": [
        "from tqdm import tqdm\n",
        "\n",
        "train_losses = []\n",
        "test_losses = []\n",
        "train_acc = []\n",
        "test_acc = []\n",
        "\n",
        "def train(model, device, train_loader, optimizer, epoch):\n",
        "    model.train()\n",
        "    pbar = tqdm(train_loader)\n",
        "    correct = 0\n",
        "    processed = 0\n",
        "    for batch_idx, (data, target) in enumerate(pbar):\n",
        "        # get samples\n",
        "        data, target = data.to(device), target.to(device)\n",
        "\n",
        "        # Init\n",
        "        optimizer.zero_grad()\n",
        "        # In PyTorch, we need to set the gradients to zero before starting to do backpropragation because PyTorch accumulates the gradients on subsequent backward passes. \n",
        "        # Because of this, when you start your training loop, ideally you should zero out the gradients so that you do the parameter update correctly.\n",
        "\n",
        "        # Predict\n",
        "        y_pred = model(data)\n",
        "\n",
        "        # Calculate loss\n",
        "        loss = F.nll_loss(y_pred, target)\n",
        "        train_losses.append(loss)\n",
        "\n",
        "        # Backpropagation\n",
        "        loss.backward()\n",
        "        optimizer.step()\n",
        "\n",
        "        # Update pbar-tqdm\n",
        "\n",
        "        pred = y_pred.argmax(dim=1, keepdim=True)  # get the index of the max log-probability\n",
        "        correct += pred.eq(target.view_as(pred)).sum().item()\n",
        "        processed += len(data)\n",
        "\n",
        "        pbar.set_description(desc= f'Loss={loss.item()} Batch_id={batch_idx} Accuracy={100*correct/processed:0.2f}')\n",
        "        train_acc.append(100*correct/processed)\n",
        "\n",
        "def test(model, device, test_loader):\n",
        "    model.eval()\n",
        "    test_loss = 0\n",
        "    correct = 0\n",
        "    with torch.no_grad():\n",
        "        for data, target in test_loader:\n",
        "            data, target = data.to(device), target.to(device)\n",
        "            output = model(data)\n",
        "            test_loss += F.nll_loss(output, target, reduction='sum').item()  # sum up batch loss\n",
        "            pred = output.argmax(dim=1, keepdim=True)  # get the index of the max log-probability\n",
        "            correct += pred.eq(target.view_as(pred)).sum().item()\n",
        "\n",
        "    test_loss /= len(test_loader.dataset)\n",
        "    test_losses.append(test_loss)\n",
        "\n",
        "    print('\\nTest set: Average loss: {:.4f}, Accuracy: {}/{} ({:.2f}%)\\n'.format(\n",
        "        test_loss, correct, len(test_loader.dataset),\n",
        "        100. * correct / len(test_loader.dataset)))\n",
        "    \n",
        "    test_acc.append(100. * correct / len(test_loader.dataset))"
      ]
    },
    {
      "cell_type": "markdown",
      "metadata": {
        "id": "5DgWMHtybgVp"
      },
      "source": [
        "#### Let's Train and test our model"
      ]
    },
    {
      "cell_type": "code",
      "execution_count": null,
      "metadata": {
        "id": "FSD3ULdHbi90",
        "colab": {
          "base_uri": "https://localhost:8080/"
        },
        "outputId": "2b32a499-b493-46ab-83b6-ed8933af228e"
      },
      "outputs": [
        {
          "output_type": "stream",
          "name": "stdout",
          "text": [
            "EPOCH: 0\n"
          ]
        },
        {
          "output_type": "stream",
          "name": "stderr",
          "text": [
            "Loss=0.18324118852615356 Batch_id=468 Accuracy=92.17: 100%|██████████| 469/469 [00:17<00:00, 27.34it/s]"
          ]
        },
        {
          "output_type": "stream",
          "name": "stdout",
          "text": [
            " LR: [0.07]\n"
          ]
        },
        {
          "output_type": "stream",
          "name": "stderr",
          "text": [
            "\n"
          ]
        },
        {
          "output_type": "stream",
          "name": "stdout",
          "text": [
            "\n",
            "Test set: Average loss: 0.0672, Accuracy: 9792/10000 (97.92%)\n",
            "\n",
            "EPOCH: 1\n"
          ]
        },
        {
          "output_type": "stream",
          "name": "stderr",
          "text": [
            "Loss=0.015399389900267124 Batch_id=468 Accuracy=98.00: 100%|██████████| 469/469 [00:19<00:00, 23.67it/s]"
          ]
        },
        {
          "output_type": "stream",
          "name": "stdout",
          "text": [
            " LR: [0.06333333333333334]\n"
          ]
        },
        {
          "output_type": "stream",
          "name": "stderr",
          "text": [
            "\n"
          ]
        },
        {
          "output_type": "stream",
          "name": "stdout",
          "text": [
            "\n",
            "Test set: Average loss: 0.0427, Accuracy: 9880/10000 (98.80%)\n",
            "\n",
            "EPOCH: 2\n"
          ]
        },
        {
          "output_type": "stream",
          "name": "stderr",
          "text": [
            "Loss=0.030483514070510864 Batch_id=468 Accuracy=98.28: 100%|██████████| 469/469 [00:18<00:00, 25.52it/s]"
          ]
        },
        {
          "output_type": "stream",
          "name": "stdout",
          "text": [
            " LR: [0.057301587301587305]\n"
          ]
        },
        {
          "output_type": "stream",
          "name": "stderr",
          "text": [
            "\n"
          ]
        },
        {
          "output_type": "stream",
          "name": "stdout",
          "text": [
            "\n",
            "Test set: Average loss: 0.0336, Accuracy: 9896/10000 (98.96%)\n",
            "\n",
            "EPOCH: 3\n"
          ]
        },
        {
          "output_type": "stream",
          "name": "stderr",
          "text": [
            "Loss=0.0487908273935318 Batch_id=468 Accuracy=98.53: 100%|██████████| 469/469 [00:16<00:00, 27.69it/s]"
          ]
        },
        {
          "output_type": "stream",
          "name": "stdout",
          "text": [
            " LR: [0.0518442932728647]\n"
          ]
        },
        {
          "output_type": "stream",
          "name": "stderr",
          "text": [
            "\n"
          ]
        },
        {
          "output_type": "stream",
          "name": "stdout",
          "text": [
            "\n",
            "Test set: Average loss: 0.0312, Accuracy: 9907/10000 (99.07%)\n",
            "\n",
            "EPOCH: 4\n"
          ]
        },
        {
          "output_type": "stream",
          "name": "stderr",
          "text": [
            "Loss=0.10196613520383835 Batch_id=468 Accuracy=98.70: 100%|██████████| 469/469 [00:16<00:00, 28.09it/s]"
          ]
        },
        {
          "output_type": "stream",
          "name": "stdout",
          "text": [
            " LR: [0.046906741532591875]\n"
          ]
        },
        {
          "output_type": "stream",
          "name": "stderr",
          "text": [
            "\n"
          ]
        },
        {
          "output_type": "stream",
          "name": "stdout",
          "text": [
            "\n",
            "Test set: Average loss: 0.0297, Accuracy: 9909/10000 (99.09%)\n",
            "\n",
            "EPOCH: 5\n"
          ]
        },
        {
          "output_type": "stream",
          "name": "stderr",
          "text": [
            "Loss=0.027935577556490898 Batch_id=468 Accuracy=98.76: 100%|██████████| 469/469 [00:16<00:00, 27.94it/s]"
          ]
        },
        {
          "output_type": "stream",
          "name": "stdout",
          "text": [
            " LR: [0.042439432815202176]\n"
          ]
        },
        {
          "output_type": "stream",
          "name": "stderr",
          "text": [
            "\n"
          ]
        },
        {
          "output_type": "stream",
          "name": "stdout",
          "text": [
            "\n",
            "Test set: Average loss: 0.0250, Accuracy: 9930/10000 (99.30%)\n",
            "\n",
            "EPOCH: 6\n"
          ]
        },
        {
          "output_type": "stream",
          "name": "stderr",
          "text": [
            "Loss=0.03474627807736397 Batch_id=468 Accuracy=98.84: 100%|██████████| 469/469 [00:17<00:00, 27.02it/s]"
          ]
        },
        {
          "output_type": "stream",
          "name": "stdout",
          "text": [
            " LR: [0.038397582070897204]\n"
          ]
        },
        {
          "output_type": "stream",
          "name": "stderr",
          "text": [
            "\n"
          ]
        },
        {
          "output_type": "stream",
          "name": "stdout",
          "text": [
            "\n",
            "Test set: Average loss: 0.0283, Accuracy: 9907/10000 (99.07%)\n",
            "\n",
            "EPOCH: 7\n"
          ]
        },
        {
          "output_type": "stream",
          "name": "stderr",
          "text": [
            "Loss=0.003214876400306821 Batch_id=468 Accuracy=98.91: 100%|██████████| 469/469 [00:16<00:00, 28.00it/s]"
          ]
        },
        {
          "output_type": "stream",
          "name": "stdout",
          "text": [
            " LR: [0.034740669492716515]\n"
          ]
        },
        {
          "output_type": "stream",
          "name": "stderr",
          "text": [
            "\n"
          ]
        },
        {
          "output_type": "stream",
          "name": "stdout",
          "text": [
            "\n",
            "Test set: Average loss: 0.0251, Accuracy: 9918/10000 (99.18%)\n",
            "\n",
            "EPOCH: 8\n"
          ]
        },
        {
          "output_type": "stream",
          "name": "stderr",
          "text": [
            "Loss=0.04462896287441254 Batch_id=468 Accuracy=98.99: 100%|██████████| 469/469 [00:16<00:00, 27.89it/s]\n"
          ]
        },
        {
          "output_type": "stream",
          "name": "stdout",
          "text": [
            " LR: [0.03143203430293399]\n",
            "\n",
            "Test set: Average loss: 0.0237, Accuracy: 9922/10000 (99.22%)\n",
            "\n",
            "EPOCH: 9\n"
          ]
        },
        {
          "output_type": "stream",
          "name": "stderr",
          "text": [
            "Loss=0.019096465781331062 Batch_id=468 Accuracy=99.00: 100%|██████████| 469/469 [00:16<00:00, 27.66it/s]"
          ]
        },
        {
          "output_type": "stream",
          "name": "stdout",
          "text": [
            " LR: [0.028438507226464085]\n"
          ]
        },
        {
          "output_type": "stream",
          "name": "stderr",
          "text": [
            "\n"
          ]
        },
        {
          "output_type": "stream",
          "name": "stdout",
          "text": [
            "\n",
            "Test set: Average loss: 0.0202, Accuracy: 9948/10000 (99.48%)\n",
            "\n",
            "EPOCH: 10\n"
          ]
        },
        {
          "output_type": "stream",
          "name": "stderr",
          "text": [
            "Loss=0.06685905903577805 Batch_id=468 Accuracy=99.05: 100%|██████████| 469/469 [00:17<00:00, 26.39it/s]"
          ]
        },
        {
          "output_type": "stream",
          "name": "stdout",
          "text": [
            " LR: [0.025730077966800838]\n"
          ]
        },
        {
          "output_type": "stream",
          "name": "stderr",
          "text": [
            "\n"
          ]
        },
        {
          "output_type": "stream",
          "name": "stdout",
          "text": [
            "\n",
            "Test set: Average loss: 0.0211, Accuracy: 9933/10000 (99.33%)\n",
            "\n",
            "EPOCH: 11\n"
          ]
        },
        {
          "output_type": "stream",
          "name": "stderr",
          "text": [
            "Loss=0.037190500646829605 Batch_id=468 Accuracy=99.14: 100%|██████████| 469/469 [00:17<00:00, 27.57it/s]"
          ]
        },
        {
          "output_type": "stream",
          "name": "stdout",
          "text": [
            " LR: [0.023279594350915044]\n"
          ]
        },
        {
          "output_type": "stream",
          "name": "stderr",
          "text": [
            "\n"
          ]
        },
        {
          "output_type": "stream",
          "name": "stdout",
          "text": [
            "\n",
            "Test set: Average loss: 0.0197, Accuracy: 9936/10000 (99.36%)\n",
            "\n",
            "EPOCH: 12\n"
          ]
        },
        {
          "output_type": "stream",
          "name": "stderr",
          "text": [
            "Loss=0.03294788673520088 Batch_id=468 Accuracy=99.08: 100%|██████████| 469/469 [00:17<00:00, 26.29it/s]\n"
          ]
        },
        {
          "output_type": "stream",
          "name": "stdout",
          "text": [
            " LR: [0.021062490127018375]\n",
            "\n",
            "Test set: Average loss: 0.0216, Accuracy: 9934/10000 (99.34%)\n",
            "\n",
            "EPOCH: 13\n"
          ]
        },
        {
          "output_type": "stream",
          "name": "stderr",
          "text": [
            "Loss=0.007246762048453093 Batch_id=468 Accuracy=99.18: 100%|██████████| 469/469 [00:17<00:00, 27.29it/s]"
          ]
        },
        {
          "output_type": "stream",
          "name": "stdout",
          "text": [
            " LR: [0.019056538686349957]\n"
          ]
        },
        {
          "output_type": "stream",
          "name": "stderr",
          "text": [
            "\n"
          ]
        },
        {
          "output_type": "stream",
          "name": "stdout",
          "text": [
            "\n",
            "Test set: Average loss: 0.0203, Accuracy: 9940/10000 (99.40%)\n",
            "\n",
            "EPOCH: 14\n"
          ]
        },
        {
          "output_type": "stream",
          "name": "stderr",
          "text": [
            "Loss=0.027010560035705566 Batch_id=468 Accuracy=99.17: 100%|██████████| 469/469 [00:17<00:00, 27.44it/s]"
          ]
        },
        {
          "output_type": "stream",
          "name": "stdout",
          "text": [
            " LR: [0.017241630240030913]\n"
          ]
        },
        {
          "output_type": "stream",
          "name": "stderr",
          "text": [
            "\n"
          ]
        },
        {
          "output_type": "stream",
          "name": "stdout",
          "text": [
            "\n",
            "Test set: Average loss: 0.0195, Accuracy: 9942/10000 (99.42%)\n",
            "\n"
          ]
        }
      ],
      "source": [
        "from torch.optim.lr_scheduler import StepLR\n",
        "EPOCHS = 15\n",
        "model =  Net().to(device)\n",
        "init_learning_rate = 0.07\n",
        "gamma= (init_learning_rate - (0.1/EPOCHS))/init_learning_rate\n",
        "optimizer = optim.SGD(model.parameters(), lr=init_learning_rate, momentum=0.9)\n",
        "scheduler = StepLR(optimizer, step_size=1, gamma=gamma)\n",
        "\n",
        "\n",
        "for epoch in range(EPOCHS):\n",
        "    print(\"EPOCH:\", epoch)\n",
        "    train(model, device, train_loader, optimizer, epoch)\n",
        "    # Print Learning Rate\n",
        "    print(' LR:', scheduler.get_last_lr())\n",
        "    scheduler.step()\n",
        "    test(model, device, test_loader)"
      ]
    },
    {
      "cell_type": "code",
      "execution_count": null,
      "metadata": {
        "id": "szKfEHFrcHJ8",
        "colab": {
          "base_uri": "https://localhost:8080/",
          "height": 624
        },
        "outputId": "3777f875-cb1f-474c-8ef6-41ae85524ca3"
      },
      "outputs": [
        {
          "output_type": "execute_result",
          "data": {
            "text/plain": [
              "Text(0.5, 1.0, 'Test Accuracy')"
            ]
          },
          "metadata": {},
          "execution_count": 14
        },
        {
          "output_type": "display_data",
          "data": {
            "text/plain": [
              "<Figure size 1080x720 with 4 Axes>"
            ],
            "image/png": "[encoded data removed]"
          },
          "metadata": {
            "needs_background": "light"
          }
        }
      ],
      "source": [
        "fig, axs = plt.subplots(2,2,figsize=(15,10))\n",
        "trn_loss= [t.cpu().item() for t in train_losses]\n",
        "axs[0, 0].plot(trn_loss)\n",
        "axs[0, 0].set_title(\"Training Loss\")\n",
        "axs[1, 0].plot(train_acc[4000:])\n",
        "axs[1, 0].set_title(\"Training Accuracy\")\n",
        "axs[0, 1].plot(test_losses)\n",
        "axs[0, 1].set_title(\"Test Loss\")\n",
        "axs[1, 1].plot(test_acc)\n",
        "axs[1, 1].set_title(\"Test Accuracy\")"
      ]
    }
  ],
  "metadata": {
    "accelerator": "GPU",
    "colab": {
      "machine_shape": "hm",
      "provenance": []
    },
    "gpuClass": "premium",
    "kernelspec": {
      "display_name": "Python 3",
      "name": "python3"
    },
    "language_info": {
      "name": "python"
    }
  },
  "nbformat": 4,
  "nbformat_minor": 0
}