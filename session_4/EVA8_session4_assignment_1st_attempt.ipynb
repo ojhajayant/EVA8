{
  "cells": [
    {
      "cell_type": "markdown",
      "source": [
        "# Achieve 99.4% (must be consistently shown in last few epochs, and not a one-time achievement) in  less than or equal to 15 Epochs, with less than 10000 Parameters (additional credits for doing this in less than 8000 parameters) and do this in exactly 3 steps!"
      ],
      "metadata": {
        "id": "nwzbIhgQtxI3"
      }
    },
    {
      "cell_type": "markdown",
      "source": [
        "## First Attempt:"
      ],
      "metadata": {
        "id": "nNvB6BV4ubto"
      }
    },
    {
      "cell_type": "markdown",
      "source": [
        "###### Targets (1st attempt):\n",
        "- expect the max Validation Accuracy to reach at least: ~99.1% (i.e. 0.1s in the decimal places, as we are in this case starting out with both BatchNorm + DropOut included in the first baseline architecture)\n",
        "- The total params in all these attempts has to be under 10K.\n",
        "\n",
        "###### Results (1st attempt):\n",
        "- max Validation Accuracy reached: 99.14% \n",
        "- max Train Accuracy reached: 99.17%\n",
        "- Total params: 7,684\n",
        "\n",
        "##### Analysis (1st attempt):\n",
        "- Actually, for the given Network capacity & limited number of epochs,  with both BatchNorm & Dropout included, we are going good here.There isn't much overfitting, but without added image augmentation and/or learning rate tunings we can't hit the target on accuracy.Actually, under a limited scope of 15 epochs and comparing with what some addition of proper image augmenation and/or LR-tuning can do to the validation accuracy (in relation to the training accuracy), we can still call this a case of \"overfiting\".\n",
        "- But, we would now on, in next attempts like to see, how with added Image augmentation the NW-performance gets affected."
      ],
      "metadata": {
        "id": "GRZtfhWWtcKl"
      }
    },
    {
      "cell_type": "code",
      "execution_count": 1,
      "metadata": {
        "colab": {
          "base_uri": "https://localhost:8080/"
        },
        "id": "DIx_osINs8Ie",
        "outputId": "bd09aba6-2e3a-4678-ab16-9783d65d3eaf"
      },
      "outputs": [
        {
          "output_type": "stream",
          "name": "stdout",
          "text": [
            "Thu Jan 19 07:13:54 2023       \n",
            "+-----------------------------------------------------------------------------+\n",
            "| NVIDIA-SMI 460.32.03    Driver Version: 460.32.03    CUDA Version: 11.2     |\n",
            "|-------------------------------+----------------------+----------------------+\n",
            "| GPU  Name        Persistence-M| Bus-Id        Disp.A | Volatile Uncorr. ECC |\n",
            "| Fan  Temp  Perf  Pwr:Usage/Cap|         Memory-Usage | GPU-Util  Compute M. |\n",
            "|                               |                      |               MIG M. |\n",
            "|===============================+======================+======================|\n",
            "|   0  Tesla T4            Off  | 00000000:00:04.0 Off |                    0 |\n",
            "| N/A   46C    P0    25W /  70W |      0MiB / 15109MiB |      0%      Default |\n",
            "|                               |                      |                  N/A |\n",
            "+-------------------------------+----------------------+----------------------+\n",
            "                                                                               \n",
            "+-----------------------------------------------------------------------------+\n",
            "| Processes:                                                                  |\n",
            "|  GPU   GI   CI        PID   Type   Process name                  GPU Memory |\n",
            "|        ID   ID                                                   Usage      |\n",
            "|=============================================================================|\n",
            "|  No running processes found                                                 |\n",
            "+-----------------------------------------------------------------------------+\n"
          ]
        }
      ],
      "source": [
        "gpu_info = !nvidia-smi\n",
        "gpu_info = '\\n'.join(gpu_info)\n",
        "if gpu_info.find('failed') >= 0:\n",
        "  print('Not connected to a GPU')\n",
        "else:\n",
        "  print(gpu_info)"
      ]
    },
    {
      "cell_type": "markdown",
      "metadata": {
        "id": "ssUYpi_5fce_"
      },
      "source": [
        "#### Import Libraries"
      ]
    },
    {
      "cell_type": "code",
      "execution_count": 2,
      "metadata": {
        "id": "3s2u6-Pye8r0"
      },
      "outputs": [],
      "source": [
        "from __future__ import print_function\n",
        "import torch\n",
        "import torch.nn as nn\n",
        "import torch.nn.functional as F\n",
        "import torch.optim as optim\n",
        "from torchvision import datasets, transforms\n",
        "%matplotlib inline\n",
        "import matplotlib.pyplot as plt\n",
        "from torch.optim.lr_scheduler import StepLR"
      ]
    },
    {
      "cell_type": "markdown",
      "metadata": {
        "id": "hK4RAaa0CC96"
      },
      "source": [
        "### Transforms for the dataset"
      ]
    },
    {
      "cell_type": "markdown",
      "metadata": {
        "id": "cHw07ZGrgRV1"
      },
      "source": [
        "##### 1. get the mean and std value for the  train data "
      ]
    },
    {
      "cell_type": "code",
      "execution_count": 3,
      "metadata": {
        "colab": {
          "base_uri": "https://localhost:8080/",
          "height": 527,
          "referenced_widgets": [
            "1a2ff1275c334690abe528b7a76a94a0",
            "af68fedeb33a45f794f84b892eb8127f",
            "14dce78234a4430e83380ae4e1c1626b",
            "3517494884164355a51b6b59df0704e8",
            "e96f7747dc724f41be1006f391b988c0",
            "97d28bea45bf4e8dba0a8f2944029ecf",
            "ad05de41f3134087a59778bd7651bd94",
            "4f40be3cca4d48a3bda78a2a5faf594b",
            "94db25ed3c7d47a6974c032c52a551fa",
            "f1d5dd3b9235425bb0b9cf2090dc5715",
            "0daba92714fa4c158f84adc63ff37910",
            "d71178cc79394b6e8060928304a92484",
            "5e9a09a98bd544ac8abe82226e8f3f1e",
            "2322d633a1fa480e990fe5ba67f9b595",
            "c0306a8e554346d58c04292f16f43f69",
            "77ada99226f9493ba3d08637f5fd7000",
            "87acfcdbba054976bc30d2ca239a0408",
            "4630641de0ee432ba779fc41cb50d7bc",
            "be69316386f84c5ba9ebbd193057c836",
            "1e23d51206f640f3961358557ed8fe80",
            "d00600033edb451eaef24c5e42e3718e",
            "bbe832c6506a44d49bdb386c52cbf952",
            "3e29ead81aa9448889b9c8ffd2f4bcf1",
            "8a6ce1df794c4a55a81d415a4ff4a514",
            "6ccb53ddb579424fa710d6df08475a7b",
            "59ea40df953a48e9a0a5da71a19e6fa8",
            "c8073333fc3548e7b95643b36f7435b8",
            "650a704bd5294abea7581fd771a2a910",
            "277fb2815d7e4cc6bbf1f4573ac0afc1",
            "14035462ff204d09a17ef4088ef02f59",
            "830150af231e4a2d8520430eab3c90ad",
            "8fba1c27a5f744c49aaee19ce3e20983",
            "48601159980a4e80a2997eb5f30e2d7a",
            "9f926b0cb1fe4f7ab929530f54b7bea6",
            "a3c91442c94e410e89199d85d2a88923",
            "f935e0ee55614409b8876d3cd830a8e4",
            "90f7daaa120c440b95210491695d4325",
            "370ef1bf710341efbb659978af9155b4",
            "8d5a01e9085940dda4f2a278a6af9761",
            "9183437d168540c2bb21df9528055d75",
            "686313787ccc4987a99ca8b8d7b89996",
            "3e92604330134195b2a00530640caa91",
            "2c3008137f4e47e887f1c7ef045ab0fb",
            "ecdfae1e0a5f44b3a9b5797c62e09803"
          ]
        },
        "id": "vbZzV0HVAD9e",
        "outputId": "0f117378-e1cd-4123-e0f1-e17054e45eee"
      },
      "outputs": [
        {
          "output_type": "stream",
          "name": "stdout",
          "text": [
            "Downloading http://yann.lecun.com/exdb/mnist/train-images-idx3-ubyte.gz\n",
            "Downloading http://yann.lecun.com/exdb/mnist/train-images-idx3-ubyte.gz to ./data/MNIST/raw/train-images-idx3-ubyte.gz\n"
          ]
        },
        {
          "output_type": "display_data",
          "data": {
            "text/plain": [
              "  0%|          | 0/9912422 [00:00<?, ?it/s]"
            ],
            "application/vnd.jupyter.widget-view+json": {
              "version_major": 2,
              "version_minor": 0,
              "model_id": "1a2ff1275c334690abe528b7a76a94a0"
            }
          },
          "metadata": {}
        },
        {
          "output_type": "stream",
          "name": "stdout",
          "text": [
            "Extracting ./data/MNIST/raw/train-images-idx3-ubyte.gz to ./data/MNIST/raw\n",
            "\n",
            "Downloading http://yann.lecun.com/exdb/mnist/train-labels-idx1-ubyte.gz\n",
            "Downloading http://yann.lecun.com/exdb/mnist/train-labels-idx1-ubyte.gz to ./data/MNIST/raw/train-labels-idx1-ubyte.gz\n"
          ]
        },
        {
          "output_type": "display_data",
          "data": {
            "text/plain": [
              "  0%|          | 0/28881 [00:00<?, ?it/s]"
            ],
            "application/vnd.jupyter.widget-view+json": {
              "version_major": 2,
              "version_minor": 0,
              "model_id": "d71178cc79394b6e8060928304a92484"
            }
          },
          "metadata": {}
        },
        {
          "output_type": "stream",
          "name": "stdout",
          "text": [
            "Extracting ./data/MNIST/raw/train-labels-idx1-ubyte.gz to ./data/MNIST/raw\n",
            "\n",
            "Downloading http://yann.lecun.com/exdb/mnist/t10k-images-idx3-ubyte.gz\n",
            "Downloading http://yann.lecun.com/exdb/mnist/t10k-images-idx3-ubyte.gz to ./data/MNIST/raw/t10k-images-idx3-ubyte.gz\n"
          ]
        },
        {
          "output_type": "display_data",
          "data": {
            "text/plain": [
              "  0%|          | 0/1648877 [00:00<?, ?it/s]"
            ],
            "application/vnd.jupyter.widget-view+json": {
              "version_major": 2,
              "version_minor": 0,
              "model_id": "3e29ead81aa9448889b9c8ffd2f4bcf1"
            }
          },
          "metadata": {}
        },
        {
          "output_type": "stream",
          "name": "stdout",
          "text": [
            "Extracting ./data/MNIST/raw/t10k-images-idx3-ubyte.gz to ./data/MNIST/raw\n",
            "\n",
            "Downloading http://yann.lecun.com/exdb/mnist/t10k-labels-idx1-ubyte.gz\n",
            "Downloading http://yann.lecun.com/exdb/mnist/t10k-labels-idx1-ubyte.gz to ./data/MNIST/raw/t10k-labels-idx1-ubyte.gz\n"
          ]
        },
        {
          "output_type": "display_data",
          "data": {
            "text/plain": [
              "  0%|          | 0/4542 [00:00<?, ?it/s]"
            ],
            "application/vnd.jupyter.widget-view+json": {
              "version_major": 2,
              "version_minor": 0,
              "model_id": "9f926b0cb1fe4f7ab929530f54b7bea6"
            }
          },
          "metadata": {}
        },
        {
          "output_type": "stream",
          "name": "stdout",
          "text": [
            "Extracting ./data/MNIST/raw/t10k-labels-idx1-ubyte.gz to ./data/MNIST/raw\n",
            "\n",
            "\n",
            "[Train Dataset---mean and std-dev calculations:]\n",
            "  \tmin for the train-data tensor(0.)\n",
            "  \tmax for the train-data tensor(1.)\n",
            "  \tmean for the train-data 0.1307\n",
            "  \tstd for the train-data 0.3081\n"
          ]
        }
      ],
      "source": [
        "# create a simple transform for the dataset with just the\n",
        "# transforms.ToTensor() part.\n",
        "simple_transforms = transforms.Compose([\n",
        "    transforms.ToTensor()\n",
        "])\n",
        "# Now create a train_data_set object with only ToTensor as transform\n",
        "# interface (in non-academic, industrial-setups it is strongly\n",
        "# recommended to make use of as mucg data to get the mean/std-dev for\n",
        "# Normalization of data)\n",
        "train_set_for_mean_std = datasets.MNIST('./data', train=True, download=True,\n",
        "                                        transform=simple_transforms)\n",
        "# Get the \"ToTensor()-converted\", Tensor-format data: For the ToTensor()\n",
        "# transformed data (the *.data for this dataset is the raw format [0,255]\n",
        "# range data in Tensor format, but as the ToTensor() transform requires the\n",
        "# input data to be in ndarray or PIL image format, it needs to be converted\n",
        "# to ndarray format first, to get the \"transformed Tensor format data\"\n",
        "# in this case, the range for Tensor format data is [0,1]\n",
        "train_data_for_mean_std = train_set_for_mean_std.transform(\n",
        "    train_set_for_mean_std.data.numpy())\n",
        "print('\\n[Train Dataset---mean and std-dev calculations:]')\n",
        "print('  \\tmin for the train-data', torch.min(train_data_for_mean_std))\n",
        "print('  \\tmax for the train-data', torch.max(train_data_for_mean_std))\n",
        "print('  \\tmean for the train-data',\n",
        "      round(torch.mean(train_data_for_mean_std).item(), 4))\n",
        "print('  \\tstd for the train-data',\n",
        "      round(torch.std(train_data_for_mean_std).item(), 4))\n",
        "train_mean = torch.mean(train_data_for_mean_std).item()\n",
        "train_std = torch.std(train_data_for_mean_std).item()"
      ]
    },
    {
      "cell_type": "markdown",
      "metadata": {
        "id": "jOsBBauXCH7Q"
      },
      "source": [
        "##### 2. Test/Train transforms\n",
        "Here at this 1st attempt,  emphasis is on setting up & stabilizing the infrastructure, for overall training and inference,  while getting an architecture and structure for the neural network right. \n",
        "\n",
        "Hence at this stage not looking for any data-augmentation not any learning rate tuning as well.Therefore the train-transform just includes \"ToTensor & Normalization steps.And for the learning rate a fixed value lr=0.01 along with momentum=0.9 is used for this 1st attempt.\n",
        "\n",
        "But having said that, going ahead, will still have to give a closer look to data visualization for choosing on what kind of data-augmentation strategy might help."
      ]
    },
    {
      "cell_type": "code",
      "execution_count": 4,
      "metadata": {
        "id": "RVpGwi_KCYHE"
      },
      "outputs": [],
      "source": [
        "train_transforms = transforms.Compose([\n",
        "    transforms.ToTensor(),\n",
        "    transforms.Normalize((train_mean,), (train_std,))\n",
        "])\n",
        "test_transforms = transforms.Compose([\n",
        "    transforms.ToTensor(),\n",
        "    transforms.Normalize((train_mean,), (train_std,))\n",
        "])"
      ]
    },
    {
      "cell_type": "markdown",
      "metadata": {
        "id": "uPhWnf2RCrLZ"
      },
      "source": [
        "#### Dataset & creating train/test split"
      ]
    },
    {
      "cell_type": "code",
      "execution_count": 5,
      "metadata": {
        "id": "PM22YTY5CzmY"
      },
      "outputs": [],
      "source": [
        "train_set = datasets.MNIST('./data', train=True, download=True,\n",
        "                           transform=train_transforms)\n",
        "test_set = datasets.MNIST('./data', train=False, download=True,\n",
        "                              transform=test_transforms)"
      ]
    },
    {
      "cell_type": "markdown",
      "metadata": {
        "id": "PIX_DNSWC7qm"
      },
      "source": [
        " #### Dataloader arguments and train/test dataloaders"
      ]
    },
    {
      "cell_type": "code",
      "execution_count": 6,
      "metadata": {
        "colab": {
          "base_uri": "https://localhost:8080/"
        },
        "id": "5Ba7qTBTDHJZ",
        "outputId": "e232a58d-433d-4df4-bb6b-dbc370bb4769"
      },
      "outputs": [
        {
          "output_type": "stream",
          "name": "stdout",
          "text": [
            "Cuda is available? True\n"
          ]
        }
      ],
      "source": [
        "# For reproducibility\n",
        "SEED = 1\n",
        "cuda = torch.cuda.is_available()\n",
        "print(\"Cuda is available?\", cuda)\n",
        "torch.manual_seed(SEED)\n",
        "if cuda:\n",
        "    torch.cuda.manual_seed(SEED)\n",
        "# dataloader arguments\n",
        "dataloader_args = dict(shuffle=True, batch_size=128, num_workers=4,\n",
        "                           pin_memory=True) if cuda else dict(shuffle=True,\n",
        "                                                              batch_size=64)\n",
        "# train/test dataloaders\n",
        "train_loader = torch.utils.data.DataLoader(train_set, **dataloader_args)\n",
        "test_loader = torch.utils.data.DataLoader(test_set, **dataloader_args)"
      ]
    },
    {
      "cell_type": "markdown",
      "metadata": {
        "id": "2G9r_RCFDeEl"
      },
      "source": [
        "#### Data statistics (important to know about the data and stats around it)"
      ]
    },
    {
      "cell_type": "code",
      "execution_count": 7,
      "metadata": {
        "id": "rWhdIX0BgQW-",
        "colab": {
          "base_uri": "https://localhost:8080/",
          "height": 508
        },
        "outputId": "8faa20a7-a1f2-49d4-e2fc-25cd17aacb52"
      },
      "outputs": [
        {
          "output_type": "stream",
          "name": "stdout",
          "text": [
            "\n",
            "[Train]\n",
            "   \tNumpy-Shape: (60000, 28, 28)\n",
            "   \tTensor-Size: torch.Size([60000, 28, 28])\n",
            "   \tmin original raw tensor format data: tensor(0, dtype=torch.uint8)\n",
            "   \tmax original raw tensor format data: tensor(255, dtype=torch.uint8)\n",
            "   \tmin post-transforms(ToTensor + Normalize) tensor format data: tensor(-0.4241)\n",
            "   \tmax post-transforms (ToTensor + Normalize)  tensor format data: tensor(2.8215)\n",
            "   \tmean post-transforms(ToTensor + Normalize) value: -0.0\n",
            "   \tstd post-transforms (ToTensor + Normalize)  tensor format data: tensor(1.0000)\n",
            "   \tvar post-transforms (ToTensor + Normalize)  tensor format data: tensor(1.0000)\n",
            "   \tImage shape from the batch: torch.Size([128, 1, 28, 28])\n",
            "   \tLabel shape from the batch: torch.Size([128])\n"
          ]
        },
        {
          "output_type": "execute_result",
          "data": {
            "text/plain": [
              "<matplotlib.image.AxesImage at 0x7fb77ba38c10>"
            ]
          },
          "metadata": {},
          "execution_count": 7
        },
        {
          "output_type": "display_data",
          "data": {
            "text/plain": [
              "<Figure size 432x288 with 1 Axes>"
            ],
            "image/png": "[encoded data removed]"
          },
          "metadata": {
            "needs_background": "light"
          }
        }
      ],
      "source": [
        "train_data = train_set.transform(train_set.data.numpy())  # for applying\n",
        "# transforms like transforms.ToTensor(), the format should be\n",
        "# numpy-ndarray or PIL image.\n",
        "print('\\n[Train]')\n",
        "print('   \\tNumpy-Shape:', train_set.data.cpu().numpy().shape)\n",
        "print('   \\tTensor-Size:', train_set.data.size())\n",
        "print('   \\tmin original raw tensor format data:',\n",
        "      torch.min(train_set.data))\n",
        "print('   \\tmax original raw tensor format data:',\n",
        "      torch.max(train_set.data))\n",
        "print('   \\tmin post-transforms(ToTensor + Normalize) tensor format data:',\n",
        "      torch.min(train_data))\n",
        "print('   \\tmax post-transforms (ToTensor + Normalize)  tensor format data:'\n",
        "      ,          torch.max(train_data))\n",
        "print('   \\tmean post-transforms(ToTensor + Normalize) value:',\n",
        "      round(torch.mean(train_data).item(), 5))\n",
        "print('   \\tstd post-transforms (ToTensor + Normalize)  tensor format data:'\n",
        "      ,          torch.std(train_data))\n",
        "print('   \\tvar post-transforms (ToTensor + Normalize)  tensor format data:'\n",
        "      ,          torch.var(train_data))\n",
        "dataiter = iter(train_loader)\n",
        "images, labels = next(dataiter)\n",
        "print('   \\tImage shape from the batch:', images.shape)\n",
        "print('   \\tLabel shape from the batch:', labels.shape)\n",
        "plt.imshow(images[0].numpy().squeeze(), cmap='gray_r')"
      ]
    },
    {
      "cell_type": "markdown",
      "metadata": {
        "id": "RukkF73bDtp3"
      },
      "source": [
        "#### More data visualization (for image augmentation later on)"
      ]
    },
    {
      "cell_type": "code",
      "execution_count": 8,
      "metadata": {
        "id": "Did5q1k6DrK2",
        "colab": {
          "base_uri": "https://localhost:8080/",
          "height": 246
        },
        "outputId": "99673e8d-ce45-4743-dde1-f7f19682a254"
      },
      "outputs": [
        {
          "output_type": "display_data",
          "data": {
            "text/plain": [
              "<Figure size 432x288 with 60 Axes>"
            ],
            "image/png": "[encoded data removed]"
          },
          "metadata": {
            "needs_background": "light"
          }
        }
      ],
      "source": [
        "figure = plt.figure()\n",
        "num_of_images = 60\n",
        "for index in range(1, num_of_images + 1):\n",
        "    plt.subplot(6, 10, index)\n",
        "    plt.axis('off')\n",
        "    plt.imshow(images[index].numpy().squeeze(), cmap='gray_r')"
      ]
    },
    {
      "cell_type": "markdown",
      "metadata": {
        "id": "FLroV3rHbL4I"
      },
      "source": [
        "#### The Model"
      ]
    },
    {
      "cell_type": "markdown",
      "source": [
        "Priority here in the 1st attempt is fixing up the architecture and underlying elements, which can form the foundation on which to build upon.\n",
        "Hence, an architecture as shown in the table below is chosen as a \"baseline\" one.As while solving the earlier session assignment (and also as covered thoroughly in the last \"coding-drill-down\" session) two architectural components: BatchNorm & DropOut came out to be two important components to be applied on any Conv2d-layer (except the last one), hence for this session assignment, with very limited number of attempts to go thru (i.e. exactly 3 steps), starting out with inclusion of both these components under this 1st \"baseline\" neural network architecture (as mentioned before, the excercises on effects of gradual inclusion of both components on neural-net performance, was already undertaken while solving the earlier assignment, hence feel fair enough to start out the first attempt architecture, with both of them included under this new \"baseline\")\n",
        "\n",
        "Here is the layering, which is being used to achieve the receptive-field and parameter targets.\n",
        "\n",
        "Input Channels/Image  |  Conv2d/Transform      | Output Channels | RF\n",
        "---------------------|--------------|----------------------|----------------------\n",
        "`28x28x1`              | `(3x3x1)x10`   |      `26x26x10`  |      `3x3`  **INPUT BLOCK** [actually just one conv2d 3x3 layer(image-conv2d layer)]    \n",
        "` `              | `BN(10)`   |      ` `  |      ` `\n",
        "` `              | `Dropout(2.9%)`   |      ` `  |      ` `\n",
        "` `              | `ReLU`   |      ` `  |      ` ` \n",
        "`26x26x10`             | `(3x3x10)x10`  |      `24x24x10` |      `5x5`     **CONVOLUTION BLOCK 1** [1st conv2d 3x3 layer for this block ]\n",
        "` `              | `BN(10)`   |      ` `  |      ` `\n",
        "` `              | `Dropout(2.9%)`   |      ` `  |      ` `\n",
        "` `              | `ReLU`   |      ` `  |      ` ` \n",
        "`24x24x10`             | `(3x3x10)x15`  |      `22x22x15` |      `7x7`     **CONVOLUTION BLOCK 1** [2nd conv2d 3x3 layer for this block ]\n",
        "` `              | `BN(15)`   |      ` `  |      ` `\n",
        "` `              | `Dropout(2.9%)`   |      ` `  |      ` `\n",
        "` `              | `ReLU`   |      ` `  |      ` ` \n",
        "**22x22x15**             |   **MP(2x2)**    |     **11x11x15**   |     **8x8**  **TRANSITION BLOCK 1**  [1st maxpool(2,2) layer for this block]                     \n",
        "**11x11x15**             | **(1x1x15)x10**  |     **11x11x10**   |      **8x8**  **TRANSITION BLOCK 1**  [2nd 1 conv2d 1x1 layer for this block]  \n",
        "** **             | **BN(10)**   |     ** **  |     ** **                    \n",
        "** **             | **Dropout(2.9%)**   |     ** **  |     ** **\n",
        "** **             | **ReLU**   |     ** **  |     ** **      \n",
        "*11x11x10*             | *(3x3x10)x10*  |      *9x9x10* |      *12x12*  **CONVOLUTION BLOCK 2** [1st conv2d 3x3 layer for this block]\n",
        "** **            | *BN(10)*   |     * *   |     * * \n",
        "** **             | *Dropout(2.9%)*   |     * *   |     * * \n",
        "** **             | *ReLU*   |     ** **  |    ** **                       \n",
        "*9x9x10*             | *(3x3x10)x10*  |      *7x7x10* |      *16x16*  **CONVOLUTION BLOCK 2** [2nd conv2d 3x3 layer for this block] \n",
        "** **            | *BN(16)*   |     * *   |     * * \n",
        "** **             | *Dropout(2.9%)*   |     * *   |     * * \n",
        "** **             | *ReLU*   |     ** **  |    ** **    \n",
        "*7x7x10*               | *(3x3x10)x32*  |      *5x5x32*  |      *20x20*  **CONVOLUTION BLOCK 2** [3rd conv2d 3x3 layer for this block, this 32 number of output channels at this stage provides a CAPACITY BOOST for the overall network as explained ahead]  \n",
        "** **            | *BN(32)*   |     * *   |     * * \n",
        "** **             | *Dropout(2.9%)*   |     * *   |     * * \n",
        "** **             | *ReLU*   |     ** **  |    ** **   \n",
        "5x5x32               | GAP  LAYER (kernel_size=(5,5)   |      1x1x32          | `28x28` (20 + (5-1)x2 = 28) **OUTPUT BLOCK** [GAP layer]\n",
        "`1x1x32`               | `(1x1x32)x10`  |      `1x1x10`    |      `28x28` (28 + (1-1)x10 = 28) **OUTPUT BLOCK** [1 conv2d 1x1 layer]\n",
        "` `             | `log_SoftMax`   |     ` `  |     ` ` \n",
        "\n",
        " above has 4 \"components\":\n",
        " \n",
        " 1. **INPUT BLOCK:** One initial, \"Input Block\" at the begining, to convolve over the \"original image\"  channel(s), due to the opposing constraints of meeting an accuracy number with lesser parameters possible,\n",
        "    choosing  10 number of kernels for this 'separate' layer (which feeds in to the next \"CONVOLUTION BLOCK 1\",\n",
        "    explained below).This 1 initial layer & two following layers (under \"CONVOLUTION BLOCK 1\") provide receptive\n",
        "    field of 7x7 pixels(3->5->7) sufficient for the MNIST dataset's edges & gradient generation.No padding used.    \n",
        "\t\n",
        " 2. **CONVOLUTION BLOCK 1:** placed after the first \"Input Block\" layer, 2 layers of 3x3 conv2d operators, with 10 & 15 o/p channels at   each layer position respectively.Thus providing 15 channels at the output.No padding used.\n",
        "    \n",
        " 3. **TRANSITION BLOCK 1:** max-pool(k=2,s=2) and a-1x1-feature-merger kernel, following the 'CONVOLUTION BLOCK 1'.Provides 10 o/p channels.No padding used.\n",
        "    \n",
        " 4. **CONVOLUTION BLOCK 2:** These are 3 layers of 3x3 conv2d operators, with 10, 10, 32 o/p channels at  each layer position respectively.Here point to be noted, is the use of a \"capacity boosting\" number of o/p channels at the end. (reason explained in the next point below)\n",
        "  \n",
        " 5. **OUTPUT BLOCK:**: GAP layer followed by a 1x1 operator (which actually resembles a fully-connected(FC) layer in this case. A noteworthy point (which relates to the \"capacity\" element of the overall netowrk (NW)) is that the FC (the 1x1 conv2d behaviour here) will work better, in generating the final 10 \"class-features\" to be used by the log_softmax.If the inputs to it, have more \"features points\", i.e. for example if we do a 16->10 conversion, vs a 32->10 conversion, we can expect the 10 class-features (for softmax to decide)      generated by a 32->10 conversion will be more \"robust\" (as compared to say a 16->10 conversion)\n",
        "     Forunately, with an already \"frugal\" choice of numbers like 10, 15 etc, made for earlier layer (and also \"frugality\" in the total number of layers, which still provide an overall RF as 28, i.e. at least just equal to the original image/object size in this case), we can go ahead with choosing 32 here.\n",
        "\n",
        "Given below is the number of parameters thus obtained, which is well under 8k.\n",
        "\n",
        "#####======================= \n",
        "\n",
        "> Total params: 7,684\n",
        "\n",
        "> Trainable params: 7,684\n",
        "\n",
        "> Non-trainable params: 0\n",
        "#####--------------------------------------------------\n",
        "\n",
        "Also please note that out of all the other tested % ranges for dropout, it was found for this NW that 2.9% dropout worked best.\n"
      ],
      "metadata": {
        "id": "KChohHefg3gg"
      }
    },
    {
      "cell_type": "code",
      "source": [
        "dropout_value = 0.029\n",
        "class Net(nn.Module):\n",
        "    def __init__(self):\n",
        "        super(Net, self).__init__()\n",
        "\n",
        "        # INPUT \"BLOCK\" LAYER\n",
        "        self.convblock1 = nn.Sequential(\n",
        "            nn.Conv2d(in_channels=1, out_channels=10, kernel_size=(3, 3),\n",
        "                      padding=0, bias=False),\n",
        "            nn.BatchNorm2d(10),\n",
        "            nn.Dropout(dropout_value),\n",
        "            nn.ReLU()\n",
        "        )  # input_size = 28 output_size = 26 receptive_field = 3\n",
        "\n",
        "        # CONVOLUTION BLOCK 1\n",
        "        self.convblock2 = nn.Sequential(\n",
        "            nn.Conv2d(in_channels=10, out_channels=10, kernel_size=(3, 3),\n",
        "                      padding=0, bias=False),\n",
        "            nn.BatchNorm2d(10),\n",
        "            nn.Dropout(dropout_value),\n",
        "            nn.ReLU()\n",
        "        )  # input_size = 26 output_size = 24 receptive_field = 5\n",
        "        self.convblock3 = nn.Sequential(\n",
        "            nn.Conv2d(in_channels=10, out_channels=15, kernel_size=(3, 3),\n",
        "                      padding=0, bias=False),\n",
        "            nn.BatchNorm2d(15),\n",
        "            nn.Dropout(dropout_value),\n",
        "            nn.ReLU()\n",
        "        )  # input_size = 24 output_size = 22 receptive_field = 7\n",
        "\n",
        "        # TRANSITION BLOCK 1\n",
        "        self.pool1 = nn.MaxPool2d(2, 2)  # input_size = 22 output_size = 11\n",
        "        # receptive_field = 8\n",
        "        self.convblock4 = nn.Sequential(\n",
        "            nn.Conv2d(in_channels=15, out_channels=10, kernel_size=(1, 1),\n",
        "                      padding=0, bias=False),\n",
        "            nn.BatchNorm2d(10),\n",
        "            nn.Dropout(dropout_value),\n",
        "            nn.ReLU()\n",
        "        )  # input_size = 11 output_size = 11 receptive_field = 8\n",
        "\n",
        "        # CONVOLUTION BLOCK 2\n",
        "        self.convblock5 = nn.Sequential(\n",
        "            nn.Conv2d(in_channels=10, out_channels=10, kernel_size=(3, 3),\n",
        "                      padding=0, bias=False),\n",
        "            nn.BatchNorm2d(10),\n",
        "            nn.Dropout(dropout_value),\n",
        "            nn.ReLU()\n",
        "        )  # input_size = 11 output_size = 9 receptive_field = 12\n",
        "        self.convblock6 = nn.Sequential(\n",
        "            nn.Conv2d(in_channels=10, out_channels=10, kernel_size=(3, 3),\n",
        "                      padding=0, bias=False),\n",
        "            nn.BatchNorm2d(10),\n",
        "            nn.Dropout(dropout_value),\n",
        "            nn.ReLU()\n",
        "        )  # input_size = 9 output_size = 7 receptive_field = 16\n",
        "        self.convblock7 = nn.Sequential(\n",
        "            nn.Conv2d(in_channels=10, out_channels=32, kernel_size=(3, 3),\n",
        "                      padding=0, bias=False),\n",
        "            nn.BatchNorm2d(32),\n",
        "            nn.Dropout(dropout_value),\n",
        "            nn.ReLU()\n",
        "        )  # input_size = 7 output_size = 5 receptive_field = 20\n",
        "\n",
        "        # OUTPUT BLOCK\n",
        "        self.gap = nn.Sequential(\n",
        "            nn.AvgPool2d(kernel_size=5)\n",
        "        )  # input_size = 5 output_size = 1 receptive_field = 28\n",
        "\n",
        "        self.convblock8 = nn.Sequential(\n",
        "            nn.Conv2d(in_channels=32, out_channels=10, kernel_size=(1, 1),\n",
        "                      padding=0, bias=False),\n",
        "           # NO BatchNorm/DropOut/ReLU !\n",
        "        )  # input_size = 1 output_size = 1 receptive_field = 28\n",
        "\n",
        "    def forward(self, x):\n",
        "        # INPUT BLOCK LAYER\n",
        "        x = self.convblock1(x)\n",
        "\n",
        "        # CONVOLUTION BLOCK 1\n",
        "        x = self.convblock2(x)\n",
        "        x = self.convblock3(x)\n",
        "\n",
        "        # TRANSITION BLOCK 1\n",
        "        x = self.pool1(x)\n",
        "        x = self.convblock4(x)\n",
        "\n",
        "        # CONVOLUTION BLOCK 2\n",
        "        x = self.convblock5(x)\n",
        "        x = self.convblock6(x)\n",
        "        x = self.convblock7(x)\n",
        "\n",
        "        # OUTPUT BLOCK\n",
        "        x = self.gap(x)\n",
        "        x = self.convblock8(x)\n",
        "\n",
        "        x = x.view(-1, 10)\n",
        "        return F.log_softmax(x, dim=-1)"
      ],
      "metadata": {
        "id": "ds366m6Fghun"
      },
      "execution_count": 9,
      "outputs": []
    },
    {
      "cell_type": "markdown",
      "metadata": {
        "id": "YWEKaGyxbTbN"
      },
      "source": [
        "#### Model Params\n",
        "Can't emphasize on how important viewing Model Summary is. \n",
        "Unfortunately, there is no in-built model visualizer, so we have to take external help"
      ]
    },
    {
      "cell_type": "code",
      "execution_count": 10,
      "metadata": {
        "id": "vY6JrMkPbUG-",
        "colab": {
          "base_uri": "https://localhost:8080/"
        },
        "outputId": "e77990e2-b8d5-41e5-9a6e-2342b650e67f"
      },
      "outputs": [
        {
          "output_type": "stream",
          "name": "stdout",
          "text": [
            "cuda\n",
            "----------------------------------------------------------------\n",
            "        Layer (type)               Output Shape         Param #\n",
            "================================================================\n",
            "            Conv2d-1           [-1, 10, 26, 26]              90\n",
            "       BatchNorm2d-2           [-1, 10, 26, 26]              20\n",
            "           Dropout-3           [-1, 10, 26, 26]               0\n",
            "              ReLU-4           [-1, 10, 26, 26]               0\n",
            "            Conv2d-5           [-1, 10, 24, 24]             900\n",
            "       BatchNorm2d-6           [-1, 10, 24, 24]              20\n",
            "           Dropout-7           [-1, 10, 24, 24]               0\n",
            "              ReLU-8           [-1, 10, 24, 24]               0\n",
            "            Conv2d-9           [-1, 15, 22, 22]           1,350\n",
            "      BatchNorm2d-10           [-1, 15, 22, 22]              30\n",
            "          Dropout-11           [-1, 15, 22, 22]               0\n",
            "             ReLU-12           [-1, 15, 22, 22]               0\n",
            "        MaxPool2d-13           [-1, 15, 11, 11]               0\n",
            "           Conv2d-14           [-1, 10, 11, 11]             150\n",
            "      BatchNorm2d-15           [-1, 10, 11, 11]              20\n",
            "          Dropout-16           [-1, 10, 11, 11]               0\n",
            "             ReLU-17           [-1, 10, 11, 11]               0\n",
            "           Conv2d-18             [-1, 10, 9, 9]             900\n",
            "      BatchNorm2d-19             [-1, 10, 9, 9]              20\n",
            "          Dropout-20             [-1, 10, 9, 9]               0\n",
            "             ReLU-21             [-1, 10, 9, 9]               0\n",
            "           Conv2d-22             [-1, 10, 7, 7]             900\n",
            "      BatchNorm2d-23             [-1, 10, 7, 7]              20\n",
            "          Dropout-24             [-1, 10, 7, 7]               0\n",
            "             ReLU-25             [-1, 10, 7, 7]               0\n",
            "           Conv2d-26             [-1, 32, 5, 5]           2,880\n",
            "      BatchNorm2d-27             [-1, 32, 5, 5]              64\n",
            "          Dropout-28             [-1, 32, 5, 5]               0\n",
            "             ReLU-29             [-1, 32, 5, 5]               0\n",
            "        AvgPool2d-30             [-1, 32, 1, 1]               0\n",
            "           Conv2d-31             [-1, 10, 1, 1]             320\n",
            "================================================================\n",
            "Total params: 7,684\n",
            "Trainable params: 7,684\n",
            "Non-trainable params: 0\n",
            "----------------------------------------------------------------\n",
            "Input size (MB): 0.00\n",
            "Forward/backward pass size (MB): 0.72\n",
            "Params size (MB): 0.03\n",
            "Estimated Total Size (MB): 0.75\n",
            "----------------------------------------------------------------\n"
          ]
        }
      ],
      "source": [
        "#!pip install torchsummary\n",
        "from torchsummary import summary\n",
        "use_cuda = torch.cuda.is_available()\n",
        "device = torch.device(\"cuda\" if use_cuda else \"cpu\")\n",
        "print(device)\n",
        "model = Net().to(device)\n",
        "summary(model, input_size=(1, 28, 28))"
      ]
    },
    {
      "cell_type": "markdown",
      "metadata": {
        "id": "WCqqZ0qnba7_"
      },
      "source": [
        "#### Training and Testing\n",
        "\n",
        "Looking at logs can be boring, so we'll introduce **tqdm** progressbar to get cooler logs. \n",
        "\n",
        "Let's write train and test functions"
      ]
    },
    {
      "cell_type": "code",
      "execution_count": 11,
      "metadata": {
        "id": "BAVA52AcbbjG"
      },
      "outputs": [],
      "source": [
        "from tqdm import tqdm\n",
        "\n",
        "train_losses = []\n",
        "test_losses = []\n",
        "train_acc = []\n",
        "test_acc = []\n",
        "\n",
        "def train(model, device, train_loader, optimizer, epoch):\n",
        "    model.train()\n",
        "    pbar = tqdm(train_loader)\n",
        "    correct = 0\n",
        "    processed = 0\n",
        "    for batch_idx, (data, target) in enumerate(pbar):\n",
        "        # get samples\n",
        "        data, target = data.to(device), target.to(device)\n",
        "\n",
        "        # Init\n",
        "        optimizer.zero_grad()\n",
        "        # In PyTorch, we need to set the gradients to zero before starting to do\n",
        "        # backpropragation because PyTorch accumulates the gradients on\n",
        "        # subsequent backward passes.Because of this, when you start your\n",
        "        # training loop, ideally you should zero out the gradients so that you\n",
        "        # do the parameter update correctly.\n",
        "\n",
        "        # Predict\n",
        "        y_pred = model(data)\n",
        "\n",
        "        # Calculate loss\n",
        "        loss = F.nll_loss(y_pred, target)\n",
        "        train_losses.append(loss)\n",
        "\n",
        "        # Backpropagation\n",
        "        loss.backward()\n",
        "        optimizer.step()\n",
        "\n",
        "        # Update pbar-tqdm\n",
        "\n",
        "        pred = y_pred.argmax(dim=1, keepdim=True)  # get the index of the max\n",
        "        # log-probability\n",
        "        correct += pred.eq(target.view_as(pred)).sum().item()\n",
        "        processed += len(data)\n",
        "\n",
        "        pbar.set_description(\n",
        "            desc=f'Loss={loss.item()} Batch_id={batch_idx} Accuracy={100*correct/processed:0.2f}')\n",
        "        train_acc.append(100 * correct / processed)\n",
        "\n",
        "\n",
        "def test(model, device, test_loader):\n",
        "    model.eval()\n",
        "    test_loss = 0\n",
        "    correct = 0\n",
        "    with torch.no_grad():\n",
        "        for data, target in test_loader:\n",
        "            data, target = data.to(device), target.to(device)\n",
        "            output = model(data)\n",
        "            test_loss += F.nll_loss(output, target,\n",
        "                                    reduction='sum').item()  # sum up batch loss\n",
        "            pred = output.argmax(dim=1,\n",
        "                                 keepdim=True)  # get the index of the max\n",
        "            # log-probability\n",
        "            correct += pred.eq(target.view_as(pred)).sum().item()\n",
        "\n",
        "    test_loss /= len(test_loader.dataset)\n",
        "    test_losses.append(test_loss)\n",
        "\n",
        "    print(\n",
        "        '\\nTest set: Average loss: {:.4f}, Accuracy: {}/{} ({:.2f}%)\\n'.format(\n",
        "            test_loss, correct, len(test_loader.dataset),\n",
        "            100. * correct / len(test_loader.dataset)))\n",
        "\n",
        "    test_acc.append(100. * correct / len(test_loader.dataset))"
      ]
    },
    {
      "cell_type": "markdown",
      "metadata": {
        "id": "5DgWMHtybgVp"
      },
      "source": [
        "#### Let's Train and test our model"
      ]
    },
    {
      "cell_type": "code",
      "execution_count": 12,
      "metadata": {
        "id": "FSD3ULdHbi90",
        "colab": {
          "base_uri": "https://localhost:8080/"
        },
        "outputId": "2b2b4894-118e-45d7-ee0d-2286d7e9fce4"
      },
      "outputs": [
        {
          "output_type": "stream",
          "name": "stdout",
          "text": [
            "EPOCH: 0\n"
          ]
        },
        {
          "output_type": "stream",
          "name": "stderr",
          "text": [
            "Loss=0.11443916708230972 Batch_id=468 Accuracy=84.33: 100%|██████████| 469/469 [00:07<00:00, 59.77it/s]\n"
          ]
        },
        {
          "output_type": "stream",
          "name": "stdout",
          "text": [
            "\n",
            "Test set: Average loss: 0.1147, Accuracy: 9709/10000 (97.09%)\n",
            "\n",
            "EPOCH: 1\n"
          ]
        },
        {
          "output_type": "stream",
          "name": "stderr",
          "text": [
            "Loss=0.10074777156114578 Batch_id=468 Accuracy=97.52: 100%|██████████| 469/469 [00:08<00:00, 58.23it/s]\n"
          ]
        },
        {
          "output_type": "stream",
          "name": "stdout",
          "text": [
            "\n",
            "Test set: Average loss: 0.0656, Accuracy: 9827/10000 (98.27%)\n",
            "\n",
            "EPOCH: 2\n"
          ]
        },
        {
          "output_type": "stream",
          "name": "stderr",
          "text": [
            "Loss=0.036240216344594955 Batch_id=468 Accuracy=98.12: 100%|██████████| 469/469 [00:07<00:00, 63.36it/s]\n"
          ]
        },
        {
          "output_type": "stream",
          "name": "stdout",
          "text": [
            "\n",
            "Test set: Average loss: 0.0495, Accuracy: 9869/10000 (98.69%)\n",
            "\n",
            "EPOCH: 3\n"
          ]
        },
        {
          "output_type": "stream",
          "name": "stderr",
          "text": [
            "Loss=0.12629838287830353 Batch_id=468 Accuracy=98.39: 100%|██████████| 469/469 [00:07<00:00, 61.80it/s]\n"
          ]
        },
        {
          "output_type": "stream",
          "name": "stdout",
          "text": [
            "\n",
            "Test set: Average loss: 0.0425, Accuracy: 9872/10000 (98.72%)\n",
            "\n",
            "EPOCH: 4\n"
          ]
        },
        {
          "output_type": "stream",
          "name": "stderr",
          "text": [
            "Loss=0.01716504991054535 Batch_id=468 Accuracy=98.52: 100%|██████████| 469/469 [00:07<00:00, 60.15it/s]\n"
          ]
        },
        {
          "output_type": "stream",
          "name": "stdout",
          "text": [
            "\n",
            "Test set: Average loss: 0.0377, Accuracy: 9882/10000 (98.82%)\n",
            "\n",
            "EPOCH: 5\n"
          ]
        },
        {
          "output_type": "stream",
          "name": "stderr",
          "text": [
            "Loss=0.04669398069381714 Batch_id=468 Accuracy=98.67: 100%|██████████| 469/469 [00:07<00:00, 62.92it/s]\n"
          ]
        },
        {
          "output_type": "stream",
          "name": "stdout",
          "text": [
            "\n",
            "Test set: Average loss: 0.0336, Accuracy: 9890/10000 (98.90%)\n",
            "\n",
            "EPOCH: 6\n"
          ]
        },
        {
          "output_type": "stream",
          "name": "stderr",
          "text": [
            "Loss=0.014903072267770767 Batch_id=468 Accuracy=98.73: 100%|██████████| 469/469 [00:09<00:00, 50.68it/s]\n"
          ]
        },
        {
          "output_type": "stream",
          "name": "stdout",
          "text": [
            "\n",
            "Test set: Average loss: 0.0312, Accuracy: 9910/10000 (99.10%)\n",
            "\n",
            "EPOCH: 7\n"
          ]
        },
        {
          "output_type": "stream",
          "name": "stderr",
          "text": [
            "Loss=0.03739466890692711 Batch_id=468 Accuracy=98.83: 100%|██████████| 469/469 [00:08<00:00, 57.49it/s]\n"
          ]
        },
        {
          "output_type": "stream",
          "name": "stdout",
          "text": [
            "\n",
            "Test set: Average loss: 0.0309, Accuracy: 9907/10000 (99.07%)\n",
            "\n",
            "EPOCH: 8\n"
          ]
        },
        {
          "output_type": "stream",
          "name": "stderr",
          "text": [
            "Loss=0.05752876028418541 Batch_id=468 Accuracy=98.93: 100%|██████████| 469/469 [00:07<00:00, 62.09it/s]\n"
          ]
        },
        {
          "output_type": "stream",
          "name": "stdout",
          "text": [
            "\n",
            "Test set: Average loss: 0.0303, Accuracy: 9905/10000 (99.05%)\n",
            "\n",
            "EPOCH: 9\n"
          ]
        },
        {
          "output_type": "stream",
          "name": "stderr",
          "text": [
            "Loss=0.005272200796753168 Batch_id=468 Accuracy=98.96: 100%|██████████| 469/469 [00:07<00:00, 61.98it/s]\n"
          ]
        },
        {
          "output_type": "stream",
          "name": "stdout",
          "text": [
            "\n",
            "Test set: Average loss: 0.0309, Accuracy: 9904/10000 (99.04%)\n",
            "\n",
            "EPOCH: 10\n"
          ]
        },
        {
          "output_type": "stream",
          "name": "stderr",
          "text": [
            "Loss=0.03697732090950012 Batch_id=468 Accuracy=99.01: 100%|██████████| 469/469 [00:07<00:00, 62.63it/s]\n"
          ]
        },
        {
          "output_type": "stream",
          "name": "stdout",
          "text": [
            "\n",
            "Test set: Average loss: 0.0289, Accuracy: 9914/10000 (99.14%)\n",
            "\n",
            "EPOCH: 11\n"
          ]
        },
        {
          "output_type": "stream",
          "name": "stderr",
          "text": [
            "Loss=0.012846427969634533 Batch_id=468 Accuracy=99.08: 100%|██████████| 469/469 [00:07<00:00, 62.26it/s]\n"
          ]
        },
        {
          "output_type": "stream",
          "name": "stdout",
          "text": [
            "\n",
            "Test set: Average loss: 0.0273, Accuracy: 9910/10000 (99.10%)\n",
            "\n",
            "EPOCH: 12\n"
          ]
        },
        {
          "output_type": "stream",
          "name": "stderr",
          "text": [
            "Loss=0.04231451079249382 Batch_id=468 Accuracy=99.07: 100%|██████████| 469/469 [00:07<00:00, 62.91it/s]\n"
          ]
        },
        {
          "output_type": "stream",
          "name": "stdout",
          "text": [
            "\n",
            "Test set: Average loss: 0.0276, Accuracy: 9910/10000 (99.10%)\n",
            "\n",
            "EPOCH: 13\n"
          ]
        },
        {
          "output_type": "stream",
          "name": "stderr",
          "text": [
            "Loss=0.09124332666397095 Batch_id=468 Accuracy=99.11: 100%|██████████| 469/469 [00:08<00:00, 55.32it/s]\n"
          ]
        },
        {
          "output_type": "stream",
          "name": "stdout",
          "text": [
            "\n",
            "Test set: Average loss: 0.0259, Accuracy: 9911/10000 (99.11%)\n",
            "\n",
            "EPOCH: 14\n"
          ]
        },
        {
          "output_type": "stream",
          "name": "stderr",
          "text": [
            "Loss=0.019707709550857544 Batch_id=468 Accuracy=99.17: 100%|██████████| 469/469 [00:07<00:00, 59.15it/s]\n"
          ]
        },
        {
          "output_type": "stream",
          "name": "stdout",
          "text": [
            "\n",
            "Test set: Average loss: 0.0296, Accuracy: 9907/10000 (99.07%)\n",
            "\n"
          ]
        }
      ],
      "source": [
        "model =  Net().to(device)\n",
        "optimizer = optim.SGD(model.parameters(), lr=0.01, momentum=0.9)\n",
        "EPOCHS = 15\n",
        "for epoch in range(EPOCHS):\n",
        "    print(\"EPOCH:\", epoch)\n",
        "    train(model, device, train_loader, optimizer, epoch)\n",
        "    test(model, device, test_loader)"
      ]
    },
    {
      "cell_type": "code",
      "execution_count": 13,
      "metadata": {
        "id": "szKfEHFrcHJ8",
        "colab": {
          "base_uri": "https://localhost:8080/",
          "height": 624
        },
        "outputId": "3c398a74-ae6c-432e-c5f0-d609feb07c98"
      },
      "outputs": [
        {
          "output_type": "execute_result",
          "data": {
            "text/plain": [
              "Text(0.5, 1.0, 'Test Accuracy')"
            ]
          },
          "metadata": {},
          "execution_count": 13
        },
        {
          "output_type": "display_data",
          "data": {
            "text/plain": [
              "<Figure size 1080x720 with 4 Axes>"
            ],
            "image/png": "[encoded data removed]"
          },
          "metadata": {
            "needs_background": "light"
          }
        }
      ],
      "source": [
        "fig, axs = plt.subplots(2,2,figsize=(15,10))\n",
        "trn_loss= [t.cpu().item() for t in train_losses]\n",
        "axs[0, 0].plot(trn_loss)\n",
        "axs[0, 0].set_title(\"Training Loss\")\n",
        "axs[1, 0].plot(train_acc[4000:])\n",
        "axs[1, 0].set_title(\"Training Accuracy\")\n",
        "axs[0, 1].plot(test_losses)\n",
        "axs[0, 1].set_title(\"Test Loss\")\n",
        "axs[1, 1].plot(test_acc)\n",
        "axs[1, 1].set_title(\"Test Accuracy\")"
      ]
    },
    {
      "cell_type": "code",
      "source": [],
      "metadata": {
        "id": "GUMI43CJz5SB"
      },
      "execution_count": 13,
      "outputs": []
    }
  ],
  "metadata": {
    "accelerator": "GPU",
    "colab": {
      "machine_shape": "hm",
      "provenance": []
    },
    "gpuClass": "premium",
    "kernelspec": {
      "display_name": "Python 3",
      "name": "python3"
    },
    "language_info": {
      "name": "python"
    },
    "widgets": {
      "application/vnd.jupyter.widget-state+json": {
        "1a2ff1275c334690abe528b7a76a94a0": {
          "model_module": "@jupyter-widgets/controls",
          "model_name": "HBoxModel",
          "model_module_version": "1.5.0",
          "state": {
            "_dom_classes": [],
            "_model_module": "@jupyter-widgets/controls",
            "_model_module_version": "1.5.0",
            "_model_name": "HBoxModel",
            "_view_count": null,
            "_view_module": "@jupyter-widgets/controls",
            "_view_module_version": "1.5.0",
            "_view_name": "HBoxView",
            "box_style": "",
            "children": [
              "IPY_MODEL_af68fedeb33a45f794f84b892eb8127f",
              "IPY_MODEL_14dce78234a4430e83380ae4e1c1626b",
              "IPY_MODEL_3517494884164355a51b6b59df0704e8"
            ],
            "layout": "IPY_MODEL_e96f7747dc724f41be1006f391b988c0"
          }
        },
        "af68fedeb33a45f794f84b892eb8127f": {
          "model_module": "@jupyter-widgets/controls",
          "model_name": "HTMLModel",
          "model_module_version": "1.5.0",
          "state": {
            "_dom_classes": [],
            "_model_module": "@jupyter-widgets/controls",
            "_model_module_version": "1.5.0",
            "_model_name": "HTMLModel",
            "_view_count": null,
            "_view_module": "@jupyter-widgets/controls",
            "_view_module_version": "1.5.0",
            "_view_name": "HTMLView",
            "description": "",
            "description_tooltip": null,
            "layout": "IPY_MODEL_97d28bea45bf4e8dba0a8f2944029ecf",
            "placeholder": "​",
            "style": "IPY_MODEL_ad05de41f3134087a59778bd7651bd94",
            "value": "100%"
          }
        },
        "14dce78234a4430e83380ae4e1c1626b": {
          "model_module": "@jupyter-widgets/controls",
          "model_name": "FloatProgressModel",
          "model_module_version": "1.5.0",
          "state": {
            "_dom_classes": [],
            "_model_module": "@jupyter-widgets/controls",
            "_model_module_version": "1.5.0",
            "_model_name": "FloatProgressModel",
            "_view_count": null,
            "_view_module": "@jupyter-widgets/controls",
            "_view_module_version": "1.5.0",
            "_view_name": "ProgressView",
            "bar_style": "success",
            "description": "",
            "description_tooltip": null,
            "layout": "IPY_MODEL_4f40be3cca4d48a3bda78a2a5faf594b",
            "max": 9912422,
            "min": 0,
            "orientation": "horizontal",
            "style": "IPY_MODEL_94db25ed3c7d47a6974c032c52a551fa",
            "value": 9912422
          }
        },
        "3517494884164355a51b6b59df0704e8": {
          "model_module": "@jupyter-widgets/controls",
          "model_name": "HTMLModel",
          "model_module_version": "1.5.0",
          "state": {
            "_dom_classes": [],
            "_model_module": "@jupyter-widgets/controls",
            "_model_module_version": "1.5.0",
            "_model_name": "HTMLModel",
            "_view_count": null,
            "_view_module": "@jupyter-widgets/controls",
            "_view_module_version": "1.5.0",
            "_view_name": "HTMLView",
            "description": "",
            "description_tooltip": null,
            "layout": "IPY_MODEL_f1d5dd3b9235425bb0b9cf2090dc5715",
            "placeholder": "​",
            "style": "IPY_MODEL_0daba92714fa4c158f84adc63ff37910",
            "value": " 9912422/9912422 [00:00&lt;00:00, 127112916.05it/s]"
          }
        },
        "e96f7747dc724f41be1006f391b988c0": {
          "model_module": "@jupyter-widgets/base",
          "model_name": "LayoutModel",
          "model_module_version": "1.2.0",
          "state": {
            "_model_module": "@jupyter-widgets/base",
            "_model_module_version": "1.2.0",
            "_model_name": "LayoutModel",
            "_view_count": null,
            "_view_module": "@jupyter-widgets/base",
            "_view_module_version": "1.2.0",
            "_view_name": "LayoutView",
            "align_content": null,
            "align_items": null,
            "align_self": null,
            "border": null,
            "bottom": null,
            "display": null,
            "flex": null,
            "flex_flow": null,
            "grid_area": null,
            "grid_auto_columns": null,
            "grid_auto_flow": null,
            "grid_auto_rows": null,
            "grid_column": null,
            "grid_gap": null,
            "grid_row": null,
            "grid_template_areas": null,
            "grid_template_columns": null,
            "grid_template_rows": null,
            "height": null,
            "justify_content": null,
            "justify_items": null,
            "left": null,
            "margin": null,
            "max_height": null,
            "max_width": null,
            "min_height": null,
            "min_width": null,
            "object_fit": null,
            "object_position": null,
            "order": null,
            "overflow": null,
            "overflow_x": null,
            "overflow_y": null,
            "padding": null,
            "right": null,
            "top": null,
            "visibility": null,
            "width": null
          }
        },
        "97d28bea45bf4e8dba0a8f2944029ecf": {
          "model_module": "@jupyter-widgets/base",
          "model_name": "LayoutModel",
          "model_module_version": "1.2.0",
          "state": {
            "_model_module": "@jupyter-widgets/base",
            "_model_module_version": "1.2.0",
            "_model_name": "LayoutModel",
            "_view_count": null,
            "_view_module": "@jupyter-widgets/base",
            "_view_module_version": "1.2.0",
            "_view_name": "LayoutView",
            "align_content": null,
            "align_items": null,
            "align_self": null,
            "border": null,
            "bottom": null,
            "display": null,
            "flex": null,
            "flex_flow": null,
            "grid_area": null,
            "grid_auto_columns": null,
            "grid_auto_flow": null,
            "grid_auto_rows": null,
            "grid_column": null,
            "grid_gap": null,
            "grid_row": null,
            "grid_template_areas": null,
            "grid_template_columns": null,
            "grid_template_rows": null,
            "height": null,
            "justify_content": null,
            "justify_items": null,
            "left": null,
            "margin": null,
            "max_height": null,
            "max_width": null,
            "min_height": null,
            "min_width": null,
            "object_fit": null,
            "object_position": null,
            "order": null,
            "overflow": null,
            "overflow_x": null,
            "overflow_y": null,
            "padding": null,
            "right": null,
            "top": null,
            "visibility": null,
            "width": null
          }
        },
        "ad05de41f3134087a59778bd7651bd94": {
          "model_module": "@jupyter-widgets/controls",
          "model_name": "DescriptionStyleModel",
          "model_module_version": "1.5.0",
          "state": {
            "_model_module": "@jupyter-widgets/controls",
            "_model_module_version": "1.5.0",
            "_model_name": "DescriptionStyleModel",
            "_view_count": null,
            "_view_module": "@jupyter-widgets/base",
            "_view_module_version": "1.2.0",
            "_view_name": "StyleView",
            "description_width": ""
          }
        },
        "4f40be3cca4d48a3bda78a2a5faf594b": {
          "model_module": "@jupyter-widgets/base",
          "model_name": "LayoutModel",
          "model_module_version": "1.2.0",
          "state": {
            "_model_module": "@jupyter-widgets/base",
            "_model_module_version": "1.2.0",
            "_model_name": "LayoutModel",
            "_view_count": null,
            "_view_module": "@jupyter-widgets/base",
            "_view_module_version": "1.2.0",
            "_view_name": "LayoutView",
            "align_content": null,
            "align_items": null,
            "align_self": null,
            "border": null,
            "bottom": null,
            "display": null,
            "flex": null,
            "flex_flow": null,
            "grid_area": null,
            "grid_auto_columns": null,
            "grid_auto_flow": null,
            "grid_auto_rows": null,
            "grid_column": null,
            "grid_gap": null,
            "grid_row": null,
            "grid_template_areas": null,
            "grid_template_columns": null,
            "grid_template_rows": null,
            "height": null,
            "justify_content": null,
            "justify_items": null,
            "left": null,
            "margin": null,
            "max_height": null,
            "max_width": null,
            "min_height": null,
            "min_width": null,
            "object_fit": null,
            "object_position": null,
            "order": null,
            "overflow": null,
            "overflow_x": null,
            "overflow_y": null,
            "padding": null,
            "right": null,
            "top": null,
            "visibility": null,
            "width": null
          }
        },
        "94db25ed3c7d47a6974c032c52a551fa": {
          "model_module": "@jupyter-widgets/controls",
          "model_name": "ProgressStyleModel",
          "model_module_version": "1.5.0",
          "state": {
            "_model_module": "@jupyter-widgets/controls",
            "_model_module_version": "1.5.0",
            "_model_name": "ProgressStyleModel",
            "_view_count": null,
            "_view_module": "@jupyter-widgets/base",
            "_view_module_version": "1.2.0",
            "_view_name": "StyleView",
            "bar_color": null,
            "description_width": ""
          }
        },
        "f1d5dd3b9235425bb0b9cf2090dc5715": {
          "model_module": "@jupyter-widgets/base",
          "model_name": "LayoutModel",
          "model_module_version": "1.2.0",
          "state": {
            "_model_module": "@jupyter-widgets/base",
            "_model_module_version": "1.2.0",
            "_model_name": "LayoutModel",
            "_view_count": null,
            "_view_module": "@jupyter-widgets/base",
            "_view_module_version": "1.2.0",
            "_view_name": "LayoutView",
            "align_content": null,
            "align_items": null,
            "align_self": null,
            "border": null,
            "bottom": null,
            "display": null,
            "flex": null,
            "flex_flow": null,
            "grid_area": null,
            "grid_auto_columns": null,
            "grid_auto_flow": null,
            "grid_auto_rows": null,
            "grid_column": null,
            "grid_gap": null,
            "grid_row": null,
            "grid_template_areas": null,
            "grid_template_columns": null,
            "grid_template_rows": null,
            "height": null,
            "justify_content": null,
            "justify_items": null,
            "left": null,
            "margin": null,
            "max_height": null,
            "max_width": null,
            "min_height": null,
            "min_width": null,
            "object_fit": null,
            "object_position": null,
            "order": null,
            "overflow": null,
            "overflow_x": null,
            "overflow_y": null,
            "padding": null,
            "right": null,
            "top": null,
            "visibility": null,
            "width": null
          }
        },
        "0daba92714fa4c158f84adc63ff37910": {
          "model_module": "@jupyter-widgets/controls",
          "model_name": "DescriptionStyleModel",
          "model_module_version": "1.5.0",
          "state": {
            "_model_module": "@jupyter-widgets/controls",
            "_model_module_version": "1.5.0",
            "_model_name": "DescriptionStyleModel",
            "_view_count": null,
            "_view_module": "@jupyter-widgets/base",
            "_view_module_version": "1.2.0",
            "_view_name": "StyleView",
            "description_width": ""
          }
        },
        "d71178cc79394b6e8060928304a92484": {
          "model_module": "@jupyter-widgets/controls",
          "model_name": "HBoxModel",
          "model_module_version": "1.5.0",
          "state": {
            "_dom_classes": [],
            "_model_module": "@jupyter-widgets/controls",
            "_model_module_version": "1.5.0",
            "_model_name": "HBoxModel",
            "_view_count": null,
            "_view_module": "@jupyter-widgets/controls",
            "_view_module_version": "1.5.0",
            "_view_name": "HBoxView",
            "box_style": "",
            "children": [
              "IPY_MODEL_5e9a09a98bd544ac8abe82226e8f3f1e",
              "IPY_MODEL_2322d633a1fa480e990fe5ba67f9b595",
              "IPY_MODEL_c0306a8e554346d58c04292f16f43f69"
            ],
            "layout": "IPY_MODEL_77ada99226f9493ba3d08637f5fd7000"
          }
        },
        "5e9a09a98bd544ac8abe82226e8f3f1e": {
          "model_module": "@jupyter-widgets/controls",
          "model_name": "HTMLModel",
          "model_module_version": "1.5.0",
          "state": {
            "_dom_classes": [],
            "_model_module": "@jupyter-widgets/controls",
            "_model_module_version": "1.5.0",
            "_model_name": "HTMLModel",
            "_view_count": null,
            "_view_module": "@jupyter-widgets/controls",
            "_view_module_version": "1.5.0",
            "_view_name": "HTMLView",
            "description": "",
            "description_tooltip": null,
            "layout": "IPY_MODEL_87acfcdbba054976bc30d2ca239a0408",
            "placeholder": "​",
            "style": "IPY_MODEL_4630641de0ee432ba779fc41cb50d7bc",
            "value": "100%"
          }
        },
        "2322d633a1fa480e990fe5ba67f9b595": {
          "model_module": "@jupyter-widgets/controls",
          "model_name": "FloatProgressModel",
          "model_module_version": "1.5.0",
          "state": {
            "_dom_classes": [],
            "_model_module": "@jupyter-widgets/controls",
            "_model_module_version": "1.5.0",
            "_model_name": "FloatProgressModel",
            "_view_count": null,
            "_view_module": "@jupyter-widgets/controls",
            "_view_module_version": "1.5.0",
            "_view_name": "ProgressView",
            "bar_style": "success",
            "description": "",
            "description_tooltip": null,
            "layout": "IPY_MODEL_be69316386f84c5ba9ebbd193057c836",
            "max": 28881,
            "min": 0,
            "orientation": "horizontal",
            "style": "IPY_MODEL_1e23d51206f640f3961358557ed8fe80",
            "value": 28881
          }
        },
        "c0306a8e554346d58c04292f16f43f69": {
          "model_module": "@jupyter-widgets/controls",
          "model_name": "HTMLModel",
          "model_module_version": "1.5.0",
          "state": {
            "_dom_classes": [],
            "_model_module": "@jupyter-widgets/controls",
            "_model_module_version": "1.5.0",
            "_model_name": "HTMLModel",
            "_view_count": null,
            "_view_module": "@jupyter-widgets/controls",
            "_view_module_version": "1.5.0",
            "_view_name": "HTMLView",
            "description": "",
            "description_tooltip": null,
            "layout": "IPY_MODEL_d00600033edb451eaef24c5e42e3718e",
            "placeholder": "​",
            "style": "IPY_MODEL_bbe832c6506a44d49bdb386c52cbf952",
            "value": " 28881/28881 [00:00&lt;00:00, 2143008.42it/s]"
          }
        },
        "77ada99226f9493ba3d08637f5fd7000": {
          "model_module": "@jupyter-widgets/base",
          "model_name": "LayoutModel",
          "model_module_version": "1.2.0",
          "state": {
            "_model_module": "@jupyter-widgets/base",
            "_model_module_version": "1.2.0",
            "_model_name": "LayoutModel",
            "_view_count": null,
            "_view_module": "@jupyter-widgets/base",
            "_view_module_version": "1.2.0",
            "_view_name": "LayoutView",
            "align_content": null,
            "align_items": null,
            "align_self": null,
            "border": null,
            "bottom": null,
            "display": null,
            "flex": null,
            "flex_flow": null,
            "grid_area": null,
            "grid_auto_columns": null,
            "grid_auto_flow": null,
            "grid_auto_rows": null,
            "grid_column": null,
            "grid_gap": null,
            "grid_row": null,
            "grid_template_areas": null,
            "grid_template_columns": null,
            "grid_template_rows": null,
            "height": null,
            "justify_content": null,
            "justify_items": null,
            "left": null,
            "margin": null,
            "max_height": null,
            "max_width": null,
            "min_height": null,
            "min_width": null,
            "object_fit": null,
            "object_position": null,
            "order": null,
            "overflow": null,
            "overflow_x": null,
            "overflow_y": null,
            "padding": null,
            "right": null,
            "top": null,
            "visibility": null,
            "width": null
          }
        },
        "87acfcdbba054976bc30d2ca239a0408": {
          "model_module": "@jupyter-widgets/base",
          "model_name": "LayoutModel",
          "model_module_version": "1.2.0",
          "state": {
            "_model_module": "@jupyter-widgets/base",
            "_model_module_version": "1.2.0",
            "_model_name": "LayoutModel",
            "_view_count": null,
            "_view_module": "@jupyter-widgets/base",
            "_view_module_version": "1.2.0",
            "_view_name": "LayoutView",
            "align_content": null,
            "align_items": null,
            "align_self": null,
            "border": null,
            "bottom": null,
            "display": null,
            "flex": null,
            "flex_flow": null,
            "grid_area": null,
            "grid_auto_columns": null,
            "grid_auto_flow": null,
            "grid_auto_rows": null,
            "grid_column": null,
            "grid_gap": null,
            "grid_row": null,
            "grid_template_areas": null,
            "grid_template_columns": null,
            "grid_template_rows": null,
            "height": null,
            "justify_content": null,
            "justify_items": null,
            "left": null,
            "margin": null,
            "max_height": null,
            "max_width": null,
            "min_height": null,
            "min_width": null,
            "object_fit": null,
            "object_position": null,
            "order": null,
            "overflow": null,
            "overflow_x": null,
            "overflow_y": null,
            "padding": null,
            "right": null,
            "top": null,
            "visibility": null,
            "width": null
          }
        },
        "4630641de0ee432ba779fc41cb50d7bc": {
          "model_module": "@jupyter-widgets/controls",
          "model_name": "DescriptionStyleModel",
          "model_module_version": "1.5.0",
          "state": {
            "_model_module": "@jupyter-widgets/controls",
            "_model_module_version": "1.5.0",
            "_model_name": "DescriptionStyleModel",
            "_view_count": null,
            "_view_module": "@jupyter-widgets/base",
            "_view_module_version": "1.2.0",
            "_view_name": "StyleView",
            "description_width": ""
          }
        },
        "be69316386f84c5ba9ebbd193057c836": {
          "model_module": "@jupyter-widgets/base",
          "model_name": "LayoutModel",
          "model_module_version": "1.2.0",
          "state": {
            "_model_module": "@jupyter-widgets/base",
            "_model_module_version": "1.2.0",
            "_model_name": "LayoutModel",
            "_view_count": null,
            "_view_module": "@jupyter-widgets/base",
            "_view_module_version": "1.2.0",
            "_view_name": "LayoutView",
            "align_content": null,
            "align_items": null,
            "align_self": null,
            "border": null,
            "bottom": null,
            "display": null,
            "flex": null,
            "flex_flow": null,
            "grid_area": null,
            "grid_auto_columns": null,
            "grid_auto_flow": null,
            "grid_auto_rows": null,
            "grid_column": null,
            "grid_gap": null,
            "grid_row": null,
            "grid_template_areas": null,
            "grid_template_columns": null,
            "grid_template_rows": null,
            "height": null,
            "justify_content": null,
            "justify_items": null,
            "left": null,
            "margin": null,
            "max_height": null,
            "max_width": null,
            "min_height": null,
            "min_width": null,
            "object_fit": null,
            "object_position": null,
            "order": null,
            "overflow": null,
            "overflow_x": null,
            "overflow_y": null,
            "padding": null,
            "right": null,
            "top": null,
            "visibility": null,
            "width": null
          }
        },
        "1e23d51206f640f3961358557ed8fe80": {
          "model_module": "@jupyter-widgets/controls",
          "model_name": "ProgressStyleModel",
          "model_module_version": "1.5.0",
          "state": {
            "_model_module": "@jupyter-widgets/controls",
            "_model_module_version": "1.5.0",
            "_model_name": "ProgressStyleModel",
            "_view_count": null,
            "_view_module": "@jupyter-widgets/base",
            "_view_module_version": "1.2.0",
            "_view_name": "StyleView",
            "bar_color": null,
            "description_width": ""
          }
        },
        "d00600033edb451eaef24c5e42e3718e": {
          "model_module": "@jupyter-widgets/base",
          "model_name": "LayoutModel",
          "model_module_version": "1.2.0",
          "state": {
            "_model_module": "@jupyter-widgets/base",
            "_model_module_version": "1.2.0",
            "_model_name": "LayoutModel",
            "_view_count": null,
            "_view_module": "@jupyter-widgets/base",
            "_view_module_version": "1.2.0",
            "_view_name": "LayoutView",
            "align_content": null,
            "align_items": null,
            "align_self": null,
            "border": null,
            "bottom": null,
            "display": null,
            "flex": null,
            "flex_flow": null,
            "grid_area": null,
            "grid_auto_columns": null,
            "grid_auto_flow": null,
            "grid_auto_rows": null,
            "grid_column": null,
            "grid_gap": null,
            "grid_row": null,
            "grid_template_areas": null,
            "grid_template_columns": null,
            "grid_template_rows": null,
            "height": null,
            "justify_content": null,
            "justify_items": null,
            "left": null,
            "margin": null,
            "max_height": null,
            "max_width": null,
            "min_height": null,
            "min_width": null,
            "object_fit": null,
            "object_position": null,
            "order": null,
            "overflow": null,
            "overflow_x": null,
            "overflow_y": null,
            "padding": null,
            "right": null,
            "top": null,
            "visibility": null,
            "width": null
          }
        },
        "bbe832c6506a44d49bdb386c52cbf952": {
          "model_module": "@jupyter-widgets/controls",
          "model_name": "DescriptionStyleModel",
          "model_module_version": "1.5.0",
          "state": {
            "_model_module": "@jupyter-widgets/controls",
            "_model_module_version": "1.5.0",
            "_model_name": "DescriptionStyleModel",
            "_view_count": null,
            "_view_module": "@jupyter-widgets/base",
            "_view_module_version": "1.2.0",
            "_view_name": "StyleView",
            "description_width": ""
          }
        },
        "3e29ead81aa9448889b9c8ffd2f4bcf1": {
          "model_module": "@jupyter-widgets/controls",
          "model_name": "HBoxModel",
          "model_module_version": "1.5.0",
          "state": {
            "_dom_classes": [],
            "_model_module": "@jupyter-widgets/controls",
            "_model_module_version": "1.5.0",
            "_model_name": "HBoxModel",
            "_view_count": null,
            "_view_module": "@jupyter-widgets/controls",
            "_view_module_version": "1.5.0",
            "_view_name": "HBoxView",
            "box_style": "",
            "children": [
              "IPY_MODEL_8a6ce1df794c4a55a81d415a4ff4a514",
              "IPY_MODEL_6ccb53ddb579424fa710d6df08475a7b",
              "IPY_MODEL_59ea40df953a48e9a0a5da71a19e6fa8"
            ],
            "layout": "IPY_MODEL_c8073333fc3548e7b95643b36f7435b8"
          }
        },
        "8a6ce1df794c4a55a81d415a4ff4a514": {
          "model_module": "@jupyter-widgets/controls",
          "model_name": "HTMLModel",
          "model_module_version": "1.5.0",
          "state": {
            "_dom_classes": [],
            "_model_module": "@jupyter-widgets/controls",
            "_model_module_version": "1.5.0",
            "_model_name": "HTMLModel",
            "_view_count": null,
            "_view_module": "@jupyter-widgets/controls",
            "_view_module_version": "1.5.0",
            "_view_name": "HTMLView",
            "description": "",
            "description_tooltip": null,
            "layout": "IPY_MODEL_650a704bd5294abea7581fd771a2a910",
            "placeholder": "​",
            "style": "IPY_MODEL_277fb2815d7e4cc6bbf1f4573ac0afc1",
            "value": "100%"
          }
        },
        "6ccb53ddb579424fa710d6df08475a7b": {
          "model_module": "@jupyter-widgets/controls",
          "model_name": "FloatProgressModel",
          "model_module_version": "1.5.0",
          "state": {
            "_dom_classes": [],
            "_model_module": "@jupyter-widgets/controls",
            "_model_module_version": "1.5.0",
            "_model_name": "FloatProgressModel",
            "_view_count": null,
            "_view_module": "@jupyter-widgets/controls",
            "_view_module_version": "1.5.0",
            "_view_name": "ProgressView",
            "bar_style": "success",
            "description": "",
            "description_tooltip": null,
            "layout": "IPY_MODEL_14035462ff204d09a17ef4088ef02f59",
            "max": 1648877,
            "min": 0,
            "orientation": "horizontal",
            "style": "IPY_MODEL_830150af231e4a2d8520430eab3c90ad",
            "value": 1648877
          }
        },
        "59ea40df953a48e9a0a5da71a19e6fa8": {
          "model_module": "@jupyter-widgets/controls",
          "model_name": "HTMLModel",
          "model_module_version": "1.5.0",
          "state": {
            "_dom_classes": [],
            "_model_module": "@jupyter-widgets/controls",
            "_model_module_version": "1.5.0",
            "_model_name": "HTMLModel",
            "_view_count": null,
            "_view_module": "@jupyter-widgets/controls",
            "_view_module_version": "1.5.0",
            "_view_name": "HTMLView",
            "description": "",
            "description_tooltip": null,
            "layout": "IPY_MODEL_8fba1c27a5f744c49aaee19ce3e20983",
            "placeholder": "​",
            "style": "IPY_MODEL_48601159980a4e80a2997eb5f30e2d7a",
            "value": " 1648877/1648877 [00:00&lt;00:00, 64616382.29it/s]"
          }
        },
        "c8073333fc3548e7b95643b36f7435b8": {
          "model_module": "@jupyter-widgets/base",
          "model_name": "LayoutModel",
          "model_module_version": "1.2.0",
          "state": {
            "_model_module": "@jupyter-widgets/base",
            "_model_module_version": "1.2.0",
            "_model_name": "LayoutModel",
            "_view_count": null,
            "_view_module": "@jupyter-widgets/base",
            "_view_module_version": "1.2.0",
            "_view_name": "LayoutView",
            "align_content": null,
            "align_items": null,
            "align_self": null,
            "border": null,
            "bottom": null,
            "display": null,
            "flex": null,
            "flex_flow": null,
            "grid_area": null,
            "grid_auto_columns": null,
            "grid_auto_flow": null,
            "grid_auto_rows": null,
            "grid_column": null,
            "grid_gap": null,
            "grid_row": null,
            "grid_template_areas": null,
            "grid_template_columns": null,
            "grid_template_rows": null,
            "height": null,
            "justify_content": null,
            "justify_items": null,
            "left": null,
            "margin": null,
            "max_height": null,
            "max_width": null,
            "min_height": null,
            "min_width": null,
            "object_fit": null,
            "object_position": null,
            "order": null,
            "overflow": null,
            "overflow_x": null,
            "overflow_y": null,
            "padding": null,
            "right": null,
            "top": null,
            "visibility": null,
            "width": null
          }
        },
        "650a704bd5294abea7581fd771a2a910": {
          "model_module": "@jupyter-widgets/base",
          "model_name": "LayoutModel",
          "model_module_version": "1.2.0",
          "state": {
            "_model_module": "@jupyter-widgets/base",
            "_model_module_version": "1.2.0",
            "_model_name": "LayoutModel",
            "_view_count": null,
            "_view_module": "@jupyter-widgets/base",
            "_view_module_version": "1.2.0",
            "_view_name": "LayoutView",
            "align_content": null,
            "align_items": null,
            "align_self": null,
            "border": null,
            "bottom": null,
            "display": null,
            "flex": null,
            "flex_flow": null,
            "grid_area": null,
            "grid_auto_columns": null,
            "grid_auto_flow": null,
            "grid_auto_rows": null,
            "grid_column": null,
            "grid_gap": null,
            "grid_row": null,
            "grid_template_areas": null,
            "grid_template_columns": null,
            "grid_template_rows": null,
            "height": null,
            "justify_content": null,
            "justify_items": null,
            "left": null,
            "margin": null,
            "max_height": null,
            "max_width": null,
            "min_height": null,
            "min_width": null,
            "object_fit": null,
            "object_position": null,
            "order": null,
            "overflow": null,
            "overflow_x": null,
            "overflow_y": null,
            "padding": null,
            "right": null,
            "top": null,
            "visibility": null,
            "width": null
          }
        },
        "277fb2815d7e4cc6bbf1f4573ac0afc1": {
          "model_module": "@jupyter-widgets/controls",
          "model_name": "DescriptionStyleModel",
          "model_module_version": "1.5.0",
          "state": {
            "_model_module": "@jupyter-widgets/controls",
            "_model_module_version": "1.5.0",
            "_model_name": "DescriptionStyleModel",
            "_view_count": null,
            "_view_module": "@jupyter-widgets/base",
            "_view_module_version": "1.2.0",
            "_view_name": "StyleView",
            "description_width": ""
          }
        },
        "14035462ff204d09a17ef4088ef02f59": {
          "model_module": "@jupyter-widgets/base",
          "model_name": "LayoutModel",
          "model_module_version": "1.2.0",
          "state": {
            "_model_module": "@jupyter-widgets/base",
            "_model_module_version": "1.2.0",
            "_model_name": "LayoutModel",
            "_view_count": null,
            "_view_module": "@jupyter-widgets/base",
            "_view_module_version": "1.2.0",
            "_view_name": "LayoutView",
            "align_content": null,
            "align_items": null,
            "align_self": null,
            "border": null,
            "bottom": null,
            "display": null,
            "flex": null,
            "flex_flow": null,
            "grid_area": null,
            "grid_auto_columns": null,
            "grid_auto_flow": null,
            "grid_auto_rows": null,
            "grid_column": null,
            "grid_gap": null,
            "grid_row": null,
            "grid_template_areas": null,
            "grid_template_columns": null,
            "grid_template_rows": null,
            "height": null,
            "justify_content": null,
            "justify_items": null,
            "left": null,
            "margin": null,
            "max_height": null,
            "max_width": null,
            "min_height": null,
            "min_width": null,
            "object_fit": null,
            "object_position": null,
            "order": null,
            "overflow": null,
            "overflow_x": null,
            "overflow_y": null,
            "padding": null,
            "right": null,
            "top": null,
            "visibility": null,
            "width": null
          }
        },
        "830150af231e4a2d8520430eab3c90ad": {
          "model_module": "@jupyter-widgets/controls",
          "model_name": "ProgressStyleModel",
          "model_module_version": "1.5.0",
          "state": {
            "_model_module": "@jupyter-widgets/controls",
            "_model_module_version": "1.5.0",
            "_model_name": "ProgressStyleModel",
            "_view_count": null,
            "_view_module": "@jupyter-widgets/base",
            "_view_module_version": "1.2.0",
            "_view_name": "StyleView",
            "bar_color": null,
            "description_width": ""
          }
        },
        "8fba1c27a5f744c49aaee19ce3e20983": {
          "model_module": "@jupyter-widgets/base",
          "model_name": "LayoutModel",
          "model_module_version": "1.2.0",
          "state": {
            "_model_module": "@jupyter-widgets/base",
            "_model_module_version": "1.2.0",
            "_model_name": "LayoutModel",
            "_view_count": null,
            "_view_module": "@jupyter-widgets/base",
            "_view_module_version": "1.2.0",
            "_view_name": "LayoutView",
            "align_content": null,
            "align_items": null,
            "align_self": null,
            "border": null,
            "bottom": null,
            "display": null,
            "flex": null,
            "flex_flow": null,
            "grid_area": null,
            "grid_auto_columns": null,
            "grid_auto_flow": null,
            "grid_auto_rows": null,
            "grid_column": null,
            "grid_gap": null,
            "grid_row": null,
            "grid_template_areas": null,
            "grid_template_columns": null,
            "grid_template_rows": null,
            "height": null,
            "justify_content": null,
            "justify_items": null,
            "left": null,
            "margin": null,
            "max_height": null,
            "max_width": null,
            "min_height": null,
            "min_width": null,
            "object_fit": null,
            "object_position": null,
            "order": null,
            "overflow": null,
            "overflow_x": null,
            "overflow_y": null,
            "padding": null,
            "right": null,
            "top": null,
            "visibility": null,
            "width": null
          }
        },
        "48601159980a4e80a2997eb5f30e2d7a": {
          "model_module": "@jupyter-widgets/controls",
          "model_name": "DescriptionStyleModel",
          "model_module_version": "1.5.0",
          "state": {
            "_model_module": "@jupyter-widgets/controls",
            "_model_module_version": "1.5.0",
            "_model_name": "DescriptionStyleModel",
            "_view_count": null,
            "_view_module": "@jupyter-widgets/base",
            "_view_module_version": "1.2.0",
            "_view_name": "StyleView",
            "description_width": ""
          }
        },
        "9f926b0cb1fe4f7ab929530f54b7bea6": {
          "model_module": "@jupyter-widgets/controls",
          "model_name": "HBoxModel",
          "model_module_version": "1.5.0",
          "state": {
            "_dom_classes": [],
            "_model_module": "@jupyter-widgets/controls",
            "_model_module_version": "1.5.0",
            "_model_name": "HBoxModel",
            "_view_count": null,
            "_view_module": "@jupyter-widgets/controls",
            "_view_module_version": "1.5.0",
            "_view_name": "HBoxView",
            "box_style": "",
            "children": [
              "IPY_MODEL_a3c91442c94e410e89199d85d2a88923",
              "IPY_MODEL_f935e0ee55614409b8876d3cd830a8e4",
              "IPY_MODEL_90f7daaa120c440b95210491695d4325"
            ],
            "layout": "IPY_MODEL_370ef1bf710341efbb659978af9155b4"
          }
        },
        "a3c91442c94e410e89199d85d2a88923": {
          "model_module": "@jupyter-widgets/controls",
          "model_name": "HTMLModel",
          "model_module_version": "1.5.0",
          "state": {
            "_dom_classes": [],
            "_model_module": "@jupyter-widgets/controls",
            "_model_module_version": "1.5.0",
            "_model_name": "HTMLModel",
            "_view_count": null,
            "_view_module": "@jupyter-widgets/controls",
            "_view_module_version": "1.5.0",
            "_view_name": "HTMLView",
            "description": "",
            "description_tooltip": null,
            "layout": "IPY_MODEL_8d5a01e9085940dda4f2a278a6af9761",
            "placeholder": "​",
            "style": "IPY_MODEL_9183437d168540c2bb21df9528055d75",
            "value": "100%"
          }
        },
        "f935e0ee55614409b8876d3cd830a8e4": {
          "model_module": "@jupyter-widgets/controls",
          "model_name": "FloatProgressModel",
          "model_module_version": "1.5.0",
          "state": {
            "_dom_classes": [],
            "_model_module": "@jupyter-widgets/controls",
            "_model_module_version": "1.5.0",
            "_model_name": "FloatProgressModel",
            "_view_count": null,
            "_view_module": "@jupyter-widgets/controls",
            "_view_module_version": "1.5.0",
            "_view_name": "ProgressView",
            "bar_style": "success",
            "description": "",
            "description_tooltip": null,
            "layout": "IPY_MODEL_686313787ccc4987a99ca8b8d7b89996",
            "max": 4542,
            "min": 0,
            "orientation": "horizontal",
            "style": "IPY_MODEL_3e92604330134195b2a00530640caa91",
            "value": 4542
          }
        },
        "90f7daaa120c440b95210491695d4325": {
          "model_module": "@jupyter-widgets/controls",
          "model_name": "HTMLModel",
          "model_module_version": "1.5.0",
          "state": {
            "_dom_classes": [],
            "_model_module": "@jupyter-widgets/controls",
            "_model_module_version": "1.5.0",
            "_model_name": "HTMLModel",
            "_view_count": null,
            "_view_module": "@jupyter-widgets/controls",
            "_view_module_version": "1.5.0",
            "_view_name": "HTMLView",
            "description": "",
            "description_tooltip": null,
            "layout": "IPY_MODEL_2c3008137f4e47e887f1c7ef045ab0fb",
            "placeholder": "​",
            "style": "IPY_MODEL_ecdfae1e0a5f44b3a9b5797c62e09803",
            "value": " 4542/4542 [00:00&lt;00:00, 294539.63it/s]"
          }
        },
        "370ef1bf710341efbb659978af9155b4": {
          "model_module": "@jupyter-widgets/base",
          "model_name": "LayoutModel",
          "model_module_version": "1.2.0",
          "state": {
            "_model_module": "@jupyter-widgets/base",
            "_model_module_version": "1.2.0",
            "_model_name": "LayoutModel",
            "_view_count": null,
            "_view_module": "@jupyter-widgets/base",
            "_view_module_version": "1.2.0",
            "_view_name": "LayoutView",
            "align_content": null,
            "align_items": null,
            "align_self": null,
            "border": null,
            "bottom": null,
            "display": null,
            "flex": null,
            "flex_flow": null,
            "grid_area": null,
            "grid_auto_columns": null,
            "grid_auto_flow": null,
            "grid_auto_rows": null,
            "grid_column": null,
            "grid_gap": null,
            "grid_row": null,
            "grid_template_areas": null,
            "grid_template_columns": null,
            "grid_template_rows": null,
            "height": null,
            "justify_content": null,
            "justify_items": null,
            "left": null,
            "margin": null,
            "max_height": null,
            "max_width": null,
            "min_height": null,
            "min_width": null,
            "object_fit": null,
            "object_position": null,
            "order": null,
            "overflow": null,
            "overflow_x": null,
            "overflow_y": null,
            "padding": null,
            "right": null,
            "top": null,
            "visibility": null,
            "width": null
          }
        },
        "8d5a01e9085940dda4f2a278a6af9761": {
          "model_module": "@jupyter-widgets/base",
          "model_name": "LayoutModel",
          "model_module_version": "1.2.0",
          "state": {
            "_model_module": "@jupyter-widgets/base",
            "_model_module_version": "1.2.0",
            "_model_name": "LayoutModel",
            "_view_count": null,
            "_view_module": "@jupyter-widgets/base",
            "_view_module_version": "1.2.0",
            "_view_name": "LayoutView",
            "align_content": null,
            "align_items": null,
            "align_self": null,
            "border": null,
            "bottom": null,
            "display": null,
            "flex": null,
            "flex_flow": null,
            "grid_area": null,
            "grid_auto_columns": null,
            "grid_auto_flow": null,
            "grid_auto_rows": null,
            "grid_column": null,
            "grid_gap": null,
            "grid_row": null,
            "grid_template_areas": null,
            "grid_template_columns": null,
            "grid_template_rows": null,
            "height": null,
            "justify_content": null,
            "justify_items": null,
            "left": null,
            "margin": null,
            "max_height": null,
            "max_width": null,
            "min_height": null,
            "min_width": null,
            "object_fit": null,
            "object_position": null,
            "order": null,
            "overflow": null,
            "overflow_x": null,
            "overflow_y": null,
            "padding": null,
            "right": null,
            "top": null,
            "visibility": null,
            "width": null
          }
        },
        "9183437d168540c2bb21df9528055d75": {
          "model_module": "@jupyter-widgets/controls",
          "model_name": "DescriptionStyleModel",
          "model_module_version": "1.5.0",
          "state": {
            "_model_module": "@jupyter-widgets/controls",
            "_model_module_version": "1.5.0",
            "_model_name": "DescriptionStyleModel",
            "_view_count": null,
            "_view_module": "@jupyter-widgets/base",
            "_view_module_version": "1.2.0",
            "_view_name": "StyleView",
            "description_width": ""
          }
        },
        "686313787ccc4987a99ca8b8d7b89996": {
          "model_module": "@jupyter-widgets/base",
          "model_name": "LayoutModel",
          "model_module_version": "1.2.0",
          "state": {
            "_model_module": "@jupyter-widgets/base",
            "_model_module_version": "1.2.0",
            "_model_name": "LayoutModel",
            "_view_count": null,
            "_view_module": "@jupyter-widgets/base",
            "_view_module_version": "1.2.0",
            "_view_name": "LayoutView",
            "align_content": null,
            "align_items": null,
            "align_self": null,
            "border": null,
            "bottom": null,
            "display": null,
            "flex": null,
            "flex_flow": null,
            "grid_area": null,
            "grid_auto_columns": null,
            "grid_auto_flow": null,
            "grid_auto_rows": null,
            "grid_column": null,
            "grid_gap": null,
            "grid_row": null,
            "grid_template_areas": null,
            "grid_template_columns": null,
            "grid_template_rows": null,
            "height": null,
            "justify_content": null,
            "justify_items": null,
            "left": null,
            "margin": null,
            "max_height": null,
            "max_width": null,
            "min_height": null,
            "min_width": null,
            "object_fit": null,
            "object_position": null,
            "order": null,
            "overflow": null,
            "overflow_x": null,
            "overflow_y": null,
            "padding": null,
            "right": null,
            "top": null,
            "visibility": null,
            "width": null
          }
        },
        "3e92604330134195b2a00530640caa91": {
          "model_module": "@jupyter-widgets/controls",
          "model_name": "ProgressStyleModel",
          "model_module_version": "1.5.0",
          "state": {
            "_model_module": "@jupyter-widgets/controls",
            "_model_module_version": "1.5.0",
            "_model_name": "ProgressStyleModel",
            "_view_count": null,
            "_view_module": "@jupyter-widgets/base",
            "_view_module_version": "1.2.0",
            "_view_name": "StyleView",
            "bar_color": null,
            "description_width": ""
          }
        },
        "2c3008137f4e47e887f1c7ef045ab0fb": {
          "model_module": "@jupyter-widgets/base",
          "model_name": "LayoutModel",
          "model_module_version": "1.2.0",
          "state": {
            "_model_module": "@jupyter-widgets/base",
            "_model_module_version": "1.2.0",
            "_model_name": "LayoutModel",
            "_view_count": null,
            "_view_module": "@jupyter-widgets/base",
            "_view_module_version": "1.2.0",
            "_view_name": "LayoutView",
            "align_content": null,
            "align_items": null,
            "align_self": null,
            "border": null,
            "bottom": null,
            "display": null,
            "flex": null,
            "flex_flow": null,
            "grid_area": null,
            "grid_auto_columns": null,
            "grid_auto_flow": null,
            "grid_auto_rows": null,
            "grid_column": null,
            "grid_gap": null,
            "grid_row": null,
            "grid_template_areas": null,
            "grid_template_columns": null,
            "grid_template_rows": null,
            "height": null,
            "justify_content": null,
            "justify_items": null,
            "left": null,
            "margin": null,
            "max_height": null,
            "max_width": null,
            "min_height": null,
            "min_width": null,
            "object_fit": null,
            "object_position": null,
            "order": null,
            "overflow": null,
            "overflow_x": null,
            "overflow_y": null,
            "padding": null,
            "right": null,
            "top": null,
            "visibility": null,
            "width": null
          }
        },
        "ecdfae1e0a5f44b3a9b5797c62e09803": {
          "model_module": "@jupyter-widgets/controls",
          "model_name": "DescriptionStyleModel",
          "model_module_version": "1.5.0",
          "state": {
            "_model_module": "@jupyter-widgets/controls",
            "_model_module_version": "1.5.0",
            "_model_name": "DescriptionStyleModel",
            "_view_count": null,
            "_view_module": "@jupyter-widgets/base",
            "_view_module_version": "1.2.0",
            "_view_name": "StyleView",
            "description_width": ""
          }
        }
      }
    }
  },
  "nbformat": 4,
  "nbformat_minor": 0
}