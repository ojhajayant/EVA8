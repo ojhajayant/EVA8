{
  "cells": [
    {
      "cell_type": "markdown",
      "source": [
        "#For MNIST Dataset, meet 99.4%+ accuracy, but under the required parameters:i.e. <=20K and within 20 epochs)"
      ],
      "metadata": {
        "id": "h3HQ9tgT-oUw"
      }
    },
    {
      "cell_type": "code",
      "execution_count": 1,
      "metadata": {
        "id": "0m2JWFliFfKT"
      },
      "outputs": [],
      "source": [
        "from __future__ import print_function\n",
        "\n",
        "''''from  __future__ import' statements can be used on *top-of* one's Python \n",
        "2.x code to enable new language features, that are not available in the older \n",
        "versions of Python. Esp. 'from __future__ import print_function' is a \n",
        "statement that one can use at the *top-of* the Python 2.x code to enable the \n",
        "print *function* from Python 3.x. In Python 2.x, the print *statement* is \n",
        "used to print to the standard output stream, whereas in Python 3.x, the print \n",
        "*function* is used. By using from __future__ import print_function, one can \n",
        "use the print *function* in the Python 2.x code, which can make it easier to \n",
        "port the code to Python 3.x in the future. '''\n",
        "import torch\n",
        "\n",
        "'''imports the torch module. This module provides functions for working with \n",
        "PyTorch, a popular open-source machine learning library for Python that is \n",
        "based on the Torch library used primarily for natural language processing and \n",
        "computer vision tasks. PyTorch provides a high-level interface for working \n",
        "with neural networks and allows users to perform complex operations on \n",
        "tensors with strong acceleration on many-core GPUs. '''\n",
        "import torch.nn as nn\n",
        "\n",
        "'''imports the torch.nn module (into the namespace nn by convention) from the \n",
        "torch package. This module provides a set of classes and functions that are \n",
        "commonly used to build and train neural networks in PyTorch. It contains \n",
        "classes for defining various types of layers in a neural network, as well as \n",
        "methods for forward propagation, backward propagation, and optimization. '''\n",
        "import torch.nn.functional as F\n",
        "\n",
        "'''imports torch.nn.functional module into the namespace F by convention. \n",
        "This module contains all the functions in the torch.nn library (whereas other \n",
        "parts of the library contain classes) and a wide range of loss and activation \n",
        "functions, one also finds here, some convenient functions for creating neural \n",
        "nets, such as pooling functions. '''\n",
        "import torch.optim as optim\n",
        "\n",
        "'''imports the torch.optim module from the torch package into the namespace \n",
        "optim. This module provides a set of classes and functions for \n",
        "*optimizing-the-parameters* of a neural network in PyTorch. It contains \n",
        "implementations of various optimization algorithms, such as stochastic \n",
        "gradient descent (SGD), Adam, and RMSprop. By importing the optim module and \n",
        "using the classes and functions it provides, one can *train-a-neural-network* \n",
        "in PyTorch by specifying the optimization algorithm and the network's \n",
        "parameters to optimize. '''\n",
        "\n",
        "'''imports the datasets & transforms  modules from the torchvision package. \n",
        "The torchvision package is a popular library for working with image data in \n",
        "PyTorch. It contains a collection of functions and classes for loading, \n",
        "transforming, and analyzing image data. The *datasets module* provides \n",
        "classes for loading and organizing image data into datasets that can be \n",
        "easily used to train a neural network. The transforms module provides a set \n",
        "of common image transformations that can be applied to images in a dataset. \n",
        "These transformations include operations such as resizing, cropping, \n",
        "and normalizing the images. '''\n",
        "from torchvision import datasets, transforms\n",
        "import numpy as np\n",
        "from torch.utils.data import Dataset\n",
        "import matplotlib.pyplot as plt\n",
        "from torchsummary import summary\n",
        "'''module is a progress bar library that is used to provide a visual indication\n",
        "of the progress of a long-running operation in a Python script.'''\n",
        "from tqdm import tqdm\n",
        "%matplotlib inline\n",
        "torch.cuda.manual_seed_all(1)\n",
        "torch.manual_seed(1)\n",
        "np.random.seed(1)"
      ]
    },
    {
      "cell_type": "markdown",
      "metadata": {
        "id": "DHJghFf9FFl1"
      },
      "source": [
        "#### Following dscribes a step-by-step approach, taken to achieve the required goals (i.e. meeting 99.4%+ accuracy, but under the required parameters:i.e. <=20K and within 20 epochs) :\n",
        " \n",
        "First of all, \"fix up\" the required architecture/layer-organization...in terms of choosing the number of kernels for each layer, followed a 'multiple-of-8' numbers (from 8, 16, 24, 32...etc):\n",
        "\n",
        "### Architecture has 3 \"components\":\n",
        " \n",
        " 1. One, separate initial,\"image-conv2d\" layer at the begining, to convolve over the \"original image\" channels, am initially providing 8 number of kernels for this 'separate' layer (which feeds in to the next  \"block\" of \"2-conv2d-layers\").Very important to note here that, 1 initial layer + The 2 following layers(of \"2-conv2d-layer\" \"block\") collectively provides a receptive field of 7x7 pixels(3->5->7) sufficient for extracting the MNIST datset's edges & gradient.This one is an \"evolution\"-experiment, where kernel numbers started out as 8 initially, but in the final architecture(which met the requirements) it became 16.\n",
        "    \n",
        "\t\n",
        " 2. conv2d-BLOCK with 2 layers (in this case):  This block will be placed after the first \"image-conv2d\" layer, and one more instance of this block, will    also follow the transition-block (explained below) later. In this evolution-experiment, kernel numbers initially started out as (8-16) for the 'first-2-layer-block' & (8-16) for the 'second-2-layer-block', but in the final architecture(which met the requirements) it became (16-16) for the 'first-2-layer-block' & (24-24) for the 'second-2-layer-block'.\n",
        "    \n",
        "    \n",
        " 3. Transition Blocks: 1st transition layer, made up of 1. max-pool(k=2,s=2) and 2. a-1x1-feature-merger kernel, following the 'first-2-layer-block' &     2nd transition layer, towards the end (following the 2nd conv2d-block) which does NOT have the maxpool (i.e. just has one 1x1-feature-merger operator), and followed by the Global Average Pooling (GAP) layer leading upto the Softmax layer.    \n",
        "    \n",
        "### Architecture (i.e. in terms of channels used across individual layers):\n",
        "\n",
        "    \n",
        "    i.   \"image-conv2d\" layer: o/p initially 8 channels (becomes 16 in the final one)\n",
        "    \n",
        "    ii.  2 similar conv2d blocks, with:\n",
        "    \n",
        "              1st layer: (8-16) o/p channels (becomes (16-16) in the final one)\n",
        "\t\t\t \n",
        "              2nd layer: (8-16) o/p channels (becomes (24-24) in the final one)\n",
        "\t      \n",
        "    iii. 1x1 conv2d for 2nd transition-layer: 10 o/p channels(for num-classes=10 digits)\n",
        "    \n",
        " \n",
        "Input Channels/Image  |  Conv2d/Transform      | Output Channels | RF\n",
        "---------------------|--------------|----------------------|----------------------\n",
        "`28x28x1`              | `(3x3x1)x8`   |      `26x26x8`  |      `3x3`|      \n",
        "             |          `ReLU`  | \n",
        "**26x26x8**             | **(3x3x8)x8**  |      **24x24x8** |      **5x5**\n",
        "             |          **ReLU**  |                 \n",
        "**24x24x8**             | **(3x3x8)x16**  |      **22x22x16** |      **7x7**  \n",
        "             |          **ReLU**  |                 \n",
        "*22x22x16*             |   *MP(2x2)*    |      *11x11x16*   |      *14x14*                      \n",
        "*11x11x16*             | *(1x1x16)x8*  |      *11x11x8*    |      *14x14* \n",
        "             |          *ReLU*  |     \n",
        "**11x11x8**             | **(3x3x8)x8**  |      **9x9x8** |      **16x16** \n",
        "             |          **ReLU**  |       \n",
        "**9x9x8**               | **(3x3x8)x16**  |      **7x7x16**  |      **18x18** \n",
        "             |          **ReLU**  |       \n",
        "*7x7x16*               | *(1x1x16)x10*  |      *7x7x10*    |      *18x18*  (NO RELU at the o/p of this layer)    \n",
        "7x7x10               | GAP  LAYER   |      1x10          |\n",
        "\n",
        " \n",
        "       \n",
        "    iv. At the end, following Architecture (same as the first-table above, \n",
        "    but with increased number of channels, like below is found to achieve \n",
        "    the required goal: 14,112 params, >99.4% accuracy, in less than \n",
        "    20 epochs \n",
        "        \n",
        "\n",
        "Input Channels/Image  |  Conv2d/Transform      | Output Channels | RF\n",
        "---------------------|--------------|----------------------|----------------------\n",
        "`28x28x1`              | `(3x3x1)x16`   |      `26x26x16`  |      `3x3`\n",
        "             |          `BN(16)`  |      \n",
        "             |          `Dropout(3%)`  |      \n",
        "             |          `ReLU`  |      \n",
        "**26x26x16**             | **(3x3x16)x16**  |      **24x24x16** |      **5x5** \n",
        "             |          **BN(16)**  |      \n",
        "             |          **Dropout(3%)**  |   \n",
        "             |          **ReLU**  |                 \n",
        "**24x24x16**             | **(3x3x16)x16**  |      **22x22x16** |      **7x7** \n",
        "             |          **BN(16)**  |      \n",
        "             |          **Dropout(3%)**  |   \n",
        "             |          **ReLU**  |                 \n",
        "*22x22x16*             |   *MP(2x2)*    |      *11x11x16*   |      *14x14*                      \n",
        "*11x11x16*             | *(1x1x16)x16*  |      *11x11x16*    |      *14x14*   \n",
        "             |          *BN(16)*  |      \n",
        "             |          *Dropout(3%)*  |  \n",
        "             |          *ReLU*  |                 \n",
        "**11x11x16**             | **(3x3x16)x24**  |      **9x9x24** |      **16x16**  \n",
        "             |          **BN(24)**  |      \n",
        "             |          **Dropout(3%)**  |    \n",
        "             |          **ReLU**  |                 \n",
        "**9x9x24**               | **(3x3x24)x24**  |      **7x7x24**  |      **18x18**   \n",
        "             |          **BN(24)**  |      \n",
        "             |          **Dropout(3%)**  |  \n",
        "             |          **ReLU**  |                 \n",
        "*7x7x24*               | *(1x1x24)x10*  |      *7x7x10*    |      *18x18*   (NO RELU at the o/p of this layer)   \n",
        "7x7x10               | GAP  LAYER   |      1x10          |     "
      ]
    },
    {
      "cell_type": "markdown",
      "source": [
        "# First NW:"
      ],
      "metadata": {
        "id": "pgVEMiIOHUFC"
      }
    },
    {
      "cell_type": "markdown",
      "metadata": {
        "id": "eRlqIUGDFFl5"
      },
      "source": [
        "Input Channels/Image  |  Conv2d/Transform      | Output Channels | RF\n",
        "---------------------|--------------|----------------------|----------------------\n",
        "`28x28x1`              | `(3x3x1)x8`   |      `26x26x8`  |      `3x3`|      \n",
        "             |          `ReLU`  | \n",
        "**26x26x8**             | **(3x3x8)x8**  |      **24x24x8** |      **5x5**\n",
        "             |          **ReLU**  |                 \n",
        "**24x24x8**             | **(3x3x8)x16**  |      **22x22x16** |      **7x7**  \n",
        "             |          **ReLU**  |                 \n",
        "*22x22x16*             |   *MP(2x2)*    |      *11x11x16*   |      *14x14*                      \n",
        "*11x11x16*             | *(1x1x16)x8*  |      *11x11x8*    |      *14x14* \n",
        "             |          *ReLU*  |     \n",
        "**11x11x8**             | **(3x3x8)x8**  |      **9x9x8** |      **16x16** \n",
        "             |          **ReLU**  |       \n",
        "**9x9x8**               | **(3x3x8)x16**  |      **7x7x16**  |      **18x18** \n",
        "             |          **ReLU**  |       \n",
        "*7x7x16*               | *(1x1x16)x10*  |      *7x7x10*    |      *18x18*  (NO RELU at the o/p of this layer)    \n",
        "7x7x10               | GAP  LAYER   |      1x10          |"
      ]
    },
    {
      "cell_type": "code",
      "execution_count": 3,
      "metadata": {
        "id": "h_Cx9q2QFgM7"
      },
      "outputs": [],
      "source": [
        "class Net1(nn.Module):\n",
        "    def __init__(self):\n",
        "        super(Net1, self).__init__()\n",
        "        self.conv1 = nn.Conv2d(1, 8, 3, bias=False)#input:28x28x1, output:26x26x8, RF:3x3\n",
        "\n",
        "        self.conv2 = nn.Conv2d(8, 8, 3, bias=False)#input:26x26x8, output:24x24x8, RF:5x5 \n",
        "        self.conv3 = nn.Conv2d(8, 16, 3, bias=False)#input:24x24x8, output:22x22x16, RF:7x7\n",
        "\n",
        "        self.pool1 = nn.MaxPool2d(2, 2)#input:22x22x16, output:11x11x16, RF:14x14  \n",
        "        self.conv4 = nn.Conv2d(16, 8, 1, bias=False)#input:11x11x16, output:11x11x8, RF:14x14\n",
        "\n",
        "        self.conv5 = nn.Conv2d(8, 8, 3, bias=False)#input:11x11x8, output:9x9x8, RF:16x16 \n",
        "        self.conv6 = nn.Conv2d(8, 16, 3, bias=False)#input:9x9x8, output:7x7x16, RF:18x18\n",
        "\n",
        "        self.conv7 = nn.Conv2d(16, 10, 1, bias=False)#input:7x7x16, output:7x7x10, RF:18x18\n",
        "        self.gap1 = nn.AvgPool2d(kernel_size=7)#input:7x7x10, output:1x1x10 (or 1x10, 1-D data format now)\n",
        "        \n",
        "    def forward(self, x):\n",
        "        x = F.relu(self.conv1(x))# First Layer Separate\n",
        "        x = F.relu(self.conv3(F.relu(self.conv2(x))))# First Block\n",
        "        x = F.relu(self.conv4(self.pool1(x)))# first transition block\n",
        "        x = F.relu(self.conv6(F.relu(self.conv5(x))))# Second Block \n",
        "        x = self.conv7(x)#no ReLU at 2nd Transition Block O/p(just 1x1, without a maxpool\n",
        "        #towards the end here)leading to GAP & beyond) \n",
        "        x = self.gap1(x) # Global Average Pool layer\n",
        "        x = x.view(-1, 10)#Num of classes = 10 (digits to be identified)\n",
        "        return F.log_softmax(x, dim=1)"
      ]
    },
    {
      "cell_type": "code",
      "execution_count": 4,
      "metadata": {
        "id": "xdydjYTZFyi3",
        "outputId": "86a977cf-cec2-4ae9-8844-57533acf002f",
        "colab": {
          "base_uri": "https://localhost:8080/"
        }
      },
      "outputs": [
        {
          "output_type": "stream",
          "name": "stdout",
          "text": [
            "----------------------------------------------------------------\n",
            "        Layer (type)               Output Shape         Param #\n",
            "================================================================\n",
            "            Conv2d-1            [-1, 8, 26, 26]              72\n",
            "            Conv2d-2            [-1, 8, 24, 24]             576\n",
            "            Conv2d-3           [-1, 16, 22, 22]           1,152\n",
            "         MaxPool2d-4           [-1, 16, 11, 11]               0\n",
            "            Conv2d-5            [-1, 8, 11, 11]             128\n",
            "            Conv2d-6              [-1, 8, 9, 9]             576\n",
            "            Conv2d-7             [-1, 16, 7, 7]           1,152\n",
            "            Conv2d-8             [-1, 10, 7, 7]             160\n",
            "         AvgPool2d-9             [-1, 10, 1, 1]               0\n",
            "================================================================\n",
            "Total params: 3,816\n",
            "Trainable params: 3,816\n",
            "Non-trainable params: 0\n",
            "----------------------------------------------------------------\n",
            "Input size (MB): 0.00\n",
            "Forward/backward pass size (MB): 0.17\n",
            "Params size (MB): 0.01\n",
            "Estimated Total Size (MB): 0.19\n",
            "----------------------------------------------------------------\n"
          ]
        }
      ],
      "source": [
        "#!pip install torchsummary\n",
        "use_cuda = torch.cuda.is_available()\n",
        "device = torch.device(\"cuda\" if use_cuda else \"cpu\")\n",
        "model1 = Net1().to(device)\n",
        "summary(model1, input_size=(1, 28, 28))"
      ]
    },
    {
      "cell_type": "code",
      "execution_count": 5,
      "metadata": {
        "id": "DqTWLaM5GHgH",
        "outputId": "bae4edbe-9af8-4a35-9bf7-74e13a81c291",
        "colab": {
          "base_uri": "https://localhost:8080/",
          "height": 423,
          "referenced_widgets": [
            "553b108276e44f8587a2bd2e90e88185",
            "6ca5013f56d24dc89481e5f37c2d1b74",
            "bcc78a290480406f888bc37340a52541",
            "99e193cc7f154c5b8efee8fd4edfaf49",
            "18995dd87bf7422688b02b148eea060f",
            "f4c2933eaab84b5a9229f4e869eac876",
            "730a43d737d94ba28ede2ee762aef4b1",
            "1a1ce3f1750f47fb8fbb06f7c27a27ba",
            "dcbfe5774ac040bdb10f42fa5cbba70b",
            "d08f045d221e4299937b4882d43ad173",
            "b354613c59ba44a4a1e7a237fbc5f149",
            "c93edfe52fe5469db2b35161e873a7cf",
            "c737f3c59f5e4da8aeec18a9df1a1546",
            "e7b1edbaaa6942678cb29c5d505eb685",
            "0c4b7d230e64439798d72f4795601f33",
            "9ca3d4f4e05b41ff91a748737b0d46da",
            "bad2ec348d2e4b47a0569137d090611e",
            "f6d75ae767964b2e8e0a938a6a65bbe4",
            "cfcfe2722ef346dcb591d8f980a03116",
            "a67952912bd94ad5afd0c7c5ce6cb670",
            "4ca535e14e604263a5d26b48a89b139c",
            "581e7e74c98b480baf514472d021810b",
            "6126751af50147ada326f5bca9bf2994",
            "9249f5317a634130be575058e283e750",
            "8b761ef8f54047afb94dfae83a168af7",
            "a7d72ff79f7a48eebc744444e9958836",
            "26fa73a38b0f4e33b8ae749062a657bb",
            "631700bd853e4edf86f982dc22eb771b",
            "3275a44d29ea4a2586d659c03ba80b46",
            "e9b83de095ef46e183e591e2c091bfde",
            "abaf250f0ef34f24abfd64c6ac20cf99",
            "a2f836fb832241878bfe2cd1771c3686",
            "54880932015542a99cc618abe6f9885e",
            "d7aa4b68cc6e4e5588695a84aebcfd4d",
            "f5b3ce682e45472cb86e701969d52d26",
            "1024621e9730477e97541c1f20fba119",
            "e16fbe7cc2e24c2cbf4980ec6fe1a850",
            "98a95c69a4344161bf18eea12f600cbb",
            "4e62c98cc0304fff919cd1cb84f3b546",
            "4c15a274fd3c47768fa0d1f08ccd0ae9",
            "69e1499d59a84fcd842edaeae17f43e2",
            "c36fabc4cf5042ed96060f4211a86407",
            "d33b3dd443bf4dc69e14232b27777519",
            "a8e689f37d654bb08194fc3fd46980b6"
          ]
        }
      },
      "outputs": [
        {
          "output_type": "stream",
          "name": "stdout",
          "text": [
            "Downloading http://yann.lecun.com/exdb/mnist/train-images-idx3-ubyte.gz\n",
            "Downloading http://yann.lecun.com/exdb/mnist/train-images-idx3-ubyte.gz to ../data/MNIST/raw/train-images-idx3-ubyte.gz\n"
          ]
        },
        {
          "output_type": "display_data",
          "data": {
            "text/plain": [
              "  0%|          | 0/9912422 [00:00<?, ?it/s]"
            ],
            "application/vnd.jupyter.widget-view+json": {
              "version_major": 2,
              "version_minor": 0,
              "model_id": "553b108276e44f8587a2bd2e90e88185"
            }
          },
          "metadata": {}
        },
        {
          "output_type": "stream",
          "name": "stdout",
          "text": [
            "Extracting ../data/MNIST/raw/train-images-idx3-ubyte.gz to ../data/MNIST/raw\n",
            "\n",
            "Downloading http://yann.lecun.com/exdb/mnist/train-labels-idx1-ubyte.gz\n",
            "Downloading http://yann.lecun.com/exdb/mnist/train-labels-idx1-ubyte.gz to ../data/MNIST/raw/train-labels-idx1-ubyte.gz\n"
          ]
        },
        {
          "output_type": "display_data",
          "data": {
            "text/plain": [
              "  0%|          | 0/28881 [00:00<?, ?it/s]"
            ],
            "application/vnd.jupyter.widget-view+json": {
              "version_major": 2,
              "version_minor": 0,
              "model_id": "c93edfe52fe5469db2b35161e873a7cf"
            }
          },
          "metadata": {}
        },
        {
          "output_type": "stream",
          "name": "stdout",
          "text": [
            "Extracting ../data/MNIST/raw/train-labels-idx1-ubyte.gz to ../data/MNIST/raw\n",
            "\n",
            "Downloading http://yann.lecun.com/exdb/mnist/t10k-images-idx3-ubyte.gz\n",
            "Downloading http://yann.lecun.com/exdb/mnist/t10k-images-idx3-ubyte.gz to ../data/MNIST/raw/t10k-images-idx3-ubyte.gz\n"
          ]
        },
        {
          "output_type": "display_data",
          "data": {
            "text/plain": [
              "  0%|          | 0/1648877 [00:00<?, ?it/s]"
            ],
            "application/vnd.jupyter.widget-view+json": {
              "version_major": 2,
              "version_minor": 0,
              "model_id": "6126751af50147ada326f5bca9bf2994"
            }
          },
          "metadata": {}
        },
        {
          "output_type": "stream",
          "name": "stdout",
          "text": [
            "Extracting ../data/MNIST/raw/t10k-images-idx3-ubyte.gz to ../data/MNIST/raw\n",
            "\n",
            "Downloading http://yann.lecun.com/exdb/mnist/t10k-labels-idx1-ubyte.gz\n",
            "Downloading http://yann.lecun.com/exdb/mnist/t10k-labels-idx1-ubyte.gz to ../data/MNIST/raw/t10k-labels-idx1-ubyte.gz\n"
          ]
        },
        {
          "output_type": "display_data",
          "data": {
            "text/plain": [
              "  0%|          | 0/4542 [00:00<?, ?it/s]"
            ],
            "application/vnd.jupyter.widget-view+json": {
              "version_major": 2,
              "version_minor": 0,
              "model_id": "d7aa4b68cc6e4e5588695a84aebcfd4d"
            }
          },
          "metadata": {}
        },
        {
          "output_type": "stream",
          "name": "stdout",
          "text": [
            "Extracting ../data/MNIST/raw/t10k-labels-idx1-ubyte.gz to ../data/MNIST/raw\n",
            "\n"
          ]
        }
      ],
      "source": [
        "torch.manual_seed(1)\n",
        "batch_size = 64\n",
        "\n",
        "kwargs = {'num_workers': 1, 'pin_memory': True} if use_cuda else {}\n",
        "train_loader = torch.utils.data.DataLoader(\n",
        "    datasets.MNIST('../data', train=True, download=True,\n",
        "                    transform=transforms.Compose([\n",
        "                        transforms.ToTensor(),\n",
        "                        transforms.Normalize((0.1307,), (0.3081,))\n",
        "                    ])),\n",
        "    batch_size=batch_size, shuffle=True, **kwargs)\n",
        "test_loader = torch.utils.data.DataLoader(\n",
        "    datasets.MNIST('../data', train=False, transform=transforms.Compose([\n",
        "                        transforms.ToTensor(),\n",
        "                        transforms.Normalize((0.1307,), (0.3081,))\n",
        "                    ])),\n",
        "    batch_size=batch_size, shuffle=True, **kwargs)"
      ]
    },
    {
      "cell_type": "code",
      "execution_count": 6,
      "metadata": {
        "id": "8fDefDhaFlwH"
      },
      "outputs": [],
      "source": [
        "def train(model, device, train_loader, optimizer, epoch):\n",
        "    model.train()\n",
        "    train_loss = 0\n",
        "    train_correct = 0\n",
        "    acc=0\n",
        "    pbar = tqdm(train_loader)\n",
        "    for batch_idx, (data, target) in enumerate(pbar):\n",
        "        data, target = data.to(device), target.to(device)\n",
        "        optimizer.zero_grad()\n",
        "        output = model(data)\n",
        "        loss = F.nll_loss(output, target)\n",
        "        pred_train = output.argmax(dim=1, keepdim=True)  # get the index of the max log-probability\n",
        "        train_correct += pred_train.eq(target.view_as(pred_train)).sum().item()\n",
        "        loss.backward()\n",
        "        optimizer.step()\n",
        "        pbar.set_description(desc=f'epoch={epoch} loss={loss.item()} batch_id={batch_idx}')\n",
        "    train_loss = loss.item()\n",
        "    acc = 100. * train_correct / len(train_loader.dataset)\n",
        "    print('\\nEpoch {}--Train set: Average loss: {:.4f}, Training Accuracy: {}/{} ({:.2f}%)\\n'.format(\n",
        "        epoch, train_loss, train_correct, len(train_loader.dataset),\n",
        "        100. * train_correct / len(train_loader.dataset)))\n",
        "    return acc, train_loss\n",
        "\n",
        "\n",
        "def test(model, device, test_loader, epoch):\n",
        "    model.eval()\n",
        "    test_loss = 0\n",
        "    correct = 0\n",
        "    acc=0\n",
        "    with torch.no_grad():\n",
        "        for data, target in test_loader:\n",
        "            data, target = data.to(device), target.to(device)\n",
        "            output = model(data)\n",
        "            test_loss += F.nll_loss(output, target, reduction='sum').item()  # sum up batch loss\n",
        "            pred = output.argmax(dim=1, keepdim=True)  # get the index of the max log-probability\n",
        "            correct += pred.eq(target.view_as(pred)).sum().item()\n",
        "    \n",
        "    test_loss /= len(test_loader.dataset)\n",
        "    acc = 100. * correct / len(test_loader.dataset)\n",
        "    print('\\nEpoch {}--Test set: Average loss: {:.4f}, Validation Accuracy: {}/{} ({:.2f}%)\\n'.format(\n",
        "        epoch, test_loss, correct, len(test_loader.dataset),\n",
        "        100. * correct / len(test_loader.dataset)))\n",
        "    return acc, test_loss"
      ]
    },
    {
      "cell_type": "code",
      "execution_count": 7,
      "metadata": {
        "id": "MMWbLWO6FuHb",
        "scrolled": false,
        "outputId": "d899cbf8-3057-4884-8b0e-2c17f11f4944",
        "colab": {
          "base_uri": "https://localhost:8080/"
        }
      },
      "outputs": [
        {
          "output_type": "stream",
          "name": "stderr",
          "text": [
            "epoch=1 loss=1.5256381034851074 batch_id=937: 100%|██████████| 938/938 [00:20<00:00, 46.31it/s]"
          ]
        },
        {
          "output_type": "stream",
          "name": "stdout",
          "text": [
            "\n",
            "Epoch 1--Train set: Average loss: 1.5256, Training Accuracy: 7103/60000 (11.84%)\n",
            "\n"
          ]
        },
        {
          "output_type": "stream",
          "name": "stderr",
          "text": [
            "\n"
          ]
        },
        {
          "output_type": "stream",
          "name": "stdout",
          "text": [
            "\n",
            "Epoch 1--Test set: Average loss: 1.7952, Validation Accuracy: 3662/10000 (36.62%)\n",
            "\n"
          ]
        },
        {
          "output_type": "stream",
          "name": "stderr",
          "text": [
            "epoch=2 loss=0.21838174760341644 batch_id=937: 100%|██████████| 938/938 [00:20<00:00, 45.88it/s]"
          ]
        },
        {
          "output_type": "stream",
          "name": "stdout",
          "text": [
            "\n",
            "Epoch 2--Train set: Average loss: 0.2184, Training Accuracy: 50841/60000 (84.73%)\n",
            "\n"
          ]
        },
        {
          "output_type": "stream",
          "name": "stderr",
          "text": [
            "\n"
          ]
        },
        {
          "output_type": "stream",
          "name": "stdout",
          "text": [
            "\n",
            "Epoch 2--Test set: Average loss: 0.2152, Validation Accuracy: 9353/10000 (93.53%)\n",
            "\n"
          ]
        },
        {
          "output_type": "stream",
          "name": "stderr",
          "text": [
            "epoch=3 loss=0.3335224390029907 batch_id=937: 100%|██████████| 938/938 [00:22<00:00, 42.18it/s]"
          ]
        },
        {
          "output_type": "stream",
          "name": "stdout",
          "text": [
            "\n",
            "Epoch 3--Train set: Average loss: 0.3335, Training Accuracy: 55848/60000 (93.08%)\n",
            "\n"
          ]
        },
        {
          "output_type": "stream",
          "name": "stderr",
          "text": [
            "\n"
          ]
        },
        {
          "output_type": "stream",
          "name": "stdout",
          "text": [
            "\n",
            "Epoch 3--Test set: Average loss: 0.1641, Validation Accuracy: 9516/10000 (95.16%)\n",
            "\n"
          ]
        },
        {
          "output_type": "stream",
          "name": "stderr",
          "text": [
            "epoch=4 loss=0.18622824549674988 batch_id=937: 100%|██████████| 938/938 [00:20<00:00, 45.92it/s]"
          ]
        },
        {
          "output_type": "stream",
          "name": "stdout",
          "text": [
            "\n",
            "Epoch 4--Train set: Average loss: 0.1862, Training Accuracy: 57001/60000 (95.00%)\n",
            "\n"
          ]
        },
        {
          "output_type": "stream",
          "name": "stderr",
          "text": [
            "\n"
          ]
        },
        {
          "output_type": "stream",
          "name": "stdout",
          "text": [
            "\n",
            "Epoch 4--Test set: Average loss: 0.1381, Validation Accuracy: 9577/10000 (95.77%)\n",
            "\n"
          ]
        },
        {
          "output_type": "stream",
          "name": "stderr",
          "text": [
            "epoch=5 loss=0.059595637023448944 batch_id=937: 100%|██████████| 938/938 [00:20<00:00, 46.71it/s]\n"
          ]
        },
        {
          "output_type": "stream",
          "name": "stdout",
          "text": [
            "\n",
            "Epoch 5--Train set: Average loss: 0.0596, Training Accuracy: 57379/60000 (95.63%)\n",
            "\n",
            "\n",
            "Epoch 5--Test set: Average loss: 0.1119, Validation Accuracy: 9662/10000 (96.62%)\n",
            "\n"
          ]
        },
        {
          "output_type": "stream",
          "name": "stderr",
          "text": [
            "epoch=6 loss=0.07748168706893921 batch_id=937: 100%|██████████| 938/938 [00:19<00:00, 47.57it/s]"
          ]
        },
        {
          "output_type": "stream",
          "name": "stdout",
          "text": [
            "\n",
            "Epoch 6--Train set: Average loss: 0.0775, Training Accuracy: 57737/60000 (96.23%)\n",
            "\n"
          ]
        },
        {
          "output_type": "stream",
          "name": "stderr",
          "text": [
            "\n"
          ]
        },
        {
          "output_type": "stream",
          "name": "stdout",
          "text": [
            "\n",
            "Epoch 6--Test set: Average loss: 0.1343, Validation Accuracy: 9595/10000 (95.95%)\n",
            "\n"
          ]
        },
        {
          "output_type": "stream",
          "name": "stderr",
          "text": [
            "epoch=7 loss=0.07772501558065414 batch_id=937: 100%|██████████| 938/938 [00:19<00:00, 46.95it/s]"
          ]
        },
        {
          "output_type": "stream",
          "name": "stdout",
          "text": [
            "\n",
            "Epoch 7--Train set: Average loss: 0.0777, Training Accuracy: 57906/60000 (96.51%)\n",
            "\n"
          ]
        },
        {
          "output_type": "stream",
          "name": "stderr",
          "text": [
            "\n"
          ]
        },
        {
          "output_type": "stream",
          "name": "stdout",
          "text": [
            "\n",
            "Epoch 7--Test set: Average loss: 0.0998, Validation Accuracy: 9700/10000 (97.00%)\n",
            "\n"
          ]
        },
        {
          "output_type": "stream",
          "name": "stderr",
          "text": [
            "epoch=8 loss=0.013627096079289913 batch_id=937: 100%|██████████| 938/938 [00:22<00:00, 42.13it/s]"
          ]
        },
        {
          "output_type": "stream",
          "name": "stdout",
          "text": [
            "\n",
            "Epoch 8--Train set: Average loss: 0.0136, Training Accuracy: 58145/60000 (96.91%)\n",
            "\n"
          ]
        },
        {
          "output_type": "stream",
          "name": "stderr",
          "text": [
            "\n"
          ]
        },
        {
          "output_type": "stream",
          "name": "stdout",
          "text": [
            "\n",
            "Epoch 8--Test set: Average loss: 0.1012, Validation Accuracy: 9697/10000 (96.97%)\n",
            "\n"
          ]
        },
        {
          "output_type": "stream",
          "name": "stderr",
          "text": [
            "epoch=9 loss=0.0323362872004509 batch_id=937: 100%|██████████| 938/938 [00:19<00:00, 47.48it/s]"
          ]
        },
        {
          "output_type": "stream",
          "name": "stdout",
          "text": [
            "\n",
            "Epoch 9--Train set: Average loss: 0.0323, Training Accuracy: 58223/60000 (97.04%)\n",
            "\n"
          ]
        },
        {
          "output_type": "stream",
          "name": "stderr",
          "text": [
            "\n"
          ]
        },
        {
          "output_type": "stream",
          "name": "stdout",
          "text": [
            "\n",
            "Epoch 9--Test set: Average loss: 0.1177, Validation Accuracy: 9638/10000 (96.38%)\n",
            "\n"
          ]
        },
        {
          "output_type": "stream",
          "name": "stderr",
          "text": [
            "epoch=10 loss=0.05434206873178482 batch_id=937: 100%|██████████| 938/938 [00:20<00:00, 46.61it/s]\n"
          ]
        },
        {
          "output_type": "stream",
          "name": "stdout",
          "text": [
            "\n",
            "Epoch 10--Train set: Average loss: 0.0543, Training Accuracy: 58342/60000 (97.24%)\n",
            "\n",
            "\n",
            "Epoch 10--Test set: Average loss: 0.0863, Validation Accuracy: 9734/10000 (97.34%)\n",
            "\n"
          ]
        },
        {
          "output_type": "stream",
          "name": "stderr",
          "text": [
            "epoch=11 loss=0.1182275339961052 batch_id=937: 100%|██████████| 938/938 [00:19<00:00, 47.03it/s]"
          ]
        },
        {
          "output_type": "stream",
          "name": "stdout",
          "text": [
            "\n",
            "Epoch 11--Train set: Average loss: 0.1182, Training Accuracy: 58424/60000 (97.37%)\n",
            "\n"
          ]
        },
        {
          "output_type": "stream",
          "name": "stderr",
          "text": [
            "\n"
          ]
        },
        {
          "output_type": "stream",
          "name": "stdout",
          "text": [
            "\n",
            "Epoch 11--Test set: Average loss: 0.0893, Validation Accuracy: 9735/10000 (97.35%)\n",
            "\n"
          ]
        },
        {
          "output_type": "stream",
          "name": "stderr",
          "text": [
            "epoch=12 loss=0.021401813253760338 batch_id=937: 100%|██████████| 938/938 [00:20<00:00, 45.51it/s]"
          ]
        },
        {
          "output_type": "stream",
          "name": "stdout",
          "text": [
            "\n",
            "Epoch 12--Train set: Average loss: 0.0214, Training Accuracy: 58525/60000 (97.54%)\n",
            "\n"
          ]
        },
        {
          "output_type": "stream",
          "name": "stderr",
          "text": [
            "\n"
          ]
        },
        {
          "output_type": "stream",
          "name": "stdout",
          "text": [
            "\n",
            "Epoch 12--Test set: Average loss: 0.0745, Validation Accuracy: 9758/10000 (97.58%)\n",
            "\n"
          ]
        },
        {
          "output_type": "stream",
          "name": "stderr",
          "text": [
            "epoch=13 loss=0.10001946240663528 batch_id=937: 100%|██████████| 938/938 [00:19<00:00, 46.98it/s]"
          ]
        },
        {
          "output_type": "stream",
          "name": "stdout",
          "text": [
            "\n",
            "Epoch 13--Train set: Average loss: 0.1000, Training Accuracy: 58560/60000 (97.60%)\n",
            "\n"
          ]
        },
        {
          "output_type": "stream",
          "name": "stderr",
          "text": [
            "\n"
          ]
        },
        {
          "output_type": "stream",
          "name": "stdout",
          "text": [
            "\n",
            "Epoch 13--Test set: Average loss: 0.0830, Validation Accuracy: 9751/10000 (97.51%)\n",
            "\n"
          ]
        },
        {
          "output_type": "stream",
          "name": "stderr",
          "text": [
            "epoch=14 loss=0.010474154725670815 batch_id=937: 100%|██████████| 938/938 [00:19<00:00, 47.03it/s]"
          ]
        },
        {
          "output_type": "stream",
          "name": "stdout",
          "text": [
            "\n",
            "Epoch 14--Train set: Average loss: 0.0105, Training Accuracy: 58604/60000 (97.67%)\n",
            "\n"
          ]
        },
        {
          "output_type": "stream",
          "name": "stderr",
          "text": [
            "\n"
          ]
        },
        {
          "output_type": "stream",
          "name": "stdout",
          "text": [
            "\n",
            "Epoch 14--Test set: Average loss: 0.0702, Validation Accuracy: 9777/10000 (97.77%)\n",
            "\n"
          ]
        },
        {
          "output_type": "stream",
          "name": "stderr",
          "text": [
            "epoch=15 loss=0.021085279062390327 batch_id=937: 100%|██████████| 938/938 [00:19<00:00, 47.22it/s]"
          ]
        },
        {
          "output_type": "stream",
          "name": "stdout",
          "text": [
            "\n",
            "Epoch 15--Train set: Average loss: 0.0211, Training Accuracy: 58686/60000 (97.81%)\n",
            "\n"
          ]
        },
        {
          "output_type": "stream",
          "name": "stderr",
          "text": [
            "\n"
          ]
        },
        {
          "output_type": "stream",
          "name": "stdout",
          "text": [
            "\n",
            "Epoch 15--Test set: Average loss: 0.0711, Validation Accuracy: 9773/10000 (97.73%)\n",
            "\n"
          ]
        },
        {
          "output_type": "stream",
          "name": "stderr",
          "text": [
            "epoch=16 loss=0.043340492993593216 batch_id=937: 100%|██████████| 938/938 [00:20<00:00, 46.75it/s]"
          ]
        },
        {
          "output_type": "stream",
          "name": "stdout",
          "text": [
            "\n",
            "Epoch 16--Train set: Average loss: 0.0433, Training Accuracy: 58736/60000 (97.89%)\n",
            "\n"
          ]
        },
        {
          "output_type": "stream",
          "name": "stderr",
          "text": [
            "\n"
          ]
        },
        {
          "output_type": "stream",
          "name": "stdout",
          "text": [
            "\n",
            "Epoch 16--Test set: Average loss: 0.0621, Validation Accuracy: 9801/10000 (98.01%)\n",
            "\n"
          ]
        },
        {
          "output_type": "stream",
          "name": "stderr",
          "text": [
            "epoch=17 loss=0.005657188128679991 batch_id=937: 100%|██████████| 938/938 [00:19<00:00, 47.34it/s]"
          ]
        },
        {
          "output_type": "stream",
          "name": "stdout",
          "text": [
            "\n",
            "Epoch 17--Train set: Average loss: 0.0057, Training Accuracy: 58786/60000 (97.98%)\n",
            "\n"
          ]
        },
        {
          "output_type": "stream",
          "name": "stderr",
          "text": [
            "\n"
          ]
        },
        {
          "output_type": "stream",
          "name": "stdout",
          "text": [
            "\n",
            "Epoch 17--Test set: Average loss: 0.0659, Validation Accuracy: 9784/10000 (97.84%)\n",
            "\n"
          ]
        },
        {
          "output_type": "stream",
          "name": "stderr",
          "text": [
            "epoch=18 loss=0.10739366710186005 batch_id=937: 100%|██████████| 938/938 [00:20<00:00, 46.70it/s]"
          ]
        },
        {
          "output_type": "stream",
          "name": "stdout",
          "text": [
            "\n",
            "Epoch 18--Train set: Average loss: 0.1074, Training Accuracy: 58832/60000 (98.05%)\n",
            "\n"
          ]
        },
        {
          "output_type": "stream",
          "name": "stderr",
          "text": [
            "\n"
          ]
        },
        {
          "output_type": "stream",
          "name": "stdout",
          "text": [
            "\n",
            "Epoch 18--Test set: Average loss: 0.0624, Validation Accuracy: 9814/10000 (98.14%)\n",
            "\n"
          ]
        },
        {
          "output_type": "stream",
          "name": "stderr",
          "text": [
            "epoch=19 loss=0.07735539227724075 batch_id=937: 100%|██████████| 938/938 [00:20<00:00, 46.87it/s]"
          ]
        },
        {
          "output_type": "stream",
          "name": "stdout",
          "text": [
            "\n",
            "Epoch 19--Train set: Average loss: 0.0774, Training Accuracy: 58780/60000 (97.97%)\n",
            "\n"
          ]
        },
        {
          "output_type": "stream",
          "name": "stderr",
          "text": [
            "\n"
          ]
        },
        {
          "output_type": "stream",
          "name": "stdout",
          "text": [
            "\n",
            "Epoch 19--Test set: Average loss: 0.0683, Validation Accuracy: 9785/10000 (97.85%)\n",
            "\n"
          ]
        },
        {
          "output_type": "stream",
          "name": "stderr",
          "text": [
            "epoch=20 loss=0.18197119235992432 batch_id=937: 100%|██████████| 938/938 [00:20<00:00, 46.83it/s]\n"
          ]
        },
        {
          "output_type": "stream",
          "name": "stdout",
          "text": [
            "\n",
            "Epoch 20--Train set: Average loss: 0.1820, Training Accuracy: 58862/60000 (98.10%)\n",
            "\n",
            "\n",
            "Epoch 20--Test set: Average loss: 0.0541, Validation Accuracy: 9816/10000 (98.16%)\n",
            "\n"
          ]
        }
      ],
      "source": [
        "model1 = Net1().to(device)\n",
        "optimizer = optim.SGD(model1.parameters(), lr=0.01, momentum=0.9)\n",
        "acc_history = []\n",
        "loss_history = []\n",
        "val_acc_history = []\n",
        "val_loss_history = []\n",
        "for epoch in range(1, 21):\n",
        "    acc, train_loss = train(model1, device, train_loader, optimizer, epoch)\n",
        "    val_acc, test_loss = test(model1, device, test_loader, epoch)\n",
        "    acc_history.append(acc)\n",
        "    loss_history.append(train_loss)\n",
        "    val_acc_history.append(val_acc)\n",
        "    val_loss_history.append(test_loss)"
      ]
    },
    {
      "cell_type": "code",
      "execution_count": 8,
      "metadata": {
        "id": "So5uk4EkHW6R",
        "outputId": "b0267a66-97fd-43a4-adc1-add9a0d0ba9e",
        "colab": {
          "base_uri": "https://localhost:8080/",
          "height": 295
        }
      },
      "outputs": [
        {
          "output_type": "display_data",
          "data": {
            "text/plain": [
              "<Figure size 432x288 with 1 Axes>"
            ],
            "image/png": "[encoded data removed]"
          },
          "metadata": {
            "needs_background": "light"
          }
        }
      ],
      "source": [
        "_= plt.plot(acc_history)\n",
        "_= plt.plot(val_acc_history)\n",
        "_= plt.title('model accuracy')\n",
        "_= plt.ylabel('accuracy')\n",
        "_= plt.xlabel('epoch')\n",
        "_= plt.legend(['train', 'val'], loc='upper left')\n",
        "_= plt.show()"
      ]
    },
    {
      "cell_type": "code",
      "execution_count": 9,
      "metadata": {
        "id": "bpgacR21FFl7",
        "outputId": "420d18d3-898c-4660-a103-bd4467142a28",
        "colab": {
          "base_uri": "https://localhost:8080/",
          "height": 295
        }
      },
      "outputs": [
        {
          "output_type": "display_data",
          "data": {
            "text/plain": [
              "<Figure size 432x288 with 1 Axes>"
            ],
            "image/png": "[encoded data removed]"
          },
          "metadata": {
            "needs_background": "light"
          }
        }
      ],
      "source": [
        "_= plt.plot(loss_history)\n",
        "_= plt.plot(val_loss_history)\n",
        "_= plt.title('model loss')\n",
        "_= plt.ylabel('loss')\n",
        "_= plt.xlabel('epoch')\n",
        "_= plt.legend(['train', 'val'], loc='upper left')\n",
        "_= plt.show()"
      ]
    },
    {
      "cell_type": "markdown",
      "metadata": {
        "id": "w_3fgEEvFFl8"
      },
      "source": [
        "- First observation: with total 3,816 parameters, the max validation accuracy reached: ~98.16%\n",
        "\n",
        "- The logs and accuracy plot above show that there is some overfitting in terms of the accuracy plot, that the train and test accuracies seem to be running in close step/embrace. With not much \"potential\" for the test/validation accuracy to increase, with a corresponding increase in training accuracy.\n",
        "\n",
        "- Additionally, with required 20 epochs, the \"network capacity\" seems to be NOT sufficient to meet the goal.\n",
        "\n",
        "- But, despite an urgent need for \"capacity-boost\" thru increased channels, we would STILL like to see, if with an \"incremental\" addition of Batch-Norm, Dropout, what extra effects/benefits or disadvantages could be seen? \n"
      ]
    },
    {
      "cell_type": "markdown",
      "source": [
        "#2nd NW: added just the Batch Normalization at each layer(we should expect some increase in accuracy in this case)"
      ],
      "metadata": {
        "id": "_GtI-DoTHeOh"
      }
    },
    {
      "cell_type": "markdown",
      "metadata": {
        "id": "L2bge17yFFl-"
      },
      "source": [
        "Input Channels/Image  |  Conv2d/Transform      | Output Channels | RF\n",
        "---------------------|--------------|----------------------|----------------------\n",
        "`28x28x1`              | `(3x3x1)x8`   |      `26x26x8`  |      `3x3`| \n",
        "             |          `BN(8)`  |   \n",
        "             |          `ReLU`  | \n",
        "**26x26x8**             | **(3x3x8)x8**  |      **24x24x8** |      **5x5**\n",
        "             |          **BN(8)**  |   \n",
        "             |          **ReLU**  |                 \n",
        "**24x24x8**             | **(3x3x8)x16**  |      **22x22x16** |      **7x7** \n",
        "             |          **BN(16)**  |  \n",
        "             |          **ReLU**  |                 \n",
        "*22x22x16*             |   *MP(2x2)*    |      *11x11x16*   |      *14x14*                      \n",
        "*11x11x16*             | *(1x1x16)x8*  |      *11x11x8*    |      *14x14* \n",
        "             |          *BN(8)*  |  \n",
        "             |          *ReLU*  |     \n",
        "**11x11x8**             | **(3x3x8)x8**  |      **9x9x8** |      **16x16** \n",
        "             |          **BN(8)**  |  \n",
        "             |          **ReLU**  |       \n",
        "**9x9x8**               | **(3x3x8)x16**  |      **7x7x16**  |      **18x18** \n",
        "             |          **BN(16)**  |  \n",
        "             |          **ReLU**  |       \n",
        "*7x7x16*               | *(1x1x16)x10*  |      *7x7x10*    |      *18x18*  (NO RELU at the o/p of this layer)    \n",
        "7x7x10               | GAP  LAYER   |      1x10          |"
      ]
    },
    {
      "cell_type": "code",
      "execution_count": 2,
      "metadata": {
        "id": "RTUemFOEFFl-"
      },
      "outputs": [],
      "source": [
        "class Net2(nn.Module):\n",
        "    def __init__(self):\n",
        "        super(Net2, self).__init__()\n",
        "        self.conv1 = nn.Conv2d(1, 8, 3, bias=False)#input:28x28x1, output:26x26x8, RF:3x3\n",
        "        self.conv1_bn1 = nn.BatchNorm2d(8)\n",
        "\n",
        "        self.conv2 = nn.Conv2d(8, 8, 3, bias=False)#input:26x26x8, output:24x24x8, RF:5x5 \n",
        "        self.conv2_bn2 = nn.BatchNorm2d(8)\n",
        "        self.conv3 = nn.Conv2d(8, 16, 3, bias=False)#input:24x24x8, output:22x22x16, RF:7x7\n",
        "        self.conv3_bn3 = nn.BatchNorm2d(16)\n",
        "\n",
        "        self.pool1 = nn.MaxPool2d(2, 2)#input:22x22x16, output:11x11x16, RF:14x14  \n",
        "        self.conv4 = nn.Conv2d(16, 8, 1, bias=False)#input:11x11x16, output:11x11x8, RF:14x14\n",
        "        self.conv4_bn4 = nn.BatchNorm2d(8)\n",
        "\n",
        "        self.conv5 = nn.Conv2d(8, 8, 3, bias=False)#input:11x11x8, output:9x9x8, RF:16x16 \n",
        "        self.conv5_bn5 = nn.BatchNorm2d(8)\n",
        "        self.conv6 = nn.Conv2d(8, 16, 3, bias=False)#input:9x9x8, output:7x7x16, RF:18x18\n",
        "        self.conv6_bn6 = nn.BatchNorm2d(16)\n",
        "\n",
        "        self.conv7 = nn.Conv2d(16, 10, 1, bias=False)#input:7x7x16, output:7x7x10, RF:18x18\n",
        "        self.gap1 = nn.AvgPool2d(kernel_size=7)#input:7x7x10, output:1x1x10 (or 1x10, 1-D data format now)\n",
        "        \n",
        "    def forward(self, x):\n",
        "        x = F.relu(self.conv1_bn1(self.conv1(x)))# First Layer Separate\n",
        "        x = F.relu(self.conv3_bn3(self.conv3(F.relu(self.conv2_bn2(self.conv2(x))))))# First Block\n",
        "        x = F.relu(self.conv4_bn4(self.conv4(self.pool1(x))))# first transition block\n",
        "        x = F.relu(self.conv6_bn6(self.conv6(F.relu(self.conv5_bn5(self.conv5(x))))))# Second Block \n",
        "        x = self.conv7(x)#there is no ReLU at this 1x1 operator's O/p, leading to GAP & beyond \n",
        "        x = self.gap1(x) # Global Average Pool layer\n",
        "        x = x.view(-1, 10)#Num of classes = 10 (digits to be identified)\n",
        "        return F.log_softmax(x, dim=1)"
      ]
    },
    {
      "cell_type": "code",
      "execution_count": 3,
      "metadata": {
        "id": "9TvIYFqfFFl-",
        "outputId": "12386a81-2b19-4ff7-b04c-68d4edab8ee3",
        "colab": {
          "base_uri": "https://localhost:8080/"
        }
      },
      "outputs": [
        {
          "output_type": "stream",
          "name": "stdout",
          "text": [
            "----------------------------------------------------------------\n",
            "        Layer (type)               Output Shape         Param #\n",
            "================================================================\n",
            "            Conv2d-1            [-1, 8, 26, 26]              72\n",
            "       BatchNorm2d-2            [-1, 8, 26, 26]              16\n",
            "            Conv2d-3            [-1, 8, 24, 24]             576\n",
            "       BatchNorm2d-4            [-1, 8, 24, 24]              16\n",
            "            Conv2d-5           [-1, 16, 22, 22]           1,152\n",
            "       BatchNorm2d-6           [-1, 16, 22, 22]              32\n",
            "         MaxPool2d-7           [-1, 16, 11, 11]               0\n",
            "            Conv2d-8            [-1, 8, 11, 11]             128\n",
            "       BatchNorm2d-9            [-1, 8, 11, 11]              16\n",
            "           Conv2d-10              [-1, 8, 9, 9]             576\n",
            "      BatchNorm2d-11              [-1, 8, 9, 9]              16\n",
            "           Conv2d-12             [-1, 16, 7, 7]           1,152\n",
            "      BatchNorm2d-13             [-1, 16, 7, 7]              32\n",
            "           Conv2d-14             [-1, 10, 7, 7]             160\n",
            "        AvgPool2d-15             [-1, 10, 1, 1]               0\n",
            "================================================================\n",
            "Total params: 3,944\n",
            "Trainable params: 3,944\n",
            "Non-trainable params: 0\n",
            "----------------------------------------------------------------\n",
            "Input size (MB): 0.00\n",
            "Forward/backward pass size (MB): 0.33\n",
            "Params size (MB): 0.02\n",
            "Estimated Total Size (MB): 0.34\n",
            "----------------------------------------------------------------\n"
          ]
        }
      ],
      "source": [
        "use_cuda = torch.cuda.is_available()\n",
        "device = torch.device(\"cuda\" if use_cuda else \"cpu\")\n",
        "model2 = Net2().to(device)\n",
        "summary(model2, input_size=(1, 28, 28))"
      ]
    },
    {
      "cell_type": "code",
      "execution_count": 4,
      "metadata": {
        "id": "0JdwjAUHFFl-"
      },
      "outputs": [],
      "source": [
        "torch.manual_seed(1)\n",
        "batch_size = 64\n",
        "\n",
        "kwargs = {'num_workers': 1, 'pin_memory': True} if use_cuda else {}\n",
        "train_loader = torch.utils.data.DataLoader(\n",
        "    datasets.MNIST('../data', train=True, download=True,\n",
        "                    transform=transforms.Compose([\n",
        "                        transforms.ToTensor(),\n",
        "                        transforms.Normalize((0.1307,), (0.3081,))\n",
        "                    ])),\n",
        "    batch_size=batch_size, shuffle=True, **kwargs)\n",
        "test_loader = torch.utils.data.DataLoader(\n",
        "    datasets.MNIST('../data', train=False, transform=transforms.Compose([\n",
        "                        transforms.ToTensor(),\n",
        "                        transforms.Normalize((0.1307,), (0.3081,))\n",
        "                    ])),\n",
        "    batch_size=batch_size, shuffle=True, **kwargs)"
      ]
    },
    {
      "cell_type": "code",
      "execution_count": 5,
      "metadata": {
        "id": "lE0AjfPHFFl-"
      },
      "outputs": [],
      "source": [
        "def train(model, device, train_loader, optimizer, epoch):\n",
        "    model.train()\n",
        "    train_loss = 0\n",
        "    train_correct = 0\n",
        "    acc=0\n",
        "    pbar = tqdm(train_loader)\n",
        "    for batch_idx, (data, target) in enumerate(pbar):\n",
        "        data, target = data.to(device), target.to(device)\n",
        "        optimizer.zero_grad()\n",
        "        output = model(data)\n",
        "        loss = F.nll_loss(output, target)\n",
        "        pred_train = output.argmax(dim=1, keepdim=True)  # get the index of the max log-probability\n",
        "        train_correct += pred_train.eq(target.view_as(pred_train)).sum().item()\n",
        "        loss.backward()\n",
        "        optimizer.step()\n",
        "        pbar.set_description(desc=f'epoch={epoch} loss={loss.item()} batch_id={batch_idx}')\n",
        "    train_loss = loss.item()\n",
        "    acc = 100. * train_correct / len(train_loader.dataset)\n",
        "    print('\\nEpoch {}--Train set: Average loss: {:.4f}, Training Accuracy: {}/{} ({:.2f}%)\\n'.format(\n",
        "        epoch, train_loss, train_correct, len(train_loader.dataset),\n",
        "        100. * train_correct / len(train_loader.dataset)))\n",
        "    return acc, train_loss\n",
        "\n",
        "\n",
        "def test(model, device, test_loader, epoch):\n",
        "    model.eval()\n",
        "    test_loss = 0\n",
        "    correct = 0\n",
        "    acc=0\n",
        "    with torch.no_grad():\n",
        "        for data, target in test_loader:\n",
        "            data, target = data.to(device), target.to(device)\n",
        "            output = model(data)\n",
        "            test_loss += F.nll_loss(output, target, reduction='sum').item()  # sum up batch loss\n",
        "            pred = output.argmax(dim=1, keepdim=True)  # get the index of the max log-probability\n",
        "            correct += pred.eq(target.view_as(pred)).sum().item()\n",
        "    \n",
        "    test_loss /= len(test_loader.dataset)\n",
        "    acc = 100. * correct / len(test_loader.dataset)\n",
        "    print('\\nEpoch {}--Test set: Average loss: {:.4f}, Validation Accuracy: {}/{} ({:.2f}%)\\n'.format(\n",
        "        epoch, test_loss, correct, len(test_loader.dataset),\n",
        "        100. * correct / len(test_loader.dataset)))\n",
        "    return acc, test_loss"
      ]
    },
    {
      "cell_type": "code",
      "execution_count": 6,
      "metadata": {
        "scrolled": false,
        "id": "xTK-YsUoFFl-",
        "outputId": "b560bf22-0149-4661-89d0-37473dcc0cee",
        "colab": {
          "base_uri": "https://localhost:8080/"
        }
      },
      "outputs": [
        {
          "output_type": "stream",
          "name": "stderr",
          "text": [
            "epoch=1 loss=0.2425346076488495 batch_id=937: 100%|██████████| 938/938 [00:23<00:00, 40.66it/s]"
          ]
        },
        {
          "output_type": "stream",
          "name": "stdout",
          "text": [
            "\n",
            "Epoch 1--Train set: Average loss: 0.2425, Training Accuracy: 50214/60000 (83.69%)\n",
            "\n"
          ]
        },
        {
          "output_type": "stream",
          "name": "stderr",
          "text": [
            "\n"
          ]
        },
        {
          "output_type": "stream",
          "name": "stdout",
          "text": [
            "\n",
            "Epoch 1--Test set: Average loss: 0.1446, Validation Accuracy: 9654/10000 (96.54%)\n",
            "\n"
          ]
        },
        {
          "output_type": "stream",
          "name": "stderr",
          "text": [
            "epoch=2 loss=0.0702226534485817 batch_id=937: 100%|██████████| 938/938 [00:21<00:00, 43.26it/s]"
          ]
        },
        {
          "output_type": "stream",
          "name": "stdout",
          "text": [
            "\n",
            "Epoch 2--Train set: Average loss: 0.0702, Training Accuracy: 58037/60000 (96.73%)\n",
            "\n"
          ]
        },
        {
          "output_type": "stream",
          "name": "stderr",
          "text": [
            "\n"
          ]
        },
        {
          "output_type": "stream",
          "name": "stdout",
          "text": [
            "\n",
            "Epoch 2--Test set: Average loss: 0.1260, Validation Accuracy: 9645/10000 (96.45%)\n",
            "\n"
          ]
        },
        {
          "output_type": "stream",
          "name": "stderr",
          "text": [
            "epoch=3 loss=0.10387763381004333 batch_id=937: 100%|██████████| 938/938 [00:20<00:00, 44.96it/s]"
          ]
        },
        {
          "output_type": "stream",
          "name": "stdout",
          "text": [
            "\n",
            "Epoch 3--Train set: Average loss: 0.1039, Training Accuracy: 58503/60000 (97.50%)\n",
            "\n"
          ]
        },
        {
          "output_type": "stream",
          "name": "stderr",
          "text": [
            "\n"
          ]
        },
        {
          "output_type": "stream",
          "name": "stdout",
          "text": [
            "\n",
            "Epoch 3--Test set: Average loss: 0.0843, Validation Accuracy: 9764/10000 (97.64%)\n",
            "\n"
          ]
        },
        {
          "output_type": "stream",
          "name": "stderr",
          "text": [
            "epoch=4 loss=0.028218435123562813 batch_id=937: 100%|██████████| 938/938 [00:20<00:00, 44.91it/s]"
          ]
        },
        {
          "output_type": "stream",
          "name": "stdout",
          "text": [
            "\n",
            "Epoch 4--Train set: Average loss: 0.0282, Training Accuracy: 58689/60000 (97.81%)\n",
            "\n"
          ]
        },
        {
          "output_type": "stream",
          "name": "stderr",
          "text": [
            "\n"
          ]
        },
        {
          "output_type": "stream",
          "name": "stdout",
          "text": [
            "\n",
            "Epoch 4--Test set: Average loss: 0.0735, Validation Accuracy: 9779/10000 (97.79%)\n",
            "\n"
          ]
        },
        {
          "output_type": "stream",
          "name": "stderr",
          "text": [
            "epoch=5 loss=0.17054538428783417 batch_id=937: 100%|██████████| 938/938 [00:23<00:00, 40.48it/s]"
          ]
        },
        {
          "output_type": "stream",
          "name": "stdout",
          "text": [
            "\n",
            "Epoch 5--Train set: Average loss: 0.1705, Training Accuracy: 58815/60000 (98.03%)\n",
            "\n"
          ]
        },
        {
          "output_type": "stream",
          "name": "stderr",
          "text": [
            "\n"
          ]
        },
        {
          "output_type": "stream",
          "name": "stdout",
          "text": [
            "\n",
            "Epoch 5--Test set: Average loss: 0.0639, Validation Accuracy: 9821/10000 (98.21%)\n",
            "\n"
          ]
        },
        {
          "output_type": "stream",
          "name": "stderr",
          "text": [
            "epoch=6 loss=0.016321348026394844 batch_id=937: 100%|██████████| 938/938 [00:22<00:00, 41.70it/s]"
          ]
        },
        {
          "output_type": "stream",
          "name": "stdout",
          "text": [
            "\n",
            "Epoch 6--Train set: Average loss: 0.0163, Training Accuracy: 58942/60000 (98.24%)\n",
            "\n"
          ]
        },
        {
          "output_type": "stream",
          "name": "stderr",
          "text": [
            "\n"
          ]
        },
        {
          "output_type": "stream",
          "name": "stdout",
          "text": [
            "\n",
            "Epoch 6--Test set: Average loss: 0.0549, Validation Accuracy: 9825/10000 (98.25%)\n",
            "\n"
          ]
        },
        {
          "output_type": "stream",
          "name": "stderr",
          "text": [
            "epoch=7 loss=0.015870360657572746 batch_id=937: 100%|██████████| 938/938 [00:21<00:00, 43.17it/s]"
          ]
        },
        {
          "output_type": "stream",
          "name": "stdout",
          "text": [
            "\n",
            "Epoch 7--Train set: Average loss: 0.0159, Training Accuracy: 59017/60000 (98.36%)\n",
            "\n"
          ]
        },
        {
          "output_type": "stream",
          "name": "stderr",
          "text": [
            "\n"
          ]
        },
        {
          "output_type": "stream",
          "name": "stdout",
          "text": [
            "\n",
            "Epoch 7--Test set: Average loss: 0.0534, Validation Accuracy: 9834/10000 (98.34%)\n",
            "\n"
          ]
        },
        {
          "output_type": "stream",
          "name": "stderr",
          "text": [
            "epoch=8 loss=0.01618575118482113 batch_id=937: 100%|██████████| 938/938 [00:23<00:00, 40.58it/s]"
          ]
        },
        {
          "output_type": "stream",
          "name": "stdout",
          "text": [
            "\n",
            "Epoch 8--Train set: Average loss: 0.0162, Training Accuracy: 59069/60000 (98.45%)\n",
            "\n"
          ]
        },
        {
          "output_type": "stream",
          "name": "stderr",
          "text": [
            "\n"
          ]
        },
        {
          "output_type": "stream",
          "name": "stdout",
          "text": [
            "\n",
            "Epoch 8--Test set: Average loss: 0.0473, Validation Accuracy: 9865/10000 (98.65%)\n",
            "\n"
          ]
        },
        {
          "output_type": "stream",
          "name": "stderr",
          "text": [
            "epoch=9 loss=0.026916181668639183 batch_id=937: 100%|██████████| 938/938 [00:23<00:00, 39.62it/s]"
          ]
        },
        {
          "output_type": "stream",
          "name": "stdout",
          "text": [
            "\n",
            "Epoch 9--Train set: Average loss: 0.0269, Training Accuracy: 59106/60000 (98.51%)\n",
            "\n"
          ]
        },
        {
          "output_type": "stream",
          "name": "stderr",
          "text": [
            "\n"
          ]
        },
        {
          "output_type": "stream",
          "name": "stdout",
          "text": [
            "\n",
            "Epoch 9--Test set: Average loss: 0.0533, Validation Accuracy: 9832/10000 (98.32%)\n",
            "\n"
          ]
        },
        {
          "output_type": "stream",
          "name": "stderr",
          "text": [
            "epoch=10 loss=0.028154082596302032 batch_id=937: 100%|██████████| 938/938 [00:20<00:00, 45.40it/s]"
          ]
        },
        {
          "output_type": "stream",
          "name": "stdout",
          "text": [
            "\n",
            "Epoch 10--Train set: Average loss: 0.0282, Training Accuracy: 59176/60000 (98.63%)\n",
            "\n"
          ]
        },
        {
          "output_type": "stream",
          "name": "stderr",
          "text": [
            "\n"
          ]
        },
        {
          "output_type": "stream",
          "name": "stdout",
          "text": [
            "\n",
            "Epoch 10--Test set: Average loss: 0.0431, Validation Accuracy: 9857/10000 (98.57%)\n",
            "\n"
          ]
        },
        {
          "output_type": "stream",
          "name": "stderr",
          "text": [
            "epoch=11 loss=0.02262197434902191 batch_id=937: 100%|██████████| 938/938 [00:24<00:00, 38.93it/s]"
          ]
        },
        {
          "output_type": "stream",
          "name": "stdout",
          "text": [
            "\n",
            "Epoch 11--Train set: Average loss: 0.0226, Training Accuracy: 59233/60000 (98.72%)\n",
            "\n"
          ]
        },
        {
          "output_type": "stream",
          "name": "stderr",
          "text": [
            "\n"
          ]
        },
        {
          "output_type": "stream",
          "name": "stdout",
          "text": [
            "\n",
            "Epoch 11--Test set: Average loss: 0.0400, Validation Accuracy: 9876/10000 (98.76%)\n",
            "\n"
          ]
        },
        {
          "output_type": "stream",
          "name": "stderr",
          "text": [
            "epoch=12 loss=0.06976579874753952 batch_id=937: 100%|██████████| 938/938 [00:25<00:00, 37.34it/s]"
          ]
        },
        {
          "output_type": "stream",
          "name": "stdout",
          "text": [
            "\n",
            "Epoch 12--Train set: Average loss: 0.0698, Training Accuracy: 59213/60000 (98.69%)\n",
            "\n"
          ]
        },
        {
          "output_type": "stream",
          "name": "stderr",
          "text": [
            "\n"
          ]
        },
        {
          "output_type": "stream",
          "name": "stdout",
          "text": [
            "\n",
            "Epoch 12--Test set: Average loss: 0.0431, Validation Accuracy: 9873/10000 (98.73%)\n",
            "\n"
          ]
        },
        {
          "output_type": "stream",
          "name": "stderr",
          "text": [
            "epoch=13 loss=0.07526052743196487 batch_id=937: 100%|██████████| 938/938 [00:25<00:00, 37.27it/s]"
          ]
        },
        {
          "output_type": "stream",
          "name": "stdout",
          "text": [
            "\n",
            "Epoch 13--Train set: Average loss: 0.0753, Training Accuracy: 59299/60000 (98.83%)\n",
            "\n"
          ]
        },
        {
          "output_type": "stream",
          "name": "stderr",
          "text": [
            "\n"
          ]
        },
        {
          "output_type": "stream",
          "name": "stdout",
          "text": [
            "\n",
            "Epoch 13--Test set: Average loss: 0.0427, Validation Accuracy: 9851/10000 (98.51%)\n",
            "\n"
          ]
        },
        {
          "output_type": "stream",
          "name": "stderr",
          "text": [
            "epoch=14 loss=0.011611970141530037 batch_id=937: 100%|██████████| 938/938 [00:22<00:00, 40.81it/s]"
          ]
        },
        {
          "output_type": "stream",
          "name": "stdout",
          "text": [
            "\n",
            "Epoch 14--Train set: Average loss: 0.0116, Training Accuracy: 59296/60000 (98.83%)\n",
            "\n"
          ]
        },
        {
          "output_type": "stream",
          "name": "stderr",
          "text": [
            "\n"
          ]
        },
        {
          "output_type": "stream",
          "name": "stdout",
          "text": [
            "\n",
            "Epoch 14--Test set: Average loss: 0.0441, Validation Accuracy: 9870/10000 (98.70%)\n",
            "\n"
          ]
        },
        {
          "output_type": "stream",
          "name": "stderr",
          "text": [
            "epoch=15 loss=0.006371391471475363 batch_id=937: 100%|██████████| 938/938 [00:21<00:00, 44.06it/s]"
          ]
        },
        {
          "output_type": "stream",
          "name": "stdout",
          "text": [
            "\n",
            "Epoch 15--Train set: Average loss: 0.0064, Training Accuracy: 59332/60000 (98.89%)\n",
            "\n"
          ]
        },
        {
          "output_type": "stream",
          "name": "stderr",
          "text": [
            "\n"
          ]
        },
        {
          "output_type": "stream",
          "name": "stdout",
          "text": [
            "\n",
            "Epoch 15--Test set: Average loss: 0.0351, Validation Accuracy: 9894/10000 (98.94%)\n",
            "\n"
          ]
        },
        {
          "output_type": "stream",
          "name": "stderr",
          "text": [
            "epoch=16 loss=0.020515767857432365 batch_id=937: 100%|██████████| 938/938 [00:22<00:00, 42.33it/s]"
          ]
        },
        {
          "output_type": "stream",
          "name": "stdout",
          "text": [
            "\n",
            "Epoch 16--Train set: Average loss: 0.0205, Training Accuracy: 59346/60000 (98.91%)\n",
            "\n"
          ]
        },
        {
          "output_type": "stream",
          "name": "stderr",
          "text": [
            "\n"
          ]
        },
        {
          "output_type": "stream",
          "name": "stdout",
          "text": [
            "\n",
            "Epoch 16--Test set: Average loss: 0.0435, Validation Accuracy: 9864/10000 (98.64%)\n",
            "\n"
          ]
        },
        {
          "output_type": "stream",
          "name": "stderr",
          "text": [
            "epoch=17 loss=0.07055173814296722 batch_id=937: 100%|██████████| 938/938 [00:22<00:00, 42.03it/s]"
          ]
        },
        {
          "output_type": "stream",
          "name": "stdout",
          "text": [
            "\n",
            "Epoch 17--Train set: Average loss: 0.0706, Training Accuracy: 59355/60000 (98.92%)\n",
            "\n"
          ]
        },
        {
          "output_type": "stream",
          "name": "stderr",
          "text": [
            "\n"
          ]
        },
        {
          "output_type": "stream",
          "name": "stdout",
          "text": [
            "\n",
            "Epoch 17--Test set: Average loss: 0.0363, Validation Accuracy: 9887/10000 (98.87%)\n",
            "\n"
          ]
        },
        {
          "output_type": "stream",
          "name": "stderr",
          "text": [
            "epoch=18 loss=0.18313534557819366 batch_id=937: 100%|██████████| 938/938 [00:24<00:00, 38.46it/s]"
          ]
        },
        {
          "output_type": "stream",
          "name": "stdout",
          "text": [
            "\n",
            "Epoch 18--Train set: Average loss: 0.1831, Training Accuracy: 59398/60000 (99.00%)\n",
            "\n"
          ]
        },
        {
          "output_type": "stream",
          "name": "stderr",
          "text": [
            "\n"
          ]
        },
        {
          "output_type": "stream",
          "name": "stdout",
          "text": [
            "\n",
            "Epoch 18--Test set: Average loss: 0.0461, Validation Accuracy: 9858/10000 (98.58%)\n",
            "\n"
          ]
        },
        {
          "output_type": "stream",
          "name": "stderr",
          "text": [
            "epoch=19 loss=0.027960361912846565 batch_id=937: 100%|██████████| 938/938 [00:24<00:00, 38.82it/s]"
          ]
        },
        {
          "output_type": "stream",
          "name": "stdout",
          "text": [
            "\n",
            "Epoch 19--Train set: Average loss: 0.0280, Training Accuracy: 59372/60000 (98.95%)\n",
            "\n"
          ]
        },
        {
          "output_type": "stream",
          "name": "stderr",
          "text": [
            "\n"
          ]
        },
        {
          "output_type": "stream",
          "name": "stdout",
          "text": [
            "\n",
            "Epoch 19--Test set: Average loss: 0.0369, Validation Accuracy: 9874/10000 (98.74%)\n",
            "\n"
          ]
        },
        {
          "output_type": "stream",
          "name": "stderr",
          "text": [
            "epoch=20 loss=0.13993312418460846 batch_id=937: 100%|██████████| 938/938 [00:20<00:00, 45.03it/s]"
          ]
        },
        {
          "output_type": "stream",
          "name": "stdout",
          "text": [
            "\n",
            "Epoch 20--Train set: Average loss: 0.1399, Training Accuracy: 59396/60000 (98.99%)\n",
            "\n"
          ]
        },
        {
          "output_type": "stream",
          "name": "stderr",
          "text": [
            "\n"
          ]
        },
        {
          "output_type": "stream",
          "name": "stdout",
          "text": [
            "\n",
            "Epoch 20--Test set: Average loss: 0.0313, Validation Accuracy: 9895/10000 (98.95%)\n",
            "\n"
          ]
        }
      ],
      "source": [
        "model2 = Net2().to(device)\n",
        "optimizer = optim.SGD(model2.parameters(), lr=0.01, momentum=0.9)\n",
        "acc_history = []\n",
        "loss_history = []\n",
        "val_acc_history = []\n",
        "val_loss_history = []\n",
        "for epoch in range(1, 21):\n",
        "    acc, train_loss = train(model2, device, train_loader, optimizer, epoch)\n",
        "    val_acc, test_loss = test(model2, device, test_loader, epoch)\n",
        "    acc_history.append(acc)\n",
        "    loss_history.append(train_loss)\n",
        "    val_acc_history.append(val_acc)\n",
        "    val_loss_history.append(test_loss)"
      ]
    },
    {
      "cell_type": "code",
      "execution_count": 7,
      "metadata": {
        "id": "0-v70JH1FFl-",
        "outputId": "c6017101-bd3c-4e13-d1b3-f05b728258a8",
        "colab": {
          "base_uri": "https://localhost:8080/",
          "height": 295
        }
      },
      "outputs": [
        {
          "output_type": "display_data",
          "data": {
            "text/plain": [
              "<Figure size 432x288 with 1 Axes>"
            ],
            "image/png": "[encoded data removed]"
          },
          "metadata": {
            "needs_background": "light"
          }
        }
      ],
      "source": [
        "_= plt.plot(acc_history)\n",
        "_= plt.plot(val_acc_history)\n",
        "_= plt.title('model accuracy')\n",
        "_= plt.ylabel('accuracy')\n",
        "_= plt.xlabel('epoch')\n",
        "_= plt.legend(['train', 'val'], loc='upper left')\n",
        "_= plt.show()"
      ]
    },
    {
      "cell_type": "code",
      "execution_count": 8,
      "metadata": {
        "id": "dwL6KQQ1FFl-",
        "outputId": "f86349b7-f2eb-4565-ae8e-54a51855d199",
        "colab": {
          "base_uri": "https://localhost:8080/",
          "height": 295
        }
      },
      "outputs": [
        {
          "output_type": "display_data",
          "data": {
            "text/plain": [
              "<Figure size 432x288 with 1 Axes>"
            ],
            "image/png": "[encoded data removed]"
          },
          "metadata": {
            "needs_background": "light"
          }
        }
      ],
      "source": [
        "_= plt.plot(loss_history)\n",
        "_= plt.plot(val_loss_history)\n",
        "_= plt.title('model loss')\n",
        "_= plt.ylabel('loss')\n",
        "_= plt.xlabel('epoch')\n",
        "_= plt.legend(['train', 'val'], loc='upper left')\n",
        "_= plt.show()"
      ]
    },
    {
      "cell_type": "markdown",
      "metadata": {
        "id": "Al2WopDEFFl_"
      },
      "source": [
        "- Total params: 3,944 (which is expectedly, higher as compared to the 1st NW) & the max validation accuracy reaches: ~98.95%\n",
        "- we got little better in terms of the reached accuracy  but expectedly, far from the required accuracy goal.\n",
        "- Also in terms of the accuracy plot & logs, we could see that the further potential for increase for the validation accuracy has not yet opened up (it is still overfitting...i.e. the training accuracy has reached 99.0% but the validation acuracy still under ~98.95%, hence not much scope for further increase, with a corresponding increase in training accuracy )\n",
        "- just like the earlier NW, this one can't meet the goal within the required 20 epochs(capacity boost definitely required)"
      ]
    },
    {
      "cell_type": "markdown",
      "source": [
        "### 3rd NW: added Dropout as well, at each layer, apart from the BN(we should expect lesser overfitting  i.e an increase in the \"potential\" to increase validation accuracy with a corresponding increase in training-accuracy) i.e. a gap opening up (it was viewed, that a value of 3% for Dropout was giving a better results as compared to other test-ranges from 1-10%)"
      ],
      "metadata": {
        "id": "ukfXbS5HHt7x"
      }
    },
    {
      "cell_type": "markdown",
      "metadata": {
        "id": "8hvI8ZBDFFl_"
      },
      "source": [
        "Input Channels/Image  |  Conv2d/Transform      | Output Channels | RF\n",
        "---------------------|--------------|----------------------|----------------------\n",
        "`28x28x1`              | `(3x3x1)x8`   |      `26x26x8`  |      `3x3`| \n",
        "             |          `BN(8)`  | \n",
        "             |          `Dropout(3%)`  |                \n",
        "             |          `ReLU`  | \n",
        "**26x26x8**             | **(3x3x8)x8**  |      **24x24x8** |      **5x5**\n",
        "             |          **BN(8)**  | \n",
        "             |          **Dropout(3%)** |                \n",
        "             |          **ReLU**  |                 \n",
        "**24x24x8**             | **(3x3x8)x16**  |      **22x22x16** |      **7x7** \n",
        "             |          **BN(16)**  | \n",
        "             |          **Dropout(3%)** |              \n",
        "             |          **ReLU**  |                 \n",
        "*22x22x16*             |   *MP(2x2)*    |      *11x11x16*   |      *14x14*                      \n",
        "*11x11x16*             | *(1x1x16)x8*  |      *11x11x8*    |      *14x14* \n",
        "             |          *BN(8)*  |  \n",
        "             |          *Dropout(3%)* |              \n",
        "             |          *ReLU*  |     \n",
        "**11x11x8**             | **(3x3x8)x8**  |      **9x9x8** |      **16x16** \n",
        "             |          **BN(8)**  | \n",
        "             |          **Dropout(3%)** |             \n",
        "             |          **ReLU**  |       \n",
        "**9x9x8**               | **(3x3x8)x16**  |      **7x7x16**  |      **18x18** \n",
        "             |          **BN(16)**  |  \n",
        "             |          **Dropout(3%)** |             \n",
        "             |          **ReLU**  |       \n",
        "*7x7x16*               | *(1x1x16)x10*  |      *7x7x10*    |      *18x18*  (NO RELU at the o/p of this layer)    \n",
        "7x7x10               | GAP  LAYER   |      1x10          |"
      ]
    },
    {
      "cell_type": "code",
      "execution_count": 2,
      "metadata": {
        "id": "fpu307pxFFl_"
      },
      "outputs": [],
      "source": [
        "class Net3(nn.Module):\n",
        "    def __init__(self):\n",
        "        super(Net3, self).__init__()\n",
        "        self.conv1 = nn.Conv2d(1, 8, 3, bias=False)#input:28x28x1, output:26x26x8, RF:3x3\n",
        "        self.conv1_bn1 = nn.BatchNorm2d(8)\n",
        "        self.conv1_drop1 = nn.Dropout2d(0.03)\n",
        "\n",
        "        self.conv2 = nn.Conv2d(8, 8, 3, bias=False)#input:26x26x8, output:24x24x8, RF:5x5 \n",
        "        self.conv2_bn2 = nn.BatchNorm2d(8)\n",
        "        self.conv2_drop2 = nn.Dropout2d(0.03)\n",
        "        self.conv3 = nn.Conv2d(8, 16, 3, bias=False)#input:24x24x8, output:22x22x16, RF:7x7\n",
        "        self.conv3_bn3 = nn.BatchNorm2d(16)\n",
        "        self.conv3_drop3 = nn.Dropout2d(0.03)\n",
        "\n",
        "        self.pool1 = nn.MaxPool2d(2, 2)#input:22x22x16, output:11x11x16, RF:14x14  \n",
        "        self.conv4 = nn.Conv2d(16, 8, 1, bias=False)#input:11x11x16, output:11x11x8, RF:14x14\n",
        "        self.conv4_bn4 = nn.BatchNorm2d(8)\n",
        "        self.conv4_drop4 = nn.Dropout2d(0.03)\n",
        "\n",
        "        self.conv5 = nn.Conv2d(8, 8, 3, bias=False)#input:11x11x8, output:9x9x8, RF:16x16 \n",
        "        self.conv5_bn5 = nn.BatchNorm2d(8)\n",
        "        self.conv5_drop5 = nn.Dropout2d(0.03)\n",
        "        self.conv6 = nn.Conv2d(8, 16, 3, bias=False)#input:9x9x8, output:7x7x16, RF:18x18\n",
        "        self.conv6_bn6 = nn.BatchNorm2d(16)\n",
        "        self.conv6_drop6 = nn.Dropout2d(0.03)\n",
        "\n",
        "        self.conv7 = nn.Conv2d(16, 10, 1, bias=False)#input:7x7x16, output:7x7x10, RF:18x18\n",
        "        self.gap1 = nn.AvgPool2d(kernel_size=7)#input:7x7x10, output:1x1x10 (or 1x10, 1-D data format now)\n",
        "        \n",
        "    def forward(self, x):\n",
        "        x = F.relu(self.conv1_drop1(self.conv1_bn1(self.conv1(x))))# First Layer Separate\n",
        "        x = F.relu(self.conv3_drop3(self.conv3_bn3(self.conv3(F.relu(self.conv2_drop2(self.conv2_bn2(self.conv2(x))))))))# First Block\n",
        "        x = F.relu(self.conv4_drop4(self.conv4_bn4(self.conv4(self.pool1(x)))))# first transition block\n",
        "        x = F.relu(self.conv6_drop6(self.conv6_bn6(self.conv6(F.relu(self.conv5_drop5(self.conv5_bn5(self.conv5(x))))))))# Second Block \n",
        "        x = self.conv7(x)#no ReLU at 2nd Transition Block O/p(without a maxpool towards the end here)leading to GAP & beyond) \n",
        "        x = self.gap1(x) # Global Average Pool layer\n",
        "        x = x.view(-1, 10)#Num of classes = 10 (digits to be identified)\n",
        "        return F.log_softmax(x, dim=1)"
      ]
    },
    {
      "cell_type": "code",
      "execution_count": 3,
      "metadata": {
        "id": "qHQCeSEtFFl_",
        "outputId": "ee0a02cd-ac2e-41a4-d69c-1facd1dc0276",
        "colab": {
          "base_uri": "https://localhost:8080/"
        }
      },
      "outputs": [
        {
          "output_type": "stream",
          "name": "stdout",
          "text": [
            "----------------------------------------------------------------\n",
            "        Layer (type)               Output Shape         Param #\n",
            "================================================================\n",
            "            Conv2d-1            [-1, 8, 26, 26]              72\n",
            "       BatchNorm2d-2            [-1, 8, 26, 26]              16\n",
            "         Dropout2d-3            [-1, 8, 26, 26]               0\n",
            "            Conv2d-4            [-1, 8, 24, 24]             576\n",
            "       BatchNorm2d-5            [-1, 8, 24, 24]              16\n",
            "         Dropout2d-6            [-1, 8, 24, 24]               0\n",
            "            Conv2d-7           [-1, 16, 22, 22]           1,152\n",
            "       BatchNorm2d-8           [-1, 16, 22, 22]              32\n",
            "         Dropout2d-9           [-1, 16, 22, 22]               0\n",
            "        MaxPool2d-10           [-1, 16, 11, 11]               0\n",
            "           Conv2d-11            [-1, 8, 11, 11]             128\n",
            "      BatchNorm2d-12            [-1, 8, 11, 11]              16\n",
            "        Dropout2d-13            [-1, 8, 11, 11]               0\n",
            "           Conv2d-14              [-1, 8, 9, 9]             576\n",
            "      BatchNorm2d-15              [-1, 8, 9, 9]              16\n",
            "        Dropout2d-16              [-1, 8, 9, 9]               0\n",
            "           Conv2d-17             [-1, 16, 7, 7]           1,152\n",
            "      BatchNorm2d-18             [-1, 16, 7, 7]              32\n",
            "        Dropout2d-19             [-1, 16, 7, 7]               0\n",
            "           Conv2d-20             [-1, 10, 7, 7]             160\n",
            "        AvgPool2d-21             [-1, 10, 1, 1]               0\n",
            "================================================================\n",
            "Total params: 3,944\n",
            "Trainable params: 3,944\n",
            "Non-trainable params: 0\n",
            "----------------------------------------------------------------\n",
            "Input size (MB): 0.00\n",
            "Forward/backward pass size (MB): 0.48\n",
            "Params size (MB): 0.02\n",
            "Estimated Total Size (MB): 0.50\n",
            "----------------------------------------------------------------\n"
          ]
        }
      ],
      "source": [
        "use_cuda = torch.cuda.is_available()\n",
        "device = torch.device(\"cuda\" if use_cuda else \"cpu\")\n",
        "model3 = Net3().to(device)\n",
        "summary(model3, input_size=(1, 28, 28))"
      ]
    },
    {
      "cell_type": "code",
      "execution_count": 4,
      "metadata": {
        "id": "sVKtgL-IFFl_"
      },
      "outputs": [],
      "source": [
        "torch.manual_seed(1)\n",
        "batch_size = 128\n",
        "\n",
        "kwargs = {'num_workers': 1, 'pin_memory': True} if use_cuda else {}\n",
        "train_loader = torch.utils.data.DataLoader(\n",
        "    datasets.MNIST('../data', train=True, download=True,\n",
        "                    transform=transforms.Compose([\n",
        "                        transforms.ToTensor(),\n",
        "                        transforms.Normalize((0.1307,), (0.3081,))\n",
        "                    ])),\n",
        "    batch_size=batch_size, shuffle=True, **kwargs)\n",
        "test_loader = torch.utils.data.DataLoader(\n",
        "    datasets.MNIST('../data', train=False, transform=transforms.Compose([\n",
        "                        transforms.ToTensor(),\n",
        "                        transforms.Normalize((0.1307,), (0.3081,))\n",
        "                    ])),\n",
        "    batch_size=batch_size, shuffle=True, **kwargs)"
      ]
    },
    {
      "cell_type": "code",
      "source": [
        "def train(model, device, train_loader, optimizer, epoch):\n",
        "    model.train()\n",
        "    train_loss = 0\n",
        "    train_correct = 0\n",
        "    acc=0\n",
        "    pbar = tqdm(train_loader)\n",
        "    for batch_idx, (data, target) in enumerate(pbar):\n",
        "        data, target = data.to(device), target.to(device)\n",
        "        optimizer.zero_grad()\n",
        "        output = model(data)\n",
        "        loss = F.nll_loss(output, target)\n",
        "        pred_train = output.argmax(dim=1, keepdim=True)  # get the index of the max log-probability\n",
        "        train_correct += pred_train.eq(target.view_as(pred_train)).sum().item()\n",
        "        loss.backward()\n",
        "        optimizer.step()\n",
        "        pbar.set_description(desc=f'epoch={epoch} loss={loss.item()} batch_id={batch_idx}')\n",
        "    train_loss = loss.item()\n",
        "    acc = 100. * train_correct / len(train_loader.dataset)\n",
        "    print('\\nEpoch {}--Train set: Average loss: {:.4f}, Training Accuracy: {}/{} ({:.2f}%)\\n'.format(\n",
        "        epoch, train_loss, train_correct, len(train_loader.dataset),\n",
        "        100. * train_correct / len(train_loader.dataset)))\n",
        "    return acc, train_loss\n",
        "\n",
        "\n",
        "def test(model, device, test_loader, epoch):\n",
        "    model.eval()\n",
        "    test_loss = 0\n",
        "    correct = 0\n",
        "    acc=0\n",
        "    with torch.no_grad():\n",
        "        for data, target in test_loader:\n",
        "            data, target = data.to(device), target.to(device)\n",
        "            output = model(data)\n",
        "            test_loss += F.nll_loss(output, target, reduction='sum').item()  # sum up batch loss\n",
        "            pred = output.argmax(dim=1, keepdim=True)  # get the index of the max log-probability\n",
        "            correct += pred.eq(target.view_as(pred)).sum().item()\n",
        "    \n",
        "    test_loss /= len(test_loader.dataset)\n",
        "    acc = 100. * correct / len(test_loader.dataset)\n",
        "    print('\\nEpoch {}--Test set: Average loss: {:.4f}, Validation Accuracy: {}/{} ({:.2f}%)\\n'.format(\n",
        "        epoch, test_loss, correct, len(test_loader.dataset),\n",
        "        100. * correct / len(test_loader.dataset)))\n",
        "    return acc, test_loss"
      ],
      "metadata": {
        "id": "9cqcn93bNpLw"
      },
      "execution_count": 5,
      "outputs": []
    },
    {
      "cell_type": "code",
      "execution_count": 6,
      "metadata": {
        "scrolled": false,
        "id": "oPZkXF_LFFl_",
        "outputId": "21376c06-c0cc-46a4-f041-4800f6b60a7d",
        "colab": {
          "base_uri": "https://localhost:8080/"
        }
      },
      "outputs": [
        {
          "output_type": "stream",
          "name": "stderr",
          "text": [
            "epoch=1 loss=0.5631867051124573 batch_id=468: 100%|██████████| 469/469 [00:16<00:00, 28.80it/s]"
          ]
        },
        {
          "output_type": "stream",
          "name": "stdout",
          "text": [
            "\n",
            "Epoch 1--Train set: Average loss: 0.5632, Training Accuracy: 36721/60000 (61.20%)\n",
            "\n"
          ]
        },
        {
          "output_type": "stream",
          "name": "stderr",
          "text": [
            "\n"
          ]
        },
        {
          "output_type": "stream",
          "name": "stdout",
          "text": [
            "\n",
            "Epoch 1--Test set: Average loss: 0.4238, Validation Accuracy: 9218/10000 (92.18%)\n",
            "\n"
          ]
        },
        {
          "output_type": "stream",
          "name": "stderr",
          "text": [
            "epoch=2 loss=0.2942626178264618 batch_id=468: 100%|██████████| 469/469 [00:16<00:00, 27.71it/s]"
          ]
        },
        {
          "output_type": "stream",
          "name": "stdout",
          "text": [
            "\n",
            "Epoch 2--Train set: Average loss: 0.2943, Training Accuracy: 52829/60000 (88.05%)\n",
            "\n"
          ]
        },
        {
          "output_type": "stream",
          "name": "stderr",
          "text": [
            "\n"
          ]
        },
        {
          "output_type": "stream",
          "name": "stdout",
          "text": [
            "\n",
            "Epoch 2--Test set: Average loss: 0.1867, Validation Accuracy: 9598/10000 (95.98%)\n",
            "\n"
          ]
        },
        {
          "output_type": "stream",
          "name": "stderr",
          "text": [
            "epoch=3 loss=0.38592734932899475 batch_id=468: 100%|██████████| 469/469 [00:17<00:00, 27.56it/s]"
          ]
        },
        {
          "output_type": "stream",
          "name": "stdout",
          "text": [
            "\n",
            "Epoch 3--Train set: Average loss: 0.3859, Training Accuracy: 54746/60000 (91.24%)\n",
            "\n"
          ]
        },
        {
          "output_type": "stream",
          "name": "stderr",
          "text": [
            "\n"
          ]
        },
        {
          "output_type": "stream",
          "name": "stdout",
          "text": [
            "\n",
            "Epoch 3--Test set: Average loss: 0.1294, Validation Accuracy: 9692/10000 (96.92%)\n",
            "\n"
          ]
        },
        {
          "output_type": "stream",
          "name": "stderr",
          "text": [
            "epoch=4 loss=0.28506267070770264 batch_id=468: 100%|██████████| 469/469 [00:17<00:00, 26.22it/s]"
          ]
        },
        {
          "output_type": "stream",
          "name": "stdout",
          "text": [
            "\n",
            "Epoch 4--Train set: Average loss: 0.2851, Training Accuracy: 55438/60000 (92.40%)\n",
            "\n"
          ]
        },
        {
          "output_type": "stream",
          "name": "stderr",
          "text": [
            "\n"
          ]
        },
        {
          "output_type": "stream",
          "name": "stdout",
          "text": [
            "\n",
            "Epoch 4--Test set: Average loss: 0.1095, Validation Accuracy: 9723/10000 (97.23%)\n",
            "\n"
          ]
        },
        {
          "output_type": "stream",
          "name": "stderr",
          "text": [
            "epoch=5 loss=0.19444626569747925 batch_id=468: 100%|██████████| 469/469 [00:16<00:00, 28.00it/s]"
          ]
        },
        {
          "output_type": "stream",
          "name": "stdout",
          "text": [
            "\n",
            "Epoch 5--Train set: Average loss: 0.1944, Training Accuracy: 55837/60000 (93.06%)\n",
            "\n"
          ]
        },
        {
          "output_type": "stream",
          "name": "stderr",
          "text": [
            "\n"
          ]
        },
        {
          "output_type": "stream",
          "name": "stdout",
          "text": [
            "\n",
            "Epoch 5--Test set: Average loss: 0.1032, Validation Accuracy: 9721/10000 (97.21%)\n",
            "\n"
          ]
        },
        {
          "output_type": "stream",
          "name": "stderr",
          "text": [
            "epoch=6 loss=0.14052428305149078 batch_id=468: 100%|██████████| 469/469 [00:17<00:00, 26.64it/s]"
          ]
        },
        {
          "output_type": "stream",
          "name": "stdout",
          "text": [
            "\n",
            "Epoch 6--Train set: Average loss: 0.1405, Training Accuracy: 56269/60000 (93.78%)\n",
            "\n"
          ]
        },
        {
          "output_type": "stream",
          "name": "stderr",
          "text": [
            "\n"
          ]
        },
        {
          "output_type": "stream",
          "name": "stdout",
          "text": [
            "\n",
            "Epoch 6--Test set: Average loss: 0.0882, Validation Accuracy: 9737/10000 (97.37%)\n",
            "\n"
          ]
        },
        {
          "output_type": "stream",
          "name": "stderr",
          "text": [
            "epoch=7 loss=0.1437220275402069 batch_id=468: 100%|██████████| 469/469 [00:16<00:00, 28.04it/s]\n"
          ]
        },
        {
          "output_type": "stream",
          "name": "stdout",
          "text": [
            "\n",
            "Epoch 7--Train set: Average loss: 0.1437, Training Accuracy: 56450/60000 (94.08%)\n",
            "\n",
            "\n",
            "Epoch 7--Test set: Average loss: 0.0769, Validation Accuracy: 9790/10000 (97.90%)\n",
            "\n"
          ]
        },
        {
          "output_type": "stream",
          "name": "stderr",
          "text": [
            "epoch=8 loss=0.083974190056324 batch_id=468: 100%|██████████| 469/469 [00:16<00:00, 28.12it/s]"
          ]
        },
        {
          "output_type": "stream",
          "name": "stdout",
          "text": [
            "\n",
            "Epoch 8--Train set: Average loss: 0.0840, Training Accuracy: 56661/60000 (94.44%)\n",
            "\n"
          ]
        },
        {
          "output_type": "stream",
          "name": "stderr",
          "text": [
            "\n"
          ]
        },
        {
          "output_type": "stream",
          "name": "stdout",
          "text": [
            "\n",
            "Epoch 8--Test set: Average loss: 0.0815, Validation Accuracy: 9773/10000 (97.73%)\n",
            "\n"
          ]
        },
        {
          "output_type": "stream",
          "name": "stderr",
          "text": [
            "epoch=9 loss=0.18960857391357422 batch_id=468: 100%|██████████| 469/469 [00:16<00:00, 28.74it/s]"
          ]
        },
        {
          "output_type": "stream",
          "name": "stdout",
          "text": [
            "\n",
            "Epoch 9--Train set: Average loss: 0.1896, Training Accuracy: 56808/60000 (94.68%)\n",
            "\n"
          ]
        },
        {
          "output_type": "stream",
          "name": "stderr",
          "text": [
            "\n"
          ]
        },
        {
          "output_type": "stream",
          "name": "stdout",
          "text": [
            "\n",
            "Epoch 9--Test set: Average loss: 0.0727, Validation Accuracy: 9787/10000 (97.87%)\n",
            "\n"
          ]
        },
        {
          "output_type": "stream",
          "name": "stderr",
          "text": [
            "epoch=10 loss=0.13071712851524353 batch_id=468: 100%|██████████| 469/469 [00:16<00:00, 28.25it/s]\n"
          ]
        },
        {
          "output_type": "stream",
          "name": "stdout",
          "text": [
            "\n",
            "Epoch 10--Train set: Average loss: 0.1307, Training Accuracy: 56998/60000 (95.00%)\n",
            "\n",
            "\n",
            "Epoch 10--Test set: Average loss: 0.0743, Validation Accuracy: 9785/10000 (97.85%)\n",
            "\n"
          ]
        },
        {
          "output_type": "stream",
          "name": "stderr",
          "text": [
            "epoch=11 loss=0.171994149684906 batch_id=468: 100%|██████████| 469/469 [00:16<00:00, 28.29it/s]\n"
          ]
        },
        {
          "output_type": "stream",
          "name": "stdout",
          "text": [
            "\n",
            "Epoch 11--Train set: Average loss: 0.1720, Training Accuracy: 56938/60000 (94.90%)\n",
            "\n",
            "\n",
            "Epoch 11--Test set: Average loss: 0.0663, Validation Accuracy: 9799/10000 (97.99%)\n",
            "\n"
          ]
        },
        {
          "output_type": "stream",
          "name": "stderr",
          "text": [
            "epoch=12 loss=0.2009219080209732 batch_id=468: 100%|██████████| 469/469 [00:16<00:00, 28.45it/s]"
          ]
        },
        {
          "output_type": "stream",
          "name": "stdout",
          "text": [
            "\n",
            "Epoch 12--Train set: Average loss: 0.2009, Training Accuracy: 57123/60000 (95.20%)\n",
            "\n"
          ]
        },
        {
          "output_type": "stream",
          "name": "stderr",
          "text": [
            "\n"
          ]
        },
        {
          "output_type": "stream",
          "name": "stdout",
          "text": [
            "\n",
            "Epoch 12--Test set: Average loss: 0.0610, Validation Accuracy: 9821/10000 (98.21%)\n",
            "\n"
          ]
        },
        {
          "output_type": "stream",
          "name": "stderr",
          "text": [
            "epoch=13 loss=0.28060898184776306 batch_id=468: 100%|██████████| 469/469 [00:16<00:00, 28.78it/s]"
          ]
        },
        {
          "output_type": "stream",
          "name": "stdout",
          "text": [
            "\n",
            "Epoch 13--Train set: Average loss: 0.2806, Training Accuracy: 57197/60000 (95.33%)\n",
            "\n"
          ]
        },
        {
          "output_type": "stream",
          "name": "stderr",
          "text": [
            "\n"
          ]
        },
        {
          "output_type": "stream",
          "name": "stdout",
          "text": [
            "\n",
            "Epoch 13--Test set: Average loss: 0.0607, Validation Accuracy: 9813/10000 (98.13%)\n",
            "\n"
          ]
        },
        {
          "output_type": "stream",
          "name": "stderr",
          "text": [
            "epoch=14 loss=0.11809297651052475 batch_id=468: 100%|██████████| 469/469 [00:16<00:00, 28.43it/s]"
          ]
        },
        {
          "output_type": "stream",
          "name": "stdout",
          "text": [
            "\n",
            "Epoch 14--Train set: Average loss: 0.1181, Training Accuracy: 57312/60000 (95.52%)\n",
            "\n"
          ]
        },
        {
          "output_type": "stream",
          "name": "stderr",
          "text": [
            "\n"
          ]
        },
        {
          "output_type": "stream",
          "name": "stdout",
          "text": [
            "\n",
            "Epoch 14--Test set: Average loss: 0.0604, Validation Accuracy: 9816/10000 (98.16%)\n",
            "\n"
          ]
        },
        {
          "output_type": "stream",
          "name": "stderr",
          "text": [
            "epoch=15 loss=0.2706768214702606 batch_id=468: 100%|██████████| 469/469 [00:16<00:00, 28.45it/s]"
          ]
        },
        {
          "output_type": "stream",
          "name": "stdout",
          "text": [
            "\n",
            "Epoch 15--Train set: Average loss: 0.2707, Training Accuracy: 57283/60000 (95.47%)\n",
            "\n"
          ]
        },
        {
          "output_type": "stream",
          "name": "stderr",
          "text": [
            "\n"
          ]
        },
        {
          "output_type": "stream",
          "name": "stdout",
          "text": [
            "\n",
            "Epoch 15--Test set: Average loss: 0.0589, Validation Accuracy: 9818/10000 (98.18%)\n",
            "\n"
          ]
        },
        {
          "output_type": "stream",
          "name": "stderr",
          "text": [
            "epoch=16 loss=0.24039588868618011 batch_id=468: 100%|██████████| 469/469 [00:16<00:00, 28.06it/s]"
          ]
        },
        {
          "output_type": "stream",
          "name": "stdout",
          "text": [
            "\n",
            "Epoch 16--Train set: Average loss: 0.2404, Training Accuracy: 57416/60000 (95.69%)\n",
            "\n"
          ]
        },
        {
          "output_type": "stream",
          "name": "stderr",
          "text": [
            "\n"
          ]
        },
        {
          "output_type": "stream",
          "name": "stdout",
          "text": [
            "\n",
            "Epoch 16--Test set: Average loss: 0.0590, Validation Accuracy: 9824/10000 (98.24%)\n",
            "\n"
          ]
        },
        {
          "output_type": "stream",
          "name": "stderr",
          "text": [
            "epoch=17 loss=0.0910857692360878 batch_id=468: 100%|██████████| 469/469 [00:16<00:00, 27.75it/s]"
          ]
        },
        {
          "output_type": "stream",
          "name": "stdout",
          "text": [
            "\n",
            "Epoch 17--Train set: Average loss: 0.0911, Training Accuracy: 57487/60000 (95.81%)\n",
            "\n"
          ]
        },
        {
          "output_type": "stream",
          "name": "stderr",
          "text": [
            "\n"
          ]
        },
        {
          "output_type": "stream",
          "name": "stdout",
          "text": [
            "\n",
            "Epoch 17--Test set: Average loss: 0.0560, Validation Accuracy: 9834/10000 (98.34%)\n",
            "\n"
          ]
        },
        {
          "output_type": "stream",
          "name": "stderr",
          "text": [
            "epoch=18 loss=0.12371215969324112 batch_id=468: 100%|██████████| 469/469 [00:20<00:00, 22.73it/s]"
          ]
        },
        {
          "output_type": "stream",
          "name": "stdout",
          "text": [
            "\n",
            "Epoch 18--Train set: Average loss: 0.1237, Training Accuracy: 57521/60000 (95.87%)\n",
            "\n"
          ]
        },
        {
          "output_type": "stream",
          "name": "stderr",
          "text": [
            "\n"
          ]
        },
        {
          "output_type": "stream",
          "name": "stdout",
          "text": [
            "\n",
            "Epoch 18--Test set: Average loss: 0.0563, Validation Accuracy: 9830/10000 (98.30%)\n",
            "\n"
          ]
        },
        {
          "output_type": "stream",
          "name": "stderr",
          "text": [
            "epoch=19 loss=0.14391116797924042 batch_id=468: 100%|██████████| 469/469 [00:17<00:00, 27.36it/s]"
          ]
        },
        {
          "output_type": "stream",
          "name": "stdout",
          "text": [
            "\n",
            "Epoch 19--Train set: Average loss: 0.1439, Training Accuracy: 57528/60000 (95.88%)\n",
            "\n"
          ]
        },
        {
          "output_type": "stream",
          "name": "stderr",
          "text": [
            "\n"
          ]
        },
        {
          "output_type": "stream",
          "name": "stdout",
          "text": [
            "\n",
            "Epoch 19--Test set: Average loss: 0.0530, Validation Accuracy: 9839/10000 (98.39%)\n",
            "\n"
          ]
        },
        {
          "output_type": "stream",
          "name": "stderr",
          "text": [
            "epoch=20 loss=0.17988546192646027 batch_id=468: 100%|██████████| 469/469 [00:17<00:00, 27.44it/s]"
          ]
        },
        {
          "output_type": "stream",
          "name": "stdout",
          "text": [
            "\n",
            "Epoch 20--Train set: Average loss: 0.1799, Training Accuracy: 57617/60000 (96.03%)\n",
            "\n"
          ]
        },
        {
          "output_type": "stream",
          "name": "stderr",
          "text": [
            "\n"
          ]
        },
        {
          "output_type": "stream",
          "name": "stdout",
          "text": [
            "\n",
            "Epoch 20--Test set: Average loss: 0.0555, Validation Accuracy: 9836/10000 (98.36%)\n",
            "\n"
          ]
        }
      ],
      "source": [
        "model3 = Net3().to(device)\n",
        "optimizer = optim.SGD(model3.parameters(), lr=0.01, momentum=0.9)\n",
        "acc_history = []\n",
        "loss_history = []\n",
        "val_acc_history = []\n",
        "val_loss_history = []\n",
        "for epoch in range(1, 21):\n",
        "    acc, train_loss = train(model3, device, train_loader, optimizer, epoch)\n",
        "    val_acc, test_loss = test(model3, device, test_loader, epoch)\n",
        "    acc_history.append(acc)\n",
        "    loss_history.append(train_loss)\n",
        "    val_acc_history.append(val_acc)\n",
        "    val_loss_history.append(test_loss)"
      ]
    },
    {
      "cell_type": "code",
      "execution_count": 7,
      "metadata": {
        "id": "Z5HTF-F0FFl_",
        "outputId": "04292093-5451-4d19-81ce-7661513ac369",
        "colab": {
          "base_uri": "https://localhost:8080/",
          "height": 295
        }
      },
      "outputs": [
        {
          "output_type": "display_data",
          "data": {
            "text/plain": [
              "<Figure size 432x288 with 1 Axes>"
            ],
            "image/png": "[encoded data removed]"
          },
          "metadata": {
            "needs_background": "light"
          }
        }
      ],
      "source": [
        "_= plt.plot(acc_history)\n",
        "_= plt.plot(val_acc_history)\n",
        "_= plt.title('model accuracy')\n",
        "_= plt.ylabel('accuracy')\n",
        "_= plt.xlabel('epoch')\n",
        "_= plt.legend(['train', 'val'], loc='upper left')\n",
        "_= plt.show()"
      ]
    },
    {
      "cell_type": "code",
      "execution_count": 8,
      "metadata": {
        "id": "3ok3ThElFFmA",
        "outputId": "dcb2f0d1-75b4-4215-f286-73e88a474b4f",
        "colab": {
          "base_uri": "https://localhost:8080/",
          "height": 295
        }
      },
      "outputs": [
        {
          "output_type": "display_data",
          "data": {
            "text/plain": [
              "<Figure size 432x288 with 1 Axes>"
            ],
            "image/png": "[encoded data removed]"
          },
          "metadata": {
            "needs_background": "light"
          }
        }
      ],
      "source": [
        "_= plt.plot(loss_history)\n",
        "_= plt.plot(val_loss_history)\n",
        "_= plt.title('model loss')\n",
        "_= plt.ylabel('loss')\n",
        "_= plt.xlabel('epoch')\n",
        "_= plt.legend(['train', 'val'], loc='upper left')\n",
        "_= plt.show()"
      ]
    },
    {
      "cell_type": "markdown",
      "metadata": {
        "id": "J4yyFuCoFFmA"
      },
      "source": [
        "- Total params: 3,944 (which is expectedly,same as compared to the last NW as dropout doesn't add params) & the max validation accuracy reaches: ~98.39% (though this seems almost comparable to the achieved max in last iteration, but in case of adding Dropout, we have considerably overcome the overfitting issue, by opening up the gap between training and test accuracies...i.e. now we can see that the test accuracy value like ~98% is achieved while the training accuracy is still at ~96%, which has opened up the potential for further increase in the validation accuracy, given we have a required number of epochs and NW-capacity with us.\n",
        "\n",
        "- Also in terms of the accuracy plot, both the train and test accuracies seem to be maintaining almost consistent gap (training accuracy growth is looking stagnant though, but some scope is open)\n",
        "\n",
        "- As a final step for this architecture-option we are required to the given Learning rate value hence that aspect won't be explored further.\n",
        "\n",
        "- But to achieve the required goal we will have to go for a capacity increase now, the next iteration tries to do the same."
      ]
    },
    {
      "cell_type": "markdown",
      "source": [
        "### 4th NW: while retaining the same template for the Batch Normalization, Dropout and layering, we now increase the channels to follow the layering as given ahead(it was viewed, that a value of 3% for Dropout was giving a better results as compared to other test-ranges from 1-10%) \"|16|--|16-16|--|Transition|--|24-24|--|Transition|--|GAP|--|softmax-classifier|\" as in the table below"
      ],
      "metadata": {
        "id": "bMHmlb9LPtrt"
      }
    },
    {
      "cell_type": "markdown",
      "metadata": {
        "id": "HF6LQxOAFFmA"
      },
      "source": [
        "Input Channels/Image  |  Conv2d/Transform      | Output Channels | RF\n",
        "---------------------|--------------|----------------------|----------------------\n",
        "`28x28x1`              | `(3x3x1)x16`   |      `26x26x16`  |      `3x3`\n",
        "             |          `BN(16)`  |      \n",
        "             |          `Dropout(3%)`  |      \n",
        "             |          `ReLU`  |      \n",
        "**26x26x16**             | **(3x3x16)x16**  |      **24x24x16** |      **5x5** \n",
        "             |          **BN(16)**  |      \n",
        "             |          **Dropout(3%)**  |   \n",
        "             |          **ReLU**  |                 \n",
        "**24x24x16**             | **(3x3x16)x16**  |      **22x22x16** |      **7x7** \n",
        "             |          **BN(16)**  |      \n",
        "             |          **Dropout(3%)**  |   \n",
        "             |          **ReLU**  |                 \n",
        "*22x22x16*             |   *MP(2x2)*    |      *11x11x16*   |      *14x14*                      \n",
        "*11x11x16*             | *(1x1x16)x16*  |      *11x11x16*    |      *14x14*   \n",
        "             |          *BN(16)*  |      \n",
        "             |          *Dropout(3%)*  |  \n",
        "             |          *ReLU*  |                 \n",
        "**11x11x16**             | **(3x3x16)x24**  |      **9x9x24** |      **16x16**  \n",
        "             |          **BN(24)**  |      \n",
        "             |          **Dropout(3%)**  |    \n",
        "             |          **ReLU**  |                 \n",
        "**9x9x24**               | **(3x3x24)x24**  |      **7x7x24**  |      **18x18**   \n",
        "             |          **BN(24)**  |      \n",
        "             |          **Dropout(3%)**  |  \n",
        "             |          **ReLU**  |                 \n",
        "*7x7x24*               | *(1x1x24)x10*  |      *7x7x10*    |      *18x18*  (NO RELU at the o/p of this layer)     \n",
        "7x7x10               | GAP  LAYER   |      1x10          |     "
      ]
    },
    {
      "cell_type": "code",
      "execution_count": 2,
      "metadata": {
        "id": "8gSS9xKnFFmA"
      },
      "outputs": [],
      "source": [
        "class Net4(nn.Module):\n",
        "    def __init__(self):\n",
        "        super(Net4, self).__init__()\n",
        "        self.conv1 = nn.Conv2d(1, 16, 3, bias=False)#input:28x28x1, output:26x26x16, RF:3x3\n",
        "        self.conv1_bn1 = nn.BatchNorm2d(16)\n",
        "        self.conv1_drop1 = nn.Dropout2d(0.03)\n",
        "\n",
        "        self.conv2 = nn.Conv2d(16, 16, 3, bias=False)#input:26x26x16, output:24x24x16, RF:5x5 \n",
        "        self.conv2_bn2 = nn.BatchNorm2d(16)\n",
        "        self.conv2_drop2 = nn.Dropout2d(0.03)\n",
        "        self.conv3 = nn.Conv2d(16, 16, 3, bias=False)#input:24x24x16, output:22x22x16, RF:7x7\n",
        "        self.conv3_bn3 = nn.BatchNorm2d(16)\n",
        "        self.conv3_drop3 = nn.Dropout2d(0.03)\n",
        "\n",
        "        self.pool1 = nn.MaxPool2d(2, 2)#input:22x22x16, output:11x11x16, RF:14x14  \n",
        "        self.conv4 = nn.Conv2d(16, 16, 1, bias=False)#input:11x11x16, output:11x11x16, RF:14x14\n",
        "        self.conv4_bn4 = nn.BatchNorm2d(16)\n",
        "        self.conv4_drop4 = nn.Dropout2d(0.03)\n",
        "\n",
        "        self.conv5 = nn.Conv2d(16, 24, 3, bias=False)#input:11x11x16, output:9x9x24, RF:16x16 \n",
        "        self.conv5_bn5 = nn.BatchNorm2d(24)\n",
        "        self.conv5_drop5 = nn.Dropout2d(0.03)\n",
        "        self.conv6 = nn.Conv2d(24, 24, 3, bias=False)#input:9x9x24, output:7x7x24, RF:18x18\n",
        "        self.conv6_bn6 = nn.BatchNorm2d(24)\n",
        "        self.conv6_drop6 = nn.Dropout2d(0.03)\n",
        "        \n",
        "        self.conv7 = nn.Conv2d(24, 10, 1, bias=False)#input:7x7x24, output:7x7x10, RF:18x18\n",
        "        self.gap1 = nn.AvgPool2d(kernel_size=7)#input:7x7x10, output:1x1x10 (or 1x10, 1-D data format now)\n",
        "        \n",
        "    def forward(self, x):\n",
        "        x = F.relu(self.conv1_drop1(self.conv1_bn1(self.conv1(x))))#First Layer Separate\n",
        "        x = F.relu(self.conv3_drop3(self.conv3_bn3(self.conv3(F.relu(self.conv2_drop2(self.conv2_bn2(self.conv2(x))))))))#First Block\n",
        "        x = F.relu(self.conv4_drop4(self.conv4_bn4(self.conv4(self.pool1(x)))))#First transition block\n",
        "        x = F.relu(self.conv6_drop6(self.conv6_bn6(self.conv6(F.relu(self.conv5_drop5(self.conv5_bn5(self.conv5(x))))))))#Second Block \n",
        "        x = self.conv7(x)#no ReLU at 2nd Transition Block O/p(just 1x1, without a maxpool towards the end here)leading to GAP & beyond) \n",
        "        x = self.gap1(x) # Global Average Pool layer\n",
        "        x = x.view(-1, 10)#Num of classes = 10 (digits to be identified)\n",
        "        return F.log_softmax(x, dim=1)"
      ]
    },
    {
      "cell_type": "code",
      "execution_count": 3,
      "metadata": {
        "id": "mcyvd-QYFFmA",
        "outputId": "9c5c4084-c614-4976-c084-96dc8085a492",
        "colab": {
          "base_uri": "https://localhost:8080/"
        }
      },
      "outputs": [
        {
          "output_type": "stream",
          "name": "stdout",
          "text": [
            "----------------------------------------------------------------\n",
            "        Layer (type)               Output Shape         Param #\n",
            "================================================================\n",
            "            Conv2d-1           [-1, 16, 26, 26]             144\n",
            "       BatchNorm2d-2           [-1, 16, 26, 26]              32\n",
            "         Dropout2d-3           [-1, 16, 26, 26]               0\n",
            "            Conv2d-4           [-1, 16, 24, 24]           2,304\n",
            "       BatchNorm2d-5           [-1, 16, 24, 24]              32\n",
            "         Dropout2d-6           [-1, 16, 24, 24]               0\n",
            "            Conv2d-7           [-1, 16, 22, 22]           2,304\n",
            "       BatchNorm2d-8           [-1, 16, 22, 22]              32\n",
            "         Dropout2d-9           [-1, 16, 22, 22]               0\n",
            "        MaxPool2d-10           [-1, 16, 11, 11]               0\n",
            "           Conv2d-11           [-1, 16, 11, 11]             256\n",
            "      BatchNorm2d-12           [-1, 16, 11, 11]              32\n",
            "        Dropout2d-13           [-1, 16, 11, 11]               0\n",
            "           Conv2d-14             [-1, 24, 9, 9]           3,456\n",
            "      BatchNorm2d-15             [-1, 24, 9, 9]              48\n",
            "        Dropout2d-16             [-1, 24, 9, 9]               0\n",
            "           Conv2d-17             [-1, 24, 7, 7]           5,184\n",
            "      BatchNorm2d-18             [-1, 24, 7, 7]              48\n",
            "        Dropout2d-19             [-1, 24, 7, 7]               0\n",
            "           Conv2d-20             [-1, 10, 7, 7]             240\n",
            "        AvgPool2d-21             [-1, 10, 1, 1]               0\n",
            "================================================================\n",
            "Total params: 14,112\n",
            "Trainable params: 14,112\n",
            "Non-trainable params: 0\n",
            "----------------------------------------------------------------\n",
            "Input size (MB): 0.00\n",
            "Forward/backward pass size (MB): 0.77\n",
            "Params size (MB): 0.05\n",
            "Estimated Total Size (MB): 0.83\n",
            "----------------------------------------------------------------\n"
          ]
        }
      ],
      "source": [
        "use_cuda = torch.cuda.is_available()\n",
        "device = torch.device(\"cuda\" if use_cuda else \"cpu\")\n",
        "model4 = Net4().to(device)\n",
        "summary(model4, input_size=(1, 28, 28))"
      ]
    },
    {
      "cell_type": "code",
      "execution_count": 4,
      "metadata": {
        "id": "7CaxQu9HFFmA"
      },
      "outputs": [],
      "source": [
        "torch.manual_seed(1)\n",
        "batch_size = 64\n",
        "\n",
        "kwargs = {'num_workers': 1, 'pin_memory': True} if use_cuda else {}\n",
        "train_loader = torch.utils.data.DataLoader(\n",
        "    datasets.MNIST('../data', train=True, download=True,\n",
        "                    transform=transforms.Compose([\n",
        "                        transforms.ToTensor(),\n",
        "                        transforms.Normalize((0.1307,), (0.3081,))\n",
        "                    ])),\n",
        "    batch_size=batch_size, shuffle=True, **kwargs)\n",
        "test_loader = torch.utils.data.DataLoader(\n",
        "    datasets.MNIST('../data', train=False, transform=transforms.Compose([\n",
        "                        transforms.ToTensor(),\n",
        "                        transforms.Normalize((0.1307,), (0.3081,))\n",
        "                    ])),\n",
        "    batch_size=batch_size, shuffle=True, **kwargs)"
      ]
    },
    {
      "cell_type": "code",
      "source": [
        "def train(model, device, train_loader, optimizer, epoch):\n",
        "    model.train()\n",
        "    train_loss = 0\n",
        "    train_correct = 0\n",
        "    acc=0\n",
        "    pbar = tqdm(train_loader)\n",
        "    for batch_idx, (data, target) in enumerate(pbar):\n",
        "        data, target = data.to(device), target.to(device)\n",
        "        optimizer.zero_grad()\n",
        "        output = model(data)\n",
        "        loss = F.nll_loss(output, target)\n",
        "        pred_train = output.argmax(dim=1, keepdim=True)  # get the index of the max log-probability\n",
        "        train_correct += pred_train.eq(target.view_as(pred_train)).sum().item()\n",
        "        loss.backward()\n",
        "        optimizer.step()\n",
        "        pbar.set_description(desc=f'epoch={epoch} loss={loss.item()} batch_id={batch_idx}')\n",
        "    train_loss = loss.item()\n",
        "    acc = 100. * train_correct / len(train_loader.dataset)\n",
        "    print('\\nEpoch {}--Train set: Average loss: {:.4f}, Training Accuracy: {}/{} ({:.2f}%)\\n'.format(\n",
        "        epoch, train_loss, train_correct, len(train_loader.dataset),\n",
        "        100. * train_correct / len(train_loader.dataset)))\n",
        "    return acc, train_loss\n",
        "\n",
        "\n",
        "def test(model, device, test_loader, epoch):\n",
        "    model.eval()\n",
        "    test_loss = 0\n",
        "    correct = 0\n",
        "    acc=0\n",
        "    with torch.no_grad():\n",
        "        for data, target in test_loader:\n",
        "            data, target = data.to(device), target.to(device)\n",
        "            output = model(data)\n",
        "            test_loss += F.nll_loss(output, target, reduction='sum').item()  # sum up batch loss\n",
        "            pred = output.argmax(dim=1, keepdim=True)  # get the index of the max log-probability\n",
        "            correct += pred.eq(target.view_as(pred)).sum().item()\n",
        "    \n",
        "    test_loss /= len(test_loader.dataset)\n",
        "    acc = 100. * correct / len(test_loader.dataset)\n",
        "    print('\\nEpoch {}--Test set: Average loss: {:.4f}, Validation Accuracy: {}/{} ({:.2f}%)\\n'.format(\n",
        "        epoch, test_loss, correct, len(test_loader.dataset),\n",
        "        100. * correct / len(test_loader.dataset)))\n",
        "    return acc, test_loss"
      ],
      "metadata": {
        "id": "zC4xgqf-Q5J1"
      },
      "execution_count": 5,
      "outputs": []
    },
    {
      "cell_type": "code",
      "execution_count": 6,
      "metadata": {
        "scrolled": false,
        "id": "szqRILx5FFmA",
        "outputId": "ca8a267f-39b9-4ae2-89a6-9c87177b80e2",
        "colab": {
          "base_uri": "https://localhost:8080/"
        }
      },
      "outputs": [
        {
          "output_type": "stream",
          "name": "stderr",
          "text": [
            "epoch=1 loss=0.187565416097641 batch_id=937: 100%|██████████| 938/938 [00:22<00:00, 42.53it/s]"
          ]
        },
        {
          "output_type": "stream",
          "name": "stdout",
          "text": [
            "\n",
            "Epoch 1--Train set: Average loss: 0.1876, Training Accuracy: 50284/60000 (83.81%)\n",
            "\n"
          ]
        },
        {
          "output_type": "stream",
          "name": "stderr",
          "text": [
            "\n"
          ]
        },
        {
          "output_type": "stream",
          "name": "stdout",
          "text": [
            "\n",
            "Epoch 1--Test set: Average loss: 0.0839, Validation Accuracy: 9832/10000 (98.32%)\n",
            "\n"
          ]
        },
        {
          "output_type": "stream",
          "name": "stderr",
          "text": [
            "epoch=2 loss=0.12101959437131882 batch_id=937: 100%|██████████| 938/938 [00:22<00:00, 41.00it/s]"
          ]
        },
        {
          "output_type": "stream",
          "name": "stdout",
          "text": [
            "\n",
            "Epoch 2--Train set: Average loss: 0.1210, Training Accuracy: 57775/60000 (96.29%)\n",
            "\n"
          ]
        },
        {
          "output_type": "stream",
          "name": "stderr",
          "text": [
            "\n"
          ]
        },
        {
          "output_type": "stream",
          "name": "stdout",
          "text": [
            "\n",
            "Epoch 2--Test set: Average loss: 0.0470, Validation Accuracy: 9871/10000 (98.71%)\n",
            "\n"
          ]
        },
        {
          "output_type": "stream",
          "name": "stderr",
          "text": [
            "epoch=3 loss=0.03076682984828949 batch_id=937: 100%|██████████| 938/938 [00:23<00:00, 39.64it/s]"
          ]
        },
        {
          "output_type": "stream",
          "name": "stdout",
          "text": [
            "\n",
            "Epoch 3--Train set: Average loss: 0.0308, Training Accuracy: 58309/60000 (97.18%)\n",
            "\n"
          ]
        },
        {
          "output_type": "stream",
          "name": "stderr",
          "text": [
            "\n"
          ]
        },
        {
          "output_type": "stream",
          "name": "stdout",
          "text": [
            "\n",
            "Epoch 3--Test set: Average loss: 0.0399, Validation Accuracy: 9889/10000 (98.89%)\n",
            "\n"
          ]
        },
        {
          "output_type": "stream",
          "name": "stderr",
          "text": [
            "epoch=4 loss=0.282584011554718 batch_id=937: 100%|██████████| 938/938 [00:23<00:00, 40.55it/s]"
          ]
        },
        {
          "output_type": "stream",
          "name": "stdout",
          "text": [
            "\n",
            "Epoch 4--Train set: Average loss: 0.2826, Training Accuracy: 58587/60000 (97.64%)\n",
            "\n"
          ]
        },
        {
          "output_type": "stream",
          "name": "stderr",
          "text": [
            "\n"
          ]
        },
        {
          "output_type": "stream",
          "name": "stdout",
          "text": [
            "\n",
            "Epoch 4--Test set: Average loss: 0.0390, Validation Accuracy: 9879/10000 (98.79%)\n",
            "\n"
          ]
        },
        {
          "output_type": "stream",
          "name": "stderr",
          "text": [
            "epoch=5 loss=0.020755881443619728 batch_id=937: 100%|██████████| 938/938 [00:22<00:00, 41.76it/s]"
          ]
        },
        {
          "output_type": "stream",
          "name": "stdout",
          "text": [
            "\n",
            "Epoch 5--Train set: Average loss: 0.0208, Training Accuracy: 58740/60000 (97.90%)\n",
            "\n"
          ]
        },
        {
          "output_type": "stream",
          "name": "stderr",
          "text": [
            "\n"
          ]
        },
        {
          "output_type": "stream",
          "name": "stdout",
          "text": [
            "\n",
            "Epoch 5--Test set: Average loss: 0.0326, Validation Accuracy: 9907/10000 (99.07%)\n",
            "\n"
          ]
        },
        {
          "output_type": "stream",
          "name": "stderr",
          "text": [
            "epoch=6 loss=0.06976652890443802 batch_id=937: 100%|██████████| 938/938 [00:22<00:00, 41.77it/s]"
          ]
        },
        {
          "output_type": "stream",
          "name": "stdout",
          "text": [
            "\n",
            "Epoch 6--Train set: Average loss: 0.0698, Training Accuracy: 58850/60000 (98.08%)\n",
            "\n"
          ]
        },
        {
          "output_type": "stream",
          "name": "stderr",
          "text": [
            "\n"
          ]
        },
        {
          "output_type": "stream",
          "name": "stdout",
          "text": [
            "\n",
            "Epoch 6--Test set: Average loss: 0.0274, Validation Accuracy: 9920/10000 (99.20%)\n",
            "\n"
          ]
        },
        {
          "output_type": "stream",
          "name": "stderr",
          "text": [
            "epoch=7 loss=0.08803491294384003 batch_id=937: 100%|██████████| 938/938 [00:22<00:00, 41.69it/s]\n"
          ]
        },
        {
          "output_type": "stream",
          "name": "stdout",
          "text": [
            "\n",
            "Epoch 7--Train set: Average loss: 0.0880, Training Accuracy: 58882/60000 (98.14%)\n",
            "\n",
            "\n",
            "Epoch 7--Test set: Average loss: 0.0265, Validation Accuracy: 9926/10000 (99.26%)\n",
            "\n"
          ]
        },
        {
          "output_type": "stream",
          "name": "stderr",
          "text": [
            "epoch=8 loss=0.0430348739027977 batch_id=937: 100%|██████████| 938/938 [00:22<00:00, 41.55it/s]\n"
          ]
        },
        {
          "output_type": "stream",
          "name": "stdout",
          "text": [
            "\n",
            "Epoch 8--Train set: Average loss: 0.0430, Training Accuracy: 58953/60000 (98.25%)\n",
            "\n",
            "\n",
            "Epoch 8--Test set: Average loss: 0.0238, Validation Accuracy: 9932/10000 (99.32%)\n",
            "\n"
          ]
        },
        {
          "output_type": "stream",
          "name": "stderr",
          "text": [
            "epoch=9 loss=0.031756848096847534 batch_id=937: 100%|██████████| 938/938 [00:22<00:00, 41.58it/s]"
          ]
        },
        {
          "output_type": "stream",
          "name": "stdout",
          "text": [
            "\n",
            "Epoch 9--Train set: Average loss: 0.0318, Training Accuracy: 58997/60000 (98.33%)\n",
            "\n"
          ]
        },
        {
          "output_type": "stream",
          "name": "stderr",
          "text": [
            "\n"
          ]
        },
        {
          "output_type": "stream",
          "name": "stdout",
          "text": [
            "\n",
            "Epoch 9--Test set: Average loss: 0.0232, Validation Accuracy: 9929/10000 (99.29%)\n",
            "\n"
          ]
        },
        {
          "output_type": "stream",
          "name": "stderr",
          "text": [
            "epoch=10 loss=0.09574046730995178 batch_id=937: 100%|██████████| 938/938 [00:22<00:00, 41.72it/s]"
          ]
        },
        {
          "output_type": "stream",
          "name": "stdout",
          "text": [
            "\n",
            "Epoch 10--Train set: Average loss: 0.0957, Training Accuracy: 59032/60000 (98.39%)\n",
            "\n"
          ]
        },
        {
          "output_type": "stream",
          "name": "stderr",
          "text": [
            "\n"
          ]
        },
        {
          "output_type": "stream",
          "name": "stdout",
          "text": [
            "\n",
            "Epoch 10--Test set: Average loss: 0.0240, Validation Accuracy: 9928/10000 (99.28%)\n",
            "\n"
          ]
        },
        {
          "output_type": "stream",
          "name": "stderr",
          "text": [
            "epoch=11 loss=0.17473085224628448 batch_id=937: 100%|██████████| 938/938 [00:22<00:00, 41.86it/s]"
          ]
        },
        {
          "output_type": "stream",
          "name": "stdout",
          "text": [
            "\n",
            "Epoch 11--Train set: Average loss: 0.1747, Training Accuracy: 59113/60000 (98.52%)\n",
            "\n"
          ]
        },
        {
          "output_type": "stream",
          "name": "stderr",
          "text": [
            "\n"
          ]
        },
        {
          "output_type": "stream",
          "name": "stdout",
          "text": [
            "\n",
            "Epoch 11--Test set: Average loss: 0.0228, Validation Accuracy: 9930/10000 (99.30%)\n",
            "\n"
          ]
        },
        {
          "output_type": "stream",
          "name": "stderr",
          "text": [
            "epoch=12 loss=0.07037123292684555 batch_id=937: 100%|██████████| 938/938 [00:22<00:00, 41.58it/s]"
          ]
        },
        {
          "output_type": "stream",
          "name": "stdout",
          "text": [
            "\n",
            "Epoch 12--Train set: Average loss: 0.0704, Training Accuracy: 59151/60000 (98.58%)\n",
            "\n"
          ]
        },
        {
          "output_type": "stream",
          "name": "stderr",
          "text": [
            "\n"
          ]
        },
        {
          "output_type": "stream",
          "name": "stdout",
          "text": [
            "\n",
            "Epoch 12--Test set: Average loss: 0.0225, Validation Accuracy: 9923/10000 (99.23%)\n",
            "\n"
          ]
        },
        {
          "output_type": "stream",
          "name": "stderr",
          "text": [
            "epoch=13 loss=0.039098143577575684 batch_id=937: 100%|██████████| 938/938 [00:22<00:00, 41.04it/s]"
          ]
        },
        {
          "output_type": "stream",
          "name": "stdout",
          "text": [
            "\n",
            "Epoch 13--Train set: Average loss: 0.0391, Training Accuracy: 59137/60000 (98.56%)\n",
            "\n"
          ]
        },
        {
          "output_type": "stream",
          "name": "stderr",
          "text": [
            "\n"
          ]
        },
        {
          "output_type": "stream",
          "name": "stdout",
          "text": [
            "\n",
            "Epoch 13--Test set: Average loss: 0.0220, Validation Accuracy: 9936/10000 (99.36%)\n",
            "\n"
          ]
        },
        {
          "output_type": "stream",
          "name": "stderr",
          "text": [
            "epoch=14 loss=0.032910604029893875 batch_id=937: 100%|██████████| 938/938 [00:22<00:00, 41.39it/s]"
          ]
        },
        {
          "output_type": "stream",
          "name": "stdout",
          "text": [
            "\n",
            "Epoch 14--Train set: Average loss: 0.0329, Training Accuracy: 59177/60000 (98.63%)\n",
            "\n"
          ]
        },
        {
          "output_type": "stream",
          "name": "stderr",
          "text": [
            "\n"
          ]
        },
        {
          "output_type": "stream",
          "name": "stdout",
          "text": [
            "\n",
            "Epoch 14--Test set: Average loss: 0.0227, Validation Accuracy: 9931/10000 (99.31%)\n",
            "\n"
          ]
        },
        {
          "output_type": "stream",
          "name": "stderr",
          "text": [
            "epoch=15 loss=0.007501773536205292 batch_id=937: 100%|██████████| 938/938 [00:22<00:00, 41.25it/s]"
          ]
        },
        {
          "output_type": "stream",
          "name": "stdout",
          "text": [
            "\n",
            "Epoch 15--Train set: Average loss: 0.0075, Training Accuracy: 59190/60000 (98.65%)\n",
            "\n"
          ]
        },
        {
          "output_type": "stream",
          "name": "stderr",
          "text": [
            "\n"
          ]
        },
        {
          "output_type": "stream",
          "name": "stdout",
          "text": [
            "\n",
            "Epoch 15--Test set: Average loss: 0.0214, Validation Accuracy: 9932/10000 (99.32%)\n",
            "\n"
          ]
        },
        {
          "output_type": "stream",
          "name": "stderr",
          "text": [
            "epoch=16 loss=0.06674277782440186 batch_id=937: 100%|██████████| 938/938 [00:22<00:00, 41.57it/s]"
          ]
        },
        {
          "output_type": "stream",
          "name": "stdout",
          "text": [
            "\n",
            "Epoch 16--Train set: Average loss: 0.0667, Training Accuracy: 59238/60000 (98.73%)\n",
            "\n"
          ]
        },
        {
          "output_type": "stream",
          "name": "stderr",
          "text": [
            "\n"
          ]
        },
        {
          "output_type": "stream",
          "name": "stdout",
          "text": [
            "\n",
            "Epoch 16--Test set: Average loss: 0.0211, Validation Accuracy: 9936/10000 (99.36%)\n",
            "\n"
          ]
        },
        {
          "output_type": "stream",
          "name": "stderr",
          "text": [
            "epoch=17 loss=0.00403211172670126 batch_id=937: 100%|██████████| 938/938 [00:22<00:00, 41.20it/s]"
          ]
        },
        {
          "output_type": "stream",
          "name": "stdout",
          "text": [
            "\n",
            "Epoch 17--Train set: Average loss: 0.0040, Training Accuracy: 59226/60000 (98.71%)\n",
            "\n"
          ]
        },
        {
          "output_type": "stream",
          "name": "stderr",
          "text": [
            "\n"
          ]
        },
        {
          "output_type": "stream",
          "name": "stdout",
          "text": [
            "\n",
            "Epoch 17--Test set: Average loss: 0.0207, Validation Accuracy: 9932/10000 (99.32%)\n",
            "\n"
          ]
        },
        {
          "output_type": "stream",
          "name": "stderr",
          "text": [
            "epoch=18 loss=0.08990251272916794 batch_id=937: 100%|██████████| 938/938 [00:22<00:00, 41.25it/s]"
          ]
        },
        {
          "output_type": "stream",
          "name": "stdout",
          "text": [
            "\n",
            "Epoch 18--Train set: Average loss: 0.0899, Training Accuracy: 59221/60000 (98.70%)\n",
            "\n"
          ]
        },
        {
          "output_type": "stream",
          "name": "stderr",
          "text": [
            "\n"
          ]
        },
        {
          "output_type": "stream",
          "name": "stdout",
          "text": [
            "\n",
            "Epoch 18--Test set: Average loss: 0.0208, Validation Accuracy: 9930/10000 (99.30%)\n",
            "\n"
          ]
        },
        {
          "output_type": "stream",
          "name": "stderr",
          "text": [
            "epoch=19 loss=0.012829605489969254 batch_id=937: 100%|██████████| 938/938 [00:22<00:00, 41.48it/s]"
          ]
        },
        {
          "output_type": "stream",
          "name": "stdout",
          "text": [
            "\n",
            "Epoch 19--Train set: Average loss: 0.0128, Training Accuracy: 59267/60000 (98.78%)\n",
            "\n"
          ]
        },
        {
          "output_type": "stream",
          "name": "stderr",
          "text": [
            "\n"
          ]
        },
        {
          "output_type": "stream",
          "name": "stdout",
          "text": [
            "\n",
            "Epoch 19--Test set: Average loss: 0.0201, Validation Accuracy: 9941/10000 (99.41%)\n",
            "\n"
          ]
        },
        {
          "output_type": "stream",
          "name": "stderr",
          "text": [
            "epoch=20 loss=0.11119721829891205 batch_id=937: 100%|██████████| 938/938 [00:22<00:00, 41.77it/s]"
          ]
        },
        {
          "output_type": "stream",
          "name": "stdout",
          "text": [
            "\n",
            "Epoch 20--Train set: Average loss: 0.1112, Training Accuracy: 59255/60000 (98.76%)\n",
            "\n"
          ]
        },
        {
          "output_type": "stream",
          "name": "stderr",
          "text": [
            "\n"
          ]
        },
        {
          "output_type": "stream",
          "name": "stdout",
          "text": [
            "\n",
            "Epoch 20--Test set: Average loss: 0.0179, Validation Accuracy: 9942/10000 (99.42%)\n",
            "\n"
          ]
        }
      ],
      "source": [
        "model4 = Net4().to(device)\n",
        "optimizer = optim.SGD(model4.parameters(), lr=0.01, momentum=0.9)\n",
        "acc_history = []\n",
        "loss_history = []\n",
        "val_acc_history = []\n",
        "val_loss_history = []\n",
        "for epoch in range(1, 21):\n",
        "    acc, train_loss = train(model4, device, train_loader, optimizer, epoch)\n",
        "    val_acc, test_loss = test(model4, device, test_loader, epoch)\n",
        "    acc_history.append(acc)\n",
        "    loss_history.append(train_loss)\n",
        "    val_acc_history.append(val_acc)\n",
        "    val_loss_history.append(test_loss)"
      ]
    },
    {
      "cell_type": "code",
      "execution_count": 7,
      "metadata": {
        "id": "qpsqz4CpFFmB",
        "outputId": "bd287468-9dd5-442b-865e-0c5e2b070252",
        "colab": {
          "base_uri": "https://localhost:8080/",
          "height": 295
        }
      },
      "outputs": [
        {
          "output_type": "display_data",
          "data": {
            "text/plain": [
              "<Figure size 432x288 with 1 Axes>"
            ],
            "image/png": "[encoded data removed]"
          },
          "metadata": {
            "needs_background": "light"
          }
        }
      ],
      "source": [
        "_= plt.plot(acc_history)\n",
        "_= plt.plot(val_acc_history)\n",
        "_= plt.title('model accuracy')\n",
        "_= plt.ylabel('accuracy')\n",
        "_= plt.xlabel('epoch')\n",
        "_= plt.legend(['train', 'val'], loc='upper left')\n",
        "_= plt.show()"
      ]
    },
    {
      "cell_type": "code",
      "execution_count": 8,
      "metadata": {
        "id": "_BJUpaljFFmB",
        "outputId": "deb7c321-d112-4c04-d1c8-5943829fcb74",
        "colab": {
          "base_uri": "https://localhost:8080/",
          "height": 295
        }
      },
      "outputs": [
        {
          "output_type": "display_data",
          "data": {
            "text/plain": [
              "<Figure size 432x288 with 1 Axes>"
            ],
            "image/png": "[encoded data removed]"
          },
          "metadata": {
            "needs_background": "light"
          }
        }
      ],
      "source": [
        "_= plt.plot(loss_history)\n",
        "_= plt.plot(val_loss_history)\n",
        "_= plt.title('model loss')\n",
        "_= plt.ylabel('loss')\n",
        "_= plt.xlabel('epoch')\n",
        "_= plt.legend(['train', 'val'], loc='upper left')\n",
        "_= plt.show()"
      ]
    },
    {
      "cell_type": "markdown",
      "metadata": {
        "id": "6JCleFDVFFmB"
      },
      "source": [
        "- Total params:  14,112 (which is expected,given higher NW capacity) & the max validation accuracy reaches: ~99.42% \n",
        "\n",
        "- This case meets the required goal of getting an accuracy of 99.4% (appeared 2 times during training-epochs), the parameters: 14,112 < 20K (requirement) and came under 20 epochs."
      ]
    },
    {
      "cell_type": "code",
      "source": [],
      "metadata": {
        "id": "RLEXg4CKIfD7"
      },
      "execution_count": 39,
      "outputs": []
    }
  ],
  "metadata": {
    "accelerator": "GPU",
    "colab": {
      "provenance": []
    },
    "kernelspec": {
      "display_name": "Python 3",
      "language": "python",
      "name": "python3"
    },
    "language_info": {
      "codemirror_mode": {
        "name": "ipython",
        "version": 3
      },
      "file_extension": ".py",
      "mimetype": "text/x-python",
      "name": "python",
      "nbconvert_exporter": "python",
      "pygments_lexer": "ipython3",
      "version": "3.6.7"
    },
    "gpuClass": "standard",
    "widgets": {
      "application/vnd.jupyter.widget-state+json": {
        "553b108276e44f8587a2bd2e90e88185": {
          "model_module": "@jupyter-widgets/controls",
          "model_name": "HBoxModel",
          "model_module_version": "1.5.0",
          "state": {
            "_dom_classes": [],
            "_model_module": "@jupyter-widgets/controls",
            "_model_module_version": "1.5.0",
            "_model_name": "HBoxModel",
            "_view_count": null,
            "_view_module": "@jupyter-widgets/controls",
            "_view_module_version": "1.5.0",
            "_view_name": "HBoxView",
            "box_style": "",
            "children": [
              "IPY_MODEL_6ca5013f56d24dc89481e5f37c2d1b74",
              "IPY_MODEL_bcc78a290480406f888bc37340a52541",
              "IPY_MODEL_99e193cc7f154c5b8efee8fd4edfaf49"
            ],
            "layout": "IPY_MODEL_18995dd87bf7422688b02b148eea060f"
          }
        },
        "6ca5013f56d24dc89481e5f37c2d1b74": {
          "model_module": "@jupyter-widgets/controls",
          "model_name": "HTMLModel",
          "model_module_version": "1.5.0",
          "state": {
            "_dom_classes": [],
            "_model_module": "@jupyter-widgets/controls",
            "_model_module_version": "1.5.0",
            "_model_name": "HTMLModel",
            "_view_count": null,
            "_view_module": "@jupyter-widgets/controls",
            "_view_module_version": "1.5.0",
            "_view_name": "HTMLView",
            "description": "",
            "description_tooltip": null,
            "layout": "IPY_MODEL_f4c2933eaab84b5a9229f4e869eac876",
            "placeholder": "​",
            "style": "IPY_MODEL_730a43d737d94ba28ede2ee762aef4b1",
            "value": "100%"
          }
        },
        "bcc78a290480406f888bc37340a52541": {
          "model_module": "@jupyter-widgets/controls",
          "model_name": "FloatProgressModel",
          "model_module_version": "1.5.0",
          "state": {
            "_dom_classes": [],
            "_model_module": "@jupyter-widgets/controls",
            "_model_module_version": "1.5.0",
            "_model_name": "FloatProgressModel",
            "_view_count": null,
            "_view_module": "@jupyter-widgets/controls",
            "_view_module_version": "1.5.0",
            "_view_name": "ProgressView",
            "bar_style": "success",
            "description": "",
            "description_tooltip": null,
            "layout": "IPY_MODEL_1a1ce3f1750f47fb8fbb06f7c27a27ba",
            "max": 9912422,
            "min": 0,
            "orientation": "horizontal",
            "style": "IPY_MODEL_dcbfe5774ac040bdb10f42fa5cbba70b",
            "value": 9912422
          }
        },
        "99e193cc7f154c5b8efee8fd4edfaf49": {
          "model_module": "@jupyter-widgets/controls",
          "model_name": "HTMLModel",
          "model_module_version": "1.5.0",
          "state": {
            "_dom_classes": [],
            "_model_module": "@jupyter-widgets/controls",
            "_model_module_version": "1.5.0",
            "_model_name": "HTMLModel",
            "_view_count": null,
            "_view_module": "@jupyter-widgets/controls",
            "_view_module_version": "1.5.0",
            "_view_name": "HTMLView",
            "description": "",
            "description_tooltip": null,
            "layout": "IPY_MODEL_d08f045d221e4299937b4882d43ad173",
            "placeholder": "​",
            "style": "IPY_MODEL_b354613c59ba44a4a1e7a237fbc5f149",
            "value": " 9912422/9912422 [00:00&lt;00:00, 48263321.98it/s]"
          }
        },
        "18995dd87bf7422688b02b148eea060f": {
          "model_module": "@jupyter-widgets/base",
          "model_name": "LayoutModel",
          "model_module_version": "1.2.0",
          "state": {
            "_model_module": "@jupyter-widgets/base",
            "_model_module_version": "1.2.0",
            "_model_name": "LayoutModel",
            "_view_count": null,
            "_view_module": "@jupyter-widgets/base",
            "_view_module_version": "1.2.0",
            "_view_name": "LayoutView",
            "align_content": null,
            "align_items": null,
            "align_self": null,
            "border": null,
            "bottom": null,
            "display": null,
            "flex": null,
            "flex_flow": null,
            "grid_area": null,
            "grid_auto_columns": null,
            "grid_auto_flow": null,
            "grid_auto_rows": null,
            "grid_column": null,
            "grid_gap": null,
            "grid_row": null,
            "grid_template_areas": null,
            "grid_template_columns": null,
            "grid_template_rows": null,
            "height": null,
            "justify_content": null,
            "justify_items": null,
            "left": null,
            "margin": null,
            "max_height": null,
            "max_width": null,
            "min_height": null,
            "min_width": null,
            "object_fit": null,
            "object_position": null,
            "order": null,
            "overflow": null,
            "overflow_x": null,
            "overflow_y": null,
            "padding": null,
            "right": null,
            "top": null,
            "visibility": null,
            "width": null
          }
        },
        "f4c2933eaab84b5a9229f4e869eac876": {
          "model_module": "@jupyter-widgets/base",
          "model_name": "LayoutModel",
          "model_module_version": "1.2.0",
          "state": {
            "_model_module": "@jupyter-widgets/base",
            "_model_module_version": "1.2.0",
            "_model_name": "LayoutModel",
            "_view_count": null,
            "_view_module": "@jupyter-widgets/base",
            "_view_module_version": "1.2.0",
            "_view_name": "LayoutView",
            "align_content": null,
            "align_items": null,
            "align_self": null,
            "border": null,
            "bottom": null,
            "display": null,
            "flex": null,
            "flex_flow": null,
            "grid_area": null,
            "grid_auto_columns": null,
            "grid_auto_flow": null,
            "grid_auto_rows": null,
            "grid_column": null,
            "grid_gap": null,
            "grid_row": null,
            "grid_template_areas": null,
            "grid_template_columns": null,
            "grid_template_rows": null,
            "height": null,
            "justify_content": null,
            "justify_items": null,
            "left": null,
            "margin": null,
            "max_height": null,
            "max_width": null,
            "min_height": null,
            "min_width": null,
            "object_fit": null,
            "object_position": null,
            "order": null,
            "overflow": null,
            "overflow_x": null,
            "overflow_y": null,
            "padding": null,
            "right": null,
            "top": null,
            "visibility": null,
            "width": null
          }
        },
        "730a43d737d94ba28ede2ee762aef4b1": {
          "model_module": "@jupyter-widgets/controls",
          "model_name": "DescriptionStyleModel",
          "model_module_version": "1.5.0",
          "state": {
            "_model_module": "@jupyter-widgets/controls",
            "_model_module_version": "1.5.0",
            "_model_name": "DescriptionStyleModel",
            "_view_count": null,
            "_view_module": "@jupyter-widgets/base",
            "_view_module_version": "1.2.0",
            "_view_name": "StyleView",
            "description_width": ""
          }
        },
        "1a1ce3f1750f47fb8fbb06f7c27a27ba": {
          "model_module": "@jupyter-widgets/base",
          "model_name": "LayoutModel",
          "model_module_version": "1.2.0",
          "state": {
            "_model_module": "@jupyter-widgets/base",
            "_model_module_version": "1.2.0",
            "_model_name": "LayoutModel",
            "_view_count": null,
            "_view_module": "@jupyter-widgets/base",
            "_view_module_version": "1.2.0",
            "_view_name": "LayoutView",
            "align_content": null,
            "align_items": null,
            "align_self": null,
            "border": null,
            "bottom": null,
            "display": null,
            "flex": null,
            "flex_flow": null,
            "grid_area": null,
            "grid_auto_columns": null,
            "grid_auto_flow": null,
            "grid_auto_rows": null,
            "grid_column": null,
            "grid_gap": null,
            "grid_row": null,
            "grid_template_areas": null,
            "grid_template_columns": null,
            "grid_template_rows": null,
            "height": null,
            "justify_content": null,
            "justify_items": null,
            "left": null,
            "margin": null,
            "max_height": null,
            "max_width": null,
            "min_height": null,
            "min_width": null,
            "object_fit": null,
            "object_position": null,
            "order": null,
            "overflow": null,
            "overflow_x": null,
            "overflow_y": null,
            "padding": null,
            "right": null,
            "top": null,
            "visibility": null,
            "width": null
          }
        },
        "dcbfe5774ac040bdb10f42fa5cbba70b": {
          "model_module": "@jupyter-widgets/controls",
          "model_name": "ProgressStyleModel",
          "model_module_version": "1.5.0",
          "state": {
            "_model_module": "@jupyter-widgets/controls",
            "_model_module_version": "1.5.0",
            "_model_name": "ProgressStyleModel",
            "_view_count": null,
            "_view_module": "@jupyter-widgets/base",
            "_view_module_version": "1.2.0",
            "_view_name": "StyleView",
            "bar_color": null,
            "description_width": ""
          }
        },
        "d08f045d221e4299937b4882d43ad173": {
          "model_module": "@jupyter-widgets/base",
          "model_name": "LayoutModel",
          "model_module_version": "1.2.0",
          "state": {
            "_model_module": "@jupyter-widgets/base",
            "_model_module_version": "1.2.0",
            "_model_name": "LayoutModel",
            "_view_count": null,
            "_view_module": "@jupyter-widgets/base",
            "_view_module_version": "1.2.0",
            "_view_name": "LayoutView",
            "align_content": null,
            "align_items": null,
            "align_self": null,
            "border": null,
            "bottom": null,
            "display": null,
            "flex": null,
            "flex_flow": null,
            "grid_area": null,
            "grid_auto_columns": null,
            "grid_auto_flow": null,
            "grid_auto_rows": null,
            "grid_column": null,
            "grid_gap": null,
            "grid_row": null,
            "grid_template_areas": null,
            "grid_template_columns": null,
            "grid_template_rows": null,
            "height": null,
            "justify_content": null,
            "justify_items": null,
            "left": null,
            "margin": null,
            "max_height": null,
            "max_width": null,
            "min_height": null,
            "min_width": null,
            "object_fit": null,
            "object_position": null,
            "order": null,
            "overflow": null,
            "overflow_x": null,
            "overflow_y": null,
            "padding": null,
            "right": null,
            "top": null,
            "visibility": null,
            "width": null
          }
        },
        "b354613c59ba44a4a1e7a237fbc5f149": {
          "model_module": "@jupyter-widgets/controls",
          "model_name": "DescriptionStyleModel",
          "model_module_version": "1.5.0",
          "state": {
            "_model_module": "@jupyter-widgets/controls",
            "_model_module_version": "1.5.0",
            "_model_name": "DescriptionStyleModel",
            "_view_count": null,
            "_view_module": "@jupyter-widgets/base",
            "_view_module_version": "1.2.0",
            "_view_name": "StyleView",
            "description_width": ""
          }
        },
        "c93edfe52fe5469db2b35161e873a7cf": {
          "model_module": "@jupyter-widgets/controls",
          "model_name": "HBoxModel",
          "model_module_version": "1.5.0",
          "state": {
            "_dom_classes": [],
            "_model_module": "@jupyter-widgets/controls",
            "_model_module_version": "1.5.0",
            "_model_name": "HBoxModel",
            "_view_count": null,
            "_view_module": "@jupyter-widgets/controls",
            "_view_module_version": "1.5.0",
            "_view_name": "HBoxView",
            "box_style": "",
            "children": [
              "IPY_MODEL_c737f3c59f5e4da8aeec18a9df1a1546",
              "IPY_MODEL_e7b1edbaaa6942678cb29c5d505eb685",
              "IPY_MODEL_0c4b7d230e64439798d72f4795601f33"
            ],
            "layout": "IPY_MODEL_9ca3d4f4e05b41ff91a748737b0d46da"
          }
        },
        "c737f3c59f5e4da8aeec18a9df1a1546": {
          "model_module": "@jupyter-widgets/controls",
          "model_name": "HTMLModel",
          "model_module_version": "1.5.0",
          "state": {
            "_dom_classes": [],
            "_model_module": "@jupyter-widgets/controls",
            "_model_module_version": "1.5.0",
            "_model_name": "HTMLModel",
            "_view_count": null,
            "_view_module": "@jupyter-widgets/controls",
            "_view_module_version": "1.5.0",
            "_view_name": "HTMLView",
            "description": "",
            "description_tooltip": null,
            "layout": "IPY_MODEL_bad2ec348d2e4b47a0569137d090611e",
            "placeholder": "​",
            "style": "IPY_MODEL_f6d75ae767964b2e8e0a938a6a65bbe4",
            "value": "100%"
          }
        },
        "e7b1edbaaa6942678cb29c5d505eb685": {
          "model_module": "@jupyter-widgets/controls",
          "model_name": "FloatProgressModel",
          "model_module_version": "1.5.0",
          "state": {
            "_dom_classes": [],
            "_model_module": "@jupyter-widgets/controls",
            "_model_module_version": "1.5.0",
            "_model_name": "FloatProgressModel",
            "_view_count": null,
            "_view_module": "@jupyter-widgets/controls",
            "_view_module_version": "1.5.0",
            "_view_name": "ProgressView",
            "bar_style": "success",
            "description": "",
            "description_tooltip": null,
            "layout": "IPY_MODEL_cfcfe2722ef346dcb591d8f980a03116",
            "max": 28881,
            "min": 0,
            "orientation": "horizontal",
            "style": "IPY_MODEL_a67952912bd94ad5afd0c7c5ce6cb670",
            "value": 28881
          }
        },
        "0c4b7d230e64439798d72f4795601f33": {
          "model_module": "@jupyter-widgets/controls",
          "model_name": "HTMLModel",
          "model_module_version": "1.5.0",
          "state": {
            "_dom_classes": [],
            "_model_module": "@jupyter-widgets/controls",
            "_model_module_version": "1.5.0",
            "_model_name": "HTMLModel",
            "_view_count": null,
            "_view_module": "@jupyter-widgets/controls",
            "_view_module_version": "1.5.0",
            "_view_name": "HTMLView",
            "description": "",
            "description_tooltip": null,
            "layout": "IPY_MODEL_4ca535e14e604263a5d26b48a89b139c",
            "placeholder": "​",
            "style": "IPY_MODEL_581e7e74c98b480baf514472d021810b",
            "value": " 28881/28881 [00:00&lt;00:00, 1473562.68it/s]"
          }
        },
        "9ca3d4f4e05b41ff91a748737b0d46da": {
          "model_module": "@jupyter-widgets/base",
          "model_name": "LayoutModel",
          "model_module_version": "1.2.0",
          "state": {
            "_model_module": "@jupyter-widgets/base",
            "_model_module_version": "1.2.0",
            "_model_name": "LayoutModel",
            "_view_count": null,
            "_view_module": "@jupyter-widgets/base",
            "_view_module_version": "1.2.0",
            "_view_name": "LayoutView",
            "align_content": null,
            "align_items": null,
            "align_self": null,
            "border": null,
            "bottom": null,
            "display": null,
            "flex": null,
            "flex_flow": null,
            "grid_area": null,
            "grid_auto_columns": null,
            "grid_auto_flow": null,
            "grid_auto_rows": null,
            "grid_column": null,
            "grid_gap": null,
            "grid_row": null,
            "grid_template_areas": null,
            "grid_template_columns": null,
            "grid_template_rows": null,
            "height": null,
            "justify_content": null,
            "justify_items": null,
            "left": null,
            "margin": null,
            "max_height": null,
            "max_width": null,
            "min_height": null,
            "min_width": null,
            "object_fit": null,
            "object_position": null,
            "order": null,
            "overflow": null,
            "overflow_x": null,
            "overflow_y": null,
            "padding": null,
            "right": null,
            "top": null,
            "visibility": null,
            "width": null
          }
        },
        "bad2ec348d2e4b47a0569137d090611e": {
          "model_module": "@jupyter-widgets/base",
          "model_name": "LayoutModel",
          "model_module_version": "1.2.0",
          "state": {
            "_model_module": "@jupyter-widgets/base",
            "_model_module_version": "1.2.0",
            "_model_name": "LayoutModel",
            "_view_count": null,
            "_view_module": "@jupyter-widgets/base",
            "_view_module_version": "1.2.0",
            "_view_name": "LayoutView",
            "align_content": null,
            "align_items": null,
            "align_self": null,
            "border": null,
            "bottom": null,
            "display": null,
            "flex": null,
            "flex_flow": null,
            "grid_area": null,
            "grid_auto_columns": null,
            "grid_auto_flow": null,
            "grid_auto_rows": null,
            "grid_column": null,
            "grid_gap": null,
            "grid_row": null,
            "grid_template_areas": null,
            "grid_template_columns": null,
            "grid_template_rows": null,
            "height": null,
            "justify_content": null,
            "justify_items": null,
            "left": null,
            "margin": null,
            "max_height": null,
            "max_width": null,
            "min_height": null,
            "min_width": null,
            "object_fit": null,
            "object_position": null,
            "order": null,
            "overflow": null,
            "overflow_x": null,
            "overflow_y": null,
            "padding": null,
            "right": null,
            "top": null,
            "visibility": null,
            "width": null
          }
        },
        "f6d75ae767964b2e8e0a938a6a65bbe4": {
          "model_module": "@jupyter-widgets/controls",
          "model_name": "DescriptionStyleModel",
          "model_module_version": "1.5.0",
          "state": {
            "_model_module": "@jupyter-widgets/controls",
            "_model_module_version": "1.5.0",
            "_model_name": "DescriptionStyleModel",
            "_view_count": null,
            "_view_module": "@jupyter-widgets/base",
            "_view_module_version": "1.2.0",
            "_view_name": "StyleView",
            "description_width": ""
          }
        },
        "cfcfe2722ef346dcb591d8f980a03116": {
          "model_module": "@jupyter-widgets/base",
          "model_name": "LayoutModel",
          "model_module_version": "1.2.0",
          "state": {
            "_model_module": "@jupyter-widgets/base",
            "_model_module_version": "1.2.0",
            "_model_name": "LayoutModel",
            "_view_count": null,
            "_view_module": "@jupyter-widgets/base",
            "_view_module_version": "1.2.0",
            "_view_name": "LayoutView",
            "align_content": null,
            "align_items": null,
            "align_self": null,
            "border": null,
            "bottom": null,
            "display": null,
            "flex": null,
            "flex_flow": null,
            "grid_area": null,
            "grid_auto_columns": null,
            "grid_auto_flow": null,
            "grid_auto_rows": null,
            "grid_column": null,
            "grid_gap": null,
            "grid_row": null,
            "grid_template_areas": null,
            "grid_template_columns": null,
            "grid_template_rows": null,
            "height": null,
            "justify_content": null,
            "justify_items": null,
            "left": null,
            "margin": null,
            "max_height": null,
            "max_width": null,
            "min_height": null,
            "min_width": null,
            "object_fit": null,
            "object_position": null,
            "order": null,
            "overflow": null,
            "overflow_x": null,
            "overflow_y": null,
            "padding": null,
            "right": null,
            "top": null,
            "visibility": null,
            "width": null
          }
        },
        "a67952912bd94ad5afd0c7c5ce6cb670": {
          "model_module": "@jupyter-widgets/controls",
          "model_name": "ProgressStyleModel",
          "model_module_version": "1.5.0",
          "state": {
            "_model_module": "@jupyter-widgets/controls",
            "_model_module_version": "1.5.0",
            "_model_name": "ProgressStyleModel",
            "_view_count": null,
            "_view_module": "@jupyter-widgets/base",
            "_view_module_version": "1.2.0",
            "_view_name": "StyleView",
            "bar_color": null,
            "description_width": ""
          }
        },
        "4ca535e14e604263a5d26b48a89b139c": {
          "model_module": "@jupyter-widgets/base",
          "model_name": "LayoutModel",
          "model_module_version": "1.2.0",
          "state": {
            "_model_module": "@jupyter-widgets/base",
            "_model_module_version": "1.2.0",
            "_model_name": "LayoutModel",
            "_view_count": null,
            "_view_module": "@jupyter-widgets/base",
            "_view_module_version": "1.2.0",
            "_view_name": "LayoutView",
            "align_content": null,
            "align_items": null,
            "align_self": null,
            "border": null,
            "bottom": null,
            "display": null,
            "flex": null,
            "flex_flow": null,
            "grid_area": null,
            "grid_auto_columns": null,
            "grid_auto_flow": null,
            "grid_auto_rows": null,
            "grid_column": null,
            "grid_gap": null,
            "grid_row": null,
            "grid_template_areas": null,
            "grid_template_columns": null,
            "grid_template_rows": null,
            "height": null,
            "justify_content": null,
            "justify_items": null,
            "left": null,
            "margin": null,
            "max_height": null,
            "max_width": null,
            "min_height": null,
            "min_width": null,
            "object_fit": null,
            "object_position": null,
            "order": null,
            "overflow": null,
            "overflow_x": null,
            "overflow_y": null,
            "padding": null,
            "right": null,
            "top": null,
            "visibility": null,
            "width": null
          }
        },
        "581e7e74c98b480baf514472d021810b": {
          "model_module": "@jupyter-widgets/controls",
          "model_name": "DescriptionStyleModel",
          "model_module_version": "1.5.0",
          "state": {
            "_model_module": "@jupyter-widgets/controls",
            "_model_module_version": "1.5.0",
            "_model_name": "DescriptionStyleModel",
            "_view_count": null,
            "_view_module": "@jupyter-widgets/base",
            "_view_module_version": "1.2.0",
            "_view_name": "StyleView",
            "description_width": ""
          }
        },
        "6126751af50147ada326f5bca9bf2994": {
          "model_module": "@jupyter-widgets/controls",
          "model_name": "HBoxModel",
          "model_module_version": "1.5.0",
          "state": {
            "_dom_classes": [],
            "_model_module": "@jupyter-widgets/controls",
            "_model_module_version": "1.5.0",
            "_model_name": "HBoxModel",
            "_view_count": null,
            "_view_module": "@jupyter-widgets/controls",
            "_view_module_version": "1.5.0",
            "_view_name": "HBoxView",
            "box_style": "",
            "children": [
              "IPY_MODEL_9249f5317a634130be575058e283e750",
              "IPY_MODEL_8b761ef8f54047afb94dfae83a168af7",
              "IPY_MODEL_a7d72ff79f7a48eebc744444e9958836"
            ],
            "layout": "IPY_MODEL_26fa73a38b0f4e33b8ae749062a657bb"
          }
        },
        "9249f5317a634130be575058e283e750": {
          "model_module": "@jupyter-widgets/controls",
          "model_name": "HTMLModel",
          "model_module_version": "1.5.0",
          "state": {
            "_dom_classes": [],
            "_model_module": "@jupyter-widgets/controls",
            "_model_module_version": "1.5.0",
            "_model_name": "HTMLModel",
            "_view_count": null,
            "_view_module": "@jupyter-widgets/controls",
            "_view_module_version": "1.5.0",
            "_view_name": "HTMLView",
            "description": "",
            "description_tooltip": null,
            "layout": "IPY_MODEL_631700bd853e4edf86f982dc22eb771b",
            "placeholder": "​",
            "style": "IPY_MODEL_3275a44d29ea4a2586d659c03ba80b46",
            "value": "100%"
          }
        },
        "8b761ef8f54047afb94dfae83a168af7": {
          "model_module": "@jupyter-widgets/controls",
          "model_name": "FloatProgressModel",
          "model_module_version": "1.5.0",
          "state": {
            "_dom_classes": [],
            "_model_module": "@jupyter-widgets/controls",
            "_model_module_version": "1.5.0",
            "_model_name": "FloatProgressModel",
            "_view_count": null,
            "_view_module": "@jupyter-widgets/controls",
            "_view_module_version": "1.5.0",
            "_view_name": "ProgressView",
            "bar_style": "success",
            "description": "",
            "description_tooltip": null,
            "layout": "IPY_MODEL_e9b83de095ef46e183e591e2c091bfde",
            "max": 1648877,
            "min": 0,
            "orientation": "horizontal",
            "style": "IPY_MODEL_abaf250f0ef34f24abfd64c6ac20cf99",
            "value": 1648877
          }
        },
        "a7d72ff79f7a48eebc744444e9958836": {
          "model_module": "@jupyter-widgets/controls",
          "model_name": "HTMLModel",
          "model_module_version": "1.5.0",
          "state": {
            "_dom_classes": [],
            "_model_module": "@jupyter-widgets/controls",
            "_model_module_version": "1.5.0",
            "_model_name": "HTMLModel",
            "_view_count": null,
            "_view_module": "@jupyter-widgets/controls",
            "_view_module_version": "1.5.0",
            "_view_name": "HTMLView",
            "description": "",
            "description_tooltip": null,
            "layout": "IPY_MODEL_a2f836fb832241878bfe2cd1771c3686",
            "placeholder": "​",
            "style": "IPY_MODEL_54880932015542a99cc618abe6f9885e",
            "value": " 1648877/1648877 [00:00&lt;00:00, 39450172.54it/s]"
          }
        },
        "26fa73a38b0f4e33b8ae749062a657bb": {
          "model_module": "@jupyter-widgets/base",
          "model_name": "LayoutModel",
          "model_module_version": "1.2.0",
          "state": {
            "_model_module": "@jupyter-widgets/base",
            "_model_module_version": "1.2.0",
            "_model_name": "LayoutModel",
            "_view_count": null,
            "_view_module": "@jupyter-widgets/base",
            "_view_module_version": "1.2.0",
            "_view_name": "LayoutView",
            "align_content": null,
            "align_items": null,
            "align_self": null,
            "border": null,
            "bottom": null,
            "display": null,
            "flex": null,
            "flex_flow": null,
            "grid_area": null,
            "grid_auto_columns": null,
            "grid_auto_flow": null,
            "grid_auto_rows": null,
            "grid_column": null,
            "grid_gap": null,
            "grid_row": null,
            "grid_template_areas": null,
            "grid_template_columns": null,
            "grid_template_rows": null,
            "height": null,
            "justify_content": null,
            "justify_items": null,
            "left": null,
            "margin": null,
            "max_height": null,
            "max_width": null,
            "min_height": null,
            "min_width": null,
            "object_fit": null,
            "object_position": null,
            "order": null,
            "overflow": null,
            "overflow_x": null,
            "overflow_y": null,
            "padding": null,
            "right": null,
            "top": null,
            "visibility": null,
            "width": null
          }
        },
        "631700bd853e4edf86f982dc22eb771b": {
          "model_module": "@jupyter-widgets/base",
          "model_name": "LayoutModel",
          "model_module_version": "1.2.0",
          "state": {
            "_model_module": "@jupyter-widgets/base",
            "_model_module_version": "1.2.0",
            "_model_name": "LayoutModel",
            "_view_count": null,
            "_view_module": "@jupyter-widgets/base",
            "_view_module_version": "1.2.0",
            "_view_name": "LayoutView",
            "align_content": null,
            "align_items": null,
            "align_self": null,
            "border": null,
            "bottom": null,
            "display": null,
            "flex": null,
            "flex_flow": null,
            "grid_area": null,
            "grid_auto_columns": null,
            "grid_auto_flow": null,
            "grid_auto_rows": null,
            "grid_column": null,
            "grid_gap": null,
            "grid_row": null,
            "grid_template_areas": null,
            "grid_template_columns": null,
            "grid_template_rows": null,
            "height": null,
            "justify_content": null,
            "justify_items": null,
            "left": null,
            "margin": null,
            "max_height": null,
            "max_width": null,
            "min_height": null,
            "min_width": null,
            "object_fit": null,
            "object_position": null,
            "order": null,
            "overflow": null,
            "overflow_x": null,
            "overflow_y": null,
            "padding": null,
            "right": null,
            "top": null,
            "visibility": null,
            "width": null
          }
        },
        "3275a44d29ea4a2586d659c03ba80b46": {
          "model_module": "@jupyter-widgets/controls",
          "model_name": "DescriptionStyleModel",
          "model_module_version": "1.5.0",
          "state": {
            "_model_module": "@jupyter-widgets/controls",
            "_model_module_version": "1.5.0",
            "_model_name": "DescriptionStyleModel",
            "_view_count": null,
            "_view_module": "@jupyter-widgets/base",
            "_view_module_version": "1.2.0",
            "_view_name": "StyleView",
            "description_width": ""
          }
        },
        "e9b83de095ef46e183e591e2c091bfde": {
          "model_module": "@jupyter-widgets/base",
          "model_name": "LayoutModel",
          "model_module_version": "1.2.0",
          "state": {
            "_model_module": "@jupyter-widgets/base",
            "_model_module_version": "1.2.0",
            "_model_name": "LayoutModel",
            "_view_count": null,
            "_view_module": "@jupyter-widgets/base",
            "_view_module_version": "1.2.0",
            "_view_name": "LayoutView",
            "align_content": null,
            "align_items": null,
            "align_self": null,
            "border": null,
            "bottom": null,
            "display": null,
            "flex": null,
            "flex_flow": null,
            "grid_area": null,
            "grid_auto_columns": null,
            "grid_auto_flow": null,
            "grid_auto_rows": null,
            "grid_column": null,
            "grid_gap": null,
            "grid_row": null,
            "grid_template_areas": null,
            "grid_template_columns": null,
            "grid_template_rows": null,
            "height": null,
            "justify_content": null,
            "justify_items": null,
            "left": null,
            "margin": null,
            "max_height": null,
            "max_width": null,
            "min_height": null,
            "min_width": null,
            "object_fit": null,
            "object_position": null,
            "order": null,
            "overflow": null,
            "overflow_x": null,
            "overflow_y": null,
            "padding": null,
            "right": null,
            "top": null,
            "visibility": null,
            "width": null
          }
        },
        "abaf250f0ef34f24abfd64c6ac20cf99": {
          "model_module": "@jupyter-widgets/controls",
          "model_name": "ProgressStyleModel",
          "model_module_version": "1.5.0",
          "state": {
            "_model_module": "@jupyter-widgets/controls",
            "_model_module_version": "1.5.0",
            "_model_name": "ProgressStyleModel",
            "_view_count": null,
            "_view_module": "@jupyter-widgets/base",
            "_view_module_version": "1.2.0",
            "_view_name": "StyleView",
            "bar_color": null,
            "description_width": ""
          }
        },
        "a2f836fb832241878bfe2cd1771c3686": {
          "model_module": "@jupyter-widgets/base",
          "model_name": "LayoutModel",
          "model_module_version": "1.2.0",
          "state": {
            "_model_module": "@jupyter-widgets/base",
            "_model_module_version": "1.2.0",
            "_model_name": "LayoutModel",
            "_view_count": null,
            "_view_module": "@jupyter-widgets/base",
            "_view_module_version": "1.2.0",
            "_view_name": "LayoutView",
            "align_content": null,
            "align_items": null,
            "align_self": null,
            "border": null,
            "bottom": null,
            "display": null,
            "flex": null,
            "flex_flow": null,
            "grid_area": null,
            "grid_auto_columns": null,
            "grid_auto_flow": null,
            "grid_auto_rows": null,
            "grid_column": null,
            "grid_gap": null,
            "grid_row": null,
            "grid_template_areas": null,
            "grid_template_columns": null,
            "grid_template_rows": null,
            "height": null,
            "justify_content": null,
            "justify_items": null,
            "left": null,
            "margin": null,
            "max_height": null,
            "max_width": null,
            "min_height": null,
            "min_width": null,
            "object_fit": null,
            "object_position": null,
            "order": null,
            "overflow": null,
            "overflow_x": null,
            "overflow_y": null,
            "padding": null,
            "right": null,
            "top": null,
            "visibility": null,
            "width": null
          }
        },
        "54880932015542a99cc618abe6f9885e": {
          "model_module": "@jupyter-widgets/controls",
          "model_name": "DescriptionStyleModel",
          "model_module_version": "1.5.0",
          "state": {
            "_model_module": "@jupyter-widgets/controls",
            "_model_module_version": "1.5.0",
            "_model_name": "DescriptionStyleModel",
            "_view_count": null,
            "_view_module": "@jupyter-widgets/base",
            "_view_module_version": "1.2.0",
            "_view_name": "StyleView",
            "description_width": ""
          }
        },
        "d7aa4b68cc6e4e5588695a84aebcfd4d": {
          "model_module": "@jupyter-widgets/controls",
          "model_name": "HBoxModel",
          "model_module_version": "1.5.0",
          "state": {
            "_dom_classes": [],
            "_model_module": "@jupyter-widgets/controls",
            "_model_module_version": "1.5.0",
            "_model_name": "HBoxModel",
            "_view_count": null,
            "_view_module": "@jupyter-widgets/controls",
            "_view_module_version": "1.5.0",
            "_view_name": "HBoxView",
            "box_style": "",
            "children": [
              "IPY_MODEL_f5b3ce682e45472cb86e701969d52d26",
              "IPY_MODEL_1024621e9730477e97541c1f20fba119",
              "IPY_MODEL_e16fbe7cc2e24c2cbf4980ec6fe1a850"
            ],
            "layout": "IPY_MODEL_98a95c69a4344161bf18eea12f600cbb"
          }
        },
        "f5b3ce682e45472cb86e701969d52d26": {
          "model_module": "@jupyter-widgets/controls",
          "model_name": "HTMLModel",
          "model_module_version": "1.5.0",
          "state": {
            "_dom_classes": [],
            "_model_module": "@jupyter-widgets/controls",
            "_model_module_version": "1.5.0",
            "_model_name": "HTMLModel",
            "_view_count": null,
            "_view_module": "@jupyter-widgets/controls",
            "_view_module_version": "1.5.0",
            "_view_name": "HTMLView",
            "description": "",
            "description_tooltip": null,
            "layout": "IPY_MODEL_4e62c98cc0304fff919cd1cb84f3b546",
            "placeholder": "​",
            "style": "IPY_MODEL_4c15a274fd3c47768fa0d1f08ccd0ae9",
            "value": "100%"
          }
        },
        "1024621e9730477e97541c1f20fba119": {
          "model_module": "@jupyter-widgets/controls",
          "model_name": "FloatProgressModel",
          "model_module_version": "1.5.0",
          "state": {
            "_dom_classes": [],
            "_model_module": "@jupyter-widgets/controls",
            "_model_module_version": "1.5.0",
            "_model_name": "FloatProgressModel",
            "_view_count": null,
            "_view_module": "@jupyter-widgets/controls",
            "_view_module_version": "1.5.0",
            "_view_name": "ProgressView",
            "bar_style": "success",
            "description": "",
            "description_tooltip": null,
            "layout": "IPY_MODEL_69e1499d59a84fcd842edaeae17f43e2",
            "max": 4542,
            "min": 0,
            "orientation": "horizontal",
            "style": "IPY_MODEL_c36fabc4cf5042ed96060f4211a86407",
            "value": 4542
          }
        },
        "e16fbe7cc2e24c2cbf4980ec6fe1a850": {
          "model_module": "@jupyter-widgets/controls",
          "model_name": "HTMLModel",
          "model_module_version": "1.5.0",
          "state": {
            "_dom_classes": [],
            "_model_module": "@jupyter-widgets/controls",
            "_model_module_version": "1.5.0",
            "_model_name": "HTMLModel",
            "_view_count": null,
            "_view_module": "@jupyter-widgets/controls",
            "_view_module_version": "1.5.0",
            "_view_name": "HTMLView",
            "description": "",
            "description_tooltip": null,
            "layout": "IPY_MODEL_d33b3dd443bf4dc69e14232b27777519",
            "placeholder": "​",
            "style": "IPY_MODEL_a8e689f37d654bb08194fc3fd46980b6",
            "value": " 4542/4542 [00:00&lt;00:00, 283823.67it/s]"
          }
        },
        "98a95c69a4344161bf18eea12f600cbb": {
          "model_module": "@jupyter-widgets/base",
          "model_name": "LayoutModel",
          "model_module_version": "1.2.0",
          "state": {
            "_model_module": "@jupyter-widgets/base",
            "_model_module_version": "1.2.0",
            "_model_name": "LayoutModel",
            "_view_count": null,
            "_view_module": "@jupyter-widgets/base",
            "_view_module_version": "1.2.0",
            "_view_name": "LayoutView",
            "align_content": null,
            "align_items": null,
            "align_self": null,
            "border": null,
            "bottom": null,
            "display": null,
            "flex": null,
            "flex_flow": null,
            "grid_area": null,
            "grid_auto_columns": null,
            "grid_auto_flow": null,
            "grid_auto_rows": null,
            "grid_column": null,
            "grid_gap": null,
            "grid_row": null,
            "grid_template_areas": null,
            "grid_template_columns": null,
            "grid_template_rows": null,
            "height": null,
            "justify_content": null,
            "justify_items": null,
            "left": null,
            "margin": null,
            "max_height": null,
            "max_width": null,
            "min_height": null,
            "min_width": null,
            "object_fit": null,
            "object_position": null,
            "order": null,
            "overflow": null,
            "overflow_x": null,
            "overflow_y": null,
            "padding": null,
            "right": null,
            "top": null,
            "visibility": null,
            "width": null
          }
        },
        "4e62c98cc0304fff919cd1cb84f3b546": {
          "model_module": "@jupyter-widgets/base",
          "model_name": "LayoutModel",
          "model_module_version": "1.2.0",
          "state": {
            "_model_module": "@jupyter-widgets/base",
            "_model_module_version": "1.2.0",
            "_model_name": "LayoutModel",
            "_view_count": null,
            "_view_module": "@jupyter-widgets/base",
            "_view_module_version": "1.2.0",
            "_view_name": "LayoutView",
            "align_content": null,
            "align_items": null,
            "align_self": null,
            "border": null,
            "bottom": null,
            "display": null,
            "flex": null,
            "flex_flow": null,
            "grid_area": null,
            "grid_auto_columns": null,
            "grid_auto_flow": null,
            "grid_auto_rows": null,
            "grid_column": null,
            "grid_gap": null,
            "grid_row": null,
            "grid_template_areas": null,
            "grid_template_columns": null,
            "grid_template_rows": null,
            "height": null,
            "justify_content": null,
            "justify_items": null,
            "left": null,
            "margin": null,
            "max_height": null,
            "max_width": null,
            "min_height": null,
            "min_width": null,
            "object_fit": null,
            "object_position": null,
            "order": null,
            "overflow": null,
            "overflow_x": null,
            "overflow_y": null,
            "padding": null,
            "right": null,
            "top": null,
            "visibility": null,
            "width": null
          }
        },
        "4c15a274fd3c47768fa0d1f08ccd0ae9": {
          "model_module": "@jupyter-widgets/controls",
          "model_name": "DescriptionStyleModel",
          "model_module_version": "1.5.0",
          "state": {
            "_model_module": "@jupyter-widgets/controls",
            "_model_module_version": "1.5.0",
            "_model_name": "DescriptionStyleModel",
            "_view_count": null,
            "_view_module": "@jupyter-widgets/base",
            "_view_module_version": "1.2.0",
            "_view_name": "StyleView",
            "description_width": ""
          }
        },
        "69e1499d59a84fcd842edaeae17f43e2": {
          "model_module": "@jupyter-widgets/base",
          "model_name": "LayoutModel",
          "model_module_version": "1.2.0",
          "state": {
            "_model_module": "@jupyter-widgets/base",
            "_model_module_version": "1.2.0",
            "_model_name": "LayoutModel",
            "_view_count": null,
            "_view_module": "@jupyter-widgets/base",
            "_view_module_version": "1.2.0",
            "_view_name": "LayoutView",
            "align_content": null,
            "align_items": null,
            "align_self": null,
            "border": null,
            "bottom": null,
            "display": null,
            "flex": null,
            "flex_flow": null,
            "grid_area": null,
            "grid_auto_columns": null,
            "grid_auto_flow": null,
            "grid_auto_rows": null,
            "grid_column": null,
            "grid_gap": null,
            "grid_row": null,
            "grid_template_areas": null,
            "grid_template_columns": null,
            "grid_template_rows": null,
            "height": null,
            "justify_content": null,
            "justify_items": null,
            "left": null,
            "margin": null,
            "max_height": null,
            "max_width": null,
            "min_height": null,
            "min_width": null,
            "object_fit": null,
            "object_position": null,
            "order": null,
            "overflow": null,
            "overflow_x": null,
            "overflow_y": null,
            "padding": null,
            "right": null,
            "top": null,
            "visibility": null,
            "width": null
          }
        },
        "c36fabc4cf5042ed96060f4211a86407": {
          "model_module": "@jupyter-widgets/controls",
          "model_name": "ProgressStyleModel",
          "model_module_version": "1.5.0",
          "state": {
            "_model_module": "@jupyter-widgets/controls",
            "_model_module_version": "1.5.0",
            "_model_name": "ProgressStyleModel",
            "_view_count": null,
            "_view_module": "@jupyter-widgets/base",
            "_view_module_version": "1.2.0",
            "_view_name": "StyleView",
            "bar_color": null,
            "description_width": ""
          }
        },
        "d33b3dd443bf4dc69e14232b27777519": {
          "model_module": "@jupyter-widgets/base",
          "model_name": "LayoutModel",
          "model_module_version": "1.2.0",
          "state": {
            "_model_module": "@jupyter-widgets/base",
            "_model_module_version": "1.2.0",
            "_model_name": "LayoutModel",
            "_view_count": null,
            "_view_module": "@jupyter-widgets/base",
            "_view_module_version": "1.2.0",
            "_view_name": "LayoutView",
            "align_content": null,
            "align_items": null,
            "align_self": null,
            "border": null,
            "bottom": null,
            "display": null,
            "flex": null,
            "flex_flow": null,
            "grid_area": null,
            "grid_auto_columns": null,
            "grid_auto_flow": null,
            "grid_auto_rows": null,
            "grid_column": null,
            "grid_gap": null,
            "grid_row": null,
            "grid_template_areas": null,
            "grid_template_columns": null,
            "grid_template_rows": null,
            "height": null,
            "justify_content": null,
            "justify_items": null,
            "left": null,
            "margin": null,
            "max_height": null,
            "max_width": null,
            "min_height": null,
            "min_width": null,
            "object_fit": null,
            "object_position": null,
            "order": null,
            "overflow": null,
            "overflow_x": null,
            "overflow_y": null,
            "padding": null,
            "right": null,
            "top": null,
            "visibility": null,
            "width": null
          }
        },
        "a8e689f37d654bb08194fc3fd46980b6": {
          "model_module": "@jupyter-widgets/controls",
          "model_name": "DescriptionStyleModel",
          "model_module_version": "1.5.0",
          "state": {
            "_model_module": "@jupyter-widgets/controls",
            "_model_module_version": "1.5.0",
            "_model_name": "DescriptionStyleModel",
            "_view_count": null,
            "_view_module": "@jupyter-widgets/base",
            "_view_module_version": "1.2.0",
            "_view_name": "StyleView",
            "description_width": ""
          }
        }
      }
    }
  },
  "nbformat": 4,
  "nbformat_minor": 0
}